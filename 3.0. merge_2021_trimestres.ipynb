{
 "cells": [
  {
   "cell_type": "markdown",
   "source": "# Concatenamos todos los trimestres del año 2021",
   "metadata": {
    "cell_id": "c1b7b64db9e444219dbb19416e78bb4a",
    "tags": [],
    "deepnote_cell_type": "markdown",
    "deepnote_cell_height": 134
   }
  },
  {
   "cell_type": "code",
   "metadata": {
    "tags": [],
    "cell_id": "21195879-9fa1-4b6f-b2f7-fc9807596eff",
    "deepnote_to_be_reexecuted": false,
    "source_hash": "c76c7c51",
    "execution_start": 1649617500803,
    "execution_millis": 2,
    "deepnote_cell_type": "code",
    "deepnote_cell_height": 99
   },
   "source": "import pandas as pd\nimport numpy as np",
   "outputs": [],
   "execution_count": null
  },
  {
   "cell_type": "markdown",
   "source": "## Leemos todos los datasets de cada trimestre",
   "metadata": {
    "cell_id": "679d689501de43a68d28b2e2f3affe79",
    "tags": [],
    "deepnote_cell_type": "markdown",
    "deepnote_cell_height": 70
   }
  },
  {
   "cell_type": "code",
   "source": "df_2021_t1 = pd.read_csv('/work/enaho-personas-estudios-caracteristicas-data-science/ENAHO-DATA/ENAHO-2021/Enaho01A-2021-300-t1.csv')\ndf_2021_t2 = pd.read_csv('/work/enaho-personas-estudios-caracteristicas-data-science/ENAHO-DATA/ENAHO-2021/Enaho01A-2021-300-t2.csv')\ndf_2021_t3 = pd.read_csv('/work/enaho-personas-estudios-caracteristicas-data-science/ENAHO-DATA/ENAHO-2021/Enaho01A-2021-300-t3.csv')\ndf_2021_t4 = pd.read_csv('/work/enaho-personas-estudios-caracteristicas-data-science/ENAHO-DATA/ENAHO-2021/Enaho01A-2021-300-t4.csv')\n",
   "metadata": {
    "cell_id": "fdd4fa260c5347028fa397b7af25c411",
    "tags": [],
    "deepnote_to_be_reexecuted": false,
    "source_hash": "d5bb556d",
    "execution_start": 1649617588811,
    "execution_millis": 7043,
    "deepnote_cell_type": "code",
    "deepnote_cell_height": 248.796875
   },
   "outputs": [
    {
     "name": "stderr",
     "text": "/shared-libs/python3.7/py-core/lib/python3.7/site-packages/IPython/core/interactiveshell.py:3229: DtypeWarning: Columns (346) have mixed types.Specify dtype option on import or set low_memory=False.\n  interactivity=interactivity, compiler=compiler, result=result)\n/shared-libs/python3.7/py-core/lib/python3.7/site-packages/IPython/core/interactiveshell.py:3229: DtypeWarning: Columns (12,13,26,32,59) have mixed types.Specify dtype option on import or set low_memory=False.\n  interactivity=interactivity, compiler=compiler, result=result)\n",
     "output_type": "stream"
    }
   ],
   "execution_count": null
  },
  {
   "cell_type": "markdown",
   "source": "> Verificamos que tenga las mismas columnas que el año 2020",
   "metadata": {
    "cell_id": "75ccbd45b0ba4ee89b602728cd53a830",
    "tags": [],
    "deepnote_cell_type": "markdown",
    "deepnote_cell_height": 66.390625
   }
  },
  {
   "cell_type": "code",
   "source": "df_2021_t1 = df_2021_t1[['A�O', 'MES', 'CODPERSO', 'UBIGEO', 'DOMINIO', 'P207', 'P208A', 'P209', 'P300A', 'P301A', 'P301A1', 'P301B1', 'P301B3']]\ndf_2021_t1.head()",
   "metadata": {
    "cell_id": "0a9e3feb3a6a4b398a003235dab7b2da",
    "tags": [],
    "deepnote_to_be_reexecuted": false,
    "source_hash": "c948360b",
    "execution_start": 1649617693888,
    "execution_millis": 28,
    "deepnote_cell_type": "code",
    "deepnote_cell_height": 426.59375
   },
   "outputs": [
    {
     "output_type": "execute_result",
     "execution_count": 5,
     "data": {
      "application/vnd.deepnote.dataframe.v3+json": {
       "column_count": 13,
       "row_count": 5,
       "columns": [
        {
         "name": "A�O",
         "dtype": "int64",
         "stats": {
          "unique_count": 1,
          "nan_count": 0,
          "min": "2021",
          "max": "2021",
          "histogram": [
           {
            "bin_start": 2020.5,
            "bin_end": 2020.6,
            "count": 0
           },
           {
            "bin_start": 2020.6,
            "bin_end": 2020.7,
            "count": 0
           },
           {
            "bin_start": 2020.7,
            "bin_end": 2020.8,
            "count": 0
           },
           {
            "bin_start": 2020.8,
            "bin_end": 2020.9,
            "count": 0
           },
           {
            "bin_start": 2020.9,
            "bin_end": 2021,
            "count": 0
           },
           {
            "bin_start": 2021,
            "bin_end": 2021.1,
            "count": 5
           },
           {
            "bin_start": 2021.1,
            "bin_end": 2021.2,
            "count": 0
           },
           {
            "bin_start": 2021.2,
            "bin_end": 2021.3,
            "count": 0
           },
           {
            "bin_start": 2021.3,
            "bin_end": 2021.4,
            "count": 0
           },
           {
            "bin_start": 2021.4,
            "bin_end": 2021.5,
            "count": 0
           }
          ]
         }
        },
        {
         "name": "MES",
         "dtype": "int64",
         "stats": {
          "unique_count": 1,
          "nan_count": 0,
          "min": "1",
          "max": "1",
          "histogram": [
           {
            "bin_start": 0.5,
            "bin_end": 0.6,
            "count": 0
           },
           {
            "bin_start": 0.6,
            "bin_end": 0.7,
            "count": 0
           },
           {
            "bin_start": 0.7,
            "bin_end": 0.8,
            "count": 0
           },
           {
            "bin_start": 0.8,
            "bin_end": 0.9,
            "count": 0
           },
           {
            "bin_start": 0.9,
            "bin_end": 1,
            "count": 0
           },
           {
            "bin_start": 1,
            "bin_end": 1.1,
            "count": 5
           },
           {
            "bin_start": 1.1,
            "bin_end": 1.2000000000000002,
            "count": 0
           },
           {
            "bin_start": 1.2000000000000002,
            "bin_end": 1.3,
            "count": 0
           },
           {
            "bin_start": 1.3,
            "bin_end": 1.4,
            "count": 0
           },
           {
            "bin_start": 1.4,
            "bin_end": 1.5,
            "count": 0
           }
          ]
         }
        },
        {
         "name": "CODPERSO",
         "dtype": "int64",
         "stats": {
          "unique_count": 4,
          "nan_count": 0,
          "min": "1",
          "max": "4",
          "histogram": [
           {
            "bin_start": 1,
            "bin_end": 1.3,
            "count": 2
           },
           {
            "bin_start": 1.3,
            "bin_end": 1.6,
            "count": 0
           },
           {
            "bin_start": 1.6,
            "bin_end": 1.9,
            "count": 0
           },
           {
            "bin_start": 1.9,
            "bin_end": 2.2,
            "count": 1
           },
           {
            "bin_start": 2.2,
            "bin_end": 2.5,
            "count": 0
           },
           {
            "bin_start": 2.5,
            "bin_end": 2.8,
            "count": 0
           },
           {
            "bin_start": 2.8,
            "bin_end": 3.1,
            "count": 1
           },
           {
            "bin_start": 3.1,
            "bin_end": 3.4,
            "count": 0
           },
           {
            "bin_start": 3.4,
            "bin_end": 3.6999999999999997,
            "count": 0
           },
           {
            "bin_start": 3.6999999999999997,
            "bin_end": 4,
            "count": 1
           }
          ]
         }
        },
        {
         "name": "UBIGEO",
         "dtype": "int64",
         "stats": {
          "unique_count": 1,
          "nan_count": 0,
          "min": "10101",
          "max": "10101",
          "histogram": [
           {
            "bin_start": 10100.5,
            "bin_end": 10100.6,
            "count": 0
           },
           {
            "bin_start": 10100.6,
            "bin_end": 10100.7,
            "count": 0
           },
           {
            "bin_start": 10100.7,
            "bin_end": 10100.8,
            "count": 0
           },
           {
            "bin_start": 10100.8,
            "bin_end": 10100.9,
            "count": 0
           },
           {
            "bin_start": 10100.9,
            "bin_end": 10101,
            "count": 0
           },
           {
            "bin_start": 10101,
            "bin_end": 10101.1,
            "count": 5
           },
           {
            "bin_start": 10101.1,
            "bin_end": 10101.2,
            "count": 0
           },
           {
            "bin_start": 10101.2,
            "bin_end": 10101.3,
            "count": 0
           },
           {
            "bin_start": 10101.3,
            "bin_end": 10101.4,
            "count": 0
           },
           {
            "bin_start": 10101.4,
            "bin_end": 10101.5,
            "count": 0
           }
          ]
         }
        },
        {
         "name": "DOMINIO",
         "dtype": "int64",
         "stats": {
          "unique_count": 1,
          "nan_count": 0,
          "min": "4",
          "max": "4",
          "histogram": [
           {
            "bin_start": 3.5,
            "bin_end": 3.6,
            "count": 0
           },
           {
            "bin_start": 3.6,
            "bin_end": 3.7,
            "count": 0
           },
           {
            "bin_start": 3.7,
            "bin_end": 3.8,
            "count": 0
           },
           {
            "bin_start": 3.8,
            "bin_end": 3.9,
            "count": 0
           },
           {
            "bin_start": 3.9,
            "bin_end": 4,
            "count": 0
           },
           {
            "bin_start": 4,
            "bin_end": 4.1,
            "count": 5
           },
           {
            "bin_start": 4.1,
            "bin_end": 4.2,
            "count": 0
           },
           {
            "bin_start": 4.2,
            "bin_end": 4.3,
            "count": 0
           },
           {
            "bin_start": 4.3,
            "bin_end": 4.4,
            "count": 0
           },
           {
            "bin_start": 4.4,
            "bin_end": 4.5,
            "count": 0
           }
          ]
         }
        },
        {
         "name": "P207",
         "dtype": "int64",
         "stats": {
          "unique_count": 2,
          "nan_count": 0,
          "min": "1",
          "max": "2",
          "histogram": [
           {
            "bin_start": 1,
            "bin_end": 1.1,
            "count": 3
           },
           {
            "bin_start": 1.1,
            "bin_end": 1.2,
            "count": 0
           },
           {
            "bin_start": 1.2,
            "bin_end": 1.3,
            "count": 0
           },
           {
            "bin_start": 1.3,
            "bin_end": 1.4,
            "count": 0
           },
           {
            "bin_start": 1.4,
            "bin_end": 1.5,
            "count": 0
           },
           {
            "bin_start": 1.5,
            "bin_end": 1.6,
            "count": 0
           },
           {
            "bin_start": 1.6,
            "bin_end": 1.7000000000000002,
            "count": 0
           },
           {
            "bin_start": 1.7000000000000002,
            "bin_end": 1.8,
            "count": 0
           },
           {
            "bin_start": 1.8,
            "bin_end": 1.9,
            "count": 0
           },
           {
            "bin_start": 1.9,
            "bin_end": 2,
            "count": 2
           }
          ]
         }
        },
        {
         "name": "P208A",
         "dtype": "int64",
         "stats": {
          "unique_count": 5,
          "nan_count": 0,
          "min": "7",
          "max": "60",
          "histogram": [
           {
            "bin_start": 7,
            "bin_end": 12.3,
            "count": 1
           },
           {
            "bin_start": 12.3,
            "bin_end": 17.6,
            "count": 1
           },
           {
            "bin_start": 17.6,
            "bin_end": 22.9,
            "count": 0
           },
           {
            "bin_start": 22.9,
            "bin_end": 28.2,
            "count": 0
           },
           {
            "bin_start": 28.2,
            "bin_end": 33.5,
            "count": 0
           },
           {
            "bin_start": 33.5,
            "bin_end": 38.8,
            "count": 0
           },
           {
            "bin_start": 38.8,
            "bin_end": 44.1,
            "count": 1
           },
           {
            "bin_start": 44.1,
            "bin_end": 49.4,
            "count": 0
           },
           {
            "bin_start": 49.4,
            "bin_end": 54.699999999999996,
            "count": 0
           },
           {
            "bin_start": 54.699999999999996,
            "bin_end": 60,
            "count": 2
           }
          ]
         }
        },
        {
         "name": "P209",
         "dtype": "object",
         "stats": {
          "unique_count": 3,
          "nan_count": 0,
          "categories": [
           {
            "name": "1",
            "count": 3
           },
           {
            "name": "6",
            "count": 1
           },
           {
            "name": " ",
            "count": 1
           }
          ]
         }
        },
        {
         "name": "P300A",
         "dtype": "object",
         "stats": {
          "unique_count": 1,
          "nan_count": 0,
          "categories": [
           {
            "name": "4",
            "count": 5
           }
          ]
         }
        },
        {
         "name": "P301A",
         "dtype": "object",
         "stats": {
          "unique_count": 2,
          "nan_count": 0,
          "categories": [
           {
            "name": "6",
            "count": 4
           },
           {
            "name": "3",
            "count": 1
           }
          ]
         }
        },
        {
         "name": "P301A1",
         "dtype": "object",
         "stats": {
          "unique_count": 1,
          "nan_count": 0,
          "categories": [
           {
            "name": " ",
            "count": 5
           }
          ]
         }
        },
        {
         "name": "P301B1",
         "dtype": "object",
         "stats": {
          "unique_count": 1,
          "nan_count": 0,
          "categories": [
           {
            "name": " ",
            "count": 5
           }
          ]
         }
        },
        {
         "name": "P301B3",
         "dtype": "object",
         "stats": {
          "unique_count": 1,
          "nan_count": 0,
          "categories": [
           {
            "name": " ",
            "count": 5
           }
          ]
         }
        },
        {
         "name": "_deepnote_index_column",
         "dtype": "int64"
        }
       ],
       "rows": [
        {
         "A�O": 2021,
         "MES": 1,
         "CODPERSO": 1,
         "UBIGEO": 10101,
         "DOMINIO": 4,
         "P207": 1,
         "P208A": 60,
         "P209": "1",
         "P300A": "4",
         "P301A": "6",
         "P301A1": " ",
         "P301B1": " ",
         "P301B3": " ",
         "_deepnote_index_column": 0
        },
        {
         "A�O": 2021,
         "MES": 1,
         "CODPERSO": 2,
         "UBIGEO": 10101,
         "DOMINIO": 4,
         "P207": 2,
         "P208A": 43,
         "P209": "1",
         "P300A": "4",
         "P301A": "6",
         "P301A1": " ",
         "P301B1": " ",
         "P301B3": " ",
         "_deepnote_index_column": 1
        },
        {
         "A�O": 2021,
         "MES": 1,
         "CODPERSO": 3,
         "UBIGEO": 10101,
         "DOMINIO": 4,
         "P207": 2,
         "P208A": 17,
         "P209": "6",
         "P300A": "4",
         "P301A": "6",
         "P301A1": " ",
         "P301B1": " ",
         "P301B3": " ",
         "_deepnote_index_column": 2
        },
        {
         "A�O": 2021,
         "MES": 1,
         "CODPERSO": 4,
         "UBIGEO": 10101,
         "DOMINIO": 4,
         "P207": 1,
         "P208A": 7,
         "P209": " ",
         "P300A": "4",
         "P301A": "3",
         "P301A1": " ",
         "P301B1": " ",
         "P301B3": " ",
         "_deepnote_index_column": 3
        },
        {
         "A�O": 2021,
         "MES": 1,
         "CODPERSO": 1,
         "UBIGEO": 10101,
         "DOMINIO": 4,
         "P207": 1,
         "P208A": 57,
         "P209": "1",
         "P300A": "4",
         "P301A": "6",
         "P301A1": " ",
         "P301B1": " ",
         "P301B3": " ",
         "_deepnote_index_column": 4
        }
       ]
      },
      "text/plain": "    A�O  MES  CODPERSO  UBIGEO  DOMINIO  P207  P208A P209 P300A P301A P301A1  \\\n0  2021    1         1   10101        4     1     60    1     4     6          \n1  2021    1         2   10101        4     2     43    1     4     6          \n2  2021    1         3   10101        4     2     17    6     4     6          \n3  2021    1         4   10101        4     1      7          4     3          \n4  2021    1         1   10101        4     1     57    1     4     6          \n\n  P301B1 P301B3  \n0                \n1                \n2                \n3                \n4                ",
      "text/html": "<div>\n<style scoped>\n    .dataframe tbody tr th:only-of-type {\n        vertical-align: middle;\n    }\n\n    .dataframe tbody tr th {\n        vertical-align: top;\n    }\n\n    .dataframe thead th {\n        text-align: right;\n    }\n</style>\n<table border=\"1\" class=\"dataframe\">\n  <thead>\n    <tr style=\"text-align: right;\">\n      <th></th>\n      <th>A�O</th>\n      <th>MES</th>\n      <th>CODPERSO</th>\n      <th>UBIGEO</th>\n      <th>DOMINIO</th>\n      <th>P207</th>\n      <th>P208A</th>\n      <th>P209</th>\n      <th>P300A</th>\n      <th>P301A</th>\n      <th>P301A1</th>\n      <th>P301B1</th>\n      <th>P301B3</th>\n    </tr>\n  </thead>\n  <tbody>\n    <tr>\n      <th>0</th>\n      <td>2021</td>\n      <td>1</td>\n      <td>1</td>\n      <td>10101</td>\n      <td>4</td>\n      <td>1</td>\n      <td>60</td>\n      <td>1</td>\n      <td>4</td>\n      <td>6</td>\n      <td></td>\n      <td></td>\n      <td></td>\n    </tr>\n    <tr>\n      <th>1</th>\n      <td>2021</td>\n      <td>1</td>\n      <td>2</td>\n      <td>10101</td>\n      <td>4</td>\n      <td>2</td>\n      <td>43</td>\n      <td>1</td>\n      <td>4</td>\n      <td>6</td>\n      <td></td>\n      <td></td>\n      <td></td>\n    </tr>\n    <tr>\n      <th>2</th>\n      <td>2021</td>\n      <td>1</td>\n      <td>3</td>\n      <td>10101</td>\n      <td>4</td>\n      <td>2</td>\n      <td>17</td>\n      <td>6</td>\n      <td>4</td>\n      <td>6</td>\n      <td></td>\n      <td></td>\n      <td></td>\n    </tr>\n    <tr>\n      <th>3</th>\n      <td>2021</td>\n      <td>1</td>\n      <td>4</td>\n      <td>10101</td>\n      <td>4</td>\n      <td>1</td>\n      <td>7</td>\n      <td></td>\n      <td>4</td>\n      <td>3</td>\n      <td></td>\n      <td></td>\n      <td></td>\n    </tr>\n    <tr>\n      <th>4</th>\n      <td>2021</td>\n      <td>1</td>\n      <td>1</td>\n      <td>10101</td>\n      <td>4</td>\n      <td>1</td>\n      <td>57</td>\n      <td>1</td>\n      <td>4</td>\n      <td>6</td>\n      <td></td>\n      <td></td>\n      <td></td>\n    </tr>\n  </tbody>\n</table>\n</div>"
     },
     "metadata": {}
    }
   ],
   "execution_count": null
  },
  {
   "cell_type": "markdown",
   "source": "## Sacamos solo las columnas que nos interesa de todos los trimestres",
   "metadata": {
    "cell_id": "017366dce7204f82a99944093866a860",
    "tags": [],
    "deepnote_cell_type": "markdown",
    "deepnote_cell_height": 110
   }
  },
  {
   "cell_type": "code",
   "source": "df_2021_t2 = df_2021_t2[['A�O', 'MES', 'CODPERSO', 'UBIGEO', 'DOMINIO', 'P207', 'P208A', 'P209', 'P300A', 'P301A', 'P301A1', 'P301B1', 'P301B3']]\ndf_2021_t3 = df_2021_t3[['A�O', 'MES', 'CODPERSO', 'UBIGEO', 'DOMINIO', 'P207', 'P208A', 'P209', 'P300A', 'P301A', 'P301A1', 'P301B1', 'P301B3']]\ndf_2021_t4 = df_2021_t4[['A�O', 'MES', 'CODPERSO', 'UBIGEO', 'DOMINIO', 'P207', 'P208A', 'P209', 'P300A', 'P301A', 'P301A1', 'P301B1', 'P301B3']]",
   "metadata": {
    "cell_id": "a1a91a07cee44083b8b724c38bc25460",
    "tags": [],
    "deepnote_to_be_reexecuted": false,
    "source_hash": "dbc818f4",
    "execution_start": 1649617743372,
    "execution_millis": 4,
    "deepnote_cell_type": "code",
    "deepnote_cell_height": 117
   },
   "outputs": [],
   "execution_count": null
  },
  {
   "cell_type": "markdown",
   "source": "## Concatenamos todos los trimestres en 1 solo",
   "metadata": {
    "cell_id": "f5d9460248ca45e79a30f5c9dfe749ea",
    "tags": [],
    "deepnote_cell_type": "markdown",
    "deepnote_cell_height": 70
   }
  },
  {
   "cell_type": "code",
   "source": "# merge all\ndf_2021 = pd.concat([df_2021_t1, df_2021_t2])\ndf_2021 = pd.concat([df_2021, df_2021_t3])\ndf_2021 = pd.concat([df_2021, df_2021_t4])\ndf_2021",
   "metadata": {
    "cell_id": "9dcf3b2f6fbe4887bd240fc7f16f1674",
    "tags": [],
    "deepnote_to_be_reexecuted": false,
    "source_hash": "db1f629b",
    "execution_start": 1649617903893,
    "execution_millis": 65,
    "deepnote_cell_type": "code",
    "deepnote_cell_height": 685.59375
   },
   "outputs": [
    {
     "output_type": "execute_result",
     "execution_count": 7,
     "data": {
      "application/vnd.deepnote.dataframe.v3+json": {
       "column_count": 13,
       "row_count": 106580,
       "columns": [
        {
         "name": "A�O",
         "dtype": "int64"
        },
        {
         "name": "MES",
         "dtype": "int64"
        },
        {
         "name": "CODPERSO",
         "dtype": "int64"
        },
        {
         "name": "UBIGEO",
         "dtype": "int64"
        },
        {
         "name": "DOMINIO",
         "dtype": "int64"
        },
        {
         "name": "P207",
         "dtype": "int64"
        },
        {
         "name": "P208A",
         "dtype": "int64"
        },
        {
         "name": "P209",
         "dtype": "object"
        },
        {
         "name": "P300A",
         "dtype": "object"
        },
        {
         "name": "P301A",
         "dtype": "object"
        },
        {
         "name": "P301A1",
         "dtype": "object"
        },
        {
         "name": "P301B1",
         "dtype": "object"
        },
        {
         "name": "P301B3",
         "dtype": "object"
        },
        {
         "name": "_deepnote_index_column",
         "dtype": "int64"
        }
       ],
       "rows": [
        {
         "A�O": 2021,
         "MES": 1,
         "CODPERSO": 1,
         "UBIGEO": 10101,
         "DOMINIO": 4,
         "P207": 1,
         "P208A": 60,
         "P209": "1",
         "P300A": "4",
         "P301A": "6",
         "P301A1": " ",
         "P301B1": " ",
         "P301B3": " ",
         "_deepnote_index_column": 0
        },
        {
         "A�O": 2021,
         "MES": 1,
         "CODPERSO": 2,
         "UBIGEO": 10101,
         "DOMINIO": 4,
         "P207": 2,
         "P208A": 43,
         "P209": "1",
         "P300A": "4",
         "P301A": "6",
         "P301A1": " ",
         "P301B1": " ",
         "P301B3": " ",
         "_deepnote_index_column": 1
        },
        {
         "A�O": 2021,
         "MES": 1,
         "CODPERSO": 3,
         "UBIGEO": 10101,
         "DOMINIO": 4,
         "P207": 2,
         "P208A": 17,
         "P209": "6",
         "P300A": "4",
         "P301A": "6",
         "P301A1": " ",
         "P301B1": " ",
         "P301B3": " ",
         "_deepnote_index_column": 2
        },
        {
         "A�O": 2021,
         "MES": 1,
         "CODPERSO": 4,
         "UBIGEO": 10101,
         "DOMINIO": 4,
         "P207": 1,
         "P208A": 7,
         "P209": " ",
         "P300A": "4",
         "P301A": "3",
         "P301A1": " ",
         "P301B1": " ",
         "P301B3": " ",
         "_deepnote_index_column": 3
        },
        {
         "A�O": 2021,
         "MES": 1,
         "CODPERSO": 1,
         "UBIGEO": 10101,
         "DOMINIO": 4,
         "P207": 1,
         "P208A": 57,
         "P209": "1",
         "P300A": "4",
         "P301A": "6",
         "P301A1": " ",
         "P301B1": " ",
         "P301B3": " ",
         "_deepnote_index_column": 4
        },
        {
         "A�O": 2021,
         "MES": 1,
         "CODPERSO": 2,
         "UBIGEO": 10101,
         "DOMINIO": 4,
         "P207": 2,
         "P208A": 52,
         "P209": "1",
         "P300A": "4",
         "P301A": "5",
         "P301A1": " ",
         "P301B1": " ",
         "P301B3": " ",
         "_deepnote_index_column": 5
        },
        {
         "A�O": 2021,
         "MES": 1,
         "CODPERSO": 3,
         "UBIGEO": 10101,
         "DOMINIO": 4,
         "P207": 1,
         "P208A": 33,
         "P209": "6",
         "P300A": " ",
         "P301A": " ",
         "P301A1": " ",
         "P301B1": " ",
         "P301B3": " ",
         "_deepnote_index_column": 6
        },
        {
         "A�O": 2021,
         "MES": 1,
         "CODPERSO": 4,
         "UBIGEO": 10101,
         "DOMINIO": 4,
         "P207": 1,
         "P208A": 23,
         "P209": "6",
         "P300A": "4",
         "P301A": "6",
         "P301A1": "351016",
         "P301B1": "260000099",
         "P301B3": "14",
         "_deepnote_index_column": 7
        },
        {
         "A�O": 2021,
         "MES": 1,
         "CODPERSO": 5,
         "UBIGEO": 10101,
         "DOMINIO": 4,
         "P207": 1,
         "P208A": 34,
         "P209": "5",
         "P300A": "4",
         "P301A": "8",
         "P301A1": "524025",
         "P301B1": "241123041",
         "P301B3": "15",
         "_deepnote_index_column": 8
        },
        {
         "A�O": 2021,
         "MES": 1,
         "CODPERSO": 1,
         "UBIGEO": 10201,
         "DOMINIO": 7,
         "P207": 1,
         "P208A": 50,
         "P209": "1",
         "P300A": "4",
         "P301A": "7",
         "P301A1": "342025",
         "P301B1": "140745034",
         "P301B3": "1",
         "_deepnote_index_column": 9
        }
       ]
      },
      "text/plain": "        A�O  MES  CODPERSO  UBIGEO  DOMINIO  P207  P208A P209 P300A P301A  \\\n0      2021    1         1   10101        4     1     60    1     4     6   \n1      2021    1         2   10101        4     2     43    1     4     6   \n2      2021    1         3   10101        4     2     17    6     4     6   \n3      2021    1         4   10101        4     1      7          4     3   \n4      2021    1         1   10101        4     1     57    1     4     6   \n...     ...  ...       ...     ...      ...   ...    ...  ...   ...   ...   \n26584  2021   12         2  250104        7     2     38    1     6     6   \n26585  2021   12         3  250104        7     1     15    6     4     5   \n26586  2021   12         4  250104        7     2     12    6     4     4   \n26587  2021   12         5  250104        7     1      8          4     3   \n26588  2021   12         6  250104        7     2      4          4     1   \n\n      P301A1 P301B1 P301B3  \n0                           \n1                           \n2                           \n3                           \n4                           \n...      ...    ...    ...  \n26584                       \n26585                       \n26586                       \n26587                       \n26588                       \n\n[106580 rows x 13 columns]",
      "text/html": "<div>\n<style scoped>\n    .dataframe tbody tr th:only-of-type {\n        vertical-align: middle;\n    }\n\n    .dataframe tbody tr th {\n        vertical-align: top;\n    }\n\n    .dataframe thead th {\n        text-align: right;\n    }\n</style>\n<table border=\"1\" class=\"dataframe\">\n  <thead>\n    <tr style=\"text-align: right;\">\n      <th></th>\n      <th>A�O</th>\n      <th>MES</th>\n      <th>CODPERSO</th>\n      <th>UBIGEO</th>\n      <th>DOMINIO</th>\n      <th>P207</th>\n      <th>P208A</th>\n      <th>P209</th>\n      <th>P300A</th>\n      <th>P301A</th>\n      <th>P301A1</th>\n      <th>P301B1</th>\n      <th>P301B3</th>\n    </tr>\n  </thead>\n  <tbody>\n    <tr>\n      <th>0</th>\n      <td>2021</td>\n      <td>1</td>\n      <td>1</td>\n      <td>10101</td>\n      <td>4</td>\n      <td>1</td>\n      <td>60</td>\n      <td>1</td>\n      <td>4</td>\n      <td>6</td>\n      <td></td>\n      <td></td>\n      <td></td>\n    </tr>\n    <tr>\n      <th>1</th>\n      <td>2021</td>\n      <td>1</td>\n      <td>2</td>\n      <td>10101</td>\n      <td>4</td>\n      <td>2</td>\n      <td>43</td>\n      <td>1</td>\n      <td>4</td>\n      <td>6</td>\n      <td></td>\n      <td></td>\n      <td></td>\n    </tr>\n    <tr>\n      <th>2</th>\n      <td>2021</td>\n      <td>1</td>\n      <td>3</td>\n      <td>10101</td>\n      <td>4</td>\n      <td>2</td>\n      <td>17</td>\n      <td>6</td>\n      <td>4</td>\n      <td>6</td>\n      <td></td>\n      <td></td>\n      <td></td>\n    </tr>\n    <tr>\n      <th>3</th>\n      <td>2021</td>\n      <td>1</td>\n      <td>4</td>\n      <td>10101</td>\n      <td>4</td>\n      <td>1</td>\n      <td>7</td>\n      <td></td>\n      <td>4</td>\n      <td>3</td>\n      <td></td>\n      <td></td>\n      <td></td>\n    </tr>\n    <tr>\n      <th>4</th>\n      <td>2021</td>\n      <td>1</td>\n      <td>1</td>\n      <td>10101</td>\n      <td>4</td>\n      <td>1</td>\n      <td>57</td>\n      <td>1</td>\n      <td>4</td>\n      <td>6</td>\n      <td></td>\n      <td></td>\n      <td></td>\n    </tr>\n    <tr>\n      <th>...</th>\n      <td>...</td>\n      <td>...</td>\n      <td>...</td>\n      <td>...</td>\n      <td>...</td>\n      <td>...</td>\n      <td>...</td>\n      <td>...</td>\n      <td>...</td>\n      <td>...</td>\n      <td>...</td>\n      <td>...</td>\n      <td>...</td>\n    </tr>\n    <tr>\n      <th>26584</th>\n      <td>2021</td>\n      <td>12</td>\n      <td>2</td>\n      <td>250104</td>\n      <td>7</td>\n      <td>2</td>\n      <td>38</td>\n      <td>1</td>\n      <td>6</td>\n      <td>6</td>\n      <td></td>\n      <td></td>\n      <td></td>\n    </tr>\n    <tr>\n      <th>26585</th>\n      <td>2021</td>\n      <td>12</td>\n      <td>3</td>\n      <td>250104</td>\n      <td>7</td>\n      <td>1</td>\n      <td>15</td>\n      <td>6</td>\n      <td>4</td>\n      <td>5</td>\n      <td></td>\n      <td></td>\n      <td></td>\n    </tr>\n    <tr>\n      <th>26586</th>\n      <td>2021</td>\n      <td>12</td>\n      <td>4</td>\n      <td>250104</td>\n      <td>7</td>\n      <td>2</td>\n      <td>12</td>\n      <td>6</td>\n      <td>4</td>\n      <td>4</td>\n      <td></td>\n      <td></td>\n      <td></td>\n    </tr>\n    <tr>\n      <th>26587</th>\n      <td>2021</td>\n      <td>12</td>\n      <td>5</td>\n      <td>250104</td>\n      <td>7</td>\n      <td>1</td>\n      <td>8</td>\n      <td></td>\n      <td>4</td>\n      <td>3</td>\n      <td></td>\n      <td></td>\n      <td></td>\n    </tr>\n    <tr>\n      <th>26588</th>\n      <td>2021</td>\n      <td>12</td>\n      <td>6</td>\n      <td>250104</td>\n      <td>7</td>\n      <td>2</td>\n      <td>4</td>\n      <td></td>\n      <td>4</td>\n      <td>1</td>\n      <td></td>\n      <td></td>\n      <td></td>\n    </tr>\n  </tbody>\n</table>\n<p>106580 rows × 13 columns</p>\n</div>"
     },
     "metadata": {}
    }
   ],
   "execution_count": null
  },
  {
   "cell_type": "markdown",
   "source": "## Verificamos que se haya concatenado todo",
   "metadata": {
    "cell_id": "6fe7ff69ea6642c0bfa27b2a2ec46ed9",
    "tags": [],
    "deepnote_cell_type": "markdown",
    "deepnote_cell_height": 70
   }
  },
  {
   "cell_type": "code",
   "source": "df_2021_t1.shape[0] + df_2021_t2.shape[0] + df_2021_t3.shape[0] + df_2021_t4.shape[0]",
   "metadata": {
    "cell_id": "30d96d08e9ca471f91ce8fdb18988fd2",
    "tags": [],
    "deepnote_to_be_reexecuted": false,
    "source_hash": "1243f0d5",
    "execution_start": 1649617937673,
    "execution_millis": 4,
    "deepnote_cell_type": "code",
    "deepnote_cell_height": 118.1875,
    "deepnote_output_heights": [
     21.1875
    ]
   },
   "outputs": [
    {
     "output_type": "execute_result",
     "execution_count": 8,
     "data": {
      "text/plain": "106580"
     },
     "metadata": {}
    }
   ],
   "execution_count": null
  },
  {
   "cell_type": "code",
   "source": "df_2021.shape[0]",
   "metadata": {
    "cell_id": "b5b1e20da0204a4aaaedab5cec73d667",
    "tags": [],
    "deepnote_to_be_reexecuted": false,
    "source_hash": "63da32ef",
    "execution_start": 1649617955320,
    "execution_millis": 66,
    "deepnote_cell_type": "code",
    "deepnote_cell_height": 118.1875,
    "deepnote_output_heights": [
     21.1875
    ]
   },
   "outputs": [
    {
     "output_type": "execute_result",
     "execution_count": 9,
     "data": {
      "text/plain": "106580"
     },
     "metadata": {}
    }
   ],
   "execution_count": null
  },
  {
   "cell_type": "markdown",
   "source": "> Verificamos los indices para poder restaurar",
   "metadata": {
    "cell_id": "61a79b5cf82049c881f33eaa37ab288e",
    "tags": [],
    "deepnote_cell_type": "markdown",
    "deepnote_cell_height": 66.390625
   }
  },
  {
   "cell_type": "code",
   "source": "df_2021.tail()",
   "metadata": {
    "cell_id": "2dbfcf15e03c4e999cd2edcf18125bb2",
    "tags": [],
    "deepnote_to_be_reexecuted": false,
    "source_hash": "bddc56ab",
    "execution_start": 1649618072863,
    "execution_millis": 37,
    "deepnote_cell_type": "code",
    "deepnote_cell_height": 408.59375
   },
   "outputs": [
    {
     "output_type": "execute_result",
     "execution_count": 10,
     "data": {
      "application/vnd.deepnote.dataframe.v3+json": {
       "column_count": 13,
       "row_count": 5,
       "columns": [
        {
         "name": "A�O",
         "dtype": "int64",
         "stats": {
          "unique_count": 1,
          "nan_count": 0,
          "min": "2021",
          "max": "2021",
          "histogram": [
           {
            "bin_start": 2020.5,
            "bin_end": 2020.6,
            "count": 0
           },
           {
            "bin_start": 2020.6,
            "bin_end": 2020.7,
            "count": 0
           },
           {
            "bin_start": 2020.7,
            "bin_end": 2020.8,
            "count": 0
           },
           {
            "bin_start": 2020.8,
            "bin_end": 2020.9,
            "count": 0
           },
           {
            "bin_start": 2020.9,
            "bin_end": 2021,
            "count": 0
           },
           {
            "bin_start": 2021,
            "bin_end": 2021.1,
            "count": 5
           },
           {
            "bin_start": 2021.1,
            "bin_end": 2021.2,
            "count": 0
           },
           {
            "bin_start": 2021.2,
            "bin_end": 2021.3,
            "count": 0
           },
           {
            "bin_start": 2021.3,
            "bin_end": 2021.4,
            "count": 0
           },
           {
            "bin_start": 2021.4,
            "bin_end": 2021.5,
            "count": 0
           }
          ]
         }
        },
        {
         "name": "MES",
         "dtype": "int64",
         "stats": {
          "unique_count": 1,
          "nan_count": 0,
          "min": "12",
          "max": "12",
          "histogram": [
           {
            "bin_start": 11.5,
            "bin_end": 11.6,
            "count": 0
           },
           {
            "bin_start": 11.6,
            "bin_end": 11.7,
            "count": 0
           },
           {
            "bin_start": 11.7,
            "bin_end": 11.8,
            "count": 0
           },
           {
            "bin_start": 11.8,
            "bin_end": 11.9,
            "count": 0
           },
           {
            "bin_start": 11.9,
            "bin_end": 12,
            "count": 0
           },
           {
            "bin_start": 12,
            "bin_end": 12.1,
            "count": 5
           },
           {
            "bin_start": 12.1,
            "bin_end": 12.2,
            "count": 0
           },
           {
            "bin_start": 12.2,
            "bin_end": 12.3,
            "count": 0
           },
           {
            "bin_start": 12.3,
            "bin_end": 12.4,
            "count": 0
           },
           {
            "bin_start": 12.4,
            "bin_end": 12.5,
            "count": 0
           }
          ]
         }
        },
        {
         "name": "CODPERSO",
         "dtype": "int64",
         "stats": {
          "unique_count": 5,
          "nan_count": 0,
          "min": "2",
          "max": "6",
          "histogram": [
           {
            "bin_start": 2,
            "bin_end": 2.4,
            "count": 1
           },
           {
            "bin_start": 2.4,
            "bin_end": 2.8,
            "count": 0
           },
           {
            "bin_start": 2.8,
            "bin_end": 3.2,
            "count": 1
           },
           {
            "bin_start": 3.2,
            "bin_end": 3.6,
            "count": 0
           },
           {
            "bin_start": 3.6,
            "bin_end": 4,
            "count": 0
           },
           {
            "bin_start": 4,
            "bin_end": 4.4,
            "count": 1
           },
           {
            "bin_start": 4.4,
            "bin_end": 4.800000000000001,
            "count": 0
           },
           {
            "bin_start": 4.800000000000001,
            "bin_end": 5.2,
            "count": 1
           },
           {
            "bin_start": 5.2,
            "bin_end": 5.6,
            "count": 0
           },
           {
            "bin_start": 5.6,
            "bin_end": 6,
            "count": 1
           }
          ]
         }
        },
        {
         "name": "UBIGEO",
         "dtype": "int64",
         "stats": {
          "unique_count": 1,
          "nan_count": 0,
          "min": "250104",
          "max": "250104",
          "histogram": [
           {
            "bin_start": 250103.5,
            "bin_end": 250103.6,
            "count": 0
           },
           {
            "bin_start": 250103.6,
            "bin_end": 250103.7,
            "count": 0
           },
           {
            "bin_start": 250103.7,
            "bin_end": 250103.8,
            "count": 0
           },
           {
            "bin_start": 250103.8,
            "bin_end": 250103.9,
            "count": 0
           },
           {
            "bin_start": 250103.9,
            "bin_end": 250104,
            "count": 0
           },
           {
            "bin_start": 250104,
            "bin_end": 250104.1,
            "count": 5
           },
           {
            "bin_start": 250104.1,
            "bin_end": 250104.2,
            "count": 0
           },
           {
            "bin_start": 250104.2,
            "bin_end": 250104.3,
            "count": 0
           },
           {
            "bin_start": 250104.3,
            "bin_end": 250104.4,
            "count": 0
           },
           {
            "bin_start": 250104.4,
            "bin_end": 250104.5,
            "count": 0
           }
          ]
         }
        },
        {
         "name": "DOMINIO",
         "dtype": "int64",
         "stats": {
          "unique_count": 1,
          "nan_count": 0,
          "min": "7",
          "max": "7",
          "histogram": [
           {
            "bin_start": 6.5,
            "bin_end": 6.6,
            "count": 0
           },
           {
            "bin_start": 6.6,
            "bin_end": 6.7,
            "count": 0
           },
           {
            "bin_start": 6.7,
            "bin_end": 6.8,
            "count": 0
           },
           {
            "bin_start": 6.8,
            "bin_end": 6.9,
            "count": 0
           },
           {
            "bin_start": 6.9,
            "bin_end": 7,
            "count": 0
           },
           {
            "bin_start": 7,
            "bin_end": 7.1,
            "count": 5
           },
           {
            "bin_start": 7.1,
            "bin_end": 7.2,
            "count": 0
           },
           {
            "bin_start": 7.2,
            "bin_end": 7.3,
            "count": 0
           },
           {
            "bin_start": 7.3,
            "bin_end": 7.4,
            "count": 0
           },
           {
            "bin_start": 7.4,
            "bin_end": 7.5,
            "count": 0
           }
          ]
         }
        },
        {
         "name": "P207",
         "dtype": "int64",
         "stats": {
          "unique_count": 2,
          "nan_count": 0,
          "min": "1",
          "max": "2",
          "histogram": [
           {
            "bin_start": 1,
            "bin_end": 1.1,
            "count": 2
           },
           {
            "bin_start": 1.1,
            "bin_end": 1.2,
            "count": 0
           },
           {
            "bin_start": 1.2,
            "bin_end": 1.3,
            "count": 0
           },
           {
            "bin_start": 1.3,
            "bin_end": 1.4,
            "count": 0
           },
           {
            "bin_start": 1.4,
            "bin_end": 1.5,
            "count": 0
           },
           {
            "bin_start": 1.5,
            "bin_end": 1.6,
            "count": 0
           },
           {
            "bin_start": 1.6,
            "bin_end": 1.7000000000000002,
            "count": 0
           },
           {
            "bin_start": 1.7000000000000002,
            "bin_end": 1.8,
            "count": 0
           },
           {
            "bin_start": 1.8,
            "bin_end": 1.9,
            "count": 0
           },
           {
            "bin_start": 1.9,
            "bin_end": 2,
            "count": 3
           }
          ]
         }
        },
        {
         "name": "P208A",
         "dtype": "int64",
         "stats": {
          "unique_count": 5,
          "nan_count": 0,
          "min": "4",
          "max": "38",
          "histogram": [
           {
            "bin_start": 4,
            "bin_end": 7.4,
            "count": 1
           },
           {
            "bin_start": 7.4,
            "bin_end": 10.8,
            "count": 1
           },
           {
            "bin_start": 10.8,
            "bin_end": 14.2,
            "count": 1
           },
           {
            "bin_start": 14.2,
            "bin_end": 17.6,
            "count": 1
           },
           {
            "bin_start": 17.6,
            "bin_end": 21,
            "count": 0
           },
           {
            "bin_start": 21,
            "bin_end": 24.4,
            "count": 0
           },
           {
            "bin_start": 24.4,
            "bin_end": 27.8,
            "count": 0
           },
           {
            "bin_start": 27.8,
            "bin_end": 31.2,
            "count": 0
           },
           {
            "bin_start": 31.2,
            "bin_end": 34.599999999999994,
            "count": 0
           },
           {
            "bin_start": 34.599999999999994,
            "bin_end": 38,
            "count": 1
           }
          ]
         }
        },
        {
         "name": "P209",
         "dtype": "object",
         "stats": {
          "unique_count": 3,
          "nan_count": 0,
          "categories": [
           {
            "name": "6",
            "count": 2
           },
           {
            "name": " ",
            "count": 2
           },
           {
            "name": "1",
            "count": 1
           }
          ]
         }
        },
        {
         "name": "P300A",
         "dtype": "object",
         "stats": {
          "unique_count": 2,
          "nan_count": 0,
          "categories": [
           {
            "name": "4",
            "count": 4
           },
           {
            "name": "6",
            "count": 1
           }
          ]
         }
        },
        {
         "name": "P301A",
         "dtype": "object",
         "stats": {
          "unique_count": 5,
          "nan_count": 0,
          "categories": [
           {
            "name": "6",
            "count": 1
           },
           {
            "name": "5",
            "count": 1
           },
           {
            "name": "3 others",
            "count": 3
           }
          ]
         }
        },
        {
         "name": "P301A1",
         "dtype": "object",
         "stats": {
          "unique_count": 1,
          "nan_count": 0,
          "categories": [
           {
            "name": " ",
            "count": 5
           }
          ]
         }
        },
        {
         "name": "P301B1",
         "dtype": "object",
         "stats": {
          "unique_count": 1,
          "nan_count": 0,
          "categories": [
           {
            "name": " ",
            "count": 5
           }
          ]
         }
        },
        {
         "name": "P301B3",
         "dtype": "object",
         "stats": {
          "unique_count": 1,
          "nan_count": 0,
          "categories": [
           {
            "name": " ",
            "count": 5
           }
          ]
         }
        },
        {
         "name": "_deepnote_index_column",
         "dtype": "int64"
        }
       ],
       "rows": [
        {
         "A�O": 2021,
         "MES": 12,
         "CODPERSO": 2,
         "UBIGEO": 250104,
         "DOMINIO": 7,
         "P207": 2,
         "P208A": 38,
         "P209": "1",
         "P300A": "6",
         "P301A": "6",
         "P301A1": " ",
         "P301B1": " ",
         "P301B3": " ",
         "_deepnote_index_column": 26584
        },
        {
         "A�O": 2021,
         "MES": 12,
         "CODPERSO": 3,
         "UBIGEO": 250104,
         "DOMINIO": 7,
         "P207": 1,
         "P208A": 15,
         "P209": "6",
         "P300A": "4",
         "P301A": "5",
         "P301A1": " ",
         "P301B1": " ",
         "P301B3": " ",
         "_deepnote_index_column": 26585
        },
        {
         "A�O": 2021,
         "MES": 12,
         "CODPERSO": 4,
         "UBIGEO": 250104,
         "DOMINIO": 7,
         "P207": 2,
         "P208A": 12,
         "P209": "6",
         "P300A": "4",
         "P301A": "4",
         "P301A1": " ",
         "P301B1": " ",
         "P301B3": " ",
         "_deepnote_index_column": 26586
        },
        {
         "A�O": 2021,
         "MES": 12,
         "CODPERSO": 5,
         "UBIGEO": 250104,
         "DOMINIO": 7,
         "P207": 1,
         "P208A": 8,
         "P209": " ",
         "P300A": "4",
         "P301A": "3",
         "P301A1": " ",
         "P301B1": " ",
         "P301B3": " ",
         "_deepnote_index_column": 26587
        },
        {
         "A�O": 2021,
         "MES": 12,
         "CODPERSO": 6,
         "UBIGEO": 250104,
         "DOMINIO": 7,
         "P207": 2,
         "P208A": 4,
         "P209": " ",
         "P300A": "4",
         "P301A": "1",
         "P301A1": " ",
         "P301B1": " ",
         "P301B3": " ",
         "_deepnote_index_column": 26588
        }
       ]
      },
      "text/plain": "        A�O  MES  CODPERSO  UBIGEO  DOMINIO  P207  P208A P209 P300A P301A  \\\n26584  2021   12         2  250104        7     2     38    1     6     6   \n26585  2021   12         3  250104        7     1     15    6     4     5   \n26586  2021   12         4  250104        7     2     12    6     4     4   \n26587  2021   12         5  250104        7     1      8          4     3   \n26588  2021   12         6  250104        7     2      4          4     1   \n\n      P301A1 P301B1 P301B3  \n26584                       \n26585                       \n26586                       \n26587                       \n26588                       ",
      "text/html": "<div>\n<style scoped>\n    .dataframe tbody tr th:only-of-type {\n        vertical-align: middle;\n    }\n\n    .dataframe tbody tr th {\n        vertical-align: top;\n    }\n\n    .dataframe thead th {\n        text-align: right;\n    }\n</style>\n<table border=\"1\" class=\"dataframe\">\n  <thead>\n    <tr style=\"text-align: right;\">\n      <th></th>\n      <th>A�O</th>\n      <th>MES</th>\n      <th>CODPERSO</th>\n      <th>UBIGEO</th>\n      <th>DOMINIO</th>\n      <th>P207</th>\n      <th>P208A</th>\n      <th>P209</th>\n      <th>P300A</th>\n      <th>P301A</th>\n      <th>P301A1</th>\n      <th>P301B1</th>\n      <th>P301B3</th>\n    </tr>\n  </thead>\n  <tbody>\n    <tr>\n      <th>26584</th>\n      <td>2021</td>\n      <td>12</td>\n      <td>2</td>\n      <td>250104</td>\n      <td>7</td>\n      <td>2</td>\n      <td>38</td>\n      <td>1</td>\n      <td>6</td>\n      <td>6</td>\n      <td></td>\n      <td></td>\n      <td></td>\n    </tr>\n    <tr>\n      <th>26585</th>\n      <td>2021</td>\n      <td>12</td>\n      <td>3</td>\n      <td>250104</td>\n      <td>7</td>\n      <td>1</td>\n      <td>15</td>\n      <td>6</td>\n      <td>4</td>\n      <td>5</td>\n      <td></td>\n      <td></td>\n      <td></td>\n    </tr>\n    <tr>\n      <th>26586</th>\n      <td>2021</td>\n      <td>12</td>\n      <td>4</td>\n      <td>250104</td>\n      <td>7</td>\n      <td>2</td>\n      <td>12</td>\n      <td>6</td>\n      <td>4</td>\n      <td>4</td>\n      <td></td>\n      <td></td>\n      <td></td>\n    </tr>\n    <tr>\n      <th>26587</th>\n      <td>2021</td>\n      <td>12</td>\n      <td>5</td>\n      <td>250104</td>\n      <td>7</td>\n      <td>1</td>\n      <td>8</td>\n      <td></td>\n      <td>4</td>\n      <td>3</td>\n      <td></td>\n      <td></td>\n      <td></td>\n    </tr>\n    <tr>\n      <th>26588</th>\n      <td>2021</td>\n      <td>12</td>\n      <td>6</td>\n      <td>250104</td>\n      <td>7</td>\n      <td>2</td>\n      <td>4</td>\n      <td></td>\n      <td>4</td>\n      <td>1</td>\n      <td></td>\n      <td></td>\n      <td></td>\n    </tr>\n  </tbody>\n</table>\n</div>"
     },
     "metadata": {}
    }
   ],
   "execution_count": null
  },
  {
   "cell_type": "markdown",
   "source": "> Restauramos los indices fácilmente",
   "metadata": {
    "cell_id": "e78886a4658046e7bbb3929edfe892e5",
    "tags": [],
    "deepnote_cell_type": "markdown",
    "deepnote_cell_height": 66.390625
   }
  },
  {
   "cell_type": "code",
   "source": "df_2021.reset_index(drop = True, inplace = True)\ndf_2021.tail()",
   "metadata": {
    "cell_id": "6bba437b136946d6863e590f42e8c31e",
    "tags": [],
    "deepnote_to_be_reexecuted": false,
    "source_hash": "6b570f05",
    "execution_start": 1649618097796,
    "execution_millis": 5,
    "deepnote_cell_type": "code",
    "deepnote_cell_height": 426.59375
   },
   "outputs": [
    {
     "output_type": "execute_result",
     "execution_count": 11,
     "data": {
      "application/vnd.deepnote.dataframe.v3+json": {
       "column_count": 13,
       "row_count": 5,
       "columns": [
        {
         "name": "A�O",
         "dtype": "int64",
         "stats": {
          "unique_count": 1,
          "nan_count": 0,
          "min": "2021",
          "max": "2021",
          "histogram": [
           {
            "bin_start": 2020.5,
            "bin_end": 2020.6,
            "count": 0
           },
           {
            "bin_start": 2020.6,
            "bin_end": 2020.7,
            "count": 0
           },
           {
            "bin_start": 2020.7,
            "bin_end": 2020.8,
            "count": 0
           },
           {
            "bin_start": 2020.8,
            "bin_end": 2020.9,
            "count": 0
           },
           {
            "bin_start": 2020.9,
            "bin_end": 2021,
            "count": 0
           },
           {
            "bin_start": 2021,
            "bin_end": 2021.1,
            "count": 5
           },
           {
            "bin_start": 2021.1,
            "bin_end": 2021.2,
            "count": 0
           },
           {
            "bin_start": 2021.2,
            "bin_end": 2021.3,
            "count": 0
           },
           {
            "bin_start": 2021.3,
            "bin_end": 2021.4,
            "count": 0
           },
           {
            "bin_start": 2021.4,
            "bin_end": 2021.5,
            "count": 0
           }
          ]
         }
        },
        {
         "name": "MES",
         "dtype": "int64",
         "stats": {
          "unique_count": 1,
          "nan_count": 0,
          "min": "12",
          "max": "12",
          "histogram": [
           {
            "bin_start": 11.5,
            "bin_end": 11.6,
            "count": 0
           },
           {
            "bin_start": 11.6,
            "bin_end": 11.7,
            "count": 0
           },
           {
            "bin_start": 11.7,
            "bin_end": 11.8,
            "count": 0
           },
           {
            "bin_start": 11.8,
            "bin_end": 11.9,
            "count": 0
           },
           {
            "bin_start": 11.9,
            "bin_end": 12,
            "count": 0
           },
           {
            "bin_start": 12,
            "bin_end": 12.1,
            "count": 5
           },
           {
            "bin_start": 12.1,
            "bin_end": 12.2,
            "count": 0
           },
           {
            "bin_start": 12.2,
            "bin_end": 12.3,
            "count": 0
           },
           {
            "bin_start": 12.3,
            "bin_end": 12.4,
            "count": 0
           },
           {
            "bin_start": 12.4,
            "bin_end": 12.5,
            "count": 0
           }
          ]
         }
        },
        {
         "name": "CODPERSO",
         "dtype": "int64",
         "stats": {
          "unique_count": 5,
          "nan_count": 0,
          "min": "2",
          "max": "6",
          "histogram": [
           {
            "bin_start": 2,
            "bin_end": 2.4,
            "count": 1
           },
           {
            "bin_start": 2.4,
            "bin_end": 2.8,
            "count": 0
           },
           {
            "bin_start": 2.8,
            "bin_end": 3.2,
            "count": 1
           },
           {
            "bin_start": 3.2,
            "bin_end": 3.6,
            "count": 0
           },
           {
            "bin_start": 3.6,
            "bin_end": 4,
            "count": 0
           },
           {
            "bin_start": 4,
            "bin_end": 4.4,
            "count": 1
           },
           {
            "bin_start": 4.4,
            "bin_end": 4.800000000000001,
            "count": 0
           },
           {
            "bin_start": 4.800000000000001,
            "bin_end": 5.2,
            "count": 1
           },
           {
            "bin_start": 5.2,
            "bin_end": 5.6,
            "count": 0
           },
           {
            "bin_start": 5.6,
            "bin_end": 6,
            "count": 1
           }
          ]
         }
        },
        {
         "name": "UBIGEO",
         "dtype": "int64",
         "stats": {
          "unique_count": 1,
          "nan_count": 0,
          "min": "250104",
          "max": "250104",
          "histogram": [
           {
            "bin_start": 250103.5,
            "bin_end": 250103.6,
            "count": 0
           },
           {
            "bin_start": 250103.6,
            "bin_end": 250103.7,
            "count": 0
           },
           {
            "bin_start": 250103.7,
            "bin_end": 250103.8,
            "count": 0
           },
           {
            "bin_start": 250103.8,
            "bin_end": 250103.9,
            "count": 0
           },
           {
            "bin_start": 250103.9,
            "bin_end": 250104,
            "count": 0
           },
           {
            "bin_start": 250104,
            "bin_end": 250104.1,
            "count": 5
           },
           {
            "bin_start": 250104.1,
            "bin_end": 250104.2,
            "count": 0
           },
           {
            "bin_start": 250104.2,
            "bin_end": 250104.3,
            "count": 0
           },
           {
            "bin_start": 250104.3,
            "bin_end": 250104.4,
            "count": 0
           },
           {
            "bin_start": 250104.4,
            "bin_end": 250104.5,
            "count": 0
           }
          ]
         }
        },
        {
         "name": "DOMINIO",
         "dtype": "int64",
         "stats": {
          "unique_count": 1,
          "nan_count": 0,
          "min": "7",
          "max": "7",
          "histogram": [
           {
            "bin_start": 6.5,
            "bin_end": 6.6,
            "count": 0
           },
           {
            "bin_start": 6.6,
            "bin_end": 6.7,
            "count": 0
           },
           {
            "bin_start": 6.7,
            "bin_end": 6.8,
            "count": 0
           },
           {
            "bin_start": 6.8,
            "bin_end": 6.9,
            "count": 0
           },
           {
            "bin_start": 6.9,
            "bin_end": 7,
            "count": 0
           },
           {
            "bin_start": 7,
            "bin_end": 7.1,
            "count": 5
           },
           {
            "bin_start": 7.1,
            "bin_end": 7.2,
            "count": 0
           },
           {
            "bin_start": 7.2,
            "bin_end": 7.3,
            "count": 0
           },
           {
            "bin_start": 7.3,
            "bin_end": 7.4,
            "count": 0
           },
           {
            "bin_start": 7.4,
            "bin_end": 7.5,
            "count": 0
           }
          ]
         }
        },
        {
         "name": "P207",
         "dtype": "int64",
         "stats": {
          "unique_count": 2,
          "nan_count": 0,
          "min": "1",
          "max": "2",
          "histogram": [
           {
            "bin_start": 1,
            "bin_end": 1.1,
            "count": 2
           },
           {
            "bin_start": 1.1,
            "bin_end": 1.2,
            "count": 0
           },
           {
            "bin_start": 1.2,
            "bin_end": 1.3,
            "count": 0
           },
           {
            "bin_start": 1.3,
            "bin_end": 1.4,
            "count": 0
           },
           {
            "bin_start": 1.4,
            "bin_end": 1.5,
            "count": 0
           },
           {
            "bin_start": 1.5,
            "bin_end": 1.6,
            "count": 0
           },
           {
            "bin_start": 1.6,
            "bin_end": 1.7000000000000002,
            "count": 0
           },
           {
            "bin_start": 1.7000000000000002,
            "bin_end": 1.8,
            "count": 0
           },
           {
            "bin_start": 1.8,
            "bin_end": 1.9,
            "count": 0
           },
           {
            "bin_start": 1.9,
            "bin_end": 2,
            "count": 3
           }
          ]
         }
        },
        {
         "name": "P208A",
         "dtype": "int64",
         "stats": {
          "unique_count": 5,
          "nan_count": 0,
          "min": "4",
          "max": "38",
          "histogram": [
           {
            "bin_start": 4,
            "bin_end": 7.4,
            "count": 1
           },
           {
            "bin_start": 7.4,
            "bin_end": 10.8,
            "count": 1
           },
           {
            "bin_start": 10.8,
            "bin_end": 14.2,
            "count": 1
           },
           {
            "bin_start": 14.2,
            "bin_end": 17.6,
            "count": 1
           },
           {
            "bin_start": 17.6,
            "bin_end": 21,
            "count": 0
           },
           {
            "bin_start": 21,
            "bin_end": 24.4,
            "count": 0
           },
           {
            "bin_start": 24.4,
            "bin_end": 27.8,
            "count": 0
           },
           {
            "bin_start": 27.8,
            "bin_end": 31.2,
            "count": 0
           },
           {
            "bin_start": 31.2,
            "bin_end": 34.599999999999994,
            "count": 0
           },
           {
            "bin_start": 34.599999999999994,
            "bin_end": 38,
            "count": 1
           }
          ]
         }
        },
        {
         "name": "P209",
         "dtype": "object",
         "stats": {
          "unique_count": 3,
          "nan_count": 0,
          "categories": [
           {
            "name": "6",
            "count": 2
           },
           {
            "name": " ",
            "count": 2
           },
           {
            "name": "1",
            "count": 1
           }
          ]
         }
        },
        {
         "name": "P300A",
         "dtype": "object",
         "stats": {
          "unique_count": 2,
          "nan_count": 0,
          "categories": [
           {
            "name": "4",
            "count": 4
           },
           {
            "name": "6",
            "count": 1
           }
          ]
         }
        },
        {
         "name": "P301A",
         "dtype": "object",
         "stats": {
          "unique_count": 5,
          "nan_count": 0,
          "categories": [
           {
            "name": "6",
            "count": 1
           },
           {
            "name": "5",
            "count": 1
           },
           {
            "name": "3 others",
            "count": 3
           }
          ]
         }
        },
        {
         "name": "P301A1",
         "dtype": "object",
         "stats": {
          "unique_count": 1,
          "nan_count": 0,
          "categories": [
           {
            "name": " ",
            "count": 5
           }
          ]
         }
        },
        {
         "name": "P301B1",
         "dtype": "object",
         "stats": {
          "unique_count": 1,
          "nan_count": 0,
          "categories": [
           {
            "name": " ",
            "count": 5
           }
          ]
         }
        },
        {
         "name": "P301B3",
         "dtype": "object",
         "stats": {
          "unique_count": 1,
          "nan_count": 0,
          "categories": [
           {
            "name": " ",
            "count": 5
           }
          ]
         }
        },
        {
         "name": "_deepnote_index_column",
         "dtype": "int64"
        }
       ],
       "rows": [
        {
         "A�O": 2021,
         "MES": 12,
         "CODPERSO": 2,
         "UBIGEO": 250104,
         "DOMINIO": 7,
         "P207": 2,
         "P208A": 38,
         "P209": "1",
         "P300A": "6",
         "P301A": "6",
         "P301A1": " ",
         "P301B1": " ",
         "P301B3": " ",
         "_deepnote_index_column": 106575
        },
        {
         "A�O": 2021,
         "MES": 12,
         "CODPERSO": 3,
         "UBIGEO": 250104,
         "DOMINIO": 7,
         "P207": 1,
         "P208A": 15,
         "P209": "6",
         "P300A": "4",
         "P301A": "5",
         "P301A1": " ",
         "P301B1": " ",
         "P301B3": " ",
         "_deepnote_index_column": 106576
        },
        {
         "A�O": 2021,
         "MES": 12,
         "CODPERSO": 4,
         "UBIGEO": 250104,
         "DOMINIO": 7,
         "P207": 2,
         "P208A": 12,
         "P209": "6",
         "P300A": "4",
         "P301A": "4",
         "P301A1": " ",
         "P301B1": " ",
         "P301B3": " ",
         "_deepnote_index_column": 106577
        },
        {
         "A�O": 2021,
         "MES": 12,
         "CODPERSO": 5,
         "UBIGEO": 250104,
         "DOMINIO": 7,
         "P207": 1,
         "P208A": 8,
         "P209": " ",
         "P300A": "4",
         "P301A": "3",
         "P301A1": " ",
         "P301B1": " ",
         "P301B3": " ",
         "_deepnote_index_column": 106578
        },
        {
         "A�O": 2021,
         "MES": 12,
         "CODPERSO": 6,
         "UBIGEO": 250104,
         "DOMINIO": 7,
         "P207": 2,
         "P208A": 4,
         "P209": " ",
         "P300A": "4",
         "P301A": "1",
         "P301A1": " ",
         "P301B1": " ",
         "P301B3": " ",
         "_deepnote_index_column": 106579
        }
       ]
      },
      "text/plain": "         A�O  MES  CODPERSO  UBIGEO  DOMINIO  P207  P208A P209 P300A P301A  \\\n106575  2021   12         2  250104        7     2     38    1     6     6   \n106576  2021   12         3  250104        7     1     15    6     4     5   \n106577  2021   12         4  250104        7     2     12    6     4     4   \n106578  2021   12         5  250104        7     1      8          4     3   \n106579  2021   12         6  250104        7     2      4          4     1   \n\n       P301A1 P301B1 P301B3  \n106575                       \n106576                       \n106577                       \n106578                       \n106579                       ",
      "text/html": "<div>\n<style scoped>\n    .dataframe tbody tr th:only-of-type {\n        vertical-align: middle;\n    }\n\n    .dataframe tbody tr th {\n        vertical-align: top;\n    }\n\n    .dataframe thead th {\n        text-align: right;\n    }\n</style>\n<table border=\"1\" class=\"dataframe\">\n  <thead>\n    <tr style=\"text-align: right;\">\n      <th></th>\n      <th>A�O</th>\n      <th>MES</th>\n      <th>CODPERSO</th>\n      <th>UBIGEO</th>\n      <th>DOMINIO</th>\n      <th>P207</th>\n      <th>P208A</th>\n      <th>P209</th>\n      <th>P300A</th>\n      <th>P301A</th>\n      <th>P301A1</th>\n      <th>P301B1</th>\n      <th>P301B3</th>\n    </tr>\n  </thead>\n  <tbody>\n    <tr>\n      <th>106575</th>\n      <td>2021</td>\n      <td>12</td>\n      <td>2</td>\n      <td>250104</td>\n      <td>7</td>\n      <td>2</td>\n      <td>38</td>\n      <td>1</td>\n      <td>6</td>\n      <td>6</td>\n      <td></td>\n      <td></td>\n      <td></td>\n    </tr>\n    <tr>\n      <th>106576</th>\n      <td>2021</td>\n      <td>12</td>\n      <td>3</td>\n      <td>250104</td>\n      <td>7</td>\n      <td>1</td>\n      <td>15</td>\n      <td>6</td>\n      <td>4</td>\n      <td>5</td>\n      <td></td>\n      <td></td>\n      <td></td>\n    </tr>\n    <tr>\n      <th>106577</th>\n      <td>2021</td>\n      <td>12</td>\n      <td>4</td>\n      <td>250104</td>\n      <td>7</td>\n      <td>2</td>\n      <td>12</td>\n      <td>6</td>\n      <td>4</td>\n      <td>4</td>\n      <td></td>\n      <td></td>\n      <td></td>\n    </tr>\n    <tr>\n      <th>106578</th>\n      <td>2021</td>\n      <td>12</td>\n      <td>5</td>\n      <td>250104</td>\n      <td>7</td>\n      <td>1</td>\n      <td>8</td>\n      <td></td>\n      <td>4</td>\n      <td>3</td>\n      <td></td>\n      <td></td>\n      <td></td>\n    </tr>\n    <tr>\n      <th>106579</th>\n      <td>2021</td>\n      <td>12</td>\n      <td>6</td>\n      <td>250104</td>\n      <td>7</td>\n      <td>2</td>\n      <td>4</td>\n      <td></td>\n      <td>4</td>\n      <td>1</td>\n      <td></td>\n      <td></td>\n      <td></td>\n    </tr>\n  </tbody>\n</table>\n</div>"
     },
     "metadata": {}
    }
   ],
   "execution_count": null
  },
  {
   "cell_type": "markdown",
   "source": "## Guardamos nuestro dataframe concatenado listo para continuar trabajando",
   "metadata": {
    "cell_id": "875bfe4d7a314b559ed123bbeb04f380",
    "tags": [],
    "deepnote_cell_type": "markdown",
    "deepnote_cell_height": 110
   }
  },
  {
   "cell_type": "code",
   "source": "# guardamos\ndf_2021.to_csv('/work/enaho-personas-estudios-caracteristicas-data-science/ENAHO-DATA/ENAHO-2021/Enaho01A-2021-300.csv', index = False)\nprint('Guardado!')",
   "metadata": {
    "cell_id": "dd5c579595614eef920fe655e4f5a623",
    "tags": [],
    "deepnote_to_be_reexecuted": false,
    "source_hash": "2a9f6ebf",
    "execution_start": 1649618111855,
    "execution_millis": 446,
    "owner_user_id": "8d9f0df6-25cd-43a2-97e1-a283b68026ae",
    "deepnote_cell_type": "code",
    "deepnote_cell_height": 148
   },
   "outputs": [
    {
     "name": "stdout",
     "text": "Guardado!\n",
     "output_type": "stream"
    }
   ],
   "execution_count": null
  },
  {
   "cell_type": "markdown",
   "source": "<a style='text-decoration:none;line-height:16px;display:flex;color:#5B5B62;padding:10px;justify-content:end;' href='https://deepnote.com?utm_source=created-in-deepnote-cell&projectId=61180446-cfea-4338-ac0e-81e50a732b69' target=\"_blank\">\n<img alt='Created in deepnote.com' style='display:inline;max-height:16px;margin:0px;margin-right:7.5px;' src='data:image/svg+xml;base64,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' > </img>\nCreated in <span style='font-weight:600;margin-left:4px;'>Deepnote</span></a>",
   "metadata": {
    "tags": [],
    "created_in_deepnote_cell": true,
    "deepnote_cell_type": "markdown"
   }
  }
 ],
 "nbformat": 4,
 "nbformat_minor": 2,
 "metadata": {
  "orig_nbformat": 2,
  "deepnote": {
   "is_reactive": false
  },
  "deepnote_notebook_id": "70f8ae93-3b1b-41de-b390-b0bb50db1ca0",
  "deepnote_execution_queue": []
 }
}