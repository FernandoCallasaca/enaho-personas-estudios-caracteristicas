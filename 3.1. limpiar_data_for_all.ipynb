{
 "cells": [
  {
   "cell_type": "markdown",
   "source": "# Limpiamos todos los csvs desde el 2010",
   "metadata": {
    "cell_id": "99d99167d0d54a4086ee3671bf6f9d56",
    "tags": [],
    "deepnote_cell_type": "markdown",
    "deepnote_cell_height": 82
   }
  },
  {
   "cell_type": "code",
   "metadata": {
    "tags": [],
    "cell_id": "17b987e6-f535-469e-8d37-a94a8dcafe5d",
    "deepnote_to_be_reexecuted": false,
    "source_hash": "c76c7c51",
    "execution_start": 1649613861640,
    "execution_millis": 2,
    "deepnote_cell_type": "code",
    "deepnote_cell_height": 99
   },
   "source": "import pandas as pd\nimport numpy as np",
   "outputs": [],
   "execution_count": null
  },
  {
   "cell_type": "markdown",
   "source": "## Llamamos a nuestros csvs complementarios",
   "metadata": {
    "cell_id": "b71bf8d1f22d4ab484d31667196d637e",
    "tags": [],
    "deepnote_cell_type": "markdown",
    "deepnote_cell_height": 70
   }
  },
  {
   "cell_type": "code",
   "metadata": {
    "cell_id": "ac041ee3c45345669e666c6033390c21",
    "tags": [],
    "deepnote_to_be_reexecuted": false,
    "source_hash": "7728a115",
    "execution_start": 1649613862997,
    "execution_millis": 26,
    "deepnote_cell_type": "code",
    "deepnote_cell_height": 189
   },
   "source": "df_educ_sup_tec = pd.read_csv('/work/enaho-personas-estudios-caracteristicas-data-science/archivos_csv_complementos/cod_educ_sup_tec.csv')\ndf_cod_inst_edu = pd.read_csv('/work/enaho-personas-estudios-caracteristicas-data-science/archivos_csv_complementos/cod_inst_educ.csv')\ndf_cod_departamentos = pd.read_csv('/work/enaho-personas-estudios-caracteristicas-data-science/archivos_csv_complementos/cod_departamentos.csv')\ndf_cod_dominio_g = pd.read_csv('/work/enaho-personas-estudios-caracteristicas-data-science/archivos_csv_complementos/cod_dominio_g.csv')\ndf_grad_estudios = pd.read_csv('/work/enaho-personas-estudios-caracteristicas-data-science/archivos_csv_complementos/cod_grad_estudios.csv')\ndf_cod_idiomas = pd.read_csv('/work/enaho-personas-estudios-caracteristicas-data-science/archivos_csv_complementos/cod_idioma.csv')\ndf_cod_estado_civil = pd.read_csv('/work/enaho-personas-estudios-caracteristicas-data-science/archivos_csv_complementos/cod_estado_civil.csv')",
   "outputs": [],
   "execution_count": null
  },
  {
   "cell_type": "markdown",
   "source": "## Creamos nuestras funciones",
   "metadata": {
    "cell_id": "11bb5e830ac44e6b8d5d9c7fbcae5b05",
    "tags": [],
    "deepnote_cell_type": "markdown",
    "deepnote_cell_height": 70
   }
  },
  {
   "cell_type": "code",
   "metadata": {
    "cell_id": "918ad8dba3b64f74972ad7dcc8196218",
    "tags": [],
    "deepnote_to_be_reexecuted": false,
    "source_hash": "27f6f140",
    "execution_start": 1649613864933,
    "execution_millis": 2,
    "deepnote_cell_type": "code",
    "deepnote_cell_height": 153
   },
   "source": "def fun_merge(df1, df2, campo):\n    return pd.merge(df1,\n                    df2,\n                    on = [campo],\n                    how = 'left')",
   "outputs": [],
   "execution_count": null
  },
  {
   "cell_type": "code",
   "metadata": {
    "cell_id": "23747d15d982491fb9c83b28b002f4fe",
    "tags": [],
    "deepnote_to_be_reexecuted": false,
    "source_hash": "d9a8318",
    "execution_start": 1649613867527,
    "execution_millis": 1,
    "deepnote_cell_type": "code",
    "deepnote_cell_height": 459
   },
   "source": "def limpieza_csv_2018_2021(df, name_file_saved):\n    df = df[['A�O', 'MES', 'CODPERSO', 'UBIGEO', 'DOMINIO', 'P207', 'P208A', 'P209', 'P300A', 'P301A', 'P301A1', 'P301B1', 'P301B3']]\n    df.rename(columns = {'A�O': 'ANIO', 'DOMINIO': 'DOMINIO_G', 'P300A': 'COD_IDIOMA', 'P207': 'ID_SEXO', 'P208A': 'EDAD',\n                'P209': 'ID_ESTADO_CIVIL', 'P301A': 'COD_GRADO_ESTUDIOS', 'P301A1':'COD_CARRERA_UNI',\n                'P301B1': 'COD_CENTRO_ESTUDIOS', 'P301B3': 'COD_DEPARTAMENTO'}, inplace = True)\n    df_clean = df.replace([' ', np.nan], -1)\n    df_clean[['ID_ESTADO_CIVIL', 'COD_IDIOMA', 'COD_GRADO_ESTUDIOS', 'COD_CARRERA_UNI', 'COD_CENTRO_ESTUDIOS', 'COD_DEPARTAMENTO']] = df_clean[['ID_ESTADO_CIVIL', 'COD_IDIOMA', 'COD_GRADO_ESTUDIOS', 'COD_CARRERA_UNI', 'COD_CENTRO_ESTUDIOS', 'COD_DEPARTAMENTO']].astype(int)\n    # df_sup_uni = df_clean[df_clean['COD_GRADO_ESTUDIOS']>=9]\n    df_sup_uni = df_clean[(df_clean['COD_GRADO_ESTUDIOS']>=9) & (df_clean['COD_GRADO_ESTUDIOS']<=11)]\n    df_sup_all = fun_merge(df_sup_uni, df_cod_dominio_g, \"DOMINIO_G\")\n    df_sup_all = fun_merge(df_sup_all, df_cod_estado_civil, \"ID_ESTADO_CIVIL\")\n    df_sup_all = fun_merge(df_sup_all, df_cod_idiomas, \"COD_IDIOMA\")\n    df_sup_all = fun_merge(df_sup_all, df_grad_estudios, \"COD_GRADO_ESTUDIOS\")\n    df_sup_all = fun_merge(df_sup_all, df_educ_sup_tec, \"COD_CARRERA_UNI\")\n    df_sup_all = fun_merge(df_sup_all, df_cod_inst_edu, \"COD_CENTRO_ESTUDIOS\")\n    df_sup_all = fun_merge(df_sup_all, df_cod_departamentos, \"COD_DEPARTAMENTO\")\n    df_sup_all.drop(columns = ['MES', 'CODPERSO'], axis = 1, inplace = True)\n    df_sup_all['SEXO'] = df_sup_all['ID_SEXO'].apply(lambda x: 'Hombre' if x == 1 else 'Mujer')\n    df_sup_all.replace('Missing value', np.nan, inplace = True)\n    df_sup_all.to_csv(f'/work/enaho-personas-estudios-caracteristicas-data-science/ENAHO-DATA-LIMPIA/{name_file_saved}.csv', index = False)\n    print('Guardado!')\n",
   "outputs": [],
   "execution_count": null
  },
  {
   "cell_type": "code",
   "source": "def limpieza_csv_2010_2017(df, name_file_saved):\n\n    # arreglo para sacar solo los que son superiores a PREGRADO\n    arr_g_a_sup_pregrado = ['superior universitaria incompleta', 'sup. univ. incompleta', 'Superior Universitaria Incompleta', \n    'superior universitaria completa', 'sup. univ. completa', 'Superior Universitaria Completa',\n    'post-grado universitario', 'postgrado', 'Maestria/doctorado']\n\n    # \"['p301b1', 'p301b3'] not in index\" = COD_CENTRO_ESTUDIOS, COD_DEPARTAMENTO\n    if(int(name_file_saved) <= 2013):\n        print('Entro menores 2013')\n        df = df[['aÑo', 'dominio', 'p300a', 'p207', 'p208a', 'p209', 'p301a', 'p301a1']]\n        df.rename(columns = {'aÑo': 'ANIO', 'dominio': 'DOMINIO_G', 'p300a': 'COD_IDIOMA', 'p207': 'ID_SEXO',\n                'p208a': 'EDAD', 'p209': 'ID_ESTADO_CIVIL', 'p301a': 'COD_GRADO_ESTUDIOS',\n                'p301a1':'COD_CARRERA_UNI'}, inplace = True)\n        df_clean = df.replace([' ', '.', np.nan], -1)\n        df_clean[['ID_ESTADO_CIVIL', 'COD_IDIOMA', 'COD_GRADO_ESTUDIOS', 'COD_CARRERA_UNI']] = df_clean[['ID_ESTADO_CIVIL', 'COD_IDIOMA', 'COD_GRADO_ESTUDIOS', 'COD_CARRERA_UNI']].astype(int)\n        df_sup_uni = df_clean[(df_clean['COD_GRADO_ESTUDIOS']>=9) & (df_clean['COD_GRADO_ESTUDIOS']<=11)]\n        df_sup_all = fun_merge(df_sup_uni, df_cod_dominio_g, \"DOMINIO_G\")\n        df_sup_all = fun_merge(df_sup_all, df_cod_estado_civil, \"ID_ESTADO_CIVIL\")\n        df_sup_all = fun_merge(df_sup_all, df_cod_idiomas, \"COD_IDIOMA\")\n        df_sup_all = fun_merge(df_sup_all, df_grad_estudios, \"COD_GRADO_ESTUDIOS\")\n        df_sup_all = fun_merge(df_sup_all, df_educ_sup_tec, \"COD_CARRERA_UNI\")\n        df_sup_all['SEXO'] = df_sup_all['ID_SEXO'].apply(lambda x: 'Hombre' if x == 1 else 'Mujer')\n        df_sup_all.replace('Missing value', np.nan, inplace = True)\n        df_sup_all.to_csv(f'/work/enaho-personas-estudios-caracteristicas-data-science/ENAHO-DATA-LIMPIA/{name_file_saved}.csv', index = False)\n        print('Guardado!')\n\n    # \"['p301b3'] not in index\" = COD_DEPARTAMENTO\n    elif(int(name_file_saved) > 2013 and int(name_file_saved) <= 2015):\n        print('Entro 2014 o 2015')\n        df = df[['aÑo', 'dominio', 'p300a', 'p207', 'p208a', 'p209', 'p301a', 'p301a1', 'p301b1']]\n        df.rename(columns = {'aÑo': 'ANIO', 'dominio': 'NOM_DOMINIO_G', 'p300a': 'NOM_IDIOMA', 'p207': 'SEXO',\n                'p208a': 'EDAD', 'p209': 'NOM_ESTADO_CIVIL', 'p301a': 'NOM_GRADO_ESTUDIOS',\n                'p301a1':'COD_CARRERA_UNI', 'p301b1': 'COD_CENTRO_ESTUDIOS'}, inplace = True)\n        df_clean = df.replace([' ', np.nan], -1)\n        df_clean[['COD_CARRERA_UNI', 'COD_CENTRO_ESTUDIOS']] = df_clean[['COD_CARRERA_UNI', 'COD_CENTRO_ESTUDIOS']].astype(int)\n        df_sup_uni = df_clean[df_clean['NOM_GRADO_ESTUDIOS'].isin(arr_g_a_sup_pregrado)]\n        df_sup_all = fun_merge(df_sup_uni, df_educ_sup_tec, \"COD_CARRERA_UNI\")\n        df_sup_all = fun_merge(df_sup_all, df_cod_inst_edu, \"COD_CENTRO_ESTUDIOS\")\n        df_sup_all.replace('Missing value', np.nan, inplace = True)\n        df_sup_all.to_csv(f'/work/enaho-personas-estudios-caracteristicas-data-science/ENAHO-DATA-LIMPIA/{name_file_saved}.csv', index = False)\n        print('Guardado!')\n\n    # años desde 2016 tienen otro formato\n    else:\n        print('Entro 2016 o 2017')\n        df = df[['aÑo', 'dominio', 'p300a', 'p207', 'p208a', 'p209', 'p301a', 'p301a1', 'p301b1', 'p301b3']]\n        df.rename(columns = {'aÑo': 'ANIO', 'dominio': 'NOM_DOMINIO_G', 'p300a': 'NOM_IDIOMA', 'p207': 'SEXO',\n                    'p208a': 'EDAD',\n                    'p209': 'NOM_ESTADO_CIVIL', 'p301a': 'NOM_GRADO_ESTUDIOS', 'p301a1':'COD_CARRERA_UNI',\n                    'p301b1': 'COD_CENTRO_ESTUDIOS', 'p301b3': 'COD_DEPARTAMENTO'}, inplace = True)\n        df_clean = df.replace([' ', np.nan], -1)\n        df_clean[['COD_CARRERA_UNI', 'COD_CENTRO_ESTUDIOS', 'COD_DEPARTAMENTO']] = df_clean[['COD_CARRERA_UNI', 'COD_CENTRO_ESTUDIOS', 'COD_DEPARTAMENTO']].astype(int)\n        df_sup_uni = df_clean[df_clean['NOM_GRADO_ESTUDIOS'].isin(arr_g_a_sup_pregrado)]\n        df_sup_all = fun_merge(df_sup_uni, df_educ_sup_tec, \"COD_CARRERA_UNI\")\n        df_sup_all = fun_merge(df_sup_all, df_cod_inst_edu, \"COD_CENTRO_ESTUDIOS\")\n        df_sup_all = fun_merge(df_sup_all, df_cod_departamentos, \"COD_DEPARTAMENTO\")\n        df_sup_all.replace('Missing value', np.nan, inplace = True)\n        df_sup_all.to_csv(f'/work/enaho-personas-estudios-caracteristicas-data-science/ENAHO-DATA-LIMPIA/{name_file_saved}.csv', index = False)\n        print('Guardado!')",
   "metadata": {
    "cell_id": "fe306c0fc0424dcda745be43ed51ba11",
    "tags": [],
    "deepnote_to_be_reexecuted": false,
    "source_hash": "9643da5e",
    "execution_start": 1649613493372,
    "execution_millis": 3,
    "owner_user_id": "8d9f0df6-25cd-43a2-97e1-a283b68026ae",
    "deepnote_cell_type": "code",
    "deepnote_cell_height": 1143
   },
   "outputs": [],
   "execution_count": null
  },
  {
   "cell_type": "markdown",
   "source": "## Leemos nuestros datasets",
   "metadata": {
    "cell_id": "6af78d91059c47af9cf148a6022e5c2b",
    "tags": [],
    "deepnote_cell_type": "markdown",
    "deepnote_cell_height": 70
   }
  },
  {
   "cell_type": "code",
   "source": "df_2010 = pd.read_csv('/work/enaho-personas-estudios-caracteristicas-data-science/ENAHO-DATA/ENAHO-2010/enaho01a-2010-300.csv')\ndf_2011 = pd.read_csv('/work/enaho-personas-estudios-caracteristicas-data-science/ENAHO-DATA/ENAHO-2011/enaho01a-2011-300.csv')\ndf_2012 = pd.read_csv('/work/enaho-personas-estudios-caracteristicas-data-science/ENAHO-DATA/ENAHO-2012/enaho01a-2012-300.csv')\ndf_2013 = pd.read_csv('/work/enaho-personas-estudios-caracteristicas-data-science/ENAHO-DATA/ENAHO-2013/enaho01a-2013-300.csv')\ndf_2014 = pd.read_csv('/work/enaho-personas-estudios-caracteristicas-data-science/ENAHO-DATA/ENAHO-2014/enaho01a-2014-300.csv')\ndf_2015 = pd.read_csv('/work/enaho-personas-estudios-caracteristicas-data-science/ENAHO-DATA/ENAHO-2015/enaho01a-2015-300.csv')",
   "metadata": {
    "cell_id": "fdb9e1ba609f486eacb52787025a5db5",
    "tags": [],
    "deepnote_to_be_reexecuted": false,
    "source_hash": "889dfadd",
    "execution_start": 1649605636972,
    "execution_millis": 24363,
    "deepnote_cell_type": "code",
    "deepnote_cell_height": 386.796875
   },
   "outputs": [
    {
     "name": "stderr",
     "text": "/shared-libs/python3.7/py-core/lib/python3.7/site-packages/IPython/core/interactiveshell.py:3229: DtypeWarning: Columns (13,14,25,31,43,137,147) have mixed types.Specify dtype option on import or set low_memory=False.\n  interactivity=interactivity, compiler=compiler, result=result)\n/shared-libs/python3.7/py-core/lib/python3.7/site-packages/IPython/core/interactiveshell.py:3229: DtypeWarning: Columns (13,14,25,31,42,152,162) have mixed types.Specify dtype option on import or set low_memory=False.\n  interactivity=interactivity, compiler=compiler, result=result)\n/shared-libs/python3.7/py-core/lib/python3.7/site-packages/IPython/core/interactiveshell.py:3229: DtypeWarning: Columns (13,14,25,31,42,152,162,199,200,203,204) have mixed types.Specify dtype option on import or set low_memory=False.\n  interactivity=interactivity, compiler=compiler, result=result)\n/shared-libs/python3.7/py-core/lib/python3.7/site-packages/IPython/core/interactiveshell.py:3229: DtypeWarning: Columns (25,44,77,78,80,83,85,86,87,88,89,91,93,95,96,97,99,103,105,106,109,110,111,113,114,117,118,119,120,121,123,161,162,163,164,165,170,171,172,173,191,192,193,195,213) have mixed types.Specify dtype option on import or set low_memory=False.\n  interactivity=interactivity, compiler=compiler, result=result)\n/shared-libs/python3.7/py-core/lib/python3.7/site-packages/IPython/core/interactiveshell.py:3229: DtypeWarning: Columns (23,24,25,44,77,80,81,82,83,85,86,88,91,95,96,97,99,103,105,106,109,110,111,113,114,117,118,119,120,121,123,162,163,164,165,170,173,174,183,184,185,186,187,188,190,191,192,193,194,195,196,199,200,201,202,203,204,205,206,207,208,209,222,266) have mixed types.Specify dtype option on import or set low_memory=False.\n  interactivity=interactivity, compiler=compiler, result=result)\n",
     "output_type": "stream"
    }
   ],
   "execution_count": null
  },
  {
   "cell_type": "code",
   "metadata": {
    "cell_id": "641e6d2f0c9d45d881bdc22f3d893d15",
    "tags": [],
    "deepnote_to_be_reexecuted": false,
    "source_hash": "9afc9fb1",
    "execution_start": 1649603572799,
    "execution_millis": 17925,
    "deepnote_cell_type": "code",
    "deepnote_cell_height": 266.796875
   },
   "source": "df_2016 = pd.read_csv('/work/enaho-personas-estudios-caracteristicas-data-science/ENAHO-DATA/ENAHO-2016/enaho01a-2016-300.csv')\ndf_2017 = pd.read_csv('/work/enaho-personas-estudios-caracteristicas-data-science/ENAHO-DATA/ENAHO-2017/enaho01a-2017-300.csv')\ndf_2018 = pd.read_csv('/work/enaho-personas-estudios-caracteristicas-data-science/ENAHO-DATA/ENAHO-2018/Enaho01a-2018-300.csv', sep = '|')\ndf_2019 = pd.read_csv('/work/enaho-personas-estudios-caracteristicas-data-science/ENAHO-DATA/ENAHO-2019/Enaho01A-2019-300.csv', sep = '|')\ndf_2020 = pd.read_csv('/work/enaho-personas-estudios-caracteristicas-data-science/ENAHO-DATA/ENAHO-2020/Enaho01A-2020-300.csv')\ndf_2021 = pd.read_csv('/work/enaho-personas-estudios-caracteristicas-data-science/ENAHO-DATA/ENAHO-2021/Enaho01A-2021-300.csv')",
   "outputs": [
    {
     "name": "stderr",
     "text": "/shared-libs/python3.7/py-core/lib/python3.7/site-packages/IPython/core/interactiveshell.py:3229: DtypeWarning: Columns (27,78,79,81,82,84,86,87,88,89,90,92,94,96,98,100,104,107,110,111,112,114,115,116,117,118,119,120,121,122,124,216,217,219,220,230,232,233,235,270,271,272,273,274,297,301,457) have mixed types.Specify dtype option on import or set low_memory=False.\n  interactivity=interactivity, compiler=compiler, result=result)\n/shared-libs/python3.7/py-core/lib/python3.7/site-packages/IPython/core/interactiveshell.py:3229: DtypeWarning: Columns (27,78,84,86,87,89,92,96,98,100,104,106,107,110,111,112,114,115,116,117,118,119,120,121,122,123,124,217,218,219,220,230,232,233,234,270,271,272,273,274,318,322,478) have mixed types.Specify dtype option on import or set low_memory=False.\n  interactivity=interactivity, compiler=compiler, result=result)\n",
     "output_type": "stream"
    }
   ],
   "execution_count": null
  },
  {
   "cell_type": "markdown",
   "source": "# Limpieza de Información",
   "metadata": {
    "cell_id": "584aaa3d69964895b1774c83ff3d4b38",
    "tags": [],
    "deepnote_to_be_reexecuted": false,
    "source_hash": "ccadee24",
    "execution_start": 1649603387298,
    "execution_millis": 4,
    "deepnote_cell_type": "markdown",
    "deepnote_cell_height": 82
   },
   "outputs": [],
   "execution_count": 13
  },
  {
   "cell_type": "code",
   "source": "df_2021 = pd.read_csv('/work/enaho-personas-estudios-caracteristicas-data-science/ENAHO-DATA/ENAHO-2021/Enaho01A-2021-300.csv')",
   "metadata": {
    "cell_id": "0e628074569c4c21bee40fe6f83b46b9",
    "tags": [],
    "deepnote_to_be_reexecuted": false,
    "source_hash": "2e7941c8",
    "execution_start": 1649618377791,
    "execution_millis": 102,
    "deepnote_cell_type": "code",
    "deepnote_cell_height": 81
   },
   "outputs": [],
   "execution_count": null
  },
  {
   "cell_type": "code",
   "source": "df_2021.shape[0]",
   "metadata": {
    "cell_id": "c2a2eb75b91743d5827d28d23f254645",
    "tags": [],
    "deepnote_to_be_reexecuted": false,
    "source_hash": "63da32ef",
    "execution_start": 1649618440987,
    "execution_millis": 2,
    "deepnote_cell_type": "code",
    "deepnote_cell_height": 118.1875,
    "deepnote_output_heights": [
     21.1875
    ]
   },
   "outputs": [
    {
     "output_type": "execute_result",
     "execution_count": 12,
     "data": {
      "text/plain": "106580"
     },
     "metadata": {}
    }
   ],
   "execution_count": null
  },
  {
   "cell_type": "code",
   "source": "limpieza_csv_2018_2021(df_2021, '2021')",
   "metadata": {
    "cell_id": "d641b32aa7aa47b8a77cfb33229421e9",
    "tags": [],
    "deepnote_to_be_reexecuted": false,
    "source_hash": "650c38d2",
    "execution_start": 1649618390329,
    "execution_millis": 391,
    "deepnote_cell_type": "code",
    "deepnote_cell_height": 112
   },
   "outputs": [
    {
     "name": "stdout",
     "text": "Guardado!\n",
     "output_type": "stream"
    }
   ],
   "execution_count": null
  },
  {
   "cell_type": "code",
   "metadata": {
    "cell_id": "0ac91071c67e40e6a718733d14cb141f",
    "tags": [],
    "deepnote_to_be_reexecuted": false,
    "source_hash": "75516966",
    "execution_start": 1649603636585,
    "execution_millis": 200,
    "deepnote_cell_type": "code",
    "deepnote_cell_height": 212
   },
   "source": "limpieza_csv_2018_2021(df_2018, '2018')",
   "outputs": [
    {
     "name": "stdout",
     "text": "Guardado!\n/shared-libs/python3.7/py/lib/python3.7/site-packages/pandas/core/frame.py:4449: SettingWithCopyWarning: \nA value is trying to be set on a copy of a slice from a DataFrame\n\nSee the caveats in the documentation: https://pandas.pydata.org/pandas-docs/stable/user_guide/indexing.html#returning-a-view-versus-a-copy\n  errors=errors,\n",
     "output_type": "stream"
    }
   ],
   "execution_count": null
  },
  {
   "cell_type": "code",
   "source": "limpieza_csv_2018_2021(df_2019, '2019')",
   "metadata": {
    "cell_id": "319b890f71cf4f229914b355fa2bda2f",
    "tags": [],
    "deepnote_to_be_reexecuted": false,
    "source_hash": "7eda98c7",
    "execution_start": 1649603652627,
    "execution_millis": 256,
    "deepnote_cell_type": "code",
    "deepnote_cell_height": 212
   },
   "outputs": [
    {
     "name": "stdout",
     "text": "Guardado!\n/shared-libs/python3.7/py/lib/python3.7/site-packages/pandas/core/frame.py:4449: SettingWithCopyWarning: \nA value is trying to be set on a copy of a slice from a DataFrame\n\nSee the caveats in the documentation: https://pandas.pydata.org/pandas-docs/stable/user_guide/indexing.html#returning-a-view-versus-a-copy\n  errors=errors,\n",
     "output_type": "stream"
    }
   ],
   "execution_count": null
  },
  {
   "cell_type": "code",
   "metadata": {
    "cell_id": "eca7a1f982d14a59b501b3b5563d5e1d",
    "tags": [],
    "deepnote_to_be_reexecuted": false,
    "source_hash": "b72ca10c",
    "execution_start": 1649603662551,
    "execution_millis": 234,
    "deepnote_cell_type": "code",
    "deepnote_cell_height": 212
   },
   "source": "limpieza_csv_2010_2017(df_2016, '2016')",
   "outputs": [
    {
     "name": "stderr",
     "text": "/shared-libs/python3.7/py/lib/python3.7/site-packages/pandas/core/frame.py:4449: SettingWithCopyWarning: \nA value is trying to be set on a copy of a slice from a DataFrame\n\nSee the caveats in the documentation: https://pandas.pydata.org/pandas-docs/stable/user_guide/indexing.html#returning-a-view-versus-a-copy\n  errors=errors,\nGuardado!\n",
     "output_type": "stream"
    }
   ],
   "execution_count": null
  },
  {
   "cell_type": "code",
   "source": "limpieza_csv_2010_2017(df_2017, '2017')",
   "metadata": {
    "cell_id": "3b50bdecc6b848f29b1f2d0223e0885e",
    "tags": [],
    "deepnote_to_be_reexecuted": false,
    "source_hash": "11cb7acc",
    "execution_start": 1649603672697,
    "execution_millis": 199,
    "deepnote_cell_type": "code",
    "deepnote_cell_height": 112
   },
   "outputs": [
    {
     "name": "stdout",
     "text": "Guardado!\n",
     "output_type": "stream"
    }
   ],
   "execution_count": null
  },
  {
   "cell_type": "code",
   "source": "limpieza_csv_2010_2017(df_2010, '2010')",
   "metadata": {
    "cell_id": "b30ab092d4394c0cb7806036628178b5",
    "tags": [],
    "deepnote_to_be_reexecuted": false,
    "source_hash": "94e2d1fc",
    "execution_start": 1649606586603,
    "execution_millis": 329,
    "deepnote_cell_type": "code",
    "deepnote_cell_height": 232,
    "deepnote_output_heights": [
     null,
     606.1875
    ]
   },
   "outputs": [
    {
     "name": "stdout",
     "text": "Entro menores 2013\n/shared-libs/python3.7/py/lib/python3.7/site-packages/pandas/core/frame.py:4449: SettingWithCopyWarning: \nA value is trying to be set on a copy of a slice from a DataFrame\n\nSee the caveats in the documentation: https://pandas.pydata.org/pandas-docs/stable/user_guide/indexing.html#returning-a-view-versus-a-copy\n  errors=errors,\nGuardado!\n",
     "output_type": "stream"
    }
   ],
   "execution_count": null
  },
  {
   "cell_type": "code",
   "source": "# 2015 = \"['p301b3'] not in index\" = COD_DEPARTAMENTO\n# 2014 = \"['p301b3'] not in index\" = COD_DEPARTAMENTO\n# 2013 = \"['p301b1', 'p301b3'] not in index\" = COD_CENTRO_ESTUDIOS, COD_DEPARTAMENTO\n# 2012 = \"['p301b1', 'p301b3'] not in index\" = COD_CENTRO_ESTUDIOS, COD_DEPARTAMENTO\n# 2011 = \"['p301b1', 'p301b3'] not in index\" = COD_CENTRO_ESTUDIOS, COD_DEPARTAMENTO\n# 2010 = \"['p301b1', 'p301b3'] not in index\" = COD_CENTRO_ESTUDIOS, COD_DEPARTAMENTO",
   "metadata": {
    "cell_id": "31ffdaf426b2499aa60227c388fa5a27",
    "tags": [],
    "deepnote_cell_type": "code",
    "deepnote_cell_height": 156
   },
   "outputs": [],
   "execution_count": null
  },
  {
   "cell_type": "markdown",
   "source": "<a style='text-decoration:none;line-height:16px;display:flex;color:#5B5B62;padding:10px;justify-content:end;' href='https://deepnote.com?utm_source=created-in-deepnote-cell&projectId=61180446-cfea-4338-ac0e-81e50a732b69' target=\"_blank\">\n<img alt='Created in deepnote.com' style='display:inline;max-height:16px;margin:0px;margin-right:7.5px;' src='data:image/svg+xml;base64,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' > </img>\nCreated in <span style='font-weight:600;margin-left:4px;'>Deepnote</span></a>",
   "metadata": {
    "tags": [],
    "created_in_deepnote_cell": true,
    "deepnote_cell_type": "markdown"
   }
  }
 ],
 "nbformat": 4,
 "nbformat_minor": 2,
 "metadata": {
  "orig_nbformat": 2,
  "deepnote": {
   "is_reactive": false
  },
  "deepnote_notebook_id": "6e8927fa-d73d-4337-9318-2ddad9d62b7d",
  "deepnote_execution_queue": []
 }
}