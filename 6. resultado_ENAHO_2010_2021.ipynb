{
 "cells": [
  {
   "cell_type": "markdown",
   "source": "# Generemos gráficas resúmenes - ENAHO 2010 al 2021",
   "metadata": {
    "cell_id": "2595110f6a7c4c6e9ff56267f750cbae",
    "tags": [],
    "deepnote_cell_type": "markdown",
    "deepnote_cell_height": 134
   }
  },
  {
   "cell_type": "markdown",
   "metadata": {
    "tags": [],
    "cell_id": "b87f1e01-2823-43f7-b54b-aa7e67b83746",
    "deepnote_cell_type": "markdown",
    "deepnote_cell_height": 70
   },
   "source": "## Importamos nuestras librerías\n",
   "execution_count": null
  },
  {
   "cell_type": "code",
   "source": "import pandas as pd\nimport numpy as np\nimport seaborn as sns\nimport matplotlib as mpl\nimport matplotlib.pyplot as plt\nfrom wordcloud import WordCloud, STOPWORDS\n%matplotlib inline",
   "metadata": {
    "cell_id": "be84175d841f4e1e8011cd39ec5c045d",
    "tags": [],
    "deepnote_to_be_reexecuted": false,
    "source_hash": "bcf36dc",
    "execution_start": 1649627986695,
    "execution_millis": 3,
    "owner_user_id": "8d9f0df6-25cd-43a2-97e1-a283b68026ae",
    "deepnote_cell_type": "code",
    "deepnote_cell_height": 189
   },
   "outputs": [],
   "execution_count": null
  },
  {
   "cell_type": "code",
   "source": "mpl.style.use(['ggplot'])",
   "metadata": {
    "cell_id": "3894e8105ad243c2957975ab3c9b3deb",
    "tags": [],
    "deepnote_to_be_reexecuted": false,
    "source_hash": "94ddae8e",
    "execution_start": 1649627987984,
    "execution_millis": 1,
    "deepnote_cell_type": "code",
    "deepnote_cell_height": 81
   },
   "outputs": [],
   "execution_count": null
  },
  {
   "cell_type": "markdown",
   "source": "## Leemos nuestro dataframe",
   "metadata": {
    "cell_id": "d3bf1fe526e245dbb00a0ddc198d874e",
    "tags": [],
    "deepnote_cell_type": "markdown",
    "deepnote_cell_height": 70
   },
   "outputs": [],
   "execution_count": null
  },
  {
   "outputs": [
    {
     "output_type": "execute_result",
     "execution_count": 3,
     "data": {
      "application/vnd.deepnote.dataframe.v3+json": {
       "column_count": 12,
       "row_count": 12,
       "columns": [
        {
         "name": "anio",
         "dtype": "int64",
         "stats": {
          "unique_count": 12,
          "nan_count": 0,
          "min": "2010",
          "max": "2021",
          "histogram": [
           {
            "bin_start": 2010,
            "bin_end": 2011.1,
            "count": 2
           },
           {
            "bin_start": 2011.1,
            "bin_end": 2012.2,
            "count": 1
           },
           {
            "bin_start": 2012.2,
            "bin_end": 2013.3,
            "count": 1
           },
           {
            "bin_start": 2013.3,
            "bin_end": 2014.4,
            "count": 1
           },
           {
            "bin_start": 2014.4,
            "bin_end": 2015.5,
            "count": 1
           },
           {
            "bin_start": 2015.5,
            "bin_end": 2016.6,
            "count": 1
           },
           {
            "bin_start": 2016.6,
            "bin_end": 2017.7,
            "count": 1
           },
           {
            "bin_start": 2017.7,
            "bin_end": 2018.8,
            "count": 1
           },
           {
            "bin_start": 2018.8,
            "bin_end": 2019.9,
            "count": 1
           },
           {
            "bin_start": 2019.9,
            "bin_end": 2021,
            "count": 2
           }
          ]
         }
        },
        {
         "name": "sup_uni_incompleta",
         "dtype": "float64",
         "stats": {
          "unique_count": 12,
          "nan_count": 0,
          "min": "3393.0",
          "max": "6401.0",
          "histogram": [
           {
            "bin_start": 3393,
            "bin_end": 3693.8,
            "count": 1
           },
           {
            "bin_start": 3693.8,
            "bin_end": 3994.6,
            "count": 1
           },
           {
            "bin_start": 3994.6,
            "bin_end": 4295.4,
            "count": 0
           },
           {
            "bin_start": 4295.4,
            "bin_end": 4596.2,
            "count": 1
           },
           {
            "bin_start": 4596.2,
            "bin_end": 4897,
            "count": 1
           },
           {
            "bin_start": 4897,
            "bin_end": 5197.8,
            "count": 0
           },
           {
            "bin_start": 5197.8,
            "bin_end": 5498.6,
            "count": 2
           },
           {
            "bin_start": 5498.6,
            "bin_end": 5799.4,
            "count": 2
           },
           {
            "bin_start": 5799.4,
            "bin_end": 6100.200000000001,
            "count": 2
           },
           {
            "bin_start": 6100.200000000001,
            "bin_end": 6401,
            "count": 2
           }
          ]
         }
        },
        {
         "name": "sup_uni_completa",
         "dtype": "float64",
         "stats": {
          "unique_count": 12,
          "nan_count": 0,
          "min": "3109.0",
          "max": "7028.0",
          "histogram": [
           {
            "bin_start": 3109,
            "bin_end": 3500.9,
            "count": 1
           },
           {
            "bin_start": 3500.9,
            "bin_end": 3892.8,
            "count": 1
           },
           {
            "bin_start": 3892.8,
            "bin_end": 4284.7,
            "count": 1
           },
           {
            "bin_start": 4284.7,
            "bin_end": 4676.6,
            "count": 0
           },
           {
            "bin_start": 4676.6,
            "bin_end": 5068.5,
            "count": 0
           },
           {
            "bin_start": 5068.5,
            "bin_end": 5460.4,
            "count": 0
           },
           {
            "bin_start": 5460.4,
            "bin_end": 5852.299999999999,
            "count": 4
           },
           {
            "bin_start": 5852.299999999999,
            "bin_end": 6244.2,
            "count": 0
           },
           {
            "bin_start": 6244.2,
            "bin_end": 6636.1,
            "count": 1
           },
           {
            "bin_start": 6636.1,
            "bin_end": 7028,
            "count": 4
           }
          ]
         }
        },
        {
         "name": "maestria_doctorado",
         "dtype": "float64",
         "stats": {
          "unique_count": 11,
          "nan_count": 1,
          "min": "606.0",
          "max": "1441.0",
          "histogram": [
           {
            "bin_start": 606,
            "bin_end": 689.5,
            "count": 2
           },
           {
            "bin_start": 689.5,
            "bin_end": 773,
            "count": 0
           },
           {
            "bin_start": 773,
            "bin_end": 856.5,
            "count": 1
           },
           {
            "bin_start": 856.5,
            "bin_end": 940,
            "count": 0
           },
           {
            "bin_start": 940,
            "bin_end": 1023.5,
            "count": 1
           },
           {
            "bin_start": 1023.5,
            "bin_end": 1107,
            "count": 2
           },
           {
            "bin_start": 1107,
            "bin_end": 1190.5,
            "count": 1
           },
           {
            "bin_start": 1190.5,
            "bin_end": 1274,
            "count": 2
           },
           {
            "bin_start": 1274,
            "bin_end": 1357.5,
            "count": 0
           },
           {
            "bin_start": 1357.5,
            "bin_end": 1441,
            "count": 2
           }
          ]
         }
        },
        {
         "name": "pregrado_psicologia",
         "dtype": "float64",
         "stats": {
          "unique_count": 11,
          "nan_count": 0,
          "min": "67.0",
          "max": "260.0",
          "histogram": [
           {
            "bin_start": 67,
            "bin_end": 86.3,
            "count": 1
           },
           {
            "bin_start": 86.3,
            "bin_end": 105.6,
            "count": 1
           },
           {
            "bin_start": 105.6,
            "bin_end": 124.9,
            "count": 2
           },
           {
            "bin_start": 124.9,
            "bin_end": 144.2,
            "count": 1
           },
           {
            "bin_start": 144.2,
            "bin_end": 163.5,
            "count": 1
           },
           {
            "bin_start": 163.5,
            "bin_end": 182.8,
            "count": 1
           },
           {
            "bin_start": 182.8,
            "bin_end": 202.1,
            "count": 0
           },
           {
            "bin_start": 202.1,
            "bin_end": 221.4,
            "count": 2
           },
           {
            "bin_start": 221.4,
            "bin_end": 240.70000000000002,
            "count": 0
           },
           {
            "bin_start": 240.70000000000002,
            "bin_end": 260,
            "count": 3
           }
          ]
         }
        },
        {
         "name": "hombres_pregrado_psicologia",
         "dtype": "float64",
         "stats": {
          "unique_count": 11,
          "nan_count": 0,
          "min": "20.0",
          "max": "77.0",
          "histogram": [
           {
            "bin_start": 20,
            "bin_end": 25.7,
            "count": 1
           },
           {
            "bin_start": 25.7,
            "bin_end": 31.4,
            "count": 1
           },
           {
            "bin_start": 31.4,
            "bin_end": 37.1,
            "count": 3
           },
           {
            "bin_start": 37.1,
            "bin_end": 42.8,
            "count": 2
           },
           {
            "bin_start": 42.8,
            "bin_end": 48.5,
            "count": 0
           },
           {
            "bin_start": 48.5,
            "bin_end": 54.2,
            "count": 1
           },
           {
            "bin_start": 54.2,
            "bin_end": 59.9,
            "count": 0
           },
           {
            "bin_start": 59.9,
            "bin_end": 65.6,
            "count": 1
           },
           {
            "bin_start": 65.6,
            "bin_end": 71.30000000000001,
            "count": 1
           },
           {
            "bin_start": 71.30000000000001,
            "bin_end": 77,
            "count": 2
           }
          ]
         }
        },
        {
         "name": "mujeres_pregrado_psicologia",
         "dtype": "float64",
         "stats": {
          "unique_count": 11,
          "nan_count": 0,
          "min": "47.0",
          "max": "185.0",
          "histogram": [
           {
            "bin_start": 47,
            "bin_end": 60.8,
            "count": 1
           },
           {
            "bin_start": 60.8,
            "bin_end": 74.6,
            "count": 2
           },
           {
            "bin_start": 74.6,
            "bin_end": 88.4,
            "count": 1
           },
           {
            "bin_start": 88.4,
            "bin_end": 102.2,
            "count": 0
           },
           {
            "bin_start": 102.2,
            "bin_end": 116,
            "count": 2
           },
           {
            "bin_start": 116,
            "bin_end": 129.8,
            "count": 1
           },
           {
            "bin_start": 129.8,
            "bin_end": 143.60000000000002,
            "count": 0
           },
           {
            "bin_start": 143.60000000000002,
            "bin_end": 157.4,
            "count": 1
           },
           {
            "bin_start": 157.4,
            "bin_end": 171.2,
            "count": 1
           },
           {
            "bin_start": 171.2,
            "bin_end": 185,
            "count": 3
           }
          ]
         }
        },
        {
         "name": "pregrado_derecho",
         "dtype": "float64",
         "stats": {
          "unique_count": 12,
          "nan_count": 0,
          "min": "213.0",
          "max": "445.0",
          "histogram": [
           {
            "bin_start": 213,
            "bin_end": 236.2,
            "count": 2
           },
           {
            "bin_start": 236.2,
            "bin_end": 259.4,
            "count": 0
           },
           {
            "bin_start": 259.4,
            "bin_end": 282.6,
            "count": 2
           },
           {
            "bin_start": 282.6,
            "bin_end": 305.8,
            "count": 1
           },
           {
            "bin_start": 305.8,
            "bin_end": 329,
            "count": 1
           },
           {
            "bin_start": 329,
            "bin_end": 352.2,
            "count": 1
           },
           {
            "bin_start": 352.2,
            "bin_end": 375.4,
            "count": 1
           },
           {
            "bin_start": 375.4,
            "bin_end": 398.6,
            "count": 1
           },
           {
            "bin_start": 398.6,
            "bin_end": 421.79999999999995,
            "count": 1
           },
           {
            "bin_start": 421.79999999999995,
            "bin_end": 445,
            "count": 2
           }
          ]
         }
        },
        {
         "name": "pregrado_ing_civil",
         "dtype": "float64",
         "stats": {
          "unique_count": 11,
          "nan_count": 0,
          "min": "137.0",
          "max": "451.0",
          "histogram": [
           {
            "bin_start": 137,
            "bin_end": 168.4,
            "count": 1
           },
           {
            "bin_start": 168.4,
            "bin_end": 199.8,
            "count": 1
           },
           {
            "bin_start": 199.8,
            "bin_end": 231.2,
            "count": 1
           },
           {
            "bin_start": 231.2,
            "bin_end": 262.6,
            "count": 1
           },
           {
            "bin_start": 262.6,
            "bin_end": 294,
            "count": 0
           },
           {
            "bin_start": 294,
            "bin_end": 325.4,
            "count": 2
           },
           {
            "bin_start": 325.4,
            "bin_end": 356.79999999999995,
            "count": 0
           },
           {
            "bin_start": 356.79999999999995,
            "bin_end": 388.2,
            "count": 2
           },
           {
            "bin_start": 388.2,
            "bin_end": 419.59999999999997,
            "count": 3
           },
           {
            "bin_start": 419.59999999999997,
            "bin_end": 451,
            "count": 1
           }
          ]
         }
        },
        {
         "name": "pregrado_contabilidad",
         "dtype": "float64",
         "stats": {
          "unique_count": 12,
          "nan_count": 0,
          "min": "174.0",
          "max": "555.0",
          "histogram": [
           {
            "bin_start": 174,
            "bin_end": 212.1,
            "count": 1
           },
           {
            "bin_start": 212.1,
            "bin_end": 250.2,
            "count": 0
           },
           {
            "bin_start": 250.2,
            "bin_end": 288.3,
            "count": 1
           },
           {
            "bin_start": 288.3,
            "bin_end": 326.4,
            "count": 1
           },
           {
            "bin_start": 326.4,
            "bin_end": 364.5,
            "count": 1
           },
           {
            "bin_start": 364.5,
            "bin_end": 402.6,
            "count": 1
           },
           {
            "bin_start": 402.6,
            "bin_end": 440.7,
            "count": 1
           },
           {
            "bin_start": 440.7,
            "bin_end": 478.8,
            "count": 1
           },
           {
            "bin_start": 478.8,
            "bin_end": 516.9000000000001,
            "count": 3
           },
           {
            "bin_start": 516.9000000000001,
            "bin_end": 555,
            "count": 2
           }
          ]
         }
        },
        {
         "name": "pregrado_admin_empresas",
         "dtype": "float64",
         "stats": {
          "unique_count": 12,
          "nan_count": 0,
          "min": "139.0",
          "max": "416.0",
          "histogram": [
           {
            "bin_start": 139,
            "bin_end": 166.7,
            "count": 1
           },
           {
            "bin_start": 166.7,
            "bin_end": 194.4,
            "count": 0
           },
           {
            "bin_start": 194.4,
            "bin_end": 222.1,
            "count": 0
           },
           {
            "bin_start": 222.1,
            "bin_end": 249.8,
            "count": 3
           },
           {
            "bin_start": 249.8,
            "bin_end": 277.5,
            "count": 0
           },
           {
            "bin_start": 277.5,
            "bin_end": 305.2,
            "count": 0
           },
           {
            "bin_start": 305.2,
            "bin_end": 332.9,
            "count": 3
           },
           {
            "bin_start": 332.9,
            "bin_end": 360.6,
            "count": 3
           },
           {
            "bin_start": 360.6,
            "bin_end": 388.29999999999995,
            "count": 1
           },
           {
            "bin_start": 388.29999999999995,
            "bin_end": 416,
            "count": 1
           }
          ]
         }
        },
        {
         "name": "pregrado_ing_sistemas",
         "dtype": "float64",
         "stats": {
          "unique_count": 12,
          "nan_count": 0,
          "min": "93.0",
          "max": "233.0",
          "histogram": [
           {
            "bin_start": 93,
            "bin_end": 107,
            "count": 1
           },
           {
            "bin_start": 107,
            "bin_end": 121,
            "count": 0
           },
           {
            "bin_start": 121,
            "bin_end": 135,
            "count": 0
           },
           {
            "bin_start": 135,
            "bin_end": 149,
            "count": 0
           },
           {
            "bin_start": 149,
            "bin_end": 163,
            "count": 2
           },
           {
            "bin_start": 163,
            "bin_end": 177,
            "count": 2
           },
           {
            "bin_start": 177,
            "bin_end": 191,
            "count": 1
           },
           {
            "bin_start": 191,
            "bin_end": 205,
            "count": 2
           },
           {
            "bin_start": 205,
            "bin_end": 219,
            "count": 1
           },
           {
            "bin_start": 219,
            "bin_end": 233,
            "count": 3
           }
          ]
         }
        },
        {
         "name": "_deepnote_index_column",
         "dtype": "int64"
        }
       ],
       "rows": [
        {
         "anio": 2010,
         "sup_uni_incompleta": 3393,
         "sup_uni_completa": 3109,
         "maestria_doctorado": 606,
         "pregrado_psicologia": 67,
         "hombres_pregrado_psicologia": 20,
         "mujeres_pregrado_psicologia": 47,
         "pregrado_derecho": 213,
         "pregrado_ing_civil": 137,
         "pregrado_contabilidad": 287,
         "pregrado_admin_empresas": 244,
         "pregrado_ing_sistemas": 155,
         "_deepnote_index_column": 0
        },
        {
         "anio": 2011,
         "sup_uni_incompleta": 3964,
         "sup_uni_completa": 3713,
         "maestria_doctorado": 650,
         "pregrado_psicologia": 100,
         "hombres_pregrado_psicologia": 34,
         "mujeres_pregrado_psicologia": 66,
         "pregrado_derecho": 273,
         "pregrado_ing_civil": 179,
         "pregrado_contabilidad": 362,
         "pregrado_admin_empresas": 242,
         "pregrado_ing_sistemas": 187,
         "_deepnote_index_column": 1
        },
        {
         "anio": 2012,
         "sup_uni_incompleta": 4396,
         "sup_uni_completa": 4132,
         "maestria_doctorado": 809,
         "pregrado_psicologia": 106,
         "hombres_pregrado_psicologia": 35,
         "mujeres_pregrado_psicologia": 71,
         "pregrado_derecho": 276,
         "pregrado_ing_civil": 233,
         "pregrado_contabilidad": 442,
         "pregrado_admin_empresas": 316,
         "pregrado_ing_sistemas": 170,
         "_deepnote_index_column": 2
        },
        {
         "anio": 2013,
         "sup_uni_incompleta": 5345,
         "sup_uni_completa": 5557,
         "maestria_doctorado": 1060,
         "pregrado_psicologia": 144,
         "hombres_pregrado_psicologia": 30,
         "mujeres_pregrado_psicologia": 114,
         "pregrado_derecho": 313,
         "pregrado_ing_civil": 323,
         "pregrado_contabilidad": 488,
         "pregrado_admin_empresas": 372,
         "pregrado_ing_sistemas": 233,
         "_deepnote_index_column": 3
        },
        {
         "anio": 2014,
         "sup_uni_incompleta": 5616,
         "sup_uni_completa": 5578,
         "maestria_doctorado": 1179,
         "pregrado_psicologia": 146,
         "hombres_pregrado_psicologia": 40,
         "mujeres_pregrado_psicologia": 106,
         "pregrado_derecho": 338,
         "pregrado_ing_civil": 360,
         "pregrado_contabilidad": 543,
         "pregrado_admin_empresas": 416,
         "pregrado_ing_sistemas": 221,
         "_deepnote_index_column": 4
        },
        {
         "anio": 2015,
         "sup_uni_incompleta": 5431,
         "sup_uni_completa": 5833,
         "maestria_doctorado": 1020,
         "pregrado_psicologia": 169,
         "hombres_pregrado_psicologia": 40,
         "mujeres_pregrado_psicologia": 129,
         "pregrado_derecho": 301,
         "pregrado_ing_civil": 359,
         "pregrado_contabilidad": 440,
         "pregrado_admin_empresas": 345,
         "pregrado_ing_sistemas": 191,
         "_deepnote_index_column": 5
        },
        {
         "anio": 2016,
         "sup_uni_incompleta": 6344,
         "sup_uni_completa": 6770,
         "maestria_doctorado": 1239,
         "pregrado_psicologia": 218,
         "hombres_pregrado_psicologia": 52,
         "mujeres_pregrado_psicologia": 166,
         "pregrado_derecho": 445,
         "pregrado_ing_civil": 451,
         "pregrado_contabilidad": 555,
         "pregrado_admin_empresas": 351,
         "pregrado_ing_sistemas": 223,
         "_deepnote_index_column": 6
        },
        {
         "anio": 2017,
         "sup_uni_incompleta": 6035,
         "sup_uni_completa": 6450,
         "maestria_doctorado": "nan",
         "pregrado_psicologia": 247,
         "hombres_pregrado_psicologia": 62,
         "mujeres_pregrado_psicologia": 185,
         "pregrado_derecho": 396,
         "pregrado_ing_civil": 413,
         "pregrado_contabilidad": 491,
         "pregrado_admin_empresas": 326,
         "pregrado_ing_sistemas": 199,
         "_deepnote_index_column": 7
        },
        {
         "anio": 2018,
         "sup_uni_incompleta": 6401,
         "sup_uni_completa": 7028,
         "maestria_doctorado": 1441,
         "pregrado_psicologia": 260,
         "hombres_pregrado_psicologia": 77,
         "mujeres_pregrado_psicologia": 183,
         "pregrado_derecho": 423,
         "pregrado_ing_civil": 413,
         "pregrado_contabilidad": 498,
         "pregrado_admin_empresas": 334,
         "pregrado_ing_sistemas": 218,
         "_deepnote_index_column": 8
        },
        {
         "anio": 2019,
         "sup_uni_incompleta": 5853,
         "sup_uni_completa": 6685,
         "maestria_doctorado": 1404,
         "pregrado_psicologia": 260,
         "hombres_pregrado_psicologia": 75,
         "mujeres_pregrado_psicologia": 185,
         "pregrado_derecho": 401,
         "pregrado_ing_civil": 404,
         "pregrado_contabilidad": 398,
         "pregrado_admin_empresas": 311,
         "pregrado_ing_sistemas": 168,
         "_deepnote_index_column": 9
        }
       ]
      },
      "text/plain": "    anio  sup_uni_incompleta  sup_uni_completa  maestria_doctorado  \\\n0   2010              3393.0            3109.0               606.0   \n1   2011              3964.0            3713.0               650.0   \n2   2012              4396.0            4132.0               809.0   \n3   2013              5345.0            5557.0              1060.0   \n4   2014              5616.0            5578.0              1179.0   \n5   2015              5431.0            5833.0              1020.0   \n6   2016              6344.0            6770.0              1239.0   \n7   2017              6035.0            6450.0                 NaN   \n8   2018              6401.0            7028.0              1441.0   \n9   2019              5853.0            6685.0              1404.0   \n10  2020              5779.0            6930.0              1219.0   \n11  2021              4885.0            5718.0              1024.0   \n\n    pregrado_psicologia  hombres_pregrado_psicologia  \\\n0                  67.0                         20.0   \n1                 100.0                         34.0   \n2                 106.0                         35.0   \n3                 144.0                         30.0   \n4                 146.0                         40.0   \n5                 169.0                         40.0   \n6                 218.0                         52.0   \n7                 247.0                         62.0   \n8                 260.0                         77.0   \n9                 260.0                         75.0   \n10                120.0                         37.0   \n11                221.0                         66.0   \n\n    mujeres_pregrado_psicologia  pregrado_derecho  pregrado_ing_civil  \\\n0                          47.0             213.0               137.0   \n1                          66.0             273.0               179.0   \n2                          71.0             276.0               233.0   \n3                         114.0             313.0               323.0   \n4                         106.0             338.0               360.0   \n5                         129.0             301.0               359.0   \n6                         166.0             445.0               451.0   \n7                         185.0             396.0               413.0   \n8                         183.0             423.0               413.0   \n9                         185.0             401.0               404.0   \n10                         83.0             216.0               205.0   \n11                        155.0             365.0               302.0   \n\n    pregrado_contabilidad  pregrado_admin_empresas  pregrado_ing_sistemas  \n0                   287.0                    244.0                  155.0  \n1                   362.0                    242.0                  187.0  \n2                   442.0                    316.0                  170.0  \n3                   488.0                    372.0                  233.0  \n4                   543.0                    416.0                  221.0  \n5                   440.0                    345.0                  191.0  \n6                   555.0                    351.0                  223.0  \n7                   491.0                    326.0                  199.0  \n8                   498.0                    334.0                  218.0  \n9                   398.0                    311.0                  168.0  \n10                  174.0                    139.0                   93.0  \n11                  289.0                    236.0                  153.0  ",
      "text/html": "<div>\n<style scoped>\n    .dataframe tbody tr th:only-of-type {\n        vertical-align: middle;\n    }\n\n    .dataframe tbody tr th {\n        vertical-align: top;\n    }\n\n    .dataframe thead th {\n        text-align: right;\n    }\n</style>\n<table border=\"1\" class=\"dataframe\">\n  <thead>\n    <tr style=\"text-align: right;\">\n      <th></th>\n      <th>anio</th>\n      <th>sup_uni_incompleta</th>\n      <th>sup_uni_completa</th>\n      <th>maestria_doctorado</th>\n      <th>pregrado_psicologia</th>\n      <th>hombres_pregrado_psicologia</th>\n      <th>mujeres_pregrado_psicologia</th>\n      <th>pregrado_derecho</th>\n      <th>pregrado_ing_civil</th>\n      <th>pregrado_contabilidad</th>\n      <th>pregrado_admin_empresas</th>\n      <th>pregrado_ing_sistemas</th>\n    </tr>\n  </thead>\n  <tbody>\n    <tr>\n      <th>0</th>\n      <td>2010</td>\n      <td>3393.0</td>\n      <td>3109.0</td>\n      <td>606.0</td>\n      <td>67.0</td>\n      <td>20.0</td>\n      <td>47.0</td>\n      <td>213.0</td>\n      <td>137.0</td>\n      <td>287.0</td>\n      <td>244.0</td>\n      <td>155.0</td>\n    </tr>\n    <tr>\n      <th>1</th>\n      <td>2011</td>\n      <td>3964.0</td>\n      <td>3713.0</td>\n      <td>650.0</td>\n      <td>100.0</td>\n      <td>34.0</td>\n      <td>66.0</td>\n      <td>273.0</td>\n      <td>179.0</td>\n      <td>362.0</td>\n      <td>242.0</td>\n      <td>187.0</td>\n    </tr>\n    <tr>\n      <th>2</th>\n      <td>2012</td>\n      <td>4396.0</td>\n      <td>4132.0</td>\n      <td>809.0</td>\n      <td>106.0</td>\n      <td>35.0</td>\n      <td>71.0</td>\n      <td>276.0</td>\n      <td>233.0</td>\n      <td>442.0</td>\n      <td>316.0</td>\n      <td>170.0</td>\n    </tr>\n    <tr>\n      <th>3</th>\n      <td>2013</td>\n      <td>5345.0</td>\n      <td>5557.0</td>\n      <td>1060.0</td>\n      <td>144.0</td>\n      <td>30.0</td>\n      <td>114.0</td>\n      <td>313.0</td>\n      <td>323.0</td>\n      <td>488.0</td>\n      <td>372.0</td>\n      <td>233.0</td>\n    </tr>\n    <tr>\n      <th>4</th>\n      <td>2014</td>\n      <td>5616.0</td>\n      <td>5578.0</td>\n      <td>1179.0</td>\n      <td>146.0</td>\n      <td>40.0</td>\n      <td>106.0</td>\n      <td>338.0</td>\n      <td>360.0</td>\n      <td>543.0</td>\n      <td>416.0</td>\n      <td>221.0</td>\n    </tr>\n    <tr>\n      <th>5</th>\n      <td>2015</td>\n      <td>5431.0</td>\n      <td>5833.0</td>\n      <td>1020.0</td>\n      <td>169.0</td>\n      <td>40.0</td>\n      <td>129.0</td>\n      <td>301.0</td>\n      <td>359.0</td>\n      <td>440.0</td>\n      <td>345.0</td>\n      <td>191.0</td>\n    </tr>\n    <tr>\n      <th>6</th>\n      <td>2016</td>\n      <td>6344.0</td>\n      <td>6770.0</td>\n      <td>1239.0</td>\n      <td>218.0</td>\n      <td>52.0</td>\n      <td>166.0</td>\n      <td>445.0</td>\n      <td>451.0</td>\n      <td>555.0</td>\n      <td>351.0</td>\n      <td>223.0</td>\n    </tr>\n    <tr>\n      <th>7</th>\n      <td>2017</td>\n      <td>6035.0</td>\n      <td>6450.0</td>\n      <td>NaN</td>\n      <td>247.0</td>\n      <td>62.0</td>\n      <td>185.0</td>\n      <td>396.0</td>\n      <td>413.0</td>\n      <td>491.0</td>\n      <td>326.0</td>\n      <td>199.0</td>\n    </tr>\n    <tr>\n      <th>8</th>\n      <td>2018</td>\n      <td>6401.0</td>\n      <td>7028.0</td>\n      <td>1441.0</td>\n      <td>260.0</td>\n      <td>77.0</td>\n      <td>183.0</td>\n      <td>423.0</td>\n      <td>413.0</td>\n      <td>498.0</td>\n      <td>334.0</td>\n      <td>218.0</td>\n    </tr>\n    <tr>\n      <th>9</th>\n      <td>2019</td>\n      <td>5853.0</td>\n      <td>6685.0</td>\n      <td>1404.0</td>\n      <td>260.0</td>\n      <td>75.0</td>\n      <td>185.0</td>\n      <td>401.0</td>\n      <td>404.0</td>\n      <td>398.0</td>\n      <td>311.0</td>\n      <td>168.0</td>\n    </tr>\n    <tr>\n      <th>10</th>\n      <td>2020</td>\n      <td>5779.0</td>\n      <td>6930.0</td>\n      <td>1219.0</td>\n      <td>120.0</td>\n      <td>37.0</td>\n      <td>83.0</td>\n      <td>216.0</td>\n      <td>205.0</td>\n      <td>174.0</td>\n      <td>139.0</td>\n      <td>93.0</td>\n    </tr>\n    <tr>\n      <th>11</th>\n      <td>2021</td>\n      <td>4885.0</td>\n      <td>5718.0</td>\n      <td>1024.0</td>\n      <td>221.0</td>\n      <td>66.0</td>\n      <td>155.0</td>\n      <td>365.0</td>\n      <td>302.0</td>\n      <td>289.0</td>\n      <td>236.0</td>\n      <td>153.0</td>\n    </tr>\n  </tbody>\n</table>\n</div>"
     },
     "metadata": {}
    }
   ],
   "cell_type": "code",
   "source": "df_enaho_2010_2021 = pd.read_csv('/work/enaho-personas-estudios-caracteristicas-data-science/ENAHO_2010_2021.csv')\ndf_enaho_2010_2021",
   "metadata": {
    "cell_id": "851a60a4bd854df498e31feb02f5e296",
    "tags": [],
    "deepnote_to_be_reexecuted": false,
    "source_hash": "f38dc539",
    "execution_start": 1649626631435,
    "execution_millis": 26,
    "deepnote_cell_type": "code",
    "deepnote_cell_height": 631.59375
   },
   "execution_count": null
  },
  {
   "cell_type": "markdown",
   "source": "## Los valores nulos los completamos con 'ceros = 0'",
   "metadata": {
    "cell_id": "e1acb7f7066e4e7bac6963b89bf72ad8",
    "tags": [],
    "deepnote_cell_type": "markdown",
    "deepnote_cell_height": 70
   },
   "outputs": [],
   "execution_count": null
  },
  {
   "outputs": [
    {
     "output_type": "execute_result",
     "execution_count": 4,
     "data": {
      "application/vnd.deepnote.dataframe.v3+json": {
       "column_count": 12,
       "row_count": 12,
       "columns": [
        {
         "name": "anio",
         "dtype": "int64",
         "stats": {
          "unique_count": 12,
          "nan_count": 0,
          "min": "2010",
          "max": "2021",
          "histogram": [
           {
            "bin_start": 2010,
            "bin_end": 2011.1,
            "count": 2
           },
           {
            "bin_start": 2011.1,
            "bin_end": 2012.2,
            "count": 1
           },
           {
            "bin_start": 2012.2,
            "bin_end": 2013.3,
            "count": 1
           },
           {
            "bin_start": 2013.3,
            "bin_end": 2014.4,
            "count": 1
           },
           {
            "bin_start": 2014.4,
            "bin_end": 2015.5,
            "count": 1
           },
           {
            "bin_start": 2015.5,
            "bin_end": 2016.6,
            "count": 1
           },
           {
            "bin_start": 2016.6,
            "bin_end": 2017.7,
            "count": 1
           },
           {
            "bin_start": 2017.7,
            "bin_end": 2018.8,
            "count": 1
           },
           {
            "bin_start": 2018.8,
            "bin_end": 2019.9,
            "count": 1
           },
           {
            "bin_start": 2019.9,
            "bin_end": 2021,
            "count": 2
           }
          ]
         }
        },
        {
         "name": "sup_uni_incompleta",
         "dtype": "float64",
         "stats": {
          "unique_count": 12,
          "nan_count": 0,
          "min": "3393.0",
          "max": "6401.0",
          "histogram": [
           {
            "bin_start": 3393,
            "bin_end": 3693.8,
            "count": 1
           },
           {
            "bin_start": 3693.8,
            "bin_end": 3994.6,
            "count": 1
           },
           {
            "bin_start": 3994.6,
            "bin_end": 4295.4,
            "count": 0
           },
           {
            "bin_start": 4295.4,
            "bin_end": 4596.2,
            "count": 1
           },
           {
            "bin_start": 4596.2,
            "bin_end": 4897,
            "count": 1
           },
           {
            "bin_start": 4897,
            "bin_end": 5197.8,
            "count": 0
           },
           {
            "bin_start": 5197.8,
            "bin_end": 5498.6,
            "count": 2
           },
           {
            "bin_start": 5498.6,
            "bin_end": 5799.4,
            "count": 2
           },
           {
            "bin_start": 5799.4,
            "bin_end": 6100.200000000001,
            "count": 2
           },
           {
            "bin_start": 6100.200000000001,
            "bin_end": 6401,
            "count": 2
           }
          ]
         }
        },
        {
         "name": "sup_uni_completa",
         "dtype": "float64",
         "stats": {
          "unique_count": 12,
          "nan_count": 0,
          "min": "3109.0",
          "max": "7028.0",
          "histogram": [
           {
            "bin_start": 3109,
            "bin_end": 3500.9,
            "count": 1
           },
           {
            "bin_start": 3500.9,
            "bin_end": 3892.8,
            "count": 1
           },
           {
            "bin_start": 3892.8,
            "bin_end": 4284.7,
            "count": 1
           },
           {
            "bin_start": 4284.7,
            "bin_end": 4676.6,
            "count": 0
           },
           {
            "bin_start": 4676.6,
            "bin_end": 5068.5,
            "count": 0
           },
           {
            "bin_start": 5068.5,
            "bin_end": 5460.4,
            "count": 0
           },
           {
            "bin_start": 5460.4,
            "bin_end": 5852.299999999999,
            "count": 4
           },
           {
            "bin_start": 5852.299999999999,
            "bin_end": 6244.2,
            "count": 0
           },
           {
            "bin_start": 6244.2,
            "bin_end": 6636.1,
            "count": 1
           },
           {
            "bin_start": 6636.1,
            "bin_end": 7028,
            "count": 4
           }
          ]
         }
        },
        {
         "name": "maestria_doctorado",
         "dtype": "float64",
         "stats": {
          "unique_count": 12,
          "nan_count": 0,
          "min": "0.0",
          "max": "1441.0",
          "histogram": [
           {
            "bin_start": 0,
            "bin_end": 144.1,
            "count": 1
           },
           {
            "bin_start": 144.1,
            "bin_end": 288.2,
            "count": 0
           },
           {
            "bin_start": 288.2,
            "bin_end": 432.29999999999995,
            "count": 0
           },
           {
            "bin_start": 432.29999999999995,
            "bin_end": 576.4,
            "count": 0
           },
           {
            "bin_start": 576.4,
            "bin_end": 720.5,
            "count": 2
           },
           {
            "bin_start": 720.5,
            "bin_end": 864.5999999999999,
            "count": 1
           },
           {
            "bin_start": 864.5999999999999,
            "bin_end": 1008.6999999999999,
            "count": 0
           },
           {
            "bin_start": 1008.6999999999999,
            "bin_end": 1152.8,
            "count": 3
           },
           {
            "bin_start": 1152.8,
            "bin_end": 1296.8999999999999,
            "count": 3
           },
           {
            "bin_start": 1296.8999999999999,
            "bin_end": 1441,
            "count": 2
           }
          ]
         }
        },
        {
         "name": "pregrado_psicologia",
         "dtype": "float64",
         "stats": {
          "unique_count": 11,
          "nan_count": 0,
          "min": "67.0",
          "max": "260.0",
          "histogram": [
           {
            "bin_start": 67,
            "bin_end": 86.3,
            "count": 1
           },
           {
            "bin_start": 86.3,
            "bin_end": 105.6,
            "count": 1
           },
           {
            "bin_start": 105.6,
            "bin_end": 124.9,
            "count": 2
           },
           {
            "bin_start": 124.9,
            "bin_end": 144.2,
            "count": 1
           },
           {
            "bin_start": 144.2,
            "bin_end": 163.5,
            "count": 1
           },
           {
            "bin_start": 163.5,
            "bin_end": 182.8,
            "count": 1
           },
           {
            "bin_start": 182.8,
            "bin_end": 202.1,
            "count": 0
           },
           {
            "bin_start": 202.1,
            "bin_end": 221.4,
            "count": 2
           },
           {
            "bin_start": 221.4,
            "bin_end": 240.70000000000002,
            "count": 0
           },
           {
            "bin_start": 240.70000000000002,
            "bin_end": 260,
            "count": 3
           }
          ]
         }
        },
        {
         "name": "hombres_pregrado_psicologia",
         "dtype": "float64",
         "stats": {
          "unique_count": 11,
          "nan_count": 0,
          "min": "20.0",
          "max": "77.0",
          "histogram": [
           {
            "bin_start": 20,
            "bin_end": 25.7,
            "count": 1
           },
           {
            "bin_start": 25.7,
            "bin_end": 31.4,
            "count": 1
           },
           {
            "bin_start": 31.4,
            "bin_end": 37.1,
            "count": 3
           },
           {
            "bin_start": 37.1,
            "bin_end": 42.8,
            "count": 2
           },
           {
            "bin_start": 42.8,
            "bin_end": 48.5,
            "count": 0
           },
           {
            "bin_start": 48.5,
            "bin_end": 54.2,
            "count": 1
           },
           {
            "bin_start": 54.2,
            "bin_end": 59.9,
            "count": 0
           },
           {
            "bin_start": 59.9,
            "bin_end": 65.6,
            "count": 1
           },
           {
            "bin_start": 65.6,
            "bin_end": 71.30000000000001,
            "count": 1
           },
           {
            "bin_start": 71.30000000000001,
            "bin_end": 77,
            "count": 2
           }
          ]
         }
        },
        {
         "name": "mujeres_pregrado_psicologia",
         "dtype": "float64",
         "stats": {
          "unique_count": 11,
          "nan_count": 0,
          "min": "47.0",
          "max": "185.0",
          "histogram": [
           {
            "bin_start": 47,
            "bin_end": 60.8,
            "count": 1
           },
           {
            "bin_start": 60.8,
            "bin_end": 74.6,
            "count": 2
           },
           {
            "bin_start": 74.6,
            "bin_end": 88.4,
            "count": 1
           },
           {
            "bin_start": 88.4,
            "bin_end": 102.2,
            "count": 0
           },
           {
            "bin_start": 102.2,
            "bin_end": 116,
            "count": 2
           },
           {
            "bin_start": 116,
            "bin_end": 129.8,
            "count": 1
           },
           {
            "bin_start": 129.8,
            "bin_end": 143.60000000000002,
            "count": 0
           },
           {
            "bin_start": 143.60000000000002,
            "bin_end": 157.4,
            "count": 1
           },
           {
            "bin_start": 157.4,
            "bin_end": 171.2,
            "count": 1
           },
           {
            "bin_start": 171.2,
            "bin_end": 185,
            "count": 3
           }
          ]
         }
        },
        {
         "name": "pregrado_derecho",
         "dtype": "float64",
         "stats": {
          "unique_count": 12,
          "nan_count": 0,
          "min": "213.0",
          "max": "445.0",
          "histogram": [
           {
            "bin_start": 213,
            "bin_end": 236.2,
            "count": 2
           },
           {
            "bin_start": 236.2,
            "bin_end": 259.4,
            "count": 0
           },
           {
            "bin_start": 259.4,
            "bin_end": 282.6,
            "count": 2
           },
           {
            "bin_start": 282.6,
            "bin_end": 305.8,
            "count": 1
           },
           {
            "bin_start": 305.8,
            "bin_end": 329,
            "count": 1
           },
           {
            "bin_start": 329,
            "bin_end": 352.2,
            "count": 1
           },
           {
            "bin_start": 352.2,
            "bin_end": 375.4,
            "count": 1
           },
           {
            "bin_start": 375.4,
            "bin_end": 398.6,
            "count": 1
           },
           {
            "bin_start": 398.6,
            "bin_end": 421.79999999999995,
            "count": 1
           },
           {
            "bin_start": 421.79999999999995,
            "bin_end": 445,
            "count": 2
           }
          ]
         }
        },
        {
         "name": "pregrado_ing_civil",
         "dtype": "float64",
         "stats": {
          "unique_count": 11,
          "nan_count": 0,
          "min": "137.0",
          "max": "451.0",
          "histogram": [
           {
            "bin_start": 137,
            "bin_end": 168.4,
            "count": 1
           },
           {
            "bin_start": 168.4,
            "bin_end": 199.8,
            "count": 1
           },
           {
            "bin_start": 199.8,
            "bin_end": 231.2,
            "count": 1
           },
           {
            "bin_start": 231.2,
            "bin_end": 262.6,
            "count": 1
           },
           {
            "bin_start": 262.6,
            "bin_end": 294,
            "count": 0
           },
           {
            "bin_start": 294,
            "bin_end": 325.4,
            "count": 2
           },
           {
            "bin_start": 325.4,
            "bin_end": 356.79999999999995,
            "count": 0
           },
           {
            "bin_start": 356.79999999999995,
            "bin_end": 388.2,
            "count": 2
           },
           {
            "bin_start": 388.2,
            "bin_end": 419.59999999999997,
            "count": 3
           },
           {
            "bin_start": 419.59999999999997,
            "bin_end": 451,
            "count": 1
           }
          ]
         }
        },
        {
         "name": "pregrado_contabilidad",
         "dtype": "float64",
         "stats": {
          "unique_count": 12,
          "nan_count": 0,
          "min": "174.0",
          "max": "555.0",
          "histogram": [
           {
            "bin_start": 174,
            "bin_end": 212.1,
            "count": 1
           },
           {
            "bin_start": 212.1,
            "bin_end": 250.2,
            "count": 0
           },
           {
            "bin_start": 250.2,
            "bin_end": 288.3,
            "count": 1
           },
           {
            "bin_start": 288.3,
            "bin_end": 326.4,
            "count": 1
           },
           {
            "bin_start": 326.4,
            "bin_end": 364.5,
            "count": 1
           },
           {
            "bin_start": 364.5,
            "bin_end": 402.6,
            "count": 1
           },
           {
            "bin_start": 402.6,
            "bin_end": 440.7,
            "count": 1
           },
           {
            "bin_start": 440.7,
            "bin_end": 478.8,
            "count": 1
           },
           {
            "bin_start": 478.8,
            "bin_end": 516.9000000000001,
            "count": 3
           },
           {
            "bin_start": 516.9000000000001,
            "bin_end": 555,
            "count": 2
           }
          ]
         }
        },
        {
         "name": "pregrado_admin_empresas",
         "dtype": "float64",
         "stats": {
          "unique_count": 12,
          "nan_count": 0,
          "min": "139.0",
          "max": "416.0",
          "histogram": [
           {
            "bin_start": 139,
            "bin_end": 166.7,
            "count": 1
           },
           {
            "bin_start": 166.7,
            "bin_end": 194.4,
            "count": 0
           },
           {
            "bin_start": 194.4,
            "bin_end": 222.1,
            "count": 0
           },
           {
            "bin_start": 222.1,
            "bin_end": 249.8,
            "count": 3
           },
           {
            "bin_start": 249.8,
            "bin_end": 277.5,
            "count": 0
           },
           {
            "bin_start": 277.5,
            "bin_end": 305.2,
            "count": 0
           },
           {
            "bin_start": 305.2,
            "bin_end": 332.9,
            "count": 3
           },
           {
            "bin_start": 332.9,
            "bin_end": 360.6,
            "count": 3
           },
           {
            "bin_start": 360.6,
            "bin_end": 388.29999999999995,
            "count": 1
           },
           {
            "bin_start": 388.29999999999995,
            "bin_end": 416,
            "count": 1
           }
          ]
         }
        },
        {
         "name": "pregrado_ing_sistemas",
         "dtype": "float64",
         "stats": {
          "unique_count": 12,
          "nan_count": 0,
          "min": "93.0",
          "max": "233.0",
          "histogram": [
           {
            "bin_start": 93,
            "bin_end": 107,
            "count": 1
           },
           {
            "bin_start": 107,
            "bin_end": 121,
            "count": 0
           },
           {
            "bin_start": 121,
            "bin_end": 135,
            "count": 0
           },
           {
            "bin_start": 135,
            "bin_end": 149,
            "count": 0
           },
           {
            "bin_start": 149,
            "bin_end": 163,
            "count": 2
           },
           {
            "bin_start": 163,
            "bin_end": 177,
            "count": 2
           },
           {
            "bin_start": 177,
            "bin_end": 191,
            "count": 1
           },
           {
            "bin_start": 191,
            "bin_end": 205,
            "count": 2
           },
           {
            "bin_start": 205,
            "bin_end": 219,
            "count": 1
           },
           {
            "bin_start": 219,
            "bin_end": 233,
            "count": 3
           }
          ]
         }
        },
        {
         "name": "_deepnote_index_column",
         "dtype": "int64"
        }
       ],
       "rows": [
        {
         "anio": 2010,
         "sup_uni_incompleta": 3393,
         "sup_uni_completa": 3109,
         "maestria_doctorado": 606,
         "pregrado_psicologia": 67,
         "hombres_pregrado_psicologia": 20,
         "mujeres_pregrado_psicologia": 47,
         "pregrado_derecho": 213,
         "pregrado_ing_civil": 137,
         "pregrado_contabilidad": 287,
         "pregrado_admin_empresas": 244,
         "pregrado_ing_sistemas": 155,
         "_deepnote_index_column": 0
        },
        {
         "anio": 2011,
         "sup_uni_incompleta": 3964,
         "sup_uni_completa": 3713,
         "maestria_doctorado": 650,
         "pregrado_psicologia": 100,
         "hombres_pregrado_psicologia": 34,
         "mujeres_pregrado_psicologia": 66,
         "pregrado_derecho": 273,
         "pregrado_ing_civil": 179,
         "pregrado_contabilidad": 362,
         "pregrado_admin_empresas": 242,
         "pregrado_ing_sistemas": 187,
         "_deepnote_index_column": 1
        },
        {
         "anio": 2012,
         "sup_uni_incompleta": 4396,
         "sup_uni_completa": 4132,
         "maestria_doctorado": 809,
         "pregrado_psicologia": 106,
         "hombres_pregrado_psicologia": 35,
         "mujeres_pregrado_psicologia": 71,
         "pregrado_derecho": 276,
         "pregrado_ing_civil": 233,
         "pregrado_contabilidad": 442,
         "pregrado_admin_empresas": 316,
         "pregrado_ing_sistemas": 170,
         "_deepnote_index_column": 2
        },
        {
         "anio": 2013,
         "sup_uni_incompleta": 5345,
         "sup_uni_completa": 5557,
         "maestria_doctorado": 1060,
         "pregrado_psicologia": 144,
         "hombres_pregrado_psicologia": 30,
         "mujeres_pregrado_psicologia": 114,
         "pregrado_derecho": 313,
         "pregrado_ing_civil": 323,
         "pregrado_contabilidad": 488,
         "pregrado_admin_empresas": 372,
         "pregrado_ing_sistemas": 233,
         "_deepnote_index_column": 3
        },
        {
         "anio": 2014,
         "sup_uni_incompleta": 5616,
         "sup_uni_completa": 5578,
         "maestria_doctorado": 1179,
         "pregrado_psicologia": 146,
         "hombres_pregrado_psicologia": 40,
         "mujeres_pregrado_psicologia": 106,
         "pregrado_derecho": 338,
         "pregrado_ing_civil": 360,
         "pregrado_contabilidad": 543,
         "pregrado_admin_empresas": 416,
         "pregrado_ing_sistemas": 221,
         "_deepnote_index_column": 4
        },
        {
         "anio": 2015,
         "sup_uni_incompleta": 5431,
         "sup_uni_completa": 5833,
         "maestria_doctorado": 1020,
         "pregrado_psicologia": 169,
         "hombres_pregrado_psicologia": 40,
         "mujeres_pregrado_psicologia": 129,
         "pregrado_derecho": 301,
         "pregrado_ing_civil": 359,
         "pregrado_contabilidad": 440,
         "pregrado_admin_empresas": 345,
         "pregrado_ing_sistemas": 191,
         "_deepnote_index_column": 5
        },
        {
         "anio": 2016,
         "sup_uni_incompleta": 6344,
         "sup_uni_completa": 6770,
         "maestria_doctorado": 1239,
         "pregrado_psicologia": 218,
         "hombres_pregrado_psicologia": 52,
         "mujeres_pregrado_psicologia": 166,
         "pregrado_derecho": 445,
         "pregrado_ing_civil": 451,
         "pregrado_contabilidad": 555,
         "pregrado_admin_empresas": 351,
         "pregrado_ing_sistemas": 223,
         "_deepnote_index_column": 6
        },
        {
         "anio": 2017,
         "sup_uni_incompleta": 6035,
         "sup_uni_completa": 6450,
         "maestria_doctorado": 0,
         "pregrado_psicologia": 247,
         "hombres_pregrado_psicologia": 62,
         "mujeres_pregrado_psicologia": 185,
         "pregrado_derecho": 396,
         "pregrado_ing_civil": 413,
         "pregrado_contabilidad": 491,
         "pregrado_admin_empresas": 326,
         "pregrado_ing_sistemas": 199,
         "_deepnote_index_column": 7
        },
        {
         "anio": 2018,
         "sup_uni_incompleta": 6401,
         "sup_uni_completa": 7028,
         "maestria_doctorado": 1441,
         "pregrado_psicologia": 260,
         "hombres_pregrado_psicologia": 77,
         "mujeres_pregrado_psicologia": 183,
         "pregrado_derecho": 423,
         "pregrado_ing_civil": 413,
         "pregrado_contabilidad": 498,
         "pregrado_admin_empresas": 334,
         "pregrado_ing_sistemas": 218,
         "_deepnote_index_column": 8
        },
        {
         "anio": 2019,
         "sup_uni_incompleta": 5853,
         "sup_uni_completa": 6685,
         "maestria_doctorado": 1404,
         "pregrado_psicologia": 260,
         "hombres_pregrado_psicologia": 75,
         "mujeres_pregrado_psicologia": 185,
         "pregrado_derecho": 401,
         "pregrado_ing_civil": 404,
         "pregrado_contabilidad": 398,
         "pregrado_admin_empresas": 311,
         "pregrado_ing_sistemas": 168,
         "_deepnote_index_column": 9
        }
       ]
      },
      "text/plain": "    anio  sup_uni_incompleta  sup_uni_completa  maestria_doctorado  \\\n0   2010              3393.0            3109.0               606.0   \n1   2011              3964.0            3713.0               650.0   \n2   2012              4396.0            4132.0               809.0   \n3   2013              5345.0            5557.0              1060.0   \n4   2014              5616.0            5578.0              1179.0   \n5   2015              5431.0            5833.0              1020.0   \n6   2016              6344.0            6770.0              1239.0   \n7   2017              6035.0            6450.0                 0.0   \n8   2018              6401.0            7028.0              1441.0   \n9   2019              5853.0            6685.0              1404.0   \n10  2020              5779.0            6930.0              1219.0   \n11  2021              4885.0            5718.0              1024.0   \n\n    pregrado_psicologia  hombres_pregrado_psicologia  \\\n0                  67.0                         20.0   \n1                 100.0                         34.0   \n2                 106.0                         35.0   \n3                 144.0                         30.0   \n4                 146.0                         40.0   \n5                 169.0                         40.0   \n6                 218.0                         52.0   \n7                 247.0                         62.0   \n8                 260.0                         77.0   \n9                 260.0                         75.0   \n10                120.0                         37.0   \n11                221.0                         66.0   \n\n    mujeres_pregrado_psicologia  pregrado_derecho  pregrado_ing_civil  \\\n0                          47.0             213.0               137.0   \n1                          66.0             273.0               179.0   \n2                          71.0             276.0               233.0   \n3                         114.0             313.0               323.0   \n4                         106.0             338.0               360.0   \n5                         129.0             301.0               359.0   \n6                         166.0             445.0               451.0   \n7                         185.0             396.0               413.0   \n8                         183.0             423.0               413.0   \n9                         185.0             401.0               404.0   \n10                         83.0             216.0               205.0   \n11                        155.0             365.0               302.0   \n\n    pregrado_contabilidad  pregrado_admin_empresas  pregrado_ing_sistemas  \n0                   287.0                    244.0                  155.0  \n1                   362.0                    242.0                  187.0  \n2                   442.0                    316.0                  170.0  \n3                   488.0                    372.0                  233.0  \n4                   543.0                    416.0                  221.0  \n5                   440.0                    345.0                  191.0  \n6                   555.0                    351.0                  223.0  \n7                   491.0                    326.0                  199.0  \n8                   498.0                    334.0                  218.0  \n9                   398.0                    311.0                  168.0  \n10                  174.0                    139.0                   93.0  \n11                  289.0                    236.0                  153.0  ",
      "text/html": "<div>\n<style scoped>\n    .dataframe tbody tr th:only-of-type {\n        vertical-align: middle;\n    }\n\n    .dataframe tbody tr th {\n        vertical-align: top;\n    }\n\n    .dataframe thead th {\n        text-align: right;\n    }\n</style>\n<table border=\"1\" class=\"dataframe\">\n  <thead>\n    <tr style=\"text-align: right;\">\n      <th></th>\n      <th>anio</th>\n      <th>sup_uni_incompleta</th>\n      <th>sup_uni_completa</th>\n      <th>maestria_doctorado</th>\n      <th>pregrado_psicologia</th>\n      <th>hombres_pregrado_psicologia</th>\n      <th>mujeres_pregrado_psicologia</th>\n      <th>pregrado_derecho</th>\n      <th>pregrado_ing_civil</th>\n      <th>pregrado_contabilidad</th>\n      <th>pregrado_admin_empresas</th>\n      <th>pregrado_ing_sistemas</th>\n    </tr>\n  </thead>\n  <tbody>\n    <tr>\n      <th>0</th>\n      <td>2010</td>\n      <td>3393.0</td>\n      <td>3109.0</td>\n      <td>606.0</td>\n      <td>67.0</td>\n      <td>20.0</td>\n      <td>47.0</td>\n      <td>213.0</td>\n      <td>137.0</td>\n      <td>287.0</td>\n      <td>244.0</td>\n      <td>155.0</td>\n    </tr>\n    <tr>\n      <th>1</th>\n      <td>2011</td>\n      <td>3964.0</td>\n      <td>3713.0</td>\n      <td>650.0</td>\n      <td>100.0</td>\n      <td>34.0</td>\n      <td>66.0</td>\n      <td>273.0</td>\n      <td>179.0</td>\n      <td>362.0</td>\n      <td>242.0</td>\n      <td>187.0</td>\n    </tr>\n    <tr>\n      <th>2</th>\n      <td>2012</td>\n      <td>4396.0</td>\n      <td>4132.0</td>\n      <td>809.0</td>\n      <td>106.0</td>\n      <td>35.0</td>\n      <td>71.0</td>\n      <td>276.0</td>\n      <td>233.0</td>\n      <td>442.0</td>\n      <td>316.0</td>\n      <td>170.0</td>\n    </tr>\n    <tr>\n      <th>3</th>\n      <td>2013</td>\n      <td>5345.0</td>\n      <td>5557.0</td>\n      <td>1060.0</td>\n      <td>144.0</td>\n      <td>30.0</td>\n      <td>114.0</td>\n      <td>313.0</td>\n      <td>323.0</td>\n      <td>488.0</td>\n      <td>372.0</td>\n      <td>233.0</td>\n    </tr>\n    <tr>\n      <th>4</th>\n      <td>2014</td>\n      <td>5616.0</td>\n      <td>5578.0</td>\n      <td>1179.0</td>\n      <td>146.0</td>\n      <td>40.0</td>\n      <td>106.0</td>\n      <td>338.0</td>\n      <td>360.0</td>\n      <td>543.0</td>\n      <td>416.0</td>\n      <td>221.0</td>\n    </tr>\n    <tr>\n      <th>5</th>\n      <td>2015</td>\n      <td>5431.0</td>\n      <td>5833.0</td>\n      <td>1020.0</td>\n      <td>169.0</td>\n      <td>40.0</td>\n      <td>129.0</td>\n      <td>301.0</td>\n      <td>359.0</td>\n      <td>440.0</td>\n      <td>345.0</td>\n      <td>191.0</td>\n    </tr>\n    <tr>\n      <th>6</th>\n      <td>2016</td>\n      <td>6344.0</td>\n      <td>6770.0</td>\n      <td>1239.0</td>\n      <td>218.0</td>\n      <td>52.0</td>\n      <td>166.0</td>\n      <td>445.0</td>\n      <td>451.0</td>\n      <td>555.0</td>\n      <td>351.0</td>\n      <td>223.0</td>\n    </tr>\n    <tr>\n      <th>7</th>\n      <td>2017</td>\n      <td>6035.0</td>\n      <td>6450.0</td>\n      <td>0.0</td>\n      <td>247.0</td>\n      <td>62.0</td>\n      <td>185.0</td>\n      <td>396.0</td>\n      <td>413.0</td>\n      <td>491.0</td>\n      <td>326.0</td>\n      <td>199.0</td>\n    </tr>\n    <tr>\n      <th>8</th>\n      <td>2018</td>\n      <td>6401.0</td>\n      <td>7028.0</td>\n      <td>1441.0</td>\n      <td>260.0</td>\n      <td>77.0</td>\n      <td>183.0</td>\n      <td>423.0</td>\n      <td>413.0</td>\n      <td>498.0</td>\n      <td>334.0</td>\n      <td>218.0</td>\n    </tr>\n    <tr>\n      <th>9</th>\n      <td>2019</td>\n      <td>5853.0</td>\n      <td>6685.0</td>\n      <td>1404.0</td>\n      <td>260.0</td>\n      <td>75.0</td>\n      <td>185.0</td>\n      <td>401.0</td>\n      <td>404.0</td>\n      <td>398.0</td>\n      <td>311.0</td>\n      <td>168.0</td>\n    </tr>\n    <tr>\n      <th>10</th>\n      <td>2020</td>\n      <td>5779.0</td>\n      <td>6930.0</td>\n      <td>1219.0</td>\n      <td>120.0</td>\n      <td>37.0</td>\n      <td>83.0</td>\n      <td>216.0</td>\n      <td>205.0</td>\n      <td>174.0</td>\n      <td>139.0</td>\n      <td>93.0</td>\n    </tr>\n    <tr>\n      <th>11</th>\n      <td>2021</td>\n      <td>4885.0</td>\n      <td>5718.0</td>\n      <td>1024.0</td>\n      <td>221.0</td>\n      <td>66.0</td>\n      <td>155.0</td>\n      <td>365.0</td>\n      <td>302.0</td>\n      <td>289.0</td>\n      <td>236.0</td>\n      <td>153.0</td>\n    </tr>\n  </tbody>\n</table>\n</div>"
     },
     "metadata": {}
    }
   ],
   "cell_type": "code",
   "source": "df_enaho_2010_2021.fillna(0, inplace = True)\ndf_enaho_2010_2021",
   "metadata": {
    "cell_id": "22ad847fdb724a99a095fee4a89207ba",
    "tags": [],
    "deepnote_to_be_reexecuted": false,
    "source_hash": "5522568",
    "execution_start": 1649626668096,
    "execution_millis": 7,
    "deepnote_cell_type": "code",
    "deepnote_cell_height": 631.59375
   },
   "execution_count": null
  },
  {
   "cell_type": "markdown",
   "source": "# Empezamos a graficar",
   "metadata": {
    "cell_id": "94f59602d3114d95897f0ebc251271a0",
    "tags": [],
    "deepnote_cell_type": "markdown",
    "deepnote_cell_height": 82
   },
   "outputs": [],
   "execution_count": null
  },
  {
   "cell_type": "markdown",
   "source": "> Colocamos nuestros 'anio' como index para hacer gráficos personalizados",
   "metadata": {
    "cell_id": "205e64bc90074f538899e682267e21f3",
    "tags": [],
    "deepnote_cell_type": "markdown",
    "deepnote_cell_height": 66.390625
   }
  },
  {
   "cell_type": "code",
   "source": "path_img_safe = '/work/enaho-personas-estudios-caracteristicas-data-science/GRAFICOS_ENAHO_2010_2021/'",
   "metadata": {
    "cell_id": "25e416ae9092401191dd460662bf5d28",
    "tags": [],
    "deepnote_to_be_reexecuted": false,
    "source_hash": "f0e9a6c5",
    "execution_start": 1649628721984,
    "execution_millis": 2,
    "deepnote_cell_type": "code",
    "deepnote_cell_height": 81
   },
   "outputs": [],
   "execution_count": null
  },
  {
   "outputs": [],
   "cell_type": "code",
   "source": "df_enaho_2010_2021.set_index('anio', inplace = True)",
   "metadata": {
    "cell_id": "7d2cb3e516b54734b9bccaab0e92b323",
    "tags": [],
    "deepnote_to_be_reexecuted": false,
    "source_hash": "3e0164d3",
    "execution_start": 1649627130703,
    "execution_millis": 2,
    "deepnote_cell_type": "code",
    "deepnote_cell_height": 81
   },
   "execution_count": null
  },
  {
   "cell_type": "code",
   "source": "df_enaho_2010_2021",
   "metadata": {
    "cell_id": "07b1bd1b63224ea9a1a743daaee56e6c",
    "tags": [],
    "deepnote_to_be_reexecuted": false,
    "source_hash": "477c1e8e",
    "execution_start": 1649627136228,
    "execution_millis": 45,
    "deepnote_cell_type": "code",
    "deepnote_cell_height": 613.59375
   },
   "outputs": [
    {
     "output_type": "execute_result",
     "execution_count": 6,
     "data": {
      "application/vnd.deepnote.dataframe.v3+json": {
       "column_count": 11,
       "row_count": 12,
       "columns": [
        {
         "name": "sup_uni_incompleta",
         "dtype": "float64",
         "stats": {
          "unique_count": 12,
          "nan_count": 0,
          "min": "3393.0",
          "max": "6401.0",
          "histogram": [
           {
            "bin_start": 3393,
            "bin_end": 3693.8,
            "count": 1
           },
           {
            "bin_start": 3693.8,
            "bin_end": 3994.6,
            "count": 1
           },
           {
            "bin_start": 3994.6,
            "bin_end": 4295.4,
            "count": 0
           },
           {
            "bin_start": 4295.4,
            "bin_end": 4596.2,
            "count": 1
           },
           {
            "bin_start": 4596.2,
            "bin_end": 4897,
            "count": 1
           },
           {
            "bin_start": 4897,
            "bin_end": 5197.8,
            "count": 0
           },
           {
            "bin_start": 5197.8,
            "bin_end": 5498.6,
            "count": 2
           },
           {
            "bin_start": 5498.6,
            "bin_end": 5799.4,
            "count": 2
           },
           {
            "bin_start": 5799.4,
            "bin_end": 6100.200000000001,
            "count": 2
           },
           {
            "bin_start": 6100.200000000001,
            "bin_end": 6401,
            "count": 2
           }
          ]
         }
        },
        {
         "name": "sup_uni_completa",
         "dtype": "float64",
         "stats": {
          "unique_count": 12,
          "nan_count": 0,
          "min": "3109.0",
          "max": "7028.0",
          "histogram": [
           {
            "bin_start": 3109,
            "bin_end": 3500.9,
            "count": 1
           },
           {
            "bin_start": 3500.9,
            "bin_end": 3892.8,
            "count": 1
           },
           {
            "bin_start": 3892.8,
            "bin_end": 4284.7,
            "count": 1
           },
           {
            "bin_start": 4284.7,
            "bin_end": 4676.6,
            "count": 0
           },
           {
            "bin_start": 4676.6,
            "bin_end": 5068.5,
            "count": 0
           },
           {
            "bin_start": 5068.5,
            "bin_end": 5460.4,
            "count": 0
           },
           {
            "bin_start": 5460.4,
            "bin_end": 5852.299999999999,
            "count": 4
           },
           {
            "bin_start": 5852.299999999999,
            "bin_end": 6244.2,
            "count": 0
           },
           {
            "bin_start": 6244.2,
            "bin_end": 6636.1,
            "count": 1
           },
           {
            "bin_start": 6636.1,
            "bin_end": 7028,
            "count": 4
           }
          ]
         }
        },
        {
         "name": "maestria_doctorado",
         "dtype": "float64",
         "stats": {
          "unique_count": 12,
          "nan_count": 0,
          "min": "0.0",
          "max": "1441.0",
          "histogram": [
           {
            "bin_start": 0,
            "bin_end": 144.1,
            "count": 1
           },
           {
            "bin_start": 144.1,
            "bin_end": 288.2,
            "count": 0
           },
           {
            "bin_start": 288.2,
            "bin_end": 432.29999999999995,
            "count": 0
           },
           {
            "bin_start": 432.29999999999995,
            "bin_end": 576.4,
            "count": 0
           },
           {
            "bin_start": 576.4,
            "bin_end": 720.5,
            "count": 2
           },
           {
            "bin_start": 720.5,
            "bin_end": 864.5999999999999,
            "count": 1
           },
           {
            "bin_start": 864.5999999999999,
            "bin_end": 1008.6999999999999,
            "count": 0
           },
           {
            "bin_start": 1008.6999999999999,
            "bin_end": 1152.8,
            "count": 3
           },
           {
            "bin_start": 1152.8,
            "bin_end": 1296.8999999999999,
            "count": 3
           },
           {
            "bin_start": 1296.8999999999999,
            "bin_end": 1441,
            "count": 2
           }
          ]
         }
        },
        {
         "name": "pregrado_psicologia",
         "dtype": "float64",
         "stats": {
          "unique_count": 11,
          "nan_count": 0,
          "min": "67.0",
          "max": "260.0",
          "histogram": [
           {
            "bin_start": 67,
            "bin_end": 86.3,
            "count": 1
           },
           {
            "bin_start": 86.3,
            "bin_end": 105.6,
            "count": 1
           },
           {
            "bin_start": 105.6,
            "bin_end": 124.9,
            "count": 2
           },
           {
            "bin_start": 124.9,
            "bin_end": 144.2,
            "count": 1
           },
           {
            "bin_start": 144.2,
            "bin_end": 163.5,
            "count": 1
           },
           {
            "bin_start": 163.5,
            "bin_end": 182.8,
            "count": 1
           },
           {
            "bin_start": 182.8,
            "bin_end": 202.1,
            "count": 0
           },
           {
            "bin_start": 202.1,
            "bin_end": 221.4,
            "count": 2
           },
           {
            "bin_start": 221.4,
            "bin_end": 240.70000000000002,
            "count": 0
           },
           {
            "bin_start": 240.70000000000002,
            "bin_end": 260,
            "count": 3
           }
          ]
         }
        },
        {
         "name": "hombres_pregrado_psicologia",
         "dtype": "float64",
         "stats": {
          "unique_count": 11,
          "nan_count": 0,
          "min": "20.0",
          "max": "77.0",
          "histogram": [
           {
            "bin_start": 20,
            "bin_end": 25.7,
            "count": 1
           },
           {
            "bin_start": 25.7,
            "bin_end": 31.4,
            "count": 1
           },
           {
            "bin_start": 31.4,
            "bin_end": 37.1,
            "count": 3
           },
           {
            "bin_start": 37.1,
            "bin_end": 42.8,
            "count": 2
           },
           {
            "bin_start": 42.8,
            "bin_end": 48.5,
            "count": 0
           },
           {
            "bin_start": 48.5,
            "bin_end": 54.2,
            "count": 1
           },
           {
            "bin_start": 54.2,
            "bin_end": 59.9,
            "count": 0
           },
           {
            "bin_start": 59.9,
            "bin_end": 65.6,
            "count": 1
           },
           {
            "bin_start": 65.6,
            "bin_end": 71.30000000000001,
            "count": 1
           },
           {
            "bin_start": 71.30000000000001,
            "bin_end": 77,
            "count": 2
           }
          ]
         }
        },
        {
         "name": "mujeres_pregrado_psicologia",
         "dtype": "float64",
         "stats": {
          "unique_count": 11,
          "nan_count": 0,
          "min": "47.0",
          "max": "185.0",
          "histogram": [
           {
            "bin_start": 47,
            "bin_end": 60.8,
            "count": 1
           },
           {
            "bin_start": 60.8,
            "bin_end": 74.6,
            "count": 2
           },
           {
            "bin_start": 74.6,
            "bin_end": 88.4,
            "count": 1
           },
           {
            "bin_start": 88.4,
            "bin_end": 102.2,
            "count": 0
           },
           {
            "bin_start": 102.2,
            "bin_end": 116,
            "count": 2
           },
           {
            "bin_start": 116,
            "bin_end": 129.8,
            "count": 1
           },
           {
            "bin_start": 129.8,
            "bin_end": 143.60000000000002,
            "count": 0
           },
           {
            "bin_start": 143.60000000000002,
            "bin_end": 157.4,
            "count": 1
           },
           {
            "bin_start": 157.4,
            "bin_end": 171.2,
            "count": 1
           },
           {
            "bin_start": 171.2,
            "bin_end": 185,
            "count": 3
           }
          ]
         }
        },
        {
         "name": "pregrado_derecho",
         "dtype": "float64",
         "stats": {
          "unique_count": 12,
          "nan_count": 0,
          "min": "213.0",
          "max": "445.0",
          "histogram": [
           {
            "bin_start": 213,
            "bin_end": 236.2,
            "count": 2
           },
           {
            "bin_start": 236.2,
            "bin_end": 259.4,
            "count": 0
           },
           {
            "bin_start": 259.4,
            "bin_end": 282.6,
            "count": 2
           },
           {
            "bin_start": 282.6,
            "bin_end": 305.8,
            "count": 1
           },
           {
            "bin_start": 305.8,
            "bin_end": 329,
            "count": 1
           },
           {
            "bin_start": 329,
            "bin_end": 352.2,
            "count": 1
           },
           {
            "bin_start": 352.2,
            "bin_end": 375.4,
            "count": 1
           },
           {
            "bin_start": 375.4,
            "bin_end": 398.6,
            "count": 1
           },
           {
            "bin_start": 398.6,
            "bin_end": 421.79999999999995,
            "count": 1
           },
           {
            "bin_start": 421.79999999999995,
            "bin_end": 445,
            "count": 2
           }
          ]
         }
        },
        {
         "name": "pregrado_ing_civil",
         "dtype": "float64",
         "stats": {
          "unique_count": 11,
          "nan_count": 0,
          "min": "137.0",
          "max": "451.0",
          "histogram": [
           {
            "bin_start": 137,
            "bin_end": 168.4,
            "count": 1
           },
           {
            "bin_start": 168.4,
            "bin_end": 199.8,
            "count": 1
           },
           {
            "bin_start": 199.8,
            "bin_end": 231.2,
            "count": 1
           },
           {
            "bin_start": 231.2,
            "bin_end": 262.6,
            "count": 1
           },
           {
            "bin_start": 262.6,
            "bin_end": 294,
            "count": 0
           },
           {
            "bin_start": 294,
            "bin_end": 325.4,
            "count": 2
           },
           {
            "bin_start": 325.4,
            "bin_end": 356.79999999999995,
            "count": 0
           },
           {
            "bin_start": 356.79999999999995,
            "bin_end": 388.2,
            "count": 2
           },
           {
            "bin_start": 388.2,
            "bin_end": 419.59999999999997,
            "count": 3
           },
           {
            "bin_start": 419.59999999999997,
            "bin_end": 451,
            "count": 1
           }
          ]
         }
        },
        {
         "name": "pregrado_contabilidad",
         "dtype": "float64",
         "stats": {
          "unique_count": 12,
          "nan_count": 0,
          "min": "174.0",
          "max": "555.0",
          "histogram": [
           {
            "bin_start": 174,
            "bin_end": 212.1,
            "count": 1
           },
           {
            "bin_start": 212.1,
            "bin_end": 250.2,
            "count": 0
           },
           {
            "bin_start": 250.2,
            "bin_end": 288.3,
            "count": 1
           },
           {
            "bin_start": 288.3,
            "bin_end": 326.4,
            "count": 1
           },
           {
            "bin_start": 326.4,
            "bin_end": 364.5,
            "count": 1
           },
           {
            "bin_start": 364.5,
            "bin_end": 402.6,
            "count": 1
           },
           {
            "bin_start": 402.6,
            "bin_end": 440.7,
            "count": 1
           },
           {
            "bin_start": 440.7,
            "bin_end": 478.8,
            "count": 1
           },
           {
            "bin_start": 478.8,
            "bin_end": 516.9000000000001,
            "count": 3
           },
           {
            "bin_start": 516.9000000000001,
            "bin_end": 555,
            "count": 2
           }
          ]
         }
        },
        {
         "name": "pregrado_admin_empresas",
         "dtype": "float64",
         "stats": {
          "unique_count": 12,
          "nan_count": 0,
          "min": "139.0",
          "max": "416.0",
          "histogram": [
           {
            "bin_start": 139,
            "bin_end": 166.7,
            "count": 1
           },
           {
            "bin_start": 166.7,
            "bin_end": 194.4,
            "count": 0
           },
           {
            "bin_start": 194.4,
            "bin_end": 222.1,
            "count": 0
           },
           {
            "bin_start": 222.1,
            "bin_end": 249.8,
            "count": 3
           },
           {
            "bin_start": 249.8,
            "bin_end": 277.5,
            "count": 0
           },
           {
            "bin_start": 277.5,
            "bin_end": 305.2,
            "count": 0
           },
           {
            "bin_start": 305.2,
            "bin_end": 332.9,
            "count": 3
           },
           {
            "bin_start": 332.9,
            "bin_end": 360.6,
            "count": 3
           },
           {
            "bin_start": 360.6,
            "bin_end": 388.29999999999995,
            "count": 1
           },
           {
            "bin_start": 388.29999999999995,
            "bin_end": 416,
            "count": 1
           }
          ]
         }
        },
        {
         "name": "pregrado_ing_sistemas",
         "dtype": "float64",
         "stats": {
          "unique_count": 12,
          "nan_count": 0,
          "min": "93.0",
          "max": "233.0",
          "histogram": [
           {
            "bin_start": 93,
            "bin_end": 107,
            "count": 1
           },
           {
            "bin_start": 107,
            "bin_end": 121,
            "count": 0
           },
           {
            "bin_start": 121,
            "bin_end": 135,
            "count": 0
           },
           {
            "bin_start": 135,
            "bin_end": 149,
            "count": 0
           },
           {
            "bin_start": 149,
            "bin_end": 163,
            "count": 2
           },
           {
            "bin_start": 163,
            "bin_end": 177,
            "count": 2
           },
           {
            "bin_start": 177,
            "bin_end": 191,
            "count": 1
           },
           {
            "bin_start": 191,
            "bin_end": 205,
            "count": 2
           },
           {
            "bin_start": 205,
            "bin_end": 219,
            "count": 1
           },
           {
            "bin_start": 219,
            "bin_end": 233,
            "count": 3
           }
          ]
         }
        },
        {
         "name": "_deepnote_index_column",
         "dtype": "int64"
        }
       ],
       "rows": [
        {
         "sup_uni_incompleta": 3393,
         "sup_uni_completa": 3109,
         "maestria_doctorado": 606,
         "pregrado_psicologia": 67,
         "hombres_pregrado_psicologia": 20,
         "mujeres_pregrado_psicologia": 47,
         "pregrado_derecho": 213,
         "pregrado_ing_civil": 137,
         "pregrado_contabilidad": 287,
         "pregrado_admin_empresas": 244,
         "pregrado_ing_sistemas": 155,
         "_deepnote_index_column": 2010
        },
        {
         "sup_uni_incompleta": 3964,
         "sup_uni_completa": 3713,
         "maestria_doctorado": 650,
         "pregrado_psicologia": 100,
         "hombres_pregrado_psicologia": 34,
         "mujeres_pregrado_psicologia": 66,
         "pregrado_derecho": 273,
         "pregrado_ing_civil": 179,
         "pregrado_contabilidad": 362,
         "pregrado_admin_empresas": 242,
         "pregrado_ing_sistemas": 187,
         "_deepnote_index_column": 2011
        },
        {
         "sup_uni_incompleta": 4396,
         "sup_uni_completa": 4132,
         "maestria_doctorado": 809,
         "pregrado_psicologia": 106,
         "hombres_pregrado_psicologia": 35,
         "mujeres_pregrado_psicologia": 71,
         "pregrado_derecho": 276,
         "pregrado_ing_civil": 233,
         "pregrado_contabilidad": 442,
         "pregrado_admin_empresas": 316,
         "pregrado_ing_sistemas": 170,
         "_deepnote_index_column": 2012
        },
        {
         "sup_uni_incompleta": 5345,
         "sup_uni_completa": 5557,
         "maestria_doctorado": 1060,
         "pregrado_psicologia": 144,
         "hombres_pregrado_psicologia": 30,
         "mujeres_pregrado_psicologia": 114,
         "pregrado_derecho": 313,
         "pregrado_ing_civil": 323,
         "pregrado_contabilidad": 488,
         "pregrado_admin_empresas": 372,
         "pregrado_ing_sistemas": 233,
         "_deepnote_index_column": 2013
        },
        {
         "sup_uni_incompleta": 5616,
         "sup_uni_completa": 5578,
         "maestria_doctorado": 1179,
         "pregrado_psicologia": 146,
         "hombres_pregrado_psicologia": 40,
         "mujeres_pregrado_psicologia": 106,
         "pregrado_derecho": 338,
         "pregrado_ing_civil": 360,
         "pregrado_contabilidad": 543,
         "pregrado_admin_empresas": 416,
         "pregrado_ing_sistemas": 221,
         "_deepnote_index_column": 2014
        },
        {
         "sup_uni_incompleta": 5431,
         "sup_uni_completa": 5833,
         "maestria_doctorado": 1020,
         "pregrado_psicologia": 169,
         "hombres_pregrado_psicologia": 40,
         "mujeres_pregrado_psicologia": 129,
         "pregrado_derecho": 301,
         "pregrado_ing_civil": 359,
         "pregrado_contabilidad": 440,
         "pregrado_admin_empresas": 345,
         "pregrado_ing_sistemas": 191,
         "_deepnote_index_column": 2015
        },
        {
         "sup_uni_incompleta": 6344,
         "sup_uni_completa": 6770,
         "maestria_doctorado": 1239,
         "pregrado_psicologia": 218,
         "hombres_pregrado_psicologia": 52,
         "mujeres_pregrado_psicologia": 166,
         "pregrado_derecho": 445,
         "pregrado_ing_civil": 451,
         "pregrado_contabilidad": 555,
         "pregrado_admin_empresas": 351,
         "pregrado_ing_sistemas": 223,
         "_deepnote_index_column": 2016
        },
        {
         "sup_uni_incompleta": 6035,
         "sup_uni_completa": 6450,
         "maestria_doctorado": 0,
         "pregrado_psicologia": 247,
         "hombres_pregrado_psicologia": 62,
         "mujeres_pregrado_psicologia": 185,
         "pregrado_derecho": 396,
         "pregrado_ing_civil": 413,
         "pregrado_contabilidad": 491,
         "pregrado_admin_empresas": 326,
         "pregrado_ing_sistemas": 199,
         "_deepnote_index_column": 2017
        },
        {
         "sup_uni_incompleta": 6401,
         "sup_uni_completa": 7028,
         "maestria_doctorado": 1441,
         "pregrado_psicologia": 260,
         "hombres_pregrado_psicologia": 77,
         "mujeres_pregrado_psicologia": 183,
         "pregrado_derecho": 423,
         "pregrado_ing_civil": 413,
         "pregrado_contabilidad": 498,
         "pregrado_admin_empresas": 334,
         "pregrado_ing_sistemas": 218,
         "_deepnote_index_column": 2018
        },
        {
         "sup_uni_incompleta": 5853,
         "sup_uni_completa": 6685,
         "maestria_doctorado": 1404,
         "pregrado_psicologia": 260,
         "hombres_pregrado_psicologia": 75,
         "mujeres_pregrado_psicologia": 185,
         "pregrado_derecho": 401,
         "pregrado_ing_civil": 404,
         "pregrado_contabilidad": 398,
         "pregrado_admin_empresas": 311,
         "pregrado_ing_sistemas": 168,
         "_deepnote_index_column": 2019
        }
       ]
      },
      "text/plain": "      sup_uni_incompleta  sup_uni_completa  maestria_doctorado  \\\nanio                                                             \n2010              3393.0            3109.0               606.0   \n2011              3964.0            3713.0               650.0   \n2012              4396.0            4132.0               809.0   \n2013              5345.0            5557.0              1060.0   \n2014              5616.0            5578.0              1179.0   \n2015              5431.0            5833.0              1020.0   \n2016              6344.0            6770.0              1239.0   \n2017              6035.0            6450.0                 0.0   \n2018              6401.0            7028.0              1441.0   \n2019              5853.0            6685.0              1404.0   \n2020              5779.0            6930.0              1219.0   \n2021              4885.0            5718.0              1024.0   \n\n      pregrado_psicologia  hombres_pregrado_psicologia  \\\nanio                                                     \n2010                 67.0                         20.0   \n2011                100.0                         34.0   \n2012                106.0                         35.0   \n2013                144.0                         30.0   \n2014                146.0                         40.0   \n2015                169.0                         40.0   \n2016                218.0                         52.0   \n2017                247.0                         62.0   \n2018                260.0                         77.0   \n2019                260.0                         75.0   \n2020                120.0                         37.0   \n2021                221.0                         66.0   \n\n      mujeres_pregrado_psicologia  pregrado_derecho  pregrado_ing_civil  \\\nanio                                                                      \n2010                         47.0             213.0               137.0   \n2011                         66.0             273.0               179.0   \n2012                         71.0             276.0               233.0   \n2013                        114.0             313.0               323.0   \n2014                        106.0             338.0               360.0   \n2015                        129.0             301.0               359.0   \n2016                        166.0             445.0               451.0   \n2017                        185.0             396.0               413.0   \n2018                        183.0             423.0               413.0   \n2019                        185.0             401.0               404.0   \n2020                         83.0             216.0               205.0   \n2021                        155.0             365.0               302.0   \n\n      pregrado_contabilidad  pregrado_admin_empresas  pregrado_ing_sistemas  \nanio                                                                         \n2010                  287.0                    244.0                  155.0  \n2011                  362.0                    242.0                  187.0  \n2012                  442.0                    316.0                  170.0  \n2013                  488.0                    372.0                  233.0  \n2014                  543.0                    416.0                  221.0  \n2015                  440.0                    345.0                  191.0  \n2016                  555.0                    351.0                  223.0  \n2017                  491.0                    326.0                  199.0  \n2018                  498.0                    334.0                  218.0  \n2019                  398.0                    311.0                  168.0  \n2020                  174.0                    139.0                   93.0  \n2021                  289.0                    236.0                  153.0  ",
      "text/html": "<div>\n<style scoped>\n    .dataframe tbody tr th:only-of-type {\n        vertical-align: middle;\n    }\n\n    .dataframe tbody tr th {\n        vertical-align: top;\n    }\n\n    .dataframe thead th {\n        text-align: right;\n    }\n</style>\n<table border=\"1\" class=\"dataframe\">\n  <thead>\n    <tr style=\"text-align: right;\">\n      <th></th>\n      <th>sup_uni_incompleta</th>\n      <th>sup_uni_completa</th>\n      <th>maestria_doctorado</th>\n      <th>pregrado_psicologia</th>\n      <th>hombres_pregrado_psicologia</th>\n      <th>mujeres_pregrado_psicologia</th>\n      <th>pregrado_derecho</th>\n      <th>pregrado_ing_civil</th>\n      <th>pregrado_contabilidad</th>\n      <th>pregrado_admin_empresas</th>\n      <th>pregrado_ing_sistemas</th>\n    </tr>\n    <tr>\n      <th>anio</th>\n      <th></th>\n      <th></th>\n      <th></th>\n      <th></th>\n      <th></th>\n      <th></th>\n      <th></th>\n      <th></th>\n      <th></th>\n      <th></th>\n      <th></th>\n    </tr>\n  </thead>\n  <tbody>\n    <tr>\n      <th>2010</th>\n      <td>3393.0</td>\n      <td>3109.0</td>\n      <td>606.0</td>\n      <td>67.0</td>\n      <td>20.0</td>\n      <td>47.0</td>\n      <td>213.0</td>\n      <td>137.0</td>\n      <td>287.0</td>\n      <td>244.0</td>\n      <td>155.0</td>\n    </tr>\n    <tr>\n      <th>2011</th>\n      <td>3964.0</td>\n      <td>3713.0</td>\n      <td>650.0</td>\n      <td>100.0</td>\n      <td>34.0</td>\n      <td>66.0</td>\n      <td>273.0</td>\n      <td>179.0</td>\n      <td>362.0</td>\n      <td>242.0</td>\n      <td>187.0</td>\n    </tr>\n    <tr>\n      <th>2012</th>\n      <td>4396.0</td>\n      <td>4132.0</td>\n      <td>809.0</td>\n      <td>106.0</td>\n      <td>35.0</td>\n      <td>71.0</td>\n      <td>276.0</td>\n      <td>233.0</td>\n      <td>442.0</td>\n      <td>316.0</td>\n      <td>170.0</td>\n    </tr>\n    <tr>\n      <th>2013</th>\n      <td>5345.0</td>\n      <td>5557.0</td>\n      <td>1060.0</td>\n      <td>144.0</td>\n      <td>30.0</td>\n      <td>114.0</td>\n      <td>313.0</td>\n      <td>323.0</td>\n      <td>488.0</td>\n      <td>372.0</td>\n      <td>233.0</td>\n    </tr>\n    <tr>\n      <th>2014</th>\n      <td>5616.0</td>\n      <td>5578.0</td>\n      <td>1179.0</td>\n      <td>146.0</td>\n      <td>40.0</td>\n      <td>106.0</td>\n      <td>338.0</td>\n      <td>360.0</td>\n      <td>543.0</td>\n      <td>416.0</td>\n      <td>221.0</td>\n    </tr>\n    <tr>\n      <th>2015</th>\n      <td>5431.0</td>\n      <td>5833.0</td>\n      <td>1020.0</td>\n      <td>169.0</td>\n      <td>40.0</td>\n      <td>129.0</td>\n      <td>301.0</td>\n      <td>359.0</td>\n      <td>440.0</td>\n      <td>345.0</td>\n      <td>191.0</td>\n    </tr>\n    <tr>\n      <th>2016</th>\n      <td>6344.0</td>\n      <td>6770.0</td>\n      <td>1239.0</td>\n      <td>218.0</td>\n      <td>52.0</td>\n      <td>166.0</td>\n      <td>445.0</td>\n      <td>451.0</td>\n      <td>555.0</td>\n      <td>351.0</td>\n      <td>223.0</td>\n    </tr>\n    <tr>\n      <th>2017</th>\n      <td>6035.0</td>\n      <td>6450.0</td>\n      <td>0.0</td>\n      <td>247.0</td>\n      <td>62.0</td>\n      <td>185.0</td>\n      <td>396.0</td>\n      <td>413.0</td>\n      <td>491.0</td>\n      <td>326.0</td>\n      <td>199.0</td>\n    </tr>\n    <tr>\n      <th>2018</th>\n      <td>6401.0</td>\n      <td>7028.0</td>\n      <td>1441.0</td>\n      <td>260.0</td>\n      <td>77.0</td>\n      <td>183.0</td>\n      <td>423.0</td>\n      <td>413.0</td>\n      <td>498.0</td>\n      <td>334.0</td>\n      <td>218.0</td>\n    </tr>\n    <tr>\n      <th>2019</th>\n      <td>5853.0</td>\n      <td>6685.0</td>\n      <td>1404.0</td>\n      <td>260.0</td>\n      <td>75.0</td>\n      <td>185.0</td>\n      <td>401.0</td>\n      <td>404.0</td>\n      <td>398.0</td>\n      <td>311.0</td>\n      <td>168.0</td>\n    </tr>\n    <tr>\n      <th>2020</th>\n      <td>5779.0</td>\n      <td>6930.0</td>\n      <td>1219.0</td>\n      <td>120.0</td>\n      <td>37.0</td>\n      <td>83.0</td>\n      <td>216.0</td>\n      <td>205.0</td>\n      <td>174.0</td>\n      <td>139.0</td>\n      <td>93.0</td>\n    </tr>\n    <tr>\n      <th>2021</th>\n      <td>4885.0</td>\n      <td>5718.0</td>\n      <td>1024.0</td>\n      <td>221.0</td>\n      <td>66.0</td>\n      <td>155.0</td>\n      <td>365.0</td>\n      <td>302.0</td>\n      <td>289.0</td>\n      <td>236.0</td>\n      <td>153.0</td>\n    </tr>\n  </tbody>\n</table>\n</div>"
     },
     "metadata": {}
    }
   ],
   "execution_count": null
  },
  {
   "cell_type": "code",
   "source": "df_grado_acade = df_enaho_2010_2021[['sup_uni_incompleta', 'sup_uni_completa', 'maestria_doctorado']]\n\n\ndf_grado_acade.index = df_grado_acade.index.map(int)\ndf_grado_acade.plot(kind='area',\n            alpha = 0.25,\n            stacked=True,\n            figsize=(17, 10))\n\nplt.title('Tendencia según el grado académico desde el 2010 hasta 2021')\nplt.ylabel('Número de Personas')\nplt.xlabel('Años')\nplt.savefig(path_img_safe + 'grado_acade_area.png')\nplt.show()",
   "metadata": {
    "cell_id": "78889951a8a04774984be86341747d2f",
    "tags": [],
    "deepnote_to_be_reexecuted": false,
    "source_hash": "6d52829e",
    "execution_start": 1649628748256,
    "execution_millis": 591,
    "deepnote_cell_type": "code",
    "deepnote_cell_height": 886,
    "deepnote_output_heights": [
     555
    ]
   },
   "outputs": [
    {
     "data": {
      "text/plain": "<Figure size 1224x720 with 1 Axes>",
      "image/png": "[encoded data removed]"
     },
     "metadata": {
      "image/png": {
       "width": 1028,
       "height": 615
      }
     },
     "output_type": "display_data"
    }
   ],
   "execution_count": null
  },
  {
   "cell_type": "code",
   "source": "df_pregrado_psicologia = df_enaho_2010_2021['pregrado_psicologia']\ndf_pregrado_psicologia.head()",
   "metadata": {
    "cell_id": "18c23145e72d4ce3a2dec2bb91c04374",
    "tags": [],
    "deepnote_to_be_reexecuted": false,
    "source_hash": "cbc166a8",
    "execution_start": 1649627594646,
    "execution_millis": 5,
    "deepnote_cell_type": "code",
    "deepnote_cell_height": 251.375,
    "deepnote_output_heights": [
     136.390625
    ]
   },
   "outputs": [
    {
     "output_type": "execute_result",
     "execution_count": 10,
     "data": {
      "text/plain": "anio\n2010     67.0\n2011    100.0\n2012    106.0\n2013    144.0\n2014    146.0\nName: pregrado_psicologia, dtype: float64"
     },
     "metadata": {}
    }
   ],
   "execution_count": null
  },
  {
   "cell_type": "code",
   "source": "df_pregrado_psicologia.plot(kind='bar', figsize=(10, 6))\n\nplt.xlabel('Año')\nplt.ylabel('Número de personas')\nplt.title('Número de personas que estudian Psicología Pregrado desde 2010 hasta 2021')\nplt.savefig(path_img_safe + 'pregrado_psicologia_personas.png')\nplt.show()",
   "metadata": {
    "cell_id": "6a269bbacbfc45dfad2a5a320fa2a096",
    "tags": [],
    "deepnote_to_be_reexecuted": false,
    "source_hash": "c843efaa",
    "execution_start": 1649628782815,
    "execution_millis": 733,
    "deepnote_cell_type": "code",
    "deepnote_cell_height": 622,
    "deepnote_output_heights": [
     417
    ]
   },
   "outputs": [
    {
     "data": {
      "text/plain": "<Figure size 720x432 with 1 Axes>",
      "image/png": "[encoded data removed]"
     },
     "metadata": {
      "image/png": {
       "width": 628,
       "height": 415
      }
     },
     "output_type": "display_data"
    }
   ],
   "execution_count": null
  },
  {
   "cell_type": "code",
   "source": "df_enaho_2010_2021.columns",
   "metadata": {
    "cell_id": "9f0674de56814e5dbff8c07e444c1483",
    "tags": [],
    "deepnote_to_be_reexecuted": false,
    "source_hash": "3b110200",
    "execution_start": 1649627797548,
    "execution_millis": 2,
    "deepnote_cell_type": "code",
    "deepnote_cell_height": 214.1875,
    "deepnote_output_heights": [
     117.1875
    ]
   },
   "outputs": [
    {
     "output_type": "execute_result",
     "execution_count": 12,
     "data": {
      "text/plain": "Index(['sup_uni_incompleta', 'sup_uni_completa', 'maestria_doctorado',\n       'pregrado_psicologia', 'hombres_pregrado_psicologia',\n       'mujeres_pregrado_psicologia', 'pregrado_derecho', 'pregrado_ing_civil',\n       'pregrado_contabilidad', 'pregrado_admin_empresas',\n       'pregrado_ing_sistemas'],\n      dtype='object')"
     },
     "metadata": {}
    }
   ],
   "execution_count": null
  },
  {
   "cell_type": "code",
   "source": "df_pregrado_carr_uni = df_enaho_2010_2021[['pregrado_derecho', 'pregrado_ing_civil', 'pregrado_contabilidad', 'pregrado_admin_empresas', 'pregrado_ing_sistemas']]\n\ndf_pregrado_carr_uni.index = df_pregrado_carr_uni.index.map(int)\ndf_pregrado_carr_uni.plot(kind='area', stacked=False,\n            figsize=(17, 10))\n\nplt.title('Tendencia de crecimiento las 5 carrerás más popolares desde el 2010 hasta 2021')\nplt.ylabel('Cantidad de Personas')\nplt.xlabel('Años')\nplt.savefig(path_img_safe + 'carr_uni_pregrado_area.png')\nplt.show()",
   "metadata": {
    "cell_id": "3a244af213cb47c582e75071775bf90f",
    "tags": [],
    "deepnote_to_be_reexecuted": false,
    "source_hash": "1f8214b5",
    "execution_start": 1649628805371,
    "execution_millis": 683,
    "deepnote_cell_type": "code",
    "deepnote_cell_height": 840,
    "deepnote_output_heights": [
     563
    ]
   },
   "outputs": [
    {
     "data": {
      "text/plain": "<Figure size 1224x720 with 1 Axes>",
      "image/png": "[encoded data removed]"
     },
     "metadata": {
      "image/png": {
       "width": 1014,
       "height": 615
      }
     },
     "output_type": "display_data"
    }
   ],
   "execution_count": null
  },
  {
   "cell_type": "code",
   "source": "df_hombres_mujers_pregrado_psicologia = df_enaho_2010_2021[['hombres_pregrado_psicologia', 'mujeres_pregrado_psicologia']]\ndf_hombres_mujers_pregrado_psicologia.head()",
   "metadata": {
    "cell_id": "456d2bd47679457f982734caaeefa27b",
    "tags": [],
    "deepnote_to_be_reexecuted": false,
    "source_hash": "9b23e3f6",
    "execution_start": 1649628248245,
    "execution_millis": 5,
    "deepnote_cell_type": "code",
    "deepnote_cell_height": 413
   },
   "outputs": [
    {
     "output_type": "execute_result",
     "execution_count": 27,
     "data": {
      "application/vnd.deepnote.dataframe.v3+json": {
       "column_count": 2,
       "row_count": 5,
       "columns": [
        {
         "name": "hombres_pregrado_psicologia",
         "dtype": "float64",
         "stats": {
          "unique_count": 5,
          "nan_count": 0,
          "min": "20.0",
          "max": "40.0",
          "histogram": [
           {
            "bin_start": 20,
            "bin_end": 22,
            "count": 1
           },
           {
            "bin_start": 22,
            "bin_end": 24,
            "count": 0
           },
           {
            "bin_start": 24,
            "bin_end": 26,
            "count": 0
           },
           {
            "bin_start": 26,
            "bin_end": 28,
            "count": 0
           },
           {
            "bin_start": 28,
            "bin_end": 30,
            "count": 0
           },
           {
            "bin_start": 30,
            "bin_end": 32,
            "count": 1
           },
           {
            "bin_start": 32,
            "bin_end": 34,
            "count": 0
           },
           {
            "bin_start": 34,
            "bin_end": 36,
            "count": 2
           },
           {
            "bin_start": 36,
            "bin_end": 38,
            "count": 0
           },
           {
            "bin_start": 38,
            "bin_end": 40,
            "count": 1
           }
          ]
         }
        },
        {
         "name": "mujeres_pregrado_psicologia",
         "dtype": "float64",
         "stats": {
          "unique_count": 5,
          "nan_count": 0,
          "min": "47.0",
          "max": "114.0",
          "histogram": [
           {
            "bin_start": 47,
            "bin_end": 53.7,
            "count": 1
           },
           {
            "bin_start": 53.7,
            "bin_end": 60.4,
            "count": 0
           },
           {
            "bin_start": 60.4,
            "bin_end": 67.1,
            "count": 1
           },
           {
            "bin_start": 67.1,
            "bin_end": 73.8,
            "count": 1
           },
           {
            "bin_start": 73.8,
            "bin_end": 80.5,
            "count": 0
           },
           {
            "bin_start": 80.5,
            "bin_end": 87.2,
            "count": 0
           },
           {
            "bin_start": 87.2,
            "bin_end": 93.9,
            "count": 0
           },
           {
            "bin_start": 93.9,
            "bin_end": 100.6,
            "count": 0
           },
           {
            "bin_start": 100.6,
            "bin_end": 107.30000000000001,
            "count": 1
           },
           {
            "bin_start": 107.30000000000001,
            "bin_end": 114,
            "count": 1
           }
          ]
         }
        },
        {
         "name": "_deepnote_index_column",
         "dtype": "int64"
        }
       ],
       "rows": [
        {
         "hombres_pregrado_psicologia": 20,
         "mujeres_pregrado_psicologia": 47,
         "_deepnote_index_column": 2010
        },
        {
         "hombres_pregrado_psicologia": 34,
         "mujeres_pregrado_psicologia": 66,
         "_deepnote_index_column": 2011
        },
        {
         "hombres_pregrado_psicologia": 35,
         "mujeres_pregrado_psicologia": 71,
         "_deepnote_index_column": 2012
        },
        {
         "hombres_pregrado_psicologia": 30,
         "mujeres_pregrado_psicologia": 114,
         "_deepnote_index_column": 2013
        },
        {
         "hombres_pregrado_psicologia": 40,
         "mujeres_pregrado_psicologia": 106,
         "_deepnote_index_column": 2014
        }
       ]
      },
      "text/plain": "      hombres_pregrado_psicologia  mujeres_pregrado_psicologia\nanio                                                          \n2010                         20.0                         47.0\n2011                         34.0                         66.0\n2012                         35.0                         71.0\n2013                         30.0                        114.0\n2014                         40.0                        106.0",
      "text/html": "<div>\n<style scoped>\n    .dataframe tbody tr th:only-of-type {\n        vertical-align: middle;\n    }\n\n    .dataframe tbody tr th {\n        vertical-align: top;\n    }\n\n    .dataframe thead th {\n        text-align: right;\n    }\n</style>\n<table border=\"1\" class=\"dataframe\">\n  <thead>\n    <tr style=\"text-align: right;\">\n      <th></th>\n      <th>hombres_pregrado_psicologia</th>\n      <th>mujeres_pregrado_psicologia</th>\n    </tr>\n    <tr>\n      <th>anio</th>\n      <th></th>\n      <th></th>\n    </tr>\n  </thead>\n  <tbody>\n    <tr>\n      <th>2010</th>\n      <td>20.0</td>\n      <td>47.0</td>\n    </tr>\n    <tr>\n      <th>2011</th>\n      <td>34.0</td>\n      <td>66.0</td>\n    </tr>\n    <tr>\n      <th>2012</th>\n      <td>35.0</td>\n      <td>71.0</td>\n    </tr>\n    <tr>\n      <th>2013</th>\n      <td>30.0</td>\n      <td>114.0</td>\n    </tr>\n    <tr>\n      <th>2014</th>\n      <td>40.0</td>\n      <td>106.0</td>\n    </tr>\n  </tbody>\n</table>\n</div>"
     },
     "metadata": {}
    }
   ],
   "execution_count": null
  },
  {
   "cell_type": "code",
   "source": "### type your answer here\ndf_hombres_mujers_pregrado_psicologia.index = df_hombres_mujers_pregrado_psicologia.index.map(int)\n\ndf_hombres_mujers_pregrado_psicologia.plot(kind = 'line', figsize=(15, 8))\nplt.title('Hombres y Mujeres de Psicología Pregrado')\nplt.xlabel('Años')\nplt.ylabel('Número de estudiantes pregrado')\nplt.savefig(path_img_safe + 'hom_muj_pregrado_psicologia_line.png')\nplt.show()",
   "metadata": {
    "cell_id": "246355e900be45ad8e0ea8b27cf181a8",
    "tags": [],
    "deepnote_to_be_reexecuted": false,
    "source_hash": "53e1dbbe",
    "execution_start": 1649628829164,
    "execution_millis": 504,
    "deepnote_cell_type": "code",
    "deepnote_cell_height": 749,
    "deepnote_output_heights": [
     508,
     291
    ]
   },
   "outputs": [
    {
     "data": {
      "text/plain": "<Figure size 1080x576 with 1 Axes>",
      "image/png": "[encoded data removed]"
     },
     "metadata": {
      "image/png": {
       "width": 902,
       "height": 506
      }
     },
     "output_type": "display_data"
    }
   ],
   "execution_count": null
  },
  {
   "cell_type": "code",
   "source": "df_grado_acade = df_enaho_2010_2021[['sup_uni_incompleta', 'sup_uni_completa', 'maestria_doctorado']]\n\n\ndf_grado_acade.plot(kind = 'line', figsize=(15, 8))\nplt.title('Tendencia cantidad de personas según el grado académido 2010 al 2021')\nplt.xlabel('Años')\nplt.ylabel('Número de personas')\nplt.savefig(path_img_safe + 'num_personas_grado_acade_line.png')\nplt.show()",
   "metadata": {
    "cell_id": "2926537d3e4846d0b3e70d6ef811de54",
    "tags": [],
    "deepnote_to_be_reexecuted": false,
    "source_hash": "8b852d75",
    "execution_start": 1649628930640,
    "execution_millis": 527,
    "deepnote_cell_type": "code",
    "deepnote_cell_height": 749,
    "deepnote_output_heights": [
     508
    ]
   },
   "outputs": [
    {
     "data": {
      "text/plain": "<Figure size 1080x576 with 1 Axes>",
      "image/png": "[encoded data removed]"
     },
     "metadata": {
      "image/png": {
       "width": 909,
       "height": 506
      }
     },
     "output_type": "display_data"
    }
   ],
   "execution_count": null
  },
  {
   "cell_type": "markdown",
   "source": "<a style='text-decoration:none;line-height:16px;display:flex;color:#5B5B62;padding:10px;justify-content:end;' href='https://deepnote.com?utm_source=created-in-deepnote-cell&projectId=61180446-cfea-4338-ac0e-81e50a732b69' target=\"_blank\">\n<img alt='Created in deepnote.com' style='display:inline;max-height:16px;margin:0px;margin-right:7.5px;' src='data:image/svg+xml;base64,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' > </img>\nCreated in <span style='font-weight:600;margin-left:4px;'>Deepnote</span></a>",
   "metadata": {
    "tags": [],
    "created_in_deepnote_cell": true,
    "deepnote_cell_type": "markdown"
   }
  }
 ],
 "nbformat": 4,
 "nbformat_minor": 2,
 "metadata": {
  "orig_nbformat": 2,
  "deepnote": {
   "is_reactive": false
  },
  "deepnote_notebook_id": "785059ee-2f13-4a19-9868-fe59f65721ef",
  "deepnote_execution_queue": []
 }
}