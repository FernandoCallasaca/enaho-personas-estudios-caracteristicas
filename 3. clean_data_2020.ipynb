{
 "cells": [
  {
   "cell_type": "markdown",
   "source": "# Extraemos datos ENAHO 2020",
   "metadata": {
    "cell_id": "e7e895fe613844709c988d8c5ff212b5",
    "tags": [],
    "deepnote_cell_type": "markdown",
    "deepnote_cell_height": 82
   }
  },
  {
   "cell_type": "markdown",
   "source": "> Librerías",
   "metadata": {
    "cell_id": "e3db0c05c4f74d52ba63a6dd05e88c84",
    "tags": [],
    "deepnote_cell_type": "markdown",
    "deepnote_cell_height": 66.390625
   }
  },
  {
   "cell_type": "code",
   "metadata": {
    "tags": [],
    "cell_id": "1350a5c7-eb0b-4c5b-b7ca-b51c6247e732",
    "deepnote_to_be_reexecuted": false,
    "source_hash": "c76c7c51",
    "execution_start": 1649537270379,
    "execution_millis": 5316193,
    "deepnote_cell_type": "code",
    "deepnote_cell_height": 99
   },
   "source": "import pandas as pd\nimport numpy as np",
   "execution_count": null,
   "outputs": []
  },
  {
   "cell_type": "markdown",
   "source": "> Leemos nuestro dataset",
   "metadata": {
    "cell_id": "9200e0d0d81f436281c354b8f9267cff",
    "tags": [],
    "deepnote_cell_type": "markdown",
    "deepnote_cell_height": 66.390625
   }
  },
  {
   "cell_type": "code",
   "metadata": {
    "cell_id": "a4103224acf34c40965efd4afca1684b",
    "tags": [],
    "deepnote_to_be_reexecuted": false,
    "source_hash": "1596e2a8",
    "execution_start": 1649539383739,
    "execution_millis": 19102,
    "deepnote_cell_type": "code",
    "deepnote_cell_height": 720.390625
   },
   "source": "# 2020\ndf_2020 = pd.read_csv('/work/enaho-personas-estudios-caracteristicas-data-science/ENAHO-2020/Enaho01A-2020-300.csv')\ndf_2020",
   "execution_count": null,
   "outputs": [
    {
     "name": "stderr",
     "text": "/shared-libs/python3.7/py-core/lib/python3.7/site-packages/IPython/core/interactiveshell.py:3229: DtypeWarning: Columns (12,13,26,32,59,130,296,311,559,560,565) have mixed types.Specify dtype option on import or set low_memory=False.\n  interactivity=interactivity, compiler=compiler, result=result)\n",
     "output_type": "stream"
    },
    {
     "output_type": "execute_result",
     "execution_count": 18,
     "data": {
      "application/vnd.deepnote.dataframe.v3+json": {
       "column_count": 568,
       "row_count": 115777,
       "columns": [
        {
         "name": "A�O",
         "dtype": "int64"
        },
        {
         "name": "MES",
         "dtype": "int64"
        },
        {
         "name": "CONGLOME",
         "dtype": "int64"
        },
        {
         "name": "VIVIENDA",
         "dtype": "int64"
        },
        {
         "name": "HOGAR",
         "dtype": "int64"
        },
        {
         "name": "CODPERSO",
         "dtype": "int64"
        },
        {
         "name": "UBIGEO",
         "dtype": "int64"
        },
        {
         "name": "DOMINIO",
         "dtype": "int64"
        },
        {
         "name": "ESTRATO",
         "dtype": "int64"
        },
        {
         "name": "CODINFOR",
         "dtype": "int64"
        },
        {
         "name": "P300N",
         "dtype": "int64"
        },
        {
         "name": "P300I",
         "dtype": "int64"
        },
        {
         "name": "P300A",
         "dtype": "object"
        },
        {
         "name": "P301A",
         "dtype": "object"
        },
        {
         "name": "P301B",
         "dtype": "object"
        },
        {
         "name": "P301C",
         "dtype": "object"
        },
        {
         "name": "P301D",
         "dtype": "object"
        },
        {
         "name": "P301A0",
         "dtype": "object"
        },
        {
         "name": "P301A1",
         "dtype": "object"
        },
        {
         "name": "P301B0",
         "dtype": "object"
        },
        {
         "name": "P301B1",
         "dtype": "object"
        },
        {
         "name": "P301B3",
         "dtype": "object"
        },
        {
         "name": "P302",
         "dtype": "object"
        },
        {
         "name": "P302X",
         "dtype": "object"
        },
        {
         "name": "P302A",
         "dtype": "object"
        },
        {
         "name": "P302B",
         "dtype": "object"
        },
        {
         "name": "P303",
         "dtype": "object"
        },
        {
         "name": "P304A",
         "dtype": "object"
        },
        {
         "name": "P304B",
         "dtype": "object"
        },
        {
         "name": "P304C",
         "dtype": "object"
        },
        {
         "name": "P304D",
         "dtype": "object"
        },
        {
         "name": "P305",
         "dtype": "object"
        },
        {
         "name": "P306",
         "dtype": "object"
        },
        {
         "name": "P307",
         "dtype": "object"
        },
        {
         "name": "P307A1",
         "dtype": "object"
        },
        {
         "name": "P307A2",
         "dtype": "object"
        },
        {
         "name": "P307A3",
         "dtype": "object"
        },
        {
         "name": "P307A4",
         "dtype": "object"
        },
        {
         "name": "P307A4_5",
         "dtype": "object"
        },
        {
         "name": "P307A4_6",
         "dtype": "object"
        },
        {
         "name": "P307A4_7",
         "dtype": "object"
        },
        {
         "name": "P307B1",
         "dtype": "object"
        },
        {
         "name": "P307B2",
         "dtype": "object"
        },
        {
         "name": "P307B3",
         "dtype": "object"
        },
        {
         "name": "P307B4",
         "dtype": "object"
        },
        {
         "name": "P307B4_5",
         "dtype": "object"
        },
        {
         "name": "P307B4_6",
         "dtype": "object"
        },
        {
         "name": "P307B4_7",
         "dtype": "object"
        },
        {
         "name": "P308A",
         "dtype": "object"
        },
        {
         "name": "P308B",
         "dtype": "object"
        },
        {
         "name": "P308C",
         "dtype": "object"
        },
        {
         "name": "P308D",
         "dtype": "object"
        },
        {
         "name": "P308B1",
         "dtype": "object"
        },
        {
         "name": "P308B2",
         "dtype": "object"
        },
        {
         "name": "P308B3",
         "dtype": "object"
        },
        {
         "name": "P308B4",
         "dtype": "object"
        },
        {
         "name": "P308B5",
         "dtype": "object"
        },
        {
         "name": "P308C1",
         "dtype": "object"
        },
        {
         "name": "P308C2",
         "dtype": "object"
        },
        {
         "name": "P310",
         "dtype": "object"
        },
        {
         "name": "P310B1",
         "dtype": "object"
        },
        {
         "name": "P310C0",
         "dtype": "object"
        },
        {
         "name": "P310C1",
         "dtype": "object"
        },
        {
         "name": "P310D1",
         "dtype": "object"
        },
        {
         "name": "P310D2",
         "dtype": "object"
        },
        {
         "name": "P310E0",
         "dtype": "object"
        },
        {
         "name": "P310E1",
         "dtype": "object"
        },
        {
         "name": "P310E3",
         "dtype": "object"
        },
        {
         "name": "P311I",
         "dtype": "object"
        },
        {
         "name": "P313",
         "dtype": "object"
        },
        {
         "name": "P314A",
         "dtype": "object"
        },
        {
         "name": "P314B$1",
         "dtype": "object"
        },
        {
         "name": "P314B$2",
         "dtype": "object"
        },
        {
         "name": "P314B$3",
         "dtype": "object"
        },
        {
         "name": "P314B$4",
         "dtype": "object"
        },
        {
         "name": "P314B$5",
         "dtype": "object"
        },
        {
         "name": "P314B$6",
         "dtype": "object"
        },
        {
         "name": "P314B$7",
         "dtype": "object"
        },
        {
         "name": "P314B1_1",
         "dtype": "object"
        },
        {
         "name": "P314B1_2",
         "dtype": "object"
        },
        {
         "name": "P314B1_6",
         "dtype": "object"
        },
        {
         "name": "P314B1_7",
         "dtype": "object"
        },
        {
         "name": "P314B1_8",
         "dtype": "object"
        },
        {
         "name": "P314B1_9",
         "dtype": "object"
        },
        {
         "name": "P314D",
         "dtype": "object"
        },
        {
         "name": "P3151",
         "dtype": "object"
        },
        {
         "name": "P3152",
         "dtype": "object"
        },
        {
         "name": "P3153",
         "dtype": "object"
        },
        {
         "name": "P3154",
         "dtype": "object"
        },
        {
         "name": "P3155",
         "dtype": "object"
        },
        {
         "name": "P3156",
         "dtype": "object"
        },
        {
         "name": "P315A",
         "dtype": "object"
        },
        {
         "name": "P315B",
         "dtype": "object"
        },
        {
         "name": "P315B2",
         "dtype": "object"
        },
        {
         "name": "P315B3",
         "dtype": "object"
        },
        {
         "name": "P315B4",
         "dtype": "object"
        },
        {
         "name": "P315B5",
         "dtype": "object"
        },
        {
         "name": "P315B6",
         "dtype": "object"
        },
        {
         "name": "P316$1",
         "dtype": "object"
        },
        {
         "name": "P316$2",
         "dtype": "object"
        },
        {
         "name": "P316$3",
         "dtype": "object"
        },
        {
         "name": "P316$4",
         "dtype": "object"
        },
        {
         "name": "P316$5",
         "dtype": "object"
        },
        {
         "name": "P316$6",
         "dtype": "object"
        },
        {
         "name": "P316$7",
         "dtype": "object"
        },
        {
         "name": "P316$8",
         "dtype": "object"
        },
        {
         "name": "P316$9",
         "dtype": "object"
        },
        {
         "name": "P316$10",
         "dtype": "object"
        },
        {
         "name": "P316$11",
         "dtype": "object"
        },
        {
         "name": "P316$12",
         "dtype": "object"
        },
        {
         "name": "P316A1",
         "dtype": "object"
        },
        {
         "name": "P316A2",
         "dtype": "object"
        },
        {
         "name": "P316A3",
         "dtype": "object"
        },
        {
         "name": "P316A4",
         "dtype": "object"
        },
        {
         "name": "P316A5",
         "dtype": "object"
        },
        {
         "name": "P316A6",
         "dtype": "object"
        },
        {
         "name": "P316B",
         "dtype": "object"
        },
        {
         "name": "P316C1",
         "dtype": "object"
        },
        {
         "name": "P316C2",
         "dtype": "object"
        },
        {
         "name": "P316C3",
         "dtype": "object"
        },
        {
         "name": "P316C4",
         "dtype": "object"
        },
        {
         "name": "P316C5",
         "dtype": "object"
        },
        {
         "name": "P316C6",
         "dtype": "object"
        },
        {
         "name": "P316C7",
         "dtype": "object"
        },
        {
         "name": "P316C8",
         "dtype": "object"
        },
        {
         "name": "P316C9",
         "dtype": "object"
        },
        {
         "name": "P316C10",
         "dtype": "object"
        },
        {
         "name": "T313A",
         "dtype": "object"
        },
        {
         "name": "P203",
         "dtype": "int64"
        },
        {
         "name": "P204",
         "dtype": "int64"
        },
        {
         "name": "P205",
         "dtype": "object"
        },
        {
         "name": "P206",
         "dtype": "object"
        },
        {
         "name": "P207",
         "dtype": "int64"
        },
        {
         "name": "P208A",
         "dtype": "int64"
        },
        {
         "name": "P209",
         "dtype": "object"
        },
        {
         "name": "IMPUTADO",
         "dtype": "object"
        },
        {
         "name": "P311N$1",
         "dtype": "object"
        },
        {
         "name": "P311N$2",
         "dtype": "object"
        },
        {
         "name": "P311N$3",
         "dtype": "object"
        },
        {
         "name": "P311N$4",
         "dtype": "object"
        },
        {
         "name": "P311N$5",
         "dtype": "object"
        },
        {
         "name": "P311N$6",
         "dtype": "object"
        },
        {
         "name": "P311N$7",
         "dtype": "object"
        },
        {
         "name": "P311N$8",
         "dtype": "object"
        },
        {
         "name": "P311$1",
         "dtype": "object"
        },
        {
         "name": "P311$2",
         "dtype": "object"
        },
        {
         "name": "P311$3",
         "dtype": "object"
        },
        {
         "name": "P311$4",
         "dtype": "object"
        },
        {
         "name": "P311$5",
         "dtype": "object"
        },
        {
         "name": "P311$6",
         "dtype": "object"
        },
        {
         "name": "P311$7",
         "dtype": "object"
        },
        {
         "name": "P311$8",
         "dtype": "object"
        },
        {
         "name": "P311A1$1",
         "dtype": "object"
        },
        {
         "name": "P311A1$2",
         "dtype": "object"
        },
        {
         "name": "P311A1$3",
         "dtype": "object"
        },
        {
         "name": "P311A1$4",
         "dtype": "object"
        },
        {
         "name": "P311A1$5",
         "dtype": "object"
        },
        {
         "name": "P311A1$6",
         "dtype": "object"
        },
        {
         "name": "P311A1$7",
         "dtype": "object"
        },
        {
         "name": "P311A1$8",
         "dtype": "object"
        },
        {
         "name": "P311A2$1",
         "dtype": "object"
        },
        {
         "name": "P311A2$2",
         "dtype": "object"
        },
        {
         "name": "P311A2$3",
         "dtype": "object"
        },
        {
         "name": "P311A2$4",
         "dtype": "object"
        },
        {
         "name": "P311A2$5",
         "dtype": "object"
        },
        {
         "name": "P311A2$6",
         "dtype": "object"
        },
        {
         "name": "P311A2$7",
         "dtype": "object"
        },
        {
         "name": "P311A2$8",
         "dtype": "object"
        },
        {
         "name": "P311A3$1",
         "dtype": "object"
        },
        {
         "name": "P311A3$2",
         "dtype": "object"
        },
        {
         "name": "P311A3$3",
         "dtype": "object"
        },
        {
         "name": "P311A3$4",
         "dtype": "object"
        },
        {
         "name": "P311A3$5",
         "dtype": "object"
        },
        {
         "name": "P311A3$6",
         "dtype": "object"
        },
        {
         "name": "P311A3$7",
         "dtype": "object"
        },
        {
         "name": "P311A3$8",
         "dtype": "object"
        },
        {
         "name": "P311A4$1",
         "dtype": "object"
        },
        {
         "name": "P311A4$2",
         "dtype": "object"
        },
        {
         "name": "P311A4$3",
         "dtype": "object"
        },
        {
         "name": "P311A4$4",
         "dtype": "object"
        },
        {
         "name": "P311A4$5",
         "dtype": "object"
        },
        {
         "name": "P311A4$6",
         "dtype": "object"
        },
        {
         "name": "P311A4$7",
         "dtype": "object"
        },
        {
         "name": "P311A4$8",
         "dtype": "object"
        },
        {
         "name": "P311A5$1",
         "dtype": "object"
        },
        {
         "name": "P311A5$2",
         "dtype": "object"
        },
        {
         "name": "P311A5$3",
         "dtype": "object"
        },
        {
         "name": "P311A5$4",
         "dtype": "object"
        },
        {
         "name": "P311A5$5",
         "dtype": "object"
        },
        {
         "name": "P311A5$6",
         "dtype": "object"
        },
        {
         "name": "P311A5$7",
         "dtype": "object"
        },
        {
         "name": "P311A5$8",
         "dtype": "object"
        },
        {
         "name": "P311A6$1",
         "dtype": "object"
        },
        {
         "name": "P311A6$2",
         "dtype": "object"
        },
        {
         "name": "P311A6$3",
         "dtype": "object"
        },
        {
         "name": "P311A6$4",
         "dtype": "object"
        },
        {
         "name": "P311A6$5",
         "dtype": "object"
        },
        {
         "name": "P311A6$6",
         "dtype": "object"
        },
        {
         "name": "P311A6$7",
         "dtype": "object"
        },
        {
         "name": "P311A6$8",
         "dtype": "object"
        },
        {
         "name": "P311A7$1",
         "dtype": "object"
        },
        {
         "name": "P311A7$2",
         "dtype": "object"
        },
        {
         "name": "P311A7$3",
         "dtype": "object"
        },
        {
         "name": "P311A7$4",
         "dtype": "object"
        },
        {
         "name": "P311A7$5",
         "dtype": "object"
        },
        {
         "name": "P311A7$6",
         "dtype": "object"
        },
        {
         "name": "P311A7$7",
         "dtype": "object"
        },
        {
         "name": "P311A7$8",
         "dtype": "object"
        },
        {
         "name": "P311B$1",
         "dtype": "object"
        },
        {
         "name": "P311B$2",
         "dtype": "object"
        },
        {
         "name": "P311B$3",
         "dtype": "object"
        },
        {
         "name": "P311B$4",
         "dtype": "object"
        },
        {
         "name": "P311B$5",
         "dtype": "object"
        },
        {
         "name": "P311B$6",
         "dtype": "object"
        },
        {
         "name": "P311B$7",
         "dtype": "object"
        },
        {
         "name": "P311B$8",
         "dtype": "object"
        },
        {
         "name": "P311C$1",
         "dtype": "object"
        },
        {
         "name": "P311C$2",
         "dtype": "object"
        },
        {
         "name": "P311C$3",
         "dtype": "object"
        },
        {
         "name": "P311C$4",
         "dtype": "object"
        },
        {
         "name": "P311C$5",
         "dtype": "object"
        },
        {
         "name": "P311C$6",
         "dtype": "object"
        },
        {
         "name": "P311C$7",
         "dtype": "object"
        },
        {
         "name": "P311C$8",
         "dtype": "object"
        },
        {
         "name": "P311D$1",
         "dtype": "object"
        },
        {
         "name": "P311D$2",
         "dtype": "object"
        },
        {
         "name": "P311D$3",
         "dtype": "object"
        },
        {
         "name": "P311D$4",
         "dtype": "object"
        },
        {
         "name": "P311D$5",
         "dtype": "object"
        },
        {
         "name": "P311D$6",
         "dtype": "object"
        },
        {
         "name": "P311D$7",
         "dtype": "object"
        },
        {
         "name": "P311D$8",
         "dtype": "object"
        },
        {
         "name": "P311D2$1",
         "dtype": "object"
        },
        {
         "name": "P311D2$2",
         "dtype": "object"
        },
        {
         "name": "P311D2$3",
         "dtype": "object"
        },
        {
         "name": "P311D2$4",
         "dtype": "object"
        },
        {
         "name": "P311D2$5",
         "dtype": "object"
        },
        {
         "name": "P311D2$6",
         "dtype": "object"
        },
        {
         "name": "P311D2$7",
         "dtype": "object"
        },
        {
         "name": "P311D2$8",
         "dtype": "object"
        },
        {
         "name": "P311D3$1",
         "dtype": "object"
        },
        {
         "name": "P311D3$2",
         "dtype": "object"
        },
        {
         "name": "P311D3$3",
         "dtype": "object"
        },
        {
         "name": "P311D3$4",
         "dtype": "object"
        },
        {
         "name": "P311D3$5",
         "dtype": "object"
        },
        {
         "name": "P311D3$6",
         "dtype": "object"
        },
        {
         "name": "P311D3$7",
         "dtype": "object"
        },
        {
         "name": "P311D3$8",
         "dtype": "object"
        },
        {
         "name": "P311D4$1",
         "dtype": "object"
        },
        {
         "name": "P311D4$2",
         "dtype": "object"
        },
        {
         "name": "P311D4$3",
         "dtype": "object"
        },
        {
         "name": "P311D4$4",
         "dtype": "object"
        },
        {
         "name": "P311D4$5",
         "dtype": "object"
        },
        {
         "name": "P311D4$6",
         "dtype": "object"
        },
        {
         "name": "P311D4$7",
         "dtype": "object"
        },
        {
         "name": "P311D4$8",
         "dtype": "object"
        },
        {
         "name": "P311D5$1",
         "dtype": "object"
        },
        {
         "name": "P311D5$2",
         "dtype": "object"
        },
        {
         "name": "P311D5$3",
         "dtype": "object"
        },
        {
         "name": "P311D5$4",
         "dtype": "object"
        },
        {
         "name": "P311D5$5",
         "dtype": "object"
        },
        {
         "name": "P311D5$6",
         "dtype": "object"
        },
        {
         "name": "P311D5$7",
         "dtype": "object"
        },
        {
         "name": "P311D5$8",
         "dtype": "object"
        },
        {
         "name": "P311D6$1",
         "dtype": "object"
        },
        {
         "name": "P311D6$2",
         "dtype": "object"
        },
        {
         "name": "P311D6$3",
         "dtype": "object"
        },
        {
         "name": "P311D6$4",
         "dtype": "object"
        },
        {
         "name": "P311D6$5",
         "dtype": "object"
        },
        {
         "name": "P311D6$6",
         "dtype": "object"
        },
        {
         "name": "P311D6$7",
         "dtype": "object"
        },
        {
         "name": "P311D6$8",
         "dtype": "object"
        },
        {
         "name": "P311D7$1",
         "dtype": "object"
        },
        {
         "name": "P311D7$2",
         "dtype": "object"
        },
        {
         "name": "P311D7$3",
         "dtype": "object"
        },
        {
         "name": "P311D7$4",
         "dtype": "object"
        },
        {
         "name": "P311D7$5",
         "dtype": "object"
        },
        {
         "name": "P311D7$6",
         "dtype": "object"
        },
        {
         "name": "P311D7$7",
         "dtype": "object"
        },
        {
         "name": "P311D7$8",
         "dtype": "object"
        },
        {
         "name": "P311E$1",
         "dtype": "object"
        },
        {
         "name": "P311E$2",
         "dtype": "object"
        },
        {
         "name": "P311E$3",
         "dtype": "object"
        },
        {
         "name": "P311E$4",
         "dtype": "object"
        },
        {
         "name": "P311E$5",
         "dtype": "object"
        },
        {
         "name": "P311E$6",
         "dtype": "object"
        },
        {
         "name": "P311E$7",
         "dtype": "object"
        },
        {
         "name": "P311E$8",
         "dtype": "object"
        },
        {
         "name": "P311T1",
         "dtype": "object"
        },
        {
         "name": "P311T22",
         "dtype": "object"
        },
        {
         "name": "P311T23",
         "dtype": "object"
        },
        {
         "name": "P311T24",
         "dtype": "object"
        },
        {
         "name": "P311T25",
         "dtype": "object"
        },
        {
         "name": "P311T26",
         "dtype": "object"
        },
        {
         "name": "P311T27",
         "dtype": "object"
        },
        {
         "name": "P311T2",
         "dtype": "object"
        },
        {
         "name": "P3121",
         "dtype": "object"
        },
        {
         "name": "P3121A1",
         "dtype": "object"
        },
        {
         "name": "P3121A2",
         "dtype": "object"
        },
        {
         "name": "P3121A3",
         "dtype": "object"
        },
        {
         "name": "P3121A4",
         "dtype": "object"
        },
        {
         "name": "P3121A5",
         "dtype": "object"
        },
        {
         "name": "P3121A6",
         "dtype": "object"
        },
        {
         "name": "P3121B",
         "dtype": "object"
        },
        {
         "name": "P3121C",
         "dtype": "object"
        },
        {
         "name": "P3121C2",
         "dtype": "object"
        },
        {
         "name": "P3121C3",
         "dtype": "object"
        },
        {
         "name": "P3121C4",
         "dtype": "object"
        },
        {
         "name": "P3121C5",
         "dtype": "object"
        },
        {
         "name": "P3121C6",
         "dtype": "object"
        },
        {
         "name": "P3121D",
         "dtype": "object"
        },
        {
         "name": "P3122",
         "dtype": "object"
        },
        {
         "name": "P3122A1",
         "dtype": "object"
        },
        {
         "name": "P3122A2",
         "dtype": "object"
        },
        {
         "name": "P3122A3",
         "dtype": "object"
        },
        {
         "name": "P3122A4",
         "dtype": "object"
        },
        {
         "name": "P3122A5",
         "dtype": "object"
        },
        {
         "name": "P3122A6",
         "dtype": "object"
        },
        {
         "name": "P3122B",
         "dtype": "object"
        },
        {
         "name": "P3122C",
         "dtype": "object"
        },
        {
         "name": "P3122C2",
         "dtype": "object"
        },
        {
         "name": "P3122C3",
         "dtype": "object"
        },
        {
         "name": "P3122C4",
         "dtype": "object"
        },
        {
         "name": "P3122C5",
         "dtype": "object"
        },
        {
         "name": "P3122C6",
         "dtype": "object"
        },
        {
         "name": "P3122D",
         "dtype": "object"
        },
        {
         "name": "P312T1",
         "dtype": "object"
        },
        {
         "name": "P312T22",
         "dtype": "object"
        },
        {
         "name": "P312T23",
         "dtype": "object"
        },
        {
         "name": "P312T24",
         "dtype": "object"
        },
        {
         "name": "P312T25",
         "dtype": "object"
        },
        {
         "name": "P312T26",
         "dtype": "object"
        },
        {
         "name": "P312T2",
         "dtype": "object"
        },
        {
         "name": "D311B$1",
         "dtype": "object"
        },
        {
         "name": "D311D2$1",
         "dtype": "object"
        },
        {
         "name": "D311D3$1",
         "dtype": "object"
        },
        {
         "name": "D311D4$1",
         "dtype": "object"
        },
        {
         "name": "D311D5$1",
         "dtype": "object"
        },
        {
         "name": "D311D6$1",
         "dtype": "object"
        },
        {
         "name": "D311D7$1",
         "dtype": "object"
        },
        {
         "name": "D311D$1",
         "dtype": "object"
        },
        {
         "name": "D311B$2",
         "dtype": "object"
        },
        {
         "name": "D311D2$2",
         "dtype": "object"
        },
        {
         "name": "D311D3$2",
         "dtype": "object"
        },
        {
         "name": "D311D4$2",
         "dtype": "object"
        },
        {
         "name": "D311D5$2",
         "dtype": "object"
        },
        {
         "name": "D311D6$2",
         "dtype": "object"
        },
        {
         "name": "D311D7$2",
         "dtype": "object"
        },
        {
         "name": "D311D$2",
         "dtype": "object"
        },
        {
         "name": "D311B$3",
         "dtype": "object"
        },
        {
         "name": "D311D2$3",
         "dtype": "object"
        },
        {
         "name": "D311D3$3",
         "dtype": "object"
        },
        {
         "name": "D311D4$3",
         "dtype": "object"
        },
        {
         "name": "D311D5$3",
         "dtype": "object"
        },
        {
         "name": "D311D6$3",
         "dtype": "object"
        },
        {
         "name": "D311D7$3",
         "dtype": "object"
        },
        {
         "name": "D311D$3",
         "dtype": "object"
        },
        {
         "name": "D311B$4",
         "dtype": "object"
        },
        {
         "name": "D311D2$4",
         "dtype": "object"
        },
        {
         "name": "D311D3$4",
         "dtype": "object"
        },
        {
         "name": "D311D4$4",
         "dtype": "object"
        },
        {
         "name": "D311D5$4",
         "dtype": "object"
        },
        {
         "name": "D311D6$4",
         "dtype": "object"
        },
        {
         "name": "D311D7$4",
         "dtype": "object"
        },
        {
         "name": "D311D$4",
         "dtype": "object"
        },
        {
         "name": "D311B$5",
         "dtype": "object"
        },
        {
         "name": "D311D2$5",
         "dtype": "object"
        },
        {
         "name": "D311D3$5",
         "dtype": "object"
        },
        {
         "name": "D311D4$5",
         "dtype": "object"
        },
        {
         "name": "D311D5$5",
         "dtype": "object"
        },
        {
         "name": "D311D6$5",
         "dtype": "object"
        },
        {
         "name": "D311D7$5",
         "dtype": "object"
        },
        {
         "name": "D311D$5",
         "dtype": "object"
        },
        {
         "name": "D311B$6",
         "dtype": "object"
        },
        {
         "name": "D311D2$6",
         "dtype": "object"
        },
        {
         "name": "D311D3$6",
         "dtype": "object"
        },
        {
         "name": "D311D4$6",
         "dtype": "object"
        },
        {
         "name": "D311D5$6",
         "dtype": "object"
        },
        {
         "name": "D311D6$6",
         "dtype": "object"
        },
        {
         "name": "D311D7$6",
         "dtype": "object"
        },
        {
         "name": "D311D$6",
         "dtype": "object"
        },
        {
         "name": "D311B$7",
         "dtype": "object"
        },
        {
         "name": "D311D2$7",
         "dtype": "object"
        },
        {
         "name": "D311D3$7",
         "dtype": "object"
        },
        {
         "name": "D311D4$7",
         "dtype": "object"
        },
        {
         "name": "D311D5$7",
         "dtype": "object"
        },
        {
         "name": "D311D6$7",
         "dtype": "object"
        },
        {
         "name": "D311D7$7",
         "dtype": "object"
        },
        {
         "name": "D311D$7",
         "dtype": "object"
        },
        {
         "name": "D3121B",
         "dtype": "object"
        },
        {
         "name": "D3121C2",
         "dtype": "object"
        },
        {
         "name": "D3121C3",
         "dtype": "object"
        },
        {
         "name": "D3121C4",
         "dtype": "object"
        },
        {
         "name": "D3121C5",
         "dtype": "object"
        },
        {
         "name": "D3121C6",
         "dtype": "object"
        },
        {
         "name": "D3121C",
         "dtype": "object"
        },
        {
         "name": "D3122B",
         "dtype": "object"
        },
        {
         "name": "D3122C2",
         "dtype": "object"
        },
        {
         "name": "D3122C3",
         "dtype": "object"
        },
        {
         "name": "D3122C4",
         "dtype": "object"
        },
        {
         "name": "D3122C5",
         "dtype": "object"
        },
        {
         "name": "D3122C6",
         "dtype": "object"
        },
        {
         "name": "D3122C",
         "dtype": "object"
        },
        {
         "name": "D315A",
         "dtype": "object"
        },
        {
         "name": "D315B2",
         "dtype": "object"
        },
        {
         "name": "D315B3",
         "dtype": "object"
        },
        {
         "name": "D315B4",
         "dtype": "object"
        },
        {
         "name": "D315B5",
         "dtype": "object"
        },
        {
         "name": "D315B6",
         "dtype": "object"
        },
        {
         "name": "D315B",
         "dtype": "object"
        },
        {
         "name": "I311B$1",
         "dtype": "object"
        },
        {
         "name": "I311B$2",
         "dtype": "object"
        },
        {
         "name": "I311B$4",
         "dtype": "object"
        },
        {
         "name": "I311B$6",
         "dtype": "object"
        },
        {
         "name": "I311B$3",
         "dtype": "object"
        },
        {
         "name": "I311B$5",
         "dtype": "object"
        },
        {
         "name": "I311B$7",
         "dtype": "object"
        },
        {
         "name": "I311D2$1",
         "dtype": "object"
        },
        {
         "name": "I311D3$1",
         "dtype": "object"
        },
        {
         "name": "I311D4$1",
         "dtype": "object"
        },
        {
         "name": "I311D5$1",
         "dtype": "object"
        },
        {
         "name": "I311D6$1",
         "dtype": "object"
        },
        {
         "name": "I311D7$1",
         "dtype": "object"
        },
        {
         "name": "I311D2$2",
         "dtype": "object"
        },
        {
         "name": "I311D3$2",
         "dtype": "object"
        },
        {
         "name": "I311D4$2",
         "dtype": "object"
        },
        {
         "name": "I311D5$2",
         "dtype": "object"
        },
        {
         "name": "I311D6$2",
         "dtype": "object"
        },
        {
         "name": "I311D7$2",
         "dtype": "object"
        },
        {
         "name": "I311D2$4",
         "dtype": "object"
        },
        {
         "name": "I311D3$4",
         "dtype": "object"
        },
        {
         "name": "I311D4$4",
         "dtype": "object"
        },
        {
         "name": "I311D5$4",
         "dtype": "object"
        },
        {
         "name": "I311D6$4",
         "dtype": "object"
        },
        {
         "name": "I311D7$4",
         "dtype": "object"
        },
        {
         "name": "I311D2$6",
         "dtype": "object"
        },
        {
         "name": "I311D3$6",
         "dtype": "object"
        },
        {
         "name": "I311D4$6",
         "dtype": "object"
        },
        {
         "name": "I311D5$6",
         "dtype": "object"
        },
        {
         "name": "I311D6$6",
         "dtype": "object"
        },
        {
         "name": "I311D7$6",
         "dtype": "object"
        },
        {
         "name": "I311D2$3",
         "dtype": "object"
        },
        {
         "name": "I311D3$3",
         "dtype": "object"
        },
        {
         "name": "I311D4$3",
         "dtype": "object"
        },
        {
         "name": "I311D5$3",
         "dtype": "object"
        },
        {
         "name": "I311D6$3",
         "dtype": "object"
        },
        {
         "name": "I311D7$3",
         "dtype": "object"
        },
        {
         "name": "I311D2$5",
         "dtype": "object"
        },
        {
         "name": "I311D3$5",
         "dtype": "object"
        },
        {
         "name": "I311D4$5",
         "dtype": "object"
        },
        {
         "name": "I311D5$5",
         "dtype": "object"
        },
        {
         "name": "I311D6$5",
         "dtype": "object"
        },
        {
         "name": "I311D7$5",
         "dtype": "object"
        },
        {
         "name": "I311D2$7",
         "dtype": "object"
        },
        {
         "name": "I311D3$7",
         "dtype": "object"
        },
        {
         "name": "I311D4$7",
         "dtype": "object"
        },
        {
         "name": "I311D5$7",
         "dtype": "object"
        },
        {
         "name": "I311D6$7",
         "dtype": "object"
        },
        {
         "name": "I311D7$7",
         "dtype": "object"
        },
        {
         "name": "I3121B",
         "dtype": "object"
        },
        {
         "name": "I3122B",
         "dtype": "object"
        },
        {
         "name": "I3121C2",
         "dtype": "object"
        },
        {
         "name": "I3121C3",
         "dtype": "object"
        },
        {
         "name": "I3121C4",
         "dtype": "object"
        },
        {
         "name": "I3121C5",
         "dtype": "object"
        },
        {
         "name": "I3121C6",
         "dtype": "object"
        },
        {
         "name": "I3122C2",
         "dtype": "object"
        },
        {
         "name": "I3122C3",
         "dtype": "object"
        },
        {
         "name": "I3122C4",
         "dtype": "object"
        },
        {
         "name": "I3122C5",
         "dtype": "object"
        },
        {
         "name": "I3122C6",
         "dtype": "object"
        },
        {
         "name": "I315A",
         "dtype": "object"
        },
        {
         "name": "I315B2",
         "dtype": "object"
        },
        {
         "name": "I315B3",
         "dtype": "object"
        },
        {
         "name": "I315B4",
         "dtype": "object"
        },
        {
         "name": "I315B5",
         "dtype": "object"
        },
        {
         "name": "I315B6",
         "dtype": "object"
        },
        {
         "name": "I311D$1",
         "dtype": "object"
        },
        {
         "name": "I311D$2",
         "dtype": "object"
        },
        {
         "name": "I311D$3",
         "dtype": "object"
        },
        {
         "name": "I311D$4",
         "dtype": "object"
        },
        {
         "name": "I311D$5",
         "dtype": "object"
        },
        {
         "name": "I311D$6",
         "dtype": "object"
        },
        {
         "name": "I311D$7",
         "dtype": "object"
        },
        {
         "name": "I3121C",
         "dtype": "object"
        },
        {
         "name": "I3122C",
         "dtype": "object"
        },
        {
         "name": "I315B",
         "dtype": "object"
        },
        {
         "name": "P311N_0",
         "dtype": "object"
        },
        {
         "name": "P311_0",
         "dtype": "object"
        },
        {
         "name": "P311A1_0",
         "dtype": "object"
        },
        {
         "name": "P311A2_0",
         "dtype": "object"
        },
        {
         "name": "P311A3_0",
         "dtype": "object"
        },
        {
         "name": "P311A4_0",
         "dtype": "object"
        },
        {
         "name": "P311A5_0",
         "dtype": "object"
        },
        {
         "name": "P311A6_0",
         "dtype": "object"
        },
        {
         "name": "P311A7_0",
         "dtype": "object"
        },
        {
         "name": "P311B_0",
         "dtype": "object"
        },
        {
         "name": "P311C_0",
         "dtype": "object"
        },
        {
         "name": "P311D_0",
         "dtype": "object"
        },
        {
         "name": "P311D2_0",
         "dtype": "object"
        },
        {
         "name": "_deepnote_index_column",
         "dtype": "int64"
        }
       ],
       "rows": [
        {
         "A�O": 2020,
         "MES": 1,
         "CONGLOME": 5009,
         "VIVIENDA": 12,
         "HOGAR": 11,
         "CODPERSO": 1,
         "UBIGEO": 10101,
         "DOMINIO": 4,
         "ESTRATO": 4,
         "CODINFOR": 1,
         "P300N": 1,
         "P300I": 1,
         "P300A": "4",
         "P301A": "6",
         "P301B": "5",
         "P301C": " ",
         "P301D": "1",
         "P301A0": "1",
         "P301A1": " ",
         "P301B0": " ",
         "P301B1": " ",
         "P301B3": " ",
         "P302": " ",
         "P302X": " ",
         "P302A": " ",
         "P302B": " ",
         "P303": "2",
         "P304A": " ",
         "P304B": " ",
         "P304C": " ",
         "P304D": " ",
         "P305": " ",
         "P306": "2",
         "P307": " ",
         "P307A1": " ",
         "P307A2": " ",
         "P307A3": " ",
         "P307A4": " ",
         "P307A4_5": " ",
         "P307A4_6": " ",
         "P307A4_7": " ",
         "P307B1": " ",
         "P307B2": " ",
         "P307B3": " ",
         "P307B4": " ",
         "P307B4_5": " ",
         "P307B4_6": " ",
         "P307B4_7": " ",
         "P308A": " ",
         "P308B": " ",
         "P308C": " ",
         "P308D": " ",
         "P308B1": " ",
         "P308B2": " ",
         "P308B3": " ",
         "P308B4": " ",
         "P308B5": " ",
         "P308C1": " ",
         "P308C2": " ",
         "P310": "2",
         "P310B1": "2",
         "P310C0": " ",
         "P310C1": " ",
         "P310D1": " ",
         "P310D2": " ",
         "P310E0": " ",
         "P310E1": " ",
         "P310E3": " ",
         "P311I": " ",
         "P313": " ",
         "P314A": "1",
         "P314B$1": "0",
         "P314B$2": "0",
         "P314B$3": "0",
         "P314B$4": "0",
         "P314B$5": "0",
         "P314B$6": "0",
         "P314B$7": "7",
         "P314B1_1": "0",
         "P314B1_2": "0",
         "P314B1_6": "0",
         "P314B1_7": "0",
         "P314B1_8": "0",
         "P314B1_9": "9",
         "P314D": "1",
         "P3151": " ",
         "P3152": " ",
         "P3153": " ",
         "P3154": " ",
         "P3155": " ",
         "P3156": " ",
         "P315A": " ",
         "P315B": " ",
         "P315B2": " ",
         "P315B3": " ",
         "P315B4": " ",
         "P315B5": " ",
         "P315B6": " ",
         "P316$1": "1",
         "P316$2": "1",
         "P316$3": "2",
         "P316$4": "2",
         "P316$5": "2",
         "P316$6": "2",
         "P316$7": "1",
         "P316$8": "2",
         "P316$9": "2",
         "P316$10": "2",
         "P316$11": "2",
         "P316$12": "1",
         "P316A1": "1",
         "P316A2": "0",
         "P316A3": "0",
         "P316A4": "0",
         "P316A5": "0",
         "P316A6": "0",
         "P316B": "2",
         "P316C1": " ",
         "P316C2": " ",
         "P316C3": " ",
         "P316C4": " ",
         "P316C5": " ",
         "P316C6": " ",
         "P316C7": " ",
         "P316C8": " ",
         "P316C9": " ",
         "P316C10": " ",
         "T313A": " ",
         "P203": 1,
         "P204": 1,
         "P205": "2",
         "P206": " ",
         "P207": 2,
         "P208A": 49,
         "P209": "5",
         "IMPUTADO": " ",
         "P311N$1": " ",
         "P311N$2": " ",
         "P311N$3": " ",
         "P311N$4": " ",
         "P311N$5": " ",
         "P311N$6": " ",
         "P311N$7": " ",
         "P311N$8": " ",
         "P311$1": " ",
         "P311$2": " ",
         "P311$3": " ",
         "P311$4": " ",
         "P311$5": " ",
         "P311$6": " ",
         "P311$7": " ",
         "P311$8": " ",
         "P311A1$1": " ",
         "P311A1$2": " ",
         "P311A1$3": " ",
         "P311A1$4": " ",
         "P311A1$5": " ",
         "P311A1$6": " ",
         "P311A1$7": " ",
         "P311A1$8": " ",
         "P311A2$1": " ",
         "P311A2$2": " ",
         "P311A2$3": " ",
         "P311A2$4": " ",
         "P311A2$5": " ",
         "P311A2$6": " ",
         "P311A2$7": " ",
         "P311A2$8": " ",
         "P311A3$1": " ",
         "P311A3$2": " ",
         "P311A3$3": " ",
         "P311A3$4": " ",
         "P311A3$5": " ",
         "P311A3$6": " ",
         "P311A3$7": " ",
         "P311A3$8": " ",
         "P311A4$1": " ",
         "P311A4$2": " ",
         "P311A4$3": " ",
         "P311A4$4": " ",
         "P311A4$5": " ",
         "P311A4$6": " ",
         "P311A4$7": " ",
         "P311A4$8": " ",
         "P311A5$1": " ",
         "P311A5$2": " ",
         "P311A5$3": " ",
         "P311A5$4": " ",
         "P311A5$5": " ",
         "P311A5$6": " ",
         "P311A5$7": " ",
         "P311A5$8": " ",
         "P311A6$1": " ",
         "P311A6$2": " ",
         "P311A6$3": " ",
         "P311A6$4": " ",
         "P311A6$5": " ",
         "P311A6$6": " ",
         "P311A6$7": " ",
         "P311A6$8": " ",
         "P311A7$1": " ",
         "P311A7$2": " ",
         "P311A7$3": " ",
         "P311A7$4": " ",
         "P311A7$5": " ",
         "P311A7$6": " ",
         "P311A7$7": " ",
         "P311A7$8": " ",
         "P311B$1": " ",
         "P311B$2": " ",
         "P311B$3": " ",
         "P311B$4": " ",
         "P311B$5": " ",
         "P311B$6": " ",
         "P311B$7": " ",
         "P311B$8": " ",
         "P311C$1": " ",
         "P311C$2": " ",
         "P311C$3": " ",
         "P311C$4": " ",
         "P311C$5": " ",
         "P311C$6": " ",
         "P311C$7": " ",
         "P311C$8": " ",
         "P311D$1": " ",
         "P311D$2": " ",
         "P311D$3": " ",
         "P311D$4": " ",
         "P311D$5": " ",
         "P311D$6": " ",
         "P311D$7": " ",
         "P311D$8": " ",
         "P311D2$1": " ",
         "P311D2$2": " ",
         "P311D2$3": " ",
         "P311D2$4": " ",
         "P311D2$5": " ",
         "P311D2$6": " ",
         "P311D2$7": " ",
         "P311D2$8": " ",
         "P311D3$1": " ",
         "P311D3$2": " ",
         "P311D3$3": " ",
         "P311D3$4": " ",
         "P311D3$5": " ",
         "P311D3$6": " ",
         "P311D3$7": " ",
         "P311D3$8": " ",
         "P311D4$1": " ",
         "P311D4$2": " ",
         "P311D4$3": " ",
         "P311D4$4": " ",
         "P311D4$5": " ",
         "P311D4$6": " ",
         "P311D4$7": " ",
         "P311D4$8": " ",
         "P311D5$1": " ",
         "P311D5$2": " ",
         "P311D5$3": " ",
         "P311D5$4": " ",
         "P311D5$5": " ",
         "P311D5$6": " ",
         "P311D5$7": " ",
         "P311D5$8": " ",
         "P311D6$1": " ",
         "P311D6$2": " ",
         "P311D6$3": " ",
         "P311D6$4": " ",
         "P311D6$5": " ",
         "P311D6$6": " ",
         "P311D6$7": " ",
         "P311D6$8": " ",
         "P311D7$1": " ",
         "P311D7$2": " ",
         "P311D7$3": " ",
         "P311D7$4": " ",
         "P311D7$5": " ",
         "P311D7$6": " ",
         "P311D7$7": " ",
         "P311D7$8": " ",
         "P311E$1": " ",
         "P311E$2": " ",
         "P311E$3": " ",
         "P311E$4": " ",
         "P311E$5": " ",
         "P311E$6": " ",
         "P311E$7": " ",
         "P311E$8": " ",
         "P311T1": " ",
         "P311T22": " ",
         "P311T23": " ",
         "P311T24": " ",
         "P311T25": " ",
         "P311T26": " ",
         "P311T27": " ",
         "P311T2": " ",
         "P3121": "2",
         "P3121A1": " ",
         "P3121A2": " ",
         "P3121A3": " ",
         "P3121A4": " ",
         "P3121A5": " ",
         "P3121A6": " ",
         "P3121B": " ",
         "P3121C": " ",
         "P3121C2": " ",
         "P3121C3": " ",
         "P3121C4": " ",
         "P3121C5": " ",
         "P3121C6": " ",
         "P3121D": " ",
         "P3122": "2",
         "P3122A1": " ",
         "P3122A2": " ",
         "P3122A3": " ",
         "P3122A4": " ",
         "P3122A5": " ",
         "P3122A6": " ",
         "P3122B": " ",
         "P3122C": " ",
         "P3122C2": " ",
         "P3122C3": " ",
         "P3122C4": " ",
         "P3122C5": " ",
         "P3122C6": " ",
         "P3122D": " ",
         "P312T1": " ",
         "P312T22": " ",
         "P312T23": " ",
         "P312T24": " ",
         "P312T25": " ",
         "P312T26": " ",
         "P312T2": " ",
         "D311B$1": " ",
         "D311D2$1": " ",
         "D311D3$1": " ",
         "D311D4$1": " ",
         "D311D5$1": " ",
         "D311D6$1": " ",
         "D311D7$1": " ",
         "D311D$1": " ",
         "D311B$2": " ",
         "D311D2$2": " ",
         "D311D3$2": " ",
         "D311D4$2": " ",
         "D311D5$2": " ",
         "D311D6$2": " ",
         "D311D7$2": " ",
         "D311D$2": " ",
         "D311B$3": " ",
         "D311D2$3": " ",
         "D311D3$3": " ",
         "D311D4$3": " ",
         "D311D5$3": " ",
         "D311D6$3": " ",
         "D311D7$3": " ",
         "D311D$3": " ",
         "D311B$4": " ",
         "D311D2$4": " ",
         "D311D3$4": " ",
         "D311D4$4": " ",
         "D311D5$4": " ",
         "D311D6$4": " ",
         "D311D7$4": " ",
         "D311D$4": " ",
         "D311B$5": " ",
         "D311D2$5": " ",
         "D311D3$5": " ",
         "D311D4$5": " ",
         "D311D5$5": " ",
         "D311D6$5": " ",
         "D311D7$5": " ",
         "D311D$5": " ",
         "D311B$6": " ",
         "D311D2$6": " ",
         "D311D3$6": " ",
         "D311D4$6": " ",
         "D311D5$6": " ",
         "D311D6$6": " ",
         "D311D7$6": " ",
         "D311D$6": " ",
         "D311B$7": " ",
         "D311D2$7": " ",
         "D311D3$7": " ",
         "D311D4$7": " ",
         "D311D5$7": " ",
         "D311D6$7": " ",
         "D311D7$7": " ",
         "D311D$7": " ",
         "D3121B": " ",
         "D3121C2": " ",
         "D3121C3": " ",
         "D3121C4": " ",
         "D3121C5": " ",
         "D3121C6": " ",
         "D3121C": " ",
         "D3122B": " ",
         "D3122C2": " ",
         "D3122C3": " ",
         "D3122C4": " ",
         "D3122C5": " ",
         "D3122C6": " ",
         "D3122C": " ",
         "D315A": " ",
         "D315B2": " ",
         "D315B3": " ",
         "D315B4": " ",
         "D315B5": " ",
         "D315B6": " ",
         "D315B": " ",
         "I311B$1": " ",
         "I311B$2": " ",
         "I311B$4": " ",
         "I311B$6": " ",
         "I311B$3": " ",
         "I311B$5": " ",
         "I311B$7": " ",
         "I311D2$1": " ",
         "I311D3$1": " ",
         "I311D4$1": " ",
         "I311D5$1": " ",
         "I311D6$1": " ",
         "I311D7$1": " ",
         "I311D2$2": " ",
         "I311D3$2": " ",
         "I311D4$2": " ",
         "I311D5$2": " ",
         "I311D6$2": " ",
         "I311D7$2": " ",
         "I311D2$4": " ",
         "I311D3$4": " ",
         "I311D4$4": " ",
         "I311D5$4": " ",
         "I311D6$4": " ",
         "I311D7$4": " ",
         "I311D2$6": " ",
         "I311D3$6": " ",
         "I311D4$6": " ",
         "I311D5$6": " ",
         "I311D6$6": " ",
         "I311D7$6": " ",
         "I311D2$3": " ",
         "I311D3$3": " ",
         "I311D4$3": " ",
         "I311D5$3": " ",
         "I311D6$3": " ",
         "I311D7$3": " ",
         "I311D2$5": " ",
         "I311D3$5": " ",
         "I311D4$5": " ",
         "I311D5$5": " ",
         "I311D6$5": " ",
         "I311D7$5": " ",
         "I311D2$7": " ",
         "I311D3$7": " ",
         "I311D4$7": " ",
         "I311D5$7": " ",
         "I311D6$7": " ",
         "I311D7$7": " ",
         "I3121B": " ",
         "I3122B": " ",
         "I3121C2": " ",
         "I3121C3": " ",
         "I3121C4": " ",
         "I3121C5": " ",
         "I3121C6": " ",
         "I3122C2": " ",
         "I3122C3": " ",
         "I3122C4": " ",
         "I3122C5": " ",
         "I3122C6": " ",
         "I315A": " ",
         "I315B2": " ",
         "I315B3": " ",
         "I315B4": " ",
         "I315B5": " ",
         "I315B6": " ",
         "I311D$1": " ",
         "I311D$2": " ",
         "I311D$3": " ",
         "I311D$4": " ",
         "I311D$5": " ",
         "I311D$6": " ",
         "I311D$7": " ",
         "I3121C": " ",
         "I3122C": " ",
         "I315B": " ",
         "P311N_0": " ",
         "P311_0": " ",
         "P311A1_0": " ",
         "P311A2_0": " ",
         "P311A3_0": " ",
         "P311A4_0": " ",
         "P311A5_0": " ",
         "P311A6_0": " ",
         "P311A7_0": " ",
         "P311B_0": " ",
         "P311C_0": " ",
         "P311D_0": " ",
         "P311D2_0": " ",
         "_deepnote_index_column": 0
        },
        {
         "A�O": 2020,
         "MES": 1,
         "CONGLOME": 5009,
         "VIVIENDA": 12,
         "HOGAR": 11,
         "CODPERSO": 2,
         "UBIGEO": 10101,
         "DOMINIO": 4,
         "ESTRATO": 4,
         "CODINFOR": 1,
         "P300N": 2,
         "P300I": 1,
         "P300A": "4",
         "P301A": "6",
         "P301B": "5",
         "P301C": " ",
         "P301D": "1",
         "P301A0": "1",
         "P301A1": " ",
         "P301B0": " ",
         "P301B1": " ",
         "P301B3": " ",
         "P302": " ",
         "P302X": " ",
         "P302A": " ",
         "P302B": " ",
         "P303": "1",
         "P304A": "3",
         "P304B": "5",
         "P304C": " ",
         "P304D": "1",
         "P305": "1",
         "P306": "2",
         "P307": " ",
         "P307A1": " ",
         "P307A2": " ",
         "P307A3": " ",
         "P307A4": " ",
         "P307A4_5": " ",
         "P307A4_6": " ",
         "P307A4_7": " ",
         "P307B1": " ",
         "P307B2": " ",
         "P307B3": " ",
         "P307B4": " ",
         "P307B4_5": " ",
         "P307B4_6": " ",
         "P307B4_7": " ",
         "P308A": " ",
         "P308B": " ",
         "P308C": " ",
         "P308D": " ",
         "P308B1": " ",
         "P308B2": " ",
         "P308B3": " ",
         "P308B4": " ",
         "P308B5": " ",
         "P308C1": " ",
         "P308C2": " ",
         "P310": "2",
         "P310B1": "2",
         "P310C0": " ",
         "P310C1": " ",
         "P310D1": " ",
         "P310D2": " ",
         "P310E0": " ",
         "P310E1": " ",
         "P310E3": " ",
         "P311I": " ",
         "P313": "3",
         "P314A": "1",
         "P314B$1": "0",
         "P314B$2": "0",
         "P314B$3": "0",
         "P314B$4": "0",
         "P314B$5": "0",
         "P314B$6": "0",
         "P314B$7": "7",
         "P314B1_1": "0",
         "P314B1_2": "0",
         "P314B1_6": "0",
         "P314B1_7": "0",
         "P314B1_8": "0",
         "P314B1_9": "9",
         "P314D": "1",
         "P3151": " ",
         "P3152": " ",
         "P3153": " ",
         "P3154": " ",
         "P3155": " ",
         "P3156": " ",
         "P315A": " ",
         "P315B": " ",
         "P315B2": " ",
         "P315B3": " ",
         "P315B4": " ",
         "P315B5": " ",
         "P315B6": " ",
         "P316$1": "1",
         "P316$2": "1",
         "P316$3": "2",
         "P316$4": "2",
         "P316$5": "2",
         "P316$6": "2",
         "P316$7": "1",
         "P316$8": "2",
         "P316$9": "2",
         "P316$10": "2",
         "P316$11": "2",
         "P316$12": "1",
         "P316A1": "1",
         "P316A2": "0",
         "P316A3": "0",
         "P316A4": "0",
         "P316A5": "0",
         "P316A6": "0",
         "P316B": "1",
         "P316C1": "1",
         "P316C2": "1",
         "P316C3": "1",
         "P316C4": "1",
         "P316C5": "2",
         "P316C6": "2",
         "P316C7": "1",
         "P316C8": "2",
         "P316C9": "2",
         "P316C10": "2",
         "T313A": "3",
         "P203": 3,
         "P204": 1,
         "P205": "2",
         "P206": " ",
         "P207": 2,
         "P208A": 16,
         "P209": "6",
         "IMPUTADO": " ",
         "P311N$1": "1",
         "P311N$2": "2",
         "P311N$3": "3",
         "P311N$4": "4",
         "P311N$5": "5",
         "P311N$6": "6",
         "P311N$7": "7",
         "P311N$8": "8",
         "P311$1": "1",
         "P311$2": "1",
         "P311$3": "2",
         "P311$4": "1",
         "P311$5": "2",
         "P311$6": "1",
         "P311$7": "1",
         "P311$8": "2",
         "P311A1$1": "1",
         "P311A1$2": "1",
         "P311A1$3": " ",
         "P311A1$4": "1",
         "P311A1$5": " ",
         "P311A1$6": "1",
         "P311A1$7": "1",
         "P311A1$8": " ",
         "P311A2$1": "0",
         "P311A2$2": "0",
         "P311A2$3": " ",
         "P311A2$4": "0",
         "P311A2$5": " ",
         "P311A2$6": "0",
         "P311A2$7": "0",
         "P311A2$8": " ",
         "P311A3$1": "0",
         "P311A3$2": "0",
         "P311A3$3": " ",
         "P311A3$4": "0",
         "P311A3$5": " ",
         "P311A3$6": "0",
         "P311A3$7": "0",
         "P311A3$8": " ",
         "P311A4$1": "0",
         "P311A4$2": "0",
         "P311A4$3": " ",
         "P311A4$4": "0",
         "P311A4$5": " ",
         "P311A4$6": "0",
         "P311A4$7": "0",
         "P311A4$8": " ",
         "P311A5$1": "0",
         "P311A5$2": "0",
         "P311A5$3": " ",
         "P311A5$4": "0",
         "P311A5$5": " ",
         "P311A5$6": "0",
         "P311A5$7": "0",
         "P311A5$8": " ",
         "P311A6$1": "0",
         "P311A6$2": "0",
         "P311A6$3": " ",
         "P311A6$4": "1",
         "P311A6$5": " ",
         "P311A6$6": "0",
         "P311A6$7": "0",
         "P311A6$8": " ",
         "P311A7$1": "0",
         "P311A7$2": "0",
         "P311A7$3": " ",
         "P311A7$4": "0",
         "P311A7$5": " ",
         "P311A7$6": "0",
         "P311A7$7": "0",
         "P311A7$8": " ",
         "P311B$1": "20",
         "P311B$2": "137",
         "P311B$3": " ",
         "P311B$4": "600",
         "P311B$5": " ",
         "P311B$6": "40",
         "P311B$7": "444",
         "P311B$8": " ",
         "P311C$1": "6",
         "P311C$2": "6",
         "P311C$3": " ",
         "P311C$4": "2",
         "P311C$5": " ",
         "P311C$6": " ",
         "P311C$7": "3",
         "P311C$8": " ",
         "P311D$1": " ",
         "P311D$2": " ",
         "P311D$3": " ",
         "P311D$4": "210",
         "P311D$5": " ",
         "P311D$6": " ",
         "P311D$7": " ",
         "P311D$8": " ",
         "P311D2$1": " ",
         "P311D2$2": " ",
         "P311D2$3": " ",
         "P311D2$4": " ",
         "P311D2$5": " ",
         "P311D2$6": " ",
         "P311D2$7": " ",
         "P311D2$8": " ",
         "P311D3$1": " ",
         "P311D3$2": " ",
         "P311D3$3": " ",
         "P311D3$4": " ",
         "P311D3$5": " ",
         "P311D3$6": " ",
         "P311D3$7": " ",
         "P311D3$8": " ",
         "P311D4$1": " ",
         "P311D4$2": " ",
         "P311D4$3": " ",
         "P311D4$4": " ",
         "P311D4$5": " ",
         "P311D4$6": " ",
         "P311D4$7": " ",
         "P311D4$8": " ",
         "P311D5$1": " ",
         "P311D5$2": " ",
         "P311D5$3": " ",
         "P311D5$4": " ",
         "P311D5$5": " ",
         "P311D5$6": " ",
         "P311D5$7": " ",
         "P311D5$8": " ",
         "P311D6$1": " ",
         "P311D6$2": " ",
         "P311D6$3": " ",
         "P311D6$4": "210",
         "P311D6$5": " ",
         "P311D6$6": " ",
         "P311D6$7": " ",
         "P311D6$8": " ",
         "P311D7$1": " ",
         "P311D7$2": " ",
         "P311D7$3": " ",
         "P311D7$4": " ",
         "P311D7$5": " ",
         "P311D7$6": " ",
         "P311D7$7": " ",
         "P311D7$8": " ",
         "P311E$1": "1",
         "P311E$2": "1",
         "P311E$3": " ",
         "P311E$4": "12",
         "P311E$5": " ",
         "P311E$6": "1",
         "P311E$7": "20",
         "P311E$8": " ",
         "P311T1": "1241",
         "P311T22": " ",
         "P311T23": " ",
         "P311T24": " ",
         "P311T25": " ",
         "P311T26": "210",
         "P311T27": " ",
         "P311T2": "210",
         "P3121": "2",
         "P3121A1": " ",
         "P3121A2": " ",
         "P3121A3": " ",
         "P3121A4": " ",
         "P3121A5": " ",
         "P3121A6": " ",
         "P3121B": " ",
         "P3121C": " ",
         "P3121C2": " ",
         "P3121C3": " ",
         "P3121C4": " ",
         "P3121C5": " ",
         "P3121C6": " ",
         "P3121D": " ",
         "P3122": "2",
         "P3122A1": " ",
         "P3122A2": " ",
         "P3122A3": " ",
         "P3122A4": " ",
         "P3122A5": " ",
         "P3122A6": " ",
         "P3122B": " ",
         "P3122C": " ",
         "P3122C2": " ",
         "P3122C3": " ",
         "P3122C4": " ",
         "P3122C5": " ",
         "P3122C6": " ",
         "P3122D": " ",
         "P312T1": " ",
         "P312T22": " ",
         "P312T23": " ",
         "P312T24": " ",
         "P312T25": " ",
         "P312T26": " ",
         "P312T2": " ",
         "D311B$1": "20",
         "D311D2$1": " ",
         "D311D3$1": " ",
         "D311D4$1": " ",
         "D311D5$1": " ",
         "D311D6$1": " ",
         "D311D7$1": " ",
         "D311D$1": " ",
         "D311B$2": "136",
         "D311D2$2": " ",
         "D311D3$2": " ",
         "D311D4$2": " ",
         "D311D5$2": " ",
         "D311D6$2": " ",
         "D311D7$2": " ",
         "D311D$2": " ",
         "D311B$3": " ",
         "D311D2$3": " ",
         "D311D3$3": " ",
         "D311D4$3": " ",
         "D311D5$3": " ",
         "D311D6$3": " ",
         "D311D7$3": " ",
         "D311D$3": " ",
         "D311B$4": "593",
         "D311D2$4": " ",
         "D311D3$4": " ",
         "D311D4$4": " ",
         "D311D5$4": " ",
         "D311D6$4": "208",
         "D311D7$4": " ",
         "D311D$4": "208",
         "D311B$5": " ",
         "D311D2$5": " ",
         "D311D3$5": " ",
         "D311D4$5": " ",
         "D311D5$5": " ",
         "D311D6$5": " ",
         "D311D7$5": " ",
         "D311D$5": " ",
         "D311B$6": "40",
         "D311D2$6": " ",
         "D311D3$6": " ",
         "D311D4$6": " ",
         "D311D5$6": " ",
         "D311D6$6": " ",
         "D311D7$6": " ",
         "D311D$6": " ",
         "D311B$7": "439",
         "D311D2$7": " ",
         "D311D3$7": " ",
         "D311D4$7": " ",
         "D311D5$7": " ",
         "D311D6$7": " ",
         "D311D7$7": " ",
         "D311D$7": " ",
         "D3121B": " ",
         "D3121C2": " ",
         "D3121C3": " ",
         "D3121C4": " ",
         "D3121C5": " ",
         "D3121C6": " ",
         "D3121C": " ",
         "D3122B": " ",
         "D3122C2": " ",
         "D3122C3": " ",
         "D3122C4": " ",
         "D3122C5": " ",
         "D3122C6": " ",
         "D3122C": " ",
         "D315A": " ",
         "D315B2": " ",
         "D315B3": " ",
         "D315B4": " ",
         "D315B5": " ",
         "D315B6": " ",
         "D315B": " ",
         "I311B$1": "20",
         "I311B$2": "136",
         "I311B$4": "593",
         "I311B$6": "40",
         "I311B$3": " ",
         "I311B$5": " ",
         "I311B$7": "439",
         "I311D2$1": " ",
         "I311D3$1": " ",
         "I311D4$1": " ",
         "I311D5$1": " ",
         "I311D6$1": " ",
         "I311D7$1": " ",
         "I311D2$2": " ",
         "I311D3$2": " ",
         "I311D4$2": " ",
         "I311D5$2": " ",
         "I311D6$2": " ",
         "I311D7$2": " ",
         "I311D2$4": " ",
         "I311D3$4": " ",
         "I311D4$4": " ",
         "I311D5$4": " ",
         "I311D6$4": "208",
         "I311D7$4": " ",
         "I311D2$6": " ",
         "I311D3$6": " ",
         "I311D4$6": " ",
         "I311D5$6": " ",
         "I311D6$6": " ",
         "I311D7$6": " ",
         "I311D2$3": " ",
         "I311D3$3": " ",
         "I311D4$3": " ",
         "I311D5$3": " ",
         "I311D6$3": " ",
         "I311D7$3": " ",
         "I311D2$5": " ",
         "I311D3$5": " ",
         "I311D4$5": " ",
         "I311D5$5": " ",
         "I311D6$5": " ",
         "I311D7$5": " ",
         "I311D2$7": " ",
         "I311D3$7": " ",
         "I311D4$7": " ",
         "I311D5$7": " ",
         "I311D6$7": " ",
         "I311D7$7": " ",
         "I3121B": " ",
         "I3122B": " ",
         "I3121C2": " ",
         "I3121C3": " ",
         "I3121C4": " ",
         "I3121C5": " ",
         "I3121C6": " ",
         "I3122C2": " ",
         "I3122C3": " ",
         "I3122C4": " ",
         "I3122C5": " ",
         "I3122C6": " ",
         "I315A": " ",
         "I315B2": " ",
         "I315B3": " ",
         "I315B4": " ",
         "I315B5": " ",
         "I315B6": " ",
         "I311D$1": " ",
         "I311D$2": " ",
         "I311D$3": " ",
         "I311D$4": "208",
         "I311D$5": " ",
         "I311D$6": " ",
         "I311D$7": " ",
         "I3121C": " ",
         "I3122C": " ",
         "I315B": " ",
         "P311N_0": " ",
         "P311_0": " ",
         "P311A1_0": " ",
         "P311A2_0": " ",
         "P311A3_0": " ",
         "P311A4_0": " ",
         "P311A5_0": " ",
         "P311A6_0": " ",
         "P311A7_0": " ",
         "P311B_0": " ",
         "P311C_0": " ",
         "P311D_0": " ",
         "P311D2_0": " ",
         "_deepnote_index_column": 1
        },
        {
         "A�O": 2020,
         "MES": 1,
         "CONGLOME": 5009,
         "VIVIENDA": 41,
         "HOGAR": 11,
         "CODPERSO": 1,
         "UBIGEO": 10101,
         "DOMINIO": 4,
         "ESTRATO": 4,
         "CODINFOR": 1,
         "P300N": 1,
         "P300I": 1,
         "P300A": "4",
         "P301A": "1",
         "P301B": " ",
         "P301C": " ",
         "P301D": " ",
         "P301A0": " ",
         "P301A1": " ",
         "P301B0": " ",
         "P301B1": " ",
         "P301B3": " ",
         "P302": "2",
         "P302X": "2",
         "P302A": "2",
         "P302B": " ",
         "P303": "2",
         "P304A": " ",
         "P304B": " ",
         "P304C": " ",
         "P304D": " ",
         "P305": " ",
         "P306": "2",
         "P307": " ",
         "P307A1": " ",
         "P307A2": " ",
         "P307A3": " ",
         "P307A4": " ",
         "P307A4_5": " ",
         "P307A4_6": " ",
         "P307A4_7": " ",
         "P307B1": " ",
         "P307B2": " ",
         "P307B3": " ",
         "P307B4": " ",
         "P307B4_5": " ",
         "P307B4_6": " ",
         "P307B4_7": " ",
         "P308A": " ",
         "P308B": " ",
         "P308C": " ",
         "P308D": " ",
         "P308B1": " ",
         "P308B2": " ",
         "P308B3": " ",
         "P308B4": " ",
         "P308B5": " ",
         "P308C1": " ",
         "P308C2": " ",
         "P310": "2",
         "P310B1": "2",
         "P310C0": " ",
         "P310C1": " ",
         "P310D1": " ",
         "P310D2": " ",
         "P310E0": " ",
         "P310E1": " ",
         "P310E3": " ",
         "P311I": " ",
         "P313": " ",
         "P314A": "2",
         "P314B$1": " ",
         "P314B$2": " ",
         "P314B$3": " ",
         "P314B$4": " ",
         "P314B$5": " ",
         "P314B$6": " ",
         "P314B$7": " ",
         "P314B1_1": " ",
         "P314B1_2": " ",
         "P314B1_6": " ",
         "P314B1_7": " ",
         "P314B1_8": " ",
         "P314B1_9": " ",
         "P314D": " ",
         "P3151": " ",
         "P3152": " ",
         "P3153": " ",
         "P3154": " ",
         "P3155": " ",
         "P3156": " ",
         "P315A": " ",
         "P315B": " ",
         "P315B2": " ",
         "P315B3": " ",
         "P315B4": " ",
         "P315B5": " ",
         "P315B6": " ",
         "P316$1": " ",
         "P316$2": " ",
         "P316$3": " ",
         "P316$4": " ",
         "P316$5": " ",
         "P316$6": " ",
         "P316$7": " ",
         "P316$8": " ",
         "P316$9": " ",
         "P316$10": " ",
         "P316$11": " ",
         "P316$12": " ",
         "P316A1": "0",
         "P316A2": "2",
         "P316A3": "0",
         "P316A4": "0",
         "P316A5": "0",
         "P316A6": "0",
         "P316B": "2",
         "P316C1": " ",
         "P316C2": " ",
         "P316C3": " ",
         "P316C4": " ",
         "P316C5": " ",
         "P316C6": " ",
         "P316C7": " ",
         "P316C8": " ",
         "P316C9": " ",
         "P316C10": " ",
         "T313A": " ",
         "P203": 1,
         "P204": 1,
         "P205": "2",
         "P206": " ",
         "P207": 2,
         "P208A": 61,
         "P209": "6",
         "IMPUTADO": " ",
         "P311N$1": " ",
         "P311N$2": " ",
         "P311N$3": " ",
         "P311N$4": " ",
         "P311N$5": " ",
         "P311N$6": " ",
         "P311N$7": " ",
         "P311N$8": " ",
         "P311$1": " ",
         "P311$2": " ",
         "P311$3": " ",
         "P311$4": " ",
         "P311$5": " ",
         "P311$6": " ",
         "P311$7": " ",
         "P311$8": " ",
         "P311A1$1": " ",
         "P311A1$2": " ",
         "P311A1$3": " ",
         "P311A1$4": " ",
         "P311A1$5": " ",
         "P311A1$6": " ",
         "P311A1$7": " ",
         "P311A1$8": " ",
         "P311A2$1": " ",
         "P311A2$2": " ",
         "P311A2$3": " ",
         "P311A2$4": " ",
         "P311A2$5": " ",
         "P311A2$6": " ",
         "P311A2$7": " ",
         "P311A2$8": " ",
         "P311A3$1": " ",
         "P311A3$2": " ",
         "P311A3$3": " ",
         "P311A3$4": " ",
         "P311A3$5": " ",
         "P311A3$6": " ",
         "P311A3$7": " ",
         "P311A3$8": " ",
         "P311A4$1": " ",
         "P311A4$2": " ",
         "P311A4$3": " ",
         "P311A4$4": " ",
         "P311A4$5": " ",
         "P311A4$6": " ",
         "P311A4$7": " ",
         "P311A4$8": " ",
         "P311A5$1": " ",
         "P311A5$2": " ",
         "P311A5$3": " ",
         "P311A5$4": " ",
         "P311A5$5": " ",
         "P311A5$6": " ",
         "P311A5$7": " ",
         "P311A5$8": " ",
         "P311A6$1": " ",
         "P311A6$2": " ",
         "P311A6$3": " ",
         "P311A6$4": " ",
         "P311A6$5": " ",
         "P311A6$6": " ",
         "P311A6$7": " ",
         "P311A6$8": " ",
         "P311A7$1": " ",
         "P311A7$2": " ",
         "P311A7$3": " ",
         "P311A7$4": " ",
         "P311A7$5": " ",
         "P311A7$6": " ",
         "P311A7$7": " ",
         "P311A7$8": " ",
         "P311B$1": " ",
         "P311B$2": " ",
         "P311B$3": " ",
         "P311B$4": " ",
         "P311B$5": " ",
         "P311B$6": " ",
         "P311B$7": " ",
         "P311B$8": " ",
         "P311C$1": " ",
         "P311C$2": " ",
         "P311C$3": " ",
         "P311C$4": " ",
         "P311C$5": " ",
         "P311C$6": " ",
         "P311C$7": " ",
         "P311C$8": " ",
         "P311D$1": " ",
         "P311D$2": " ",
         "P311D$3": " ",
         "P311D$4": " ",
         "P311D$5": " ",
         "P311D$6": " ",
         "P311D$7": " ",
         "P311D$8": " ",
         "P311D2$1": " ",
         "P311D2$2": " ",
         "P311D2$3": " ",
         "P311D2$4": " ",
         "P311D2$5": " ",
         "P311D2$6": " ",
         "P311D2$7": " ",
         "P311D2$8": " ",
         "P311D3$1": " ",
         "P311D3$2": " ",
         "P311D3$3": " ",
         "P311D3$4": " ",
         "P311D3$5": " ",
         "P311D3$6": " ",
         "P311D3$7": " ",
         "P311D3$8": " ",
         "P311D4$1": " ",
         "P311D4$2": " ",
         "P311D4$3": " ",
         "P311D4$4": " ",
         "P311D4$5": " ",
         "P311D4$6": " ",
         "P311D4$7": " ",
         "P311D4$8": " ",
         "P311D5$1": " ",
         "P311D5$2": " ",
         "P311D5$3": " ",
         "P311D5$4": " ",
         "P311D5$5": " ",
         "P311D5$6": " ",
         "P311D5$7": " ",
         "P311D5$8": " ",
         "P311D6$1": " ",
         "P311D6$2": " ",
         "P311D6$3": " ",
         "P311D6$4": " ",
         "P311D6$5": " ",
         "P311D6$6": " ",
         "P311D6$7": " ",
         "P311D6$8": " ",
         "P311D7$1": " ",
         "P311D7$2": " ",
         "P311D7$3": " ",
         "P311D7$4": " ",
         "P311D7$5": " ",
         "P311D7$6": " ",
         "P311D7$7": " ",
         "P311D7$8": " ",
         "P311E$1": " ",
         "P311E$2": " ",
         "P311E$3": " ",
         "P311E$4": " ",
         "P311E$5": " ",
         "P311E$6": " ",
         "P311E$7": " ",
         "P311E$8": " ",
         "P311T1": " ",
         "P311T22": " ",
         "P311T23": " ",
         "P311T24": " ",
         "P311T25": " ",
         "P311T26": " ",
         "P311T27": " ",
         "P311T2": " ",
         "P3121": "2",
         "P3121A1": " ",
         "P3121A2": " ",
         "P3121A3": " ",
         "P3121A4": " ",
         "P3121A5": " ",
         "P3121A6": " ",
         "P3121B": " ",
         "P3121C": " ",
         "P3121C2": " ",
         "P3121C3": " ",
         "P3121C4": " ",
         "P3121C5": " ",
         "P3121C6": " ",
         "P3121D": " ",
         "P3122": "2",
         "P3122A1": " ",
         "P3122A2": " ",
         "P3122A3": " ",
         "P3122A4": " ",
         "P3122A5": " ",
         "P3122A6": " ",
         "P3122B": " ",
         "P3122C": " ",
         "P3122C2": " ",
         "P3122C3": " ",
         "P3122C4": " ",
         "P3122C5": " ",
         "P3122C6": " ",
         "P3122D": " ",
         "P312T1": " ",
         "P312T22": " ",
         "P312T23": " ",
         "P312T24": " ",
         "P312T25": " ",
         "P312T26": " ",
         "P312T2": " ",
         "D311B$1": " ",
         "D311D2$1": " ",
         "D311D3$1": " ",
         "D311D4$1": " ",
         "D311D5$1": " ",
         "D311D6$1": " ",
         "D311D7$1": " ",
         "D311D$1": " ",
         "D311B$2": " ",
         "D311D2$2": " ",
         "D311D3$2": " ",
         "D311D4$2": " ",
         "D311D5$2": " ",
         "D311D6$2": " ",
         "D311D7$2": " ",
         "D311D$2": " ",
         "D311B$3": " ",
         "D311D2$3": " ",
         "D311D3$3": " ",
         "D311D4$3": " ",
         "D311D5$3": " ",
         "D311D6$3": " ",
         "D311D7$3": " ",
         "D311D$3": " ",
         "D311B$4": " ",
         "D311D2$4": " ",
         "D311D3$4": " ",
         "D311D4$4": " ",
         "D311D5$4": " ",
         "D311D6$4": " ",
         "D311D7$4": " ",
         "D311D$4": " ",
         "D311B$5": " ",
         "D311D2$5": " ",
         "D311D3$5": " ",
         "D311D4$5": " ",
         "D311D5$5": " ",
         "D311D6$5": " ",
         "D311D7$5": " ",
         "D311D$5": " ",
         "D311B$6": " ",
         "D311D2$6": " ",
         "D311D3$6": " ",
         "D311D4$6": " ",
         "D311D5$6": " ",
         "D311D6$6": " ",
         "D311D7$6": " ",
         "D311D$6": " ",
         "D311B$7": " ",
         "D311D2$7": " ",
         "D311D3$7": " ",
         "D311D4$7": " ",
         "D311D5$7": " ",
         "D311D6$7": " ",
         "D311D7$7": " ",
         "D311D$7": " ",
         "D3121B": " ",
         "D3121C2": " ",
         "D3121C3": " ",
         "D3121C4": " ",
         "D3121C5": " ",
         "D3121C6": " ",
         "D3121C": " ",
         "D3122B": " ",
         "D3122C2": " ",
         "D3122C3": " ",
         "D3122C4": " ",
         "D3122C5": " ",
         "D3122C6": " ",
         "D3122C": " ",
         "D315A": " ",
         "D315B2": " ",
         "D315B3": " ",
         "D315B4": " ",
         "D315B5": " ",
         "D315B6": " ",
         "D315B": " ",
         "I311B$1": " ",
         "I311B$2": " ",
         "I311B$4": " ",
         "I311B$6": " ",
         "I311B$3": " ",
         "I311B$5": " ",
         "I311B$7": " ",
         "I311D2$1": " ",
         "I311D3$1": " ",
         "I311D4$1": " ",
         "I311D5$1": " ",
         "I311D6$1": " ",
         "I311D7$1": " ",
         "I311D2$2": " ",
         "I311D3$2": " ",
         "I311D4$2": " ",
         "I311D5$2": " ",
         "I311D6$2": " ",
         "I311D7$2": " ",
         "I311D2$4": " ",
         "I311D3$4": " ",
         "I311D4$4": " ",
         "I311D5$4": " ",
         "I311D6$4": " ",
         "I311D7$4": " ",
         "I311D2$6": " ",
         "I311D3$6": " ",
         "I311D4$6": " ",
         "I311D5$6": " ",
         "I311D6$6": " ",
         "I311D7$6": " ",
         "I311D2$3": " ",
         "I311D3$3": " ",
         "I311D4$3": " ",
         "I311D5$3": " ",
         "I311D6$3": " ",
         "I311D7$3": " ",
         "I311D2$5": " ",
         "I311D3$5": " ",
         "I311D4$5": " ",
         "I311D5$5": " ",
         "I311D6$5": " ",
         "I311D7$5": " ",
         "I311D2$7": " ",
         "I311D3$7": " ",
         "I311D4$7": " ",
         "I311D5$7": " ",
         "I311D6$7": " ",
         "I311D7$7": " ",
         "I3121B": " ",
         "I3122B": " ",
         "I3121C2": " ",
         "I3121C3": " ",
         "I3121C4": " ",
         "I3121C5": " ",
         "I3121C6": " ",
         "I3122C2": " ",
         "I3122C3": " ",
         "I3122C4": " ",
         "I3122C5": " ",
         "I3122C6": " ",
         "I315A": " ",
         "I315B2": " ",
         "I315B3": " ",
         "I315B4": " ",
         "I315B5": " ",
         "I315B6": " ",
         "I311D$1": " ",
         "I311D$2": " ",
         "I311D$3": " ",
         "I311D$4": " ",
         "I311D$5": " ",
         "I311D$6": " ",
         "I311D$7": " ",
         "I3121C": " ",
         "I3122C": " ",
         "I315B": " ",
         "P311N_0": " ",
         "P311_0": " ",
         "P311A1_0": " ",
         "P311A2_0": " ",
         "P311A3_0": " ",
         "P311A4_0": " ",
         "P311A5_0": " ",
         "P311A6_0": " ",
         "P311A7_0": " ",
         "P311B_0": " ",
         "P311C_0": " ",
         "P311D_0": " ",
         "P311D2_0": " ",
         "_deepnote_index_column": 2
        },
        {
         "A�O": 2020,
         "MES": 1,
         "CONGLOME": 5009,
         "VIVIENDA": 41,
         "HOGAR": 11,
         "CODPERSO": 2,
         "UBIGEO": 10101,
         "DOMINIO": 4,
         "ESTRATO": 4,
         "CODINFOR": 2,
         "P300N": 2,
         "P300I": 2,
         "P300A": "4",
         "P301A": "10",
         "P301B": "5",
         "P301C": " ",
         "P301D": "1",
         "P301A0": "0",
         "P301A1": "332336",
         "P301B0": "0",
         "P301B1": "160000076",
         "P301B3": "1",
         "P302": " ",
         "P302X": " ",
         "P302A": " ",
         "P302B": " ",
         "P303": "2",
         "P304A": " ",
         "P304B": " ",
         "P304C": " ",
         "P304D": " ",
         "P305": " ",
         "P306": "2",
         "P307": " ",
         "P307A1": " ",
         "P307A2": " ",
         "P307A3": " ",
         "P307A4": " ",
         "P307A4_5": " ",
         "P307A4_6": " ",
         "P307A4_7": " ",
         "P307B1": " ",
         "P307B2": " ",
         "P307B3": " ",
         "P307B4": " ",
         "P307B4_5": " ",
         "P307B4_6": " ",
         "P307B4_7": " ",
         "P308A": " ",
         "P308B": " ",
         "P308C": " ",
         "P308D": " ",
         "P308B1": " ",
         "P308B2": " ",
         "P308B3": " ",
         "P308B4": " ",
         "P308B5": " ",
         "P308C1": " ",
         "P308C2": " ",
         "P310": "2",
         "P310B1": "2",
         "P310C0": " ",
         "P310C1": " ",
         "P310D1": " ",
         "P310D2": " ",
         "P310E0": " ",
         "P310E1": " ",
         "P310E3": " ",
         "P311I": " ",
         "P313": " ",
         "P314A": "1",
         "P314B$1": "0",
         "P314B$2": "0",
         "P314B$3": "0",
         "P314B$4": "0",
         "P314B$5": "0",
         "P314B$6": "0",
         "P314B$7": "7",
         "P314B1_1": "0",
         "P314B1_2": "0",
         "P314B1_6": "0",
         "P314B1_7": "0",
         "P314B1_8": "8",
         "P314B1_9": "0",
         "P314D": "1",
         "P3151": " ",
         "P3152": " ",
         "P3153": " ",
         "P3154": " ",
         "P3155": " ",
         "P3156": " ",
         "P315A": " ",
         "P315B": " ",
         "P315B2": " ",
         "P315B3": " ",
         "P315B4": " ",
         "P315B5": " ",
         "P315B6": " ",
         "P316$1": "1",
         "P316$2": "1",
         "P316$3": "2",
         "P316$4": "2",
         "P316$5": "2",
         "P316$6": "2",
         "P316$7": "1",
         "P316$8": "2",
         "P316$9": "2",
         "P316$10": "2",
         "P316$11": "2",
         "P316$12": "2",
         "P316A1": "1",
         "P316A2": "0",
         "P316A3": "0",
         "P316A4": "0",
         "P316A5": "0",
         "P316A6": "0",
         "P316B": "2",
         "P316C1": " ",
         "P316C2": " ",
         "P316C3": " ",
         "P316C4": " ",
         "P316C5": " ",
         "P316C6": " ",
         "P316C7": " ",
         "P316C8": " ",
         "P316C9": " ",
         "P316C10": " ",
         "T313A": " ",
         "P203": 3,
         "P204": 1,
         "P205": "2",
         "P206": " ",
         "P207": 2,
         "P208A": 29,
         "P209": "6",
         "IMPUTADO": " ",
         "P311N$1": " ",
         "P311N$2": " ",
         "P311N$3": " ",
         "P311N$4": " ",
         "P311N$5": " ",
         "P311N$6": " ",
         "P311N$7": " ",
         "P311N$8": " ",
         "P311$1": " ",
         "P311$2": " ",
         "P311$3": " ",
         "P311$4": " ",
         "P311$5": " ",
         "P311$6": " ",
         "P311$7": " ",
         "P311$8": " ",
         "P311A1$1": " ",
         "P311A1$2": " ",
         "P311A1$3": " ",
         "P311A1$4": " ",
         "P311A1$5": " ",
         "P311A1$6": " ",
         "P311A1$7": " ",
         "P311A1$8": " ",
         "P311A2$1": " ",
         "P311A2$2": " ",
         "P311A2$3": " ",
         "P311A2$4": " ",
         "P311A2$5": " ",
         "P311A2$6": " ",
         "P311A2$7": " ",
         "P311A2$8": " ",
         "P311A3$1": " ",
         "P311A3$2": " ",
         "P311A3$3": " ",
         "P311A3$4": " ",
         "P311A3$5": " ",
         "P311A3$6": " ",
         "P311A3$7": " ",
         "P311A3$8": " ",
         "P311A4$1": " ",
         "P311A4$2": " ",
         "P311A4$3": " ",
         "P311A4$4": " ",
         "P311A4$5": " ",
         "P311A4$6": " ",
         "P311A4$7": " ",
         "P311A4$8": " ",
         "P311A5$1": " ",
         "P311A5$2": " ",
         "P311A5$3": " ",
         "P311A5$4": " ",
         "P311A5$5": " ",
         "P311A5$6": " ",
         "P311A5$7": " ",
         "P311A5$8": " ",
         "P311A6$1": " ",
         "P311A6$2": " ",
         "P311A6$3": " ",
         "P311A6$4": " ",
         "P311A6$5": " ",
         "P311A6$6": " ",
         "P311A6$7": " ",
         "P311A6$8": " ",
         "P311A7$1": " ",
         "P311A7$2": " ",
         "P311A7$3": " ",
         "P311A7$4": " ",
         "P311A7$5": " ",
         "P311A7$6": " ",
         "P311A7$7": " ",
         "P311A7$8": " ",
         "P311B$1": " ",
         "P311B$2": " ",
         "P311B$3": " ",
         "P311B$4": " ",
         "P311B$5": " ",
         "P311B$6": " ",
         "P311B$7": " ",
         "P311B$8": " ",
         "P311C$1": " ",
         "P311C$2": " ",
         "P311C$3": " ",
         "P311C$4": " ",
         "P311C$5": " ",
         "P311C$6": " ",
         "P311C$7": " ",
         "P311C$8": " ",
         "P311D$1": " ",
         "P311D$2": " ",
         "P311D$3": " ",
         "P311D$4": " ",
         "P311D$5": " ",
         "P311D$6": " ",
         "P311D$7": " ",
         "P311D$8": " ",
         "P311D2$1": " ",
         "P311D2$2": " ",
         "P311D2$3": " ",
         "P311D2$4": " ",
         "P311D2$5": " ",
         "P311D2$6": " ",
         "P311D2$7": " ",
         "P311D2$8": " ",
         "P311D3$1": " ",
         "P311D3$2": " ",
         "P311D3$3": " ",
         "P311D3$4": " ",
         "P311D3$5": " ",
         "P311D3$6": " ",
         "P311D3$7": " ",
         "P311D3$8": " ",
         "P311D4$1": " ",
         "P311D4$2": " ",
         "P311D4$3": " ",
         "P311D4$4": " ",
         "P311D4$5": " ",
         "P311D4$6": " ",
         "P311D4$7": " ",
         "P311D4$8": " ",
         "P311D5$1": " ",
         "P311D5$2": " ",
         "P311D5$3": " ",
         "P311D5$4": " ",
         "P311D5$5": " ",
         "P311D5$6": " ",
         "P311D5$7": " ",
         "P311D5$8": " ",
         "P311D6$1": " ",
         "P311D6$2": " ",
         "P311D6$3": " ",
         "P311D6$4": " ",
         "P311D6$5": " ",
         "P311D6$6": " ",
         "P311D6$7": " ",
         "P311D6$8": " ",
         "P311D7$1": " ",
         "P311D7$2": " ",
         "P311D7$3": " ",
         "P311D7$4": " ",
         "P311D7$5": " ",
         "P311D7$6": " ",
         "P311D7$7": " ",
         "P311D7$8": " ",
         "P311E$1": " ",
         "P311E$2": " ",
         "P311E$3": " ",
         "P311E$4": " ",
         "P311E$5": " ",
         "P311E$6": " ",
         "P311E$7": " ",
         "P311E$8": " ",
         "P311T1": " ",
         "P311T22": " ",
         "P311T23": " ",
         "P311T24": " ",
         "P311T25": " ",
         "P311T26": " ",
         "P311T27": " ",
         "P311T2": " ",
         "P3121": "2",
         "P3121A1": " ",
         "P3121A2": " ",
         "P3121A3": " ",
         "P3121A4": " ",
         "P3121A5": " ",
         "P3121A6": " ",
         "P3121B": " ",
         "P3121C": " ",
         "P3121C2": " ",
         "P3121C3": " ",
         "P3121C4": " ",
         "P3121C5": " ",
         "P3121C6": " ",
         "P3121D": " ",
         "P3122": "2",
         "P3122A1": " ",
         "P3122A2": " ",
         "P3122A3": " ",
         "P3122A4": " ",
         "P3122A5": " ",
         "P3122A6": " ",
         "P3122B": " ",
         "P3122C": " ",
         "P3122C2": " ",
         "P3122C3": " ",
         "P3122C4": " ",
         "P3122C5": " ",
         "P3122C6": " ",
         "P3122D": " ",
         "P312T1": " ",
         "P312T22": " ",
         "P312T23": " ",
         "P312T24": " ",
         "P312T25": " ",
         "P312T26": " ",
         "P312T2": " ",
         "D311B$1": " ",
         "D311D2$1": " ",
         "D311D3$1": " ",
         "D311D4$1": " ",
         "D311D5$1": " ",
         "D311D6$1": " ",
         "D311D7$1": " ",
         "D311D$1": " ",
         "D311B$2": " ",
         "D311D2$2": " ",
         "D311D3$2": " ",
         "D311D4$2": " ",
         "D311D5$2": " ",
         "D311D6$2": " ",
         "D311D7$2": " ",
         "D311D$2": " ",
         "D311B$3": " ",
         "D311D2$3": " ",
         "D311D3$3": " ",
         "D311D4$3": " ",
         "D311D5$3": " ",
         "D311D6$3": " ",
         "D311D7$3": " ",
         "D311D$3": " ",
         "D311B$4": " ",
         "D311D2$4": " ",
         "D311D3$4": " ",
         "D311D4$4": " ",
         "D311D5$4": " ",
         "D311D6$4": " ",
         "D311D7$4": " ",
         "D311D$4": " ",
         "D311B$5": " ",
         "D311D2$5": " ",
         "D311D3$5": " ",
         "D311D4$5": " ",
         "D311D5$5": " ",
         "D311D6$5": " ",
         "D311D7$5": " ",
         "D311D$5": " ",
         "D311B$6": " ",
         "D311D2$6": " ",
         "D311D3$6": " ",
         "D311D4$6": " ",
         "D311D5$6": " ",
         "D311D6$6": " ",
         "D311D7$6": " ",
         "D311D$6": " ",
         "D311B$7": " ",
         "D311D2$7": " ",
         "D311D3$7": " ",
         "D311D4$7": " ",
         "D311D5$7": " ",
         "D311D6$7": " ",
         "D311D7$7": " ",
         "D311D$7": " ",
         "D3121B": " ",
         "D3121C2": " ",
         "D3121C3": " ",
         "D3121C4": " ",
         "D3121C5": " ",
         "D3121C6": " ",
         "D3121C": " ",
         "D3122B": " ",
         "D3122C2": " ",
         "D3122C3": " ",
         "D3122C4": " ",
         "D3122C5": " ",
         "D3122C6": " ",
         "D3122C": " ",
         "D315A": " ",
         "D315B2": " ",
         "D315B3": " ",
         "D315B4": " ",
         "D315B5": " ",
         "D315B6": " ",
         "D315B": " ",
         "I311B$1": " ",
         "I311B$2": " ",
         "I311B$4": " ",
         "I311B$6": " ",
         "I311B$3": " ",
         "I311B$5": " ",
         "I311B$7": " ",
         "I311D2$1": " ",
         "I311D3$1": " ",
         "I311D4$1": " ",
         "I311D5$1": " ",
         "I311D6$1": " ",
         "I311D7$1": " ",
         "I311D2$2": " ",
         "I311D3$2": " ",
         "I311D4$2": " ",
         "I311D5$2": " ",
         "I311D6$2": " ",
         "I311D7$2": " ",
         "I311D2$4": " ",
         "I311D3$4": " ",
         "I311D4$4": " ",
         "I311D5$4": " ",
         "I311D6$4": " ",
         "I311D7$4": " ",
         "I311D2$6": " ",
         "I311D3$6": " ",
         "I311D4$6": " ",
         "I311D5$6": " ",
         "I311D6$6": " ",
         "I311D7$6": " ",
         "I311D2$3": " ",
         "I311D3$3": " ",
         "I311D4$3": " ",
         "I311D5$3": " ",
         "I311D6$3": " ",
         "I311D7$3": " ",
         "I311D2$5": " ",
         "I311D3$5": " ",
         "I311D4$5": " ",
         "I311D5$5": " ",
         "I311D6$5": " ",
         "I311D7$5": " ",
         "I311D2$7": " ",
         "I311D3$7": " ",
         "I311D4$7": " ",
         "I311D5$7": " ",
         "I311D6$7": " ",
         "I311D7$7": " ",
         "I3121B": " ",
         "I3122B": " ",
         "I3121C2": " ",
         "I3121C3": " ",
         "I3121C4": " ",
         "I3121C5": " ",
         "I3121C6": " ",
         "I3122C2": " ",
         "I3122C3": " ",
         "I3122C4": " ",
         "I3122C5": " ",
         "I3122C6": " ",
         "I315A": " ",
         "I315B2": " ",
         "I315B3": " ",
         "I315B4": " ",
         "I315B5": " ",
         "I315B6": " ",
         "I311D$1": " ",
         "I311D$2": " ",
         "I311D$3": " ",
         "I311D$4": " ",
         "I311D$5": " ",
         "I311D$6": " ",
         "I311D$7": " ",
         "I3121C": " ",
         "I3122C": " ",
         "I315B": " ",
         "P311N_0": " ",
         "P311_0": " ",
         "P311A1_0": " ",
         "P311A2_0": " ",
         "P311A3_0": " ",
         "P311A4_0": " ",
         "P311A5_0": " ",
         "P311A6_0": " ",
         "P311A7_0": " ",
         "P311B_0": " ",
         "P311C_0": " ",
         "P311D_0": " ",
         "P311D2_0": " ",
         "_deepnote_index_column": 3
        },
        {
         "A�O": 2020,
         "MES": 1,
         "CONGLOME": 5009,
         "VIVIENDA": 98,
         "HOGAR": 11,
         "CODPERSO": 1,
         "UBIGEO": 10101,
         "DOMINIO": 4,
         "ESTRATO": 4,
         "CODINFOR": 1,
         "P300N": 1,
         "P300I": 1,
         "P300A": "4",
         "P301A": "5",
         "P301B": "4",
         "P301C": " ",
         "P301D": "1",
         "P301A0": " ",
         "P301A1": " ",
         "P301B0": " ",
         "P301B1": " ",
         "P301B3": " ",
         "P302": " ",
         "P302X": " ",
         "P302A": " ",
         "P302B": " ",
         "P303": "2",
         "P304A": " ",
         "P304B": " ",
         "P304C": " ",
         "P304D": " ",
         "P305": " ",
         "P306": "2",
         "P307": " ",
         "P307A1": " ",
         "P307A2": " ",
         "P307A3": " ",
         "P307A4": " ",
         "P307A4_5": " ",
         "P307A4_6": " ",
         "P307A4_7": " ",
         "P307B1": " ",
         "P307B2": " ",
         "P307B3": " ",
         "P307B4": " ",
         "P307B4_5": " ",
         "P307B4_6": " ",
         "P307B4_7": " ",
         "P308A": " ",
         "P308B": " ",
         "P308C": " ",
         "P308D": " ",
         "P308B1": " ",
         "P308B2": " ",
         "P308B3": " ",
         "P308B4": " ",
         "P308B5": " ",
         "P308C1": " ",
         "P308C2": " ",
         "P310": "2",
         "P310B1": "2",
         "P310C0": " ",
         "P310C1": " ",
         "P310D1": " ",
         "P310D2": " ",
         "P310E0": " ",
         "P310E1": " ",
         "P310E3": " ",
         "P311I": " ",
         "P313": " ",
         "P314A": "1",
         "P314B$1": "0",
         "P314B$2": "0",
         "P314B$3": "0",
         "P314B$4": "0",
         "P314B$5": "0",
         "P314B$6": "0",
         "P314B$7": "7",
         "P314B1_1": "0",
         "P314B1_2": "0",
         "P314B1_6": "0",
         "P314B1_7": "0",
         "P314B1_8": "0",
         "P314B1_9": "9",
         "P314D": "1",
         "P3151": " ",
         "P3152": " ",
         "P3153": " ",
         "P3154": " ",
         "P3155": " ",
         "P3156": " ",
         "P315A": " ",
         "P315B": " ",
         "P315B2": " ",
         "P315B3": " ",
         "P315B4": " ",
         "P315B5": " ",
         "P315B6": " ",
         "P316$1": "1",
         "P316$2": "1",
         "P316$3": "2",
         "P316$4": "2",
         "P316$5": "2",
         "P316$6": "2",
         "P316$7": "1",
         "P316$8": "2",
         "P316$9": "2",
         "P316$10": "2",
         "P316$11": "2",
         "P316$12": "2",
         "P316A1": "1",
         "P316A2": "0",
         "P316A3": "0",
         "P316A4": "0",
         "P316A5": "0",
         "P316A6": "0",
         "P316B": "2",
         "P316C1": " ",
         "P316C2": " ",
         "P316C3": " ",
         "P316C4": " ",
         "P316C5": " ",
         "P316C6": " ",
         "P316C7": " ",
         "P316C8": " ",
         "P316C9": " ",
         "P316C10": " ",
         "T313A": " ",
         "P203": 1,
         "P204": 1,
         "P205": "2",
         "P206": " ",
         "P207": 1,
         "P208A": 59,
         "P209": "1",
         "IMPUTADO": " ",
         "P311N$1": " ",
         "P311N$2": " ",
         "P311N$3": " ",
         "P311N$4": " ",
         "P311N$5": " ",
         "P311N$6": " ",
         "P311N$7": " ",
         "P311N$8": " ",
         "P311$1": " ",
         "P311$2": " ",
         "P311$3": " ",
         "P311$4": " ",
         "P311$5": " ",
         "P311$6": " ",
         "P311$7": " ",
         "P311$8": " ",
         "P311A1$1": " ",
         "P311A1$2": " ",
         "P311A1$3": " ",
         "P311A1$4": " ",
         "P311A1$5": " ",
         "P311A1$6": " ",
         "P311A1$7": " ",
         "P311A1$8": " ",
         "P311A2$1": " ",
         "P311A2$2": " ",
         "P311A2$3": " ",
         "P311A2$4": " ",
         "P311A2$5": " ",
         "P311A2$6": " ",
         "P311A2$7": " ",
         "P311A2$8": " ",
         "P311A3$1": " ",
         "P311A3$2": " ",
         "P311A3$3": " ",
         "P311A3$4": " ",
         "P311A3$5": " ",
         "P311A3$6": " ",
         "P311A3$7": " ",
         "P311A3$8": " ",
         "P311A4$1": " ",
         "P311A4$2": " ",
         "P311A4$3": " ",
         "P311A4$4": " ",
         "P311A4$5": " ",
         "P311A4$6": " ",
         "P311A4$7": " ",
         "P311A4$8": " ",
         "P311A5$1": " ",
         "P311A5$2": " ",
         "P311A5$3": " ",
         "P311A5$4": " ",
         "P311A5$5": " ",
         "P311A5$6": " ",
         "P311A5$7": " ",
         "P311A5$8": " ",
         "P311A6$1": " ",
         "P311A6$2": " ",
         "P311A6$3": " ",
         "P311A6$4": " ",
         "P311A6$5": " ",
         "P311A6$6": " ",
         "P311A6$7": " ",
         "P311A6$8": " ",
         "P311A7$1": " ",
         "P311A7$2": " ",
         "P311A7$3": " ",
         "P311A7$4": " ",
         "P311A7$5": " ",
         "P311A7$6": " ",
         "P311A7$7": " ",
         "P311A7$8": " ",
         "P311B$1": " ",
         "P311B$2": " ",
         "P311B$3": " ",
         "P311B$4": " ",
         "P311B$5": " ",
         "P311B$6": " ",
         "P311B$7": " ",
         "P311B$8": " ",
         "P311C$1": " ",
         "P311C$2": " ",
         "P311C$3": " ",
         "P311C$4": " ",
         "P311C$5": " ",
         "P311C$6": " ",
         "P311C$7": " ",
         "P311C$8": " ",
         "P311D$1": " ",
         "P311D$2": " ",
         "P311D$3": " ",
         "P311D$4": " ",
         "P311D$5": " ",
         "P311D$6": " ",
         "P311D$7": " ",
         "P311D$8": " ",
         "P311D2$1": " ",
         "P311D2$2": " ",
         "P311D2$3": " ",
         "P311D2$4": " ",
         "P311D2$5": " ",
         "P311D2$6": " ",
         "P311D2$7": " ",
         "P311D2$8": " ",
         "P311D3$1": " ",
         "P311D3$2": " ",
         "P311D3$3": " ",
         "P311D3$4": " ",
         "P311D3$5": " ",
         "P311D3$6": " ",
         "P311D3$7": " ",
         "P311D3$8": " ",
         "P311D4$1": " ",
         "P311D4$2": " ",
         "P311D4$3": " ",
         "P311D4$4": " ",
         "P311D4$5": " ",
         "P311D4$6": " ",
         "P311D4$7": " ",
         "P311D4$8": " ",
         "P311D5$1": " ",
         "P311D5$2": " ",
         "P311D5$3": " ",
         "P311D5$4": " ",
         "P311D5$5": " ",
         "P311D5$6": " ",
         "P311D5$7": " ",
         "P311D5$8": " ",
         "P311D6$1": " ",
         "P311D6$2": " ",
         "P311D6$3": " ",
         "P311D6$4": " ",
         "P311D6$5": " ",
         "P311D6$6": " ",
         "P311D6$7": " ",
         "P311D6$8": " ",
         "P311D7$1": " ",
         "P311D7$2": " ",
         "P311D7$3": " ",
         "P311D7$4": " ",
         "P311D7$5": " ",
         "P311D7$6": " ",
         "P311D7$7": " ",
         "P311D7$8": " ",
         "P311E$1": " ",
         "P311E$2": " ",
         "P311E$3": " ",
         "P311E$4": " ",
         "P311E$5": " ",
         "P311E$6": " ",
         "P311E$7": " ",
         "P311E$8": " ",
         "P311T1": " ",
         "P311T22": " ",
         "P311T23": " ",
         "P311T24": " ",
         "P311T25": " ",
         "P311T26": " ",
         "P311T27": " ",
         "P311T2": " ",
         "P3121": "2",
         "P3121A1": " ",
         "P3121A2": " ",
         "P3121A3": " ",
         "P3121A4": " ",
         "P3121A5": " ",
         "P3121A6": " ",
         "P3121B": " ",
         "P3121C": " ",
         "P3121C2": " ",
         "P3121C3": " ",
         "P3121C4": " ",
         "P3121C5": " ",
         "P3121C6": " ",
         "P3121D": " ",
         "P3122": "2",
         "P3122A1": " ",
         "P3122A2": " ",
         "P3122A3": " ",
         "P3122A4": " ",
         "P3122A5": " ",
         "P3122A6": " ",
         "P3122B": " ",
         "P3122C": " ",
         "P3122C2": " ",
         "P3122C3": " ",
         "P3122C4": " ",
         "P3122C5": " ",
         "P3122C6": " ",
         "P3122D": " ",
         "P312T1": " ",
         "P312T22": " ",
         "P312T23": " ",
         "P312T24": " ",
         "P312T25": " ",
         "P312T26": " ",
         "P312T2": " ",
         "D311B$1": " ",
         "D311D2$1": " ",
         "D311D3$1": " ",
         "D311D4$1": " ",
         "D311D5$1": " ",
         "D311D6$1": " ",
         "D311D7$1": " ",
         "D311D$1": " ",
         "D311B$2": " ",
         "D311D2$2": " ",
         "D311D3$2": " ",
         "D311D4$2": " ",
         "D311D5$2": " ",
         "D311D6$2": " ",
         "D311D7$2": " ",
         "D311D$2": " ",
         "D311B$3": " ",
         "D311D2$3": " ",
         "D311D3$3": " ",
         "D311D4$3": " ",
         "D311D5$3": " ",
         "D311D6$3": " ",
         "D311D7$3": " ",
         "D311D$3": " ",
         "D311B$4": " ",
         "D311D2$4": " ",
         "D311D3$4": " ",
         "D311D4$4": " ",
         "D311D5$4": " ",
         "D311D6$4": " ",
         "D311D7$4": " ",
         "D311D$4": " ",
         "D311B$5": " ",
         "D311D2$5": " ",
         "D311D3$5": " ",
         "D311D4$5": " ",
         "D311D5$5": " ",
         "D311D6$5": " ",
         "D311D7$5": " ",
         "D311D$5": " ",
         "D311B$6": " ",
         "D311D2$6": " ",
         "D311D3$6": " ",
         "D311D4$6": " ",
         "D311D5$6": " ",
         "D311D6$6": " ",
         "D311D7$6": " ",
         "D311D$6": " ",
         "D311B$7": " ",
         "D311D2$7": " ",
         "D311D3$7": " ",
         "D311D4$7": " ",
         "D311D5$7": " ",
         "D311D6$7": " ",
         "D311D7$7": " ",
         "D311D$7": " ",
         "D3121B": " ",
         "D3121C2": " ",
         "D3121C3": " ",
         "D3121C4": " ",
         "D3121C5": " ",
         "D3121C6": " ",
         "D3121C": " ",
         "D3122B": " ",
         "D3122C2": " ",
         "D3122C3": " ",
         "D3122C4": " ",
         "D3122C5": " ",
         "D3122C6": " ",
         "D3122C": " ",
         "D315A": " ",
         "D315B2": " ",
         "D315B3": " ",
         "D315B4": " ",
         "D315B5": " ",
         "D315B6": " ",
         "D315B": " ",
         "I311B$1": " ",
         "I311B$2": " ",
         "I311B$4": " ",
         "I311B$6": " ",
         "I311B$3": " ",
         "I311B$5": " ",
         "I311B$7": " ",
         "I311D2$1": " ",
         "I311D3$1": " ",
         "I311D4$1": " ",
         "I311D5$1": " ",
         "I311D6$1": " ",
         "I311D7$1": " ",
         "I311D2$2": " ",
         "I311D3$2": " ",
         "I311D4$2": " ",
         "I311D5$2": " ",
         "I311D6$2": " ",
         "I311D7$2": " ",
         "I311D2$4": " ",
         "I311D3$4": " ",
         "I311D4$4": " ",
         "I311D5$4": " ",
         "I311D6$4": " ",
         "I311D7$4": " ",
         "I311D2$6": " ",
         "I311D3$6": " ",
         "I311D4$6": " ",
         "I311D5$6": " ",
         "I311D6$6": " ",
         "I311D7$6": " ",
         "I311D2$3": " ",
         "I311D3$3": " ",
         "I311D4$3": " ",
         "I311D5$3": " ",
         "I311D6$3": " ",
         "I311D7$3": " ",
         "I311D2$5": " ",
         "I311D3$5": " ",
         "I311D4$5": " ",
         "I311D5$5": " ",
         "I311D6$5": " ",
         "I311D7$5": " ",
         "I311D2$7": " ",
         "I311D3$7": " ",
         "I311D4$7": " ",
         "I311D5$7": " ",
         "I311D6$7": " ",
         "I311D7$7": " ",
         "I3121B": " ",
         "I3122B": " ",
         "I3121C2": " ",
         "I3121C3": " ",
         "I3121C4": " ",
         "I3121C5": " ",
         "I3121C6": " ",
         "I3122C2": " ",
         "I3122C3": " ",
         "I3122C4": " ",
         "I3122C5": " ",
         "I3122C6": " ",
         "I315A": " ",
         "I315B2": " ",
         "I315B3": " ",
         "I315B4": " ",
         "I315B5": " ",
         "I315B6": " ",
         "I311D$1": " ",
         "I311D$2": " ",
         "I311D$3": " ",
         "I311D$4": " ",
         "I311D$5": " ",
         "I311D$6": " ",
         "I311D$7": " ",
         "I3121C": " ",
         "I3122C": " ",
         "I315B": " ",
         "P311N_0": " ",
         "P311_0": " ",
         "P311A1_0": " ",
         "P311A2_0": " ",
         "P311A3_0": " ",
         "P311A4_0": " ",
         "P311A5_0": " ",
         "P311A6_0": " ",
         "P311A7_0": " ",
         "P311B_0": " ",
         "P311C_0": " ",
         "P311D_0": " ",
         "P311D2_0": " ",
         "_deepnote_index_column": 4
        },
        {
         "A�O": 2020,
         "MES": 1,
         "CONGLOME": 5009,
         "VIVIENDA": 98,
         "HOGAR": 11,
         "CODPERSO": 2,
         "UBIGEO": 10101,
         "DOMINIO": 4,
         "ESTRATO": 4,
         "CODINFOR": 2,
         "P300N": 2,
         "P300I": 2,
         "P300A": "4",
         "P301A": "6",
         "P301B": "5",
         "P301C": " ",
         "P301D": "1",
         "P301A0": "1",
         "P301A1": " ",
         "P301B0": " ",
         "P301B1": " ",
         "P301B3": " ",
         "P302": " ",
         "P302X": " ",
         "P302A": " ",
         "P302B": " ",
         "P303": "2",
         "P304A": " ",
         "P304B": " ",
         "P304C": " ",
         "P304D": " ",
         "P305": " ",
         "P306": "2",
         "P307": " ",
         "P307A1": " ",
         "P307A2": " ",
         "P307A3": " ",
         "P307A4": " ",
         "P307A4_5": " ",
         "P307A4_6": " ",
         "P307A4_7": " ",
         "P307B1": " ",
         "P307B2": " ",
         "P307B3": " ",
         "P307B4": " ",
         "P307B4_5": " ",
         "P307B4_6": " ",
         "P307B4_7": " ",
         "P308A": " ",
         "P308B": " ",
         "P308C": " ",
         "P308D": " ",
         "P308B1": " ",
         "P308B2": " ",
         "P308B3": " ",
         "P308B4": " ",
         "P308B5": " ",
         "P308C1": " ",
         "P308C2": " ",
         "P310": "2",
         "P310B1": "2",
         "P310C0": " ",
         "P310C1": " ",
         "P310D1": " ",
         "P310D2": " ",
         "P310E0": " ",
         "P310E1": " ",
         "P310E3": " ",
         "P311I": " ",
         "P313": " ",
         "P314A": "1",
         "P314B$1": "0",
         "P314B$2": "0",
         "P314B$3": "0",
         "P314B$4": "0",
         "P314B$5": "0",
         "P314B$6": "0",
         "P314B$7": "7",
         "P314B1_1": "0",
         "P314B1_2": "0",
         "P314B1_6": "0",
         "P314B1_7": "0",
         "P314B1_8": "8",
         "P314B1_9": "0",
         "P314D": "1",
         "P3151": " ",
         "P3152": " ",
         "P3153": " ",
         "P3154": " ",
         "P3155": " ",
         "P3156": " ",
         "P315A": " ",
         "P315B": " ",
         "P315B2": " ",
         "P315B3": " ",
         "P315B4": " ",
         "P315B5": " ",
         "P315B6": " ",
         "P316$1": "1",
         "P316$2": "2",
         "P316$3": "2",
         "P316$4": "2",
         "P316$5": "2",
         "P316$6": "2",
         "P316$7": "2",
         "P316$8": "2",
         "P316$9": "2",
         "P316$10": "2",
         "P316$11": "2",
         "P316$12": "2",
         "P316A1": "1",
         "P316A2": "0",
         "P316A3": "0",
         "P316A4": "0",
         "P316A5": "0",
         "P316A6": "0",
         "P316B": "2",
         "P316C1": " ",
         "P316C2": " ",
         "P316C3": " ",
         "P316C4": " ",
         "P316C5": " ",
         "P316C6": " ",
         "P316C7": " ",
         "P316C8": " ",
         "P316C9": " ",
         "P316C10": " ",
         "T313A": " ",
         "P203": 2,
         "P204": 1,
         "P205": "2",
         "P206": " ",
         "P207": 2,
         "P208A": 42,
         "P209": "1",
         "IMPUTADO": " ",
         "P311N$1": " ",
         "P311N$2": " ",
         "P311N$3": " ",
         "P311N$4": " ",
         "P311N$5": " ",
         "P311N$6": " ",
         "P311N$7": " ",
         "P311N$8": " ",
         "P311$1": " ",
         "P311$2": " ",
         "P311$3": " ",
         "P311$4": " ",
         "P311$5": " ",
         "P311$6": " ",
         "P311$7": " ",
         "P311$8": " ",
         "P311A1$1": " ",
         "P311A1$2": " ",
         "P311A1$3": " ",
         "P311A1$4": " ",
         "P311A1$5": " ",
         "P311A1$6": " ",
         "P311A1$7": " ",
         "P311A1$8": " ",
         "P311A2$1": " ",
         "P311A2$2": " ",
         "P311A2$3": " ",
         "P311A2$4": " ",
         "P311A2$5": " ",
         "P311A2$6": " ",
         "P311A2$7": " ",
         "P311A2$8": " ",
         "P311A3$1": " ",
         "P311A3$2": " ",
         "P311A3$3": " ",
         "P311A3$4": " ",
         "P311A3$5": " ",
         "P311A3$6": " ",
         "P311A3$7": " ",
         "P311A3$8": " ",
         "P311A4$1": " ",
         "P311A4$2": " ",
         "P311A4$3": " ",
         "P311A4$4": " ",
         "P311A4$5": " ",
         "P311A4$6": " ",
         "P311A4$7": " ",
         "P311A4$8": " ",
         "P311A5$1": " ",
         "P311A5$2": " ",
         "P311A5$3": " ",
         "P311A5$4": " ",
         "P311A5$5": " ",
         "P311A5$6": " ",
         "P311A5$7": " ",
         "P311A5$8": " ",
         "P311A6$1": " ",
         "P311A6$2": " ",
         "P311A6$3": " ",
         "P311A6$4": " ",
         "P311A6$5": " ",
         "P311A6$6": " ",
         "P311A6$7": " ",
         "P311A6$8": " ",
         "P311A7$1": " ",
         "P311A7$2": " ",
         "P311A7$3": " ",
         "P311A7$4": " ",
         "P311A7$5": " ",
         "P311A7$6": " ",
         "P311A7$7": " ",
         "P311A7$8": " ",
         "P311B$1": " ",
         "P311B$2": " ",
         "P311B$3": " ",
         "P311B$4": " ",
         "P311B$5": " ",
         "P311B$6": " ",
         "P311B$7": " ",
         "P311B$8": " ",
         "P311C$1": " ",
         "P311C$2": " ",
         "P311C$3": " ",
         "P311C$4": " ",
         "P311C$5": " ",
         "P311C$6": " ",
         "P311C$7": " ",
         "P311C$8": " ",
         "P311D$1": " ",
         "P311D$2": " ",
         "P311D$3": " ",
         "P311D$4": " ",
         "P311D$5": " ",
         "P311D$6": " ",
         "P311D$7": " ",
         "P311D$8": " ",
         "P311D2$1": " ",
         "P311D2$2": " ",
         "P311D2$3": " ",
         "P311D2$4": " ",
         "P311D2$5": " ",
         "P311D2$6": " ",
         "P311D2$7": " ",
         "P311D2$8": " ",
         "P311D3$1": " ",
         "P311D3$2": " ",
         "P311D3$3": " ",
         "P311D3$4": " ",
         "P311D3$5": " ",
         "P311D3$6": " ",
         "P311D3$7": " ",
         "P311D3$8": " ",
         "P311D4$1": " ",
         "P311D4$2": " ",
         "P311D4$3": " ",
         "P311D4$4": " ",
         "P311D4$5": " ",
         "P311D4$6": " ",
         "P311D4$7": " ",
         "P311D4$8": " ",
         "P311D5$1": " ",
         "P311D5$2": " ",
         "P311D5$3": " ",
         "P311D5$4": " ",
         "P311D5$5": " ",
         "P311D5$6": " ",
         "P311D5$7": " ",
         "P311D5$8": " ",
         "P311D6$1": " ",
         "P311D6$2": " ",
         "P311D6$3": " ",
         "P311D6$4": " ",
         "P311D6$5": " ",
         "P311D6$6": " ",
         "P311D6$7": " ",
         "P311D6$8": " ",
         "P311D7$1": " ",
         "P311D7$2": " ",
         "P311D7$3": " ",
         "P311D7$4": " ",
         "P311D7$5": " ",
         "P311D7$6": " ",
         "P311D7$7": " ",
         "P311D7$8": " ",
         "P311E$1": " ",
         "P311E$2": " ",
         "P311E$3": " ",
         "P311E$4": " ",
         "P311E$5": " ",
         "P311E$6": " ",
         "P311E$7": " ",
         "P311E$8": " ",
         "P311T1": " ",
         "P311T22": " ",
         "P311T23": " ",
         "P311T24": " ",
         "P311T25": " ",
         "P311T26": " ",
         "P311T27": " ",
         "P311T2": " ",
         "P3121": "2",
         "P3121A1": " ",
         "P3121A2": " ",
         "P3121A3": " ",
         "P3121A4": " ",
         "P3121A5": " ",
         "P3121A6": " ",
         "P3121B": " ",
         "P3121C": " ",
         "P3121C2": " ",
         "P3121C3": " ",
         "P3121C4": " ",
         "P3121C5": " ",
         "P3121C6": " ",
         "P3121D": " ",
         "P3122": "2",
         "P3122A1": " ",
         "P3122A2": " ",
         "P3122A3": " ",
         "P3122A4": " ",
         "P3122A5": " ",
         "P3122A6": " ",
         "P3122B": " ",
         "P3122C": " ",
         "P3122C2": " ",
         "P3122C3": " ",
         "P3122C4": " ",
         "P3122C5": " ",
         "P3122C6": " ",
         "P3122D": " ",
         "P312T1": " ",
         "P312T22": " ",
         "P312T23": " ",
         "P312T24": " ",
         "P312T25": " ",
         "P312T26": " ",
         "P312T2": " ",
         "D311B$1": " ",
         "D311D2$1": " ",
         "D311D3$1": " ",
         "D311D4$1": " ",
         "D311D5$1": " ",
         "D311D6$1": " ",
         "D311D7$1": " ",
         "D311D$1": " ",
         "D311B$2": " ",
         "D311D2$2": " ",
         "D311D3$2": " ",
         "D311D4$2": " ",
         "D311D5$2": " ",
         "D311D6$2": " ",
         "D311D7$2": " ",
         "D311D$2": " ",
         "D311B$3": " ",
         "D311D2$3": " ",
         "D311D3$3": " ",
         "D311D4$3": " ",
         "D311D5$3": " ",
         "D311D6$3": " ",
         "D311D7$3": " ",
         "D311D$3": " ",
         "D311B$4": " ",
         "D311D2$4": " ",
         "D311D3$4": " ",
         "D311D4$4": " ",
         "D311D5$4": " ",
         "D311D6$4": " ",
         "D311D7$4": " ",
         "D311D$4": " ",
         "D311B$5": " ",
         "D311D2$5": " ",
         "D311D3$5": " ",
         "D311D4$5": " ",
         "D311D5$5": " ",
         "D311D6$5": " ",
         "D311D7$5": " ",
         "D311D$5": " ",
         "D311B$6": " ",
         "D311D2$6": " ",
         "D311D3$6": " ",
         "D311D4$6": " ",
         "D311D5$6": " ",
         "D311D6$6": " ",
         "D311D7$6": " ",
         "D311D$6": " ",
         "D311B$7": " ",
         "D311D2$7": " ",
         "D311D3$7": " ",
         "D311D4$7": " ",
         "D311D5$7": " ",
         "D311D6$7": " ",
         "D311D7$7": " ",
         "D311D$7": " ",
         "D3121B": " ",
         "D3121C2": " ",
         "D3121C3": " ",
         "D3121C4": " ",
         "D3121C5": " ",
         "D3121C6": " ",
         "D3121C": " ",
         "D3122B": " ",
         "D3122C2": " ",
         "D3122C3": " ",
         "D3122C4": " ",
         "D3122C5": " ",
         "D3122C6": " ",
         "D3122C": " ",
         "D315A": " ",
         "D315B2": " ",
         "D315B3": " ",
         "D315B4": " ",
         "D315B5": " ",
         "D315B6": " ",
         "D315B": " ",
         "I311B$1": " ",
         "I311B$2": " ",
         "I311B$4": " ",
         "I311B$6": " ",
         "I311B$3": " ",
         "I311B$5": " ",
         "I311B$7": " ",
         "I311D2$1": " ",
         "I311D3$1": " ",
         "I311D4$1": " ",
         "I311D5$1": " ",
         "I311D6$1": " ",
         "I311D7$1": " ",
         "I311D2$2": " ",
         "I311D3$2": " ",
         "I311D4$2": " ",
         "I311D5$2": " ",
         "I311D6$2": " ",
         "I311D7$2": " ",
         "I311D2$4": " ",
         "I311D3$4": " ",
         "I311D4$4": " ",
         "I311D5$4": " ",
         "I311D6$4": " ",
         "I311D7$4": " ",
         "I311D2$6": " ",
         "I311D3$6": " ",
         "I311D4$6": " ",
         "I311D5$6": " ",
         "I311D6$6": " ",
         "I311D7$6": " ",
         "I311D2$3": " ",
         "I311D3$3": " ",
         "I311D4$3": " ",
         "I311D5$3": " ",
         "I311D6$3": " ",
         "I311D7$3": " ",
         "I311D2$5": " ",
         "I311D3$5": " ",
         "I311D4$5": " ",
         "I311D5$5": " ",
         "I311D6$5": " ",
         "I311D7$5": " ",
         "I311D2$7": " ",
         "I311D3$7": " ",
         "I311D4$7": " ",
         "I311D5$7": " ",
         "I311D6$7": " ",
         "I311D7$7": " ",
         "I3121B": " ",
         "I3122B": " ",
         "I3121C2": " ",
         "I3121C3": " ",
         "I3121C4": " ",
         "I3121C5": " ",
         "I3121C6": " ",
         "I3122C2": " ",
         "I3122C3": " ",
         "I3122C4": " ",
         "I3122C5": " ",
         "I3122C6": " ",
         "I315A": " ",
         "I315B2": " ",
         "I315B3": " ",
         "I315B4": " ",
         "I315B5": " ",
         "I315B6": " ",
         "I311D$1": " ",
         "I311D$2": " ",
         "I311D$3": " ",
         "I311D$4": " ",
         "I311D$5": " ",
         "I311D$6": " ",
         "I311D$7": " ",
         "I3121C": " ",
         "I3122C": " ",
         "I315B": " ",
         "P311N_0": " ",
         "P311_0": " ",
         "P311A1_0": " ",
         "P311A2_0": " ",
         "P311A3_0": " ",
         "P311A4_0": " ",
         "P311A5_0": " ",
         "P311A6_0": " ",
         "P311A7_0": " ",
         "P311B_0": " ",
         "P311C_0": " ",
         "P311D_0": " ",
         "P311D2_0": " ",
         "_deepnote_index_column": 5
        },
        {
         "A�O": 2020,
         "MES": 1,
         "CONGLOME": 5009,
         "VIVIENDA": 98,
         "HOGAR": 11,
         "CODPERSO": 3,
         "UBIGEO": 10101,
         "DOMINIO": 4,
         "ESTRATO": 4,
         "CODINFOR": 3,
         "P300N": 3,
         "P300I": 3,
         "P300A": "4",
         "P301A": "8",
         "P301B": "3",
         "P301C": " ",
         "P301D": "1",
         "P301A0": "0",
         "P301A1": "337025",
         "P301B0": "0",
         "P301B1": "140568154",
         "P301B3": "1",
         "P302": " ",
         "P302X": " ",
         "P302A": " ",
         "P302B": " ",
         "P303": "2",
         "P304A": " ",
         "P304B": " ",
         "P304C": " ",
         "P304D": " ",
         "P305": " ",
         "P306": "2",
         "P307": " ",
         "P307A1": " ",
         "P307A2": " ",
         "P307A3": " ",
         "P307A4": " ",
         "P307A4_5": " ",
         "P307A4_6": " ",
         "P307A4_7": " ",
         "P307B1": " ",
         "P307B2": " ",
         "P307B3": " ",
         "P307B4": " ",
         "P307B4_5": " ",
         "P307B4_6": " ",
         "P307B4_7": " ",
         "P308A": " ",
         "P308B": " ",
         "P308C": " ",
         "P308D": " ",
         "P308B1": " ",
         "P308B2": " ",
         "P308B3": " ",
         "P308B4": " ",
         "P308B5": " ",
         "P308C1": " ",
         "P308C2": " ",
         "P310": "1",
         "P310B1": "2",
         "P310C0": " ",
         "P310C1": " ",
         "P310D1": " ",
         "P310D2": " ",
         "P310E0": " ",
         "P310E1": " ",
         "P310E3": " ",
         "P311I": " ",
         "P313": "3",
         "P314A": "1",
         "P314B$1": "0",
         "P314B$2": "0",
         "P314B$3": "0",
         "P314B$4": "0",
         "P314B$5": "0",
         "P314B$6": "0",
         "P314B$7": "7",
         "P314B1_1": "0",
         "P314B1_2": "0",
         "P314B1_6": "0",
         "P314B1_7": "0",
         "P314B1_8": "8",
         "P314B1_9": "0",
         "P314D": "1",
         "P3151": " ",
         "P3152": " ",
         "P3153": " ",
         "P3154": " ",
         "P3155": " ",
         "P3156": " ",
         "P315A": " ",
         "P315B": " ",
         "P315B2": " ",
         "P315B3": " ",
         "P315B4": " ",
         "P315B5": " ",
         "P315B6": " ",
         "P316$1": "1",
         "P316$2": "1",
         "P316$3": "2",
         "P316$4": "2",
         "P316$5": "2",
         "P316$6": "2",
         "P316$7": "1",
         "P316$8": "2",
         "P316$9": "2",
         "P316$10": "2",
         "P316$11": "2",
         "P316$12": "1",
         "P316A1": "1",
         "P316A2": "0",
         "P316A3": "0",
         "P316A4": "0",
         "P316A5": "0",
         "P316A6": "0",
         "P316B": "1",
         "P316C1": "1",
         "P316C2": "1",
         "P316C3": "1",
         "P316C4": "1",
         "P316C5": "2",
         "P316C6": "2",
         "P316C7": "2",
         "P316C8": "1",
         "P316C9": "2",
         "P316C10": "2",
         "T313A": "3",
         "P203": 3,
         "P204": 1,
         "P205": "2",
         "P206": " ",
         "P207": 2,
         "P208A": 20,
         "P209": "6",
         "IMPUTADO": " ",
         "P311N$1": "1",
         "P311N$2": "2",
         "P311N$3": "3",
         "P311N$4": "4",
         "P311N$5": "5",
         "P311N$6": "6",
         "P311N$7": "7",
         "P311N$8": "8",
         "P311$1": "2",
         "P311$2": "2",
         "P311$3": "2",
         "P311$4": "2",
         "P311$5": "2",
         "P311$6": "2",
         "P311$7": "1",
         "P311$8": "2",
         "P311A1$1": " ",
         "P311A1$2": " ",
         "P311A1$3": " ",
         "P311A1$4": " ",
         "P311A1$5": " ",
         "P311A1$6": " ",
         "P311A1$7": "1",
         "P311A1$8": " ",
         "P311A2$1": " ",
         "P311A2$2": " ",
         "P311A2$3": " ",
         "P311A2$4": " ",
         "P311A2$5": " ",
         "P311A2$6": " ",
         "P311A2$7": "0",
         "P311A2$8": " ",
         "P311A3$1": " ",
         "P311A3$2": " ",
         "P311A3$3": " ",
         "P311A3$4": " ",
         "P311A3$5": " ",
         "P311A3$6": " ",
         "P311A3$7": "0",
         "P311A3$8": " ",
         "P311A4$1": " ",
         "P311A4$2": " ",
         "P311A4$3": " ",
         "P311A4$4": " ",
         "P311A4$5": " ",
         "P311A4$6": " ",
         "P311A4$7": "0",
         "P311A4$8": " ",
         "P311A5$1": " ",
         "P311A5$2": " ",
         "P311A5$3": " ",
         "P311A5$4": " ",
         "P311A5$5": " ",
         "P311A5$6": " ",
         "P311A5$7": "0",
         "P311A5$8": " ",
         "P311A6$1": " ",
         "P311A6$2": " ",
         "P311A6$3": " ",
         "P311A6$4": " ",
         "P311A6$5": " ",
         "P311A6$6": " ",
         "P311A6$7": "0",
         "P311A6$8": " ",
         "P311A7$1": " ",
         "P311A7$2": " ",
         "P311A7$3": " ",
         "P311A7$4": " ",
         "P311A7$5": " ",
         "P311A7$6": " ",
         "P311A7$7": "0",
         "P311A7$8": " ",
         "P311B$1": " ",
         "P311B$2": " ",
         "P311B$3": " ",
         "P311B$4": " ",
         "P311B$5": " ",
         "P311B$6": " ",
         "P311B$7": "650",
         "P311B$8": " ",
         "P311C$1": " ",
         "P311C$2": " ",
         "P311C$3": " ",
         "P311C$4": " ",
         "P311C$5": " ",
         "P311C$6": " ",
         "P311C$7": "3",
         "P311C$8": " ",
         "P311D$1": " ",
         "P311D$2": " ",
         "P311D$3": " ",
         "P311D$4": " ",
         "P311D$5": " ",
         "P311D$6": " ",
         "P311D$7": " ",
         "P311D$8": " ",
         "P311D2$1": " ",
         "P311D2$2": " ",
         "P311D2$3": " ",
         "P311D2$4": " ",
         "P311D2$5": " ",
         "P311D2$6": " ",
         "P311D2$7": " ",
         "P311D2$8": " ",
         "P311D3$1": " ",
         "P311D3$2": " ",
         "P311D3$3": " ",
         "P311D3$4": " ",
         "P311D3$5": " ",
         "P311D3$6": " ",
         "P311D3$7": " ",
         "P311D3$8": " ",
         "P311D4$1": " ",
         "P311D4$2": " ",
         "P311D4$3": " ",
         "P311D4$4": " ",
         "P311D4$5": " ",
         "P311D4$6": " ",
         "P311D4$7": " ",
         "P311D4$8": " ",
         "P311D5$1": " ",
         "P311D5$2": " ",
         "P311D5$3": " ",
         "P311D5$4": " ",
         "P311D5$5": " ",
         "P311D5$6": " ",
         "P311D5$7": " ",
         "P311D5$8": " ",
         "P311D6$1": " ",
         "P311D6$2": " ",
         "P311D6$3": " ",
         "P311D6$4": " ",
         "P311D6$5": " ",
         "P311D6$6": " ",
         "P311D6$7": " ",
         "P311D6$8": " ",
         "P311D7$1": " ",
         "P311D7$2": " ",
         "P311D7$3": " ",
         "P311D7$4": " ",
         "P311D7$5": " ",
         "P311D7$6": " ",
         "P311D7$7": " ",
         "P311D7$8": " ",
         "P311E$1": " ",
         "P311E$2": " ",
         "P311E$3": " ",
         "P311E$4": " ",
         "P311E$5": " ",
         "P311E$6": " ",
         "P311E$7": "6",
         "P311E$8": " ",
         "P311T1": "650",
         "P311T22": " ",
         "P311T23": " ",
         "P311T24": " ",
         "P311T25": " ",
         "P311T26": " ",
         "P311T27": " ",
         "P311T2": " ",
         "P3121": "2",
         "P3121A1": " ",
         "P3121A2": " ",
         "P3121A3": " ",
         "P3121A4": " ",
         "P3121A5": " ",
         "P3121A6": " ",
         "P3121B": " ",
         "P3121C": " ",
         "P3121C2": " ",
         "P3121C3": " ",
         "P3121C4": " ",
         "P3121C5": " ",
         "P3121C6": " ",
         "P3121D": " ",
         "P3122": "2",
         "P3122A1": " ",
         "P3122A2": " ",
         "P3122A3": " ",
         "P3122A4": " ",
         "P3122A5": " ",
         "P3122A6": " ",
         "P3122B": " ",
         "P3122C": " ",
         "P3122C2": " ",
         "P3122C3": " ",
         "P3122C4": " ",
         "P3122C5": " ",
         "P3122C6": " ",
         "P3122D": " ",
         "P312T1": " ",
         "P312T22": " ",
         "P312T23": " ",
         "P312T24": " ",
         "P312T25": " ",
         "P312T26": " ",
         "P312T2": " ",
         "D311B$1": " ",
         "D311D2$1": " ",
         "D311D3$1": " ",
         "D311D4$1": " ",
         "D311D5$1": " ",
         "D311D6$1": " ",
         "D311D7$1": " ",
         "D311D$1": " ",
         "D311B$2": " ",
         "D311D2$2": " ",
         "D311D3$2": " ",
         "D311D4$2": " ",
         "D311D5$2": " ",
         "D311D6$2": " ",
         "D311D7$2": " ",
         "D311D$2": " ",
         "D311B$3": " ",
         "D311D2$3": " ",
         "D311D3$3": " ",
         "D311D4$3": " ",
         "D311D5$3": " ",
         "D311D6$3": " ",
         "D311D7$3": " ",
         "D311D$3": " ",
         "D311B$4": " ",
         "D311D2$4": " ",
         "D311D3$4": " ",
         "D311D4$4": " ",
         "D311D5$4": " ",
         "D311D6$4": " ",
         "D311D7$4": " ",
         "D311D$4": " ",
         "D311B$5": " ",
         "D311D2$5": " ",
         "D311D3$5": " ",
         "D311D4$5": " ",
         "D311D5$5": " ",
         "D311D6$5": " ",
         "D311D7$5": " ",
         "D311D$5": " ",
         "D311B$6": " ",
         "D311D2$6": " ",
         "D311D3$6": " ",
         "D311D4$6": " ",
         "D311D5$6": " ",
         "D311D6$6": " ",
         "D311D7$6": " ",
         "D311D$6": " ",
         "D311B$7": "642",
         "D311D2$7": " ",
         "D311D3$7": " ",
         "D311D4$7": " ",
         "D311D5$7": " ",
         "D311D6$7": " ",
         "D311D7$7": " ",
         "D311D$7": " ",
         "D3121B": " ",
         "D3121C2": " ",
         "D3121C3": " ",
         "D3121C4": " ",
         "D3121C5": " ",
         "D3121C6": " ",
         "D3121C": " ",
         "D3122B": " ",
         "D3122C2": " ",
         "D3122C3": " ",
         "D3122C4": " ",
         "D3122C5": " ",
         "D3122C6": " ",
         "D3122C": " ",
         "D315A": " ",
         "D315B2": " ",
         "D315B3": " ",
         "D315B4": " ",
         "D315B5": " ",
         "D315B6": " ",
         "D315B": " ",
         "I311B$1": " ",
         "I311B$2": " ",
         "I311B$4": " ",
         "I311B$6": " ",
         "I311B$3": " ",
         "I311B$5": " ",
         "I311B$7": "642",
         "I311D2$1": " ",
         "I311D3$1": " ",
         "I311D4$1": " ",
         "I311D5$1": " ",
         "I311D6$1": " ",
         "I311D7$1": " ",
         "I311D2$2": " ",
         "I311D3$2": " ",
         "I311D4$2": " ",
         "I311D5$2": " ",
         "I311D6$2": " ",
         "I311D7$2": " ",
         "I311D2$4": " ",
         "I311D3$4": " ",
         "I311D4$4": " ",
         "I311D5$4": " ",
         "I311D6$4": " ",
         "I311D7$4": " ",
         "I311D2$6": " ",
         "I311D3$6": " ",
         "I311D4$6": " ",
         "I311D5$6": " ",
         "I311D6$6": " ",
         "I311D7$6": " ",
         "I311D2$3": " ",
         "I311D3$3": " ",
         "I311D4$3": " ",
         "I311D5$3": " ",
         "I311D6$3": " ",
         "I311D7$3": " ",
         "I311D2$5": " ",
         "I311D3$5": " ",
         "I311D4$5": " ",
         "I311D5$5": " ",
         "I311D6$5": " ",
         "I311D7$5": " ",
         "I311D2$7": " ",
         "I311D3$7": " ",
         "I311D4$7": " ",
         "I311D5$7": " ",
         "I311D6$7": " ",
         "I311D7$7": " ",
         "I3121B": " ",
         "I3122B": " ",
         "I3121C2": " ",
         "I3121C3": " ",
         "I3121C4": " ",
         "I3121C5": " ",
         "I3121C6": " ",
         "I3122C2": " ",
         "I3122C3": " ",
         "I3122C4": " ",
         "I3122C5": " ",
         "I3122C6": " ",
         "I315A": " ",
         "I315B2": " ",
         "I315B3": " ",
         "I315B4": " ",
         "I315B5": " ",
         "I315B6": " ",
         "I311D$1": " ",
         "I311D$2": " ",
         "I311D$3": " ",
         "I311D$4": " ",
         "I311D$5": " ",
         "I311D$6": " ",
         "I311D$7": " ",
         "I3121C": " ",
         "I3122C": " ",
         "I315B": " ",
         "P311N_0": " ",
         "P311_0": " ",
         "P311A1_0": " ",
         "P311A2_0": " ",
         "P311A3_0": " ",
         "P311A4_0": " ",
         "P311A5_0": " ",
         "P311A6_0": " ",
         "P311A7_0": " ",
         "P311B_0": " ",
         "P311C_0": " ",
         "P311D_0": " ",
         "P311D2_0": " ",
         "_deepnote_index_column": 6
        },
        {
         "A�O": 2020,
         "MES": 1,
         "CONGLOME": 5009,
         "VIVIENDA": 98,
         "HOGAR": 11,
         "CODPERSO": 4,
         "UBIGEO": 10101,
         "DOMINIO": 4,
         "ESTRATO": 4,
         "CODINFOR": 4,
         "P300N": 4,
         "P300I": 4,
         "P300A": "4",
         "P301A": "9",
         "P301B": "2",
         "P301C": " ",
         "P301D": "1",
         "P301A0": "0",
         "P301A1": "321026",
         "P301B0": "0",
         "P301B1": "160000076",
         "P301B3": "1",
         "P302": " ",
         "P302X": " ",
         "P302A": " ",
         "P302B": " ",
         "P303": "1",
         "P304A": "5",
         "P304B": "2",
         "P304C": " ",
         "P304D": "1",
         "P305": "1",
         "P306": "2",
         "P307": " ",
         "P307A1": " ",
         "P307A2": " ",
         "P307A3": " ",
         "P307A4": " ",
         "P307A4_5": " ",
         "P307A4_6": " ",
         "P307A4_7": " ",
         "P307B1": " ",
         "P307B2": " ",
         "P307B3": " ",
         "P307B4": " ",
         "P307B4_5": " ",
         "P307B4_6": " ",
         "P307B4_7": " ",
         "P308A": " ",
         "P308B": " ",
         "P308C": " ",
         "P308D": " ",
         "P308B1": " ",
         "P308B2": " ",
         "P308B3": " ",
         "P308B4": " ",
         "P308B5": " ",
         "P308C1": " ",
         "P308C2": " ",
         "P310": "2",
         "P310B1": "2",
         "P310C0": " ",
         "P310C1": " ",
         "P310D1": " ",
         "P310D2": " ",
         "P310E0": " ",
         "P310E1": " ",
         "P310E3": " ",
         "P311I": " ",
         "P313": "6",
         "P314A": "1",
         "P314B$1": "1",
         "P314B$2": "0",
         "P314B$3": "0",
         "P314B$4": "0",
         "P314B$5": "0",
         "P314B$6": "0",
         "P314B$7": "7",
         "P314B1_1": "0",
         "P314B1_2": "2",
         "P314B1_6": "0",
         "P314B1_7": "0",
         "P314B1_8": "8",
         "P314B1_9": "0",
         "P314D": "1",
         "P3151": " ",
         "P3152": " ",
         "P3153": " ",
         "P3154": " ",
         "P3155": " ",
         "P3156": " ",
         "P315A": " ",
         "P315B": " ",
         "P315B2": " ",
         "P315B3": " ",
         "P315B4": " ",
         "P315B5": " ",
         "P315B6": " ",
         "P316$1": "1",
         "P316$2": "1",
         "P316$3": "1",
         "P316$4": "2",
         "P316$5": "2",
         "P316$6": "2",
         "P316$7": "1",
         "P316$8": "2",
         "P316$9": "2",
         "P316$10": "2",
         "P316$11": "2",
         "P316$12": "1",
         "P316A1": "1",
         "P316A2": "0",
         "P316A3": "0",
         "P316A4": "0",
         "P316A5": "0",
         "P316A6": "0",
         "P316B": "1",
         "P316C1": "1",
         "P316C2": "1",
         "P316C3": "1",
         "P316C4": "1",
         "P316C5": "2",
         "P316C6": "2",
         "P316C7": "1",
         "P316C8": "1",
         "P316C9": "2",
         "P316C10": "2",
         "T313A": "6",
         "P203": 3,
         "P204": 1,
         "P205": "2",
         "P206": " ",
         "P207": 1,
         "P208A": 18,
         "P209": "6",
         "IMPUTADO": " ",
         "P311N$1": "1",
         "P311N$2": "2",
         "P311N$3": "3",
         "P311N$4": "4",
         "P311N$5": "5",
         "P311N$6": "6",
         "P311N$7": "7",
         "P311N$8": "8",
         "P311$1": "2",
         "P311$2": "2",
         "P311$3": "1",
         "P311$4": "2",
         "P311$5": "1",
         "P311$6": "2",
         "P311$7": "1",
         "P311$8": "2",
         "P311A1$1": " ",
         "P311A1$2": " ",
         "P311A1$3": "1",
         "P311A1$4": " ",
         "P311A1$5": "1",
         "P311A1$6": " ",
         "P311A1$7": "1",
         "P311A1$8": " ",
         "P311A2$1": " ",
         "P311A2$2": " ",
         "P311A2$3": "0",
         "P311A2$4": " ",
         "P311A2$5": "0",
         "P311A2$6": " ",
         "P311A2$7": "0",
         "P311A2$8": " ",
         "P311A3$1": " ",
         "P311A3$2": " ",
         "P311A3$3": "0",
         "P311A3$4": " ",
         "P311A3$5": "0",
         "P311A3$6": " ",
         "P311A3$7": "0",
         "P311A3$8": " ",
         "P311A4$1": " ",
         "P311A4$2": " ",
         "P311A4$3": "0",
         "P311A4$4": " ",
         "P311A4$5": "0",
         "P311A4$6": " ",
         "P311A4$7": "0",
         "P311A4$8": " ",
         "P311A5$1": " ",
         "P311A5$2": " ",
         "P311A5$3": "0",
         "P311A5$4": " ",
         "P311A5$5": "0",
         "P311A5$6": " ",
         "P311A5$7": "0",
         "P311A5$8": " ",
         "P311A6$1": " ",
         "P311A6$2": " ",
         "P311A6$3": "0",
         "P311A6$4": " ",
         "P311A6$5": "0",
         "P311A6$6": " ",
         "P311A6$7": "0",
         "P311A6$8": " ",
         "P311A7$1": " ",
         "P311A7$2": " ",
         "P311A7$3": "0",
         "P311A7$4": " ",
         "P311A7$5": "0",
         "P311A7$6": " ",
         "P311A7$7": "0",
         "P311A7$8": " ",
         "P311B$1": " ",
         "P311B$2": " ",
         "P311B$3": "60",
         "P311B$4": " ",
         "P311B$5": "130",
         "P311B$6": " ",
         "P311B$7": "1280",
         "P311B$8": " ",
         "P311C$1": " ",
         "P311C$2": " ",
         "P311C$3": "2",
         "P311C$4": " ",
         "P311C$5": " ",
         "P311C$6": " ",
         "P311C$7": "10",
         "P311C$8": " ",
         "P311D$1": " ",
         "P311D$2": " ",
         "P311D$3": " ",
         "P311D$4": " ",
         "P311D$5": " ",
         "P311D$6": " ",
         "P311D$7": " ",
         "P311D$8": " ",
         "P311D2$1": " ",
         "P311D2$2": " ",
         "P311D2$3": " ",
         "P311D2$4": " ",
         "P311D2$5": " ",
         "P311D2$6": " ",
         "P311D2$7": " ",
         "P311D2$8": " ",
         "P311D3$1": " ",
         "P311D3$2": " ",
         "P311D3$3": " ",
         "P311D3$4": " ",
         "P311D3$5": " ",
         "P311D3$6": " ",
         "P311D3$7": " ",
         "P311D3$8": " ",
         "P311D4$1": " ",
         "P311D4$2": " ",
         "P311D4$3": " ",
         "P311D4$4": " ",
         "P311D4$5": " ",
         "P311D4$6": " ",
         "P311D4$7": " ",
         "P311D4$8": " ",
         "P311D5$1": " ",
         "P311D5$2": " ",
         "P311D5$3": " ",
         "P311D5$4": " ",
         "P311D5$5": " ",
         "P311D5$6": " ",
         "P311D5$7": " ",
         "P311D5$8": " ",
         "P311D6$1": " ",
         "P311D6$2": " ",
         "P311D6$3": " ",
         "P311D6$4": " ",
         "P311D6$5": " ",
         "P311D6$6": " ",
         "P311D6$7": " ",
         "P311D6$8": " ",
         "P311D7$1": " ",
         "P311D7$2": " ",
         "P311D7$3": " ",
         "P311D7$4": " ",
         "P311D7$5": " ",
         "P311D7$6": " ",
         "P311D7$7": " ",
         "P311D7$8": " ",
         "P311E$1": " ",
         "P311E$2": " ",
         "P311E$3": "2",
         "P311E$4": " ",
         "P311E$5": "2",
         "P311E$6": " ",
         "P311E$7": "152",
         "P311E$8": " ",
         "P311T1": "1470",
         "P311T22": " ",
         "P311T23": " ",
         "P311T24": " ",
         "P311T25": " ",
         "P311T26": " ",
         "P311T27": " ",
         "P311T2": " ",
         "P3121": "2",
         "P3121A1": " ",
         "P3121A2": " ",
         "P3121A3": " ",
         "P3121A4": " ",
         "P3121A5": " ",
         "P3121A6": " ",
         "P3121B": " ",
         "P3121C": " ",
         "P3121C2": " ",
         "P3121C3": " ",
         "P3121C4": " ",
         "P3121C5": " ",
         "P3121C6": " ",
         "P3121D": " ",
         "P3122": "2",
         "P3122A1": " ",
         "P3122A2": " ",
         "P3122A3": " ",
         "P3122A4": " ",
         "P3122A5": " ",
         "P3122A6": " ",
         "P3122B": " ",
         "P3122C": " ",
         "P3122C2": " ",
         "P3122C3": " ",
         "P3122C4": " ",
         "P3122C5": " ",
         "P3122C6": " ",
         "P3122D": " ",
         "P312T1": " ",
         "P312T22": " ",
         "P312T23": " ",
         "P312T24": " ",
         "P312T25": " ",
         "P312T26": " ",
         "P312T2": " ",
         "D311B$1": " ",
         "D311D2$1": " ",
         "D311D3$1": " ",
         "D311D4$1": " ",
         "D311D5$1": " ",
         "D311D6$1": " ",
         "D311D7$1": " ",
         "D311D$1": " ",
         "D311B$2": " ",
         "D311D2$2": " ",
         "D311D3$2": " ",
         "D311D4$2": " ",
         "D311D5$2": " ",
         "D311D6$2": " ",
         "D311D7$2": " ",
         "D311D$2": " ",
         "D311B$3": "59",
         "D311D2$3": " ",
         "D311D3$3": " ",
         "D311D4$3": " ",
         "D311D5$3": " ",
         "D311D6$3": " ",
         "D311D7$3": " ",
         "D311D$3": " ",
         "D311B$4": " ",
         "D311D2$4": " ",
         "D311D3$4": " ",
         "D311D4$4": " ",
         "D311D5$4": " ",
         "D311D6$4": " ",
         "D311D7$4": " ",
         "D311D$4": " ",
         "D311B$5": "128",
         "D311D2$5": " ",
         "D311D3$5": " ",
         "D311D4$5": " ",
         "D311D5$5": " ",
         "D311D6$5": " ",
         "D311D7$5": " ",
         "D311D$5": " ",
         "D311B$6": " ",
         "D311D2$6": " ",
         "D311D3$6": " ",
         "D311D4$6": " ",
         "D311D5$6": " ",
         "D311D6$6": " ",
         "D311D7$6": " ",
         "D311D$6": " ",
         "D311B$7": "1265",
         "D311D2$7": " ",
         "D311D3$7": " ",
         "D311D4$7": " ",
         "D311D5$7": " ",
         "D311D6$7": " ",
         "D311D7$7": " ",
         "D311D$7": " ",
         "D3121B": " ",
         "D3121C2": " ",
         "D3121C3": " ",
         "D3121C4": " ",
         "D3121C5": " ",
         "D3121C6": " ",
         "D3121C": " ",
         "D3122B": " ",
         "D3122C2": " ",
         "D3122C3": " ",
         "D3122C4": " ",
         "D3122C5": " ",
         "D3122C6": " ",
         "D3122C": " ",
         "D315A": " ",
         "D315B2": " ",
         "D315B3": " ",
         "D315B4": " ",
         "D315B5": " ",
         "D315B6": " ",
         "D315B": " ",
         "I311B$1": " ",
         "I311B$2": " ",
         "I311B$4": " ",
         "I311B$6": " ",
         "I311B$3": "59",
         "I311B$5": "128",
         "I311B$7": "1265",
         "I311D2$1": " ",
         "I311D3$1": " ",
         "I311D4$1": " ",
         "I311D5$1": " ",
         "I311D6$1": " ",
         "I311D7$1": " ",
         "I311D2$2": " ",
         "I311D3$2": " ",
         "I311D4$2": " ",
         "I311D5$2": " ",
         "I311D6$2": " ",
         "I311D7$2": " ",
         "I311D2$4": " ",
         "I311D3$4": " ",
         "I311D4$4": " ",
         "I311D5$4": " ",
         "I311D6$4": " ",
         "I311D7$4": " ",
         "I311D2$6": " ",
         "I311D3$6": " ",
         "I311D4$6": " ",
         "I311D5$6": " ",
         "I311D6$6": " ",
         "I311D7$6": " ",
         "I311D2$3": " ",
         "I311D3$3": " ",
         "I311D4$3": " ",
         "I311D5$3": " ",
         "I311D6$3": " ",
         "I311D7$3": " ",
         "I311D2$5": " ",
         "I311D3$5": " ",
         "I311D4$5": " ",
         "I311D5$5": " ",
         "I311D6$5": " ",
         "I311D7$5": " ",
         "I311D2$7": " ",
         "I311D3$7": " ",
         "I311D4$7": " ",
         "I311D5$7": " ",
         "I311D6$7": " ",
         "I311D7$7": " ",
         "I3121B": " ",
         "I3122B": " ",
         "I3121C2": " ",
         "I3121C3": " ",
         "I3121C4": " ",
         "I3121C5": " ",
         "I3121C6": " ",
         "I3122C2": " ",
         "I3122C3": " ",
         "I3122C4": " ",
         "I3122C5": " ",
         "I3122C6": " ",
         "I315A": " ",
         "I315B2": " ",
         "I315B3": " ",
         "I315B4": " ",
         "I315B5": " ",
         "I315B6": " ",
         "I311D$1": " ",
         "I311D$2": " ",
         "I311D$3": " ",
         "I311D$4": " ",
         "I311D$5": " ",
         "I311D$6": " ",
         "I311D$7": " ",
         "I3121C": " ",
         "I3122C": " ",
         "I315B": " ",
         "P311N_0": " ",
         "P311_0": " ",
         "P311A1_0": " ",
         "P311A2_0": " ",
         "P311A3_0": " ",
         "P311A4_0": " ",
         "P311A5_0": " ",
         "P311A6_0": " ",
         "P311A7_0": " ",
         "P311B_0": " ",
         "P311C_0": " ",
         "P311D_0": " ",
         "P311D2_0": " ",
         "_deepnote_index_column": 7
        },
        {
         "A�O": 2020,
         "MES": 1,
         "CONGLOME": 5009,
         "VIVIENDA": 98,
         "HOGAR": 11,
         "CODPERSO": 5,
         "UBIGEO": 10101,
         "DOMINIO": 4,
         "ESTRATO": 4,
         "CODINFOR": 5,
         "P300N": 5,
         "P300I": 5,
         "P300A": "4",
         "P301A": "5",
         "P301B": "4",
         "P301C": " ",
         "P301D": "1",
         "P301A0": " ",
         "P301A1": " ",
         "P301B0": " ",
         "P301B1": " ",
         "P301B3": " ",
         "P302": " ",
         "P302X": " ",
         "P302A": " ",
         "P302B": " ",
         "P303": "1",
         "P304A": "3",
         "P304B": "4",
         "P304C": " ",
         "P304D": "1",
         "P305": "1",
         "P306": "1",
         "P307": "2",
         "P307A1": " ",
         "P307A2": " ",
         "P307A3": " ",
         "P307A4": " ",
         "P307A4_5": " ",
         "P307A4_6": " ",
         "P307A4_7": " ",
         "P307B1": " ",
         "P307B2": " ",
         "P307B3": " ",
         "P307B4": " ",
         "P307B4_5": " ",
         "P307B4_6": " ",
         "P307B4_7": " ",
         "P308A": "3",
         "P308B": "5",
         "P308C": " ",
         "P308D": "1",
         "P308B1": " ",
         "P308B2": " ",
         "P308B3": " ",
         "P308B4": " ",
         "P308B5": " ",
         "P308C1": " ",
         "P308C2": " ",
         "P310": "2",
         "P310B1": "2",
         "P310C0": " ",
         "P310C1": " ",
         "P310D1": " ",
         "P310D2": " ",
         "P310E0": " ",
         "P310E1": " ",
         "P310E3": " ",
         "P311I": " ",
         "P313": "6",
         "P314A": "1",
         "P314B$1": "0",
         "P314B$2": "0",
         "P314B$3": "0",
         "P314B$4": "0",
         "P314B$5": "0",
         "P314B$6": "0",
         "P314B$7": "7",
         "P314B1_1": "0",
         "P314B1_2": "0",
         "P314B1_6": "0",
         "P314B1_7": "0",
         "P314B1_8": "8",
         "P314B1_9": "0",
         "P314D": "1",
         "P3151": " ",
         "P3152": " ",
         "P3153": " ",
         "P3154": " ",
         "P3155": " ",
         "P3156": " ",
         "P315A": " ",
         "P315B": " ",
         "P315B2": " ",
         "P315B3": " ",
         "P315B4": " ",
         "P315B5": " ",
         "P315B6": " ",
         "P316$1": "1",
         "P316$2": "1",
         "P316$3": "2",
         "P316$4": "2",
         "P316$5": "2",
         "P316$6": "2",
         "P316$7": "1",
         "P316$8": "2",
         "P316$9": "2",
         "P316$10": "2",
         "P316$11": "2",
         "P316$12": "2",
         "P316A1": "0",
         "P316A2": "2",
         "P316A3": "0",
         "P316A4": "0",
         "P316A5": "0",
         "P316A6": "0",
         "P316B": "2",
         "P316C1": " ",
         "P316C2": " ",
         "P316C3": " ",
         "P316C4": " ",
         "P316C5": " ",
         "P316C6": " ",
         "P316C7": " ",
         "P316C8": " ",
         "P316C9": " ",
         "P316C10": " ",
         "T313A": "6",
         "P203": 3,
         "P204": 1,
         "P205": "2",
         "P206": " ",
         "P207": 2,
         "P208A": 16,
         "P209": "6",
         "IMPUTADO": " ",
         "P311N$1": "1",
         "P311N$2": "2",
         "P311N$3": "3",
         "P311N$4": "4",
         "P311N$5": "5",
         "P311N$6": "6",
         "P311N$7": "7",
         "P311N$8": "8",
         "P311$1": "2",
         "P311$2": "1",
         "P311$3": "2",
         "P311$4": "1",
         "P311$5": "2",
         "P311$6": "1",
         "P311$7": "1",
         "P311$8": "2",
         "P311A1$1": " ",
         "P311A1$2": "1",
         "P311A1$3": " ",
         "P311A1$4": "1",
         "P311A1$5": " ",
         "P311A1$6": "1",
         "P311A1$7": "1",
         "P311A1$8": " ",
         "P311A2$1": " ",
         "P311A2$2": "0",
         "P311A2$3": " ",
         "P311A2$4": "0",
         "P311A2$5": " ",
         "P311A2$6": "0",
         "P311A2$7": "0",
         "P311A2$8": " ",
         "P311A3$1": " ",
         "P311A3$2": "0",
         "P311A3$3": " ",
         "P311A3$4": "0",
         "P311A3$5": " ",
         "P311A3$6": "0",
         "P311A3$7": "0",
         "P311A3$8": " ",
         "P311A4$1": " ",
         "P311A4$2": "0",
         "P311A4$3": " ",
         "P311A4$4": "0",
         "P311A4$5": " ",
         "P311A4$6": "0",
         "P311A4$7": "0",
         "P311A4$8": " ",
         "P311A5$1": " ",
         "P311A5$2": "0",
         "P311A5$3": " ",
         "P311A5$4": "0",
         "P311A5$5": " ",
         "P311A5$6": "0",
         "P311A5$7": "0",
         "P311A5$8": " ",
         "P311A6$1": " ",
         "P311A6$2": "0",
         "P311A6$3": " ",
         "P311A6$4": "1",
         "P311A6$5": " ",
         "P311A6$6": "0",
         "P311A6$7": "0",
         "P311A6$8": " ",
         "P311A7$1": " ",
         "P311A7$2": "0",
         "P311A7$3": " ",
         "P311A7$4": "0",
         "P311A7$5": " ",
         "P311A7$6": "0",
         "P311A7$7": "0",
         "P311A7$8": " ",
         "P311B$1": " ",
         "P311B$2": "60",
         "P311B$3": " ",
         "P311B$4": "300",
         "P311B$5": " ",
         "P311B$6": "68",
         "P311B$7": "728",
         "P311B$8": " ",
         "P311C$1": " ",
         "P311C$2": "6",
         "P311C$3": " ",
         "P311C$4": "6",
         "P311C$5": " ",
         "P311C$6": " ",
         "P311C$7": "3",
         "P311C$8": " ",
         "P311D$1": " ",
         "P311D$2": " ",
         "P311D$3": " ",
         "P311D$4": "700",
         "P311D$5": " ",
         "P311D$6": " ",
         "P311D$7": " ",
         "P311D$8": " ",
         "P311D2$1": " ",
         "P311D2$2": " ",
         "P311D2$3": " ",
         "P311D2$4": " ",
         "P311D2$5": " ",
         "P311D2$6": " ",
         "P311D2$7": " ",
         "P311D2$8": " ",
         "P311D3$1": " ",
         "P311D3$2": " ",
         "P311D3$3": " ",
         "P311D3$4": " ",
         "P311D3$5": " ",
         "P311D3$6": " ",
         "P311D3$7": " ",
         "P311D3$8": " ",
         "P311D4$1": " ",
         "P311D4$2": " ",
         "P311D4$3": " ",
         "P311D4$4": " ",
         "P311D4$5": " ",
         "P311D4$6": " ",
         "P311D4$7": " ",
         "P311D4$8": " ",
         "P311D5$1": " ",
         "P311D5$2": " ",
         "P311D5$3": " ",
         "P311D5$4": " ",
         "P311D5$5": " ",
         "P311D5$6": " ",
         "P311D5$7": " ",
         "P311D5$8": " ",
         "P311D6$1": " ",
         "P311D6$2": " ",
         "P311D6$3": " ",
         "P311D6$4": "700",
         "P311D6$5": " ",
         "P311D6$6": " ",
         "P311D6$7": " ",
         "P311D6$8": " ",
         "P311D7$1": " ",
         "P311D7$2": " ",
         "P311D7$3": " ",
         "P311D7$4": " ",
         "P311D7$5": " ",
         "P311D7$6": " ",
         "P311D7$7": " ",
         "P311D7$8": " ",
         "P311E$1": " ",
         "P311E$2": "1",
         "P311E$3": " ",
         "P311E$4": "5",
         "P311E$5": " ",
         "P311E$6": "1",
         "P311E$7": "30",
         "P311E$8": " ",
         "P311T1": "1156",
         "P311T22": " ",
         "P311T23": " ",
         "P311T24": " ",
         "P311T25": " ",
         "P311T26": "700",
         "P311T27": " ",
         "P311T2": "700",
         "P3121": "2",
         "P3121A1": " ",
         "P3121A2": " ",
         "P3121A3": " ",
         "P3121A4": " ",
         "P3121A5": " ",
         "P3121A6": " ",
         "P3121B": " ",
         "P3121C": " ",
         "P3121C2": " ",
         "P3121C3": " ",
         "P3121C4": " ",
         "P3121C5": " ",
         "P3121C6": " ",
         "P3121D": " ",
         "P3122": "2",
         "P3122A1": " ",
         "P3122A2": " ",
         "P3122A3": " ",
         "P3122A4": " ",
         "P3122A5": " ",
         "P3122A6": " ",
         "P3122B": " ",
         "P3122C": " ",
         "P3122C2": " ",
         "P3122C3": " ",
         "P3122C4": " ",
         "P3122C5": " ",
         "P3122C6": " ",
         "P3122D": " ",
         "P312T1": " ",
         "P312T22": " ",
         "P312T23": " ",
         "P312T24": " ",
         "P312T25": " ",
         "P312T26": " ",
         "P312T2": " ",
         "D311B$1": " ",
         "D311D2$1": " ",
         "D311D3$1": " ",
         "D311D4$1": " ",
         "D311D5$1": " ",
         "D311D6$1": " ",
         "D311D7$1": " ",
         "D311D$1": " ",
         "D311B$2": "60",
         "D311D2$2": " ",
         "D311D3$2": " ",
         "D311D4$2": " ",
         "D311D5$2": " ",
         "D311D6$2": " ",
         "D311D7$2": " ",
         "D311D$2": " ",
         "D311B$3": " ",
         "D311D2$3": " ",
         "D311D3$3": " ",
         "D311D4$3": " ",
         "D311D5$3": " ",
         "D311D6$3": " ",
         "D311D7$3": " ",
         "D311D$3": " ",
         "D311B$4": "296",
         "D311D2$4": " ",
         "D311D3$4": " ",
         "D311D4$4": " ",
         "D311D5$4": " ",
         "D311D6$4": "692",
         "D311D7$4": " ",
         "D311D$4": "692",
         "D311B$5": " ",
         "D311D2$5": " ",
         "D311D3$5": " ",
         "D311D4$5": " ",
         "D311D5$5": " ",
         "D311D6$5": " ",
         "D311D7$5": " ",
         "D311D$5": " ",
         "D311B$6": "67",
         "D311D2$6": " ",
         "D311D3$6": " ",
         "D311D4$6": " ",
         "D311D5$6": " ",
         "D311D6$6": " ",
         "D311D7$6": " ",
         "D311D$6": " ",
         "D311B$7": "719",
         "D311D2$7": " ",
         "D311D3$7": " ",
         "D311D4$7": " ",
         "D311D5$7": " ",
         "D311D6$7": " ",
         "D311D7$7": " ",
         "D311D$7": " ",
         "D3121B": " ",
         "D3121C2": " ",
         "D3121C3": " ",
         "D3121C4": " ",
         "D3121C5": " ",
         "D3121C6": " ",
         "D3121C": " ",
         "D3122B": " ",
         "D3122C2": " ",
         "D3122C3": " ",
         "D3122C4": " ",
         "D3122C5": " ",
         "D3122C6": " ",
         "D3122C": " ",
         "D315A": " ",
         "D315B2": " ",
         "D315B3": " ",
         "D315B4": " ",
         "D315B5": " ",
         "D315B6": " ",
         "D315B": " ",
         "I311B$1": " ",
         "I311B$2": "60",
         "I311B$4": "296",
         "I311B$6": "67",
         "I311B$3": " ",
         "I311B$5": " ",
         "I311B$7": "719",
         "I311D2$1": " ",
         "I311D3$1": " ",
         "I311D4$1": " ",
         "I311D5$1": " ",
         "I311D6$1": " ",
         "I311D7$1": " ",
         "I311D2$2": " ",
         "I311D3$2": " ",
         "I311D4$2": " ",
         "I311D5$2": " ",
         "I311D6$2": " ",
         "I311D7$2": " ",
         "I311D2$4": " ",
         "I311D3$4": " ",
         "I311D4$4": " ",
         "I311D5$4": " ",
         "I311D6$4": "692",
         "I311D7$4": " ",
         "I311D2$6": " ",
         "I311D3$6": " ",
         "I311D4$6": " ",
         "I311D5$6": " ",
         "I311D6$6": " ",
         "I311D7$6": " ",
         "I311D2$3": " ",
         "I311D3$3": " ",
         "I311D4$3": " ",
         "I311D5$3": " ",
         "I311D6$3": " ",
         "I311D7$3": " ",
         "I311D2$5": " ",
         "I311D3$5": " ",
         "I311D4$5": " ",
         "I311D5$5": " ",
         "I311D6$5": " ",
         "I311D7$5": " ",
         "I311D2$7": " ",
         "I311D3$7": " ",
         "I311D4$7": " ",
         "I311D5$7": " ",
         "I311D6$7": " ",
         "I311D7$7": " ",
         "I3121B": " ",
         "I3122B": " ",
         "I3121C2": " ",
         "I3121C3": " ",
         "I3121C4": " ",
         "I3121C5": " ",
         "I3121C6": " ",
         "I3122C2": " ",
         "I3122C3": " ",
         "I3122C4": " ",
         "I3122C5": " ",
         "I3122C6": " ",
         "I315A": " ",
         "I315B2": " ",
         "I315B3": " ",
         "I315B4": " ",
         "I315B5": " ",
         "I315B6": " ",
         "I311D$1": " ",
         "I311D$2": " ",
         "I311D$3": " ",
         "I311D$4": "692",
         "I311D$5": " ",
         "I311D$6": " ",
         "I311D$7": " ",
         "I3121C": " ",
         "I3122C": " ",
         "I315B": " ",
         "P311N_0": " ",
         "P311_0": " ",
         "P311A1_0": " ",
         "P311A2_0": " ",
         "P311A3_0": " ",
         "P311A4_0": " ",
         "P311A5_0": " ",
         "P311A6_0": " ",
         "P311A7_0": " ",
         "P311B_0": " ",
         "P311C_0": " ",
         "P311D_0": " ",
         "P311D2_0": " ",
         "_deepnote_index_column": 8
        },
        {
         "A�O": 2020,
         "MES": 1,
         "CONGLOME": 5009,
         "VIVIENDA": 98,
         "HOGAR": 11,
         "CODPERSO": 6,
         "UBIGEO": 10101,
         "DOMINIO": 4,
         "ESTRATO": 4,
         "CODINFOR": 1,
         "P300N": 6,
         "P300I": 1,
         "P300A": "4",
         "P301A": "2",
         "P301B": "3",
         "P301C": " ",
         "P301D": "1",
         "P301A0": " ",
         "P301A1": " ",
         "P301B0": " ",
         "P301B1": " ",
         "P301B3": " ",
         "P302": "2",
         "P302X": " ",
         "P302A": " ",
         "P302B": " ",
         "P303": "1",
         "P304A": "1",
         "P304B": "3",
         "P304C": " ",
         "P304D": "1",
         "P305": "5",
         "P306": "1",
         "P307": "2",
         "P307A1": " ",
         "P307A2": " ",
         "P307A3": " ",
         "P307A4": " ",
         "P307A4_5": " ",
         "P307A4_6": " ",
         "P307A4_7": " ",
         "P307B1": " ",
         "P307B2": " ",
         "P307B3": " ",
         "P307B4": " ",
         "P307B4_5": " ",
         "P307B4_6": " ",
         "P307B4_7": " ",
         "P308A": "2",
         "P308B": "0",
         "P308C": "1",
         "P308D": "1",
         "P308B1": " ",
         "P308B2": " ",
         "P308B3": " ",
         "P308B4": " ",
         "P308B5": " ",
         "P308C1": " ",
         "P308C2": " ",
         "P310": "1",
         "P310B1": " ",
         "P310C0": " ",
         "P310C1": " ",
         "P310D1": " ",
         "P310D2": " ",
         "P310E0": " ",
         "P310E1": " ",
         "P310E3": " ",
         "P311I": " ",
         "P313": "6",
         "P314A": "2",
         "P314B$1": " ",
         "P314B$2": " ",
         "P314B$3": " ",
         "P314B$4": " ",
         "P314B$5": " ",
         "P314B$6": " ",
         "P314B$7": " ",
         "P314B1_1": " ",
         "P314B1_2": " ",
         "P314B1_6": " ",
         "P314B1_7": " ",
         "P314B1_8": " ",
         "P314B1_9": " ",
         "P314D": " ",
         "P3151": " ",
         "P3152": " ",
         "P3153": " ",
         "P3154": " ",
         "P3155": " ",
         "P3156": " ",
         "P315A": " ",
         "P315B": " ",
         "P315B2": " ",
         "P315B3": " ",
         "P315B4": " ",
         "P315B5": " ",
         "P315B6": " ",
         "P316$1": " ",
         "P316$2": " ",
         "P316$3": " ",
         "P316$4": " ",
         "P316$5": " ",
         "P316$6": " ",
         "P316$7": " ",
         "P316$8": " ",
         "P316$9": " ",
         "P316$10": " ",
         "P316$11": " ",
         "P316$12": " ",
         "P316A1": "0",
         "P316A2": "0",
         "P316A3": "0",
         "P316A4": "0",
         "P316A5": "5",
         "P316A6": "0",
         "P316B": " ",
         "P316C1": " ",
         "P316C2": " ",
         "P316C3": " ",
         "P316C4": " ",
         "P316C5": " ",
         "P316C6": " ",
         "P316C7": " ",
         "P316C8": " ",
         "P316C9": " ",
         "P316C10": " ",
         "T313A": "6",
         "P203": 3,
         "P204": 1,
         "P205": "2",
         "P206": " ",
         "P207": 1,
         "P208A": 6,
         "P209": " ",
         "IMPUTADO": " ",
         "P311N$1": "1",
         "P311N$2": "2",
         "P311N$3": "3",
         "P311N$4": "4",
         "P311N$5": "5",
         "P311N$6": "6",
         "P311N$7": "7",
         "P311N$8": "8",
         "P311$1": "1",
         "P311$2": "1",
         "P311$3": "2",
         "P311$4": "1",
         "P311$5": "2",
         "P311$6": "1",
         "P311$7": "1",
         "P311$8": "2",
         "P311A1$1": "1",
         "P311A1$2": "1",
         "P311A1$3": " ",
         "P311A1$4": "1",
         "P311A1$5": " ",
         "P311A1$6": "1",
         "P311A1$7": "1",
         "P311A1$8": " ",
         "P311A2$1": "0",
         "P311A2$2": "0",
         "P311A2$3": " ",
         "P311A2$4": "0",
         "P311A2$5": " ",
         "P311A2$6": "0",
         "P311A2$7": "0",
         "P311A2$8": " ",
         "P311A3$1": "0",
         "P311A3$2": "0",
         "P311A3$3": " ",
         "P311A3$4": "0",
         "P311A3$5": " ",
         "P311A3$6": "0",
         "P311A3$7": "0",
         "P311A3$8": " ",
         "P311A4$1": "0",
         "P311A4$2": "0",
         "P311A4$3": " ",
         "P311A4$4": "0",
         "P311A4$5": " ",
         "P311A4$6": "0",
         "P311A4$7": "0",
         "P311A4$8": " ",
         "P311A5$1": "0",
         "P311A5$2": "0",
         "P311A5$3": " ",
         "P311A5$4": "0",
         "P311A5$5": " ",
         "P311A5$6": "0",
         "P311A5$7": "0",
         "P311A5$8": " ",
         "P311A6$1": "0",
         "P311A6$2": "0",
         "P311A6$3": " ",
         "P311A6$4": "0",
         "P311A6$5": " ",
         "P311A6$6": "0",
         "P311A6$7": "0",
         "P311A6$8": " ",
         "P311A7$1": "0",
         "P311A7$2": "0",
         "P311A7$3": " ",
         "P311A7$4": "0",
         "P311A7$5": " ",
         "P311A7$6": "0",
         "P311A7$7": "0",
         "P311A7$8": " ",
         "P311B$1": "65",
         "P311B$2": "65",
         "P311B$3": " ",
         "P311B$4": "200",
         "P311B$5": " ",
         "P311B$6": "45",
         "P311B$7": "237",
         "P311B$8": " ",
         "P311C$1": "3",
         "P311C$2": "5",
         "P311C$3": " ",
         "P311C$4": "6",
         "P311C$5": " ",
         "P311C$6": " ",
         "P311C$7": "3",
         "P311C$8": " ",
         "P311D$1": " ",
         "P311D$2": " ",
         "P311D$3": " ",
         "P311D$4": " ",
         "P311D$5": " ",
         "P311D$6": " ",
         "P311D$7": " ",
         "P311D$8": " ",
         "P311D2$1": " ",
         "P311D2$2": " ",
         "P311D2$3": " ",
         "P311D2$4": " ",
         "P311D2$5": " ",
         "P311D2$6": " ",
         "P311D2$7": " ",
         "P311D2$8": " ",
         "P311D3$1": " ",
         "P311D3$2": " ",
         "P311D3$3": " ",
         "P311D3$4": " ",
         "P311D3$5": " ",
         "P311D3$6": " ",
         "P311D3$7": " ",
         "P311D3$8": " ",
         "P311D4$1": " ",
         "P311D4$2": " ",
         "P311D4$3": " ",
         "P311D4$4": " ",
         "P311D4$5": " ",
         "P311D4$6": " ",
         "P311D4$7": " ",
         "P311D4$8": " ",
         "P311D5$1": " ",
         "P311D5$2": " ",
         "P311D5$3": " ",
         "P311D5$4": " ",
         "P311D5$5": " ",
         "P311D5$6": " ",
         "P311D5$7": " ",
         "P311D5$8": " ",
         "P311D6$1": " ",
         "P311D6$2": " ",
         "P311D6$3": " ",
         "P311D6$4": " ",
         "P311D6$5": " ",
         "P311D6$6": " ",
         "P311D6$7": " ",
         "P311D6$8": " ",
         "P311D7$1": " ",
         "P311D7$2": " ",
         "P311D7$3": " ",
         "P311D7$4": " ",
         "P311D7$5": " ",
         "P311D7$6": " ",
         "P311D7$7": " ",
         "P311D7$8": " ",
         "P311E$1": "1",
         "P311E$2": "1",
         "P311E$3": " ",
         "P311E$4": "2",
         "P311E$5": " ",
         "P311E$6": "1",
         "P311E$7": "25",
         "P311E$8": " ",
         "P311T1": "612",
         "P311T22": " ",
         "P311T23": " ",
         "P311T24": " ",
         "P311T25": " ",
         "P311T26": " ",
         "P311T27": " ",
         "P311T2": " ",
         "P3121": "2",
         "P3121A1": " ",
         "P3121A2": " ",
         "P3121A3": " ",
         "P3121A4": " ",
         "P3121A5": " ",
         "P3121A6": " ",
         "P3121B": " ",
         "P3121C": " ",
         "P3121C2": " ",
         "P3121C3": " ",
         "P3121C4": " ",
         "P3121C5": " ",
         "P3121C6": " ",
         "P3121D": " ",
         "P3122": "2",
         "P3122A1": " ",
         "P3122A2": " ",
         "P3122A3": " ",
         "P3122A4": " ",
         "P3122A5": " ",
         "P3122A6": " ",
         "P3122B": " ",
         "P3122C": " ",
         "P3122C2": " ",
         "P3122C3": " ",
         "P3122C4": " ",
         "P3122C5": " ",
         "P3122C6": " ",
         "P3122D": " ",
         "P312T1": " ",
         "P312T22": " ",
         "P312T23": " ",
         "P312T24": " ",
         "P312T25": " ",
         "P312T26": " ",
         "P312T2": " ",
         "D311B$1": "65",
         "D311D2$1": " ",
         "D311D3$1": " ",
         "D311D4$1": " ",
         "D311D5$1": " ",
         "D311D6$1": " ",
         "D311D7$1": " ",
         "D311D$1": " ",
         "D311B$2": "65",
         "D311D2$2": " ",
         "D311D3$2": " ",
         "D311D4$2": " ",
         "D311D5$2": " ",
         "D311D6$2": " ",
         "D311D7$2": " ",
         "D311D$2": " ",
         "D311B$3": " ",
         "D311D2$3": " ",
         "D311D3$3": " ",
         "D311D4$3": " ",
         "D311D5$3": " ",
         "D311D6$3": " ",
         "D311D7$3": " ",
         "D311D$3": " ",
         "D311B$4": "198",
         "D311D2$4": " ",
         "D311D3$4": " ",
         "D311D4$4": " ",
         "D311D5$4": " ",
         "D311D6$4": " ",
         "D311D7$4": " ",
         "D311D$4": " ",
         "D311B$5": " ",
         "D311D2$5": " ",
         "D311D3$5": " ",
         "D311D4$5": " ",
         "D311D5$5": " ",
         "D311D6$5": " ",
         "D311D7$5": " ",
         "D311D$5": " ",
         "D311B$6": "44",
         "D311D2$6": " ",
         "D311D3$6": " ",
         "D311D4$6": " ",
         "D311D5$6": " ",
         "D311D6$6": " ",
         "D311D7$6": " ",
         "D311D$6": " ",
         "D311B$7": "234",
         "D311D2$7": " ",
         "D311D3$7": " ",
         "D311D4$7": " ",
         "D311D5$7": " ",
         "D311D6$7": " ",
         "D311D7$7": " ",
         "D311D$7": " ",
         "D3121B": " ",
         "D3121C2": " ",
         "D3121C3": " ",
         "D3121C4": " ",
         "D3121C5": " ",
         "D3121C6": " ",
         "D3121C": " ",
         "D3122B": " ",
         "D3122C2": " ",
         "D3122C3": " ",
         "D3122C4": " ",
         "D3122C5": " ",
         "D3122C6": " ",
         "D3122C": " ",
         "D315A": " ",
         "D315B2": " ",
         "D315B3": " ",
         "D315B4": " ",
         "D315B5": " ",
         "D315B6": " ",
         "D315B": " ",
         "I311B$1": "65",
         "I311B$2": "65",
         "I311B$4": "198",
         "I311B$6": "44",
         "I311B$3": " ",
         "I311B$5": " ",
         "I311B$7": "234",
         "I311D2$1": " ",
         "I311D3$1": " ",
         "I311D4$1": " ",
         "I311D5$1": " ",
         "I311D6$1": " ",
         "I311D7$1": " ",
         "I311D2$2": " ",
         "I311D3$2": " ",
         "I311D4$2": " ",
         "I311D5$2": " ",
         "I311D6$2": " ",
         "I311D7$2": " ",
         "I311D2$4": " ",
         "I311D3$4": " ",
         "I311D4$4": " ",
         "I311D5$4": " ",
         "I311D6$4": " ",
         "I311D7$4": " ",
         "I311D2$6": " ",
         "I311D3$6": " ",
         "I311D4$6": " ",
         "I311D5$6": " ",
         "I311D6$6": " ",
         "I311D7$6": " ",
         "I311D2$3": " ",
         "I311D3$3": " ",
         "I311D4$3": " ",
         "I311D5$3": " ",
         "I311D6$3": " ",
         "I311D7$3": " ",
         "I311D2$5": " ",
         "I311D3$5": " ",
         "I311D4$5": " ",
         "I311D5$5": " ",
         "I311D6$5": " ",
         "I311D7$5": " ",
         "I311D2$7": " ",
         "I311D3$7": " ",
         "I311D4$7": " ",
         "I311D5$7": " ",
         "I311D6$7": " ",
         "I311D7$7": " ",
         "I3121B": " ",
         "I3122B": " ",
         "I3121C2": " ",
         "I3121C3": " ",
         "I3121C4": " ",
         "I3121C5": " ",
         "I3121C6": " ",
         "I3122C2": " ",
         "I3122C3": " ",
         "I3122C4": " ",
         "I3122C5": " ",
         "I3122C6": " ",
         "I315A": " ",
         "I315B2": " ",
         "I315B3": " ",
         "I315B4": " ",
         "I315B5": " ",
         "I315B6": " ",
         "I311D$1": " ",
         "I311D$2": " ",
         "I311D$3": " ",
         "I311D$4": " ",
         "I311D$5": " ",
         "I311D$6": " ",
         "I311D$7": " ",
         "I3121C": " ",
         "I3122C": " ",
         "I315B": " ",
         "P311N_0": " ",
         "P311_0": " ",
         "P311A1_0": " ",
         "P311A2_0": " ",
         "P311A3_0": " ",
         "P311A4_0": " ",
         "P311A5_0": " ",
         "P311A6_0": " ",
         "P311A7_0": " ",
         "P311B_0": " ",
         "P311C_0": " ",
         "P311D_0": " ",
         "P311D2_0": " ",
         "_deepnote_index_column": 9
        }
       ]
      },
      "text/plain": "         A�O  MES  CONGLOME  VIVIENDA  HOGAR  CODPERSO  UBIGEO  DOMINIO  \\\n0       2020    1      5009        12     11         1   10101        4   \n1       2020    1      5009        12     11         2   10101        4   \n2       2020    1      5009        41     11         1   10101        4   \n3       2020    1      5009        41     11         2   10101        4   \n4       2020    1      5009        98     11         1   10101        4   \n...      ...  ...       ...       ...    ...       ...     ...      ...   \n115772  2020   12     20305       116     11         4  250301        7   \n115773  2020   12     20305       137     11         1  250301        7   \n115774  2020   12     20305       137     11         2  250301        7   \n115775  2020   12     20305       137     11         3  250301        7   \n115776  2020   12     20305       137     11         4  250301        7   \n\n        ESTRATO  CODINFOR  ...  I3120C  NIVEL TICUEST01A TIPOCUESTIONARIO  \\\n0             4         1  ...              1          2                0   \n1             4         1  ...              1          2                0   \n2             4         1  ...              1          2                0   \n3             4         2  ...              1          2                0   \n4             4         1  ...              1          2                0   \n...         ...       ...  ...     ...    ...        ...              ...   \n115772        4         4  ...              1          2                2   \n115773        4         1  ...              1          2                2   \n115774        4         2  ...              1          2                2   \n115775        4         1  ...              1          2                2   \n115776        4         1  ...              1          2                2   \n\n       TIPOENTREVISTA    FACTOR07   FACTORA07   FACTORA_P NCONGLOME  \\\n0                   1  149.202744  109.029137  153.650513      7076   \n1                   1  149.202744  181.484161  184.611094      7076   \n2                   1  149.202744  103.218079  153.650513      7076   \n3                   1  149.202744  153.179947  234.997851      7076   \n4                   1  149.202744  123.571358  176.217352      7076   \n...               ...         ...         ...         ...       ...   \n115772              1  275.828552  251.732651  285.039898     15122   \n115773              1  275.828552  346.518066  524.326342     15122   \n115774              1  275.828552  326.873810  395.234778     15122   \n115775              1  275.828552  233.741135  308.571467     15122   \n115776              1  275.828552  201.741882  308.571467     15122   \n\n       SUB_CONGLOME  \n0                 0  \n1                 0  \n2                 0  \n3                 0  \n4                 0  \n...             ...  \n115772            0  \n115773            0  \n115774            0  \n115775            0  \n115776            0  \n\n[115777 rows x 568 columns]",
      "text/html": "<div>\n<style scoped>\n    .dataframe tbody tr th:only-of-type {\n        vertical-align: middle;\n    }\n\n    .dataframe tbody tr th {\n        vertical-align: top;\n    }\n\n    .dataframe thead th {\n        text-align: right;\n    }\n</style>\n<table border=\"1\" class=\"dataframe\">\n  <thead>\n    <tr style=\"text-align: right;\">\n      <th></th>\n      <th>A�O</th>\n      <th>MES</th>\n      <th>CONGLOME</th>\n      <th>VIVIENDA</th>\n      <th>HOGAR</th>\n      <th>CODPERSO</th>\n      <th>UBIGEO</th>\n      <th>DOMINIO</th>\n      <th>ESTRATO</th>\n      <th>CODINFOR</th>\n      <th>...</th>\n      <th>I3120C</th>\n      <th>NIVEL</th>\n      <th>TICUEST01A</th>\n      <th>TIPOCUESTIONARIO</th>\n      <th>TIPOENTREVISTA</th>\n      <th>FACTOR07</th>\n      <th>FACTORA07</th>\n      <th>FACTORA_P</th>\n      <th>NCONGLOME</th>\n      <th>SUB_CONGLOME</th>\n    </tr>\n  </thead>\n  <tbody>\n    <tr>\n      <th>0</th>\n      <td>2020</td>\n      <td>1</td>\n      <td>5009</td>\n      <td>12</td>\n      <td>11</td>\n      <td>1</td>\n      <td>10101</td>\n      <td>4</td>\n      <td>4</td>\n      <td>1</td>\n      <td>...</td>\n      <td></td>\n      <td>1</td>\n      <td>2</td>\n      <td>0</td>\n      <td>1</td>\n      <td>149.202744</td>\n      <td>109.029137</td>\n      <td>153.650513</td>\n      <td>7076</td>\n      <td>0</td>\n    </tr>\n    <tr>\n      <th>1</th>\n      <td>2020</td>\n      <td>1</td>\n      <td>5009</td>\n      <td>12</td>\n      <td>11</td>\n      <td>2</td>\n      <td>10101</td>\n      <td>4</td>\n      <td>4</td>\n      <td>1</td>\n      <td>...</td>\n      <td></td>\n      <td>1</td>\n      <td>2</td>\n      <td>0</td>\n      <td>1</td>\n      <td>149.202744</td>\n      <td>181.484161</td>\n      <td>184.611094</td>\n      <td>7076</td>\n      <td>0</td>\n    </tr>\n    <tr>\n      <th>2</th>\n      <td>2020</td>\n      <td>1</td>\n      <td>5009</td>\n      <td>41</td>\n      <td>11</td>\n      <td>1</td>\n      <td>10101</td>\n      <td>4</td>\n      <td>4</td>\n      <td>1</td>\n      <td>...</td>\n      <td></td>\n      <td>1</td>\n      <td>2</td>\n      <td>0</td>\n      <td>1</td>\n      <td>149.202744</td>\n      <td>103.218079</td>\n      <td>153.650513</td>\n      <td>7076</td>\n      <td>0</td>\n    </tr>\n    <tr>\n      <th>3</th>\n      <td>2020</td>\n      <td>1</td>\n      <td>5009</td>\n      <td>41</td>\n      <td>11</td>\n      <td>2</td>\n      <td>10101</td>\n      <td>4</td>\n      <td>4</td>\n      <td>2</td>\n      <td>...</td>\n      <td></td>\n      <td>1</td>\n      <td>2</td>\n      <td>0</td>\n      <td>1</td>\n      <td>149.202744</td>\n      <td>153.179947</td>\n      <td>234.997851</td>\n      <td>7076</td>\n      <td>0</td>\n    </tr>\n    <tr>\n      <th>4</th>\n      <td>2020</td>\n      <td>1</td>\n      <td>5009</td>\n      <td>98</td>\n      <td>11</td>\n      <td>1</td>\n      <td>10101</td>\n      <td>4</td>\n      <td>4</td>\n      <td>1</td>\n      <td>...</td>\n      <td></td>\n      <td>1</td>\n      <td>2</td>\n      <td>0</td>\n      <td>1</td>\n      <td>149.202744</td>\n      <td>123.571358</td>\n      <td>176.217352</td>\n      <td>7076</td>\n      <td>0</td>\n    </tr>\n    <tr>\n      <th>...</th>\n      <td>...</td>\n      <td>...</td>\n      <td>...</td>\n      <td>...</td>\n      <td>...</td>\n      <td>...</td>\n      <td>...</td>\n      <td>...</td>\n      <td>...</td>\n      <td>...</td>\n      <td>...</td>\n      <td>...</td>\n      <td>...</td>\n      <td>...</td>\n      <td>...</td>\n      <td>...</td>\n      <td>...</td>\n      <td>...</td>\n      <td>...</td>\n      <td>...</td>\n      <td>...</td>\n    </tr>\n    <tr>\n      <th>115772</th>\n      <td>2020</td>\n      <td>12</td>\n      <td>20305</td>\n      <td>116</td>\n      <td>11</td>\n      <td>4</td>\n      <td>250301</td>\n      <td>7</td>\n      <td>4</td>\n      <td>4</td>\n      <td>...</td>\n      <td></td>\n      <td>1</td>\n      <td>2</td>\n      <td>2</td>\n      <td>1</td>\n      <td>275.828552</td>\n      <td>251.732651</td>\n      <td>285.039898</td>\n      <td>15122</td>\n      <td>0</td>\n    </tr>\n    <tr>\n      <th>115773</th>\n      <td>2020</td>\n      <td>12</td>\n      <td>20305</td>\n      <td>137</td>\n      <td>11</td>\n      <td>1</td>\n      <td>250301</td>\n      <td>7</td>\n      <td>4</td>\n      <td>1</td>\n      <td>...</td>\n      <td></td>\n      <td>1</td>\n      <td>2</td>\n      <td>2</td>\n      <td>1</td>\n      <td>275.828552</td>\n      <td>346.518066</td>\n      <td>524.326342</td>\n      <td>15122</td>\n      <td>0</td>\n    </tr>\n    <tr>\n      <th>115774</th>\n      <td>2020</td>\n      <td>12</td>\n      <td>20305</td>\n      <td>137</td>\n      <td>11</td>\n      <td>2</td>\n      <td>250301</td>\n      <td>7</td>\n      <td>4</td>\n      <td>2</td>\n      <td>...</td>\n      <td></td>\n      <td>1</td>\n      <td>2</td>\n      <td>2</td>\n      <td>1</td>\n      <td>275.828552</td>\n      <td>326.873810</td>\n      <td>395.234778</td>\n      <td>15122</td>\n      <td>0</td>\n    </tr>\n    <tr>\n      <th>115775</th>\n      <td>2020</td>\n      <td>12</td>\n      <td>20305</td>\n      <td>137</td>\n      <td>11</td>\n      <td>3</td>\n      <td>250301</td>\n      <td>7</td>\n      <td>4</td>\n      <td>1</td>\n      <td>...</td>\n      <td></td>\n      <td>1</td>\n      <td>2</td>\n      <td>2</td>\n      <td>1</td>\n      <td>275.828552</td>\n      <td>233.741135</td>\n      <td>308.571467</td>\n      <td>15122</td>\n      <td>0</td>\n    </tr>\n    <tr>\n      <th>115776</th>\n      <td>2020</td>\n      <td>12</td>\n      <td>20305</td>\n      <td>137</td>\n      <td>11</td>\n      <td>4</td>\n      <td>250301</td>\n      <td>7</td>\n      <td>4</td>\n      <td>1</td>\n      <td>...</td>\n      <td></td>\n      <td>1</td>\n      <td>2</td>\n      <td>2</td>\n      <td>1</td>\n      <td>275.828552</td>\n      <td>201.741882</td>\n      <td>308.571467</td>\n      <td>15122</td>\n      <td>0</td>\n    </tr>\n  </tbody>\n</table>\n<p>115777 rows × 568 columns</p>\n</div>"
     },
     "metadata": {}
    }
   ]
  },
  {
   "cell_type": "markdown",
   "source": "> Vemos las columnas",
   "metadata": {
    "cell_id": "df2d9ca48eec47678d2261eb040c5729",
    "tags": [],
    "deepnote_cell_type": "markdown",
    "deepnote_cell_height": 66.390625
   }
  },
  {
   "cell_type": "code",
   "metadata": {
    "cell_id": "18a9f7ea4f254e53bbf0b8cc56b8b50d",
    "tags": [],
    "deepnote_to_be_reexecuted": false,
    "source_hash": "db385539",
    "execution_start": 1649539409499,
    "execution_millis": 6,
    "deepnote_cell_type": "code",
    "deepnote_cell_height": 214.1875,
    "deepnote_output_heights": [
     117.1875
    ]
   },
   "source": "df_2020.columns",
   "execution_count": null,
   "outputs": [
    {
     "output_type": "execute_result",
     "execution_count": 19,
     "data": {
      "text/plain": "Index(['A�O', 'MES', 'CONGLOME', 'VIVIENDA', 'HOGAR', 'CODPERSO', 'UBIGEO',\n       'DOMINIO', 'ESTRATO', 'CODINFOR',\n       ...\n       'I3120C', 'NIVEL', 'TICUEST01A', 'TIPOCUESTIONARIO', 'TIPOENTREVISTA',\n       'FACTOR07', 'FACTORA07', 'FACTORA_P', 'NCONGLOME', 'SUB_CONGLOME'],\n      dtype='object', length=568)"
     },
     "metadata": {}
    }
   ]
  },
  {
   "cell_type": "markdown",
   "source": "> Sacamos las columnas con las que vamos a trabajar",
   "metadata": {
    "cell_id": "9a82568d98cf490a9d2b132aaed4f069",
    "tags": [],
    "deepnote_cell_type": "markdown",
    "deepnote_cell_height": 66.390625
   }
  },
  {
   "cell_type": "code",
   "metadata": {
    "cell_id": "c9a0076f1eb34311811f25fb42d3cb97",
    "tags": [],
    "deepnote_to_be_reexecuted": false,
    "source_hash": "f8721cac",
    "execution_start": 1649539414110,
    "execution_millis": 90,
    "deepnote_cell_type": "code",
    "deepnote_cell_height": 426.59375
   },
   "source": "df_2020 = df_2020[['A�O', 'MES', 'CODPERSO', 'UBIGEO', 'DOMINIO', 'P207', 'P208A', 'P209', 'P300A', 'P301A', 'P301A1', 'P301B1', 'P301B3']]\ndf_2020.head()",
   "execution_count": null,
   "outputs": [
    {
     "output_type": "execute_result",
     "execution_count": 20,
     "data": {
      "application/vnd.deepnote.dataframe.v3+json": {
       "column_count": 13,
       "row_count": 5,
       "columns": [
        {
         "name": "A�O",
         "dtype": "int64",
         "stats": {
          "unique_count": 1,
          "nan_count": 0,
          "min": "2020",
          "max": "2020",
          "histogram": [
           {
            "bin_start": 2019.5,
            "bin_end": 2019.6,
            "count": 0
           },
           {
            "bin_start": 2019.6,
            "bin_end": 2019.7,
            "count": 0
           },
           {
            "bin_start": 2019.7,
            "bin_end": 2019.8,
            "count": 0
           },
           {
            "bin_start": 2019.8,
            "bin_end": 2019.9,
            "count": 0
           },
           {
            "bin_start": 2019.9,
            "bin_end": 2020,
            "count": 0
           },
           {
            "bin_start": 2020,
            "bin_end": 2020.1,
            "count": 5
           },
           {
            "bin_start": 2020.1,
            "bin_end": 2020.2,
            "count": 0
           },
           {
            "bin_start": 2020.2,
            "bin_end": 2020.3,
            "count": 0
           },
           {
            "bin_start": 2020.3,
            "bin_end": 2020.4,
            "count": 0
           },
           {
            "bin_start": 2020.4,
            "bin_end": 2020.5,
            "count": 0
           }
          ]
         }
        },
        {
         "name": "MES",
         "dtype": "int64",
         "stats": {
          "unique_count": 1,
          "nan_count": 0,
          "min": "1",
          "max": "1",
          "histogram": [
           {
            "bin_start": 0.5,
            "bin_end": 0.6,
            "count": 0
           },
           {
            "bin_start": 0.6,
            "bin_end": 0.7,
            "count": 0
           },
           {
            "bin_start": 0.7,
            "bin_end": 0.8,
            "count": 0
           },
           {
            "bin_start": 0.8,
            "bin_end": 0.9,
            "count": 0
           },
           {
            "bin_start": 0.9,
            "bin_end": 1,
            "count": 0
           },
           {
            "bin_start": 1,
            "bin_end": 1.1,
            "count": 5
           },
           {
            "bin_start": 1.1,
            "bin_end": 1.2000000000000002,
            "count": 0
           },
           {
            "bin_start": 1.2000000000000002,
            "bin_end": 1.3,
            "count": 0
           },
           {
            "bin_start": 1.3,
            "bin_end": 1.4,
            "count": 0
           },
           {
            "bin_start": 1.4,
            "bin_end": 1.5,
            "count": 0
           }
          ]
         }
        },
        {
         "name": "CODPERSO",
         "dtype": "int64",
         "stats": {
          "unique_count": 2,
          "nan_count": 0,
          "min": "1",
          "max": "2",
          "histogram": [
           {
            "bin_start": 1,
            "bin_end": 1.1,
            "count": 3
           },
           {
            "bin_start": 1.1,
            "bin_end": 1.2,
            "count": 0
           },
           {
            "bin_start": 1.2,
            "bin_end": 1.3,
            "count": 0
           },
           {
            "bin_start": 1.3,
            "bin_end": 1.4,
            "count": 0
           },
           {
            "bin_start": 1.4,
            "bin_end": 1.5,
            "count": 0
           },
           {
            "bin_start": 1.5,
            "bin_end": 1.6,
            "count": 0
           },
           {
            "bin_start": 1.6,
            "bin_end": 1.7000000000000002,
            "count": 0
           },
           {
            "bin_start": 1.7000000000000002,
            "bin_end": 1.8,
            "count": 0
           },
           {
            "bin_start": 1.8,
            "bin_end": 1.9,
            "count": 0
           },
           {
            "bin_start": 1.9,
            "bin_end": 2,
            "count": 2
           }
          ]
         }
        },
        {
         "name": "UBIGEO",
         "dtype": "int64",
         "stats": {
          "unique_count": 1,
          "nan_count": 0,
          "min": "10101",
          "max": "10101",
          "histogram": [
           {
            "bin_start": 10100.5,
            "bin_end": 10100.6,
            "count": 0
           },
           {
            "bin_start": 10100.6,
            "bin_end": 10100.7,
            "count": 0
           },
           {
            "bin_start": 10100.7,
            "bin_end": 10100.8,
            "count": 0
           },
           {
            "bin_start": 10100.8,
            "bin_end": 10100.9,
            "count": 0
           },
           {
            "bin_start": 10100.9,
            "bin_end": 10101,
            "count": 0
           },
           {
            "bin_start": 10101,
            "bin_end": 10101.1,
            "count": 5
           },
           {
            "bin_start": 10101.1,
            "bin_end": 10101.2,
            "count": 0
           },
           {
            "bin_start": 10101.2,
            "bin_end": 10101.3,
            "count": 0
           },
           {
            "bin_start": 10101.3,
            "bin_end": 10101.4,
            "count": 0
           },
           {
            "bin_start": 10101.4,
            "bin_end": 10101.5,
            "count": 0
           }
          ]
         }
        },
        {
         "name": "DOMINIO",
         "dtype": "int64",
         "stats": {
          "unique_count": 1,
          "nan_count": 0,
          "min": "4",
          "max": "4",
          "histogram": [
           {
            "bin_start": 3.5,
            "bin_end": 3.6,
            "count": 0
           },
           {
            "bin_start": 3.6,
            "bin_end": 3.7,
            "count": 0
           },
           {
            "bin_start": 3.7,
            "bin_end": 3.8,
            "count": 0
           },
           {
            "bin_start": 3.8,
            "bin_end": 3.9,
            "count": 0
           },
           {
            "bin_start": 3.9,
            "bin_end": 4,
            "count": 0
           },
           {
            "bin_start": 4,
            "bin_end": 4.1,
            "count": 5
           },
           {
            "bin_start": 4.1,
            "bin_end": 4.2,
            "count": 0
           },
           {
            "bin_start": 4.2,
            "bin_end": 4.3,
            "count": 0
           },
           {
            "bin_start": 4.3,
            "bin_end": 4.4,
            "count": 0
           },
           {
            "bin_start": 4.4,
            "bin_end": 4.5,
            "count": 0
           }
          ]
         }
        },
        {
         "name": "P207",
         "dtype": "int64",
         "stats": {
          "unique_count": 2,
          "nan_count": 0,
          "min": "1",
          "max": "2",
          "histogram": [
           {
            "bin_start": 1,
            "bin_end": 1.1,
            "count": 1
           },
           {
            "bin_start": 1.1,
            "bin_end": 1.2,
            "count": 0
           },
           {
            "bin_start": 1.2,
            "bin_end": 1.3,
            "count": 0
           },
           {
            "bin_start": 1.3,
            "bin_end": 1.4,
            "count": 0
           },
           {
            "bin_start": 1.4,
            "bin_end": 1.5,
            "count": 0
           },
           {
            "bin_start": 1.5,
            "bin_end": 1.6,
            "count": 0
           },
           {
            "bin_start": 1.6,
            "bin_end": 1.7000000000000002,
            "count": 0
           },
           {
            "bin_start": 1.7000000000000002,
            "bin_end": 1.8,
            "count": 0
           },
           {
            "bin_start": 1.8,
            "bin_end": 1.9,
            "count": 0
           },
           {
            "bin_start": 1.9,
            "bin_end": 2,
            "count": 4
           }
          ]
         }
        },
        {
         "name": "P208A",
         "dtype": "int64",
         "stats": {
          "unique_count": 5,
          "nan_count": 0,
          "min": "16",
          "max": "61",
          "histogram": [
           {
            "bin_start": 16,
            "bin_end": 20.5,
            "count": 1
           },
           {
            "bin_start": 20.5,
            "bin_end": 25,
            "count": 0
           },
           {
            "bin_start": 25,
            "bin_end": 29.5,
            "count": 1
           },
           {
            "bin_start": 29.5,
            "bin_end": 34,
            "count": 0
           },
           {
            "bin_start": 34,
            "bin_end": 38.5,
            "count": 0
           },
           {
            "bin_start": 38.5,
            "bin_end": 43,
            "count": 0
           },
           {
            "bin_start": 43,
            "bin_end": 47.5,
            "count": 0
           },
           {
            "bin_start": 47.5,
            "bin_end": 52,
            "count": 1
           },
           {
            "bin_start": 52,
            "bin_end": 56.5,
            "count": 0
           },
           {
            "bin_start": 56.5,
            "bin_end": 61,
            "count": 2
           }
          ]
         }
        },
        {
         "name": "P209",
         "dtype": "object",
         "stats": {
          "unique_count": 3,
          "nan_count": 0,
          "categories": [
           {
            "name": "6",
            "count": 3
           },
           {
            "name": "5",
            "count": 1
           },
           {
            "name": "1",
            "count": 1
           }
          ]
         }
        },
        {
         "name": "P300A",
         "dtype": "object",
         "stats": {
          "unique_count": 1,
          "nan_count": 0,
          "categories": [
           {
            "name": "4",
            "count": 5
           }
          ]
         }
        },
        {
         "name": "P301A",
         "dtype": "object",
         "stats": {
          "unique_count": 4,
          "nan_count": 0,
          "categories": [
           {
            "name": "6",
            "count": 2
           },
           {
            "name": "1",
            "count": 1
           },
           {
            "name": "2 others",
            "count": 2
           }
          ]
         }
        },
        {
         "name": "P301A1",
         "dtype": "object",
         "stats": {
          "unique_count": 2,
          "nan_count": 0,
          "categories": [
           {
            "name": " ",
            "count": 4
           },
           {
            "name": "332336",
            "count": 1
           }
          ]
         }
        },
        {
         "name": "P301B1",
         "dtype": "object",
         "stats": {
          "unique_count": 2,
          "nan_count": 0,
          "categories": [
           {
            "name": " ",
            "count": 4
           },
           {
            "name": "160000076",
            "count": 1
           }
          ]
         }
        },
        {
         "name": "P301B3",
         "dtype": "object",
         "stats": {
          "unique_count": 2,
          "nan_count": 0,
          "categories": [
           {
            "name": " ",
            "count": 4
           },
           {
            "name": "1",
            "count": 1
           }
          ]
         }
        },
        {
         "name": "_deepnote_index_column",
         "dtype": "int64"
        }
       ],
       "rows": [
        {
         "A�O": 2020,
         "MES": 1,
         "CODPERSO": 1,
         "UBIGEO": 10101,
         "DOMINIO": 4,
         "P207": 2,
         "P208A": 49,
         "P209": "5",
         "P300A": "4",
         "P301A": "6",
         "P301A1": " ",
         "P301B1": " ",
         "P301B3": " ",
         "_deepnote_index_column": 0
        },
        {
         "A�O": 2020,
         "MES": 1,
         "CODPERSO": 2,
         "UBIGEO": 10101,
         "DOMINIO": 4,
         "P207": 2,
         "P208A": 16,
         "P209": "6",
         "P300A": "4",
         "P301A": "6",
         "P301A1": " ",
         "P301B1": " ",
         "P301B3": " ",
         "_deepnote_index_column": 1
        },
        {
         "A�O": 2020,
         "MES": 1,
         "CODPERSO": 1,
         "UBIGEO": 10101,
         "DOMINIO": 4,
         "P207": 2,
         "P208A": 61,
         "P209": "6",
         "P300A": "4",
         "P301A": "1",
         "P301A1": " ",
         "P301B1": " ",
         "P301B3": " ",
         "_deepnote_index_column": 2
        },
        {
         "A�O": 2020,
         "MES": 1,
         "CODPERSO": 2,
         "UBIGEO": 10101,
         "DOMINIO": 4,
         "P207": 2,
         "P208A": 29,
         "P209": "6",
         "P300A": "4",
         "P301A": "10",
         "P301A1": "332336",
         "P301B1": "160000076",
         "P301B3": "1",
         "_deepnote_index_column": 3
        },
        {
         "A�O": 2020,
         "MES": 1,
         "CODPERSO": 1,
         "UBIGEO": 10101,
         "DOMINIO": 4,
         "P207": 1,
         "P208A": 59,
         "P209": "1",
         "P300A": "4",
         "P301A": "5",
         "P301A1": " ",
         "P301B1": " ",
         "P301B3": " ",
         "_deepnote_index_column": 4
        }
       ]
      },
      "text/plain": "    A�O  MES  CODPERSO  UBIGEO  DOMINIO  P207  P208A P209 P300A P301A  P301A1  \\\n0  2020    1         1   10101        4     2     49    5     4     6           \n1  2020    1         2   10101        4     2     16    6     4     6           \n2  2020    1         1   10101        4     2     61    6     4     1           \n3  2020    1         2   10101        4     2     29    6     4    10  332336   \n4  2020    1         1   10101        4     1     59    1     4     5           \n\n      P301B1 P301B3  \n0                    \n1                    \n2                    \n3  160000076      1  \n4                    ",
      "text/html": "<div>\n<style scoped>\n    .dataframe tbody tr th:only-of-type {\n        vertical-align: middle;\n    }\n\n    .dataframe tbody tr th {\n        vertical-align: top;\n    }\n\n    .dataframe thead th {\n        text-align: right;\n    }\n</style>\n<table border=\"1\" class=\"dataframe\">\n  <thead>\n    <tr style=\"text-align: right;\">\n      <th></th>\n      <th>A�O</th>\n      <th>MES</th>\n      <th>CODPERSO</th>\n      <th>UBIGEO</th>\n      <th>DOMINIO</th>\n      <th>P207</th>\n      <th>P208A</th>\n      <th>P209</th>\n      <th>P300A</th>\n      <th>P301A</th>\n      <th>P301A1</th>\n      <th>P301B1</th>\n      <th>P301B3</th>\n    </tr>\n  </thead>\n  <tbody>\n    <tr>\n      <th>0</th>\n      <td>2020</td>\n      <td>1</td>\n      <td>1</td>\n      <td>10101</td>\n      <td>4</td>\n      <td>2</td>\n      <td>49</td>\n      <td>5</td>\n      <td>4</td>\n      <td>6</td>\n      <td></td>\n      <td></td>\n      <td></td>\n    </tr>\n    <tr>\n      <th>1</th>\n      <td>2020</td>\n      <td>1</td>\n      <td>2</td>\n      <td>10101</td>\n      <td>4</td>\n      <td>2</td>\n      <td>16</td>\n      <td>6</td>\n      <td>4</td>\n      <td>6</td>\n      <td></td>\n      <td></td>\n      <td></td>\n    </tr>\n    <tr>\n      <th>2</th>\n      <td>2020</td>\n      <td>1</td>\n      <td>1</td>\n      <td>10101</td>\n      <td>4</td>\n      <td>2</td>\n      <td>61</td>\n      <td>6</td>\n      <td>4</td>\n      <td>1</td>\n      <td></td>\n      <td></td>\n      <td></td>\n    </tr>\n    <tr>\n      <th>3</th>\n      <td>2020</td>\n      <td>1</td>\n      <td>2</td>\n      <td>10101</td>\n      <td>4</td>\n      <td>2</td>\n      <td>29</td>\n      <td>6</td>\n      <td>4</td>\n      <td>10</td>\n      <td>332336</td>\n      <td>160000076</td>\n      <td>1</td>\n    </tr>\n    <tr>\n      <th>4</th>\n      <td>2020</td>\n      <td>1</td>\n      <td>1</td>\n      <td>10101</td>\n      <td>4</td>\n      <td>1</td>\n      <td>59</td>\n      <td>1</td>\n      <td>4</td>\n      <td>5</td>\n      <td></td>\n      <td></td>\n      <td></td>\n    </tr>\n  </tbody>\n</table>\n</div>"
     },
     "metadata": {}
    }
   ]
  },
  {
   "cell_type": "markdown",
   "source": "> Renombramos nuestras columnas para un mayor entendimiento",
   "metadata": {
    "cell_id": "e22dbc2b06d44e778a60807db7ab28c5",
    "tags": [],
    "deepnote_cell_type": "markdown",
    "deepnote_cell_height": 66.390625
   }
  },
  {
   "cell_type": "code",
   "metadata": {
    "cell_id": "5902b1ce78314e38aa70dd60fa68cc23",
    "tags": [],
    "deepnote_to_be_reexecuted": false,
    "source_hash": "87821e38",
    "execution_start": 1649539418142,
    "execution_millis": 453,
    "owner_user_id": "8d9f0df6-25cd-43a2-97e1-a283b68026ae",
    "deepnote_cell_type": "code",
    "deepnote_cell_height": 624.59375
   },
   "source": "# renombramos nuestro dataframe\ndf_2020.rename(columns = {'A�O': 'ANIO', 'DOMINIO': 'DOMINIO_G', 'P300A': 'COD_IDIOMA', 'P207': 'ID_SEXO', 'P208A': 'EDAD',\n                'P209': 'ID_ESTADO_CIVIL', 'P301A': 'COD_GRADO_ESTUDIOS', 'P301A1':'COD_CARRERA_UNI',\n                'P301B1': 'COD_CENTRO_ESTUDIOS', 'P301B3': 'COD_DEPARTAMENTO'}, inplace = True)\n\ndf_2020.head()",
   "execution_count": null,
   "outputs": [
    {
     "name": "stderr",
     "text": "/shared-libs/python3.7/py/lib/python3.7/site-packages/pandas/core/frame.py:4449: SettingWithCopyWarning: \nA value is trying to be set on a copy of a slice from a DataFrame\n\nSee the caveats in the documentation: https://pandas.pydata.org/pandas-docs/stable/user_guide/indexing.html#returning-a-view-versus-a-copy\n  errors=errors,\n",
     "output_type": "stream"
    },
    {
     "output_type": "execute_result",
     "execution_count": 21,
     "data": {
      "application/vnd.deepnote.dataframe.v3+json": {
       "column_count": 13,
       "row_count": 5,
       "columns": [
        {
         "name": "ANIO",
         "dtype": "int64",
         "stats": {
          "unique_count": 1,
          "nan_count": 0,
          "min": "2020",
          "max": "2020",
          "histogram": [
           {
            "bin_start": 2019.5,
            "bin_end": 2019.6,
            "count": 0
           },
           {
            "bin_start": 2019.6,
            "bin_end": 2019.7,
            "count": 0
           },
           {
            "bin_start": 2019.7,
            "bin_end": 2019.8,
            "count": 0
           },
           {
            "bin_start": 2019.8,
            "bin_end": 2019.9,
            "count": 0
           },
           {
            "bin_start": 2019.9,
            "bin_end": 2020,
            "count": 0
           },
           {
            "bin_start": 2020,
            "bin_end": 2020.1,
            "count": 5
           },
           {
            "bin_start": 2020.1,
            "bin_end": 2020.2,
            "count": 0
           },
           {
            "bin_start": 2020.2,
            "bin_end": 2020.3,
            "count": 0
           },
           {
            "bin_start": 2020.3,
            "bin_end": 2020.4,
            "count": 0
           },
           {
            "bin_start": 2020.4,
            "bin_end": 2020.5,
            "count": 0
           }
          ]
         }
        },
        {
         "name": "MES",
         "dtype": "int64",
         "stats": {
          "unique_count": 1,
          "nan_count": 0,
          "min": "1",
          "max": "1",
          "histogram": [
           {
            "bin_start": 0.5,
            "bin_end": 0.6,
            "count": 0
           },
           {
            "bin_start": 0.6,
            "bin_end": 0.7,
            "count": 0
           },
           {
            "bin_start": 0.7,
            "bin_end": 0.8,
            "count": 0
           },
           {
            "bin_start": 0.8,
            "bin_end": 0.9,
            "count": 0
           },
           {
            "bin_start": 0.9,
            "bin_end": 1,
            "count": 0
           },
           {
            "bin_start": 1,
            "bin_end": 1.1,
            "count": 5
           },
           {
            "bin_start": 1.1,
            "bin_end": 1.2000000000000002,
            "count": 0
           },
           {
            "bin_start": 1.2000000000000002,
            "bin_end": 1.3,
            "count": 0
           },
           {
            "bin_start": 1.3,
            "bin_end": 1.4,
            "count": 0
           },
           {
            "bin_start": 1.4,
            "bin_end": 1.5,
            "count": 0
           }
          ]
         }
        },
        {
         "name": "CODPERSO",
         "dtype": "int64",
         "stats": {
          "unique_count": 2,
          "nan_count": 0,
          "min": "1",
          "max": "2",
          "histogram": [
           {
            "bin_start": 1,
            "bin_end": 1.1,
            "count": 3
           },
           {
            "bin_start": 1.1,
            "bin_end": 1.2,
            "count": 0
           },
           {
            "bin_start": 1.2,
            "bin_end": 1.3,
            "count": 0
           },
           {
            "bin_start": 1.3,
            "bin_end": 1.4,
            "count": 0
           },
           {
            "bin_start": 1.4,
            "bin_end": 1.5,
            "count": 0
           },
           {
            "bin_start": 1.5,
            "bin_end": 1.6,
            "count": 0
           },
           {
            "bin_start": 1.6,
            "bin_end": 1.7000000000000002,
            "count": 0
           },
           {
            "bin_start": 1.7000000000000002,
            "bin_end": 1.8,
            "count": 0
           },
           {
            "bin_start": 1.8,
            "bin_end": 1.9,
            "count": 0
           },
           {
            "bin_start": 1.9,
            "bin_end": 2,
            "count": 2
           }
          ]
         }
        },
        {
         "name": "UBIGEO",
         "dtype": "int64",
         "stats": {
          "unique_count": 1,
          "nan_count": 0,
          "min": "10101",
          "max": "10101",
          "histogram": [
           {
            "bin_start": 10100.5,
            "bin_end": 10100.6,
            "count": 0
           },
           {
            "bin_start": 10100.6,
            "bin_end": 10100.7,
            "count": 0
           },
           {
            "bin_start": 10100.7,
            "bin_end": 10100.8,
            "count": 0
           },
           {
            "bin_start": 10100.8,
            "bin_end": 10100.9,
            "count": 0
           },
           {
            "bin_start": 10100.9,
            "bin_end": 10101,
            "count": 0
           },
           {
            "bin_start": 10101,
            "bin_end": 10101.1,
            "count": 5
           },
           {
            "bin_start": 10101.1,
            "bin_end": 10101.2,
            "count": 0
           },
           {
            "bin_start": 10101.2,
            "bin_end": 10101.3,
            "count": 0
           },
           {
            "bin_start": 10101.3,
            "bin_end": 10101.4,
            "count": 0
           },
           {
            "bin_start": 10101.4,
            "bin_end": 10101.5,
            "count": 0
           }
          ]
         }
        },
        {
         "name": "DOMINIO_G",
         "dtype": "int64",
         "stats": {
          "unique_count": 1,
          "nan_count": 0,
          "min": "4",
          "max": "4",
          "histogram": [
           {
            "bin_start": 3.5,
            "bin_end": 3.6,
            "count": 0
           },
           {
            "bin_start": 3.6,
            "bin_end": 3.7,
            "count": 0
           },
           {
            "bin_start": 3.7,
            "bin_end": 3.8,
            "count": 0
           },
           {
            "bin_start": 3.8,
            "bin_end": 3.9,
            "count": 0
           },
           {
            "bin_start": 3.9,
            "bin_end": 4,
            "count": 0
           },
           {
            "bin_start": 4,
            "bin_end": 4.1,
            "count": 5
           },
           {
            "bin_start": 4.1,
            "bin_end": 4.2,
            "count": 0
           },
           {
            "bin_start": 4.2,
            "bin_end": 4.3,
            "count": 0
           },
           {
            "bin_start": 4.3,
            "bin_end": 4.4,
            "count": 0
           },
           {
            "bin_start": 4.4,
            "bin_end": 4.5,
            "count": 0
           }
          ]
         }
        },
        {
         "name": "ID_SEXO",
         "dtype": "int64",
         "stats": {
          "unique_count": 2,
          "nan_count": 0,
          "min": "1",
          "max": "2",
          "histogram": [
           {
            "bin_start": 1,
            "bin_end": 1.1,
            "count": 1
           },
           {
            "bin_start": 1.1,
            "bin_end": 1.2,
            "count": 0
           },
           {
            "bin_start": 1.2,
            "bin_end": 1.3,
            "count": 0
           },
           {
            "bin_start": 1.3,
            "bin_end": 1.4,
            "count": 0
           },
           {
            "bin_start": 1.4,
            "bin_end": 1.5,
            "count": 0
           },
           {
            "bin_start": 1.5,
            "bin_end": 1.6,
            "count": 0
           },
           {
            "bin_start": 1.6,
            "bin_end": 1.7000000000000002,
            "count": 0
           },
           {
            "bin_start": 1.7000000000000002,
            "bin_end": 1.8,
            "count": 0
           },
           {
            "bin_start": 1.8,
            "bin_end": 1.9,
            "count": 0
           },
           {
            "bin_start": 1.9,
            "bin_end": 2,
            "count": 4
           }
          ]
         }
        },
        {
         "name": "EDAD",
         "dtype": "int64",
         "stats": {
          "unique_count": 5,
          "nan_count": 0,
          "min": "16",
          "max": "61",
          "histogram": [
           {
            "bin_start": 16,
            "bin_end": 20.5,
            "count": 1
           },
           {
            "bin_start": 20.5,
            "bin_end": 25,
            "count": 0
           },
           {
            "bin_start": 25,
            "bin_end": 29.5,
            "count": 1
           },
           {
            "bin_start": 29.5,
            "bin_end": 34,
            "count": 0
           },
           {
            "bin_start": 34,
            "bin_end": 38.5,
            "count": 0
           },
           {
            "bin_start": 38.5,
            "bin_end": 43,
            "count": 0
           },
           {
            "bin_start": 43,
            "bin_end": 47.5,
            "count": 0
           },
           {
            "bin_start": 47.5,
            "bin_end": 52,
            "count": 1
           },
           {
            "bin_start": 52,
            "bin_end": 56.5,
            "count": 0
           },
           {
            "bin_start": 56.5,
            "bin_end": 61,
            "count": 2
           }
          ]
         }
        },
        {
         "name": "ID_ESTADO_CIVIL",
         "dtype": "object",
         "stats": {
          "unique_count": 3,
          "nan_count": 0,
          "categories": [
           {
            "name": "6",
            "count": 3
           },
           {
            "name": "5",
            "count": 1
           },
           {
            "name": "1",
            "count": 1
           }
          ]
         }
        },
        {
         "name": "COD_IDIOMA",
         "dtype": "object",
         "stats": {
          "unique_count": 1,
          "nan_count": 0,
          "categories": [
           {
            "name": "4",
            "count": 5
           }
          ]
         }
        },
        {
         "name": "COD_GRADO_ESTUDIOS",
         "dtype": "object",
         "stats": {
          "unique_count": 4,
          "nan_count": 0,
          "categories": [
           {
            "name": "6",
            "count": 2
           },
           {
            "name": "1",
            "count": 1
           },
           {
            "name": "2 others",
            "count": 2
           }
          ]
         }
        },
        {
         "name": "COD_CARRERA_UNI",
         "dtype": "object",
         "stats": {
          "unique_count": 2,
          "nan_count": 0,
          "categories": [
           {
            "name": " ",
            "count": 4
           },
           {
            "name": "332336",
            "count": 1
           }
          ]
         }
        },
        {
         "name": "COD_CENTRO_ESTUDIOS",
         "dtype": "object",
         "stats": {
          "unique_count": 2,
          "nan_count": 0,
          "categories": [
           {
            "name": " ",
            "count": 4
           },
           {
            "name": "160000076",
            "count": 1
           }
          ]
         }
        },
        {
         "name": "COD_DEPARTAMENTO",
         "dtype": "object",
         "stats": {
          "unique_count": 2,
          "nan_count": 0,
          "categories": [
           {
            "name": " ",
            "count": 4
           },
           {
            "name": "1",
            "count": 1
           }
          ]
         }
        },
        {
         "name": "_deepnote_index_column",
         "dtype": "int64"
        }
       ],
       "rows": [
        {
         "ANIO": 2020,
         "MES": 1,
         "CODPERSO": 1,
         "UBIGEO": 10101,
         "DOMINIO_G": 4,
         "ID_SEXO": 2,
         "EDAD": 49,
         "ID_ESTADO_CIVIL": "5",
         "COD_IDIOMA": "4",
         "COD_GRADO_ESTUDIOS": "6",
         "COD_CARRERA_UNI": " ",
         "COD_CENTRO_ESTUDIOS": " ",
         "COD_DEPARTAMENTO": " ",
         "_deepnote_index_column": 0
        },
        {
         "ANIO": 2020,
         "MES": 1,
         "CODPERSO": 2,
         "UBIGEO": 10101,
         "DOMINIO_G": 4,
         "ID_SEXO": 2,
         "EDAD": 16,
         "ID_ESTADO_CIVIL": "6",
         "COD_IDIOMA": "4",
         "COD_GRADO_ESTUDIOS": "6",
         "COD_CARRERA_UNI": " ",
         "COD_CENTRO_ESTUDIOS": " ",
         "COD_DEPARTAMENTO": " ",
         "_deepnote_index_column": 1
        },
        {
         "ANIO": 2020,
         "MES": 1,
         "CODPERSO": 1,
         "UBIGEO": 10101,
         "DOMINIO_G": 4,
         "ID_SEXO": 2,
         "EDAD": 61,
         "ID_ESTADO_CIVIL": "6",
         "COD_IDIOMA": "4",
         "COD_GRADO_ESTUDIOS": "1",
         "COD_CARRERA_UNI": " ",
         "COD_CENTRO_ESTUDIOS": " ",
         "COD_DEPARTAMENTO": " ",
         "_deepnote_index_column": 2
        },
        {
         "ANIO": 2020,
         "MES": 1,
         "CODPERSO": 2,
         "UBIGEO": 10101,
         "DOMINIO_G": 4,
         "ID_SEXO": 2,
         "EDAD": 29,
         "ID_ESTADO_CIVIL": "6",
         "COD_IDIOMA": "4",
         "COD_GRADO_ESTUDIOS": "10",
         "COD_CARRERA_UNI": "332336",
         "COD_CENTRO_ESTUDIOS": "160000076",
         "COD_DEPARTAMENTO": "1",
         "_deepnote_index_column": 3
        },
        {
         "ANIO": 2020,
         "MES": 1,
         "CODPERSO": 1,
         "UBIGEO": 10101,
         "DOMINIO_G": 4,
         "ID_SEXO": 1,
         "EDAD": 59,
         "ID_ESTADO_CIVIL": "1",
         "COD_IDIOMA": "4",
         "COD_GRADO_ESTUDIOS": "5",
         "COD_CARRERA_UNI": " ",
         "COD_CENTRO_ESTUDIOS": " ",
         "COD_DEPARTAMENTO": " ",
         "_deepnote_index_column": 4
        }
       ]
      },
      "text/plain": "   ANIO  MES  CODPERSO  UBIGEO  DOMINIO_G  ID_SEXO  EDAD ID_ESTADO_CIVIL  \\\n0  2020    1         1   10101          4        2    49               5   \n1  2020    1         2   10101          4        2    16               6   \n2  2020    1         1   10101          4        2    61               6   \n3  2020    1         2   10101          4        2    29               6   \n4  2020    1         1   10101          4        1    59               1   \n\n  COD_IDIOMA COD_GRADO_ESTUDIOS COD_CARRERA_UNI COD_CENTRO_ESTUDIOS  \\\n0          4                  6                                       \n1          4                  6                                       \n2          4                  1                                       \n3          4                 10          332336           160000076   \n4          4                  5                                       \n\n  COD_DEPARTAMENTO  \n0                   \n1                   \n2                   \n3                1  \n4                   ",
      "text/html": "<div>\n<style scoped>\n    .dataframe tbody tr th:only-of-type {\n        vertical-align: middle;\n    }\n\n    .dataframe tbody tr th {\n        vertical-align: top;\n    }\n\n    .dataframe thead th {\n        text-align: right;\n    }\n</style>\n<table border=\"1\" class=\"dataframe\">\n  <thead>\n    <tr style=\"text-align: right;\">\n      <th></th>\n      <th>ANIO</th>\n      <th>MES</th>\n      <th>CODPERSO</th>\n      <th>UBIGEO</th>\n      <th>DOMINIO_G</th>\n      <th>ID_SEXO</th>\n      <th>EDAD</th>\n      <th>ID_ESTADO_CIVIL</th>\n      <th>COD_IDIOMA</th>\n      <th>COD_GRADO_ESTUDIOS</th>\n      <th>COD_CARRERA_UNI</th>\n      <th>COD_CENTRO_ESTUDIOS</th>\n      <th>COD_DEPARTAMENTO</th>\n    </tr>\n  </thead>\n  <tbody>\n    <tr>\n      <th>0</th>\n      <td>2020</td>\n      <td>1</td>\n      <td>1</td>\n      <td>10101</td>\n      <td>4</td>\n      <td>2</td>\n      <td>49</td>\n      <td>5</td>\n      <td>4</td>\n      <td>6</td>\n      <td></td>\n      <td></td>\n      <td></td>\n    </tr>\n    <tr>\n      <th>1</th>\n      <td>2020</td>\n      <td>1</td>\n      <td>2</td>\n      <td>10101</td>\n      <td>4</td>\n      <td>2</td>\n      <td>16</td>\n      <td>6</td>\n      <td>4</td>\n      <td>6</td>\n      <td></td>\n      <td></td>\n      <td></td>\n    </tr>\n    <tr>\n      <th>2</th>\n      <td>2020</td>\n      <td>1</td>\n      <td>1</td>\n      <td>10101</td>\n      <td>4</td>\n      <td>2</td>\n      <td>61</td>\n      <td>6</td>\n      <td>4</td>\n      <td>1</td>\n      <td></td>\n      <td></td>\n      <td></td>\n    </tr>\n    <tr>\n      <th>3</th>\n      <td>2020</td>\n      <td>1</td>\n      <td>2</td>\n      <td>10101</td>\n      <td>4</td>\n      <td>2</td>\n      <td>29</td>\n      <td>6</td>\n      <td>4</td>\n      <td>10</td>\n      <td>332336</td>\n      <td>160000076</td>\n      <td>1</td>\n    </tr>\n    <tr>\n      <th>4</th>\n      <td>2020</td>\n      <td>1</td>\n      <td>1</td>\n      <td>10101</td>\n      <td>4</td>\n      <td>1</td>\n      <td>59</td>\n      <td>1</td>\n      <td>4</td>\n      <td>5</td>\n      <td></td>\n      <td></td>\n      <td></td>\n    </tr>\n  </tbody>\n</table>\n</div>"
     },
     "metadata": {}
    }
   ]
  },
  {
   "cell_type": "code",
   "metadata": {
    "cell_id": "1f5dfae740f84d55a47dbc3a4901beda",
    "tags": [],
    "deepnote_to_be_reexecuted": false,
    "source_hash": "8adbf446",
    "execution_start": 1649538441484,
    "execution_millis": 1,
    "deepnote_cell_type": "code",
    "deepnote_cell_height": 136.1875,
    "deepnote_output_heights": [
     21.1875
    ]
   },
   "source": "# vemos la cantidad de registros\ndf_2020.shape",
   "execution_count": null,
   "outputs": [
    {
     "output_type": "execute_result",
     "execution_count": 5,
     "data": {
      "text/plain": "(115777, 13)"
     },
     "metadata": {}
    }
   ]
  },
  {
   "cell_type": "code",
   "metadata": {
    "cell_id": "24418fe845e846c99bcd8916e8bdc5a5",
    "tags": [],
    "deepnote_to_be_reexecuted": false,
    "source_hash": "1af481a",
    "execution_start": 1649539444279,
    "execution_millis": 2,
    "deepnote_cell_type": "code",
    "deepnote_cell_height": 193.78125,
    "deepnote_output_heights": [
     78.796875
    ]
   },
   "source": "# Vemos nuestras columnas actualizadas\ndf_2020.columns",
   "execution_count": null,
   "outputs": [
    {
     "output_type": "execute_result",
     "execution_count": 22,
     "data": {
      "text/plain": "Index(['ANIO', 'MES', 'CODPERSO', 'UBIGEO', 'DOMINIO_G', 'ID_SEXO', 'EDAD',\n       'ID_ESTADO_CIVIL', 'COD_IDIOMA', 'COD_GRADO_ESTUDIOS',\n       'COD_CARRERA_UNI', 'COD_CENTRO_ESTUDIOS', 'COD_DEPARTAMENTO'],\n      dtype='object')"
     },
     "metadata": {}
    }
   ]
  },
  {
   "cell_type": "markdown",
   "source": "> Verificamos si tenemos datos nulos o vacíos",
   "metadata": {
    "cell_id": "c6b7a676a15e48bc96861f2e6278c3f2",
    "tags": [],
    "deepnote_cell_type": "markdown",
    "deepnote_cell_height": 66.390625
   }
  },
  {
   "cell_type": "code",
   "metadata": {
    "cell_id": "4fa05a69d35340e7aedb62d0d44e2804",
    "tags": [],
    "deepnote_to_be_reexecuted": false,
    "source_hash": "b4acae1d",
    "execution_start": 1649539449299,
    "execution_millis": 111,
    "deepnote_cell_type": "code",
    "deepnote_cell_height": 367.78125,
    "deepnote_output_heights": [
     270.796875
    ]
   },
   "source": "df_2020.replace(' ', np.nan).isnull().sum()",
   "execution_count": null,
   "outputs": [
    {
     "output_type": "execute_result",
     "execution_count": 23,
     "data": {
      "text/plain": "ANIO                        0\nMES                         0\nCODPERSO                    0\nUBIGEO                      0\nDOMINIO_G                   0\nID_SEXO                     0\nEDAD                        0\nID_ESTADO_CIVIL         19399\nCOD_IDIOMA                 66\nCOD_GRADO_ESTUDIOS         66\nCOD_CARRERA_UNI        102553\nCOD_CENTRO_ESTUDIOS    102826\nCOD_DEPARTAMENTO       102826\ndtype: int64"
     },
     "metadata": {}
    }
   ]
  },
  {
   "cell_type": "markdown",
   "source": "> Vamos a reemplazar con '-1' los valores vacíos",
   "metadata": {
    "cell_id": "c4bfd13a2f4247b5b6c7c766587a2384",
    "tags": [],
    "deepnote_cell_type": "markdown",
    "deepnote_cell_height": 66.390625
   }
  },
  {
   "cell_type": "code",
   "metadata": {
    "cell_id": "ce19629bc3674cf1b32736582ec35d05",
    "tags": [],
    "deepnote_to_be_reexecuted": false,
    "source_hash": "8e870902",
    "execution_start": 1649539462208,
    "execution_millis": 132,
    "deepnote_cell_type": "code",
    "deepnote_cell_height": 631.59375
   },
   "source": "df_2020_clean = df_2020.replace(' ', -1)\ndf_2020_clean",
   "execution_count": null,
   "outputs": [
    {
     "output_type": "execute_result",
     "execution_count": 24,
     "data": {
      "application/vnd.deepnote.dataframe.v3+json": {
       "column_count": 13,
       "row_count": 115777,
       "columns": [
        {
         "name": "ANIO",
         "dtype": "int64"
        },
        {
         "name": "MES",
         "dtype": "int64"
        },
        {
         "name": "CODPERSO",
         "dtype": "int64"
        },
        {
         "name": "UBIGEO",
         "dtype": "int64"
        },
        {
         "name": "DOMINIO_G",
         "dtype": "int64"
        },
        {
         "name": "ID_SEXO",
         "dtype": "int64"
        },
        {
         "name": "EDAD",
         "dtype": "int64"
        },
        {
         "name": "ID_ESTADO_CIVIL",
         "dtype": "object"
        },
        {
         "name": "COD_IDIOMA",
         "dtype": "object"
        },
        {
         "name": "COD_GRADO_ESTUDIOS",
         "dtype": "object"
        },
        {
         "name": "COD_CARRERA_UNI",
         "dtype": "object"
        },
        {
         "name": "COD_CENTRO_ESTUDIOS",
         "dtype": "object"
        },
        {
         "name": "COD_DEPARTAMENTO",
         "dtype": "object"
        },
        {
         "name": "_deepnote_index_column",
         "dtype": "int64"
        }
       ],
       "rows": [
        {
         "ANIO": 2020,
         "MES": 1,
         "CODPERSO": 1,
         "UBIGEO": 10101,
         "DOMINIO_G": 4,
         "ID_SEXO": 2,
         "EDAD": 49,
         "ID_ESTADO_CIVIL": "5",
         "COD_IDIOMA": "4",
         "COD_GRADO_ESTUDIOS": "6",
         "COD_CARRERA_UNI": "-1",
         "COD_CENTRO_ESTUDIOS": "-1",
         "COD_DEPARTAMENTO": "-1",
         "_deepnote_index_column": 0
        },
        {
         "ANIO": 2020,
         "MES": 1,
         "CODPERSO": 2,
         "UBIGEO": 10101,
         "DOMINIO_G": 4,
         "ID_SEXO": 2,
         "EDAD": 16,
         "ID_ESTADO_CIVIL": "6",
         "COD_IDIOMA": "4",
         "COD_GRADO_ESTUDIOS": "6",
         "COD_CARRERA_UNI": "-1",
         "COD_CENTRO_ESTUDIOS": "-1",
         "COD_DEPARTAMENTO": "-1",
         "_deepnote_index_column": 1
        },
        {
         "ANIO": 2020,
         "MES": 1,
         "CODPERSO": 1,
         "UBIGEO": 10101,
         "DOMINIO_G": 4,
         "ID_SEXO": 2,
         "EDAD": 61,
         "ID_ESTADO_CIVIL": "6",
         "COD_IDIOMA": "4",
         "COD_GRADO_ESTUDIOS": "1",
         "COD_CARRERA_UNI": "-1",
         "COD_CENTRO_ESTUDIOS": "-1",
         "COD_DEPARTAMENTO": "-1",
         "_deepnote_index_column": 2
        },
        {
         "ANIO": 2020,
         "MES": 1,
         "CODPERSO": 2,
         "UBIGEO": 10101,
         "DOMINIO_G": 4,
         "ID_SEXO": 2,
         "EDAD": 29,
         "ID_ESTADO_CIVIL": "6",
         "COD_IDIOMA": "4",
         "COD_GRADO_ESTUDIOS": "10",
         "COD_CARRERA_UNI": "332336",
         "COD_CENTRO_ESTUDIOS": "160000076",
         "COD_DEPARTAMENTO": "1",
         "_deepnote_index_column": 3
        },
        {
         "ANIO": 2020,
         "MES": 1,
         "CODPERSO": 1,
         "UBIGEO": 10101,
         "DOMINIO_G": 4,
         "ID_SEXO": 1,
         "EDAD": 59,
         "ID_ESTADO_CIVIL": "1",
         "COD_IDIOMA": "4",
         "COD_GRADO_ESTUDIOS": "5",
         "COD_CARRERA_UNI": "-1",
         "COD_CENTRO_ESTUDIOS": "-1",
         "COD_DEPARTAMENTO": "-1",
         "_deepnote_index_column": 4
        },
        {
         "ANIO": 2020,
         "MES": 1,
         "CODPERSO": 2,
         "UBIGEO": 10101,
         "DOMINIO_G": 4,
         "ID_SEXO": 2,
         "EDAD": 42,
         "ID_ESTADO_CIVIL": "1",
         "COD_IDIOMA": "4",
         "COD_GRADO_ESTUDIOS": "6",
         "COD_CARRERA_UNI": "-1",
         "COD_CENTRO_ESTUDIOS": "-1",
         "COD_DEPARTAMENTO": "-1",
         "_deepnote_index_column": 5
        },
        {
         "ANIO": 2020,
         "MES": 1,
         "CODPERSO": 3,
         "UBIGEO": 10101,
         "DOMINIO_G": 4,
         "ID_SEXO": 2,
         "EDAD": 20,
         "ID_ESTADO_CIVIL": "6",
         "COD_IDIOMA": "4",
         "COD_GRADO_ESTUDIOS": "8",
         "COD_CARRERA_UNI": "337025",
         "COD_CENTRO_ESTUDIOS": "140568154",
         "COD_DEPARTAMENTO": "1",
         "_deepnote_index_column": 6
        },
        {
         "ANIO": 2020,
         "MES": 1,
         "CODPERSO": 4,
         "UBIGEO": 10101,
         "DOMINIO_G": 4,
         "ID_SEXO": 1,
         "EDAD": 18,
         "ID_ESTADO_CIVIL": "6",
         "COD_IDIOMA": "4",
         "COD_GRADO_ESTUDIOS": "9",
         "COD_CARRERA_UNI": "321026",
         "COD_CENTRO_ESTUDIOS": "160000076",
         "COD_DEPARTAMENTO": "1",
         "_deepnote_index_column": 7
        },
        {
         "ANIO": 2020,
         "MES": 1,
         "CODPERSO": 5,
         "UBIGEO": 10101,
         "DOMINIO_G": 4,
         "ID_SEXO": 2,
         "EDAD": 16,
         "ID_ESTADO_CIVIL": "6",
         "COD_IDIOMA": "4",
         "COD_GRADO_ESTUDIOS": "5",
         "COD_CARRERA_UNI": "-1",
         "COD_CENTRO_ESTUDIOS": "-1",
         "COD_DEPARTAMENTO": "-1",
         "_deepnote_index_column": 8
        },
        {
         "ANIO": 2020,
         "MES": 1,
         "CODPERSO": 6,
         "UBIGEO": 10101,
         "DOMINIO_G": 4,
         "ID_SEXO": 1,
         "EDAD": 6,
         "ID_ESTADO_CIVIL": "-1",
         "COD_IDIOMA": "4",
         "COD_GRADO_ESTUDIOS": "2",
         "COD_CARRERA_UNI": "-1",
         "COD_CENTRO_ESTUDIOS": "-1",
         "COD_DEPARTAMENTO": "-1",
         "_deepnote_index_column": 9
        }
       ]
      },
      "text/plain": "        ANIO  MES  CODPERSO  UBIGEO  DOMINIO_G  ID_SEXO  EDAD ID_ESTADO_CIVIL  \\\n0       2020    1         1   10101          4        2    49               5   \n1       2020    1         2   10101          4        2    16               6   \n2       2020    1         1   10101          4        2    61               6   \n3       2020    1         2   10101          4        2    29               6   \n4       2020    1         1   10101          4        1    59               1   \n...      ...  ...       ...     ...        ...      ...   ...             ...   \n115772  2020   12         4  250301          7        1    12               6   \n115773  2020   12         1  250301          7        1    39               1   \n115774  2020   12         2  250301          7        2    32               1   \n115775  2020   12         3  250301          7        2    11              -1   \n115776  2020   12         4  250301          7        2     6              -1   \n\n       COD_IDIOMA COD_GRADO_ESTUDIOS COD_CARRERA_UNI COD_CENTRO_ESTUDIOS  \\\n0               4                  6              -1                  -1   \n1               4                  6              -1                  -1   \n2               4                  1              -1                  -1   \n3               4                 10          332336           160000076   \n4               4                  5              -1                  -1   \n...           ...                ...             ...                 ...   \n115772          4                  3              -1                  -1   \n115773          4                  8          441095           241225135   \n115774          4                  6              -1                  -1   \n115775          4                  3              -1                  -1   \n115776          4                  2              -1                  -1   \n\n       COD_DEPARTAMENTO  \n0                    -1  \n1                    -1  \n2                    -1  \n3                     1  \n4                    -1  \n...                 ...  \n115772               -1  \n115773               10  \n115774               -1  \n115775               -1  \n115776               -1  \n\n[115777 rows x 13 columns]",
      "text/html": "<div>\n<style scoped>\n    .dataframe tbody tr th:only-of-type {\n        vertical-align: middle;\n    }\n\n    .dataframe tbody tr th {\n        vertical-align: top;\n    }\n\n    .dataframe thead th {\n        text-align: right;\n    }\n</style>\n<table border=\"1\" class=\"dataframe\">\n  <thead>\n    <tr style=\"text-align: right;\">\n      <th></th>\n      <th>ANIO</th>\n      <th>MES</th>\n      <th>CODPERSO</th>\n      <th>UBIGEO</th>\n      <th>DOMINIO_G</th>\n      <th>ID_SEXO</th>\n      <th>EDAD</th>\n      <th>ID_ESTADO_CIVIL</th>\n      <th>COD_IDIOMA</th>\n      <th>COD_GRADO_ESTUDIOS</th>\n      <th>COD_CARRERA_UNI</th>\n      <th>COD_CENTRO_ESTUDIOS</th>\n      <th>COD_DEPARTAMENTO</th>\n    </tr>\n  </thead>\n  <tbody>\n    <tr>\n      <th>0</th>\n      <td>2020</td>\n      <td>1</td>\n      <td>1</td>\n      <td>10101</td>\n      <td>4</td>\n      <td>2</td>\n      <td>49</td>\n      <td>5</td>\n      <td>4</td>\n      <td>6</td>\n      <td>-1</td>\n      <td>-1</td>\n      <td>-1</td>\n    </tr>\n    <tr>\n      <th>1</th>\n      <td>2020</td>\n      <td>1</td>\n      <td>2</td>\n      <td>10101</td>\n      <td>4</td>\n      <td>2</td>\n      <td>16</td>\n      <td>6</td>\n      <td>4</td>\n      <td>6</td>\n      <td>-1</td>\n      <td>-1</td>\n      <td>-1</td>\n    </tr>\n    <tr>\n      <th>2</th>\n      <td>2020</td>\n      <td>1</td>\n      <td>1</td>\n      <td>10101</td>\n      <td>4</td>\n      <td>2</td>\n      <td>61</td>\n      <td>6</td>\n      <td>4</td>\n      <td>1</td>\n      <td>-1</td>\n      <td>-1</td>\n      <td>-1</td>\n    </tr>\n    <tr>\n      <th>3</th>\n      <td>2020</td>\n      <td>1</td>\n      <td>2</td>\n      <td>10101</td>\n      <td>4</td>\n      <td>2</td>\n      <td>29</td>\n      <td>6</td>\n      <td>4</td>\n      <td>10</td>\n      <td>332336</td>\n      <td>160000076</td>\n      <td>1</td>\n    </tr>\n    <tr>\n      <th>4</th>\n      <td>2020</td>\n      <td>1</td>\n      <td>1</td>\n      <td>10101</td>\n      <td>4</td>\n      <td>1</td>\n      <td>59</td>\n      <td>1</td>\n      <td>4</td>\n      <td>5</td>\n      <td>-1</td>\n      <td>-1</td>\n      <td>-1</td>\n    </tr>\n    <tr>\n      <th>...</th>\n      <td>...</td>\n      <td>...</td>\n      <td>...</td>\n      <td>...</td>\n      <td>...</td>\n      <td>...</td>\n      <td>...</td>\n      <td>...</td>\n      <td>...</td>\n      <td>...</td>\n      <td>...</td>\n      <td>...</td>\n      <td>...</td>\n    </tr>\n    <tr>\n      <th>115772</th>\n      <td>2020</td>\n      <td>12</td>\n      <td>4</td>\n      <td>250301</td>\n      <td>7</td>\n      <td>1</td>\n      <td>12</td>\n      <td>6</td>\n      <td>4</td>\n      <td>3</td>\n      <td>-1</td>\n      <td>-1</td>\n      <td>-1</td>\n    </tr>\n    <tr>\n      <th>115773</th>\n      <td>2020</td>\n      <td>12</td>\n      <td>1</td>\n      <td>250301</td>\n      <td>7</td>\n      <td>1</td>\n      <td>39</td>\n      <td>1</td>\n      <td>4</td>\n      <td>8</td>\n      <td>441095</td>\n      <td>241225135</td>\n      <td>10</td>\n    </tr>\n    <tr>\n      <th>115774</th>\n      <td>2020</td>\n      <td>12</td>\n      <td>2</td>\n      <td>250301</td>\n      <td>7</td>\n      <td>2</td>\n      <td>32</td>\n      <td>1</td>\n      <td>4</td>\n      <td>6</td>\n      <td>-1</td>\n      <td>-1</td>\n      <td>-1</td>\n    </tr>\n    <tr>\n      <th>115775</th>\n      <td>2020</td>\n      <td>12</td>\n      <td>3</td>\n      <td>250301</td>\n      <td>7</td>\n      <td>2</td>\n      <td>11</td>\n      <td>-1</td>\n      <td>4</td>\n      <td>3</td>\n      <td>-1</td>\n      <td>-1</td>\n      <td>-1</td>\n    </tr>\n    <tr>\n      <th>115776</th>\n      <td>2020</td>\n      <td>12</td>\n      <td>4</td>\n      <td>250301</td>\n      <td>7</td>\n      <td>2</td>\n      <td>6</td>\n      <td>-1</td>\n      <td>4</td>\n      <td>2</td>\n      <td>-1</td>\n      <td>-1</td>\n      <td>-1</td>\n    </tr>\n  </tbody>\n</table>\n<p>115777 rows × 13 columns</p>\n</div>"
     },
     "metadata": {}
    }
   ]
  },
  {
   "cell_type": "code",
   "metadata": {
    "cell_id": "109d33d56ea44557b5cb2ed1f1b48285",
    "tags": [],
    "deepnote_to_be_reexecuted": false,
    "source_hash": "568b9860",
    "execution_start": 1649539466218,
    "execution_millis": 187,
    "deepnote_cell_type": "code",
    "deepnote_cell_height": 99
   },
   "source": "# cambiamos el tipo de los códigos a entero\ndf_2020_clean[['ID_ESTADO_CIVIL', 'COD_IDIOMA', 'COD_GRADO_ESTUDIOS', 'COD_CARRERA_UNI', 'COD_CENTRO_ESTUDIOS', 'COD_DEPARTAMENTO']] = df_2020_clean[['ID_ESTADO_CIVIL', 'COD_IDIOMA', 'COD_GRADO_ESTUDIOS', 'COD_CARRERA_UNI', 'COD_CENTRO_ESTUDIOS', 'COD_DEPARTAMENTO']].astype(int)",
   "execution_count": null,
   "outputs": []
  },
  {
   "cell_type": "markdown",
   "source": "> Obtenemos los usuarios que estén de **PRE GRADO** a más",
   "metadata": {
    "cell_id": "3fbe8438dd754e23b7ee8225d1b76cab",
    "tags": [],
    "deepnote_cell_type": "markdown",
    "deepnote_cell_height": 66.390625
   }
  },
  {
   "cell_type": "code",
   "metadata": {
    "cell_id": "c809d6c093704b06b91e2b08dc655ad5",
    "tags": [],
    "deepnote_to_be_reexecuted": false,
    "source_hash": "5632a687",
    "execution_start": 1649539469982,
    "execution_millis": 22,
    "deepnote_cell_type": "code",
    "deepnote_cell_height": 136.1875,
    "deepnote_output_heights": [
     21.1875
    ]
   },
   "source": "df_2020_sup_uni = df_2020_clean[df_2020_clean['COD_GRADO_ESTUDIOS']>=9]\ndf_2020_sup_uni.shape",
   "execution_count": null,
   "outputs": [
    {
     "output_type": "execute_result",
     "execution_count": 26,
     "data": {
      "text/plain": "(14061, 13)"
     },
     "metadata": {}
    }
   ]
  },
  {
   "cell_type": "code",
   "metadata": {
    "cell_id": "cdbc112ae98d47c4802150cf00518215",
    "tags": [],
    "deepnote_to_be_reexecuted": false,
    "source_hash": "2017002a",
    "execution_start": 1649539473011,
    "execution_millis": 119,
    "deepnote_cell_type": "code",
    "deepnote_cell_height": 631.59375
   },
   "source": "# verificamos nuestros datos\ndf_2020_sup_uni",
   "execution_count": null,
   "outputs": [
    {
     "output_type": "execute_result",
     "execution_count": 27,
     "data": {
      "application/vnd.deepnote.dataframe.v3+json": {
       "column_count": 13,
       "row_count": 14061,
       "columns": [
        {
         "name": "ANIO",
         "dtype": "int64",
         "stats": {
          "unique_count": 1,
          "nan_count": 0,
          "min": "2020",
          "max": "2020",
          "histogram": [
           {
            "bin_start": 2019.5,
            "bin_end": 2019.6,
            "count": 0
           },
           {
            "bin_start": 2019.6,
            "bin_end": 2019.7,
            "count": 0
           },
           {
            "bin_start": 2019.7,
            "bin_end": 2019.8,
            "count": 0
           },
           {
            "bin_start": 2019.8,
            "bin_end": 2019.9,
            "count": 0
           },
           {
            "bin_start": 2019.9,
            "bin_end": 2020,
            "count": 0
           },
           {
            "bin_start": 2020,
            "bin_end": 2020.1,
            "count": 14061
           },
           {
            "bin_start": 2020.1,
            "bin_end": 2020.2,
            "count": 0
           },
           {
            "bin_start": 2020.2,
            "bin_end": 2020.3,
            "count": 0
           },
           {
            "bin_start": 2020.3,
            "bin_end": 2020.4,
            "count": 0
           },
           {
            "bin_start": 2020.4,
            "bin_end": 2020.5,
            "count": 0
           }
          ]
         }
        },
        {
         "name": "MES",
         "dtype": "int64",
         "stats": {
          "unique_count": 12,
          "nan_count": 0,
          "min": "1",
          "max": "12",
          "histogram": [
           {
            "bin_start": 1,
            "bin_end": 2.1,
            "count": 2506
           },
           {
            "bin_start": 2.1,
            "bin_end": 3.2,
            "count": 1204
           },
           {
            "bin_start": 3.2,
            "bin_end": 4.300000000000001,
            "count": 1294
           },
           {
            "bin_start": 4.300000000000001,
            "bin_end": 5.4,
            "count": 1097
           },
           {
            "bin_start": 5.4,
            "bin_end": 6.5,
            "count": 1197
           },
           {
            "bin_start": 6.5,
            "bin_end": 7.6000000000000005,
            "count": 1192
           },
           {
            "bin_start": 7.6000000000000005,
            "bin_end": 8.700000000000001,
            "count": 1289
           },
           {
            "bin_start": 8.700000000000001,
            "bin_end": 9.8,
            "count": 1051
           },
           {
            "bin_start": 9.8,
            "bin_end": 10.9,
            "count": 1183
           },
           {
            "bin_start": 10.9,
            "bin_end": 12,
            "count": 2048
           }
          ]
         }
        },
        {
         "name": "CODPERSO",
         "dtype": "int64",
         "stats": {
          "unique_count": 12,
          "nan_count": 0,
          "min": "1",
          "max": "13",
          "histogram": [
           {
            "bin_start": 1,
            "bin_end": 2.2,
            "count": 7987
           },
           {
            "bin_start": 2.2,
            "bin_end": 3.4,
            "count": 3845
           },
           {
            "bin_start": 3.4,
            "bin_end": 4.6,
            "count": 1423
           },
           {
            "bin_start": 4.6,
            "bin_end": 5.8,
            "count": 481
           },
           {
            "bin_start": 5.8,
            "bin_end": 7,
            "count": 186
           },
           {
            "bin_start": 7,
            "bin_end": 8.2,
            "count": 105
           },
           {
            "bin_start": 8.2,
            "bin_end": 9.4,
            "count": 19
           },
           {
            "bin_start": 9.4,
            "bin_end": 10.6,
            "count": 6
           },
           {
            "bin_start": 10.6,
            "bin_end": 11.799999999999999,
            "count": 6
           },
           {
            "bin_start": 11.799999999999999,
            "bin_end": 13,
            "count": 3
           }
          ]
         }
        },
        {
         "name": "UBIGEO",
         "dtype": "int64",
         "stats": {
          "unique_count": 835,
          "nan_count": 0,
          "min": "10101",
          "max": "250305",
          "histogram": [
           {
            "bin_start": 10101,
            "bin_end": 34121.4,
            "count": 1132
           },
           {
            "bin_start": 34121.4,
            "bin_end": 58141.8,
            "count": 1215
           },
           {
            "bin_start": 58141.8,
            "bin_end": 82162.20000000001,
            "count": 1235
           },
           {
            "bin_start": 82162.20000000001,
            "bin_end": 106182.6,
            "count": 598
           },
           {
            "bin_start": 106182.6,
            "bin_end": 130203,
            "count": 1892
           },
           {
            "bin_start": 130203,
            "bin_end": 154223.40000000002,
            "count": 3684
           },
           {
            "bin_start": 154223.40000000002,
            "bin_end": 178243.80000000002,
            "count": 715
           },
           {
            "bin_start": 178243.80000000002,
            "bin_end": 202264.2,
            "count": 1439
           },
           {
            "bin_start": 202264.2,
            "bin_end": 226284.6,
            "count": 710
           },
           {
            "bin_start": 226284.6,
            "bin_end": 250305,
            "count": 1441
           }
          ]
         }
        },
        {
         "name": "DOMINIO_G",
         "dtype": "int64",
         "stats": {
          "unique_count": 8,
          "nan_count": 0,
          "min": "1",
          "max": "8",
          "histogram": [
           {
            "bin_start": 1,
            "bin_end": 1.7,
            "count": 2107
           },
           {
            "bin_start": 1.7,
            "bin_end": 2.4,
            "count": 1535
           },
           {
            "bin_start": 2.4,
            "bin_end": 3.0999999999999996,
            "count": 1271
           },
           {
            "bin_start": 3.0999999999999996,
            "bin_end": 3.8,
            "count": 0
           },
           {
            "bin_start": 3.8,
            "bin_end": 4.5,
            "count": 481
           },
           {
            "bin_start": 4.5,
            "bin_end": 5.199999999999999,
            "count": 1903
           },
           {
            "bin_start": 5.199999999999999,
            "bin_end": 5.8999999999999995,
            "count": 0
           },
           {
            "bin_start": 5.8999999999999995,
            "bin_end": 6.6,
            "count": 1906
           },
           {
            "bin_start": 6.6,
            "bin_end": 7.3,
            "count": 1957
           },
           {
            "bin_start": 7.3,
            "bin_end": 8,
            "count": 2901
           }
          ]
         }
        },
        {
         "name": "ID_SEXO",
         "dtype": "int64",
         "stats": {
          "unique_count": 2,
          "nan_count": 0,
          "min": "1",
          "max": "2",
          "histogram": [
           {
            "bin_start": 1,
            "bin_end": 1.1,
            "count": 7155
           },
           {
            "bin_start": 1.1,
            "bin_end": 1.2,
            "count": 0
           },
           {
            "bin_start": 1.2,
            "bin_end": 1.3,
            "count": 0
           },
           {
            "bin_start": 1.3,
            "bin_end": 1.4,
            "count": 0
           },
           {
            "bin_start": 1.4,
            "bin_end": 1.5,
            "count": 0
           },
           {
            "bin_start": 1.5,
            "bin_end": 1.6,
            "count": 0
           },
           {
            "bin_start": 1.6,
            "bin_end": 1.7000000000000002,
            "count": 0
           },
           {
            "bin_start": 1.7000000000000002,
            "bin_end": 1.8,
            "count": 0
           },
           {
            "bin_start": 1.8,
            "bin_end": 1.9,
            "count": 0
           },
           {
            "bin_start": 1.9,
            "bin_end": 2,
            "count": 6906
           }
          ]
         }
        },
        {
         "name": "EDAD",
         "dtype": "int64",
         "stats": {
          "unique_count": 95,
          "nan_count": 0,
          "min": "3",
          "max": "98",
          "histogram": [
           {
            "bin_start": 3,
            "bin_end": 12.5,
            "count": 27
           },
           {
            "bin_start": 12.5,
            "bin_end": 22,
            "count": 2101
           },
           {
            "bin_start": 22,
            "bin_end": 31.5,
            "count": 4569
           },
           {
            "bin_start": 31.5,
            "bin_end": 41,
            "count": 2117
           },
           {
            "bin_start": 41,
            "bin_end": 50.5,
            "count": 1918
           },
           {
            "bin_start": 50.5,
            "bin_end": 60,
            "count": 1504
           },
           {
            "bin_start": 60,
            "bin_end": 69.5,
            "count": 1211
           },
           {
            "bin_start": 69.5,
            "bin_end": 79,
            "count": 481
           },
           {
            "bin_start": 79,
            "bin_end": 88.5,
            "count": 110
           },
           {
            "bin_start": 88.5,
            "bin_end": 98,
            "count": 23
           }
          ]
         }
        },
        {
         "name": "ID_ESTADO_CIVIL",
         "dtype": "int64"
        },
        {
         "name": "COD_IDIOMA",
         "dtype": "int64"
        },
        {
         "name": "COD_GRADO_ESTUDIOS",
         "dtype": "int64"
        },
        {
         "name": "COD_CARRERA_UNI",
         "dtype": "int64"
        },
        {
         "name": "COD_CENTRO_ESTUDIOS",
         "dtype": "int64"
        },
        {
         "name": "COD_DEPARTAMENTO",
         "dtype": "int64"
        },
        {
         "name": "_deepnote_index_column",
         "dtype": "int64"
        }
       ],
       "rows": [
        {
         "ANIO": 2020,
         "MES": 1,
         "CODPERSO": 2,
         "UBIGEO": 10101,
         "DOMINIO_G": 4,
         "ID_SEXO": 2,
         "EDAD": 29,
         "ID_ESTADO_CIVIL": 6,
         "COD_IDIOMA": 4,
         "COD_GRADO_ESTUDIOS": 10,
         "COD_CARRERA_UNI": 332336,
         "COD_CENTRO_ESTUDIOS": 160000076,
         "COD_DEPARTAMENTO": 1,
         "_deepnote_index_column": 3
        },
        {
         "ANIO": 2020,
         "MES": 1,
         "CODPERSO": 4,
         "UBIGEO": 10101,
         "DOMINIO_G": 4,
         "ID_SEXO": 1,
         "EDAD": 18,
         "ID_ESTADO_CIVIL": 6,
         "COD_IDIOMA": 4,
         "COD_GRADO_ESTUDIOS": 9,
         "COD_CARRERA_UNI": 321026,
         "COD_CENTRO_ESTUDIOS": 160000076,
         "COD_DEPARTAMENTO": 1,
         "_deepnote_index_column": 7
        },
        {
         "ANIO": 2020,
         "MES": 1,
         "CODPERSO": 1,
         "UBIGEO": 10101,
         "DOMINIO_G": 4,
         "ID_SEXO": 2,
         "EDAD": 51,
         "ID_ESTADO_CIVIL": 5,
         "COD_IDIOMA": 4,
         "COD_GRADO_ESTUDIOS": 10,
         "COD_CARRERA_UNI": 121016,
         "COD_CENTRO_ESTUDIOS": 160000031,
         "COD_DEPARTAMENTO": 14,
         "_deepnote_index_column": 14
        },
        {
         "ANIO": 2020,
         "MES": 1,
         "CODPERSO": 2,
         "UBIGEO": 10101,
         "DOMINIO_G": 4,
         "ID_SEXO": 2,
         "EDAD": 27,
         "ID_ESTADO_CIVIL": 6,
         "COD_IDIOMA": 4,
         "COD_GRADO_ESTUDIOS": 10,
         "COD_CARRERA_UNI": 713016,
         "COD_CENTRO_ESTUDIOS": 260000024,
         "COD_DEPARTAMENTO": 15,
         "_deepnote_index_column": 15
        },
        {
         "ANIO": 2020,
         "MES": 1,
         "CODPERSO": 3,
         "UBIGEO": 10101,
         "DOMINIO_G": 4,
         "ID_SEXO": 2,
         "EDAD": 24,
         "ID_ESTADO_CIVIL": 6,
         "COD_IDIOMA": 4,
         "COD_GRADO_ESTUDIOS": 10,
         "COD_CARRERA_UNI": 711026,
         "COD_CENTRO_ESTUDIOS": 260000044,
         "COD_DEPARTAMENTO": 14,
         "_deepnote_index_column": 16
        },
        {
         "ANIO": 2020,
         "MES": 1,
         "CODPERSO": 4,
         "UBIGEO": 10101,
         "DOMINIO_G": 4,
         "ID_SEXO": 1,
         "EDAD": 68,
         "ID_ESTADO_CIVIL": 5,
         "COD_IDIOMA": 4,
         "COD_GRADO_ESTUDIOS": 10,
         "COD_CARRERA_UNI": 531016,
         "COD_CENTRO_ESTUDIOS": 160000031,
         "COD_DEPARTAMENTO": 14,
         "_deepnote_index_column": 17
        },
        {
         "ANIO": 2020,
         "MES": 1,
         "CODPERSO": 1,
         "UBIGEO": 10101,
         "DOMINIO_G": 4,
         "ID_SEXO": 1,
         "EDAD": 31,
         "ID_ESTADO_CIVIL": 2,
         "COD_IDIOMA": 4,
         "COD_GRADO_ESTUDIOS": 11,
         "COD_CARRERA_UNI": 713016,
         "COD_CENTRO_ESTUDIOS": 260000024,
         "COD_DEPARTAMENTO": 15,
         "_deepnote_index_column": 18
        },
        {
         "ANIO": 2020,
         "MES": 1,
         "CODPERSO": 2,
         "UBIGEO": 10101,
         "DOMINIO_G": 4,
         "ID_SEXO": 2,
         "EDAD": 32,
         "ID_ESTADO_CIVIL": 2,
         "COD_IDIOMA": 4,
         "COD_GRADO_ESTUDIOS": 10,
         "COD_CARRERA_UNI": 341026,
         "COD_CENTRO_ESTUDIOS": 160000001,
         "COD_DEPARTAMENTO": 15,
         "_deepnote_index_column": 19
        },
        {
         "ANIO": 2020,
         "MES": 1,
         "CODPERSO": 3,
         "UBIGEO": 10101,
         "DOMINIO_G": 4,
         "ID_SEXO": 2,
         "EDAD": 40,
         "ID_ESTADO_CIVIL": 5,
         "COD_IDIOMA": 4,
         "COD_GRADO_ESTUDIOS": 11,
         "COD_CARRERA_UNI": 111026,
         "COD_CENTRO_ESTUDIOS": 160000004,
         "COD_DEPARTAMENTO": 13,
         "_deepnote_index_column": 23
        },
        {
         "ANIO": 2020,
         "MES": 1,
         "CODPERSO": 2,
         "UBIGEO": 10501,
         "DOMINIO_G": 4,
         "ID_SEXO": 2,
         "EDAD": 49,
         "ID_ESTADO_CIVIL": 6,
         "COD_IDIOMA": 4,
         "COD_GRADO_ESTUDIOS": 10,
         "COD_CARRERA_UNI": 111026,
         "COD_CENTRO_ESTUDIOS": 260000049,
         "COD_DEPARTAMENTO": 15,
         "_deepnote_index_column": 86
        }
       ]
      },
      "text/plain": "        ANIO  MES  CODPERSO  UBIGEO  DOMINIO_G  ID_SEXO  EDAD  \\\n3       2020    1         2   10101          4        2    29   \n7       2020    1         4   10101          4        1    18   \n14      2020    1         1   10101          4        2    51   \n15      2020    1         2   10101          4        2    27   \n16      2020    1         3   10101          4        2    24   \n...      ...  ...       ...     ...        ...      ...   ...   \n115716  2020   12         2  250101          7        2    40   \n115718  2020   12         2  250101          7        2    66   \n115738  2020   12         4  250101          7        2    22   \n115740  2020   12         2  250101          7        1    28   \n115762  2020   12         1  250301          7        2    35   \n\n        ID_ESTADO_CIVIL  COD_IDIOMA  COD_GRADO_ESTUDIOS  COD_CARRERA_UNI  \\\n3                     6           4                  10           332336   \n7                     6           4                   9           321026   \n14                    5           4                  10           121016   \n15                    6           4                  10           713016   \n16                    6           4                  10           711026   \n...                 ...         ...                 ...              ...   \n115716                2           4                  10           714016   \n115718                2           4                   9           522016   \n115738                6           4                  10           342056   \n115740                6           4                  12               -1   \n115762                1           4                  10           351056   \n\n        COD_CENTRO_ESTUDIOS  COD_DEPARTAMENTO  \n3                 160000076                 1  \n7                 160000076                 1  \n14                160000031                14  \n15                260000024                15  \n16                260000044                14  \n...                     ...               ...  \n115716            260000008                99  \n115718            160000022                99  \n115738            260000059                15  \n115740                   -1                -1  \n115762            160000035                25  \n\n[14061 rows x 13 columns]",
      "text/html": "<div>\n<style scoped>\n    .dataframe tbody tr th:only-of-type {\n        vertical-align: middle;\n    }\n\n    .dataframe tbody tr th {\n        vertical-align: top;\n    }\n\n    .dataframe thead th {\n        text-align: right;\n    }\n</style>\n<table border=\"1\" class=\"dataframe\">\n  <thead>\n    <tr style=\"text-align: right;\">\n      <th></th>\n      <th>ANIO</th>\n      <th>MES</th>\n      <th>CODPERSO</th>\n      <th>UBIGEO</th>\n      <th>DOMINIO_G</th>\n      <th>ID_SEXO</th>\n      <th>EDAD</th>\n      <th>ID_ESTADO_CIVIL</th>\n      <th>COD_IDIOMA</th>\n      <th>COD_GRADO_ESTUDIOS</th>\n      <th>COD_CARRERA_UNI</th>\n      <th>COD_CENTRO_ESTUDIOS</th>\n      <th>COD_DEPARTAMENTO</th>\n    </tr>\n  </thead>\n  <tbody>\n    <tr>\n      <th>3</th>\n      <td>2020</td>\n      <td>1</td>\n      <td>2</td>\n      <td>10101</td>\n      <td>4</td>\n      <td>2</td>\n      <td>29</td>\n      <td>6</td>\n      <td>4</td>\n      <td>10</td>\n      <td>332336</td>\n      <td>160000076</td>\n      <td>1</td>\n    </tr>\n    <tr>\n      <th>7</th>\n      <td>2020</td>\n      <td>1</td>\n      <td>4</td>\n      <td>10101</td>\n      <td>4</td>\n      <td>1</td>\n      <td>18</td>\n      <td>6</td>\n      <td>4</td>\n      <td>9</td>\n      <td>321026</td>\n      <td>160000076</td>\n      <td>1</td>\n    </tr>\n    <tr>\n      <th>14</th>\n      <td>2020</td>\n      <td>1</td>\n      <td>1</td>\n      <td>10101</td>\n      <td>4</td>\n      <td>2</td>\n      <td>51</td>\n      <td>5</td>\n      <td>4</td>\n      <td>10</td>\n      <td>121016</td>\n      <td>160000031</td>\n      <td>14</td>\n    </tr>\n    <tr>\n      <th>15</th>\n      <td>2020</td>\n      <td>1</td>\n      <td>2</td>\n      <td>10101</td>\n      <td>4</td>\n      <td>2</td>\n      <td>27</td>\n      <td>6</td>\n      <td>4</td>\n      <td>10</td>\n      <td>713016</td>\n      <td>260000024</td>\n      <td>15</td>\n    </tr>\n    <tr>\n      <th>16</th>\n      <td>2020</td>\n      <td>1</td>\n      <td>3</td>\n      <td>10101</td>\n      <td>4</td>\n      <td>2</td>\n      <td>24</td>\n      <td>6</td>\n      <td>4</td>\n      <td>10</td>\n      <td>711026</td>\n      <td>260000044</td>\n      <td>14</td>\n    </tr>\n    <tr>\n      <th>...</th>\n      <td>...</td>\n      <td>...</td>\n      <td>...</td>\n      <td>...</td>\n      <td>...</td>\n      <td>...</td>\n      <td>...</td>\n      <td>...</td>\n      <td>...</td>\n      <td>...</td>\n      <td>...</td>\n      <td>...</td>\n      <td>...</td>\n    </tr>\n    <tr>\n      <th>115716</th>\n      <td>2020</td>\n      <td>12</td>\n      <td>2</td>\n      <td>250101</td>\n      <td>7</td>\n      <td>2</td>\n      <td>40</td>\n      <td>2</td>\n      <td>4</td>\n      <td>10</td>\n      <td>714016</td>\n      <td>260000008</td>\n      <td>99</td>\n    </tr>\n    <tr>\n      <th>115718</th>\n      <td>2020</td>\n      <td>12</td>\n      <td>2</td>\n      <td>250101</td>\n      <td>7</td>\n      <td>2</td>\n      <td>66</td>\n      <td>2</td>\n      <td>4</td>\n      <td>9</td>\n      <td>522016</td>\n      <td>160000022</td>\n      <td>99</td>\n    </tr>\n    <tr>\n      <th>115738</th>\n      <td>2020</td>\n      <td>12</td>\n      <td>4</td>\n      <td>250101</td>\n      <td>7</td>\n      <td>2</td>\n      <td>22</td>\n      <td>6</td>\n      <td>4</td>\n      <td>10</td>\n      <td>342056</td>\n      <td>260000059</td>\n      <td>15</td>\n    </tr>\n    <tr>\n      <th>115740</th>\n      <td>2020</td>\n      <td>12</td>\n      <td>2</td>\n      <td>250101</td>\n      <td>7</td>\n      <td>1</td>\n      <td>28</td>\n      <td>6</td>\n      <td>4</td>\n      <td>12</td>\n      <td>-1</td>\n      <td>-1</td>\n      <td>-1</td>\n    </tr>\n    <tr>\n      <th>115762</th>\n      <td>2020</td>\n      <td>12</td>\n      <td>1</td>\n      <td>250301</td>\n      <td>7</td>\n      <td>2</td>\n      <td>35</td>\n      <td>1</td>\n      <td>4</td>\n      <td>10</td>\n      <td>351056</td>\n      <td>160000035</td>\n      <td>25</td>\n    </tr>\n  </tbody>\n</table>\n<p>14061 rows × 13 columns</p>\n</div>"
     },
     "metadata": {}
    }
   ]
  },
  {
   "cell_type": "markdown",
   "source": "## Trabajamos con usuarios desde PREGRADO",
   "metadata": {
    "cell_id": "9e89791f3f2b4bfaa15c528d520e5786",
    "tags": [],
    "deepnote_cell_type": "markdown",
    "deepnote_cell_height": 70
   }
  },
  {
   "cell_type": "markdown",
   "source": "### Leemos nuestros archivos csv complementarios",
   "metadata": {
    "cell_id": "d86527ea214d4754908cc1b9a43d8061",
    "tags": [],
    "deepnote_cell_type": "markdown",
    "deepnote_cell_height": 62
   }
  },
  {
   "cell_type": "code",
   "metadata": {
    "cell_id": "e766c3d86eec4f9cb6684458d7c00393",
    "tags": [],
    "deepnote_to_be_reexecuted": false,
    "source_hash": "7728a115",
    "execution_start": 1649540183363,
    "execution_millis": 96,
    "deepnote_cell_type": "code",
    "deepnote_cell_height": 189
   },
   "source": "df_educ_sup_tec = pd.read_csv('/work/enaho-personas-estudios-caracteristicas-data-science/archivos_csv_complementos/cod_educ_sup_tec.csv')\ndf_cod_inst_edu = pd.read_csv('/work/enaho-personas-estudios-caracteristicas-data-science/archivos_csv_complementos/cod_inst_educ.csv')\ndf_cod_departamentos = pd.read_csv('/work/enaho-personas-estudios-caracteristicas-data-science/archivos_csv_complementos/cod_departamentos.csv')\ndf_cod_dominio_g = pd.read_csv('/work/enaho-personas-estudios-caracteristicas-data-science/archivos_csv_complementos/cod_dominio_g.csv')\ndf_grad_estudios = pd.read_csv('/work/enaho-personas-estudios-caracteristicas-data-science/archivos_csv_complementos/cod_grad_estudios.csv')\ndf_cod_idiomas = pd.read_csv('/work/enaho-personas-estudios-caracteristicas-data-science/archivos_csv_complementos/cod_idioma.csv')\ndf_cod_estado_civil = pd.read_csv('/work/enaho-personas-estudios-caracteristicas-data-science/archivos_csv_complementos/cod_estado_civil.csv')",
   "execution_count": null,
   "outputs": []
  },
  {
   "cell_type": "markdown",
   "source": "### Hacemos Merge con LEFT para juntar sus descripciones de los códigos",
   "metadata": {
    "cell_id": "ef4f9352f48c40f6bbc89bf9bc98af85",
    "tags": [],
    "deepnote_cell_type": "markdown",
    "deepnote_cell_height": 62
   }
  },
  {
   "cell_type": "code",
   "metadata": {
    "cell_id": "83541f19c29c47eaa8ec6903bb4c7323",
    "tags": [],
    "deepnote_to_be_reexecuted": false,
    "source_hash": "27f6f140",
    "execution_start": 1649539678216,
    "execution_millis": 7,
    "deepnote_cell_type": "code",
    "deepnote_cell_height": 153
   },
   "source": "def fun_merge(df1, df2, campo):\n    return pd.merge(df1,\n                    df2,\n                    on = [campo],\n                    how = 'left')",
   "execution_count": null,
   "outputs": []
  },
  {
   "cell_type": "code",
   "metadata": {
    "cell_id": "fe18098a893e48abb8119dbc930e51ab",
    "tags": [],
    "deepnote_to_be_reexecuted": false,
    "source_hash": "752aad8c",
    "execution_start": 1649540641603,
    "execution_millis": 45,
    "deepnote_cell_type": "code",
    "deepnote_cell_height": 189
   },
   "source": "df_2020_sup_all = fun_merge(df_2020_sup_uni, df_cod_dominio_g, \"DOMINIO_G\")\ndf_2020_sup_all = fun_merge(df_2020_sup_all, df_cod_estado_civil, \"ID_ESTADO_CIVIL\")\ndf_2020_sup_all = fun_merge(df_2020_sup_all, df_cod_idiomas, \"COD_IDIOMA\")\ndf_2020_sup_all = fun_merge(df_2020_sup_all, df_grad_estudios, \"COD_GRADO_ESTUDIOS\")\ndf_2020_sup_all = fun_merge(df_2020_sup_all, df_educ_sup_tec, \"COD_CARRERA_UNI\")\ndf_2020_sup_all = fun_merge(df_2020_sup_all, df_cod_inst_edu, \"COD_CENTRO_ESTUDIOS\")\ndf_2020_sup_all = fun_merge(df_2020_sup_all, df_cod_departamentos, \"COD_DEPARTAMENTO\")",
   "execution_count": null,
   "outputs": []
  },
  {
   "cell_type": "code",
   "metadata": {
    "cell_id": "4792905a7385499a950651b739a63a1a",
    "tags": [],
    "deepnote_to_be_reexecuted": false,
    "source_hash": "18f24e2b",
    "execution_start": 1649540645056,
    "execution_millis": 766,
    "deepnote_cell_type": "code",
    "deepnote_cell_height": 613.59375
   },
   "source": "df_2020_sup_all",
   "execution_count": null,
   "outputs": [
    {
     "output_type": "execute_result",
     "execution_count": 38,
     "data": {
      "application/vnd.deepnote.dataframe.v3+json": {
       "column_count": 20,
       "row_count": 14061,
       "columns": [
        {
         "name": "ANIO",
         "dtype": "int64",
         "stats": {
          "unique_count": 1,
          "nan_count": 0,
          "min": "2020",
          "max": "2020",
          "histogram": [
           {
            "bin_start": 2019.5,
            "bin_end": 2019.6,
            "count": 0
           },
           {
            "bin_start": 2019.6,
            "bin_end": 2019.7,
            "count": 0
           },
           {
            "bin_start": 2019.7,
            "bin_end": 2019.8,
            "count": 0
           },
           {
            "bin_start": 2019.8,
            "bin_end": 2019.9,
            "count": 0
           },
           {
            "bin_start": 2019.9,
            "bin_end": 2020,
            "count": 0
           },
           {
            "bin_start": 2020,
            "bin_end": 2020.1,
            "count": 14061
           },
           {
            "bin_start": 2020.1,
            "bin_end": 2020.2,
            "count": 0
           },
           {
            "bin_start": 2020.2,
            "bin_end": 2020.3,
            "count": 0
           },
           {
            "bin_start": 2020.3,
            "bin_end": 2020.4,
            "count": 0
           },
           {
            "bin_start": 2020.4,
            "bin_end": 2020.5,
            "count": 0
           }
          ]
         }
        },
        {
         "name": "MES",
         "dtype": "int64",
         "stats": {
          "unique_count": 12,
          "nan_count": 0,
          "min": "1",
          "max": "12",
          "histogram": [
           {
            "bin_start": 1,
            "bin_end": 2.1,
            "count": 2506
           },
           {
            "bin_start": 2.1,
            "bin_end": 3.2,
            "count": 1204
           },
           {
            "bin_start": 3.2,
            "bin_end": 4.300000000000001,
            "count": 1294
           },
           {
            "bin_start": 4.300000000000001,
            "bin_end": 5.4,
            "count": 1097
           },
           {
            "bin_start": 5.4,
            "bin_end": 6.5,
            "count": 1197
           },
           {
            "bin_start": 6.5,
            "bin_end": 7.6000000000000005,
            "count": 1192
           },
           {
            "bin_start": 7.6000000000000005,
            "bin_end": 8.700000000000001,
            "count": 1289
           },
           {
            "bin_start": 8.700000000000001,
            "bin_end": 9.8,
            "count": 1051
           },
           {
            "bin_start": 9.8,
            "bin_end": 10.9,
            "count": 1183
           },
           {
            "bin_start": 10.9,
            "bin_end": 12,
            "count": 2048
           }
          ]
         }
        },
        {
         "name": "CODPERSO",
         "dtype": "int64",
         "stats": {
          "unique_count": 12,
          "nan_count": 0,
          "min": "1",
          "max": "13",
          "histogram": [
           {
            "bin_start": 1,
            "bin_end": 2.2,
            "count": 7987
           },
           {
            "bin_start": 2.2,
            "bin_end": 3.4,
            "count": 3845
           },
           {
            "bin_start": 3.4,
            "bin_end": 4.6,
            "count": 1423
           },
           {
            "bin_start": 4.6,
            "bin_end": 5.8,
            "count": 481
           },
           {
            "bin_start": 5.8,
            "bin_end": 7,
            "count": 186
           },
           {
            "bin_start": 7,
            "bin_end": 8.2,
            "count": 105
           },
           {
            "bin_start": 8.2,
            "bin_end": 9.4,
            "count": 19
           },
           {
            "bin_start": 9.4,
            "bin_end": 10.6,
            "count": 6
           },
           {
            "bin_start": 10.6,
            "bin_end": 11.799999999999999,
            "count": 6
           },
           {
            "bin_start": 11.799999999999999,
            "bin_end": 13,
            "count": 3
           }
          ]
         }
        },
        {
         "name": "UBIGEO",
         "dtype": "int64",
         "stats": {
          "unique_count": 835,
          "nan_count": 0,
          "min": "10101",
          "max": "250305",
          "histogram": [
           {
            "bin_start": 10101,
            "bin_end": 34121.4,
            "count": 1132
           },
           {
            "bin_start": 34121.4,
            "bin_end": 58141.8,
            "count": 1215
           },
           {
            "bin_start": 58141.8,
            "bin_end": 82162.20000000001,
            "count": 1235
           },
           {
            "bin_start": 82162.20000000001,
            "bin_end": 106182.6,
            "count": 598
           },
           {
            "bin_start": 106182.6,
            "bin_end": 130203,
            "count": 1892
           },
           {
            "bin_start": 130203,
            "bin_end": 154223.40000000002,
            "count": 3684
           },
           {
            "bin_start": 154223.40000000002,
            "bin_end": 178243.80000000002,
            "count": 715
           },
           {
            "bin_start": 178243.80000000002,
            "bin_end": 202264.2,
            "count": 1439
           },
           {
            "bin_start": 202264.2,
            "bin_end": 226284.6,
            "count": 710
           },
           {
            "bin_start": 226284.6,
            "bin_end": 250305,
            "count": 1441
           }
          ]
         }
        },
        {
         "name": "DOMINIO_G",
         "dtype": "int64",
         "stats": {
          "unique_count": 8,
          "nan_count": 0,
          "min": "1",
          "max": "8",
          "histogram": [
           {
            "bin_start": 1,
            "bin_end": 1.7,
            "count": 2107
           },
           {
            "bin_start": 1.7,
            "bin_end": 2.4,
            "count": 1535
           },
           {
            "bin_start": 2.4,
            "bin_end": 3.0999999999999996,
            "count": 1271
           },
           {
            "bin_start": 3.0999999999999996,
            "bin_end": 3.8,
            "count": 0
           },
           {
            "bin_start": 3.8,
            "bin_end": 4.5,
            "count": 481
           },
           {
            "bin_start": 4.5,
            "bin_end": 5.199999999999999,
            "count": 1903
           },
           {
            "bin_start": 5.199999999999999,
            "bin_end": 5.8999999999999995,
            "count": 0
           },
           {
            "bin_start": 5.8999999999999995,
            "bin_end": 6.6,
            "count": 1906
           },
           {
            "bin_start": 6.6,
            "bin_end": 7.3,
            "count": 1957
           },
           {
            "bin_start": 7.3,
            "bin_end": 8,
            "count": 2901
           }
          ]
         }
        },
        {
         "name": "ID_SEXO",
         "dtype": "int64",
         "stats": {
          "unique_count": 2,
          "nan_count": 0,
          "min": "1",
          "max": "2",
          "histogram": [
           {
            "bin_start": 1,
            "bin_end": 1.1,
            "count": 7155
           },
           {
            "bin_start": 1.1,
            "bin_end": 1.2,
            "count": 0
           },
           {
            "bin_start": 1.2,
            "bin_end": 1.3,
            "count": 0
           },
           {
            "bin_start": 1.3,
            "bin_end": 1.4,
            "count": 0
           },
           {
            "bin_start": 1.4,
            "bin_end": 1.5,
            "count": 0
           },
           {
            "bin_start": 1.5,
            "bin_end": 1.6,
            "count": 0
           },
           {
            "bin_start": 1.6,
            "bin_end": 1.7000000000000002,
            "count": 0
           },
           {
            "bin_start": 1.7000000000000002,
            "bin_end": 1.8,
            "count": 0
           },
           {
            "bin_start": 1.8,
            "bin_end": 1.9,
            "count": 0
           },
           {
            "bin_start": 1.9,
            "bin_end": 2,
            "count": 6906
           }
          ]
         }
        },
        {
         "name": "EDAD",
         "dtype": "int64",
         "stats": {
          "unique_count": 95,
          "nan_count": 0,
          "min": "3",
          "max": "98",
          "histogram": [
           {
            "bin_start": 3,
            "bin_end": 12.5,
            "count": 27
           },
           {
            "bin_start": 12.5,
            "bin_end": 22,
            "count": 2101
           },
           {
            "bin_start": 22,
            "bin_end": 31.5,
            "count": 4569
           },
           {
            "bin_start": 31.5,
            "bin_end": 41,
            "count": 2117
           },
           {
            "bin_start": 41,
            "bin_end": 50.5,
            "count": 1918
           },
           {
            "bin_start": 50.5,
            "bin_end": 60,
            "count": 1504
           },
           {
            "bin_start": 60,
            "bin_end": 69.5,
            "count": 1211
           },
           {
            "bin_start": 69.5,
            "bin_end": 79,
            "count": 481
           },
           {
            "bin_start": 79,
            "bin_end": 88.5,
            "count": 110
           },
           {
            "bin_start": 88.5,
            "bin_end": 98,
            "count": 23
           }
          ]
         }
        },
        {
         "name": "ID_ESTADO_CIVIL",
         "dtype": "int64"
        },
        {
         "name": "COD_IDIOMA",
         "dtype": "int64"
        },
        {
         "name": "COD_GRADO_ESTUDIOS",
         "dtype": "int64"
        },
        {
         "name": "COD_CARRERA_UNI",
         "dtype": "int64"
        },
        {
         "name": "COD_CENTRO_ESTUDIOS",
         "dtype": "int64"
        },
        {
         "name": "COD_DEPARTAMENTO",
         "dtype": "int64"
        },
        {
         "name": "NOM_DOMINIO_G",
         "dtype": "object"
        },
        {
         "name": "NOM_ESTADO_CIVIL",
         "dtype": "object"
        },
        {
         "name": "NOM_IDIOMA",
         "dtype": "object"
        },
        {
         "name": "NOM_GRADO_ESTUDIOS",
         "dtype": "object"
        },
        {
         "name": "NOM_CARRERA_UNI",
         "dtype": "object"
        },
        {
         "name": "NOM_CENTRO_ESTUDIOS",
         "dtype": "object"
        },
        {
         "name": "NOM_DEPARTAMENTO",
         "dtype": "object"
        },
        {
         "name": "_deepnote_index_column",
         "dtype": "int64"
        }
       ],
       "rows": [
        {
         "ANIO": 2020,
         "MES": 1,
         "CODPERSO": 2,
         "UBIGEO": 10101,
         "DOMINIO_G": 4,
         "ID_SEXO": 2,
         "EDAD": 29,
         "ID_ESTADO_CIVIL": 6,
         "COD_IDIOMA": 4,
         "COD_GRADO_ESTUDIOS": 10,
         "COD_CARRERA_UNI": 332336,
         "COD_CENTRO_ESTUDIOS": 160000076,
         "COD_DEPARTAMENTO": 1,
         "NOM_DOMINIO_G": "Sierra Norte",
         "NOM_ESTADO_CIVIL": "Soltero",
         "NOM_IDIOMA": "Castellano",
         "NOM_GRADO_ESTUDIOS": "Superior Universitaria Completa",
         "NOM_CARRERA_UNI": "Turismo y Hotelería",
         "NOM_CENTRO_ESTUDIOS": "Universidad Nacional Toribio Rodríguez de Mendoza de Amazonas",
         "NOM_DEPARTAMENTO": "Amazonas",
         "_deepnote_index_column": 0
        },
        {
         "ANIO": 2020,
         "MES": 1,
         "CODPERSO": 4,
         "UBIGEO": 10101,
         "DOMINIO_G": 4,
         "ID_SEXO": 1,
         "EDAD": 18,
         "ID_ESTADO_CIVIL": 6,
         "COD_IDIOMA": 4,
         "COD_GRADO_ESTUDIOS": 9,
         "COD_CARRERA_UNI": 321026,
         "COD_CENTRO_ESTUDIOS": 160000076,
         "COD_DEPARTAMENTO": 1,
         "NOM_DOMINIO_G": "Sierra Norte",
         "NOM_ESTADO_CIVIL": "Soltero",
         "NOM_IDIOMA": "Castellano",
         "NOM_GRADO_ESTUDIOS": "Superior Universitaria Incompleta",
         "NOM_CARRERA_UNI": "Ciencias de la Comunicación",
         "NOM_CENTRO_ESTUDIOS": "Universidad Nacional Toribio Rodríguez de Mendoza de Amazonas",
         "NOM_DEPARTAMENTO": "Amazonas",
         "_deepnote_index_column": 1
        },
        {
         "ANIO": 2020,
         "MES": 1,
         "CODPERSO": 1,
         "UBIGEO": 10101,
         "DOMINIO_G": 4,
         "ID_SEXO": 2,
         "EDAD": 51,
         "ID_ESTADO_CIVIL": 5,
         "COD_IDIOMA": 4,
         "COD_GRADO_ESTUDIOS": 10,
         "COD_CARRERA_UNI": 121016,
         "COD_CENTRO_ESTUDIOS": 160000031,
         "COD_DEPARTAMENTO": 14,
         "NOM_DOMINIO_G": "Sierra Norte",
         "NOM_ESTADO_CIVIL": "Separado",
         "NOM_IDIOMA": "Castellano",
         "NOM_GRADO_ESTUDIOS": "Superior Universitaria Completa",
         "NOM_CARRERA_UNI": "Educación Secundaria",
         "NOM_CENTRO_ESTUDIOS": "Universidad Nacional Pedro Ruíz Gallo",
         "NOM_DEPARTAMENTO": "Lambayeque",
         "_deepnote_index_column": 2
        },
        {
         "ANIO": 2020,
         "MES": 1,
         "CODPERSO": 2,
         "UBIGEO": 10101,
         "DOMINIO_G": 4,
         "ID_SEXO": 2,
         "EDAD": 27,
         "ID_ESTADO_CIVIL": 6,
         "COD_IDIOMA": 4,
         "COD_GRADO_ESTUDIOS": 10,
         "COD_CARRERA_UNI": 713016,
         "COD_CENTRO_ESTUDIOS": 260000024,
         "COD_DEPARTAMENTO": 15,
         "NOM_DOMINIO_G": "Sierra Norte",
         "NOM_ESTADO_CIVIL": "Soltero",
         "NOM_IDIOMA": "Castellano",
         "NOM_GRADO_ESTUDIOS": "Superior Universitaria Completa",
         "NOM_CARRERA_UNI": "Estomatología",
         "NOM_CENTRO_ESTUDIOS": "Universidad Inca Garcilaso de la Vega",
         "NOM_DEPARTAMENTO": "Lima",
         "_deepnote_index_column": 3
        },
        {
         "ANIO": 2020,
         "MES": 1,
         "CODPERSO": 3,
         "UBIGEO": 10101,
         "DOMINIO_G": 4,
         "ID_SEXO": 2,
         "EDAD": 24,
         "ID_ESTADO_CIVIL": 6,
         "COD_IDIOMA": 4,
         "COD_GRADO_ESTUDIOS": 10,
         "COD_CARRERA_UNI": 711026,
         "COD_CENTRO_ESTUDIOS": 260000044,
         "COD_DEPARTAMENTO": 14,
         "NOM_DOMINIO_G": "Sierra Norte",
         "NOM_ESTADO_CIVIL": "Soltero",
         "NOM_IDIOMA": "Castellano",
         "NOM_GRADO_ESTUDIOS": "Superior Universitaria Completa",
         "NOM_CARRERA_UNI": "Medicina Humana",
         "NOM_CENTRO_ESTUDIOS": "Universidad Particular de Chiclayo",
         "NOM_DEPARTAMENTO": "Lambayeque",
         "_deepnote_index_column": 4
        },
        {
         "ANIO": 2020,
         "MES": 1,
         "CODPERSO": 4,
         "UBIGEO": 10101,
         "DOMINIO_G": 4,
         "ID_SEXO": 1,
         "EDAD": 68,
         "ID_ESTADO_CIVIL": 5,
         "COD_IDIOMA": 4,
         "COD_GRADO_ESTUDIOS": 10,
         "COD_CARRERA_UNI": 531016,
         "COD_CENTRO_ESTUDIOS": 160000031,
         "COD_DEPARTAMENTO": 14,
         "NOM_DOMINIO_G": "Sierra Norte",
         "NOM_ESTADO_CIVIL": "Separado",
         "NOM_IDIOMA": "Castellano",
         "NOM_GRADO_ESTUDIOS": "Superior Universitaria Completa",
         "NOM_CARRERA_UNI": "Ingeniería Civil",
         "NOM_CENTRO_ESTUDIOS": "Universidad Nacional Pedro Ruíz Gallo",
         "NOM_DEPARTAMENTO": "Lambayeque",
         "_deepnote_index_column": 5
        },
        {
         "ANIO": 2020,
         "MES": 1,
         "CODPERSO": 1,
         "UBIGEO": 10101,
         "DOMINIO_G": 4,
         "ID_SEXO": 1,
         "EDAD": 31,
         "ID_ESTADO_CIVIL": 2,
         "COD_IDIOMA": 4,
         "COD_GRADO_ESTUDIOS": 11,
         "COD_CARRERA_UNI": 713016,
         "COD_CENTRO_ESTUDIOS": 260000024,
         "COD_DEPARTAMENTO": 15,
         "NOM_DOMINIO_G": "Sierra Norte",
         "NOM_ESTADO_CIVIL": "Casado",
         "NOM_IDIOMA": "Castellano",
         "NOM_GRADO_ESTUDIOS": "Maestria/doctorado",
         "NOM_CARRERA_UNI": "Estomatología",
         "NOM_CENTRO_ESTUDIOS": "Universidad Inca Garcilaso de la Vega",
         "NOM_DEPARTAMENTO": "Lima",
         "_deepnote_index_column": 6
        },
        {
         "ANIO": 2020,
         "MES": 1,
         "CODPERSO": 2,
         "UBIGEO": 10101,
         "DOMINIO_G": 4,
         "ID_SEXO": 2,
         "EDAD": 32,
         "ID_ESTADO_CIVIL": 2,
         "COD_IDIOMA": 4,
         "COD_GRADO_ESTUDIOS": 10,
         "COD_CARRERA_UNI": 341026,
         "COD_CENTRO_ESTUDIOS": 160000001,
         "COD_DEPARTAMENTO": 15,
         "NOM_DOMINIO_G": "Sierra Norte",
         "NOM_ESTADO_CIVIL": "Casado",
         "NOM_IDIOMA": "Castellano",
         "NOM_GRADO_ESTUDIOS": "Superior Universitaria Completa",
         "NOM_CARRERA_UNI": "Economía",
         "NOM_CENTRO_ESTUDIOS": "Universidad Nacional Mayor de San Marcos",
         "NOM_DEPARTAMENTO": "Lima",
         "_deepnote_index_column": 7
        },
        {
         "ANIO": 2020,
         "MES": 1,
         "CODPERSO": 3,
         "UBIGEO": 10101,
         "DOMINIO_G": 4,
         "ID_SEXO": 2,
         "EDAD": 40,
         "ID_ESTADO_CIVIL": 5,
         "COD_IDIOMA": 4,
         "COD_GRADO_ESTUDIOS": 11,
         "COD_CARRERA_UNI": 111026,
         "COD_CENTRO_ESTUDIOS": 160000004,
         "COD_DEPARTAMENTO": 13,
         "NOM_DOMINIO_G": "Sierra Norte",
         "NOM_ESTADO_CIVIL": "Separado",
         "NOM_IDIOMA": "Castellano",
         "NOM_GRADO_ESTUDIOS": "Maestria/doctorado",
         "NOM_CARRERA_UNI": "Educación Inicial",
         "NOM_CENTRO_ESTUDIOS": "Universidad Nacional de Trujillo",
         "NOM_DEPARTAMENTO": "La Libertad",
         "_deepnote_index_column": 8
        },
        {
         "ANIO": 2020,
         "MES": 1,
         "CODPERSO": 2,
         "UBIGEO": 10501,
         "DOMINIO_G": 4,
         "ID_SEXO": 2,
         "EDAD": 49,
         "ID_ESTADO_CIVIL": 6,
         "COD_IDIOMA": 4,
         "COD_GRADO_ESTUDIOS": 10,
         "COD_CARRERA_UNI": 111026,
         "COD_CENTRO_ESTUDIOS": 260000049,
         "COD_DEPARTAMENTO": 15,
         "NOM_DOMINIO_G": "Sierra Norte",
         "NOM_ESTADO_CIVIL": "Soltero",
         "NOM_IDIOMA": "Castellano",
         "NOM_GRADO_ESTUDIOS": "Superior Universitaria Completa",
         "NOM_CARRERA_UNI": "Educación Inicial",
         "NOM_CENTRO_ESTUDIOS": "Universidad Particular Marcelino Champagnat",
         "NOM_DEPARTAMENTO": "Lima",
         "_deepnote_index_column": 9
        }
       ]
      },
      "text/plain": "       ANIO  MES  CODPERSO  UBIGEO  DOMINIO_G  ID_SEXO  EDAD  ID_ESTADO_CIVIL  \\\n0      2020    1         2   10101          4        2    29                6   \n1      2020    1         4   10101          4        1    18                6   \n2      2020    1         1   10101          4        2    51                5   \n3      2020    1         2   10101          4        2    27                6   \n4      2020    1         3   10101          4        2    24                6   \n...     ...  ...       ...     ...        ...      ...   ...              ...   \n14056  2020   12         2  250101          7        2    40                2   \n14057  2020   12         2  250101          7        2    66                2   \n14058  2020   12         4  250101          7        2    22                6   \n14059  2020   12         2  250101          7        1    28                6   \n14060  2020   12         1  250301          7        2    35                1   \n\n       COD_IDIOMA  COD_GRADO_ESTUDIOS  COD_CARRERA_UNI  COD_CENTRO_ESTUDIOS  \\\n0               4                  10           332336            160000076   \n1               4                   9           321026            160000076   \n2               4                  10           121016            160000031   \n3               4                  10           713016            260000024   \n4               4                  10           711026            260000044   \n...           ...                 ...              ...                  ...   \n14056           4                  10           714016            260000008   \n14057           4                   9           522016            160000022   \n14058           4                  10           342056            260000059   \n14059           4                  12               -1                   -1   \n14060           4                  10           351056            160000035   \n\n       COD_DEPARTAMENTO NOM_DOMINIO_G NOM_ESTADO_CIVIL  NOM_IDIOMA  \\\n0                     1  Sierra Norte          Soltero  Castellano   \n1                     1  Sierra Norte          Soltero  Castellano   \n2                    14  Sierra Norte         Separado  Castellano   \n3                    15  Sierra Norte          Soltero  Castellano   \n4                    14  Sierra Norte          Soltero  Castellano   \n...                 ...           ...              ...         ...   \n14056                99         Selva           Casado  Castellano   \n14057                99         Selva           Casado  Castellano   \n14058                15         Selva          Soltero  Castellano   \n14059                -1         Selva          Soltero  Castellano   \n14060                25         Selva      Conviviente  Castellano   \n\n                      NOM_GRADO_ESTUDIOS                    NOM_CARRERA_UNI  \\\n0        Superior Universitaria Completa                Turismo y Hotelería   \n1      Superior Universitaria Incompleta        Ciencias de la Comunicación   \n2        Superior Universitaria Completa               Educación Secundaria   \n3        Superior Universitaria Completa                      Estomatología   \n4        Superior Universitaria Completa                    Medicina Humana   \n...                                  ...                                ...   \n14056    Superior Universitaria Completa                         Enfermería   \n14057  Superior Universitaria Incompleta            Industrias Alimentarias   \n14058    Superior Universitaria Completa                       Contabilidad   \n14059                    Básica especial                                NaN   \n14060    Superior Universitaria Completa  Derecho y Ciencias Políticas   1/   \n\n                                     NOM_CENTRO_ESTUDIOS NOM_DEPARTAMENTO  \n0      Universidad Nacional Toribio Rodríguez de Mend...         Amazonas  \n1      Universidad Nacional Toribio Rodríguez de Mend...         Amazonas  \n2                  Universidad Nacional Pedro Ruíz Gallo       Lambayeque  \n3                  Universidad Inca Garcilaso de la Vega             Lima  \n4                     Universidad Particular de Chiclayo       Lambayeque  \n...                                                  ...              ...  \n14056           Pontificia Universidad Católica del Perú              NaN  \n14057           Universidad Nacional Agraria de la Selva              NaN  \n14058                          Universidad Alas Peruanas             Lima  \n14059                                                NaN              NaN  \n14060                    Universidad Nacional de Ucayali          Ucayali  \n\n[14061 rows x 20 columns]",
      "text/html": "<div>\n<style scoped>\n    .dataframe tbody tr th:only-of-type {\n        vertical-align: middle;\n    }\n\n    .dataframe tbody tr th {\n        vertical-align: top;\n    }\n\n    .dataframe thead th {\n        text-align: right;\n    }\n</style>\n<table border=\"1\" class=\"dataframe\">\n  <thead>\n    <tr style=\"text-align: right;\">\n      <th></th>\n      <th>ANIO</th>\n      <th>MES</th>\n      <th>CODPERSO</th>\n      <th>UBIGEO</th>\n      <th>DOMINIO_G</th>\n      <th>ID_SEXO</th>\n      <th>EDAD</th>\n      <th>ID_ESTADO_CIVIL</th>\n      <th>COD_IDIOMA</th>\n      <th>COD_GRADO_ESTUDIOS</th>\n      <th>COD_CARRERA_UNI</th>\n      <th>COD_CENTRO_ESTUDIOS</th>\n      <th>COD_DEPARTAMENTO</th>\n      <th>NOM_DOMINIO_G</th>\n      <th>NOM_ESTADO_CIVIL</th>\n      <th>NOM_IDIOMA</th>\n      <th>NOM_GRADO_ESTUDIOS</th>\n      <th>NOM_CARRERA_UNI</th>\n      <th>NOM_CENTRO_ESTUDIOS</th>\n      <th>NOM_DEPARTAMENTO</th>\n    </tr>\n  </thead>\n  <tbody>\n    <tr>\n      <th>0</th>\n      <td>2020</td>\n      <td>1</td>\n      <td>2</td>\n      <td>10101</td>\n      <td>4</td>\n      <td>2</td>\n      <td>29</td>\n      <td>6</td>\n      <td>4</td>\n      <td>10</td>\n      <td>332336</td>\n      <td>160000076</td>\n      <td>1</td>\n      <td>Sierra Norte</td>\n      <td>Soltero</td>\n      <td>Castellano</td>\n      <td>Superior Universitaria Completa</td>\n      <td>Turismo y Hotelería</td>\n      <td>Universidad Nacional Toribio Rodríguez de Mend...</td>\n      <td>Amazonas</td>\n    </tr>\n    <tr>\n      <th>1</th>\n      <td>2020</td>\n      <td>1</td>\n      <td>4</td>\n      <td>10101</td>\n      <td>4</td>\n      <td>1</td>\n      <td>18</td>\n      <td>6</td>\n      <td>4</td>\n      <td>9</td>\n      <td>321026</td>\n      <td>160000076</td>\n      <td>1</td>\n      <td>Sierra Norte</td>\n      <td>Soltero</td>\n      <td>Castellano</td>\n      <td>Superior Universitaria Incompleta</td>\n      <td>Ciencias de la Comunicación</td>\n      <td>Universidad Nacional Toribio Rodríguez de Mend...</td>\n      <td>Amazonas</td>\n    </tr>\n    <tr>\n      <th>2</th>\n      <td>2020</td>\n      <td>1</td>\n      <td>1</td>\n      <td>10101</td>\n      <td>4</td>\n      <td>2</td>\n      <td>51</td>\n      <td>5</td>\n      <td>4</td>\n      <td>10</td>\n      <td>121016</td>\n      <td>160000031</td>\n      <td>14</td>\n      <td>Sierra Norte</td>\n      <td>Separado</td>\n      <td>Castellano</td>\n      <td>Superior Universitaria Completa</td>\n      <td>Educación Secundaria</td>\n      <td>Universidad Nacional Pedro Ruíz Gallo</td>\n      <td>Lambayeque</td>\n    </tr>\n    <tr>\n      <th>3</th>\n      <td>2020</td>\n      <td>1</td>\n      <td>2</td>\n      <td>10101</td>\n      <td>4</td>\n      <td>2</td>\n      <td>27</td>\n      <td>6</td>\n      <td>4</td>\n      <td>10</td>\n      <td>713016</td>\n      <td>260000024</td>\n      <td>15</td>\n      <td>Sierra Norte</td>\n      <td>Soltero</td>\n      <td>Castellano</td>\n      <td>Superior Universitaria Completa</td>\n      <td>Estomatología</td>\n      <td>Universidad Inca Garcilaso de la Vega</td>\n      <td>Lima</td>\n    </tr>\n    <tr>\n      <th>4</th>\n      <td>2020</td>\n      <td>1</td>\n      <td>3</td>\n      <td>10101</td>\n      <td>4</td>\n      <td>2</td>\n      <td>24</td>\n      <td>6</td>\n      <td>4</td>\n      <td>10</td>\n      <td>711026</td>\n      <td>260000044</td>\n      <td>14</td>\n      <td>Sierra Norte</td>\n      <td>Soltero</td>\n      <td>Castellano</td>\n      <td>Superior Universitaria Completa</td>\n      <td>Medicina Humana</td>\n      <td>Universidad Particular de Chiclayo</td>\n      <td>Lambayeque</td>\n    </tr>\n    <tr>\n      <th>...</th>\n      <td>...</td>\n      <td>...</td>\n      <td>...</td>\n      <td>...</td>\n      <td>...</td>\n      <td>...</td>\n      <td>...</td>\n      <td>...</td>\n      <td>...</td>\n      <td>...</td>\n      <td>...</td>\n      <td>...</td>\n      <td>...</td>\n      <td>...</td>\n      <td>...</td>\n      <td>...</td>\n      <td>...</td>\n      <td>...</td>\n      <td>...</td>\n      <td>...</td>\n    </tr>\n    <tr>\n      <th>14056</th>\n      <td>2020</td>\n      <td>12</td>\n      <td>2</td>\n      <td>250101</td>\n      <td>7</td>\n      <td>2</td>\n      <td>40</td>\n      <td>2</td>\n      <td>4</td>\n      <td>10</td>\n      <td>714016</td>\n      <td>260000008</td>\n      <td>99</td>\n      <td>Selva</td>\n      <td>Casado</td>\n      <td>Castellano</td>\n      <td>Superior Universitaria Completa</td>\n      <td>Enfermería</td>\n      <td>Pontificia Universidad Católica del Perú</td>\n      <td>NaN</td>\n    </tr>\n    <tr>\n      <th>14057</th>\n      <td>2020</td>\n      <td>12</td>\n      <td>2</td>\n      <td>250101</td>\n      <td>7</td>\n      <td>2</td>\n      <td>66</td>\n      <td>2</td>\n      <td>4</td>\n      <td>9</td>\n      <td>522016</td>\n      <td>160000022</td>\n      <td>99</td>\n      <td>Selva</td>\n      <td>Casado</td>\n      <td>Castellano</td>\n      <td>Superior Universitaria Incompleta</td>\n      <td>Industrias Alimentarias</td>\n      <td>Universidad Nacional Agraria de la Selva</td>\n      <td>NaN</td>\n    </tr>\n    <tr>\n      <th>14058</th>\n      <td>2020</td>\n      <td>12</td>\n      <td>4</td>\n      <td>250101</td>\n      <td>7</td>\n      <td>2</td>\n      <td>22</td>\n      <td>6</td>\n      <td>4</td>\n      <td>10</td>\n      <td>342056</td>\n      <td>260000059</td>\n      <td>15</td>\n      <td>Selva</td>\n      <td>Soltero</td>\n      <td>Castellano</td>\n      <td>Superior Universitaria Completa</td>\n      <td>Contabilidad</td>\n      <td>Universidad Alas Peruanas</td>\n      <td>Lima</td>\n    </tr>\n    <tr>\n      <th>14059</th>\n      <td>2020</td>\n      <td>12</td>\n      <td>2</td>\n      <td>250101</td>\n      <td>7</td>\n      <td>1</td>\n      <td>28</td>\n      <td>6</td>\n      <td>4</td>\n      <td>12</td>\n      <td>-1</td>\n      <td>-1</td>\n      <td>-1</td>\n      <td>Selva</td>\n      <td>Soltero</td>\n      <td>Castellano</td>\n      <td>Básica especial</td>\n      <td>NaN</td>\n      <td>NaN</td>\n      <td>NaN</td>\n    </tr>\n    <tr>\n      <th>14060</th>\n      <td>2020</td>\n      <td>12</td>\n      <td>1</td>\n      <td>250301</td>\n      <td>7</td>\n      <td>2</td>\n      <td>35</td>\n      <td>1</td>\n      <td>4</td>\n      <td>10</td>\n      <td>351056</td>\n      <td>160000035</td>\n      <td>25</td>\n      <td>Selva</td>\n      <td>Conviviente</td>\n      <td>Castellano</td>\n      <td>Superior Universitaria Completa</td>\n      <td>Derecho y Ciencias Políticas   1/</td>\n      <td>Universidad Nacional de Ucayali</td>\n      <td>Ucayali</td>\n    </tr>\n  </tbody>\n</table>\n<p>14061 rows × 20 columns</p>\n</div>"
     },
     "metadata": {}
    }
   ]
  },
  {
   "cell_type": "code",
   "metadata": {
    "cell_id": "6c3403d526f640fba3632e483b6780b3",
    "tags": [],
    "deepnote_to_be_reexecuted": false,
    "source_hash": "df50dca",
    "execution_start": 1649540836364,
    "execution_millis": 105,
    "deepnote_cell_type": "code",
    "deepnote_cell_height": 444.59375
   },
   "source": "# Vamos a dropear las columnas que no usaremos\ndf_2020_sup_all.drop(columns = ['MES', 'CODPERSO'], axis = 1, inplace = True)\ndf_2020_sup_all.head()",
   "execution_count": null,
   "outputs": [
    {
     "output_type": "execute_result",
     "execution_count": 39,
     "data": {
      "application/vnd.deepnote.dataframe.v3+json": {
       "column_count": 18,
       "row_count": 5,
       "columns": [
        {
         "name": "ANIO",
         "dtype": "int64",
         "stats": {
          "unique_count": 1,
          "nan_count": 0,
          "min": "2020",
          "max": "2020",
          "histogram": [
           {
            "bin_start": 2019.5,
            "bin_end": 2019.6,
            "count": 0
           },
           {
            "bin_start": 2019.6,
            "bin_end": 2019.7,
            "count": 0
           },
           {
            "bin_start": 2019.7,
            "bin_end": 2019.8,
            "count": 0
           },
           {
            "bin_start": 2019.8,
            "bin_end": 2019.9,
            "count": 0
           },
           {
            "bin_start": 2019.9,
            "bin_end": 2020,
            "count": 0
           },
           {
            "bin_start": 2020,
            "bin_end": 2020.1,
            "count": 5
           },
           {
            "bin_start": 2020.1,
            "bin_end": 2020.2,
            "count": 0
           },
           {
            "bin_start": 2020.2,
            "bin_end": 2020.3,
            "count": 0
           },
           {
            "bin_start": 2020.3,
            "bin_end": 2020.4,
            "count": 0
           },
           {
            "bin_start": 2020.4,
            "bin_end": 2020.5,
            "count": 0
           }
          ]
         }
        },
        {
         "name": "UBIGEO",
         "dtype": "int64",
         "stats": {
          "unique_count": 1,
          "nan_count": 0,
          "min": "10101",
          "max": "10101",
          "histogram": [
           {
            "bin_start": 10100.5,
            "bin_end": 10100.6,
            "count": 0
           },
           {
            "bin_start": 10100.6,
            "bin_end": 10100.7,
            "count": 0
           },
           {
            "bin_start": 10100.7,
            "bin_end": 10100.8,
            "count": 0
           },
           {
            "bin_start": 10100.8,
            "bin_end": 10100.9,
            "count": 0
           },
           {
            "bin_start": 10100.9,
            "bin_end": 10101,
            "count": 0
           },
           {
            "bin_start": 10101,
            "bin_end": 10101.1,
            "count": 5
           },
           {
            "bin_start": 10101.1,
            "bin_end": 10101.2,
            "count": 0
           },
           {
            "bin_start": 10101.2,
            "bin_end": 10101.3,
            "count": 0
           },
           {
            "bin_start": 10101.3,
            "bin_end": 10101.4,
            "count": 0
           },
           {
            "bin_start": 10101.4,
            "bin_end": 10101.5,
            "count": 0
           }
          ]
         }
        },
        {
         "name": "DOMINIO_G",
         "dtype": "int64",
         "stats": {
          "unique_count": 1,
          "nan_count": 0,
          "min": "4",
          "max": "4",
          "histogram": [
           {
            "bin_start": 3.5,
            "bin_end": 3.6,
            "count": 0
           },
           {
            "bin_start": 3.6,
            "bin_end": 3.7,
            "count": 0
           },
           {
            "bin_start": 3.7,
            "bin_end": 3.8,
            "count": 0
           },
           {
            "bin_start": 3.8,
            "bin_end": 3.9,
            "count": 0
           },
           {
            "bin_start": 3.9,
            "bin_end": 4,
            "count": 0
           },
           {
            "bin_start": 4,
            "bin_end": 4.1,
            "count": 5
           },
           {
            "bin_start": 4.1,
            "bin_end": 4.2,
            "count": 0
           },
           {
            "bin_start": 4.2,
            "bin_end": 4.3,
            "count": 0
           },
           {
            "bin_start": 4.3,
            "bin_end": 4.4,
            "count": 0
           },
           {
            "bin_start": 4.4,
            "bin_end": 4.5,
            "count": 0
           }
          ]
         }
        },
        {
         "name": "ID_SEXO",
         "dtype": "int64",
         "stats": {
          "unique_count": 2,
          "nan_count": 0,
          "min": "1",
          "max": "2",
          "histogram": [
           {
            "bin_start": 1,
            "bin_end": 1.1,
            "count": 1
           },
           {
            "bin_start": 1.1,
            "bin_end": 1.2,
            "count": 0
           },
           {
            "bin_start": 1.2,
            "bin_end": 1.3,
            "count": 0
           },
           {
            "bin_start": 1.3,
            "bin_end": 1.4,
            "count": 0
           },
           {
            "bin_start": 1.4,
            "bin_end": 1.5,
            "count": 0
           },
           {
            "bin_start": 1.5,
            "bin_end": 1.6,
            "count": 0
           },
           {
            "bin_start": 1.6,
            "bin_end": 1.7000000000000002,
            "count": 0
           },
           {
            "bin_start": 1.7000000000000002,
            "bin_end": 1.8,
            "count": 0
           },
           {
            "bin_start": 1.8,
            "bin_end": 1.9,
            "count": 0
           },
           {
            "bin_start": 1.9,
            "bin_end": 2,
            "count": 4
           }
          ]
         }
        },
        {
         "name": "EDAD",
         "dtype": "int64",
         "stats": {
          "unique_count": 5,
          "nan_count": 0,
          "min": "18",
          "max": "51",
          "histogram": [
           {
            "bin_start": 18,
            "bin_end": 21.3,
            "count": 1
           },
           {
            "bin_start": 21.3,
            "bin_end": 24.6,
            "count": 1
           },
           {
            "bin_start": 24.6,
            "bin_end": 27.9,
            "count": 1
           },
           {
            "bin_start": 27.9,
            "bin_end": 31.2,
            "count": 1
           },
           {
            "bin_start": 31.2,
            "bin_end": 34.5,
            "count": 0
           },
           {
            "bin_start": 34.5,
            "bin_end": 37.8,
            "count": 0
           },
           {
            "bin_start": 37.8,
            "bin_end": 41.099999999999994,
            "count": 0
           },
           {
            "bin_start": 41.099999999999994,
            "bin_end": 44.4,
            "count": 0
           },
           {
            "bin_start": 44.4,
            "bin_end": 47.7,
            "count": 0
           },
           {
            "bin_start": 47.7,
            "bin_end": 51,
            "count": 1
           }
          ]
         }
        },
        {
         "name": "ID_ESTADO_CIVIL",
         "dtype": "int64",
         "stats": {
          "unique_count": 2,
          "nan_count": 0,
          "min": "5",
          "max": "6",
          "histogram": [
           {
            "bin_start": 5,
            "bin_end": 5.1,
            "count": 1
           },
           {
            "bin_start": 5.1,
            "bin_end": 5.2,
            "count": 0
           },
           {
            "bin_start": 5.2,
            "bin_end": 5.3,
            "count": 0
           },
           {
            "bin_start": 5.3,
            "bin_end": 5.4,
            "count": 0
           },
           {
            "bin_start": 5.4,
            "bin_end": 5.5,
            "count": 0
           },
           {
            "bin_start": 5.5,
            "bin_end": 5.6,
            "count": 0
           },
           {
            "bin_start": 5.6,
            "bin_end": 5.7,
            "count": 0
           },
           {
            "bin_start": 5.7,
            "bin_end": 5.8,
            "count": 0
           },
           {
            "bin_start": 5.8,
            "bin_end": 5.9,
            "count": 0
           },
           {
            "bin_start": 5.9,
            "bin_end": 6,
            "count": 4
           }
          ]
         }
        },
        {
         "name": "COD_IDIOMA",
         "dtype": "int64",
         "stats": {
          "unique_count": 1,
          "nan_count": 0,
          "min": "4",
          "max": "4",
          "histogram": [
           {
            "bin_start": 3.5,
            "bin_end": 3.6,
            "count": 0
           },
           {
            "bin_start": 3.6,
            "bin_end": 3.7,
            "count": 0
           },
           {
            "bin_start": 3.7,
            "bin_end": 3.8,
            "count": 0
           },
           {
            "bin_start": 3.8,
            "bin_end": 3.9,
            "count": 0
           },
           {
            "bin_start": 3.9,
            "bin_end": 4,
            "count": 0
           },
           {
            "bin_start": 4,
            "bin_end": 4.1,
            "count": 5
           },
           {
            "bin_start": 4.1,
            "bin_end": 4.2,
            "count": 0
           },
           {
            "bin_start": 4.2,
            "bin_end": 4.3,
            "count": 0
           },
           {
            "bin_start": 4.3,
            "bin_end": 4.4,
            "count": 0
           },
           {
            "bin_start": 4.4,
            "bin_end": 4.5,
            "count": 0
           }
          ]
         }
        },
        {
         "name": "COD_GRADO_ESTUDIOS",
         "dtype": "int64",
         "stats": {
          "unique_count": 2,
          "nan_count": 0,
          "min": "9",
          "max": "10",
          "histogram": [
           {
            "bin_start": 9,
            "bin_end": 9.1,
            "count": 1
           },
           {
            "bin_start": 9.1,
            "bin_end": 9.2,
            "count": 0
           },
           {
            "bin_start": 9.2,
            "bin_end": 9.3,
            "count": 0
           },
           {
            "bin_start": 9.3,
            "bin_end": 9.4,
            "count": 0
           },
           {
            "bin_start": 9.4,
            "bin_end": 9.5,
            "count": 0
           },
           {
            "bin_start": 9.5,
            "bin_end": 9.6,
            "count": 0
           },
           {
            "bin_start": 9.6,
            "bin_end": 9.7,
            "count": 0
           },
           {
            "bin_start": 9.7,
            "bin_end": 9.8,
            "count": 0
           },
           {
            "bin_start": 9.8,
            "bin_end": 9.9,
            "count": 0
           },
           {
            "bin_start": 9.9,
            "bin_end": 10,
            "count": 4
           }
          ]
         }
        },
        {
         "name": "COD_CARRERA_UNI",
         "dtype": "int64",
         "stats": {
          "unique_count": 5,
          "nan_count": 0,
          "min": "121016",
          "max": "713016",
          "histogram": [
           {
            "bin_start": 121016,
            "bin_end": 180216,
            "count": 1
           },
           {
            "bin_start": 180216,
            "bin_end": 239416,
            "count": 0
           },
           {
            "bin_start": 239416,
            "bin_end": 298616,
            "count": 0
           },
           {
            "bin_start": 298616,
            "bin_end": 357816,
            "count": 2
           },
           {
            "bin_start": 357816,
            "bin_end": 417016,
            "count": 0
           },
           {
            "bin_start": 417016,
            "bin_end": 476216,
            "count": 0
           },
           {
            "bin_start": 476216,
            "bin_end": 535416,
            "count": 0
           },
           {
            "bin_start": 535416,
            "bin_end": 594616,
            "count": 0
           },
           {
            "bin_start": 594616,
            "bin_end": 653816,
            "count": 0
           },
           {
            "bin_start": 653816,
            "bin_end": 713016,
            "count": 2
           }
          ]
         }
        },
        {
         "name": "COD_CENTRO_ESTUDIOS",
         "dtype": "int64",
         "stats": {
          "unique_count": 4,
          "nan_count": 0,
          "min": "160000031",
          "max": "260000044",
          "histogram": [
           {
            "bin_start": 160000031,
            "bin_end": 170000032.3,
            "count": 3
           },
           {
            "bin_start": 170000032.3,
            "bin_end": 180000033.6,
            "count": 0
           },
           {
            "bin_start": 180000033.6,
            "bin_end": 190000034.9,
            "count": 0
           },
           {
            "bin_start": 190000034.9,
            "bin_end": 200000036.2,
            "count": 0
           },
           {
            "bin_start": 200000036.2,
            "bin_end": 210000037.5,
            "count": 0
           },
           {
            "bin_start": 210000037.5,
            "bin_end": 220000038.8,
            "count": 0
           },
           {
            "bin_start": 220000038.8,
            "bin_end": 230000040.10000002,
            "count": 0
           },
           {
            "bin_start": 230000040.10000002,
            "bin_end": 240000041.4,
            "count": 0
           },
           {
            "bin_start": 240000041.4,
            "bin_end": 250000042.7,
            "count": 0
           },
           {
            "bin_start": 250000042.7,
            "bin_end": 260000044,
            "count": 2
           }
          ]
         }
        },
        {
         "name": "COD_DEPARTAMENTO",
         "dtype": "int64",
         "stats": {
          "unique_count": 3,
          "nan_count": 0,
          "min": "1",
          "max": "15",
          "histogram": [
           {
            "bin_start": 1,
            "bin_end": 2.4,
            "count": 2
           },
           {
            "bin_start": 2.4,
            "bin_end": 3.8,
            "count": 0
           },
           {
            "bin_start": 3.8,
            "bin_end": 5.199999999999999,
            "count": 0
           },
           {
            "bin_start": 5.199999999999999,
            "bin_end": 6.6,
            "count": 0
           },
           {
            "bin_start": 6.6,
            "bin_end": 8,
            "count": 0
           },
           {
            "bin_start": 8,
            "bin_end": 9.399999999999999,
            "count": 0
           },
           {
            "bin_start": 9.399999999999999,
            "bin_end": 10.799999999999999,
            "count": 0
           },
           {
            "bin_start": 10.799999999999999,
            "bin_end": 12.2,
            "count": 0
           },
           {
            "bin_start": 12.2,
            "bin_end": 13.6,
            "count": 0
           },
           {
            "bin_start": 13.6,
            "bin_end": 15,
            "count": 3
           }
          ]
         }
        },
        {
         "name": "NOM_DOMINIO_G",
         "dtype": "object",
         "stats": {
          "unique_count": 1,
          "nan_count": 0,
          "categories": [
           {
            "name": "Sierra Norte",
            "count": 5
           }
          ]
         }
        },
        {
         "name": "NOM_ESTADO_CIVIL",
         "dtype": "object",
         "stats": {
          "unique_count": 2,
          "nan_count": 0,
          "categories": [
           {
            "name": "Soltero",
            "count": 4
           },
           {
            "name": "Separado",
            "count": 1
           }
          ]
         }
        },
        {
         "name": "NOM_IDIOMA",
         "dtype": "object",
         "stats": {
          "unique_count": 1,
          "nan_count": 0,
          "categories": [
           {
            "name": "Castellano",
            "count": 5
           }
          ]
         }
        },
        {
         "name": "NOM_GRADO_ESTUDIOS",
         "dtype": "object",
         "stats": {
          "unique_count": 2,
          "nan_count": 0,
          "categories": [
           {
            "name": "Superior Universitaria Completa",
            "count": 4
           },
           {
            "name": "Superior Universitaria Incompleta",
            "count": 1
           }
          ]
         }
        },
        {
         "name": "NOM_CARRERA_UNI",
         "dtype": "object",
         "stats": {
          "unique_count": 5,
          "nan_count": 0,
          "categories": [
           {
            "name": "Turismo y Hotelería",
            "count": 1
           },
           {
            "name": "Ciencias de la Comunicación",
            "count": 1
           },
           {
            "name": "3 others",
            "count": 3
           }
          ]
         }
        },
        {
         "name": "NOM_CENTRO_ESTUDIOS",
         "dtype": "object",
         "stats": {
          "unique_count": 4,
          "nan_count": 0,
          "categories": [
           {
            "name": "Universidad Nacional Toribio Rodríguez de Mendoza de Amazonas",
            "count": 2
           },
           {
            "name": "Universidad Nacional Pedro Ruíz Gallo",
            "count": 1
           },
           {
            "name": "2 others",
            "count": 2
           }
          ]
         }
        },
        {
         "name": "NOM_DEPARTAMENTO",
         "dtype": "object",
         "stats": {
          "unique_count": 3,
          "nan_count": 0,
          "categories": [
           {
            "name": "Amazonas",
            "count": 2
           },
           {
            "name": "Lambayeque",
            "count": 2
           },
           {
            "name": "Lima",
            "count": 1
           }
          ]
         }
        },
        {
         "name": "_deepnote_index_column",
         "dtype": "int64"
        }
       ],
       "rows": [
        {
         "ANIO": 2020,
         "UBIGEO": 10101,
         "DOMINIO_G": 4,
         "ID_SEXO": 2,
         "EDAD": 29,
         "ID_ESTADO_CIVIL": 6,
         "COD_IDIOMA": 4,
         "COD_GRADO_ESTUDIOS": 10,
         "COD_CARRERA_UNI": 332336,
         "COD_CENTRO_ESTUDIOS": 160000076,
         "COD_DEPARTAMENTO": 1,
         "NOM_DOMINIO_G": "Sierra Norte",
         "NOM_ESTADO_CIVIL": "Soltero",
         "NOM_IDIOMA": "Castellano",
         "NOM_GRADO_ESTUDIOS": "Superior Universitaria Completa",
         "NOM_CARRERA_UNI": "Turismo y Hotelería",
         "NOM_CENTRO_ESTUDIOS": "Universidad Nacional Toribio Rodríguez de Mendoza de Amazonas",
         "NOM_DEPARTAMENTO": "Amazonas",
         "_deepnote_index_column": 0
        },
        {
         "ANIO": 2020,
         "UBIGEO": 10101,
         "DOMINIO_G": 4,
         "ID_SEXO": 1,
         "EDAD": 18,
         "ID_ESTADO_CIVIL": 6,
         "COD_IDIOMA": 4,
         "COD_GRADO_ESTUDIOS": 9,
         "COD_CARRERA_UNI": 321026,
         "COD_CENTRO_ESTUDIOS": 160000076,
         "COD_DEPARTAMENTO": 1,
         "NOM_DOMINIO_G": "Sierra Norte",
         "NOM_ESTADO_CIVIL": "Soltero",
         "NOM_IDIOMA": "Castellano",
         "NOM_GRADO_ESTUDIOS": "Superior Universitaria Incompleta",
         "NOM_CARRERA_UNI": "Ciencias de la Comunicación",
         "NOM_CENTRO_ESTUDIOS": "Universidad Nacional Toribio Rodríguez de Mendoza de Amazonas",
         "NOM_DEPARTAMENTO": "Amazonas",
         "_deepnote_index_column": 1
        },
        {
         "ANIO": 2020,
         "UBIGEO": 10101,
         "DOMINIO_G": 4,
         "ID_SEXO": 2,
         "EDAD": 51,
         "ID_ESTADO_CIVIL": 5,
         "COD_IDIOMA": 4,
         "COD_GRADO_ESTUDIOS": 10,
         "COD_CARRERA_UNI": 121016,
         "COD_CENTRO_ESTUDIOS": 160000031,
         "COD_DEPARTAMENTO": 14,
         "NOM_DOMINIO_G": "Sierra Norte",
         "NOM_ESTADO_CIVIL": "Separado",
         "NOM_IDIOMA": "Castellano",
         "NOM_GRADO_ESTUDIOS": "Superior Universitaria Completa",
         "NOM_CARRERA_UNI": "Educación Secundaria",
         "NOM_CENTRO_ESTUDIOS": "Universidad Nacional Pedro Ruíz Gallo",
         "NOM_DEPARTAMENTO": "Lambayeque",
         "_deepnote_index_column": 2
        },
        {
         "ANIO": 2020,
         "UBIGEO": 10101,
         "DOMINIO_G": 4,
         "ID_SEXO": 2,
         "EDAD": 27,
         "ID_ESTADO_CIVIL": 6,
         "COD_IDIOMA": 4,
         "COD_GRADO_ESTUDIOS": 10,
         "COD_CARRERA_UNI": 713016,
         "COD_CENTRO_ESTUDIOS": 260000024,
         "COD_DEPARTAMENTO": 15,
         "NOM_DOMINIO_G": "Sierra Norte",
         "NOM_ESTADO_CIVIL": "Soltero",
         "NOM_IDIOMA": "Castellano",
         "NOM_GRADO_ESTUDIOS": "Superior Universitaria Completa",
         "NOM_CARRERA_UNI": "Estomatología",
         "NOM_CENTRO_ESTUDIOS": "Universidad Inca Garcilaso de la Vega",
         "NOM_DEPARTAMENTO": "Lima",
         "_deepnote_index_column": 3
        },
        {
         "ANIO": 2020,
         "UBIGEO": 10101,
         "DOMINIO_G": 4,
         "ID_SEXO": 2,
         "EDAD": 24,
         "ID_ESTADO_CIVIL": 6,
         "COD_IDIOMA": 4,
         "COD_GRADO_ESTUDIOS": 10,
         "COD_CARRERA_UNI": 711026,
         "COD_CENTRO_ESTUDIOS": 260000044,
         "COD_DEPARTAMENTO": 14,
         "NOM_DOMINIO_G": "Sierra Norte",
         "NOM_ESTADO_CIVIL": "Soltero",
         "NOM_IDIOMA": "Castellano",
         "NOM_GRADO_ESTUDIOS": "Superior Universitaria Completa",
         "NOM_CARRERA_UNI": "Medicina Humana",
         "NOM_CENTRO_ESTUDIOS": "Universidad Particular de Chiclayo",
         "NOM_DEPARTAMENTO": "Lambayeque",
         "_deepnote_index_column": 4
        }
       ]
      },
      "text/plain": "   ANIO  UBIGEO  DOMINIO_G  ID_SEXO  EDAD  ID_ESTADO_CIVIL  COD_IDIOMA  \\\n0  2020   10101          4        2    29                6           4   \n1  2020   10101          4        1    18                6           4   \n2  2020   10101          4        2    51                5           4   \n3  2020   10101          4        2    27                6           4   \n4  2020   10101          4        2    24                6           4   \n\n   COD_GRADO_ESTUDIOS  COD_CARRERA_UNI  COD_CENTRO_ESTUDIOS  COD_DEPARTAMENTO  \\\n0                  10           332336            160000076                 1   \n1                   9           321026            160000076                 1   \n2                  10           121016            160000031                14   \n3                  10           713016            260000024                15   \n4                  10           711026            260000044                14   \n\n  NOM_DOMINIO_G NOM_ESTADO_CIVIL  NOM_IDIOMA  \\\n0  Sierra Norte          Soltero  Castellano   \n1  Sierra Norte          Soltero  Castellano   \n2  Sierra Norte         Separado  Castellano   \n3  Sierra Norte          Soltero  Castellano   \n4  Sierra Norte          Soltero  Castellano   \n\n                  NOM_GRADO_ESTUDIOS              NOM_CARRERA_UNI  \\\n0    Superior Universitaria Completa          Turismo y Hotelería   \n1  Superior Universitaria Incompleta  Ciencias de la Comunicación   \n2    Superior Universitaria Completa         Educación Secundaria   \n3    Superior Universitaria Completa                Estomatología   \n4    Superior Universitaria Completa              Medicina Humana   \n\n                                 NOM_CENTRO_ESTUDIOS NOM_DEPARTAMENTO  \n0  Universidad Nacional Toribio Rodríguez de Mend...         Amazonas  \n1  Universidad Nacional Toribio Rodríguez de Mend...         Amazonas  \n2              Universidad Nacional Pedro Ruíz Gallo       Lambayeque  \n3              Universidad Inca Garcilaso de la Vega             Lima  \n4                 Universidad Particular de Chiclayo       Lambayeque  ",
      "text/html": "<div>\n<style scoped>\n    .dataframe tbody tr th:only-of-type {\n        vertical-align: middle;\n    }\n\n    .dataframe tbody tr th {\n        vertical-align: top;\n    }\n\n    .dataframe thead th {\n        text-align: right;\n    }\n</style>\n<table border=\"1\" class=\"dataframe\">\n  <thead>\n    <tr style=\"text-align: right;\">\n      <th></th>\n      <th>ANIO</th>\n      <th>UBIGEO</th>\n      <th>DOMINIO_G</th>\n      <th>ID_SEXO</th>\n      <th>EDAD</th>\n      <th>ID_ESTADO_CIVIL</th>\n      <th>COD_IDIOMA</th>\n      <th>COD_GRADO_ESTUDIOS</th>\n      <th>COD_CARRERA_UNI</th>\n      <th>COD_CENTRO_ESTUDIOS</th>\n      <th>COD_DEPARTAMENTO</th>\n      <th>NOM_DOMINIO_G</th>\n      <th>NOM_ESTADO_CIVIL</th>\n      <th>NOM_IDIOMA</th>\n      <th>NOM_GRADO_ESTUDIOS</th>\n      <th>NOM_CARRERA_UNI</th>\n      <th>NOM_CENTRO_ESTUDIOS</th>\n      <th>NOM_DEPARTAMENTO</th>\n    </tr>\n  </thead>\n  <tbody>\n    <tr>\n      <th>0</th>\n      <td>2020</td>\n      <td>10101</td>\n      <td>4</td>\n      <td>2</td>\n      <td>29</td>\n      <td>6</td>\n      <td>4</td>\n      <td>10</td>\n      <td>332336</td>\n      <td>160000076</td>\n      <td>1</td>\n      <td>Sierra Norte</td>\n      <td>Soltero</td>\n      <td>Castellano</td>\n      <td>Superior Universitaria Completa</td>\n      <td>Turismo y Hotelería</td>\n      <td>Universidad Nacional Toribio Rodríguez de Mend...</td>\n      <td>Amazonas</td>\n    </tr>\n    <tr>\n      <th>1</th>\n      <td>2020</td>\n      <td>10101</td>\n      <td>4</td>\n      <td>1</td>\n      <td>18</td>\n      <td>6</td>\n      <td>4</td>\n      <td>9</td>\n      <td>321026</td>\n      <td>160000076</td>\n      <td>1</td>\n      <td>Sierra Norte</td>\n      <td>Soltero</td>\n      <td>Castellano</td>\n      <td>Superior Universitaria Incompleta</td>\n      <td>Ciencias de la Comunicación</td>\n      <td>Universidad Nacional Toribio Rodríguez de Mend...</td>\n      <td>Amazonas</td>\n    </tr>\n    <tr>\n      <th>2</th>\n      <td>2020</td>\n      <td>10101</td>\n      <td>4</td>\n      <td>2</td>\n      <td>51</td>\n      <td>5</td>\n      <td>4</td>\n      <td>10</td>\n      <td>121016</td>\n      <td>160000031</td>\n      <td>14</td>\n      <td>Sierra Norte</td>\n      <td>Separado</td>\n      <td>Castellano</td>\n      <td>Superior Universitaria Completa</td>\n      <td>Educación Secundaria</td>\n      <td>Universidad Nacional Pedro Ruíz Gallo</td>\n      <td>Lambayeque</td>\n    </tr>\n    <tr>\n      <th>3</th>\n      <td>2020</td>\n      <td>10101</td>\n      <td>4</td>\n      <td>2</td>\n      <td>27</td>\n      <td>6</td>\n      <td>4</td>\n      <td>10</td>\n      <td>713016</td>\n      <td>260000024</td>\n      <td>15</td>\n      <td>Sierra Norte</td>\n      <td>Soltero</td>\n      <td>Castellano</td>\n      <td>Superior Universitaria Completa</td>\n      <td>Estomatología</td>\n      <td>Universidad Inca Garcilaso de la Vega</td>\n      <td>Lima</td>\n    </tr>\n    <tr>\n      <th>4</th>\n      <td>2020</td>\n      <td>10101</td>\n      <td>4</td>\n      <td>2</td>\n      <td>24</td>\n      <td>6</td>\n      <td>4</td>\n      <td>10</td>\n      <td>711026</td>\n      <td>260000044</td>\n      <td>14</td>\n      <td>Sierra Norte</td>\n      <td>Soltero</td>\n      <td>Castellano</td>\n      <td>Superior Universitaria Completa</td>\n      <td>Medicina Humana</td>\n      <td>Universidad Particular de Chiclayo</td>\n      <td>Lambayeque</td>\n    </tr>\n  </tbody>\n</table>\n</div>"
     },
     "metadata": {}
    }
   ]
  },
  {
   "cell_type": "code",
   "metadata": {
    "cell_id": "a160dbddd3ee436eb2283b01b89de435",
    "tags": [],
    "deepnote_to_be_reexecuted": false,
    "source_hash": "c1a442b4",
    "execution_start": 1649541093203,
    "execution_millis": 37,
    "deepnote_cell_type": "code",
    "deepnote_cell_height": 118.1875,
    "deepnote_output_heights": [
     21.1875
    ]
   },
   "source": "df_2020_sup_all.shape",
   "execution_count": null,
   "outputs": [
    {
     "output_type": "execute_result",
     "execution_count": 41,
     "data": {
      "text/plain": "(14061, 18)"
     },
     "metadata": {}
    }
   ]
  },
  {
   "cell_type": "code",
   "metadata": {
    "cell_id": "12af6142e27e4ea18a6bf194c23b791d",
    "tags": [],
    "deepnote_to_be_reexecuted": false,
    "source_hash": "20eebb5c",
    "execution_start": 1649541466831,
    "execution_millis": 72,
    "deepnote_cell_type": "code",
    "deepnote_cell_height": 444.59375
   },
   "source": "# Campo sexo en string\ndf_2020_sup_all['SEXO'] = df_2020_sup_all['ID_SEXO'].apply(lambda x: 'Hombre' if x == 1 else 'Mujer')\ndf_2020_sup_all.head()",
   "execution_count": null,
   "outputs": [
    {
     "output_type": "execute_result",
     "execution_count": 45,
     "data": {
      "application/vnd.deepnote.dataframe.v3+json": {
       "column_count": 19,
       "row_count": 5,
       "columns": [
        {
         "name": "ANIO",
         "dtype": "int64",
         "stats": {
          "unique_count": 1,
          "nan_count": 0,
          "min": "2020",
          "max": "2020",
          "histogram": [
           {
            "bin_start": 2019.5,
            "bin_end": 2019.6,
            "count": 0
           },
           {
            "bin_start": 2019.6,
            "bin_end": 2019.7,
            "count": 0
           },
           {
            "bin_start": 2019.7,
            "bin_end": 2019.8,
            "count": 0
           },
           {
            "bin_start": 2019.8,
            "bin_end": 2019.9,
            "count": 0
           },
           {
            "bin_start": 2019.9,
            "bin_end": 2020,
            "count": 0
           },
           {
            "bin_start": 2020,
            "bin_end": 2020.1,
            "count": 5
           },
           {
            "bin_start": 2020.1,
            "bin_end": 2020.2,
            "count": 0
           },
           {
            "bin_start": 2020.2,
            "bin_end": 2020.3,
            "count": 0
           },
           {
            "bin_start": 2020.3,
            "bin_end": 2020.4,
            "count": 0
           },
           {
            "bin_start": 2020.4,
            "bin_end": 2020.5,
            "count": 0
           }
          ]
         }
        },
        {
         "name": "UBIGEO",
         "dtype": "int64",
         "stats": {
          "unique_count": 1,
          "nan_count": 0,
          "min": "10101",
          "max": "10101",
          "histogram": [
           {
            "bin_start": 10100.5,
            "bin_end": 10100.6,
            "count": 0
           },
           {
            "bin_start": 10100.6,
            "bin_end": 10100.7,
            "count": 0
           },
           {
            "bin_start": 10100.7,
            "bin_end": 10100.8,
            "count": 0
           },
           {
            "bin_start": 10100.8,
            "bin_end": 10100.9,
            "count": 0
           },
           {
            "bin_start": 10100.9,
            "bin_end": 10101,
            "count": 0
           },
           {
            "bin_start": 10101,
            "bin_end": 10101.1,
            "count": 5
           },
           {
            "bin_start": 10101.1,
            "bin_end": 10101.2,
            "count": 0
           },
           {
            "bin_start": 10101.2,
            "bin_end": 10101.3,
            "count": 0
           },
           {
            "bin_start": 10101.3,
            "bin_end": 10101.4,
            "count": 0
           },
           {
            "bin_start": 10101.4,
            "bin_end": 10101.5,
            "count": 0
           }
          ]
         }
        },
        {
         "name": "DOMINIO_G",
         "dtype": "int64",
         "stats": {
          "unique_count": 1,
          "nan_count": 0,
          "min": "4",
          "max": "4",
          "histogram": [
           {
            "bin_start": 3.5,
            "bin_end": 3.6,
            "count": 0
           },
           {
            "bin_start": 3.6,
            "bin_end": 3.7,
            "count": 0
           },
           {
            "bin_start": 3.7,
            "bin_end": 3.8,
            "count": 0
           },
           {
            "bin_start": 3.8,
            "bin_end": 3.9,
            "count": 0
           },
           {
            "bin_start": 3.9,
            "bin_end": 4,
            "count": 0
           },
           {
            "bin_start": 4,
            "bin_end": 4.1,
            "count": 5
           },
           {
            "bin_start": 4.1,
            "bin_end": 4.2,
            "count": 0
           },
           {
            "bin_start": 4.2,
            "bin_end": 4.3,
            "count": 0
           },
           {
            "bin_start": 4.3,
            "bin_end": 4.4,
            "count": 0
           },
           {
            "bin_start": 4.4,
            "bin_end": 4.5,
            "count": 0
           }
          ]
         }
        },
        {
         "name": "ID_SEXO",
         "dtype": "int64",
         "stats": {
          "unique_count": 2,
          "nan_count": 0,
          "min": "1",
          "max": "2",
          "histogram": [
           {
            "bin_start": 1,
            "bin_end": 1.1,
            "count": 1
           },
           {
            "bin_start": 1.1,
            "bin_end": 1.2,
            "count": 0
           },
           {
            "bin_start": 1.2,
            "bin_end": 1.3,
            "count": 0
           },
           {
            "bin_start": 1.3,
            "bin_end": 1.4,
            "count": 0
           },
           {
            "bin_start": 1.4,
            "bin_end": 1.5,
            "count": 0
           },
           {
            "bin_start": 1.5,
            "bin_end": 1.6,
            "count": 0
           },
           {
            "bin_start": 1.6,
            "bin_end": 1.7000000000000002,
            "count": 0
           },
           {
            "bin_start": 1.7000000000000002,
            "bin_end": 1.8,
            "count": 0
           },
           {
            "bin_start": 1.8,
            "bin_end": 1.9,
            "count": 0
           },
           {
            "bin_start": 1.9,
            "bin_end": 2,
            "count": 4
           }
          ]
         }
        },
        {
         "name": "EDAD",
         "dtype": "int64",
         "stats": {
          "unique_count": 5,
          "nan_count": 0,
          "min": "18",
          "max": "51",
          "histogram": [
           {
            "bin_start": 18,
            "bin_end": 21.3,
            "count": 1
           },
           {
            "bin_start": 21.3,
            "bin_end": 24.6,
            "count": 1
           },
           {
            "bin_start": 24.6,
            "bin_end": 27.9,
            "count": 1
           },
           {
            "bin_start": 27.9,
            "bin_end": 31.2,
            "count": 1
           },
           {
            "bin_start": 31.2,
            "bin_end": 34.5,
            "count": 0
           },
           {
            "bin_start": 34.5,
            "bin_end": 37.8,
            "count": 0
           },
           {
            "bin_start": 37.8,
            "bin_end": 41.099999999999994,
            "count": 0
           },
           {
            "bin_start": 41.099999999999994,
            "bin_end": 44.4,
            "count": 0
           },
           {
            "bin_start": 44.4,
            "bin_end": 47.7,
            "count": 0
           },
           {
            "bin_start": 47.7,
            "bin_end": 51,
            "count": 1
           }
          ]
         }
        },
        {
         "name": "ID_ESTADO_CIVIL",
         "dtype": "int64",
         "stats": {
          "unique_count": 2,
          "nan_count": 0,
          "min": "5",
          "max": "6",
          "histogram": [
           {
            "bin_start": 5,
            "bin_end": 5.1,
            "count": 1
           },
           {
            "bin_start": 5.1,
            "bin_end": 5.2,
            "count": 0
           },
           {
            "bin_start": 5.2,
            "bin_end": 5.3,
            "count": 0
           },
           {
            "bin_start": 5.3,
            "bin_end": 5.4,
            "count": 0
           },
           {
            "bin_start": 5.4,
            "bin_end": 5.5,
            "count": 0
           },
           {
            "bin_start": 5.5,
            "bin_end": 5.6,
            "count": 0
           },
           {
            "bin_start": 5.6,
            "bin_end": 5.7,
            "count": 0
           },
           {
            "bin_start": 5.7,
            "bin_end": 5.8,
            "count": 0
           },
           {
            "bin_start": 5.8,
            "bin_end": 5.9,
            "count": 0
           },
           {
            "bin_start": 5.9,
            "bin_end": 6,
            "count": 4
           }
          ]
         }
        },
        {
         "name": "COD_IDIOMA",
         "dtype": "int64",
         "stats": {
          "unique_count": 1,
          "nan_count": 0,
          "min": "4",
          "max": "4",
          "histogram": [
           {
            "bin_start": 3.5,
            "bin_end": 3.6,
            "count": 0
           },
           {
            "bin_start": 3.6,
            "bin_end": 3.7,
            "count": 0
           },
           {
            "bin_start": 3.7,
            "bin_end": 3.8,
            "count": 0
           },
           {
            "bin_start": 3.8,
            "bin_end": 3.9,
            "count": 0
           },
           {
            "bin_start": 3.9,
            "bin_end": 4,
            "count": 0
           },
           {
            "bin_start": 4,
            "bin_end": 4.1,
            "count": 5
           },
           {
            "bin_start": 4.1,
            "bin_end": 4.2,
            "count": 0
           },
           {
            "bin_start": 4.2,
            "bin_end": 4.3,
            "count": 0
           },
           {
            "bin_start": 4.3,
            "bin_end": 4.4,
            "count": 0
           },
           {
            "bin_start": 4.4,
            "bin_end": 4.5,
            "count": 0
           }
          ]
         }
        },
        {
         "name": "COD_GRADO_ESTUDIOS",
         "dtype": "int64",
         "stats": {
          "unique_count": 2,
          "nan_count": 0,
          "min": "9",
          "max": "10",
          "histogram": [
           {
            "bin_start": 9,
            "bin_end": 9.1,
            "count": 1
           },
           {
            "bin_start": 9.1,
            "bin_end": 9.2,
            "count": 0
           },
           {
            "bin_start": 9.2,
            "bin_end": 9.3,
            "count": 0
           },
           {
            "bin_start": 9.3,
            "bin_end": 9.4,
            "count": 0
           },
           {
            "bin_start": 9.4,
            "bin_end": 9.5,
            "count": 0
           },
           {
            "bin_start": 9.5,
            "bin_end": 9.6,
            "count": 0
           },
           {
            "bin_start": 9.6,
            "bin_end": 9.7,
            "count": 0
           },
           {
            "bin_start": 9.7,
            "bin_end": 9.8,
            "count": 0
           },
           {
            "bin_start": 9.8,
            "bin_end": 9.9,
            "count": 0
           },
           {
            "bin_start": 9.9,
            "bin_end": 10,
            "count": 4
           }
          ]
         }
        },
        {
         "name": "COD_CARRERA_UNI",
         "dtype": "int64",
         "stats": {
          "unique_count": 5,
          "nan_count": 0,
          "min": "121016",
          "max": "713016",
          "histogram": [
           {
            "bin_start": 121016,
            "bin_end": 180216,
            "count": 1
           },
           {
            "bin_start": 180216,
            "bin_end": 239416,
            "count": 0
           },
           {
            "bin_start": 239416,
            "bin_end": 298616,
            "count": 0
           },
           {
            "bin_start": 298616,
            "bin_end": 357816,
            "count": 2
           },
           {
            "bin_start": 357816,
            "bin_end": 417016,
            "count": 0
           },
           {
            "bin_start": 417016,
            "bin_end": 476216,
            "count": 0
           },
           {
            "bin_start": 476216,
            "bin_end": 535416,
            "count": 0
           },
           {
            "bin_start": 535416,
            "bin_end": 594616,
            "count": 0
           },
           {
            "bin_start": 594616,
            "bin_end": 653816,
            "count": 0
           },
           {
            "bin_start": 653816,
            "bin_end": 713016,
            "count": 2
           }
          ]
         }
        },
        {
         "name": "COD_CENTRO_ESTUDIOS",
         "dtype": "int64",
         "stats": {
          "unique_count": 4,
          "nan_count": 0,
          "min": "160000031",
          "max": "260000044",
          "histogram": [
           {
            "bin_start": 160000031,
            "bin_end": 170000032.3,
            "count": 3
           },
           {
            "bin_start": 170000032.3,
            "bin_end": 180000033.6,
            "count": 0
           },
           {
            "bin_start": 180000033.6,
            "bin_end": 190000034.9,
            "count": 0
           },
           {
            "bin_start": 190000034.9,
            "bin_end": 200000036.2,
            "count": 0
           },
           {
            "bin_start": 200000036.2,
            "bin_end": 210000037.5,
            "count": 0
           },
           {
            "bin_start": 210000037.5,
            "bin_end": 220000038.8,
            "count": 0
           },
           {
            "bin_start": 220000038.8,
            "bin_end": 230000040.10000002,
            "count": 0
           },
           {
            "bin_start": 230000040.10000002,
            "bin_end": 240000041.4,
            "count": 0
           },
           {
            "bin_start": 240000041.4,
            "bin_end": 250000042.7,
            "count": 0
           },
           {
            "bin_start": 250000042.7,
            "bin_end": 260000044,
            "count": 2
           }
          ]
         }
        },
        {
         "name": "COD_DEPARTAMENTO",
         "dtype": "int64",
         "stats": {
          "unique_count": 3,
          "nan_count": 0,
          "min": "1",
          "max": "15",
          "histogram": [
           {
            "bin_start": 1,
            "bin_end": 2.4,
            "count": 2
           },
           {
            "bin_start": 2.4,
            "bin_end": 3.8,
            "count": 0
           },
           {
            "bin_start": 3.8,
            "bin_end": 5.199999999999999,
            "count": 0
           },
           {
            "bin_start": 5.199999999999999,
            "bin_end": 6.6,
            "count": 0
           },
           {
            "bin_start": 6.6,
            "bin_end": 8,
            "count": 0
           },
           {
            "bin_start": 8,
            "bin_end": 9.399999999999999,
            "count": 0
           },
           {
            "bin_start": 9.399999999999999,
            "bin_end": 10.799999999999999,
            "count": 0
           },
           {
            "bin_start": 10.799999999999999,
            "bin_end": 12.2,
            "count": 0
           },
           {
            "bin_start": 12.2,
            "bin_end": 13.6,
            "count": 0
           },
           {
            "bin_start": 13.6,
            "bin_end": 15,
            "count": 3
           }
          ]
         }
        },
        {
         "name": "NOM_DOMINIO_G",
         "dtype": "object",
         "stats": {
          "unique_count": 1,
          "nan_count": 0,
          "categories": [
           {
            "name": "Sierra Norte",
            "count": 5
           }
          ]
         }
        },
        {
         "name": "NOM_ESTADO_CIVIL",
         "dtype": "object",
         "stats": {
          "unique_count": 2,
          "nan_count": 0,
          "categories": [
           {
            "name": "Soltero",
            "count": 4
           },
           {
            "name": "Separado",
            "count": 1
           }
          ]
         }
        },
        {
         "name": "NOM_IDIOMA",
         "dtype": "object",
         "stats": {
          "unique_count": 1,
          "nan_count": 0,
          "categories": [
           {
            "name": "Castellano",
            "count": 5
           }
          ]
         }
        },
        {
         "name": "NOM_GRADO_ESTUDIOS",
         "dtype": "object",
         "stats": {
          "unique_count": 2,
          "nan_count": 0,
          "categories": [
           {
            "name": "Superior Universitaria Completa",
            "count": 4
           },
           {
            "name": "Superior Universitaria Incompleta",
            "count": 1
           }
          ]
         }
        },
        {
         "name": "NOM_CARRERA_UNI",
         "dtype": "object",
         "stats": {
          "unique_count": 5,
          "nan_count": 0,
          "categories": [
           {
            "name": "Turismo y Hotelería",
            "count": 1
           },
           {
            "name": "Ciencias de la Comunicación",
            "count": 1
           },
           {
            "name": "3 others",
            "count": 3
           }
          ]
         }
        },
        {
         "name": "NOM_CENTRO_ESTUDIOS",
         "dtype": "object",
         "stats": {
          "unique_count": 4,
          "nan_count": 0,
          "categories": [
           {
            "name": "Universidad Nacional Toribio Rodríguez de Mendoza de Amazonas",
            "count": 2
           },
           {
            "name": "Universidad Nacional Pedro Ruíz Gallo",
            "count": 1
           },
           {
            "name": "2 others",
            "count": 2
           }
          ]
         }
        },
        {
         "name": "NOM_DEPARTAMENTO",
         "dtype": "object",
         "stats": {
          "unique_count": 3,
          "nan_count": 0,
          "categories": [
           {
            "name": "Amazonas",
            "count": 2
           },
           {
            "name": "Lambayeque",
            "count": 2
           },
           {
            "name": "Lima",
            "count": 1
           }
          ]
         }
        },
        {
         "name": "SEXO",
         "dtype": "object",
         "stats": {
          "unique_count": 2,
          "nan_count": 0,
          "categories": [
           {
            "name": "Mujer",
            "count": 4
           },
           {
            "name": "Hombre",
            "count": 1
           }
          ]
         }
        },
        {
         "name": "_deepnote_index_column",
         "dtype": "int64"
        }
       ],
       "rows": [
        {
         "ANIO": 2020,
         "UBIGEO": 10101,
         "DOMINIO_G": 4,
         "ID_SEXO": 2,
         "EDAD": 29,
         "ID_ESTADO_CIVIL": 6,
         "COD_IDIOMA": 4,
         "COD_GRADO_ESTUDIOS": 10,
         "COD_CARRERA_UNI": 332336,
         "COD_CENTRO_ESTUDIOS": 160000076,
         "COD_DEPARTAMENTO": 1,
         "NOM_DOMINIO_G": "Sierra Norte",
         "NOM_ESTADO_CIVIL": "Soltero",
         "NOM_IDIOMA": "Castellano",
         "NOM_GRADO_ESTUDIOS": "Superior Universitaria Completa",
         "NOM_CARRERA_UNI": "Turismo y Hotelería",
         "NOM_CENTRO_ESTUDIOS": "Universidad Nacional Toribio Rodríguez de Mendoza de Amazonas",
         "NOM_DEPARTAMENTO": "Amazonas",
         "SEXO": "Mujer",
         "_deepnote_index_column": 0
        },
        {
         "ANIO": 2020,
         "UBIGEO": 10101,
         "DOMINIO_G": 4,
         "ID_SEXO": 1,
         "EDAD": 18,
         "ID_ESTADO_CIVIL": 6,
         "COD_IDIOMA": 4,
         "COD_GRADO_ESTUDIOS": 9,
         "COD_CARRERA_UNI": 321026,
         "COD_CENTRO_ESTUDIOS": 160000076,
         "COD_DEPARTAMENTO": 1,
         "NOM_DOMINIO_G": "Sierra Norte",
         "NOM_ESTADO_CIVIL": "Soltero",
         "NOM_IDIOMA": "Castellano",
         "NOM_GRADO_ESTUDIOS": "Superior Universitaria Incompleta",
         "NOM_CARRERA_UNI": "Ciencias de la Comunicación",
         "NOM_CENTRO_ESTUDIOS": "Universidad Nacional Toribio Rodríguez de Mendoza de Amazonas",
         "NOM_DEPARTAMENTO": "Amazonas",
         "SEXO": "Hombre",
         "_deepnote_index_column": 1
        },
        {
         "ANIO": 2020,
         "UBIGEO": 10101,
         "DOMINIO_G": 4,
         "ID_SEXO": 2,
         "EDAD": 51,
         "ID_ESTADO_CIVIL": 5,
         "COD_IDIOMA": 4,
         "COD_GRADO_ESTUDIOS": 10,
         "COD_CARRERA_UNI": 121016,
         "COD_CENTRO_ESTUDIOS": 160000031,
         "COD_DEPARTAMENTO": 14,
         "NOM_DOMINIO_G": "Sierra Norte",
         "NOM_ESTADO_CIVIL": "Separado",
         "NOM_IDIOMA": "Castellano",
         "NOM_GRADO_ESTUDIOS": "Superior Universitaria Completa",
         "NOM_CARRERA_UNI": "Educación Secundaria",
         "NOM_CENTRO_ESTUDIOS": "Universidad Nacional Pedro Ruíz Gallo",
         "NOM_DEPARTAMENTO": "Lambayeque",
         "SEXO": "Mujer",
         "_deepnote_index_column": 2
        },
        {
         "ANIO": 2020,
         "UBIGEO": 10101,
         "DOMINIO_G": 4,
         "ID_SEXO": 2,
         "EDAD": 27,
         "ID_ESTADO_CIVIL": 6,
         "COD_IDIOMA": 4,
         "COD_GRADO_ESTUDIOS": 10,
         "COD_CARRERA_UNI": 713016,
         "COD_CENTRO_ESTUDIOS": 260000024,
         "COD_DEPARTAMENTO": 15,
         "NOM_DOMINIO_G": "Sierra Norte",
         "NOM_ESTADO_CIVIL": "Soltero",
         "NOM_IDIOMA": "Castellano",
         "NOM_GRADO_ESTUDIOS": "Superior Universitaria Completa",
         "NOM_CARRERA_UNI": "Estomatología",
         "NOM_CENTRO_ESTUDIOS": "Universidad Inca Garcilaso de la Vega",
         "NOM_DEPARTAMENTO": "Lima",
         "SEXO": "Mujer",
         "_deepnote_index_column": 3
        },
        {
         "ANIO": 2020,
         "UBIGEO": 10101,
         "DOMINIO_G": 4,
         "ID_SEXO": 2,
         "EDAD": 24,
         "ID_ESTADO_CIVIL": 6,
         "COD_IDIOMA": 4,
         "COD_GRADO_ESTUDIOS": 10,
         "COD_CARRERA_UNI": 711026,
         "COD_CENTRO_ESTUDIOS": 260000044,
         "COD_DEPARTAMENTO": 14,
         "NOM_DOMINIO_G": "Sierra Norte",
         "NOM_ESTADO_CIVIL": "Soltero",
         "NOM_IDIOMA": "Castellano",
         "NOM_GRADO_ESTUDIOS": "Superior Universitaria Completa",
         "NOM_CARRERA_UNI": "Medicina Humana",
         "NOM_CENTRO_ESTUDIOS": "Universidad Particular de Chiclayo",
         "NOM_DEPARTAMENTO": "Lambayeque",
         "SEXO": "Mujer",
         "_deepnote_index_column": 4
        }
       ]
      },
      "text/plain": "   ANIO  UBIGEO  DOMINIO_G  ID_SEXO  EDAD  ID_ESTADO_CIVIL  COD_IDIOMA  \\\n0  2020   10101          4        2    29                6           4   \n1  2020   10101          4        1    18                6           4   \n2  2020   10101          4        2    51                5           4   \n3  2020   10101          4        2    27                6           4   \n4  2020   10101          4        2    24                6           4   \n\n   COD_GRADO_ESTUDIOS  COD_CARRERA_UNI  COD_CENTRO_ESTUDIOS  COD_DEPARTAMENTO  \\\n0                  10           332336            160000076                 1   \n1                   9           321026            160000076                 1   \n2                  10           121016            160000031                14   \n3                  10           713016            260000024                15   \n4                  10           711026            260000044                14   \n\n  NOM_DOMINIO_G NOM_ESTADO_CIVIL  NOM_IDIOMA  \\\n0  Sierra Norte          Soltero  Castellano   \n1  Sierra Norte          Soltero  Castellano   \n2  Sierra Norte         Separado  Castellano   \n3  Sierra Norte          Soltero  Castellano   \n4  Sierra Norte          Soltero  Castellano   \n\n                  NOM_GRADO_ESTUDIOS              NOM_CARRERA_UNI  \\\n0    Superior Universitaria Completa          Turismo y Hotelería   \n1  Superior Universitaria Incompleta  Ciencias de la Comunicación   \n2    Superior Universitaria Completa         Educación Secundaria   \n3    Superior Universitaria Completa                Estomatología   \n4    Superior Universitaria Completa              Medicina Humana   \n\n                                 NOM_CENTRO_ESTUDIOS NOM_DEPARTAMENTO    SEXO  \n0  Universidad Nacional Toribio Rodríguez de Mend...         Amazonas   Mujer  \n1  Universidad Nacional Toribio Rodríguez de Mend...         Amazonas  Hombre  \n2              Universidad Nacional Pedro Ruíz Gallo       Lambayeque   Mujer  \n3              Universidad Inca Garcilaso de la Vega             Lima   Mujer  \n4                 Universidad Particular de Chiclayo       Lambayeque   Mujer  ",
      "text/html": "<div>\n<style scoped>\n    .dataframe tbody tr th:only-of-type {\n        vertical-align: middle;\n    }\n\n    .dataframe tbody tr th {\n        vertical-align: top;\n    }\n\n    .dataframe thead th {\n        text-align: right;\n    }\n</style>\n<table border=\"1\" class=\"dataframe\">\n  <thead>\n    <tr style=\"text-align: right;\">\n      <th></th>\n      <th>ANIO</th>\n      <th>UBIGEO</th>\n      <th>DOMINIO_G</th>\n      <th>ID_SEXO</th>\n      <th>EDAD</th>\n      <th>ID_ESTADO_CIVIL</th>\n      <th>COD_IDIOMA</th>\n      <th>COD_GRADO_ESTUDIOS</th>\n      <th>COD_CARRERA_UNI</th>\n      <th>COD_CENTRO_ESTUDIOS</th>\n      <th>COD_DEPARTAMENTO</th>\n      <th>NOM_DOMINIO_G</th>\n      <th>NOM_ESTADO_CIVIL</th>\n      <th>NOM_IDIOMA</th>\n      <th>NOM_GRADO_ESTUDIOS</th>\n      <th>NOM_CARRERA_UNI</th>\n      <th>NOM_CENTRO_ESTUDIOS</th>\n      <th>NOM_DEPARTAMENTO</th>\n      <th>SEXO</th>\n    </tr>\n  </thead>\n  <tbody>\n    <tr>\n      <th>0</th>\n      <td>2020</td>\n      <td>10101</td>\n      <td>4</td>\n      <td>2</td>\n      <td>29</td>\n      <td>6</td>\n      <td>4</td>\n      <td>10</td>\n      <td>332336</td>\n      <td>160000076</td>\n      <td>1</td>\n      <td>Sierra Norte</td>\n      <td>Soltero</td>\n      <td>Castellano</td>\n      <td>Superior Universitaria Completa</td>\n      <td>Turismo y Hotelería</td>\n      <td>Universidad Nacional Toribio Rodríguez de Mend...</td>\n      <td>Amazonas</td>\n      <td>Mujer</td>\n    </tr>\n    <tr>\n      <th>1</th>\n      <td>2020</td>\n      <td>10101</td>\n      <td>4</td>\n      <td>1</td>\n      <td>18</td>\n      <td>6</td>\n      <td>4</td>\n      <td>9</td>\n      <td>321026</td>\n      <td>160000076</td>\n      <td>1</td>\n      <td>Sierra Norte</td>\n      <td>Soltero</td>\n      <td>Castellano</td>\n      <td>Superior Universitaria Incompleta</td>\n      <td>Ciencias de la Comunicación</td>\n      <td>Universidad Nacional Toribio Rodríguez de Mend...</td>\n      <td>Amazonas</td>\n      <td>Hombre</td>\n    </tr>\n    <tr>\n      <th>2</th>\n      <td>2020</td>\n      <td>10101</td>\n      <td>4</td>\n      <td>2</td>\n      <td>51</td>\n      <td>5</td>\n      <td>4</td>\n      <td>10</td>\n      <td>121016</td>\n      <td>160000031</td>\n      <td>14</td>\n      <td>Sierra Norte</td>\n      <td>Separado</td>\n      <td>Castellano</td>\n      <td>Superior Universitaria Completa</td>\n      <td>Educación Secundaria</td>\n      <td>Universidad Nacional Pedro Ruíz Gallo</td>\n      <td>Lambayeque</td>\n      <td>Mujer</td>\n    </tr>\n    <tr>\n      <th>3</th>\n      <td>2020</td>\n      <td>10101</td>\n      <td>4</td>\n      <td>2</td>\n      <td>27</td>\n      <td>6</td>\n      <td>4</td>\n      <td>10</td>\n      <td>713016</td>\n      <td>260000024</td>\n      <td>15</td>\n      <td>Sierra Norte</td>\n      <td>Soltero</td>\n      <td>Castellano</td>\n      <td>Superior Universitaria Completa</td>\n      <td>Estomatología</td>\n      <td>Universidad Inca Garcilaso de la Vega</td>\n      <td>Lima</td>\n      <td>Mujer</td>\n    </tr>\n    <tr>\n      <th>4</th>\n      <td>2020</td>\n      <td>10101</td>\n      <td>4</td>\n      <td>2</td>\n      <td>24</td>\n      <td>6</td>\n      <td>4</td>\n      <td>10</td>\n      <td>711026</td>\n      <td>260000044</td>\n      <td>14</td>\n      <td>Sierra Norte</td>\n      <td>Soltero</td>\n      <td>Castellano</td>\n      <td>Superior Universitaria Completa</td>\n      <td>Medicina Humana</td>\n      <td>Universidad Particular de Chiclayo</td>\n      <td>Lambayeque</td>\n      <td>Mujer</td>\n    </tr>\n  </tbody>\n</table>\n</div>"
     },
     "metadata": {}
    }
   ]
  },
  {
   "cell_type": "markdown",
   "source": "## Guardamos nuestro df 2020 con los campos que necesitamos",
   "metadata": {
    "cell_id": "43b922eab5d8430bb1495753ce0fbed7",
    "tags": [],
    "deepnote_cell_type": "markdown",
    "deepnote_cell_height": 70
   }
  },
  {
   "cell_type": "code",
   "metadata": {
    "cell_id": "6eef23e13d6640f1bdac362ff76c2df1",
    "tags": [],
    "deepnote_to_be_reexecuted": false,
    "source_hash": "b8b75050",
    "execution_start": 1649541604141,
    "execution_millis": 235,
    "deepnote_cell_type": "code",
    "deepnote_cell_height": 130
   },
   "source": "df_2020_sup_all.to_csv('/work/enaho-personas-estudios-caracteristicas-data-science/DATA LIMPIA TODO/2020.csv', index = False)\nprint('Guardado!')",
   "execution_count": null,
   "outputs": [
    {
     "name": "stdout",
     "text": "Guardado!\n",
     "output_type": "stream"
    }
   ]
  },
  {
   "cell_type": "markdown",
   "source": "<a style='text-decoration:none;line-height:16px;display:flex;color:#5B5B62;padding:10px;justify-content:end;' href='https://deepnote.com?utm_source=created-in-deepnote-cell&projectId=61180446-cfea-4338-ac0e-81e50a732b69' target=\"_blank\">\n<img alt='Created in deepnote.com' style='display:inline;max-height:16px;margin:0px;margin-right:7.5px;' src='data:image/svg+xml;base64,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' > </img>\nCreated in <span style='font-weight:600;margin-left:4px;'>Deepnote</span></a>",
   "metadata": {
    "tags": [],
    "created_in_deepnote_cell": true,
    "deepnote_cell_type": "markdown"
   }
  }
 ],
 "nbformat": 4,
 "nbformat_minor": 2,
 "metadata": {
  "orig_nbformat": 2,
  "deepnote": {
   "is_reactive": false
  },
  "deepnote_notebook_id": "4ca8d852-830f-4091-ad95-01bf358aca96",
  "deepnote_execution_queue": []
 }
}