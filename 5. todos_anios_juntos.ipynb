{
 "cells": [
  {
   "cell_type": "markdown",
   "source": "# Juntamos en un dataframe los features más importantes",
   "metadata": {
    "cell_id": "42d7dc2a1ec44cdf9ef12a6addeb8fd8",
    "tags": [],
    "deepnote_cell_type": "markdown",
    "deepnote_cell_height": 134
   }
  },
  {
   "cell_type": "markdown",
   "source": "## Leenmos nuestras librerías",
   "metadata": {
    "cell_id": "e6338cfb9bf94bc3bf855a3d42671239",
    "tags": [],
    "deepnote_cell_type": "markdown",
    "deepnote_cell_height": 70
   }
  },
  {
   "cell_type": "code",
   "metadata": {
    "tags": [],
    "cell_id": "a6cb0a3c-954e-4b14-8fcf-4a30b79a508c",
    "deepnote_to_be_reexecuted": false,
    "source_hash": "c76c7c51",
    "execution_start": 1649620088051,
    "execution_millis": 1,
    "deepnote_cell_type": "code",
    "deepnote_cell_height": 99
   },
   "source": "import pandas as pd\nimport numpy as np",
   "outputs": [],
   "execution_count": null
  },
  {
   "cell_type": "markdown",
   "source": "## Leemos nuestros datos ENAHO limpios",
   "metadata": {
    "cell_id": "f997442467f246edb9bab7d6065ebeff",
    "tags": [],
    "deepnote_cell_type": "markdown",
    "deepnote_cell_height": 70
   }
  },
  {
   "cell_type": "code",
   "source": "# Leemos todos los datasets\ndf_2010 = pd.read_csv('/work/enaho-personas-estudios-caracteristicas-data-science/ENAHO-DATA-LIMPIA/2010.csv')\ndf_2011 = pd.read_csv('/work/enaho-personas-estudios-caracteristicas-data-science/ENAHO-DATA-LIMPIA/2011.csv')\ndf_2012 = pd.read_csv('/work/enaho-personas-estudios-caracteristicas-data-science/ENAHO-DATA-LIMPIA/2012.csv')\ndf_2013 = pd.read_csv('/work/enaho-personas-estudios-caracteristicas-data-science/ENAHO-DATA-LIMPIA/2013.csv')\ndf_2014 = pd.read_csv('/work/enaho-personas-estudios-caracteristicas-data-science/ENAHO-DATA-LIMPIA/2014.csv')\ndf_2015 = pd.read_csv('/work/enaho-personas-estudios-caracteristicas-data-science/ENAHO-DATA-LIMPIA/2015.csv')\ndf_2016 = pd.read_csv('/work/enaho-personas-estudios-caracteristicas-data-science/ENAHO-DATA-LIMPIA/2016.csv')\ndf_2017 = pd.read_csv('/work/enaho-personas-estudios-caracteristicas-data-science/ENAHO-DATA-LIMPIA/2017.csv')\ndf_2018 = pd.read_csv('/work/enaho-personas-estudios-caracteristicas-data-science/ENAHO-DATA-LIMPIA/2018.csv')\ndf_2019 = pd.read_csv('/work/enaho-personas-estudios-caracteristicas-data-science/ENAHO-DATA-LIMPIA/2019.csv')\ndf_2020 = pd.read_csv('/work/enaho-personas-estudios-caracteristicas-data-science/ENAHO-DATA-LIMPIA/2020.csv')\ndf_2021 = pd.read_csv('/work/enaho-personas-estudios-caracteristicas-data-science/ENAHO-DATA-LIMPIA/2021.csv')",
   "metadata": {
    "cell_id": "fa9ffebcdf894001bf4da16dbf30ddc9",
    "tags": [],
    "deepnote_to_be_reexecuted": false,
    "source_hash": "7fffd1c4",
    "execution_start": 1649626189414,
    "execution_millis": 384,
    "deepnote_cell_type": "code",
    "deepnote_cell_height": 297
   },
   "outputs": [],
   "execution_count": null
  },
  {
   "cell_type": "markdown",
   "source": "## Creamos nuestra función para unir todo y sacar los features más importantes",
   "metadata": {
    "cell_id": "515528b7c1654815a60262b2a409622d",
    "tags": [],
    "deepnote_cell_type": "markdown",
    "deepnote_cell_height": 110
   }
  },
  {
   "cell_type": "code",
   "source": "def get_df_principal_features(df, year_name):\n    if(str(year_name) == '2014'):\n        df['SEXO'] = df['SEXO'].apply(lambda x: 'Hombre' if x == 1 else 'Mujer')\n    else:\n        df['SEXO'] = df['SEXO'].str.title()\n    df['TOTAL'] = 1\n    df_final = df.groupby(by = ['NOM_GRADO_ESTUDIOS']).sum()['TOTAL'].to_frame()\n    df_final.reset_index(drop = False, inplace=True)\n    df_final.replace(['Maestria/doctorado', 'post-grado universitario', 'postgrado'], 'maestria_doctorado', inplace = True)\n    df_final.replace(['Superior Universitaria Completa', 'superior universitaria completa', 'sup. univ. completa'], 'sup_uni_completa', inplace = True)\n    df_final.replace(['Superior Universitaria Incompleta', 'superior universitaria incompleta', 'sup. univ. incompleta'], 'sup_uni_incompleta', inplace = True)\n    df_final.set_index('NOM_GRADO_ESTUDIOS', inplace = True)\n    df_final = df_final.T\n    df_final.reset_index(drop = True, inplace = True)\n    df_final['anio'] = year_name\n\n    df_psicologia = df[(df['NOM_CARRERA_UNI'].str.upper().isin(['PSICOLOGÍA', 'PSICOLOGIA']))\n        & (df['NOM_GRADO_ESTUDIOS'].isin(['superior universitaria incompleta', 'sup. univ. incompleta', 'Superior Universitaria Incompleta']))]\n    \n    df_final['pregrado_psicologia'] = df_psicologia.shape[0]\n    \n    df_sexo_psicologia = df_psicologia.groupby(by = 'SEXO').sum()['TOTAL']\n\n    df_final['hombres_pregrado_psicologia'] = df_sexo_psicologia['Hombre']\n    df_final['mujeres_pregrado_psicologia'] = df_sexo_psicologia['Mujer']\n\n    df_pregrado = df[df['NOM_GRADO_ESTUDIOS'].isin(['superior universitaria incompleta', 'sup. univ. incompleta', 'Superior Universitaria Incompleta'])]\n    df_pregrado_top_5_carreras = df_pregrado.groupby(by = 'NOM_CARRERA_UNI', as_index = False).sum().sort_values(by = 'TOTAL', ascending = False)\n    df_pregrado_top_5_carreras.reset_index(drop = True, inplace = True)\n    df_pregrado_top_5_carreras.set_index('NOM_CARRERA_UNI', inplace = True)\n    \n    df_final['pregrado_derecho'] = df_pregrado_top_5_carreras.loc['Derecho','TOTAL']\n    df_final['pregrado_ing_civil'] = df_pregrado_top_5_carreras.loc['Ingeniería Civil','TOTAL']\n    df_final['pregrado_contabilidad'] = df_pregrado_top_5_carreras.loc['Contabilidad','TOTAL']\n    df_final['pregrado_admin_empresas'] = df_pregrado_top_5_carreras.loc['Administración de Empresas','TOTAL']\n    df_final['pregrado_ing_sistemas'] = df_pregrado_top_5_carreras.loc['Ingeniería de Sistemas','TOTAL']\n    return df_final\n",
   "metadata": {
    "cell_id": "57b49a2e787e44d5ac4cc18f6eb86774",
    "tags": [],
    "deepnote_to_be_reexecuted": false,
    "source_hash": "66f2ee7b",
    "execution_start": 1649626193813,
    "execution_millis": 1,
    "deepnote_cell_type": "code",
    "deepnote_cell_height": 747
   },
   "outputs": [],
   "execution_count": null
  },
  {
   "cell_type": "markdown",
   "source": "## Creamos nuestro dataframe con la estructura final",
   "metadata": {
    "cell_id": "77bb9a006cd24b1c9b8c2105052a20a7",
    "tags": [],
    "deepnote_cell_type": "markdown",
    "deepnote_cell_height": 70
   }
  },
  {
   "cell_type": "code",
   "source": "df_junto = pd.DataFrame({\n    'anio': [],\n    'sup_uni_incompleta': [],\n    'sup_uni_completa': [],\n    'maestria_doctorado': [],\n    'pregrado_psicologia': [],\n    'hombres_pregrado_psicologia': [],\n    'mujeres_pregrado_psicologia': [],\n    'pregrado_derecho': [],\n    'pregrado_ing_civil': [],\n    'pregrado_contabilidad': [],\n    'pregrado_admin_empresas': [],\n    'pregrado_ing_sistemas': []\n})",
   "metadata": {
    "cell_id": "02eb54f333ca44fcb4c319f3371ea005",
    "tags": [],
    "deepnote_to_be_reexecuted": false,
    "source_hash": "a883fda3",
    "execution_start": 1649626198206,
    "execution_millis": 1,
    "deepnote_cell_type": "code",
    "deepnote_cell_height": 315
   },
   "outputs": [],
   "execution_count": null
  },
  {
   "cell_type": "markdown",
   "source": "## Unimos todos nuestros dataframes en uno solo",
   "metadata": {
    "cell_id": "706409c89258449a90b0a137561091b2",
    "tags": [],
    "deepnote_cell_type": "markdown",
    "deepnote_cell_height": 70
   }
  },
  {
   "cell_type": "code",
   "source": "df_junto = pd.concat([df_junto, get_df_principal_features(df_2010, '2010')], ignore_index=True)\ndf_junto = pd.concat([df_junto, get_df_principal_features(df_2011, '2011')], ignore_index=True)\ndf_junto = pd.concat([df_junto, get_df_principal_features(df_2012, '2012')], ignore_index=True)\ndf_junto = pd.concat([df_junto, get_df_principal_features(df_2013, '2013')], ignore_index=True)\ndf_junto = pd.concat([df_junto, get_df_principal_features(df_2014, '2014')], ignore_index=True)\ndf_junto = pd.concat([df_junto, get_df_principal_features(df_2015, '2015')], ignore_index=True)\ndf_junto = pd.concat([df_junto, get_df_principal_features(df_2016, '2016')], ignore_index=True)\ndf_junto = pd.concat([df_junto, get_df_principal_features(df_2017, '2017')], ignore_index=True)\ndf_junto = pd.concat([df_junto, get_df_principal_features(df_2018, '2018')], ignore_index=True)\ndf_junto = pd.concat([df_junto, get_df_principal_features(df_2019, '2019')], ignore_index=True)\ndf_junto = pd.concat([df_junto, get_df_principal_features(df_2020, '2020')], ignore_index=True)\ndf_junto = pd.concat([df_junto, get_df_principal_features(df_2021, '2021')], ignore_index=True)",
   "metadata": {
    "cell_id": "79b616c64abf4a08871439d87fec5bcc",
    "tags": [],
    "deepnote_to_be_reexecuted": false,
    "source_hash": "33530be9",
    "execution_start": 1649626200572,
    "execution_millis": 421,
    "deepnote_cell_type": "code",
    "deepnote_cell_height": 279
   },
   "outputs": [],
   "execution_count": null
  },
  {
   "cell_type": "markdown",
   "source": "## Luego de unir verificamos que estén todos los años",
   "metadata": {
    "cell_id": "5a03bbaffd7a4ad98ca6222ce85dd4c9",
    "tags": [],
    "deepnote_cell_type": "markdown",
    "deepnote_cell_height": 70
   }
  },
  {
   "cell_type": "code",
   "source": "df_junto.head()",
   "metadata": {
    "cell_id": "76459835a7dd4110b4acedfa1fe4a1e1",
    "tags": [],
    "deepnote_to_be_reexecuted": false,
    "source_hash": "f99a9a0",
    "execution_start": 1649626224236,
    "execution_millis": 55,
    "deepnote_cell_type": "code",
    "deepnote_cell_height": 408.59375
   },
   "outputs": [
    {
     "output_type": "execute_result",
     "execution_count": 190,
     "data": {
      "application/vnd.deepnote.dataframe.v3+json": {
       "column_count": 12,
       "row_count": 5,
       "columns": [
        {
         "name": "anio",
         "dtype": "object",
         "stats": {
          "unique_count": 5,
          "nan_count": 0,
          "categories": [
           {
            "name": "2010",
            "count": 1
           },
           {
            "name": "2011",
            "count": 1
           },
           {
            "name": "3 others",
            "count": 3
           }
          ]
         }
        },
        {
         "name": "sup_uni_incompleta",
         "dtype": "float64",
         "stats": {
          "unique_count": 5,
          "nan_count": 0,
          "min": "3393.0",
          "max": "5616.0",
          "histogram": [
           {
            "bin_start": 3393,
            "bin_end": 3615.3,
            "count": 1
           },
           {
            "bin_start": 3615.3,
            "bin_end": 3837.6,
            "count": 0
           },
           {
            "bin_start": 3837.6,
            "bin_end": 4059.9,
            "count": 1
           },
           {
            "bin_start": 4059.9,
            "bin_end": 4282.2,
            "count": 0
           },
           {
            "bin_start": 4282.2,
            "bin_end": 4504.5,
            "count": 1
           },
           {
            "bin_start": 4504.5,
            "bin_end": 4726.8,
            "count": 0
           },
           {
            "bin_start": 4726.8,
            "bin_end": 4949.1,
            "count": 0
           },
           {
            "bin_start": 4949.1,
            "bin_end": 5171.4,
            "count": 0
           },
           {
            "bin_start": 5171.4,
            "bin_end": 5393.7,
            "count": 1
           },
           {
            "bin_start": 5393.7,
            "bin_end": 5616,
            "count": 1
           }
          ]
         }
        },
        {
         "name": "sup_uni_completa",
         "dtype": "float64",
         "stats": {
          "unique_count": 5,
          "nan_count": 0,
          "min": "3109.0",
          "max": "5578.0",
          "histogram": [
           {
            "bin_start": 3109,
            "bin_end": 3355.9,
            "count": 1
           },
           {
            "bin_start": 3355.9,
            "bin_end": 3602.8,
            "count": 0
           },
           {
            "bin_start": 3602.8,
            "bin_end": 3849.7,
            "count": 1
           },
           {
            "bin_start": 3849.7,
            "bin_end": 4096.6,
            "count": 0
           },
           {
            "bin_start": 4096.6,
            "bin_end": 4343.5,
            "count": 1
           },
           {
            "bin_start": 4343.5,
            "bin_end": 4590.4,
            "count": 0
           },
           {
            "bin_start": 4590.4,
            "bin_end": 4837.3,
            "count": 0
           },
           {
            "bin_start": 4837.3,
            "bin_end": 5084.2,
            "count": 0
           },
           {
            "bin_start": 5084.2,
            "bin_end": 5331.1,
            "count": 0
           },
           {
            "bin_start": 5331.1,
            "bin_end": 5578,
            "count": 2
           }
          ]
         }
        },
        {
         "name": "maestria_doctorado",
         "dtype": "float64",
         "stats": {
          "unique_count": 5,
          "nan_count": 0,
          "min": "606.0",
          "max": "1179.0",
          "histogram": [
           {
            "bin_start": 606,
            "bin_end": 663.3,
            "count": 2
           },
           {
            "bin_start": 663.3,
            "bin_end": 720.6,
            "count": 0
           },
           {
            "bin_start": 720.6,
            "bin_end": 777.9,
            "count": 0
           },
           {
            "bin_start": 777.9,
            "bin_end": 835.2,
            "count": 1
           },
           {
            "bin_start": 835.2,
            "bin_end": 892.5,
            "count": 0
           },
           {
            "bin_start": 892.5,
            "bin_end": 949.8,
            "count": 0
           },
           {
            "bin_start": 949.8,
            "bin_end": 1007.0999999999999,
            "count": 0
           },
           {
            "bin_start": 1007.0999999999999,
            "bin_end": 1064.4,
            "count": 1
           },
           {
            "bin_start": 1064.4,
            "bin_end": 1121.6999999999998,
            "count": 0
           },
           {
            "bin_start": 1121.6999999999998,
            "bin_end": 1179,
            "count": 1
           }
          ]
         }
        },
        {
         "name": "pregrado_psicologia",
         "dtype": "float64",
         "stats": {
          "unique_count": 5,
          "nan_count": 0,
          "min": "67.0",
          "max": "146.0",
          "histogram": [
           {
            "bin_start": 67,
            "bin_end": 74.9,
            "count": 1
           },
           {
            "bin_start": 74.9,
            "bin_end": 82.8,
            "count": 0
           },
           {
            "bin_start": 82.8,
            "bin_end": 90.7,
            "count": 0
           },
           {
            "bin_start": 90.7,
            "bin_end": 98.6,
            "count": 0
           },
           {
            "bin_start": 98.6,
            "bin_end": 106.5,
            "count": 2
           },
           {
            "bin_start": 106.5,
            "bin_end": 114.4,
            "count": 0
           },
           {
            "bin_start": 114.4,
            "bin_end": 122.30000000000001,
            "count": 0
           },
           {
            "bin_start": 122.30000000000001,
            "bin_end": 130.2,
            "count": 0
           },
           {
            "bin_start": 130.2,
            "bin_end": 138.10000000000002,
            "count": 0
           },
           {
            "bin_start": 138.10000000000002,
            "bin_end": 146,
            "count": 2
           }
          ]
         }
        },
        {
         "name": "hombres_pregrado_psicologia",
         "dtype": "float64",
         "stats": {
          "unique_count": 5,
          "nan_count": 0,
          "min": "20.0",
          "max": "40.0",
          "histogram": [
           {
            "bin_start": 20,
            "bin_end": 22,
            "count": 1
           },
           {
            "bin_start": 22,
            "bin_end": 24,
            "count": 0
           },
           {
            "bin_start": 24,
            "bin_end": 26,
            "count": 0
           },
           {
            "bin_start": 26,
            "bin_end": 28,
            "count": 0
           },
           {
            "bin_start": 28,
            "bin_end": 30,
            "count": 0
           },
           {
            "bin_start": 30,
            "bin_end": 32,
            "count": 1
           },
           {
            "bin_start": 32,
            "bin_end": 34,
            "count": 0
           },
           {
            "bin_start": 34,
            "bin_end": 36,
            "count": 2
           },
           {
            "bin_start": 36,
            "bin_end": 38,
            "count": 0
           },
           {
            "bin_start": 38,
            "bin_end": 40,
            "count": 1
           }
          ]
         }
        },
        {
         "name": "mujeres_pregrado_psicologia",
         "dtype": "float64",
         "stats": {
          "unique_count": 5,
          "nan_count": 0,
          "min": "47.0",
          "max": "114.0",
          "histogram": [
           {
            "bin_start": 47,
            "bin_end": 53.7,
            "count": 1
           },
           {
            "bin_start": 53.7,
            "bin_end": 60.4,
            "count": 0
           },
           {
            "bin_start": 60.4,
            "bin_end": 67.1,
            "count": 1
           },
           {
            "bin_start": 67.1,
            "bin_end": 73.8,
            "count": 1
           },
           {
            "bin_start": 73.8,
            "bin_end": 80.5,
            "count": 0
           },
           {
            "bin_start": 80.5,
            "bin_end": 87.2,
            "count": 0
           },
           {
            "bin_start": 87.2,
            "bin_end": 93.9,
            "count": 0
           },
           {
            "bin_start": 93.9,
            "bin_end": 100.6,
            "count": 0
           },
           {
            "bin_start": 100.6,
            "bin_end": 107.30000000000001,
            "count": 1
           },
           {
            "bin_start": 107.30000000000001,
            "bin_end": 114,
            "count": 1
           }
          ]
         }
        },
        {
         "name": "pregrado_derecho",
         "dtype": "float64",
         "stats": {
          "unique_count": 5,
          "nan_count": 0,
          "min": "213.0",
          "max": "338.0",
          "histogram": [
           {
            "bin_start": 213,
            "bin_end": 225.5,
            "count": 1
           },
           {
            "bin_start": 225.5,
            "bin_end": 238,
            "count": 0
           },
           {
            "bin_start": 238,
            "bin_end": 250.5,
            "count": 0
           },
           {
            "bin_start": 250.5,
            "bin_end": 263,
            "count": 0
           },
           {
            "bin_start": 263,
            "bin_end": 275.5,
            "count": 1
           },
           {
            "bin_start": 275.5,
            "bin_end": 288,
            "count": 1
           },
           {
            "bin_start": 288,
            "bin_end": 300.5,
            "count": 0
           },
           {
            "bin_start": 300.5,
            "bin_end": 313,
            "count": 0
           },
           {
            "bin_start": 313,
            "bin_end": 325.5,
            "count": 1
           },
           {
            "bin_start": 325.5,
            "bin_end": 338,
            "count": 1
           }
          ]
         }
        },
        {
         "name": "pregrado_ing_civil",
         "dtype": "float64",
         "stats": {
          "unique_count": 5,
          "nan_count": 0,
          "min": "137.0",
          "max": "360.0",
          "histogram": [
           {
            "bin_start": 137,
            "bin_end": 159.3,
            "count": 1
           },
           {
            "bin_start": 159.3,
            "bin_end": 181.6,
            "count": 1
           },
           {
            "bin_start": 181.6,
            "bin_end": 203.9,
            "count": 0
           },
           {
            "bin_start": 203.9,
            "bin_end": 226.2,
            "count": 0
           },
           {
            "bin_start": 226.2,
            "bin_end": 248.5,
            "count": 1
           },
           {
            "bin_start": 248.5,
            "bin_end": 270.8,
            "count": 0
           },
           {
            "bin_start": 270.8,
            "bin_end": 293.1,
            "count": 0
           },
           {
            "bin_start": 293.1,
            "bin_end": 315.4,
            "count": 0
           },
           {
            "bin_start": 315.4,
            "bin_end": 337.70000000000005,
            "count": 1
           },
           {
            "bin_start": 337.70000000000005,
            "bin_end": 360,
            "count": 1
           }
          ]
         }
        },
        {
         "name": "pregrado_contabilidad",
         "dtype": "float64",
         "stats": {
          "unique_count": 5,
          "nan_count": 0,
          "min": "287.0",
          "max": "543.0",
          "histogram": [
           {
            "bin_start": 287,
            "bin_end": 312.6,
            "count": 1
           },
           {
            "bin_start": 312.6,
            "bin_end": 338.2,
            "count": 0
           },
           {
            "bin_start": 338.2,
            "bin_end": 363.8,
            "count": 1
           },
           {
            "bin_start": 363.8,
            "bin_end": 389.4,
            "count": 0
           },
           {
            "bin_start": 389.4,
            "bin_end": 415,
            "count": 0
           },
           {
            "bin_start": 415,
            "bin_end": 440.6,
            "count": 0
           },
           {
            "bin_start": 440.6,
            "bin_end": 466.20000000000005,
            "count": 1
           },
           {
            "bin_start": 466.20000000000005,
            "bin_end": 491.8,
            "count": 1
           },
           {
            "bin_start": 491.8,
            "bin_end": 517.4,
            "count": 0
           },
           {
            "bin_start": 517.4,
            "bin_end": 543,
            "count": 1
           }
          ]
         }
        },
        {
         "name": "pregrado_admin_empresas",
         "dtype": "float64",
         "stats": {
          "unique_count": 5,
          "nan_count": 0,
          "min": "242.0",
          "max": "416.0",
          "histogram": [
           {
            "bin_start": 242,
            "bin_end": 259.4,
            "count": 2
           },
           {
            "bin_start": 259.4,
            "bin_end": 276.8,
            "count": 0
           },
           {
            "bin_start": 276.8,
            "bin_end": 294.2,
            "count": 0
           },
           {
            "bin_start": 294.2,
            "bin_end": 311.6,
            "count": 0
           },
           {
            "bin_start": 311.6,
            "bin_end": 329,
            "count": 1
           },
           {
            "bin_start": 329,
            "bin_end": 346.4,
            "count": 0
           },
           {
            "bin_start": 346.4,
            "bin_end": 363.79999999999995,
            "count": 0
           },
           {
            "bin_start": 363.79999999999995,
            "bin_end": 381.2,
            "count": 1
           },
           {
            "bin_start": 381.2,
            "bin_end": 398.6,
            "count": 0
           },
           {
            "bin_start": 398.6,
            "bin_end": 416,
            "count": 1
           }
          ]
         }
        },
        {
         "name": "pregrado_ing_sistemas",
         "dtype": "float64",
         "stats": {
          "unique_count": 5,
          "nan_count": 0,
          "min": "155.0",
          "max": "233.0",
          "histogram": [
           {
            "bin_start": 155,
            "bin_end": 162.8,
            "count": 1
           },
           {
            "bin_start": 162.8,
            "bin_end": 170.6,
            "count": 1
           },
           {
            "bin_start": 170.6,
            "bin_end": 178.4,
            "count": 0
           },
           {
            "bin_start": 178.4,
            "bin_end": 186.2,
            "count": 0
           },
           {
            "bin_start": 186.2,
            "bin_end": 194,
            "count": 1
           },
           {
            "bin_start": 194,
            "bin_end": 201.8,
            "count": 0
           },
           {
            "bin_start": 201.8,
            "bin_end": 209.6,
            "count": 0
           },
           {
            "bin_start": 209.6,
            "bin_end": 217.4,
            "count": 0
           },
           {
            "bin_start": 217.4,
            "bin_end": 225.2,
            "count": 1
           },
           {
            "bin_start": 225.2,
            "bin_end": 233,
            "count": 1
           }
          ]
         }
        },
        {
         "name": "_deepnote_index_column",
         "dtype": "int64"
        }
       ],
       "rows": [
        {
         "anio": "2010",
         "sup_uni_incompleta": 3393,
         "sup_uni_completa": 3109,
         "maestria_doctorado": 606,
         "pregrado_psicologia": 67,
         "hombres_pregrado_psicologia": 20,
         "mujeres_pregrado_psicologia": 47,
         "pregrado_derecho": 213,
         "pregrado_ing_civil": 137,
         "pregrado_contabilidad": 287,
         "pregrado_admin_empresas": 244,
         "pregrado_ing_sistemas": 155,
         "_deepnote_index_column": 0
        },
        {
         "anio": "2011",
         "sup_uni_incompleta": 3964,
         "sup_uni_completa": 3713,
         "maestria_doctorado": 650,
         "pregrado_psicologia": 100,
         "hombres_pregrado_psicologia": 34,
         "mujeres_pregrado_psicologia": 66,
         "pregrado_derecho": 273,
         "pregrado_ing_civil": 179,
         "pregrado_contabilidad": 362,
         "pregrado_admin_empresas": 242,
         "pregrado_ing_sistemas": 187,
         "_deepnote_index_column": 1
        },
        {
         "anio": "2012",
         "sup_uni_incompleta": 4396,
         "sup_uni_completa": 4132,
         "maestria_doctorado": 809,
         "pregrado_psicologia": 106,
         "hombres_pregrado_psicologia": 35,
         "mujeres_pregrado_psicologia": 71,
         "pregrado_derecho": 276,
         "pregrado_ing_civil": 233,
         "pregrado_contabilidad": 442,
         "pregrado_admin_empresas": 316,
         "pregrado_ing_sistemas": 170,
         "_deepnote_index_column": 2
        },
        {
         "anio": "2013",
         "sup_uni_incompleta": 5345,
         "sup_uni_completa": 5557,
         "maestria_doctorado": 1060,
         "pregrado_psicologia": 144,
         "hombres_pregrado_psicologia": 30,
         "mujeres_pregrado_psicologia": 114,
         "pregrado_derecho": 313,
         "pregrado_ing_civil": 323,
         "pregrado_contabilidad": 488,
         "pregrado_admin_empresas": 372,
         "pregrado_ing_sistemas": 233,
         "_deepnote_index_column": 3
        },
        {
         "anio": "2014",
         "sup_uni_incompleta": 5616,
         "sup_uni_completa": 5578,
         "maestria_doctorado": 1179,
         "pregrado_psicologia": 146,
         "hombres_pregrado_psicologia": 40,
         "mujeres_pregrado_psicologia": 106,
         "pregrado_derecho": 338,
         "pregrado_ing_civil": 360,
         "pregrado_contabilidad": 543,
         "pregrado_admin_empresas": 416,
         "pregrado_ing_sistemas": 221,
         "_deepnote_index_column": 4
        }
       ]
      },
      "text/plain": "   anio  sup_uni_incompleta  sup_uni_completa  maestria_doctorado  \\\n0  2010              3393.0            3109.0               606.0   \n1  2011              3964.0            3713.0               650.0   \n2  2012              4396.0            4132.0               809.0   \n3  2013              5345.0            5557.0              1060.0   \n4  2014              5616.0            5578.0              1179.0   \n\n   pregrado_psicologia  hombres_pregrado_psicologia  \\\n0                 67.0                         20.0   \n1                100.0                         34.0   \n2                106.0                         35.0   \n3                144.0                         30.0   \n4                146.0                         40.0   \n\n   mujeres_pregrado_psicologia  pregrado_derecho  pregrado_ing_civil  \\\n0                         47.0             213.0               137.0   \n1                         66.0             273.0               179.0   \n2                         71.0             276.0               233.0   \n3                        114.0             313.0               323.0   \n4                        106.0             338.0               360.0   \n\n   pregrado_contabilidad  pregrado_admin_empresas  pregrado_ing_sistemas  \n0                  287.0                    244.0                  155.0  \n1                  362.0                    242.0                  187.0  \n2                  442.0                    316.0                  170.0  \n3                  488.0                    372.0                  233.0  \n4                  543.0                    416.0                  221.0  ",
      "text/html": "<div>\n<style scoped>\n    .dataframe tbody tr th:only-of-type {\n        vertical-align: middle;\n    }\n\n    .dataframe tbody tr th {\n        vertical-align: top;\n    }\n\n    .dataframe thead th {\n        text-align: right;\n    }\n</style>\n<table border=\"1\" class=\"dataframe\">\n  <thead>\n    <tr style=\"text-align: right;\">\n      <th></th>\n      <th>anio</th>\n      <th>sup_uni_incompleta</th>\n      <th>sup_uni_completa</th>\n      <th>maestria_doctorado</th>\n      <th>pregrado_psicologia</th>\n      <th>hombres_pregrado_psicologia</th>\n      <th>mujeres_pregrado_psicologia</th>\n      <th>pregrado_derecho</th>\n      <th>pregrado_ing_civil</th>\n      <th>pregrado_contabilidad</th>\n      <th>pregrado_admin_empresas</th>\n      <th>pregrado_ing_sistemas</th>\n    </tr>\n  </thead>\n  <tbody>\n    <tr>\n      <th>0</th>\n      <td>2010</td>\n      <td>3393.0</td>\n      <td>3109.0</td>\n      <td>606.0</td>\n      <td>67.0</td>\n      <td>20.0</td>\n      <td>47.0</td>\n      <td>213.0</td>\n      <td>137.0</td>\n      <td>287.0</td>\n      <td>244.0</td>\n      <td>155.0</td>\n    </tr>\n    <tr>\n      <th>1</th>\n      <td>2011</td>\n      <td>3964.0</td>\n      <td>3713.0</td>\n      <td>650.0</td>\n      <td>100.0</td>\n      <td>34.0</td>\n      <td>66.0</td>\n      <td>273.0</td>\n      <td>179.0</td>\n      <td>362.0</td>\n      <td>242.0</td>\n      <td>187.0</td>\n    </tr>\n    <tr>\n      <th>2</th>\n      <td>2012</td>\n      <td>4396.0</td>\n      <td>4132.0</td>\n      <td>809.0</td>\n      <td>106.0</td>\n      <td>35.0</td>\n      <td>71.0</td>\n      <td>276.0</td>\n      <td>233.0</td>\n      <td>442.0</td>\n      <td>316.0</td>\n      <td>170.0</td>\n    </tr>\n    <tr>\n      <th>3</th>\n      <td>2013</td>\n      <td>5345.0</td>\n      <td>5557.0</td>\n      <td>1060.0</td>\n      <td>144.0</td>\n      <td>30.0</td>\n      <td>114.0</td>\n      <td>313.0</td>\n      <td>323.0</td>\n      <td>488.0</td>\n      <td>372.0</td>\n      <td>233.0</td>\n    </tr>\n    <tr>\n      <th>4</th>\n      <td>2014</td>\n      <td>5616.0</td>\n      <td>5578.0</td>\n      <td>1179.0</td>\n      <td>146.0</td>\n      <td>40.0</td>\n      <td>106.0</td>\n      <td>338.0</td>\n      <td>360.0</td>\n      <td>543.0</td>\n      <td>416.0</td>\n      <td>221.0</td>\n    </tr>\n  </tbody>\n</table>\n</div>"
     },
     "metadata": {}
    }
   ],
   "execution_count": null
  },
  {
   "cell_type": "code",
   "source": "df_junto.tail()",
   "metadata": {
    "cell_id": "7f3c76a5c8224fec871c98ec9392a2a9",
    "tags": [],
    "deepnote_to_be_reexecuted": false,
    "source_hash": "151da31b",
    "execution_start": 1649626232195,
    "execution_millis": 79,
    "deepnote_cell_type": "code",
    "deepnote_cell_height": 408.59375
   },
   "outputs": [
    {
     "output_type": "execute_result",
     "execution_count": 191,
     "data": {
      "application/vnd.deepnote.dataframe.v3+json": {
       "column_count": 12,
       "row_count": 5,
       "columns": [
        {
         "name": "anio",
         "dtype": "object",
         "stats": {
          "unique_count": 5,
          "nan_count": 0,
          "categories": [
           {
            "name": "2017",
            "count": 1
           },
           {
            "name": "2018",
            "count": 1
           },
           {
            "name": "3 others",
            "count": 3
           }
          ]
         }
        },
        {
         "name": "sup_uni_incompleta",
         "dtype": "float64",
         "stats": {
          "unique_count": 5,
          "nan_count": 0,
          "min": "4885.0",
          "max": "6401.0",
          "histogram": [
           {
            "bin_start": 4885,
            "bin_end": 5036.6,
            "count": 1
           },
           {
            "bin_start": 5036.6,
            "bin_end": 5188.2,
            "count": 0
           },
           {
            "bin_start": 5188.2,
            "bin_end": 5339.8,
            "count": 0
           },
           {
            "bin_start": 5339.8,
            "bin_end": 5491.4,
            "count": 0
           },
           {
            "bin_start": 5491.4,
            "bin_end": 5643,
            "count": 0
           },
           {
            "bin_start": 5643,
            "bin_end": 5794.6,
            "count": 1
           },
           {
            "bin_start": 5794.6,
            "bin_end": 5946.2,
            "count": 1
           },
           {
            "bin_start": 5946.2,
            "bin_end": 6097.8,
            "count": 1
           },
           {
            "bin_start": 6097.8,
            "bin_end": 6249.4,
            "count": 0
           },
           {
            "bin_start": 6249.4,
            "bin_end": 6401,
            "count": 1
           }
          ]
         }
        },
        {
         "name": "sup_uni_completa",
         "dtype": "float64",
         "stats": {
          "unique_count": 5,
          "nan_count": 0,
          "min": "5718.0",
          "max": "7028.0",
          "histogram": [
           {
            "bin_start": 5718,
            "bin_end": 5849,
            "count": 1
           },
           {
            "bin_start": 5849,
            "bin_end": 5980,
            "count": 0
           },
           {
            "bin_start": 5980,
            "bin_end": 6111,
            "count": 0
           },
           {
            "bin_start": 6111,
            "bin_end": 6242,
            "count": 0
           },
           {
            "bin_start": 6242,
            "bin_end": 6373,
            "count": 0
           },
           {
            "bin_start": 6373,
            "bin_end": 6504,
            "count": 1
           },
           {
            "bin_start": 6504,
            "bin_end": 6635,
            "count": 0
           },
           {
            "bin_start": 6635,
            "bin_end": 6766,
            "count": 1
           },
           {
            "bin_start": 6766,
            "bin_end": 6897,
            "count": 0
           },
           {
            "bin_start": 6897,
            "bin_end": 7028,
            "count": 2
           }
          ]
         }
        },
        {
         "name": "maestria_doctorado",
         "dtype": "float64",
         "stats": {
          "unique_count": 4,
          "nan_count": 1,
          "min": "1024.0",
          "max": "1441.0",
          "histogram": [
           {
            "bin_start": 1024,
            "bin_end": 1065.7,
            "count": 1
           },
           {
            "bin_start": 1065.7,
            "bin_end": 1107.4,
            "count": 0
           },
           {
            "bin_start": 1107.4,
            "bin_end": 1149.1,
            "count": 0
           },
           {
            "bin_start": 1149.1,
            "bin_end": 1190.8,
            "count": 0
           },
           {
            "bin_start": 1190.8,
            "bin_end": 1232.5,
            "count": 1
           },
           {
            "bin_start": 1232.5,
            "bin_end": 1274.2,
            "count": 0
           },
           {
            "bin_start": 1274.2,
            "bin_end": 1315.9,
            "count": 0
           },
           {
            "bin_start": 1315.9,
            "bin_end": 1357.6,
            "count": 0
           },
           {
            "bin_start": 1357.6,
            "bin_end": 1399.3,
            "count": 0
           },
           {
            "bin_start": 1399.3,
            "bin_end": 1441,
            "count": 2
           }
          ]
         }
        },
        {
         "name": "pregrado_psicologia",
         "dtype": "float64",
         "stats": {
          "unique_count": 4,
          "nan_count": 0,
          "min": "120.0",
          "max": "260.0",
          "histogram": [
           {
            "bin_start": 120,
            "bin_end": 134,
            "count": 1
           },
           {
            "bin_start": 134,
            "bin_end": 148,
            "count": 0
           },
           {
            "bin_start": 148,
            "bin_end": 162,
            "count": 0
           },
           {
            "bin_start": 162,
            "bin_end": 176,
            "count": 0
           },
           {
            "bin_start": 176,
            "bin_end": 190,
            "count": 0
           },
           {
            "bin_start": 190,
            "bin_end": 204,
            "count": 0
           },
           {
            "bin_start": 204,
            "bin_end": 218,
            "count": 0
           },
           {
            "bin_start": 218,
            "bin_end": 232,
            "count": 1
           },
           {
            "bin_start": 232,
            "bin_end": 246,
            "count": 0
           },
           {
            "bin_start": 246,
            "bin_end": 260,
            "count": 3
           }
          ]
         }
        },
        {
         "name": "hombres_pregrado_psicologia",
         "dtype": "float64",
         "stats": {
          "unique_count": 5,
          "nan_count": 0,
          "min": "37.0",
          "max": "77.0",
          "histogram": [
           {
            "bin_start": 37,
            "bin_end": 41,
            "count": 1
           },
           {
            "bin_start": 41,
            "bin_end": 45,
            "count": 0
           },
           {
            "bin_start": 45,
            "bin_end": 49,
            "count": 0
           },
           {
            "bin_start": 49,
            "bin_end": 53,
            "count": 0
           },
           {
            "bin_start": 53,
            "bin_end": 57,
            "count": 0
           },
           {
            "bin_start": 57,
            "bin_end": 61,
            "count": 0
           },
           {
            "bin_start": 61,
            "bin_end": 65,
            "count": 1
           },
           {
            "bin_start": 65,
            "bin_end": 69,
            "count": 1
           },
           {
            "bin_start": 69,
            "bin_end": 73,
            "count": 0
           },
           {
            "bin_start": 73,
            "bin_end": 77,
            "count": 2
           }
          ]
         }
        },
        {
         "name": "mujeres_pregrado_psicologia",
         "dtype": "float64",
         "stats": {
          "unique_count": 4,
          "nan_count": 0,
          "min": "83.0",
          "max": "185.0",
          "histogram": [
           {
            "bin_start": 83,
            "bin_end": 93.2,
            "count": 1
           },
           {
            "bin_start": 93.2,
            "bin_end": 103.4,
            "count": 0
           },
           {
            "bin_start": 103.4,
            "bin_end": 113.6,
            "count": 0
           },
           {
            "bin_start": 113.6,
            "bin_end": 123.8,
            "count": 0
           },
           {
            "bin_start": 123.8,
            "bin_end": 134,
            "count": 0
           },
           {
            "bin_start": 134,
            "bin_end": 144.2,
            "count": 0
           },
           {
            "bin_start": 144.2,
            "bin_end": 154.39999999999998,
            "count": 0
           },
           {
            "bin_start": 154.39999999999998,
            "bin_end": 164.6,
            "count": 1
           },
           {
            "bin_start": 164.6,
            "bin_end": 174.8,
            "count": 0
           },
           {
            "bin_start": 174.8,
            "bin_end": 185,
            "count": 3
           }
          ]
         }
        },
        {
         "name": "pregrado_derecho",
         "dtype": "float64",
         "stats": {
          "unique_count": 5,
          "nan_count": 0,
          "min": "216.0",
          "max": "423.0",
          "histogram": [
           {
            "bin_start": 216,
            "bin_end": 236.7,
            "count": 1
           },
           {
            "bin_start": 236.7,
            "bin_end": 257.4,
            "count": 0
           },
           {
            "bin_start": 257.4,
            "bin_end": 278.1,
            "count": 0
           },
           {
            "bin_start": 278.1,
            "bin_end": 298.8,
            "count": 0
           },
           {
            "bin_start": 298.8,
            "bin_end": 319.5,
            "count": 0
           },
           {
            "bin_start": 319.5,
            "bin_end": 340.2,
            "count": 0
           },
           {
            "bin_start": 340.2,
            "bin_end": 360.9,
            "count": 0
           },
           {
            "bin_start": 360.9,
            "bin_end": 381.6,
            "count": 1
           },
           {
            "bin_start": 381.6,
            "bin_end": 402.29999999999995,
            "count": 2
           },
           {
            "bin_start": 402.29999999999995,
            "bin_end": 423,
            "count": 1
           }
          ]
         }
        },
        {
         "name": "pregrado_ing_civil",
         "dtype": "float64",
         "stats": {
          "unique_count": 4,
          "nan_count": 0,
          "min": "205.0",
          "max": "413.0",
          "histogram": [
           {
            "bin_start": 205,
            "bin_end": 225.8,
            "count": 1
           },
           {
            "bin_start": 225.8,
            "bin_end": 246.6,
            "count": 0
           },
           {
            "bin_start": 246.6,
            "bin_end": 267.4,
            "count": 0
           },
           {
            "bin_start": 267.4,
            "bin_end": 288.2,
            "count": 0
           },
           {
            "bin_start": 288.2,
            "bin_end": 309,
            "count": 1
           },
           {
            "bin_start": 309,
            "bin_end": 329.8,
            "count": 0
           },
           {
            "bin_start": 329.8,
            "bin_end": 350.6,
            "count": 0
           },
           {
            "bin_start": 350.6,
            "bin_end": 371.4,
            "count": 0
           },
           {
            "bin_start": 371.4,
            "bin_end": 392.20000000000005,
            "count": 0
           },
           {
            "bin_start": 392.20000000000005,
            "bin_end": 413,
            "count": 3
           }
          ]
         }
        },
        {
         "name": "pregrado_contabilidad",
         "dtype": "float64",
         "stats": {
          "unique_count": 5,
          "nan_count": 0,
          "min": "174.0",
          "max": "498.0",
          "histogram": [
           {
            "bin_start": 174,
            "bin_end": 206.4,
            "count": 1
           },
           {
            "bin_start": 206.4,
            "bin_end": 238.8,
            "count": 0
           },
           {
            "bin_start": 238.8,
            "bin_end": 271.2,
            "count": 0
           },
           {
            "bin_start": 271.2,
            "bin_end": 303.6,
            "count": 1
           },
           {
            "bin_start": 303.6,
            "bin_end": 336,
            "count": 0
           },
           {
            "bin_start": 336,
            "bin_end": 368.4,
            "count": 0
           },
           {
            "bin_start": 368.4,
            "bin_end": 400.79999999999995,
            "count": 1
           },
           {
            "bin_start": 400.79999999999995,
            "bin_end": 433.2,
            "count": 0
           },
           {
            "bin_start": 433.2,
            "bin_end": 465.59999999999997,
            "count": 0
           },
           {
            "bin_start": 465.59999999999997,
            "bin_end": 498,
            "count": 2
           }
          ]
         }
        },
        {
         "name": "pregrado_admin_empresas",
         "dtype": "float64",
         "stats": {
          "unique_count": 5,
          "nan_count": 0,
          "min": "139.0",
          "max": "334.0",
          "histogram": [
           {
            "bin_start": 139,
            "bin_end": 158.5,
            "count": 1
           },
           {
            "bin_start": 158.5,
            "bin_end": 178,
            "count": 0
           },
           {
            "bin_start": 178,
            "bin_end": 197.5,
            "count": 0
           },
           {
            "bin_start": 197.5,
            "bin_end": 217,
            "count": 0
           },
           {
            "bin_start": 217,
            "bin_end": 236.5,
            "count": 1
           },
           {
            "bin_start": 236.5,
            "bin_end": 256,
            "count": 0
           },
           {
            "bin_start": 256,
            "bin_end": 275.5,
            "count": 0
           },
           {
            "bin_start": 275.5,
            "bin_end": 295,
            "count": 0
           },
           {
            "bin_start": 295,
            "bin_end": 314.5,
            "count": 1
           },
           {
            "bin_start": 314.5,
            "bin_end": 334,
            "count": 2
           }
          ]
         }
        },
        {
         "name": "pregrado_ing_sistemas",
         "dtype": "float64",
         "stats": {
          "unique_count": 5,
          "nan_count": 0,
          "min": "93.0",
          "max": "218.0",
          "histogram": [
           {
            "bin_start": 93,
            "bin_end": 105.5,
            "count": 1
           },
           {
            "bin_start": 105.5,
            "bin_end": 118,
            "count": 0
           },
           {
            "bin_start": 118,
            "bin_end": 130.5,
            "count": 0
           },
           {
            "bin_start": 130.5,
            "bin_end": 143,
            "count": 0
           },
           {
            "bin_start": 143,
            "bin_end": 155.5,
            "count": 1
           },
           {
            "bin_start": 155.5,
            "bin_end": 168,
            "count": 0
           },
           {
            "bin_start": 168,
            "bin_end": 180.5,
            "count": 1
           },
           {
            "bin_start": 180.5,
            "bin_end": 193,
            "count": 0
           },
           {
            "bin_start": 193,
            "bin_end": 205.5,
            "count": 1
           },
           {
            "bin_start": 205.5,
            "bin_end": 218,
            "count": 1
           }
          ]
         }
        },
        {
         "name": "_deepnote_index_column",
         "dtype": "int64"
        }
       ],
       "rows": [
        {
         "anio": "2017",
         "sup_uni_incompleta": 6035,
         "sup_uni_completa": 6450,
         "maestria_doctorado": "nan",
         "pregrado_psicologia": 247,
         "hombres_pregrado_psicologia": 62,
         "mujeres_pregrado_psicologia": 185,
         "pregrado_derecho": 396,
         "pregrado_ing_civil": 413,
         "pregrado_contabilidad": 491,
         "pregrado_admin_empresas": 326,
         "pregrado_ing_sistemas": 199,
         "_deepnote_index_column": 7
        },
        {
         "anio": "2018",
         "sup_uni_incompleta": 6401,
         "sup_uni_completa": 7028,
         "maestria_doctorado": 1441,
         "pregrado_psicologia": 260,
         "hombres_pregrado_psicologia": 77,
         "mujeres_pregrado_psicologia": 183,
         "pregrado_derecho": 423,
         "pregrado_ing_civil": 413,
         "pregrado_contabilidad": 498,
         "pregrado_admin_empresas": 334,
         "pregrado_ing_sistemas": 218,
         "_deepnote_index_column": 8
        },
        {
         "anio": "2019",
         "sup_uni_incompleta": 5853,
         "sup_uni_completa": 6685,
         "maestria_doctorado": 1404,
         "pregrado_psicologia": 260,
         "hombres_pregrado_psicologia": 75,
         "mujeres_pregrado_psicologia": 185,
         "pregrado_derecho": 401,
         "pregrado_ing_civil": 404,
         "pregrado_contabilidad": 398,
         "pregrado_admin_empresas": 311,
         "pregrado_ing_sistemas": 168,
         "_deepnote_index_column": 9
        },
        {
         "anio": "2020",
         "sup_uni_incompleta": 5779,
         "sup_uni_completa": 6930,
         "maestria_doctorado": 1219,
         "pregrado_psicologia": 120,
         "hombres_pregrado_psicologia": 37,
         "mujeres_pregrado_psicologia": 83,
         "pregrado_derecho": 216,
         "pregrado_ing_civil": 205,
         "pregrado_contabilidad": 174,
         "pregrado_admin_empresas": 139,
         "pregrado_ing_sistemas": 93,
         "_deepnote_index_column": 10
        },
        {
         "anio": "2021",
         "sup_uni_incompleta": 4885,
         "sup_uni_completa": 5718,
         "maestria_doctorado": 1024,
         "pregrado_psicologia": 221,
         "hombres_pregrado_psicologia": 66,
         "mujeres_pregrado_psicologia": 155,
         "pregrado_derecho": 365,
         "pregrado_ing_civil": 302,
         "pregrado_contabilidad": 289,
         "pregrado_admin_empresas": 236,
         "pregrado_ing_sistemas": 153,
         "_deepnote_index_column": 11
        }
       ]
      },
      "text/plain": "    anio  sup_uni_incompleta  sup_uni_completa  maestria_doctorado  \\\n7   2017              6035.0            6450.0                 NaN   \n8   2018              6401.0            7028.0              1441.0   \n9   2019              5853.0            6685.0              1404.0   \n10  2020              5779.0            6930.0              1219.0   \n11  2021              4885.0            5718.0              1024.0   \n\n    pregrado_psicologia  hombres_pregrado_psicologia  \\\n7                 247.0                         62.0   \n8                 260.0                         77.0   \n9                 260.0                         75.0   \n10                120.0                         37.0   \n11                221.0                         66.0   \n\n    mujeres_pregrado_psicologia  pregrado_derecho  pregrado_ing_civil  \\\n7                         185.0             396.0               413.0   \n8                         183.0             423.0               413.0   \n9                         185.0             401.0               404.0   \n10                         83.0             216.0               205.0   \n11                        155.0             365.0               302.0   \n\n    pregrado_contabilidad  pregrado_admin_empresas  pregrado_ing_sistemas  \n7                   491.0                    326.0                  199.0  \n8                   498.0                    334.0                  218.0  \n9                   398.0                    311.0                  168.0  \n10                  174.0                    139.0                   93.0  \n11                  289.0                    236.0                  153.0  ",
      "text/html": "<div>\n<style scoped>\n    .dataframe tbody tr th:only-of-type {\n        vertical-align: middle;\n    }\n\n    .dataframe tbody tr th {\n        vertical-align: top;\n    }\n\n    .dataframe thead th {\n        text-align: right;\n    }\n</style>\n<table border=\"1\" class=\"dataframe\">\n  <thead>\n    <tr style=\"text-align: right;\">\n      <th></th>\n      <th>anio</th>\n      <th>sup_uni_incompleta</th>\n      <th>sup_uni_completa</th>\n      <th>maestria_doctorado</th>\n      <th>pregrado_psicologia</th>\n      <th>hombres_pregrado_psicologia</th>\n      <th>mujeres_pregrado_psicologia</th>\n      <th>pregrado_derecho</th>\n      <th>pregrado_ing_civil</th>\n      <th>pregrado_contabilidad</th>\n      <th>pregrado_admin_empresas</th>\n      <th>pregrado_ing_sistemas</th>\n    </tr>\n  </thead>\n  <tbody>\n    <tr>\n      <th>7</th>\n      <td>2017</td>\n      <td>6035.0</td>\n      <td>6450.0</td>\n      <td>NaN</td>\n      <td>247.0</td>\n      <td>62.0</td>\n      <td>185.0</td>\n      <td>396.0</td>\n      <td>413.0</td>\n      <td>491.0</td>\n      <td>326.0</td>\n      <td>199.0</td>\n    </tr>\n    <tr>\n      <th>8</th>\n      <td>2018</td>\n      <td>6401.0</td>\n      <td>7028.0</td>\n      <td>1441.0</td>\n      <td>260.0</td>\n      <td>77.0</td>\n      <td>183.0</td>\n      <td>423.0</td>\n      <td>413.0</td>\n      <td>498.0</td>\n      <td>334.0</td>\n      <td>218.0</td>\n    </tr>\n    <tr>\n      <th>9</th>\n      <td>2019</td>\n      <td>5853.0</td>\n      <td>6685.0</td>\n      <td>1404.0</td>\n      <td>260.0</td>\n      <td>75.0</td>\n      <td>185.0</td>\n      <td>401.0</td>\n      <td>404.0</td>\n      <td>398.0</td>\n      <td>311.0</td>\n      <td>168.0</td>\n    </tr>\n    <tr>\n      <th>10</th>\n      <td>2020</td>\n      <td>5779.0</td>\n      <td>6930.0</td>\n      <td>1219.0</td>\n      <td>120.0</td>\n      <td>37.0</td>\n      <td>83.0</td>\n      <td>216.0</td>\n      <td>205.0</td>\n      <td>174.0</td>\n      <td>139.0</td>\n      <td>93.0</td>\n    </tr>\n    <tr>\n      <th>11</th>\n      <td>2021</td>\n      <td>4885.0</td>\n      <td>5718.0</td>\n      <td>1024.0</td>\n      <td>221.0</td>\n      <td>66.0</td>\n      <td>155.0</td>\n      <td>365.0</td>\n      <td>302.0</td>\n      <td>289.0</td>\n      <td>236.0</td>\n      <td>153.0</td>\n    </tr>\n  </tbody>\n</table>\n</div>"
     },
     "metadata": {}
    }
   ],
   "execution_count": null
  },
  {
   "cell_type": "markdown",
   "source": "# Guardamos nuestro dataframe que engloba los mejores features",
   "metadata": {
    "cell_id": "d65eecbd3bea45f7a033c05c72fcabf1",
    "tags": [],
    "deepnote_cell_type": "markdown",
    "deepnote_cell_height": 134
   }
  },
  {
   "cell_type": "code",
   "source": "df_junto.to_csv('/work/enaho-personas-estudios-caracteristicas-data-science/ENAHO_2010_2021.csv', index = False)\nprint('Guardado!')",
   "metadata": {
    "cell_id": "7e0ff99dc3c24498952cc5439f8f0549",
    "tags": [],
    "deepnote_to_be_reexecuted": false,
    "source_hash": "e1bd0097",
    "execution_start": 1649626474430,
    "execution_millis": 170,
    "owner_user_id": "8d9f0df6-25cd-43a2-97e1-a283b68026ae",
    "deepnote_cell_type": "code",
    "deepnote_cell_height": 130
   },
   "outputs": [
    {
     "name": "stdout",
     "text": "Guardado!\n",
     "output_type": "stream"
    }
   ],
   "execution_count": null
  },
  {
   "cell_type": "markdown",
   "source": "<a style='text-decoration:none;line-height:16px;display:flex;color:#5B5B62;padding:10px;justify-content:end;' href='https://deepnote.com?utm_source=created-in-deepnote-cell&projectId=61180446-cfea-4338-ac0e-81e50a732b69' target=\"_blank\">\n<img alt='Created in deepnote.com' style='display:inline;max-height:16px;margin:0px;margin-right:7.5px;' src='data:image/svg+xml;base64,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' > </img>\nCreated in <span style='font-weight:600;margin-left:4px;'>Deepnote</span></a>",
   "metadata": {
    "tags": [],
    "created_in_deepnote_cell": true,
    "deepnote_cell_type": "markdown"
   }
  }
 ],
 "nbformat": 4,
 "nbformat_minor": 2,
 "metadata": {
  "orig_nbformat": 2,
  "deepnote": {
   "is_reactive": false
  },
  "deepnote_notebook_id": "b079f4c4-087e-4662-b114-29d916c297f4",
  "deepnote_execution_queue": []
 }
}