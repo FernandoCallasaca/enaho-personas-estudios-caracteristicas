{
 "cells": [
  {
   "cell_type": "markdown",
   "source": "# Sacamos el código de instituciones educativas y carreras de edu. superior y técnico",
   "metadata": {
    "cell_id": "9602bf1eb9c145aca52890c4501471cc",
    "tags": [],
    "owner_user_id": "8d9f0df6-25cd-43a2-97e1-a283b68026ae",
    "deepnote_cell_type": "markdown",
    "deepnote_cell_height": 134
   }
  },
  {
   "cell_type": "markdown",
   "source": "## Prepare out environment",
   "metadata": {
    "tags": [],
    "cell_id": "7069259c-0a7f-41fd-8b25-35a65b70a6dd",
    "deepnote_to_be_reexecuted": false,
    "source_hash": "9b82ee11",
    "execution_start": 1649511668117,
    "execution_millis": 1,
    "deepnote_cell_type": "markdown",
    "deepnote_cell_height": 70
   }
  },
  {
   "cell_type": "markdown",
   "source": "> Importamos nuestra única librería",
   "metadata": {
    "cell_id": "eb04a1ea17c44e14b52f62e4d46142e0",
    "tags": [],
    "deepnote_cell_type": "markdown",
    "deepnote_cell_height": 66.390625
   }
  },
  {
   "cell_type": "code",
   "metadata": {
    "cell_id": "7962bf48fc7a4b978f8b14e9b61ecbb8",
    "tags": [],
    "deepnote_to_be_reexecuted": false,
    "source_hash": "9b82ee11",
    "execution_start": 1649540111159,
    "execution_millis": 15,
    "deepnote_cell_type": "code",
    "deepnote_cell_height": 81
   },
   "source": "import pandas as pd",
   "execution_count": null,
   "outputs": []
  },
  {
   "cell_type": "markdown",
   "source": "> Instalamos **openpyxl** para poder leer, crear y modificar ficheros Excel.",
   "metadata": {
    "cell_id": "0c72a9a71ac0464683655c18f27973e1",
    "tags": [],
    "deepnote_cell_type": "markdown",
    "deepnote_cell_height": 66.390625
   }
  },
  {
   "cell_type": "code",
   "metadata": {
    "cell_id": "9f63c2144883447f9ea13118a8172ab4",
    "tags": [],
    "deepnote_to_be_reexecuted": false,
    "source_hash": "fd303774",
    "execution_start": 1649540111205,
    "execution_millis": 9687,
    "deepnote_cell_type": "code",
    "deepnote_cell_height": 290
   },
   "source": "# install openpyxl\n!pip install openpyxl",
   "execution_count": null,
   "outputs": [
    {
     "name": "stdout",
     "text": "Collecting openpyxl\n  Downloading openpyxl-3.0.9-py2.py3-none-any.whl (242 kB)\n\u001b[K     |████████████████████████████████| 242 kB 10.2 MB/s \n\u001b[?25hCollecting et-xmlfile\n  Downloading et_xmlfile-1.1.0-py3-none-any.whl (4.7 kB)\nInstalling collected packages: et-xmlfile, openpyxl\nSuccessfully installed et-xmlfile-1.1.0 openpyxl-3.0.9\n\u001b[33mWARNING: You are using pip version 20.1.1; however, version 22.0.4 is available.\nYou should consider upgrading via the '/root/venv/bin/python -m pip install --upgrade pip' command.\u001b[0m\n",
     "output_type": "stream"
    }
   ]
  },
  {
   "cell_type": "markdown",
   "source": "## Leemos nuestros excels y sacamos la información necesaria",
   "metadata": {
    "cell_id": "44051033a34c4e9abe365e7f4f653f2a",
    "tags": [],
    "deepnote_cell_type": "markdown",
    "deepnote_cell_height": 70
   }
  },
  {
   "cell_type": "markdown",
   "source": "> Creamos nuestros paths",
   "metadata": {
    "cell_id": "ea584586397a45559c4d787fdaa8b11a",
    "tags": [],
    "deepnote_cell_type": "markdown",
    "deepnote_cell_height": 66.390625
   }
  },
  {
   "cell_type": "code",
   "metadata": {
    "cell_id": "741f7e48ac884affa38f09fcc7125997",
    "tags": [],
    "deepnote_to_be_reexecuted": false,
    "source_hash": "f4c1bcb5",
    "execution_start": 1649540120918,
    "execution_millis": 9787631,
    "deepnote_cell_type": "code",
    "deepnote_cell_height": 99
   },
   "source": "path_file_inst_educ = '/work/enaho-personas-estudios-caracteristicas-data-science/archivos_csv_complementos/ENAHO-CODIGO DE INSTITUCIONES EDUCATIVAS.xlsx'\npath_carr_educ_sup_tec = '/work/enaho-personas-estudios-caracteristicas-data-science/archivos_csv_complementos/ENAHO-CLASIFICADOR DE CARRERAS DE EDUC SUPERIOR Y TECNICO PRODUCTIVAS.xlsx'",
   "execution_count": null,
   "outputs": []
  },
  {
   "cell_type": "markdown",
   "source": "### CENTROS DE ESTUDIO",
   "metadata": {
    "cell_id": "aae24bdbc15947f79fb42f7e1962e07a",
    "tags": [],
    "deepnote_cell_type": "markdown",
    "deepnote_cell_height": 62
   }
  },
  {
   "cell_type": "markdown",
   "source": "> Leemos nuestro excel **ENAHO-CODIGO DE INSTITUCIONES EDUCATIVAS**\n>\n> Y sacamos el sheel código y nombre",
   "metadata": {
    "cell_id": "043d3e38f97447cea8b8b31adfb0e031",
    "tags": [],
    "deepnote_cell_type": "markdown",
    "deepnote_cell_height": 102.796875
   }
  },
  {
   "cell_type": "code",
   "metadata": {
    "cell_id": "10b77772b5de4b10bd465e553e814371",
    "tags": [],
    "deepnote_to_be_reexecuted": false,
    "source_hash": "ed535819",
    "execution_start": 1649540120947,
    "execution_millis": 1921,
    "deepnote_cell_type": "code",
    "deepnote_cell_height": 618
   },
   "source": "df_inst_educ = pd.read_excel(io = path_file_inst_educ, sheet_name='codigos_nombres')\ndf_inst_educ",
   "execution_count": null,
   "outputs": [
    {
     "output_type": "execute_result",
     "execution_count": 4,
     "data": {
      "application/vnd.deepnote.dataframe.v3+json": {
       "column_count": 2,
       "row_count": 3328,
       "columns": [
        {
         "name": "codigo",
         "dtype": "int64",
         "stats": {
          "unique_count": 3327,
          "nan_count": 0,
          "min": "130064030",
          "max": "271468180",
          "histogram": [
           {
            "bin_start": 130064030,
            "bin_end": 144204445,
            "count": 961
           },
           {
            "bin_start": 144204445,
            "bin_end": 158344860,
            "count": 115
           },
           {
            "bin_start": 158344860,
            "bin_end": 172485275,
            "count": 89
           },
           {
            "bin_start": 172485275,
            "bin_end": 186625690,
            "count": 8
           },
           {
            "bin_start": 186625690,
            "bin_end": 200766105,
            "count": 0
           },
           {
            "bin_start": 200766105,
            "bin_end": 214906520,
            "count": 0
           },
           {
            "bin_start": 214906520,
            "bin_end": 229046935,
            "count": 0
           },
           {
            "bin_start": 229046935,
            "bin_end": 243187350,
            "count": 1949
           },
           {
            "bin_start": 243187350,
            "bin_end": 257327765,
            "count": 104
           },
           {
            "bin_start": 257327765,
            "bin_end": 271468180,
            "count": 102
           }
          ]
         }
        },
        {
         "name": "nombres",
         "dtype": "object",
         "stats": {
          "unique_count": 2948,
          "nan_count": 0,
          "categories": [
           {
            "name": "Centros De Educación Técnico Productiva (CETPRO) San Martin De Porres",
            "count": 10
           },
           {
            "name": "Centros De Educación Técnico Productiva (CETPRO) Maria Auxiliadora",
            "count": 9
           },
           {
            "name": "2946 others",
            "count": 3309
           }
          ]
         }
        },
        {
         "name": "_deepnote_index_column",
         "dtype": "int64"
        }
       ],
       "rows": [
        {
         "codigo": 160000022,
         "nombres": "Universidad Nacional Agraria de la Selva",
         "_deepnote_index_column": 0
        },
        {
         "codigo": 160000007,
         "nombres": "Universidad Nacional Agraria La Molina",
         "_deepnote_index_column": 1
        },
        {
         "codigo": 160000075,
         "nombres": "Universidad Nacional Amazónica de Madre de Dios",
         "_deepnote_index_column": 2
        },
        {
         "codigo": 160000127,
         "nombres": "Universidad Nacional Autónoma Altoandina de Tarma",
         "_deepnote_index_column": 3
        },
        {
         "codigo": 160000126,
         "nombres": "Universidad Nacional Autónoma de Alto Amazonas",
         "_deepnote_index_column": 4
        },
        {
         "codigo": 160000120,
         "nombres": "Universidad Nacional Autónoma de Chota",
         "_deepnote_index_column": 5
        },
        {
         "codigo": 160000128,
         "nombres": "Universidad Nacional Autónoma de Huanta",
         "_deepnote_index_column": 6
        },
        {
         "codigo": 160000138,
         "nombres": "Universidad Nacional Autónoma de Tayacaja Daniel Hernández Morillo",
         "_deepnote_index_column": 7
        },
        {
         "codigo": 160000139,
         "nombres": "Universidad Nacional Ciro Alegría",
         "_deepnote_index_column": 8
        },
        {
         "codigo": 160000026,
         "nombres": "Universidad Nacional Daniel Alcídes Carrión",
         "_deepnote_index_column": 9
        }
       ]
      },
      "text/plain": "         codigo                                            nombres\n0     160000022           Universidad Nacional Agraria de la Selva\n1     160000007             Universidad Nacional Agraria La Molina\n2     160000075    Universidad Nacional Amazónica de Madre de Dios\n3     160000127  Universidad Nacional Autónoma Altoandina de Tarma\n4     160000126     Universidad Nacional Autónoma de Alto Amazonas\n...         ...                                                ...\n3323  271061605  Educación Superior Artística - ESFA Diego Quis...\n3324  270920231  Educación Superior Artística - ESFA Gudelia Al...\n3325  271114578  Educación Superior Artística - ESFA Musica Jos...\n3326  270920488  Educación Superior Artística - ESFA Richard Wa...\n3327  271123488  Educación Superior Artística - ESFA Theodoro V...\n\n[3328 rows x 2 columns]",
      "text/html": "<div>\n<style scoped>\n    .dataframe tbody tr th:only-of-type {\n        vertical-align: middle;\n    }\n\n    .dataframe tbody tr th {\n        vertical-align: top;\n    }\n\n    .dataframe thead th {\n        text-align: right;\n    }\n</style>\n<table border=\"1\" class=\"dataframe\">\n  <thead>\n    <tr style=\"text-align: right;\">\n      <th></th>\n      <th>codigo</th>\n      <th>nombres</th>\n    </tr>\n  </thead>\n  <tbody>\n    <tr>\n      <th>0</th>\n      <td>160000022</td>\n      <td>Universidad Nacional Agraria de la Selva</td>\n    </tr>\n    <tr>\n      <th>1</th>\n      <td>160000007</td>\n      <td>Universidad Nacional Agraria La Molina</td>\n    </tr>\n    <tr>\n      <th>2</th>\n      <td>160000075</td>\n      <td>Universidad Nacional Amazónica de Madre de Dios</td>\n    </tr>\n    <tr>\n      <th>3</th>\n      <td>160000127</td>\n      <td>Universidad Nacional Autónoma Altoandina de Tarma</td>\n    </tr>\n    <tr>\n      <th>4</th>\n      <td>160000126</td>\n      <td>Universidad Nacional Autónoma de Alto Amazonas</td>\n    </tr>\n    <tr>\n      <th>...</th>\n      <td>...</td>\n      <td>...</td>\n    </tr>\n    <tr>\n      <th>3323</th>\n      <td>271061605</td>\n      <td>Educación Superior Artística - ESFA Diego Quis...</td>\n    </tr>\n    <tr>\n      <th>3324</th>\n      <td>270920231</td>\n      <td>Educación Superior Artística - ESFA Gudelia Al...</td>\n    </tr>\n    <tr>\n      <th>3325</th>\n      <td>271114578</td>\n      <td>Educación Superior Artística - ESFA Musica Jos...</td>\n    </tr>\n    <tr>\n      <th>3326</th>\n      <td>270920488</td>\n      <td>Educación Superior Artística - ESFA Richard Wa...</td>\n    </tr>\n    <tr>\n      <th>3327</th>\n      <td>271123488</td>\n      <td>Educación Superior Artística - ESFA Theodoro V...</td>\n    </tr>\n  </tbody>\n</table>\n<p>3328 rows × 2 columns</p>\n</div>"
     },
     "metadata": {}
    }
   ]
  },
  {
   "cell_type": "markdown",
   "source": "> Renombramos el campo 'código' para hacer 'merge' mucho más facil en posteriores notebooks",
   "metadata": {
    "cell_id": "d37b399ee72a49a899ee9b42ab4e6b5e",
    "tags": [],
    "deepnote_cell_type": "markdown",
    "deepnote_cell_height": 66.390625
   }
  },
  {
   "cell_type": "code",
   "metadata": {
    "cell_id": "5509a8b3cd1f4d9185b7008d0de8ff6c",
    "tags": [],
    "deepnote_to_be_reexecuted": false,
    "source_hash": "a0ce2e1f",
    "execution_start": 1649540122922,
    "execution_millis": 29,
    "deepnote_cell_type": "code",
    "deepnote_cell_height": 618
   },
   "source": "df_inst_educ.rename(columns = {'codigo': 'COD_CENTRO_ESTUDIOS', 'nombres': 'NOM_CENTRO_ESTUDIOS'}, inplace = True)\ndf_inst_educ",
   "execution_count": null,
   "outputs": [
    {
     "output_type": "execute_result",
     "execution_count": 5,
     "data": {
      "application/vnd.deepnote.dataframe.v3+json": {
       "column_count": 2,
       "row_count": 3328,
       "columns": [
        {
         "name": "COD_CENTRO_ESTUDIOS",
         "dtype": "int64",
         "stats": {
          "unique_count": 3327,
          "nan_count": 0,
          "min": "130064030",
          "max": "271468180",
          "histogram": [
           {
            "bin_start": 130064030,
            "bin_end": 144204445,
            "count": 961
           },
           {
            "bin_start": 144204445,
            "bin_end": 158344860,
            "count": 115
           },
           {
            "bin_start": 158344860,
            "bin_end": 172485275,
            "count": 89
           },
           {
            "bin_start": 172485275,
            "bin_end": 186625690,
            "count": 8
           },
           {
            "bin_start": 186625690,
            "bin_end": 200766105,
            "count": 0
           },
           {
            "bin_start": 200766105,
            "bin_end": 214906520,
            "count": 0
           },
           {
            "bin_start": 214906520,
            "bin_end": 229046935,
            "count": 0
           },
           {
            "bin_start": 229046935,
            "bin_end": 243187350,
            "count": 1949
           },
           {
            "bin_start": 243187350,
            "bin_end": 257327765,
            "count": 104
           },
           {
            "bin_start": 257327765,
            "bin_end": 271468180,
            "count": 102
           }
          ]
         }
        },
        {
         "name": "NOM_CENTRO_ESTUDIOS",
         "dtype": "object",
         "stats": {
          "unique_count": 2948,
          "nan_count": 0,
          "categories": [
           {
            "name": "Centros De Educación Técnico Productiva (CETPRO) San Martin De Porres",
            "count": 10
           },
           {
            "name": "Centros De Educación Técnico Productiva (CETPRO) Maria Auxiliadora",
            "count": 9
           },
           {
            "name": "2946 others",
            "count": 3309
           }
          ]
         }
        },
        {
         "name": "_deepnote_index_column",
         "dtype": "int64"
        }
       ],
       "rows": [
        {
         "COD_CENTRO_ESTUDIOS": 160000022,
         "NOM_CENTRO_ESTUDIOS": "Universidad Nacional Agraria de la Selva",
         "_deepnote_index_column": 0
        },
        {
         "COD_CENTRO_ESTUDIOS": 160000007,
         "NOM_CENTRO_ESTUDIOS": "Universidad Nacional Agraria La Molina",
         "_deepnote_index_column": 1
        },
        {
         "COD_CENTRO_ESTUDIOS": 160000075,
         "NOM_CENTRO_ESTUDIOS": "Universidad Nacional Amazónica de Madre de Dios",
         "_deepnote_index_column": 2
        },
        {
         "COD_CENTRO_ESTUDIOS": 160000127,
         "NOM_CENTRO_ESTUDIOS": "Universidad Nacional Autónoma Altoandina de Tarma",
         "_deepnote_index_column": 3
        },
        {
         "COD_CENTRO_ESTUDIOS": 160000126,
         "NOM_CENTRO_ESTUDIOS": "Universidad Nacional Autónoma de Alto Amazonas",
         "_deepnote_index_column": 4
        },
        {
         "COD_CENTRO_ESTUDIOS": 160000120,
         "NOM_CENTRO_ESTUDIOS": "Universidad Nacional Autónoma de Chota",
         "_deepnote_index_column": 5
        },
        {
         "COD_CENTRO_ESTUDIOS": 160000128,
         "NOM_CENTRO_ESTUDIOS": "Universidad Nacional Autónoma de Huanta",
         "_deepnote_index_column": 6
        },
        {
         "COD_CENTRO_ESTUDIOS": 160000138,
         "NOM_CENTRO_ESTUDIOS": "Universidad Nacional Autónoma de Tayacaja Daniel Hernández Morillo",
         "_deepnote_index_column": 7
        },
        {
         "COD_CENTRO_ESTUDIOS": 160000139,
         "NOM_CENTRO_ESTUDIOS": "Universidad Nacional Ciro Alegría",
         "_deepnote_index_column": 8
        },
        {
         "COD_CENTRO_ESTUDIOS": 160000026,
         "NOM_CENTRO_ESTUDIOS": "Universidad Nacional Daniel Alcídes Carrión",
         "_deepnote_index_column": 9
        }
       ]
      },
      "text/plain": "      COD_CENTRO_ESTUDIOS                                NOM_CENTRO_ESTUDIOS\n0               160000022           Universidad Nacional Agraria de la Selva\n1               160000007             Universidad Nacional Agraria La Molina\n2               160000075    Universidad Nacional Amazónica de Madre de Dios\n3               160000127  Universidad Nacional Autónoma Altoandina de Tarma\n4               160000126     Universidad Nacional Autónoma de Alto Amazonas\n...                   ...                                                ...\n3323            271061605  Educación Superior Artística - ESFA Diego Quis...\n3324            270920231  Educación Superior Artística - ESFA Gudelia Al...\n3325            271114578  Educación Superior Artística - ESFA Musica Jos...\n3326            270920488  Educación Superior Artística - ESFA Richard Wa...\n3327            271123488  Educación Superior Artística - ESFA Theodoro V...\n\n[3328 rows x 2 columns]",
      "text/html": "<div>\n<style scoped>\n    .dataframe tbody tr th:only-of-type {\n        vertical-align: middle;\n    }\n\n    .dataframe tbody tr th {\n        vertical-align: top;\n    }\n\n    .dataframe thead th {\n        text-align: right;\n    }\n</style>\n<table border=\"1\" class=\"dataframe\">\n  <thead>\n    <tr style=\"text-align: right;\">\n      <th></th>\n      <th>COD_CENTRO_ESTUDIOS</th>\n      <th>NOM_CENTRO_ESTUDIOS</th>\n    </tr>\n  </thead>\n  <tbody>\n    <tr>\n      <th>0</th>\n      <td>160000022</td>\n      <td>Universidad Nacional Agraria de la Selva</td>\n    </tr>\n    <tr>\n      <th>1</th>\n      <td>160000007</td>\n      <td>Universidad Nacional Agraria La Molina</td>\n    </tr>\n    <tr>\n      <th>2</th>\n      <td>160000075</td>\n      <td>Universidad Nacional Amazónica de Madre de Dios</td>\n    </tr>\n    <tr>\n      <th>3</th>\n      <td>160000127</td>\n      <td>Universidad Nacional Autónoma Altoandina de Tarma</td>\n    </tr>\n    <tr>\n      <th>4</th>\n      <td>160000126</td>\n      <td>Universidad Nacional Autónoma de Alto Amazonas</td>\n    </tr>\n    <tr>\n      <th>...</th>\n      <td>...</td>\n      <td>...</td>\n    </tr>\n    <tr>\n      <th>3323</th>\n      <td>271061605</td>\n      <td>Educación Superior Artística - ESFA Diego Quis...</td>\n    </tr>\n    <tr>\n      <th>3324</th>\n      <td>270920231</td>\n      <td>Educación Superior Artística - ESFA Gudelia Al...</td>\n    </tr>\n    <tr>\n      <th>3325</th>\n      <td>271114578</td>\n      <td>Educación Superior Artística - ESFA Musica Jos...</td>\n    </tr>\n    <tr>\n      <th>3326</th>\n      <td>270920488</td>\n      <td>Educación Superior Artística - ESFA Richard Wa...</td>\n    </tr>\n    <tr>\n      <th>3327</th>\n      <td>271123488</td>\n      <td>Educación Superior Artística - ESFA Theodoro V...</td>\n    </tr>\n  </tbody>\n</table>\n<p>3328 rows × 2 columns</p>\n</div>"
     },
     "metadata": {}
    }
   ]
  },
  {
   "cell_type": "markdown",
   "source": "### CARRERAS EDUC. SUPERIOR TÉCNICAS",
   "metadata": {
    "cell_id": "3cbfbdc24f384da1ba9a10f52c90e96b",
    "tags": [],
    "deepnote_cell_type": "markdown",
    "deepnote_cell_height": 62
   }
  },
  {
   "cell_type": "markdown",
   "source": "> Leemos nuestro excel **ENAHO-CLASIFICADOR DE CARRERAS DE EDUC SUPERIOR Y TECNICO PRODUCTIVAS**\n>\n> Y sacamos el sheel código y nombre",
   "metadata": {
    "cell_id": "bbfb6232bb4e45fd8ae22e7dbb1e895f",
    "tags": [],
    "deepnote_cell_type": "markdown",
    "deepnote_cell_height": 102.796875
   }
  },
  {
   "cell_type": "code",
   "metadata": {
    "cell_id": "1991235f00c546f9b5ea1bb785ceb1b9",
    "tags": [],
    "deepnote_to_be_reexecuted": false,
    "source_hash": "532ad7b0",
    "execution_start": 1649540122957,
    "execution_millis": 419,
    "deepnote_cell_type": "code",
    "deepnote_cell_height": 618
   },
   "source": "df_carr_educ_sup_tec = pd.read_excel(io = path_carr_educ_sup_tec, sheet_name='codigos_carr_educ_sup')\ndf_carr_educ_sup_tec",
   "execution_count": null,
   "outputs": [
    {
     "output_type": "execute_result",
     "execution_count": 6,
     "data": {
      "application/vnd.deepnote.dataframe.v3+json": {
       "column_count": 2,
       "row_count": 1110,
       "columns": [
        {
         "name": "codigo",
         "dtype": "int64",
         "stats": {
          "unique_count": 1110,
          "nan_count": 0,
          "min": "11015",
          "max": "821033",
          "histogram": [
           {
            "bin_start": 11015,
            "bin_end": 92016.8,
            "count": 17
           },
           {
            "bin_start": 92016.8,
            "bin_end": 173018.6,
            "count": 121
           },
           {
            "bin_start": 173018.6,
            "bin_end": 254020.40000000002,
            "count": 114
           },
           {
            "bin_start": 254020.40000000002,
            "bin_end": 335022.2,
            "count": 221
           },
           {
            "bin_start": 335022.2,
            "bin_end": 416024,
            "count": 116
           },
           {
            "bin_start": 416024,
            "bin_end": 497025.80000000005,
            "count": 70
           },
           {
            "bin_start": 497025.80000000005,
            "bin_end": 578027.6,
            "count": 280
           },
           {
            "bin_start": 578027.6,
            "bin_end": 659029.4,
            "count": 98
           },
           {
            "bin_start": 659029.4,
            "bin_end": 740031.2000000001,
            "count": 50
           },
           {
            "bin_start": 740031.2000000001,
            "bin_end": 821033,
            "count": 23
           }
          ]
         }
        },
        {
         "name": "nombre",
         "dtype": "object",
         "stats": {
          "unique_count": 1009,
          "nan_count": 0,
          "categories": [
           {
            "name": "Electricidad",
            "count": 4
           },
           {
            "name": "Electrónica",
            "count": 4
           },
           {
            "name": "1007 others",
            "count": 1102
           }
          ]
         }
        },
        {
         "name": "_deepnote_index_column",
         "dtype": "int64"
        }
       ],
       "rows": [
        {
         "codigo": 111016,
         "nombre": "Educación Básica, Inicial y Primaria",
         "_deepnote_index_column": 0
        },
        {
         "codigo": 111026,
         "nombre": "Educación Inicial",
         "_deepnote_index_column": 1
        },
        {
         "codigo": 111036,
         "nombre": "Educación Inicial -  Niñez Temprana",
         "_deepnote_index_column": 2
        },
        {
         "codigo": 111046,
         "nombre": "Educación Inicial -  Retardo Mental",
         "_deepnote_index_column": 3
        },
        {
         "codigo": 111056,
         "nombre": "Educación Inicial Bilingüe",
         "_deepnote_index_column": 4
        },
        {
         "codigo": 111066,
         "nombre": "Educación Inicial y Arte",
         "_deepnote_index_column": 5
        },
        {
         "codigo": 111076,
         "nombre": "Educación Intercultural Bilingüe: Nivel Inicial y Nivel Primaria",
         "_deepnote_index_column": 6
        },
        {
         "codigo": 112016,
         "nombre": "Educación Primaria",
         "_deepnote_index_column": 7
        },
        {
         "codigo": 112026,
         "nombre": "Educación Primaria -  Educación Básica Alternativa",
         "_deepnote_index_column": 8
        },
        {
         "codigo": 112036,
         "nombre": "Educación Primaria - Inglés",
         "_deepnote_index_column": 9
        }
       ]
      },
      "text/plain": "      codigo                                             nombre\n0     111016               Educación Básica, Inicial y Primaria\n1     111026                                  Educación Inicial\n2     111036                Educación Inicial -  Niñez Temprana\n3     111046                Educación Inicial -  Retardo Mental\n4     111056                         Educación Inicial Bilingüe\n...      ...                                                ...\n1105  812033                                         Peluquería\n1106  812043                      Peluquería y Belleza Personal\n1107  821013  Conducción de Vehículos Motorizados y Mecánica...\n1108  821023      Conducción de Vehículos y Electricidad Básica\n1109  821033                        Operador de Equipos Pesados\n\n[1110 rows x 2 columns]",
      "text/html": "<div>\n<style scoped>\n    .dataframe tbody tr th:only-of-type {\n        vertical-align: middle;\n    }\n\n    .dataframe tbody tr th {\n        vertical-align: top;\n    }\n\n    .dataframe thead th {\n        text-align: right;\n    }\n</style>\n<table border=\"1\" class=\"dataframe\">\n  <thead>\n    <tr style=\"text-align: right;\">\n      <th></th>\n      <th>codigo</th>\n      <th>nombre</th>\n    </tr>\n  </thead>\n  <tbody>\n    <tr>\n      <th>0</th>\n      <td>111016</td>\n      <td>Educación Básica, Inicial y Primaria</td>\n    </tr>\n    <tr>\n      <th>1</th>\n      <td>111026</td>\n      <td>Educación Inicial</td>\n    </tr>\n    <tr>\n      <th>2</th>\n      <td>111036</td>\n      <td>Educación Inicial -  Niñez Temprana</td>\n    </tr>\n    <tr>\n      <th>3</th>\n      <td>111046</td>\n      <td>Educación Inicial -  Retardo Mental</td>\n    </tr>\n    <tr>\n      <th>4</th>\n      <td>111056</td>\n      <td>Educación Inicial Bilingüe</td>\n    </tr>\n    <tr>\n      <th>...</th>\n      <td>...</td>\n      <td>...</td>\n    </tr>\n    <tr>\n      <th>1105</th>\n      <td>812033</td>\n      <td>Peluquería</td>\n    </tr>\n    <tr>\n      <th>1106</th>\n      <td>812043</td>\n      <td>Peluquería y Belleza Personal</td>\n    </tr>\n    <tr>\n      <th>1107</th>\n      <td>821013</td>\n      <td>Conducción de Vehículos Motorizados y Mecánica...</td>\n    </tr>\n    <tr>\n      <th>1108</th>\n      <td>821023</td>\n      <td>Conducción de Vehículos y Electricidad Básica</td>\n    </tr>\n    <tr>\n      <th>1109</th>\n      <td>821033</td>\n      <td>Operador de Equipos Pesados</td>\n    </tr>\n  </tbody>\n</table>\n<p>1110 rows × 2 columns</p>\n</div>"
     },
     "metadata": {}
    }
   ]
  },
  {
   "cell_type": "markdown",
   "source": "> Renombramos el campo 'código' para que en posteriores hagamos 'merge' fácilmente",
   "metadata": {
    "cell_id": "e02bb7f2dbe54ae291f99c06f5279a42",
    "tags": [],
    "deepnote_cell_type": "markdown",
    "deepnote_cell_height": 66.390625
   }
  },
  {
   "cell_type": "code",
   "metadata": {
    "cell_id": "790fd145f7c548d087ee548ed312f3c8",
    "tags": [],
    "deepnote_to_be_reexecuted": false,
    "source_hash": "dd5d67cf",
    "execution_start": 1649540123390,
    "execution_millis": 20,
    "deepnote_cell_type": "code",
    "deepnote_cell_height": 618
   },
   "source": "df_carr_educ_sup_tec.rename(columns = {'codigo': 'COD_CARRERA_UNI', 'nombre': 'NOM_CARRERA_UNI'}, inplace = True)\ndf_carr_educ_sup_tec",
   "execution_count": null,
   "outputs": [
    {
     "output_type": "execute_result",
     "execution_count": 7,
     "data": {
      "application/vnd.deepnote.dataframe.v3+json": {
       "column_count": 2,
       "row_count": 1110,
       "columns": [
        {
         "name": "COD_CARRERA_UNI",
         "dtype": "int64",
         "stats": {
          "unique_count": 1110,
          "nan_count": 0,
          "min": "11015",
          "max": "821033",
          "histogram": [
           {
            "bin_start": 11015,
            "bin_end": 92016.8,
            "count": 17
           },
           {
            "bin_start": 92016.8,
            "bin_end": 173018.6,
            "count": 121
           },
           {
            "bin_start": 173018.6,
            "bin_end": 254020.40000000002,
            "count": 114
           },
           {
            "bin_start": 254020.40000000002,
            "bin_end": 335022.2,
            "count": 221
           },
           {
            "bin_start": 335022.2,
            "bin_end": 416024,
            "count": 116
           },
           {
            "bin_start": 416024,
            "bin_end": 497025.80000000005,
            "count": 70
           },
           {
            "bin_start": 497025.80000000005,
            "bin_end": 578027.6,
            "count": 280
           },
           {
            "bin_start": 578027.6,
            "bin_end": 659029.4,
            "count": 98
           },
           {
            "bin_start": 659029.4,
            "bin_end": 740031.2000000001,
            "count": 50
           },
           {
            "bin_start": 740031.2000000001,
            "bin_end": 821033,
            "count": 23
           }
          ]
         }
        },
        {
         "name": "NOM_CARRERA_UNI",
         "dtype": "object",
         "stats": {
          "unique_count": 1009,
          "nan_count": 0,
          "categories": [
           {
            "name": "Electricidad",
            "count": 4
           },
           {
            "name": "Electrónica",
            "count": 4
           },
           {
            "name": "1007 others",
            "count": 1102
           }
          ]
         }
        },
        {
         "name": "_deepnote_index_column",
         "dtype": "int64"
        }
       ],
       "rows": [
        {
         "COD_CARRERA_UNI": 111016,
         "NOM_CARRERA_UNI": "Educación Básica, Inicial y Primaria",
         "_deepnote_index_column": 0
        },
        {
         "COD_CARRERA_UNI": 111026,
         "NOM_CARRERA_UNI": "Educación Inicial",
         "_deepnote_index_column": 1
        },
        {
         "COD_CARRERA_UNI": 111036,
         "NOM_CARRERA_UNI": "Educación Inicial -  Niñez Temprana",
         "_deepnote_index_column": 2
        },
        {
         "COD_CARRERA_UNI": 111046,
         "NOM_CARRERA_UNI": "Educación Inicial -  Retardo Mental",
         "_deepnote_index_column": 3
        },
        {
         "COD_CARRERA_UNI": 111056,
         "NOM_CARRERA_UNI": "Educación Inicial Bilingüe",
         "_deepnote_index_column": 4
        },
        {
         "COD_CARRERA_UNI": 111066,
         "NOM_CARRERA_UNI": "Educación Inicial y Arte",
         "_deepnote_index_column": 5
        },
        {
         "COD_CARRERA_UNI": 111076,
         "NOM_CARRERA_UNI": "Educación Intercultural Bilingüe: Nivel Inicial y Nivel Primaria",
         "_deepnote_index_column": 6
        },
        {
         "COD_CARRERA_UNI": 112016,
         "NOM_CARRERA_UNI": "Educación Primaria",
         "_deepnote_index_column": 7
        },
        {
         "COD_CARRERA_UNI": 112026,
         "NOM_CARRERA_UNI": "Educación Primaria -  Educación Básica Alternativa",
         "_deepnote_index_column": 8
        },
        {
         "COD_CARRERA_UNI": 112036,
         "NOM_CARRERA_UNI": "Educación Primaria - Inglés",
         "_deepnote_index_column": 9
        }
       ]
      },
      "text/plain": "      COD_CARRERA_UNI                                    NOM_CARRERA_UNI\n0              111016               Educación Básica, Inicial y Primaria\n1              111026                                  Educación Inicial\n2              111036                Educación Inicial -  Niñez Temprana\n3              111046                Educación Inicial -  Retardo Mental\n4              111056                         Educación Inicial Bilingüe\n...               ...                                                ...\n1105           812033                                         Peluquería\n1106           812043                      Peluquería y Belleza Personal\n1107           821013  Conducción de Vehículos Motorizados y Mecánica...\n1108           821023      Conducción de Vehículos y Electricidad Básica\n1109           821033                        Operador de Equipos Pesados\n\n[1110 rows x 2 columns]",
      "text/html": "<div>\n<style scoped>\n    .dataframe tbody tr th:only-of-type {\n        vertical-align: middle;\n    }\n\n    .dataframe tbody tr th {\n        vertical-align: top;\n    }\n\n    .dataframe thead th {\n        text-align: right;\n    }\n</style>\n<table border=\"1\" class=\"dataframe\">\n  <thead>\n    <tr style=\"text-align: right;\">\n      <th></th>\n      <th>COD_CARRERA_UNI</th>\n      <th>NOM_CARRERA_UNI</th>\n    </tr>\n  </thead>\n  <tbody>\n    <tr>\n      <th>0</th>\n      <td>111016</td>\n      <td>Educación Básica, Inicial y Primaria</td>\n    </tr>\n    <tr>\n      <th>1</th>\n      <td>111026</td>\n      <td>Educación Inicial</td>\n    </tr>\n    <tr>\n      <th>2</th>\n      <td>111036</td>\n      <td>Educación Inicial -  Niñez Temprana</td>\n    </tr>\n    <tr>\n      <th>3</th>\n      <td>111046</td>\n      <td>Educación Inicial -  Retardo Mental</td>\n    </tr>\n    <tr>\n      <th>4</th>\n      <td>111056</td>\n      <td>Educación Inicial Bilingüe</td>\n    </tr>\n    <tr>\n      <th>...</th>\n      <td>...</td>\n      <td>...</td>\n    </tr>\n    <tr>\n      <th>1105</th>\n      <td>812033</td>\n      <td>Peluquería</td>\n    </tr>\n    <tr>\n      <th>1106</th>\n      <td>812043</td>\n      <td>Peluquería y Belleza Personal</td>\n    </tr>\n    <tr>\n      <th>1107</th>\n      <td>821013</td>\n      <td>Conducción de Vehículos Motorizados y Mecánica...</td>\n    </tr>\n    <tr>\n      <th>1108</th>\n      <td>821023</td>\n      <td>Conducción de Vehículos y Electricidad Básica</td>\n    </tr>\n    <tr>\n      <th>1109</th>\n      <td>821033</td>\n      <td>Operador de Equipos Pesados</td>\n    </tr>\n  </tbody>\n</table>\n<p>1110 rows × 2 columns</p>\n</div>"
     },
     "metadata": {}
    }
   ]
  },
  {
   "cell_type": "markdown",
   "source": "### DEPARTAMENTOS\n\nCabe mencionar que se sacó del **DICCIONARIO_[anio]** de variables",
   "metadata": {
    "cell_id": "d6e77e03055e471895f3357ab606d746",
    "tags": [],
    "deepnote_cell_type": "markdown",
    "deepnote_cell_height": 100.390625
   }
  },
  {
   "cell_type": "markdown",
   "source": "- 0: Pase\n- 1: Amazonas\n- 2: Ancash\n- 3: Apurímac\n- 4: Arequipa\n- 5: Ayacucho\n- 6: Cajamarca\n- 8: Cusco\n- 9: Huancavelica\n- 10: Huánuco\n- 11: Ica\n- 12: Junín\n- 13: La Libertad\n- 14: Lambayeque\n- 15: Lima\n- 16: Loreto\n- 17: Madre de Dios\n- 18: Moquegua\n- 19: Pasco\n- 20: Piura\n- 21: Puno\n- 22: San Martín\n- 23: Tacna\n- 24: Tumbes\n- 25: Ucayali",
   "metadata": {
    "cell_id": "1f524826923d47af92b8495d2520e26d",
    "tags": [],
    "deepnote_cell_type": "markdown",
    "deepnote_cell_height": 679
   }
  },
  {
   "cell_type": "code",
   "metadata": {
    "cell_id": "f3e222d9aee94d8a9622c5aeca70c3e1",
    "tags": [],
    "deepnote_to_be_reexecuted": false,
    "source_hash": "d450b953",
    "execution_start": 1649540123433,
    "execution_millis": 15,
    "deepnote_cell_type": "code",
    "deepnote_cell_height": 726
   },
   "source": "df_cod_departamentos = pd.DataFrame(\n    {\n        'COD_DEPARTAMENTO': [1, 2, 3, 4, 5, 6, 8, 9, 10, 11, 12, 13, 14, 15, 16, 17, 18, 19, 20, 21, 22, 23, 24, 25],\n        'NOM_DEPARTAMENTO': [\"Amazonas\",\"Ancash\",\"Apurímac\",\"Arequipa\",\"Ayacucho\",\"Cajamarca\",\"Cusco\",\"Huancavelica\",\"Huánuco\",\"Ica\",\"Junín\",\"La Libertad\",\"Lambayeque\",\"Lima\",\"Loreto\",\"Madre de Dios\",\"Moquegua\",\"Pasco\",\"Piura\",\"Puno\",\"San Martín\",\"Tacna\",\"Tumbes\",\"Ucayali\"]\n    }\n)\n\ndf_cod_departamentos",
   "execution_count": null,
   "outputs": [
    {
     "output_type": "execute_result",
     "execution_count": 8,
     "data": {
      "application/vnd.deepnote.dataframe.v3+json": {
       "column_count": 2,
       "row_count": 24,
       "columns": [
        {
         "name": "COD_DEPARTAMENTO",
         "dtype": "int64",
         "stats": {
          "unique_count": 24,
          "nan_count": 0,
          "min": "1",
          "max": "25",
          "histogram": [
           {
            "bin_start": 1,
            "bin_end": 3.4,
            "count": 3
           },
           {
            "bin_start": 3.4,
            "bin_end": 5.8,
            "count": 2
           },
           {
            "bin_start": 5.8,
            "bin_end": 8.2,
            "count": 2
           },
           {
            "bin_start": 8.2,
            "bin_end": 10.6,
            "count": 2
           },
           {
            "bin_start": 10.6,
            "bin_end": 13,
            "count": 2
           },
           {
            "bin_start": 13,
            "bin_end": 15.399999999999999,
            "count": 3
           },
           {
            "bin_start": 15.399999999999999,
            "bin_end": 17.8,
            "count": 2
           },
           {
            "bin_start": 17.8,
            "bin_end": 20.2,
            "count": 3
           },
           {
            "bin_start": 20.2,
            "bin_end": 22.599999999999998,
            "count": 2
           },
           {
            "bin_start": 22.599999999999998,
            "bin_end": 25,
            "count": 3
           }
          ]
         }
        },
        {
         "name": "NOM_DEPARTAMENTO",
         "dtype": "object",
         "stats": {
          "unique_count": 24,
          "nan_count": 0,
          "categories": [
           {
            "name": "Amazonas",
            "count": 1
           },
           {
            "name": "Ancash",
            "count": 1
           },
           {
            "name": "22 others",
            "count": 22
           }
          ]
         }
        },
        {
         "name": "_deepnote_index_column",
         "dtype": "int64"
        }
       ],
       "rows": [
        {
         "COD_DEPARTAMENTO": 1,
         "NOM_DEPARTAMENTO": "Amazonas",
         "_deepnote_index_column": 0
        },
        {
         "COD_DEPARTAMENTO": 2,
         "NOM_DEPARTAMENTO": "Ancash",
         "_deepnote_index_column": 1
        },
        {
         "COD_DEPARTAMENTO": 3,
         "NOM_DEPARTAMENTO": "Apurímac",
         "_deepnote_index_column": 2
        },
        {
         "COD_DEPARTAMENTO": 4,
         "NOM_DEPARTAMENTO": "Arequipa",
         "_deepnote_index_column": 3
        },
        {
         "COD_DEPARTAMENTO": 5,
         "NOM_DEPARTAMENTO": "Ayacucho",
         "_deepnote_index_column": 4
        },
        {
         "COD_DEPARTAMENTO": 6,
         "NOM_DEPARTAMENTO": "Cajamarca",
         "_deepnote_index_column": 5
        },
        {
         "COD_DEPARTAMENTO": 8,
         "NOM_DEPARTAMENTO": "Cusco",
         "_deepnote_index_column": 6
        },
        {
         "COD_DEPARTAMENTO": 9,
         "NOM_DEPARTAMENTO": "Huancavelica",
         "_deepnote_index_column": 7
        },
        {
         "COD_DEPARTAMENTO": 10,
         "NOM_DEPARTAMENTO": "Huánuco",
         "_deepnote_index_column": 8
        },
        {
         "COD_DEPARTAMENTO": 11,
         "NOM_DEPARTAMENTO": "Ica",
         "_deepnote_index_column": 9
        }
       ]
      },
      "text/plain": "    COD_DEPARTAMENTO NOM_DEPARTAMENTO\n0                  1         Amazonas\n1                  2           Ancash\n2                  3         Apurímac\n3                  4         Arequipa\n4                  5         Ayacucho\n5                  6        Cajamarca\n6                  8            Cusco\n7                  9     Huancavelica\n8                 10          Huánuco\n9                 11              Ica\n10                12            Junín\n11                13      La Libertad\n12                14       Lambayeque\n13                15             Lima\n14                16           Loreto\n15                17    Madre de Dios\n16                18         Moquegua\n17                19            Pasco\n18                20            Piura\n19                21             Puno\n20                22       San Martín\n21                23            Tacna\n22                24           Tumbes\n23                25          Ucayali",
      "text/html": "<div>\n<style scoped>\n    .dataframe tbody tr th:only-of-type {\n        vertical-align: middle;\n    }\n\n    .dataframe tbody tr th {\n        vertical-align: top;\n    }\n\n    .dataframe thead th {\n        text-align: right;\n    }\n</style>\n<table border=\"1\" class=\"dataframe\">\n  <thead>\n    <tr style=\"text-align: right;\">\n      <th></th>\n      <th>COD_DEPARTAMENTO</th>\n      <th>NOM_DEPARTAMENTO</th>\n    </tr>\n  </thead>\n  <tbody>\n    <tr>\n      <th>0</th>\n      <td>1</td>\n      <td>Amazonas</td>\n    </tr>\n    <tr>\n      <th>1</th>\n      <td>2</td>\n      <td>Ancash</td>\n    </tr>\n    <tr>\n      <th>2</th>\n      <td>3</td>\n      <td>Apurímac</td>\n    </tr>\n    <tr>\n      <th>3</th>\n      <td>4</td>\n      <td>Arequipa</td>\n    </tr>\n    <tr>\n      <th>4</th>\n      <td>5</td>\n      <td>Ayacucho</td>\n    </tr>\n    <tr>\n      <th>5</th>\n      <td>6</td>\n      <td>Cajamarca</td>\n    </tr>\n    <tr>\n      <th>6</th>\n      <td>8</td>\n      <td>Cusco</td>\n    </tr>\n    <tr>\n      <th>7</th>\n      <td>9</td>\n      <td>Huancavelica</td>\n    </tr>\n    <tr>\n      <th>8</th>\n      <td>10</td>\n      <td>Huánuco</td>\n    </tr>\n    <tr>\n      <th>9</th>\n      <td>11</td>\n      <td>Ica</td>\n    </tr>\n    <tr>\n      <th>10</th>\n      <td>12</td>\n      <td>Junín</td>\n    </tr>\n    <tr>\n      <th>11</th>\n      <td>13</td>\n      <td>La Libertad</td>\n    </tr>\n    <tr>\n      <th>12</th>\n      <td>14</td>\n      <td>Lambayeque</td>\n    </tr>\n    <tr>\n      <th>13</th>\n      <td>15</td>\n      <td>Lima</td>\n    </tr>\n    <tr>\n      <th>14</th>\n      <td>16</td>\n      <td>Loreto</td>\n    </tr>\n    <tr>\n      <th>15</th>\n      <td>17</td>\n      <td>Madre de Dios</td>\n    </tr>\n    <tr>\n      <th>16</th>\n      <td>18</td>\n      <td>Moquegua</td>\n    </tr>\n    <tr>\n      <th>17</th>\n      <td>19</td>\n      <td>Pasco</td>\n    </tr>\n    <tr>\n      <th>18</th>\n      <td>20</td>\n      <td>Piura</td>\n    </tr>\n    <tr>\n      <th>19</th>\n      <td>21</td>\n      <td>Puno</td>\n    </tr>\n    <tr>\n      <th>20</th>\n      <td>22</td>\n      <td>San Martín</td>\n    </tr>\n    <tr>\n      <th>21</th>\n      <td>23</td>\n      <td>Tacna</td>\n    </tr>\n    <tr>\n      <th>22</th>\n      <td>24</td>\n      <td>Tumbes</td>\n    </tr>\n    <tr>\n      <th>23</th>\n      <td>25</td>\n      <td>Ucayali</td>\n    </tr>\n  </tbody>\n</table>\n</div>"
     },
     "metadata": {}
    }
   ]
  },
  {
   "cell_type": "markdown",
   "source": "### DOMINIO GEOGRÁFICO\n\nCabe mencionar que se sacó del **DICCIONARIO_[anio]** de variables",
   "metadata": {
    "cell_id": "ae16cf9ba7dc4ca280a0582ef4113191",
    "tags": [],
    "deepnote_cell_type": "markdown",
    "deepnote_cell_height": 100.390625
   }
  },
  {
   "cell_type": "markdown",
   "source": "- 1: Costa Norte\n- 2: Costa Centro\n- 3: Costa Sur\n- 4: Sierra Norte\n- 5: Sierra Centro\n- 6: Sierra Sur\n- 7: Selva\n- 8: Lima Metropolitana",
   "metadata": {
    "cell_id": "733a80397b1d40a1827f027fc4310017",
    "tags": [],
    "deepnote_cell_type": "markdown",
    "deepnote_cell_height": 247.1875
   }
  },
  {
   "cell_type": "code",
   "metadata": {
    "cell_id": "7620452916684aceb10500916d394c26",
    "tags": [],
    "deepnote_to_be_reexecuted": false,
    "source_hash": "a0c92d89",
    "execution_start": 1649540123512,
    "execution_millis": 2,
    "deepnote_cell_type": "code",
    "deepnote_cell_height": 644
   },
   "source": "df_cod_dominio_g = pd.DataFrame(\n    {\n        'DOMINIO_G': [1, 2, 3, 4, 5, 6, 7, 8],\n        'NOM_DOMINIO_G': [\"Costa Norte\",\"Costa Centro\",\"Costa Sur\",\"Sierra Norte\",\"Sierra Centro\",\"Sierra Sur\",\"Selva\",\"Lima Metropolitana\"]\n    }\n)\n\ndf_cod_dominio_g",
   "execution_count": null,
   "outputs": [
    {
     "output_type": "execute_result",
     "execution_count": 9,
     "data": {
      "application/vnd.deepnote.dataframe.v3+json": {
       "column_count": 2,
       "row_count": 8,
       "columns": [
        {
         "name": "DOMINIO_G",
         "dtype": "int64",
         "stats": {
          "unique_count": 8,
          "nan_count": 0,
          "min": "1",
          "max": "8",
          "histogram": [
           {
            "bin_start": 1,
            "bin_end": 1.7,
            "count": 1
           },
           {
            "bin_start": 1.7,
            "bin_end": 2.4,
            "count": 1
           },
           {
            "bin_start": 2.4,
            "bin_end": 3.0999999999999996,
            "count": 1
           },
           {
            "bin_start": 3.0999999999999996,
            "bin_end": 3.8,
            "count": 0
           },
           {
            "bin_start": 3.8,
            "bin_end": 4.5,
            "count": 1
           },
           {
            "bin_start": 4.5,
            "bin_end": 5.199999999999999,
            "count": 1
           },
           {
            "bin_start": 5.199999999999999,
            "bin_end": 5.8999999999999995,
            "count": 0
           },
           {
            "bin_start": 5.8999999999999995,
            "bin_end": 6.6,
            "count": 1
           },
           {
            "bin_start": 6.6,
            "bin_end": 7.3,
            "count": 1
           },
           {
            "bin_start": 7.3,
            "bin_end": 8,
            "count": 1
           }
          ]
         }
        },
        {
         "name": "NOM_DOMINIO_G",
         "dtype": "object",
         "stats": {
          "unique_count": 8,
          "nan_count": 0,
          "categories": [
           {
            "name": "Costa Norte",
            "count": 1
           },
           {
            "name": "Costa Centro",
            "count": 1
           },
           {
            "name": "6 others",
            "count": 6
           }
          ]
         }
        },
        {
         "name": "_deepnote_index_column",
         "dtype": "int64"
        }
       ],
       "rows": [
        {
         "DOMINIO_G": 1,
         "NOM_DOMINIO_G": "Costa Norte",
         "_deepnote_index_column": 0
        },
        {
         "DOMINIO_G": 2,
         "NOM_DOMINIO_G": "Costa Centro",
         "_deepnote_index_column": 1
        },
        {
         "DOMINIO_G": 3,
         "NOM_DOMINIO_G": "Costa Sur",
         "_deepnote_index_column": 2
        },
        {
         "DOMINIO_G": 4,
         "NOM_DOMINIO_G": "Sierra Norte",
         "_deepnote_index_column": 3
        },
        {
         "DOMINIO_G": 5,
         "NOM_DOMINIO_G": "Sierra Centro",
         "_deepnote_index_column": 4
        },
        {
         "DOMINIO_G": 6,
         "NOM_DOMINIO_G": "Sierra Sur",
         "_deepnote_index_column": 5
        },
        {
         "DOMINIO_G": 7,
         "NOM_DOMINIO_G": "Selva",
         "_deepnote_index_column": 6
        },
        {
         "DOMINIO_G": 8,
         "NOM_DOMINIO_G": "Lima Metropolitana",
         "_deepnote_index_column": 7
        }
       ]
      },
      "text/plain": "   DOMINIO_G       NOM_DOMINIO_G\n0          1         Costa Norte\n1          2        Costa Centro\n2          3           Costa Sur\n3          4        Sierra Norte\n4          5       Sierra Centro\n5          6          Sierra Sur\n6          7               Selva\n7          8  Lima Metropolitana",
      "text/html": "<div>\n<style scoped>\n    .dataframe tbody tr th:only-of-type {\n        vertical-align: middle;\n    }\n\n    .dataframe tbody tr th {\n        vertical-align: top;\n    }\n\n    .dataframe thead th {\n        text-align: right;\n    }\n</style>\n<table border=\"1\" class=\"dataframe\">\n  <thead>\n    <tr style=\"text-align: right;\">\n      <th></th>\n      <th>DOMINIO_G</th>\n      <th>NOM_DOMINIO_G</th>\n    </tr>\n  </thead>\n  <tbody>\n    <tr>\n      <th>0</th>\n      <td>1</td>\n      <td>Costa Norte</td>\n    </tr>\n    <tr>\n      <th>1</th>\n      <td>2</td>\n      <td>Costa Centro</td>\n    </tr>\n    <tr>\n      <th>2</th>\n      <td>3</td>\n      <td>Costa Sur</td>\n    </tr>\n    <tr>\n      <th>3</th>\n      <td>4</td>\n      <td>Sierra Norte</td>\n    </tr>\n    <tr>\n      <th>4</th>\n      <td>5</td>\n      <td>Sierra Centro</td>\n    </tr>\n    <tr>\n      <th>5</th>\n      <td>6</td>\n      <td>Sierra Sur</td>\n    </tr>\n    <tr>\n      <th>6</th>\n      <td>7</td>\n      <td>Selva</td>\n    </tr>\n    <tr>\n      <th>7</th>\n      <td>8</td>\n      <td>Lima Metropolitana</td>\n    </tr>\n  </tbody>\n</table>\n</div>"
     },
     "metadata": {}
    }
   ]
  },
  {
   "cell_type": "markdown",
   "source": "### IDIOMA - LENGUA MATERNA\n\nCabe mencionar que se sacó del **DICCIONARIO_[anio]** de variables",
   "metadata": {
    "cell_id": "31fae47d29264a60be79c2fe4b0dcfd3",
    "tags": [],
    "deepnote_cell_type": "markdown",
    "deepnote_cell_height": 100.390625
   }
  },
  {
   "cell_type": "markdown",
   "source": "- 1: Quechua\n- 2: Aimara\n- 3: Otra lengua nativa\n- 4: Castellano\n- 6: Portugués\n- 7: Otra lengua extranjera\n- 8: No escucha/no habla\n- 9: Lengua de señas peruanas\n- 10: Ashaninka\n- 11: Awajun/Aguaruna\n- 12: Shipibo-Konibo\n- 13: Shawi/Chayahuita\n- 14: Matsigenka/Machiguenga\n- 15: Achuar",
   "metadata": {
    "cell_id": "92a96542ba0b4e18b5cb37ae8bd3657c",
    "tags": [],
    "deepnote_cell_type": "markdown",
    "deepnote_cell_height": 399.59375
   }
  },
  {
   "cell_type": "code",
   "metadata": {
    "cell_id": "580bfee5a2e047a3935c8ec1051626c4",
    "tags": [],
    "deepnote_to_be_reexecuted": false,
    "source_hash": "b14f812a",
    "execution_start": 1649540123545,
    "execution_millis": 2,
    "deepnote_cell_type": "code",
    "deepnote_cell_height": 726
   },
   "source": "df_cod_idioma = pd.DataFrame(\n    {\n        'COD_IDIOMA': [1, 2, 3, 4, 6, 7, 8, 9, 10, 11, 12, 13, 14, 15],\n        'NOM_IDIOMA': [\"Quechua\",\"Aimara\",\"Otra lengua nativa\",\"Castellano\",\"Portugués\",\"Otra lengua extranjera\",\"No escucha/no habla\",\"Lengua de señas peruanas\", \"Ashaninka\", \"Awajun/Aguaruna\", \"Shipibo-Konibo\", \"Shawi/Chayahuita\", \"Matsigenka/Machiguenga\", \"Achuar\"]\n    }\n)\n\ndf_cod_idioma",
   "execution_count": null,
   "outputs": [
    {
     "output_type": "execute_result",
     "execution_count": 10,
     "data": {
      "application/vnd.deepnote.dataframe.v3+json": {
       "column_count": 2,
       "row_count": 14,
       "columns": [
        {
         "name": "COD_IDIOMA",
         "dtype": "int64",
         "stats": {
          "unique_count": 14,
          "nan_count": 0,
          "min": "1",
          "max": "15",
          "histogram": [
           {
            "bin_start": 1,
            "bin_end": 2.4,
            "count": 2
           },
           {
            "bin_start": 2.4,
            "bin_end": 3.8,
            "count": 1
           },
           {
            "bin_start": 3.8,
            "bin_end": 5.199999999999999,
            "count": 1
           },
           {
            "bin_start": 5.199999999999999,
            "bin_end": 6.6,
            "count": 1
           },
           {
            "bin_start": 6.6,
            "bin_end": 8,
            "count": 1
           },
           {
            "bin_start": 8,
            "bin_end": 9.399999999999999,
            "count": 2
           },
           {
            "bin_start": 9.399999999999999,
            "bin_end": 10.799999999999999,
            "count": 1
           },
           {
            "bin_start": 10.799999999999999,
            "bin_end": 12.2,
            "count": 2
           },
           {
            "bin_start": 12.2,
            "bin_end": 13.6,
            "count": 1
           },
           {
            "bin_start": 13.6,
            "bin_end": 15,
            "count": 2
           }
          ]
         }
        },
        {
         "name": "NOM_IDIOMA",
         "dtype": "object",
         "stats": {
          "unique_count": 14,
          "nan_count": 0,
          "categories": [
           {
            "name": "Quechua",
            "count": 1
           },
           {
            "name": "Aimara",
            "count": 1
           },
           {
            "name": "12 others",
            "count": 12
           }
          ]
         }
        },
        {
         "name": "_deepnote_index_column",
         "dtype": "int64"
        }
       ],
       "rows": [
        {
         "COD_IDIOMA": 1,
         "NOM_IDIOMA": "Quechua",
         "_deepnote_index_column": 0
        },
        {
         "COD_IDIOMA": 2,
         "NOM_IDIOMA": "Aimara",
         "_deepnote_index_column": 1
        },
        {
         "COD_IDIOMA": 3,
         "NOM_IDIOMA": "Otra lengua nativa",
         "_deepnote_index_column": 2
        },
        {
         "COD_IDIOMA": 4,
         "NOM_IDIOMA": "Castellano",
         "_deepnote_index_column": 3
        },
        {
         "COD_IDIOMA": 6,
         "NOM_IDIOMA": "Portugués",
         "_deepnote_index_column": 4
        },
        {
         "COD_IDIOMA": 7,
         "NOM_IDIOMA": "Otra lengua extranjera",
         "_deepnote_index_column": 5
        },
        {
         "COD_IDIOMA": 8,
         "NOM_IDIOMA": "No escucha/no habla",
         "_deepnote_index_column": 6
        },
        {
         "COD_IDIOMA": 9,
         "NOM_IDIOMA": "Lengua de señas peruanas",
         "_deepnote_index_column": 7
        },
        {
         "COD_IDIOMA": 10,
         "NOM_IDIOMA": "Ashaninka",
         "_deepnote_index_column": 8
        },
        {
         "COD_IDIOMA": 11,
         "NOM_IDIOMA": "Awajun/Aguaruna",
         "_deepnote_index_column": 9
        }
       ]
      },
      "text/plain": "    COD_IDIOMA                NOM_IDIOMA\n0            1                   Quechua\n1            2                    Aimara\n2            3        Otra lengua nativa\n3            4                Castellano\n4            6                 Portugués\n5            7    Otra lengua extranjera\n6            8       No escucha/no habla\n7            9  Lengua de señas peruanas\n8           10                 Ashaninka\n9           11           Awajun/Aguaruna\n10          12            Shipibo-Konibo\n11          13          Shawi/Chayahuita\n12          14    Matsigenka/Machiguenga\n13          15                    Achuar",
      "text/html": "<div>\n<style scoped>\n    .dataframe tbody tr th:only-of-type {\n        vertical-align: middle;\n    }\n\n    .dataframe tbody tr th {\n        vertical-align: top;\n    }\n\n    .dataframe thead th {\n        text-align: right;\n    }\n</style>\n<table border=\"1\" class=\"dataframe\">\n  <thead>\n    <tr style=\"text-align: right;\">\n      <th></th>\n      <th>COD_IDIOMA</th>\n      <th>NOM_IDIOMA</th>\n    </tr>\n  </thead>\n  <tbody>\n    <tr>\n      <th>0</th>\n      <td>1</td>\n      <td>Quechua</td>\n    </tr>\n    <tr>\n      <th>1</th>\n      <td>2</td>\n      <td>Aimara</td>\n    </tr>\n    <tr>\n      <th>2</th>\n      <td>3</td>\n      <td>Otra lengua nativa</td>\n    </tr>\n    <tr>\n      <th>3</th>\n      <td>4</td>\n      <td>Castellano</td>\n    </tr>\n    <tr>\n      <th>4</th>\n      <td>6</td>\n      <td>Portugués</td>\n    </tr>\n    <tr>\n      <th>5</th>\n      <td>7</td>\n      <td>Otra lengua extranjera</td>\n    </tr>\n    <tr>\n      <th>6</th>\n      <td>8</td>\n      <td>No escucha/no habla</td>\n    </tr>\n    <tr>\n      <th>7</th>\n      <td>9</td>\n      <td>Lengua de señas peruanas</td>\n    </tr>\n    <tr>\n      <th>8</th>\n      <td>10</td>\n      <td>Ashaninka</td>\n    </tr>\n    <tr>\n      <th>9</th>\n      <td>11</td>\n      <td>Awajun/Aguaruna</td>\n    </tr>\n    <tr>\n      <th>10</th>\n      <td>12</td>\n      <td>Shipibo-Konibo</td>\n    </tr>\n    <tr>\n      <th>11</th>\n      <td>13</td>\n      <td>Shawi/Chayahuita</td>\n    </tr>\n    <tr>\n      <th>12</th>\n      <td>14</td>\n      <td>Matsigenka/Machiguenga</td>\n    </tr>\n    <tr>\n      <th>13</th>\n      <td>15</td>\n      <td>Achuar</td>\n    </tr>\n  </tbody>\n</table>\n</div>"
     },
     "metadata": {}
    }
   ]
  },
  {
   "cell_type": "markdown",
   "source": "### GRADO ESTUDIOS\n\nCabe mencionar que se sacó del **DICCIONARIO_[anio]** de variables",
   "metadata": {
    "cell_id": "4cb387e7529440d7a6c2a22a4450cb94",
    "tags": [],
    "deepnote_cell_type": "markdown",
    "deepnote_cell_height": 100.390625
   }
  },
  {
   "cell_type": "markdown",
   "source": "- 1: Sin nivel\n- 2: Educaion inicial\n- 3: Primaria incompleta\n- 4: Primaria completa\n- 5: Secundaria Incompleta\n- 6: Secundaria completa\n- 7: Superior no universitaria incompleta\n- 8: Superior no Universitaria completa\n- 9: Superior Universitaria Incompleta\n- 10: Superior Universitaria Completa\n- 11: Maestria/doctorado\n- 12: Básica especial\n- 99: Missing value",
   "metadata": {
    "cell_id": "4a1aa470a1b04cf2a91a15a9645228c9",
    "tags": [],
    "deepnote_cell_type": "markdown",
    "deepnote_cell_height": 374.1875
   }
  },
  {
   "cell_type": "code",
   "metadata": {
    "cell_id": "305d4c28bb434973a39d6c8346d8f4cc",
    "tags": [],
    "deepnote_to_be_reexecuted": false,
    "source_hash": "2fe672ee",
    "execution_start": 1649540123546,
    "execution_millis": 23,
    "deepnote_cell_type": "code",
    "deepnote_cell_height": 726
   },
   "source": "df_cod_grado_estudios = pd.DataFrame(\n    {\n        'COD_GRADO_ESTUDIOS': [1, 2, 3, 4, 5, 6, 7, 8, 9, 10, 11, 12, 99],\n        'NOM_GRADO_ESTUDIOS': [\"Sin nivel\", \"Educaion inicial\", \"Primaria incompleta\", \"Primaria completa\", \"Secundaria Incompleta\", \"Secundaria completa\", \"Superior no universitaria incompleta\", \"Superior no Universitaria completa\", \"Superior Universitaria Incompleta\", \"Superior Universitaria Completa\", \"Maestria/doctorado\", \"Básica especial\", \"Missing value\"]\n    }\n)\n\ndf_cod_grado_estudios",
   "execution_count": null,
   "outputs": [
    {
     "output_type": "execute_result",
     "execution_count": 11,
     "data": {
      "application/vnd.deepnote.dataframe.v3+json": {
       "column_count": 2,
       "row_count": 13,
       "columns": [
        {
         "name": "COD_GRADO_ESTUDIOS",
         "dtype": "int64",
         "stats": {
          "unique_count": 13,
          "nan_count": 0,
          "min": "1",
          "max": "99",
          "histogram": [
           {
            "bin_start": 1,
            "bin_end": 10.8,
            "count": 10
           },
           {
            "bin_start": 10.8,
            "bin_end": 20.6,
            "count": 2
           },
           {
            "bin_start": 20.6,
            "bin_end": 30.400000000000002,
            "count": 0
           },
           {
            "bin_start": 30.400000000000002,
            "bin_end": 40.2,
            "count": 0
           },
           {
            "bin_start": 40.2,
            "bin_end": 50,
            "count": 0
           },
           {
            "bin_start": 50,
            "bin_end": 59.800000000000004,
            "count": 0
           },
           {
            "bin_start": 59.800000000000004,
            "bin_end": 69.60000000000001,
            "count": 0
           },
           {
            "bin_start": 69.60000000000001,
            "bin_end": 79.4,
            "count": 0
           },
           {
            "bin_start": 79.4,
            "bin_end": 89.2,
            "count": 0
           },
           {
            "bin_start": 89.2,
            "bin_end": 99,
            "count": 1
           }
          ]
         }
        },
        {
         "name": "NOM_GRADO_ESTUDIOS",
         "dtype": "object",
         "stats": {
          "unique_count": 13,
          "nan_count": 0,
          "categories": [
           {
            "name": "Sin nivel",
            "count": 1
           },
           {
            "name": "Educaion inicial",
            "count": 1
           },
           {
            "name": "11 others",
            "count": 11
           }
          ]
         }
        },
        {
         "name": "_deepnote_index_column",
         "dtype": "int64"
        }
       ],
       "rows": [
        {
         "COD_GRADO_ESTUDIOS": 1,
         "NOM_GRADO_ESTUDIOS": "Sin nivel",
         "_deepnote_index_column": 0
        },
        {
         "COD_GRADO_ESTUDIOS": 2,
         "NOM_GRADO_ESTUDIOS": "Educaion inicial",
         "_deepnote_index_column": 1
        },
        {
         "COD_GRADO_ESTUDIOS": 3,
         "NOM_GRADO_ESTUDIOS": "Primaria incompleta",
         "_deepnote_index_column": 2
        },
        {
         "COD_GRADO_ESTUDIOS": 4,
         "NOM_GRADO_ESTUDIOS": "Primaria completa",
         "_deepnote_index_column": 3
        },
        {
         "COD_GRADO_ESTUDIOS": 5,
         "NOM_GRADO_ESTUDIOS": "Secundaria Incompleta",
         "_deepnote_index_column": 4
        },
        {
         "COD_GRADO_ESTUDIOS": 6,
         "NOM_GRADO_ESTUDIOS": "Secundaria completa",
         "_deepnote_index_column": 5
        },
        {
         "COD_GRADO_ESTUDIOS": 7,
         "NOM_GRADO_ESTUDIOS": "Superior no universitaria incompleta",
         "_deepnote_index_column": 6
        },
        {
         "COD_GRADO_ESTUDIOS": 8,
         "NOM_GRADO_ESTUDIOS": "Superior no Universitaria completa",
         "_deepnote_index_column": 7
        },
        {
         "COD_GRADO_ESTUDIOS": 9,
         "NOM_GRADO_ESTUDIOS": "Superior Universitaria Incompleta",
         "_deepnote_index_column": 8
        },
        {
         "COD_GRADO_ESTUDIOS": 10,
         "NOM_GRADO_ESTUDIOS": "Superior Universitaria Completa",
         "_deepnote_index_column": 9
        }
       ]
      },
      "text/plain": "    COD_GRADO_ESTUDIOS                    NOM_GRADO_ESTUDIOS\n0                    1                             Sin nivel\n1                    2                      Educaion inicial\n2                    3                   Primaria incompleta\n3                    4                     Primaria completa\n4                    5                 Secundaria Incompleta\n5                    6                   Secundaria completa\n6                    7  Superior no universitaria incompleta\n7                    8    Superior no Universitaria completa\n8                    9     Superior Universitaria Incompleta\n9                   10       Superior Universitaria Completa\n10                  11                    Maestria/doctorado\n11                  12                       Básica especial\n12                  99                         Missing value",
      "text/html": "<div>\n<style scoped>\n    .dataframe tbody tr th:only-of-type {\n        vertical-align: middle;\n    }\n\n    .dataframe tbody tr th {\n        vertical-align: top;\n    }\n\n    .dataframe thead th {\n        text-align: right;\n    }\n</style>\n<table border=\"1\" class=\"dataframe\">\n  <thead>\n    <tr style=\"text-align: right;\">\n      <th></th>\n      <th>COD_GRADO_ESTUDIOS</th>\n      <th>NOM_GRADO_ESTUDIOS</th>\n    </tr>\n  </thead>\n  <tbody>\n    <tr>\n      <th>0</th>\n      <td>1</td>\n      <td>Sin nivel</td>\n    </tr>\n    <tr>\n      <th>1</th>\n      <td>2</td>\n      <td>Educaion inicial</td>\n    </tr>\n    <tr>\n      <th>2</th>\n      <td>3</td>\n      <td>Primaria incompleta</td>\n    </tr>\n    <tr>\n      <th>3</th>\n      <td>4</td>\n      <td>Primaria completa</td>\n    </tr>\n    <tr>\n      <th>4</th>\n      <td>5</td>\n      <td>Secundaria Incompleta</td>\n    </tr>\n    <tr>\n      <th>5</th>\n      <td>6</td>\n      <td>Secundaria completa</td>\n    </tr>\n    <tr>\n      <th>6</th>\n      <td>7</td>\n      <td>Superior no universitaria incompleta</td>\n    </tr>\n    <tr>\n      <th>7</th>\n      <td>8</td>\n      <td>Superior no Universitaria completa</td>\n    </tr>\n    <tr>\n      <th>8</th>\n      <td>9</td>\n      <td>Superior Universitaria Incompleta</td>\n    </tr>\n    <tr>\n      <th>9</th>\n      <td>10</td>\n      <td>Superior Universitaria Completa</td>\n    </tr>\n    <tr>\n      <th>10</th>\n      <td>11</td>\n      <td>Maestria/doctorado</td>\n    </tr>\n    <tr>\n      <th>11</th>\n      <td>12</td>\n      <td>Básica especial</td>\n    </tr>\n    <tr>\n      <th>12</th>\n      <td>99</td>\n      <td>Missing value</td>\n    </tr>\n  </tbody>\n</table>\n</div>"
     },
     "metadata": {}
    }
   ]
  },
  {
   "cell_type": "markdown",
   "source": "### ESTADO CIVIL\n\nCabe mencionar que se sacó del **DICCIONARIO_[anio]** de variables\n\n",
   "metadata": {
    "cell_id": "35ee74ed98c74ab0b8d39762eac72d2f",
    "tags": [],
    "deepnote_cell_type": "markdown",
    "deepnote_cell_height": 100.390625
   }
  },
  {
   "cell_type": "markdown",
   "source": "- 1: Conviviente\n- 2: Casado\n- 3: Viudo\n- 4: Divorciado\n- 5: Separado\n- 6: Soltero",
   "metadata": {
    "cell_id": "2180c405070b4cf2816c094678055379",
    "tags": [],
    "deepnote_cell_type": "markdown",
    "deepnote_cell_height": 196.390625
   }
  },
  {
   "cell_type": "code",
   "metadata": {
    "cell_id": "792f6332bfb24263ae4b4fc1c8bffda5",
    "tags": [],
    "deepnote_to_be_reexecuted": false,
    "source_hash": "62bfd8d0",
    "execution_start": 1649540123581,
    "execution_millis": 23,
    "deepnote_cell_type": "code",
    "deepnote_cell_height": 562
   },
   "source": "df_cod_estado_civil = pd.DataFrame(\n    {\n        'ID_ESTADO_CIVIL': [1, 2, 3, 4, 5, 6],\n        'NOM_ESTADO_CIVIL': [\"Conviviente\", \"Casado\", \"Viudo\", \"Divorciado\", \"Separado\", \"Soltero\"]\n    }\n)\n\ndf_cod_estado_civil",
   "execution_count": null,
   "outputs": [
    {
     "output_type": "execute_result",
     "execution_count": 12,
     "data": {
      "application/vnd.deepnote.dataframe.v3+json": {
       "column_count": 2,
       "row_count": 6,
       "columns": [
        {
         "name": "ID_ESTADO_CIVIL",
         "dtype": "int64",
         "stats": {
          "unique_count": 6,
          "nan_count": 0,
          "min": "1",
          "max": "6",
          "histogram": [
           {
            "bin_start": 1,
            "bin_end": 1.5,
            "count": 1
           },
           {
            "bin_start": 1.5,
            "bin_end": 2,
            "count": 0
           },
           {
            "bin_start": 2,
            "bin_end": 2.5,
            "count": 1
           },
           {
            "bin_start": 2.5,
            "bin_end": 3,
            "count": 0
           },
           {
            "bin_start": 3,
            "bin_end": 3.5,
            "count": 1
           },
           {
            "bin_start": 3.5,
            "bin_end": 4,
            "count": 0
           },
           {
            "bin_start": 4,
            "bin_end": 4.5,
            "count": 1
           },
           {
            "bin_start": 4.5,
            "bin_end": 5,
            "count": 0
           },
           {
            "bin_start": 5,
            "bin_end": 5.5,
            "count": 1
           },
           {
            "bin_start": 5.5,
            "bin_end": 6,
            "count": 1
           }
          ]
         }
        },
        {
         "name": "NOM_ESTADO_CIVIL",
         "dtype": "object",
         "stats": {
          "unique_count": 6,
          "nan_count": 0,
          "categories": [
           {
            "name": "Conviviente",
            "count": 1
           },
           {
            "name": "Casado",
            "count": 1
           },
           {
            "name": "4 others",
            "count": 4
           }
          ]
         }
        },
        {
         "name": "_deepnote_index_column",
         "dtype": "int64"
        }
       ],
       "rows": [
        {
         "ID_ESTADO_CIVIL": 1,
         "NOM_ESTADO_CIVIL": "Conviviente",
         "_deepnote_index_column": 0
        },
        {
         "ID_ESTADO_CIVIL": 2,
         "NOM_ESTADO_CIVIL": "Casado",
         "_deepnote_index_column": 1
        },
        {
         "ID_ESTADO_CIVIL": 3,
         "NOM_ESTADO_CIVIL": "Viudo",
         "_deepnote_index_column": 2
        },
        {
         "ID_ESTADO_CIVIL": 4,
         "NOM_ESTADO_CIVIL": "Divorciado",
         "_deepnote_index_column": 3
        },
        {
         "ID_ESTADO_CIVIL": 5,
         "NOM_ESTADO_CIVIL": "Separado",
         "_deepnote_index_column": 4
        },
        {
         "ID_ESTADO_CIVIL": 6,
         "NOM_ESTADO_CIVIL": "Soltero",
         "_deepnote_index_column": 5
        }
       ]
      },
      "text/plain": "   ID_ESTADO_CIVIL NOM_ESTADO_CIVIL\n0                1      Conviviente\n1                2           Casado\n2                3            Viudo\n3                4       Divorciado\n4                5         Separado\n5                6          Soltero",
      "text/html": "<div>\n<style scoped>\n    .dataframe tbody tr th:only-of-type {\n        vertical-align: middle;\n    }\n\n    .dataframe tbody tr th {\n        vertical-align: top;\n    }\n\n    .dataframe thead th {\n        text-align: right;\n    }\n</style>\n<table border=\"1\" class=\"dataframe\">\n  <thead>\n    <tr style=\"text-align: right;\">\n      <th></th>\n      <th>ID_ESTADO_CIVIL</th>\n      <th>NOM_ESTADO_CIVIL</th>\n    </tr>\n  </thead>\n  <tbody>\n    <tr>\n      <th>0</th>\n      <td>1</td>\n      <td>Conviviente</td>\n    </tr>\n    <tr>\n      <th>1</th>\n      <td>2</td>\n      <td>Casado</td>\n    </tr>\n    <tr>\n      <th>2</th>\n      <td>3</td>\n      <td>Viudo</td>\n    </tr>\n    <tr>\n      <th>3</th>\n      <td>4</td>\n      <td>Divorciado</td>\n    </tr>\n    <tr>\n      <th>4</th>\n      <td>5</td>\n      <td>Separado</td>\n    </tr>\n    <tr>\n      <th>5</th>\n      <td>6</td>\n      <td>Soltero</td>\n    </tr>\n  </tbody>\n</table>\n</div>"
     },
     "metadata": {}
    }
   ]
  },
  {
   "cell_type": "markdown",
   "source": "## Guardamos nuestros csvs con códigos y nombres de instituciones educativas y carreras de educación superior y técnico",
   "metadata": {
    "cell_id": "6f06fc85329241c491a88606763c6706",
    "tags": [],
    "deepnote_cell_type": "markdown",
    "deepnote_cell_height": 150
   }
  },
  {
   "cell_type": "code",
   "metadata": {
    "cell_id": "1791212a612843a0b064823b938fa293",
    "tags": [],
    "deepnote_to_be_reexecuted": false,
    "source_hash": "8a6045a1",
    "execution_start": 1649540123610,
    "execution_millis": 101,
    "deepnote_cell_type": "code",
    "deepnote_cell_height": 400
   },
   "source": "path_inst_educ_to_save = '/work/enaho-personas-estudios-caracteristicas-data-science/archivos_csv_complementos/cod_inst_educ.csv'\npath_carr_educ_sup_tec_to_save = '/work/enaho-personas-estudios-caracteristicas-data-science/archivos_csv_complementos/cod_educ_sup_tec.csv'\npath_cod_departamento = '/work/enaho-personas-estudios-caracteristicas-data-science/archivos_csv_complementos/cod_departamentos.csv'\npath_cod_dominio_g = '/work/enaho-personas-estudios-caracteristicas-data-science/archivos_csv_complementos/cod_dominio_g.csv'\npath_cod_idioma = '/work/enaho-personas-estudios-caracteristicas-data-science/archivos_csv_complementos/cod_idioma.csv'\npath_cod_grad_estudios = '/work/enaho-personas-estudios-caracteristicas-data-science/archivos_csv_complementos/cod_grad_estudios.csv'\npath_cod_estado_civil = '/work/enaho-personas-estudios-caracteristicas-data-science/archivos_csv_complementos/cod_estado_civil.csv'\n\ndf_inst_educ.to_csv(path_inst_educ_to_save, index = False) # guardamos las instituciones educativas\ndf_carr_educ_sup_tec.to_csv(path_carr_educ_sup_tec_to_save, index = False) # guardamos las carreras superiores y tec\ndf_cod_departamentos.to_csv(path_cod_departamento, index = False) # guardamos los departamentos\ndf_cod_dominio_g.to_csv(path_cod_dominio_g, index = False) # guardamos los dominios geográficos\ndf_cod_idioma.to_csv(path_cod_idioma, index = False) # guardamos los idiomas nativos\ndf_cod_grado_estudios.to_csv(path_cod_grad_estudios, index = False) # guardamos los grados de estudio\ndf_cod_estado_civil.to_csv(path_cod_estado_civil, index = False) # guardamos los estados civiles\n\nprint('Files saved correctly!')",
   "execution_count": null,
   "outputs": [
    {
     "name": "stdout",
     "text": "Files saved correctly!\n",
     "output_type": "stream"
    }
   ]
  },
  {
   "cell_type": "markdown",
   "source": "<a style='text-decoration:none;line-height:16px;display:flex;color:#5B5B62;padding:10px;justify-content:end;' href='https://deepnote.com?utm_source=created-in-deepnote-cell&projectId=61180446-cfea-4338-ac0e-81e50a732b69' target=\"_blank\">\n<img alt='Created in deepnote.com' style='display:inline;max-height:16px;margin:0px;margin-right:7.5px;' src='data:image/svg+xml;base64,PD94bWwgdmVyc2lvbj0iMS4wIiBlbmNvZGluZz0iVVRGLTgiPz4KPHN2ZyB3aWR0aD0iODBweCIgaGVpZ2h0PSI4MHB4IiB2aWV3Qm94PSIwIDAgODAgODAiIHZlcnNpb249IjEuMSIgeG1sbnM9Imh0dHA6Ly93d3cudzMub3JnLzIwMDAvc3ZnIiB4bWxuczp4bGluaz0iaHR0cDovL3d3dy53My5vcmcvMTk5OS94bGluayI+CiAgICA8IS0tIEdlbmVyYXRvcjogU2tldGNoIDU0LjEgKDc2NDkwKSAtIGh0dHBzOi8vc2tldGNoYXBwLmNvbSAtLT4KICAgIDx0aXRsZT5Hcm91cCAzPC90aXRsZT4KICAgIDxkZXNjPkNyZWF0ZWQgd2l0aCBTa2V0Y2guPC9kZXNjPgogICAgPGcgaWQ9IkxhbmRpbmciIHN0cm9rZT0ibm9uZSIgc3Ryb2tlLXdpZHRoPSIxIiBmaWxsPSJub25lIiBmaWxsLXJ1bGU9ImV2ZW5vZGQiPgogICAgICAgIDxnIGlkPSJBcnRib2FyZCIgdHJhbnNmb3JtPSJ0cmFuc2xhdGUoLTEyMzUuMDAwMDAwLCAtNzkuMDAwMDAwKSI+CiAgICAgICAgICAgIDxnIGlkPSJHcm91cC0zIiB0cmFuc2Zvcm09InRyYW5zbGF0ZSgxMjM1LjAwMDAwMCwgNzkuMDAwMDAwKSI+CiAgICAgICAgICAgICAgICA8cG9seWdvbiBpZD0iUGF0aC0yMCIgZmlsbD0iIzAyNjVCNCIgcG9pbnRzPSIyLjM3NjIzNzYyIDgwIDM4LjA0NzY2NjcgODAgNTcuODIxNzgyMiA3My44MDU3NTkyIDU3LjgyMTc4MjIgMzIuNzU5MjczOSAzOS4xNDAyMjc4IDMxLjY4MzE2ODMiPjwvcG9seWdvbj4KICAgICAgICAgICAgICAgIDxwYXRoIGQ9Ik0zNS4wMDc3MTgsODAgQzQyLjkwNjIwMDcsNzYuNDU0OTM1OCA0Ny41NjQ5MTY3LDcxLjU0MjI2NzEgNDguOTgzODY2LDY1LjI2MTk5MzkgQzUxLjExMjI4OTksNTUuODQxNTg0MiA0MS42NzcxNzk1LDQ5LjIxMjIyODQgMjUuNjIzOTg0Niw0OS4yMTIyMjg0IEMyNS40ODQ5Mjg5LDQ5LjEyNjg0NDggMjkuODI2MTI5Niw0My4yODM4MjQ4IDM4LjY0NzU4NjksMzEuNjgzMTY4MyBMNzIuODcxMjg3MSwzMi41NTQ0MjUgTDY1LjI4MDk3Myw2Ny42NzYzNDIxIEw1MS4xMTIyODk5LDc3LjM3NjE0NCBMMzUuMDA3NzE4LDgwIFoiIGlkPSJQYXRoLTIyIiBmaWxsPSIjMDAyODY4Ij48L3BhdGg+CiAgICAgICAgICAgICAgICA8cGF0aCBkPSJNMCwzNy43MzA0NDA1IEwyNy4xMTQ1MzcsMC4yNTcxMTE0MzYgQzYyLjM3MTUxMjMsLTEuOTkwNzE3MDEgODAsMTAuNTAwMzkyNyA4MCwzNy43MzA0NDA1IEM4MCw2NC45NjA0ODgyIDY0Ljc3NjUwMzgsNzkuMDUwMzQxNCAzNC4zMjk1MTEzLDgwIEM0Ny4wNTUzNDg5LDc3LjU2NzA4MDggNTMuNDE4MjY3Nyw3MC4zMTM2MTAzIDUzLjQxODI2NzcsNTguMjM5NTg4NSBDNTMuNDE4MjY3Nyw0MC4xMjg1NTU3IDM2LjMwMzk1NDQsMzcuNzMwNDQwNSAyNS4yMjc0MTcsMzcuNzMwNDQwNSBDMTcuODQzMDU4NiwzNy43MzA0NDA1IDkuNDMzOTE5NjYsMzcuNzMwNDQwNSAwLDM3LjczMDQ0MDUgWiIgaWQ9IlBhdGgtMTkiIGZpbGw9IiMzNzkzRUYiPjwvcGF0aD4KICAgICAgICAgICAgPC9nPgogICAgICAgIDwvZz4KICAgIDwvZz4KPC9zdmc+' > </img>\nCreated in <span style='font-weight:600;margin-left:4px;'>Deepnote</span></a>",
   "metadata": {
    "tags": [],
    "created_in_deepnote_cell": true,
    "deepnote_cell_type": "markdown"
   }
  }
 ],
 "nbformat": 4,
 "nbformat_minor": 2,
 "metadata": {
  "orig_nbformat": 2,
  "deepnote": {
   "is_reactive": false
  },
  "deepnote_notebook_id": "e2124407-dc2d-4dfd-8b8c-16bc71c5b841",
  "deepnote_execution_queue": []
 }
}