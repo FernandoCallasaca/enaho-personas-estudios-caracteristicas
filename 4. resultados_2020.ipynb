{
 "cells": [
  {
   "cell_type": "markdown",
   "source": "# Obtenemos información a base de gráficos del año 2020",
   "metadata": {
    "cell_id": "a35e949103264dc0a20870e2e66c7662",
    "tags": [],
    "deepnote_cell_type": "markdown",
    "deepnote_cell_height": 134
   }
  },
  {
   "cell_type": "markdown",
   "source": "## Instalamos algunas librerías",
   "metadata": {
    "cell_id": "cdba2e688b7f4480b22a3ff0a73df976",
    "tags": [],
    "deepnote_cell_type": "markdown",
    "deepnote_cell_height": 70
   }
  },
  {
   "cell_type": "code",
   "metadata": {
    "cell_id": "1031c10d91cf468a920caaa06c6af775",
    "tags": [],
    "deepnote_to_be_reexecuted": false,
    "source_hash": "69acb339",
    "execution_start": 1649594415119,
    "execution_millis": 3896,
    "deepnote_cell_type": "code",
    "deepnote_cell_height": 501.796875
   },
   "source": "!pip install wordcloud==1.8.1",
   "outputs": [
    {
     "name": "stdout",
     "text": "Collecting wordcloud==1.8.1\n  Downloading wordcloud-1.8.1-cp37-cp37m-manylinux1_x86_64.whl (366 kB)\n\u001b[K     |████████████████████████████████| 366 kB 31.7 MB/s \n\u001b[?25hRequirement already satisfied: numpy>=1.6.1 in /shared-libs/python3.7/py/lib/python3.7/site-packages (from wordcloud==1.8.1) (1.21.5)\nRequirement already satisfied: matplotlib in /shared-libs/python3.7/py/lib/python3.7/site-packages (from wordcloud==1.8.1) (3.5.1)\nRequirement already satisfied: pillow in /shared-libs/python3.7/py/lib/python3.7/site-packages (from wordcloud==1.8.1) (9.0.1)\nRequirement already satisfied: python-dateutil>=2.7 in /shared-libs/python3.7/py-core/lib/python3.7/site-packages (from matplotlib->wordcloud==1.8.1) (2.8.2)\nRequirement already satisfied: packaging>=20.0 in /shared-libs/python3.7/py-core/lib/python3.7/site-packages (from matplotlib->wordcloud==1.8.1) (21.3)\nRequirement already satisfied: pyparsing>=2.2.1 in /shared-libs/python3.7/py-core/lib/python3.7/site-packages (from matplotlib->wordcloud==1.8.1) (3.0.7)\nRequirement already satisfied: fonttools>=4.22.0 in /shared-libs/python3.7/py/lib/python3.7/site-packages (from matplotlib->wordcloud==1.8.1) (4.31.2)\nRequirement already satisfied: cycler>=0.10 in /shared-libs/python3.7/py/lib/python3.7/site-packages (from matplotlib->wordcloud==1.8.1) (0.11.0)\nRequirement already satisfied: kiwisolver>=1.0.1 in /shared-libs/python3.7/py/lib/python3.7/site-packages (from matplotlib->wordcloud==1.8.1) (1.4.0)\nRequirement already satisfied: six>=1.5 in /shared-libs/python3.7/py-core/lib/python3.7/site-packages (from python-dateutil>=2.7->matplotlib->wordcloud==1.8.1) (1.16.0)\nRequirement already satisfied: typing-extensions; python_version < \"3.8\" in /shared-libs/python3.7/py-core/lib/python3.7/site-packages (from kiwisolver>=1.0.1->matplotlib->wordcloud==1.8.1) (4.1.1)\nInstalling collected packages: wordcloud\nSuccessfully installed wordcloud-1.8.1\n\u001b[33mWARNING: You are using pip version 20.1.1; however, version 22.0.4 is available.\nYou should consider upgrading via the '/root/venv/bin/python -m pip install --upgrade pip' command.\u001b[0m\n",
     "output_type": "stream"
    }
   ],
   "execution_count": null
  },
  {
   "cell_type": "markdown",
   "source": "### Importamos las librerías",
   "metadata": {
    "cell_id": "b30d1e4b51c346748fdfed21bdde83d0",
    "tags": [],
    "deepnote_cell_type": "markdown",
    "deepnote_cell_height": 62
   }
  },
  {
   "cell_type": "code",
   "metadata": {
    "tags": [],
    "cell_id": "bc65c90f-10ba-436c-a32d-6120d3d6707b",
    "deepnote_to_be_reexecuted": false,
    "source_hash": "bcf36dc",
    "execution_start": 1649596365533,
    "execution_millis": 2,
    "deepnote_cell_type": "code",
    "deepnote_cell_height": 189
   },
   "source": "import pandas as pd\nimport numpy as np\nimport seaborn as sns\nimport matplotlib as mpl\nimport matplotlib.pyplot as plt\nfrom wordcloud import WordCloud, STOPWORDS\n%matplotlib inline",
   "outputs": [],
   "execution_count": null
  },
  {
   "cell_type": "markdown",
   "source": "> Asignamos los estilos de Matplotlib y Seaborn",
   "metadata": {
    "cell_id": "17bd16b23b5842e99a329e87f2474563",
    "tags": [],
    "deepnote_cell_type": "markdown",
    "deepnote_cell_height": 66.390625
   }
  },
  {
   "cell_type": "code",
   "metadata": {
    "cell_id": "9f13421d6480408697f0613a9b4b5f00",
    "tags": [],
    "deepnote_to_be_reexecuted": false,
    "source_hash": "83c292ab",
    "execution_start": 1649594428472,
    "execution_millis": 3,
    "owner_user_id": "8d9f0df6-25cd-43a2-97e1-a283b68026ae",
    "deepnote_cell_type": "code",
    "deepnote_cell_height": 99
   },
   "source": "mpl.style.use(['seaborn'])\nsns.set_theme(style=\"whitegrid\")",
   "outputs": [],
   "execution_count": null
  },
  {
   "cell_type": "markdown",
   "source": "## Leemos nuestros dataset",
   "metadata": {
    "cell_id": "9372bace97e3405fbc533613bea00e7c",
    "tags": [],
    "deepnote_cell_type": "markdown",
    "deepnote_cell_height": 70
   }
  },
  {
   "cell_type": "code",
   "metadata": {
    "cell_id": "c278998f75ad4c7994a2c7499a3a22d6",
    "tags": [],
    "deepnote_to_be_reexecuted": false,
    "source_hash": "9a96f5e5",
    "execution_start": 1649594431751,
    "execution_millis": 448,
    "deepnote_cell_type": "code",
    "deepnote_cell_height": 631.59375
   },
   "source": "df_2020 = pd.read_csv('/work/enaho-personas-estudios-caracteristicas-data-science/ENAHO-DATA-LIMPIA/2020.csv')\ndf_2020",
   "outputs": [
    {
     "output_type": "execute_result",
     "execution_count": 4,
     "data": {
      "application/vnd.deepnote.dataframe.v3+json": {
       "column_count": 19,
       "row_count": 14061,
       "columns": [
        {
         "name": "ANIO",
         "dtype": "int64",
         "stats": {
          "unique_count": 1,
          "nan_count": 0,
          "min": "2020",
          "max": "2020",
          "histogram": [
           {
            "bin_start": 2019.5,
            "bin_end": 2019.6,
            "count": 0
           },
           {
            "bin_start": 2019.6,
            "bin_end": 2019.7,
            "count": 0
           },
           {
            "bin_start": 2019.7,
            "bin_end": 2019.8,
            "count": 0
           },
           {
            "bin_start": 2019.8,
            "bin_end": 2019.9,
            "count": 0
           },
           {
            "bin_start": 2019.9,
            "bin_end": 2020,
            "count": 0
           },
           {
            "bin_start": 2020,
            "bin_end": 2020.1,
            "count": 14061
           },
           {
            "bin_start": 2020.1,
            "bin_end": 2020.2,
            "count": 0
           },
           {
            "bin_start": 2020.2,
            "bin_end": 2020.3,
            "count": 0
           },
           {
            "bin_start": 2020.3,
            "bin_end": 2020.4,
            "count": 0
           },
           {
            "bin_start": 2020.4,
            "bin_end": 2020.5,
            "count": 0
           }
          ]
         }
        },
        {
         "name": "UBIGEO",
         "dtype": "int64",
         "stats": {
          "unique_count": 835,
          "nan_count": 0,
          "min": "10101",
          "max": "250305",
          "histogram": [
           {
            "bin_start": 10101,
            "bin_end": 34121.4,
            "count": 1132
           },
           {
            "bin_start": 34121.4,
            "bin_end": 58141.8,
            "count": 1215
           },
           {
            "bin_start": 58141.8,
            "bin_end": 82162.20000000001,
            "count": 1235
           },
           {
            "bin_start": 82162.20000000001,
            "bin_end": 106182.6,
            "count": 598
           },
           {
            "bin_start": 106182.6,
            "bin_end": 130203,
            "count": 1892
           },
           {
            "bin_start": 130203,
            "bin_end": 154223.40000000002,
            "count": 3684
           },
           {
            "bin_start": 154223.40000000002,
            "bin_end": 178243.80000000002,
            "count": 715
           },
           {
            "bin_start": 178243.80000000002,
            "bin_end": 202264.2,
            "count": 1439
           },
           {
            "bin_start": 202264.2,
            "bin_end": 226284.6,
            "count": 710
           },
           {
            "bin_start": 226284.6,
            "bin_end": 250305,
            "count": 1441
           }
          ]
         }
        },
        {
         "name": "DOMINIO_G",
         "dtype": "int64",
         "stats": {
          "unique_count": 8,
          "nan_count": 0,
          "min": "1",
          "max": "8",
          "histogram": [
           {
            "bin_start": 1,
            "bin_end": 1.7,
            "count": 2107
           },
           {
            "bin_start": 1.7,
            "bin_end": 2.4,
            "count": 1535
           },
           {
            "bin_start": 2.4,
            "bin_end": 3.0999999999999996,
            "count": 1271
           },
           {
            "bin_start": 3.0999999999999996,
            "bin_end": 3.8,
            "count": 0
           },
           {
            "bin_start": 3.8,
            "bin_end": 4.5,
            "count": 481
           },
           {
            "bin_start": 4.5,
            "bin_end": 5.199999999999999,
            "count": 1903
           },
           {
            "bin_start": 5.199999999999999,
            "bin_end": 5.8999999999999995,
            "count": 0
           },
           {
            "bin_start": 5.8999999999999995,
            "bin_end": 6.6,
            "count": 1906
           },
           {
            "bin_start": 6.6,
            "bin_end": 7.3,
            "count": 1957
           },
           {
            "bin_start": 7.3,
            "bin_end": 8,
            "count": 2901
           }
          ]
         }
        },
        {
         "name": "ID_SEXO",
         "dtype": "int64",
         "stats": {
          "unique_count": 2,
          "nan_count": 0,
          "min": "1",
          "max": "2",
          "histogram": [
           {
            "bin_start": 1,
            "bin_end": 1.1,
            "count": 7155
           },
           {
            "bin_start": 1.1,
            "bin_end": 1.2,
            "count": 0
           },
           {
            "bin_start": 1.2,
            "bin_end": 1.3,
            "count": 0
           },
           {
            "bin_start": 1.3,
            "bin_end": 1.4,
            "count": 0
           },
           {
            "bin_start": 1.4,
            "bin_end": 1.5,
            "count": 0
           },
           {
            "bin_start": 1.5,
            "bin_end": 1.6,
            "count": 0
           },
           {
            "bin_start": 1.6,
            "bin_end": 1.7000000000000002,
            "count": 0
           },
           {
            "bin_start": 1.7000000000000002,
            "bin_end": 1.8,
            "count": 0
           },
           {
            "bin_start": 1.8,
            "bin_end": 1.9,
            "count": 0
           },
           {
            "bin_start": 1.9,
            "bin_end": 2,
            "count": 6906
           }
          ]
         }
        },
        {
         "name": "EDAD",
         "dtype": "int64",
         "stats": {
          "unique_count": 95,
          "nan_count": 0,
          "min": "3",
          "max": "98",
          "histogram": [
           {
            "bin_start": 3,
            "bin_end": 12.5,
            "count": 27
           },
           {
            "bin_start": 12.5,
            "bin_end": 22,
            "count": 2101
           },
           {
            "bin_start": 22,
            "bin_end": 31.5,
            "count": 4569
           },
           {
            "bin_start": 31.5,
            "bin_end": 41,
            "count": 2117
           },
           {
            "bin_start": 41,
            "bin_end": 50.5,
            "count": 1918
           },
           {
            "bin_start": 50.5,
            "bin_end": 60,
            "count": 1504
           },
           {
            "bin_start": 60,
            "bin_end": 69.5,
            "count": 1211
           },
           {
            "bin_start": 69.5,
            "bin_end": 79,
            "count": 481
           },
           {
            "bin_start": 79,
            "bin_end": 88.5,
            "count": 110
           },
           {
            "bin_start": 88.5,
            "bin_end": 98,
            "count": 23
           }
          ]
         }
        },
        {
         "name": "ID_ESTADO_CIVIL",
         "dtype": "int64",
         "stats": {
          "unique_count": 7,
          "nan_count": 0,
          "min": "-1",
          "max": "6",
          "histogram": [
           {
            "bin_start": -1,
            "bin_end": -0.30000000000000004,
            "count": 24
           },
           {
            "bin_start": -0.30000000000000004,
            "bin_end": 0.3999999999999999,
            "count": 0
           },
           {
            "bin_start": 0.3999999999999999,
            "bin_end": 1.0999999999999996,
            "count": 1957
           },
           {
            "bin_start": 1.0999999999999996,
            "bin_end": 1.7999999999999998,
            "count": 0
           },
           {
            "bin_start": 1.7999999999999998,
            "bin_end": 2.5,
            "count": 3534
           },
           {
            "bin_start": 2.5,
            "bin_end": 3.1999999999999993,
            "count": 232
           },
           {
            "bin_start": 3.1999999999999993,
            "bin_end": 3.8999999999999995,
            "count": 0
           },
           {
            "bin_start": 3.8999999999999995,
            "bin_end": 4.6,
            "count": 173
           },
           {
            "bin_start": 4.6,
            "bin_end": 5.3,
            "count": 1133
           },
           {
            "bin_start": 5.3,
            "bin_end": 6,
            "count": 7008
           }
          ]
         }
        },
        {
         "name": "COD_IDIOMA",
         "dtype": "int64",
         "stats": {
          "unique_count": 15,
          "nan_count": 0,
          "min": "1",
          "max": "99",
          "histogram": [
           {
            "bin_start": 1,
            "bin_end": 10.8,
            "count": 14024
           },
           {
            "bin_start": 10.8,
            "bin_end": 20.6,
            "count": 34
           },
           {
            "bin_start": 20.6,
            "bin_end": 30.400000000000002,
            "count": 0
           },
           {
            "bin_start": 30.400000000000002,
            "bin_end": 40.2,
            "count": 0
           },
           {
            "bin_start": 40.2,
            "bin_end": 50,
            "count": 0
           },
           {
            "bin_start": 50,
            "bin_end": 59.800000000000004,
            "count": 0
           },
           {
            "bin_start": 59.800000000000004,
            "bin_end": 69.60000000000001,
            "count": 0
           },
           {
            "bin_start": 69.60000000000001,
            "bin_end": 79.4,
            "count": 0
           },
           {
            "bin_start": 79.4,
            "bin_end": 89.2,
            "count": 0
           },
           {
            "bin_start": 89.2,
            "bin_end": 99,
            "count": 3
           }
          ]
         }
        },
        {
         "name": "COD_GRADO_ESTUDIOS",
         "dtype": "int64"
        },
        {
         "name": "COD_CARRERA_UNI",
         "dtype": "int64"
        },
        {
         "name": "COD_CENTRO_ESTUDIOS",
         "dtype": "int64"
        },
        {
         "name": "COD_DEPARTAMENTO",
         "dtype": "int64"
        },
        {
         "name": "NOM_DOMINIO_G",
         "dtype": "object"
        },
        {
         "name": "NOM_ESTADO_CIVIL",
         "dtype": "object"
        },
        {
         "name": "NOM_IDIOMA",
         "dtype": "object"
        },
        {
         "name": "NOM_GRADO_ESTUDIOS",
         "dtype": "object"
        },
        {
         "name": "NOM_CARRERA_UNI",
         "dtype": "object"
        },
        {
         "name": "NOM_CENTRO_ESTUDIOS",
         "dtype": "object"
        },
        {
         "name": "NOM_DEPARTAMENTO",
         "dtype": "object"
        },
        {
         "name": "SEXO",
         "dtype": "object"
        },
        {
         "name": "_deepnote_index_column",
         "dtype": "int64"
        }
       ],
       "rows": [
        {
         "ANIO": 2020,
         "UBIGEO": 10101,
         "DOMINIO_G": 4,
         "ID_SEXO": 2,
         "EDAD": 29,
         "ID_ESTADO_CIVIL": 6,
         "COD_IDIOMA": 4,
         "COD_GRADO_ESTUDIOS": 10,
         "COD_CARRERA_UNI": 332336,
         "COD_CENTRO_ESTUDIOS": 160000076,
         "COD_DEPARTAMENTO": 1,
         "NOM_DOMINIO_G": "Sierra Norte",
         "NOM_ESTADO_CIVIL": "Soltero",
         "NOM_IDIOMA": "Castellano",
         "NOM_GRADO_ESTUDIOS": "Superior Universitaria Completa",
         "NOM_CARRERA_UNI": "Turismo y Hotelería",
         "NOM_CENTRO_ESTUDIOS": "Universidad Nacional Toribio Rodríguez de Mendoza de Amazonas",
         "NOM_DEPARTAMENTO": "Amazonas",
         "SEXO": "Mujer",
         "_deepnote_index_column": 0
        },
        {
         "ANIO": 2020,
         "UBIGEO": 10101,
         "DOMINIO_G": 4,
         "ID_SEXO": 1,
         "EDAD": 18,
         "ID_ESTADO_CIVIL": 6,
         "COD_IDIOMA": 4,
         "COD_GRADO_ESTUDIOS": 9,
         "COD_CARRERA_UNI": 321026,
         "COD_CENTRO_ESTUDIOS": 160000076,
         "COD_DEPARTAMENTO": 1,
         "NOM_DOMINIO_G": "Sierra Norte",
         "NOM_ESTADO_CIVIL": "Soltero",
         "NOM_IDIOMA": "Castellano",
         "NOM_GRADO_ESTUDIOS": "Superior Universitaria Incompleta",
         "NOM_CARRERA_UNI": "Ciencias de la Comunicación",
         "NOM_CENTRO_ESTUDIOS": "Universidad Nacional Toribio Rodríguez de Mendoza de Amazonas",
         "NOM_DEPARTAMENTO": "Amazonas",
         "SEXO": "Hombre",
         "_deepnote_index_column": 1
        },
        {
         "ANIO": 2020,
         "UBIGEO": 10101,
         "DOMINIO_G": 4,
         "ID_SEXO": 2,
         "EDAD": 51,
         "ID_ESTADO_CIVIL": 5,
         "COD_IDIOMA": 4,
         "COD_GRADO_ESTUDIOS": 10,
         "COD_CARRERA_UNI": 121016,
         "COD_CENTRO_ESTUDIOS": 160000031,
         "COD_DEPARTAMENTO": 14,
         "NOM_DOMINIO_G": "Sierra Norte",
         "NOM_ESTADO_CIVIL": "Separado",
         "NOM_IDIOMA": "Castellano",
         "NOM_GRADO_ESTUDIOS": "Superior Universitaria Completa",
         "NOM_CARRERA_UNI": "Educación Secundaria",
         "NOM_CENTRO_ESTUDIOS": "Universidad Nacional Pedro Ruíz Gallo",
         "NOM_DEPARTAMENTO": "Lambayeque",
         "SEXO": "Mujer",
         "_deepnote_index_column": 2
        },
        {
         "ANIO": 2020,
         "UBIGEO": 10101,
         "DOMINIO_G": 4,
         "ID_SEXO": 2,
         "EDAD": 27,
         "ID_ESTADO_CIVIL": 6,
         "COD_IDIOMA": 4,
         "COD_GRADO_ESTUDIOS": 10,
         "COD_CARRERA_UNI": 713016,
         "COD_CENTRO_ESTUDIOS": 260000024,
         "COD_DEPARTAMENTO": 15,
         "NOM_DOMINIO_G": "Sierra Norte",
         "NOM_ESTADO_CIVIL": "Soltero",
         "NOM_IDIOMA": "Castellano",
         "NOM_GRADO_ESTUDIOS": "Superior Universitaria Completa",
         "NOM_CARRERA_UNI": "Estomatología",
         "NOM_CENTRO_ESTUDIOS": "Universidad Inca Garcilaso de la Vega",
         "NOM_DEPARTAMENTO": "Lima",
         "SEXO": "Mujer",
         "_deepnote_index_column": 3
        },
        {
         "ANIO": 2020,
         "UBIGEO": 10101,
         "DOMINIO_G": 4,
         "ID_SEXO": 2,
         "EDAD": 24,
         "ID_ESTADO_CIVIL": 6,
         "COD_IDIOMA": 4,
         "COD_GRADO_ESTUDIOS": 10,
         "COD_CARRERA_UNI": 711026,
         "COD_CENTRO_ESTUDIOS": 260000044,
         "COD_DEPARTAMENTO": 14,
         "NOM_DOMINIO_G": "Sierra Norte",
         "NOM_ESTADO_CIVIL": "Soltero",
         "NOM_IDIOMA": "Castellano",
         "NOM_GRADO_ESTUDIOS": "Superior Universitaria Completa",
         "NOM_CARRERA_UNI": "Medicina Humana",
         "NOM_CENTRO_ESTUDIOS": "Universidad Particular de Chiclayo",
         "NOM_DEPARTAMENTO": "Lambayeque",
         "SEXO": "Mujer",
         "_deepnote_index_column": 4
        },
        {
         "ANIO": 2020,
         "UBIGEO": 10101,
         "DOMINIO_G": 4,
         "ID_SEXO": 1,
         "EDAD": 68,
         "ID_ESTADO_CIVIL": 5,
         "COD_IDIOMA": 4,
         "COD_GRADO_ESTUDIOS": 10,
         "COD_CARRERA_UNI": 531016,
         "COD_CENTRO_ESTUDIOS": 160000031,
         "COD_DEPARTAMENTO": 14,
         "NOM_DOMINIO_G": "Sierra Norte",
         "NOM_ESTADO_CIVIL": "Separado",
         "NOM_IDIOMA": "Castellano",
         "NOM_GRADO_ESTUDIOS": "Superior Universitaria Completa",
         "NOM_CARRERA_UNI": "Ingeniería Civil",
         "NOM_CENTRO_ESTUDIOS": "Universidad Nacional Pedro Ruíz Gallo",
         "NOM_DEPARTAMENTO": "Lambayeque",
         "SEXO": "Hombre",
         "_deepnote_index_column": 5
        },
        {
         "ANIO": 2020,
         "UBIGEO": 10101,
         "DOMINIO_G": 4,
         "ID_SEXO": 1,
         "EDAD": 31,
         "ID_ESTADO_CIVIL": 2,
         "COD_IDIOMA": 4,
         "COD_GRADO_ESTUDIOS": 11,
         "COD_CARRERA_UNI": 713016,
         "COD_CENTRO_ESTUDIOS": 260000024,
         "COD_DEPARTAMENTO": 15,
         "NOM_DOMINIO_G": "Sierra Norte",
         "NOM_ESTADO_CIVIL": "Casado",
         "NOM_IDIOMA": "Castellano",
         "NOM_GRADO_ESTUDIOS": "Maestria/doctorado",
         "NOM_CARRERA_UNI": "Estomatología",
         "NOM_CENTRO_ESTUDIOS": "Universidad Inca Garcilaso de la Vega",
         "NOM_DEPARTAMENTO": "Lima",
         "SEXO": "Hombre",
         "_deepnote_index_column": 6
        },
        {
         "ANIO": 2020,
         "UBIGEO": 10101,
         "DOMINIO_G": 4,
         "ID_SEXO": 2,
         "EDAD": 32,
         "ID_ESTADO_CIVIL": 2,
         "COD_IDIOMA": 4,
         "COD_GRADO_ESTUDIOS": 10,
         "COD_CARRERA_UNI": 341026,
         "COD_CENTRO_ESTUDIOS": 160000001,
         "COD_DEPARTAMENTO": 15,
         "NOM_DOMINIO_G": "Sierra Norte",
         "NOM_ESTADO_CIVIL": "Casado",
         "NOM_IDIOMA": "Castellano",
         "NOM_GRADO_ESTUDIOS": "Superior Universitaria Completa",
         "NOM_CARRERA_UNI": "Economía",
         "NOM_CENTRO_ESTUDIOS": "Universidad Nacional Mayor de San Marcos",
         "NOM_DEPARTAMENTO": "Lima",
         "SEXO": "Mujer",
         "_deepnote_index_column": 7
        },
        {
         "ANIO": 2020,
         "UBIGEO": 10101,
         "DOMINIO_G": 4,
         "ID_SEXO": 2,
         "EDAD": 40,
         "ID_ESTADO_CIVIL": 5,
         "COD_IDIOMA": 4,
         "COD_GRADO_ESTUDIOS": 11,
         "COD_CARRERA_UNI": 111026,
         "COD_CENTRO_ESTUDIOS": 160000004,
         "COD_DEPARTAMENTO": 13,
         "NOM_DOMINIO_G": "Sierra Norte",
         "NOM_ESTADO_CIVIL": "Separado",
         "NOM_IDIOMA": "Castellano",
         "NOM_GRADO_ESTUDIOS": "Maestria/doctorado",
         "NOM_CARRERA_UNI": "Educación Inicial",
         "NOM_CENTRO_ESTUDIOS": "Universidad Nacional de Trujillo",
         "NOM_DEPARTAMENTO": "La Libertad",
         "SEXO": "Mujer",
         "_deepnote_index_column": 8
        },
        {
         "ANIO": 2020,
         "UBIGEO": 10501,
         "DOMINIO_G": 4,
         "ID_SEXO": 2,
         "EDAD": 49,
         "ID_ESTADO_CIVIL": 6,
         "COD_IDIOMA": 4,
         "COD_GRADO_ESTUDIOS": 10,
         "COD_CARRERA_UNI": 111026,
         "COD_CENTRO_ESTUDIOS": 260000049,
         "COD_DEPARTAMENTO": 15,
         "NOM_DOMINIO_G": "Sierra Norte",
         "NOM_ESTADO_CIVIL": "Soltero",
         "NOM_IDIOMA": "Castellano",
         "NOM_GRADO_ESTUDIOS": "Superior Universitaria Completa",
         "NOM_CARRERA_UNI": "Educación Inicial",
         "NOM_CENTRO_ESTUDIOS": "Universidad Particular Marcelino Champagnat",
         "NOM_DEPARTAMENTO": "Lima",
         "SEXO": "Mujer",
         "_deepnote_index_column": 9
        }
       ]
      },
      "text/plain": "       ANIO  UBIGEO  DOMINIO_G  ID_SEXO  EDAD  ID_ESTADO_CIVIL  COD_IDIOMA  \\\n0      2020   10101          4        2    29                6           4   \n1      2020   10101          4        1    18                6           4   \n2      2020   10101          4        2    51                5           4   \n3      2020   10101          4        2    27                6           4   \n4      2020   10101          4        2    24                6           4   \n...     ...     ...        ...      ...   ...              ...         ...   \n14056  2020  250101          7        2    40                2           4   \n14057  2020  250101          7        2    66                2           4   \n14058  2020  250101          7        2    22                6           4   \n14059  2020  250101          7        1    28                6           4   \n14060  2020  250301          7        2    35                1           4   \n\n       COD_GRADO_ESTUDIOS  COD_CARRERA_UNI  COD_CENTRO_ESTUDIOS  \\\n0                      10           332336            160000076   \n1                       9           321026            160000076   \n2                      10           121016            160000031   \n3                      10           713016            260000024   \n4                      10           711026            260000044   \n...                   ...              ...                  ...   \n14056                  10           714016            260000008   \n14057                   9           522016            160000022   \n14058                  10           342056            260000059   \n14059                  12               -1                   -1   \n14060                  10           351056            160000035   \n\n       COD_DEPARTAMENTO NOM_DOMINIO_G NOM_ESTADO_CIVIL  NOM_IDIOMA  \\\n0                     1  Sierra Norte          Soltero  Castellano   \n1                     1  Sierra Norte          Soltero  Castellano   \n2                    14  Sierra Norte         Separado  Castellano   \n3                    15  Sierra Norte          Soltero  Castellano   \n4                    14  Sierra Norte          Soltero  Castellano   \n...                 ...           ...              ...         ...   \n14056                99         Selva           Casado  Castellano   \n14057                99         Selva           Casado  Castellano   \n14058                15         Selva          Soltero  Castellano   \n14059                -1         Selva          Soltero  Castellano   \n14060                25         Selva      Conviviente  Castellano   \n\n                      NOM_GRADO_ESTUDIOS                    NOM_CARRERA_UNI  \\\n0        Superior Universitaria Completa                Turismo y Hotelería   \n1      Superior Universitaria Incompleta        Ciencias de la Comunicación   \n2        Superior Universitaria Completa               Educación Secundaria   \n3        Superior Universitaria Completa                      Estomatología   \n4        Superior Universitaria Completa                    Medicina Humana   \n...                                  ...                                ...   \n14056    Superior Universitaria Completa                         Enfermería   \n14057  Superior Universitaria Incompleta            Industrias Alimentarias   \n14058    Superior Universitaria Completa                       Contabilidad   \n14059                    Básica especial                                NaN   \n14060    Superior Universitaria Completa  Derecho y Ciencias Políticas   1/   \n\n                                     NOM_CENTRO_ESTUDIOS NOM_DEPARTAMENTO  \\\n0      Universidad Nacional Toribio Rodríguez de Mend...         Amazonas   \n1      Universidad Nacional Toribio Rodríguez de Mend...         Amazonas   \n2                  Universidad Nacional Pedro Ruíz Gallo       Lambayeque   \n3                  Universidad Inca Garcilaso de la Vega             Lima   \n4                     Universidad Particular de Chiclayo       Lambayeque   \n...                                                  ...              ...   \n14056           Pontificia Universidad Católica del Perú              NaN   \n14057           Universidad Nacional Agraria de la Selva              NaN   \n14058                          Universidad Alas Peruanas             Lima   \n14059                                                NaN              NaN   \n14060                    Universidad Nacional de Ucayali          Ucayali   \n\n         SEXO  \n0       Mujer  \n1      Hombre  \n2       Mujer  \n3       Mujer  \n4       Mujer  \n...       ...  \n14056   Mujer  \n14057   Mujer  \n14058   Mujer  \n14059  Hombre  \n14060   Mujer  \n\n[14061 rows x 19 columns]",
      "text/html": "<div>\n<style scoped>\n    .dataframe tbody tr th:only-of-type {\n        vertical-align: middle;\n    }\n\n    .dataframe tbody tr th {\n        vertical-align: top;\n    }\n\n    .dataframe thead th {\n        text-align: right;\n    }\n</style>\n<table border=\"1\" class=\"dataframe\">\n  <thead>\n    <tr style=\"text-align: right;\">\n      <th></th>\n      <th>ANIO</th>\n      <th>UBIGEO</th>\n      <th>DOMINIO_G</th>\n      <th>ID_SEXO</th>\n      <th>EDAD</th>\n      <th>ID_ESTADO_CIVIL</th>\n      <th>COD_IDIOMA</th>\n      <th>COD_GRADO_ESTUDIOS</th>\n      <th>COD_CARRERA_UNI</th>\n      <th>COD_CENTRO_ESTUDIOS</th>\n      <th>COD_DEPARTAMENTO</th>\n      <th>NOM_DOMINIO_G</th>\n      <th>NOM_ESTADO_CIVIL</th>\n      <th>NOM_IDIOMA</th>\n      <th>NOM_GRADO_ESTUDIOS</th>\n      <th>NOM_CARRERA_UNI</th>\n      <th>NOM_CENTRO_ESTUDIOS</th>\n      <th>NOM_DEPARTAMENTO</th>\n      <th>SEXO</th>\n    </tr>\n  </thead>\n  <tbody>\n    <tr>\n      <th>0</th>\n      <td>2020</td>\n      <td>10101</td>\n      <td>4</td>\n      <td>2</td>\n      <td>29</td>\n      <td>6</td>\n      <td>4</td>\n      <td>10</td>\n      <td>332336</td>\n      <td>160000076</td>\n      <td>1</td>\n      <td>Sierra Norte</td>\n      <td>Soltero</td>\n      <td>Castellano</td>\n      <td>Superior Universitaria Completa</td>\n      <td>Turismo y Hotelería</td>\n      <td>Universidad Nacional Toribio Rodríguez de Mend...</td>\n      <td>Amazonas</td>\n      <td>Mujer</td>\n    </tr>\n    <tr>\n      <th>1</th>\n      <td>2020</td>\n      <td>10101</td>\n      <td>4</td>\n      <td>1</td>\n      <td>18</td>\n      <td>6</td>\n      <td>4</td>\n      <td>9</td>\n      <td>321026</td>\n      <td>160000076</td>\n      <td>1</td>\n      <td>Sierra Norte</td>\n      <td>Soltero</td>\n      <td>Castellano</td>\n      <td>Superior Universitaria Incompleta</td>\n      <td>Ciencias de la Comunicación</td>\n      <td>Universidad Nacional Toribio Rodríguez de Mend...</td>\n      <td>Amazonas</td>\n      <td>Hombre</td>\n    </tr>\n    <tr>\n      <th>2</th>\n      <td>2020</td>\n      <td>10101</td>\n      <td>4</td>\n      <td>2</td>\n      <td>51</td>\n      <td>5</td>\n      <td>4</td>\n      <td>10</td>\n      <td>121016</td>\n      <td>160000031</td>\n      <td>14</td>\n      <td>Sierra Norte</td>\n      <td>Separado</td>\n      <td>Castellano</td>\n      <td>Superior Universitaria Completa</td>\n      <td>Educación Secundaria</td>\n      <td>Universidad Nacional Pedro Ruíz Gallo</td>\n      <td>Lambayeque</td>\n      <td>Mujer</td>\n    </tr>\n    <tr>\n      <th>3</th>\n      <td>2020</td>\n      <td>10101</td>\n      <td>4</td>\n      <td>2</td>\n      <td>27</td>\n      <td>6</td>\n      <td>4</td>\n      <td>10</td>\n      <td>713016</td>\n      <td>260000024</td>\n      <td>15</td>\n      <td>Sierra Norte</td>\n      <td>Soltero</td>\n      <td>Castellano</td>\n      <td>Superior Universitaria Completa</td>\n      <td>Estomatología</td>\n      <td>Universidad Inca Garcilaso de la Vega</td>\n      <td>Lima</td>\n      <td>Mujer</td>\n    </tr>\n    <tr>\n      <th>4</th>\n      <td>2020</td>\n      <td>10101</td>\n      <td>4</td>\n      <td>2</td>\n      <td>24</td>\n      <td>6</td>\n      <td>4</td>\n      <td>10</td>\n      <td>711026</td>\n      <td>260000044</td>\n      <td>14</td>\n      <td>Sierra Norte</td>\n      <td>Soltero</td>\n      <td>Castellano</td>\n      <td>Superior Universitaria Completa</td>\n      <td>Medicina Humana</td>\n      <td>Universidad Particular de Chiclayo</td>\n      <td>Lambayeque</td>\n      <td>Mujer</td>\n    </tr>\n    <tr>\n      <th>...</th>\n      <td>...</td>\n      <td>...</td>\n      <td>...</td>\n      <td>...</td>\n      <td>...</td>\n      <td>...</td>\n      <td>...</td>\n      <td>...</td>\n      <td>...</td>\n      <td>...</td>\n      <td>...</td>\n      <td>...</td>\n      <td>...</td>\n      <td>...</td>\n      <td>...</td>\n      <td>...</td>\n      <td>...</td>\n      <td>...</td>\n      <td>...</td>\n    </tr>\n    <tr>\n      <th>14056</th>\n      <td>2020</td>\n      <td>250101</td>\n      <td>7</td>\n      <td>2</td>\n      <td>40</td>\n      <td>2</td>\n      <td>4</td>\n      <td>10</td>\n      <td>714016</td>\n      <td>260000008</td>\n      <td>99</td>\n      <td>Selva</td>\n      <td>Casado</td>\n      <td>Castellano</td>\n      <td>Superior Universitaria Completa</td>\n      <td>Enfermería</td>\n      <td>Pontificia Universidad Católica del Perú</td>\n      <td>NaN</td>\n      <td>Mujer</td>\n    </tr>\n    <tr>\n      <th>14057</th>\n      <td>2020</td>\n      <td>250101</td>\n      <td>7</td>\n      <td>2</td>\n      <td>66</td>\n      <td>2</td>\n      <td>4</td>\n      <td>9</td>\n      <td>522016</td>\n      <td>160000022</td>\n      <td>99</td>\n      <td>Selva</td>\n      <td>Casado</td>\n      <td>Castellano</td>\n      <td>Superior Universitaria Incompleta</td>\n      <td>Industrias Alimentarias</td>\n      <td>Universidad Nacional Agraria de la Selva</td>\n      <td>NaN</td>\n      <td>Mujer</td>\n    </tr>\n    <tr>\n      <th>14058</th>\n      <td>2020</td>\n      <td>250101</td>\n      <td>7</td>\n      <td>2</td>\n      <td>22</td>\n      <td>6</td>\n      <td>4</td>\n      <td>10</td>\n      <td>342056</td>\n      <td>260000059</td>\n      <td>15</td>\n      <td>Selva</td>\n      <td>Soltero</td>\n      <td>Castellano</td>\n      <td>Superior Universitaria Completa</td>\n      <td>Contabilidad</td>\n      <td>Universidad Alas Peruanas</td>\n      <td>Lima</td>\n      <td>Mujer</td>\n    </tr>\n    <tr>\n      <th>14059</th>\n      <td>2020</td>\n      <td>250101</td>\n      <td>7</td>\n      <td>1</td>\n      <td>28</td>\n      <td>6</td>\n      <td>4</td>\n      <td>12</td>\n      <td>-1</td>\n      <td>-1</td>\n      <td>-1</td>\n      <td>Selva</td>\n      <td>Soltero</td>\n      <td>Castellano</td>\n      <td>Básica especial</td>\n      <td>NaN</td>\n      <td>NaN</td>\n      <td>NaN</td>\n      <td>Hombre</td>\n    </tr>\n    <tr>\n      <th>14060</th>\n      <td>2020</td>\n      <td>250301</td>\n      <td>7</td>\n      <td>2</td>\n      <td>35</td>\n      <td>1</td>\n      <td>4</td>\n      <td>10</td>\n      <td>351056</td>\n      <td>160000035</td>\n      <td>25</td>\n      <td>Selva</td>\n      <td>Conviviente</td>\n      <td>Castellano</td>\n      <td>Superior Universitaria Completa</td>\n      <td>Derecho y Ciencias Políticas   1/</td>\n      <td>Universidad Nacional de Ucayali</td>\n      <td>Ucayali</td>\n      <td>Mujer</td>\n    </tr>\n  </tbody>\n</table>\n<p>14061 rows × 19 columns</p>\n</div>"
     },
     "metadata": {}
    }
   ],
   "execution_count": null
  },
  {
   "cell_type": "markdown",
   "source": "> Verificamos nuestras columnas",
   "metadata": {
    "cell_id": "821cbe5f5cf4437aba415d55ab4670b0",
    "tags": [],
    "deepnote_cell_type": "markdown",
    "deepnote_cell_height": 66.390625
   }
  },
  {
   "cell_type": "code",
   "metadata": {
    "cell_id": "fbc806bd638c4d4c8cda95fc354b04ea",
    "tags": [],
    "deepnote_to_be_reexecuted": false,
    "source_hash": "db385539",
    "execution_start": 1649594637183,
    "execution_millis": 2,
    "deepnote_cell_type": "code",
    "deepnote_cell_height": 214.1875,
    "deepnote_output_heights": [
     117.1875
    ]
   },
   "source": "df_2020.columns",
   "outputs": [
    {
     "output_type": "execute_result",
     "execution_count": 5,
     "data": {
      "text/plain": "Index(['ANIO', 'UBIGEO', 'DOMINIO_G', 'ID_SEXO', 'EDAD', 'ID_ESTADO_CIVIL',\n       'COD_IDIOMA', 'COD_GRADO_ESTUDIOS', 'COD_CARRERA_UNI',\n       'COD_CENTRO_ESTUDIOS', 'COD_DEPARTAMENTO', 'NOM_DOMINIO_G',\n       'NOM_ESTADO_CIVIL', 'NOM_IDIOMA', 'NOM_GRADO_ESTUDIOS',\n       'NOM_CARRERA_UNI', 'NOM_CENTRO_ESTUDIOS', 'NOM_DEPARTAMENTO', 'SEXO'],\n      dtype='object')"
     },
     "metadata": {}
    }
   ],
   "execution_count": null
  },
  {
   "cell_type": "markdown",
   "source": "> Verificamos si hay valores nulo o vacíos",
   "metadata": {
    "cell_id": "96224143587d414188a6b4d8cfb0366d",
    "tags": [],
    "deepnote_cell_type": "markdown",
    "deepnote_cell_height": 66.390625
   }
  },
  {
   "cell_type": "code",
   "source": "df_2020.isnull().sum()",
   "metadata": {
    "cell_id": "83d114c2a0b347128acd3ad04387c37b",
    "tags": [],
    "deepnote_to_be_reexecuted": false,
    "source_hash": "6a073024",
    "execution_start": 1649594675406,
    "execution_millis": 110,
    "deepnote_cell_type": "code",
    "deepnote_cell_height": 483,
    "deepnote_output_heights": [
     386
    ]
   },
   "outputs": [
    {
     "output_type": "execute_result",
     "execution_count": 6,
     "data": {
      "text/plain": "ANIO                      0\nUBIGEO                    0\nDOMINIO_G                 0\nID_SEXO                   0\nEDAD                      0\nID_ESTADO_CIVIL           0\nCOD_IDIOMA                0\nCOD_GRADO_ESTUDIOS        0\nCOD_CARRERA_UNI           0\nCOD_CENTRO_ESTUDIOS       0\nCOD_DEPARTAMENTO          0\nNOM_DOMINIO_G             0\nNOM_ESTADO_CIVIL         24\nNOM_IDIOMA                3\nNOM_GRADO_ESTUDIOS        0\nNOM_CARRERA_UNI        7007\nNOM_CENTRO_ESTUDIOS    7162\nNOM_DEPARTAMENTO       7172\nSEXO                      0\ndtype: int64"
     },
     "metadata": {}
    }
   ],
   "execution_count": null
  },
  {
   "cell_type": "markdown",
   "source": "### Lidiamos con algunos valores nulos o 'Missing values'",
   "metadata": {
    "cell_id": "6690115ddce74854a84f458e6e95027d",
    "tags": [],
    "deepnote_cell_type": "markdown",
    "deepnote_cell_height": 62
   }
  },
  {
   "cell_type": "code",
   "source": "# reemplazamos los missing value con nan\ndf_2020.replace('Missing value', np.nan, inplace = True)",
   "metadata": {
    "cell_id": "29a6b696382a4b0384f2b5318252f06c",
    "tags": [],
    "deepnote_to_be_reexecuted": false,
    "source_hash": "28788ff4",
    "execution_start": 1649594914659,
    "execution_millis": 1,
    "deepnote_cell_type": "code",
    "deepnote_cell_height": 99
   },
   "outputs": [],
   "execution_count": null
  },
  {
   "cell_type": "markdown",
   "source": "> Creamos una columna para realizar operaciones incrementales",
   "metadata": {
    "cell_id": "b54356d3b19148798ea996c35c58f00a",
    "tags": [],
    "deepnote_cell_type": "markdown",
    "deepnote_cell_height": 66.390625
   }
  },
  {
   "cell_type": "code",
   "metadata": {
    "cell_id": "4972ea78389c46368132d596dba1cdb2",
    "tags": [],
    "deepnote_to_be_reexecuted": false,
    "source_hash": "b18fb26f",
    "execution_start": 1649594944169,
    "execution_millis": 3,
    "deepnote_cell_type": "code",
    "deepnote_cell_height": 81
   },
   "source": "df_2020['TOTAL'] = 1",
   "outputs": [],
   "execution_count": null
  },
  {
   "cell_type": "markdown",
   "source": "## INICIAMOS A SACAR IMPORTANTE INFORMACIÓN",
   "metadata": {
    "cell_id": "2c1f0fa679c84dae94375bdbe3c9cccb",
    "tags": [],
    "deepnote_cell_type": "markdown",
    "deepnote_cell_height": 70
   }
  },
  {
   "cell_type": "markdown",
   "source": "### Total de acuerdo al Grado de Estudios",
   "metadata": {
    "cell_id": "87879d72823045638c812d6383aa6502",
    "tags": [],
    "deepnote_cell_type": "markdown",
    "deepnote_cell_height": 62
   }
  },
  {
   "cell_type": "code",
   "metadata": {
    "cell_id": "1e12ef88260542478a069d9450235153",
    "tags": [],
    "deepnote_to_be_reexecuted": false,
    "source_hash": "a768bf4e",
    "execution_start": 1649597776864,
    "execution_millis": 20,
    "deepnote_cell_type": "code",
    "deepnote_cell_height": 390,
    "deepnote_output_heights": [
     117.1875
    ]
   },
   "source": "# Cuantos tienen distintos grados académicos\ndf_grado_total = df_2020.groupby(by = ['NOM_GRADO_ESTUDIOS']).sum()['TOTAL'].to_frame()\ndf_grado_total",
   "outputs": [
    {
     "output_type": "execute_result",
     "execution_count": 74,
     "data": {
      "application/vnd.deepnote.dataframe.v3+json": {
       "column_count": 1,
       "row_count": 4,
       "columns": [
        {
         "name": "TOTAL",
         "dtype": "int64",
         "stats": {
          "unique_count": 4,
          "nan_count": 0,
          "min": "130",
          "max": "6930",
          "histogram": [
           {
            "bin_start": 130,
            "bin_end": 810,
            "count": 1
           },
           {
            "bin_start": 810,
            "bin_end": 1490,
            "count": 1
           },
           {
            "bin_start": 1490,
            "bin_end": 2170,
            "count": 0
           },
           {
            "bin_start": 2170,
            "bin_end": 2850,
            "count": 0
           },
           {
            "bin_start": 2850,
            "bin_end": 3530,
            "count": 0
           },
           {
            "bin_start": 3530,
            "bin_end": 4210,
            "count": 0
           },
           {
            "bin_start": 4210,
            "bin_end": 4890,
            "count": 0
           },
           {
            "bin_start": 4890,
            "bin_end": 5570,
            "count": 0
           },
           {
            "bin_start": 5570,
            "bin_end": 6250,
            "count": 1
           },
           {
            "bin_start": 6250,
            "bin_end": 6930,
            "count": 1
           }
          ]
         }
        },
        {
         "name": "_deepnote_index_column",
         "dtype": "object"
        }
       ],
       "rows": [
        {
         "TOTAL": 130,
         "_deepnote_index_column": "Básica especial"
        },
        {
         "TOTAL": 1219,
         "_deepnote_index_column": "Maestria/doctorado"
        },
        {
         "TOTAL": 6930,
         "_deepnote_index_column": "Superior Universitaria Completa"
        },
        {
         "TOTAL": 5779,
         "_deepnote_index_column": "Superior Universitaria Incompleta"
        }
       ]
      },
      "text/plain": "                                   TOTAL\nNOM_GRADO_ESTUDIOS                      \nBásica especial                      130\nMaestria/doctorado                  1219\nSuperior Universitaria Completa     6930\nSuperior Universitaria Incompleta   5779",
      "text/html": "<div>\n<style scoped>\n    .dataframe tbody tr th:only-of-type {\n        vertical-align: middle;\n    }\n\n    .dataframe tbody tr th {\n        vertical-align: top;\n    }\n\n    .dataframe thead th {\n        text-align: right;\n    }\n</style>\n<table border=\"1\" class=\"dataframe\">\n  <thead>\n    <tr style=\"text-align: right;\">\n      <th></th>\n      <th>TOTAL</th>\n    </tr>\n    <tr>\n      <th>NOM_GRADO_ESTUDIOS</th>\n      <th></th>\n    </tr>\n  </thead>\n  <tbody>\n    <tr>\n      <th>Básica especial</th>\n      <td>130</td>\n    </tr>\n    <tr>\n      <th>Maestria/doctorado</th>\n      <td>1219</td>\n    </tr>\n    <tr>\n      <th>Superior Universitaria Completa</th>\n      <td>6930</td>\n    </tr>\n    <tr>\n      <th>Superior Universitaria Incompleta</th>\n      <td>5779</td>\n    </tr>\n  </tbody>\n</table>\n</div>"
     },
     "metadata": {}
    }
   ],
   "execution_count": null
  },
  {
   "cell_type": "code",
   "metadata": {
    "cell_id": "ff97d5abc09a48ae83380894da62394d",
    "tags": [],
    "deepnote_to_be_reexecuted": false,
    "source_hash": "54753ccf",
    "execution_start": 1649597825176,
    "execution_millis": 261,
    "deepnote_cell_type": "code",
    "deepnote_cell_height": 836,
    "deepnote_output_heights": [
     397,
     21.1875
    ]
   },
   "source": "plt.figure(figsize=(15,10))\n\ncolors_list = ['lightcoral', 'lightskyblue', 'lightgreen', 'pink']\nexplode_list = [0, 0, 0, 0.1]\n\ndf_grado_total['TOTAL'].plot(kind='pie',\n                    figsize=(15, 6),\n                    autopct='%1.1f%%',\n                    startangle=90,\n                    shadow=True,\n                    labels=None,\n                    pctdistance=1.12,\n                    # colors=colors_list,\n                    explode=explode_list\n                    )\n\nplt.title('Porcentaje de Grado Académido - 2020', y=1.12) \nplt.axis('equal')\nplt.legend(labels=df_grado_total.index, loc='upper left') \nplt.show()",
   "outputs": [
    {
     "data": {
      "text/plain": "<Figure size 1080x432 with 1 Axes>",
      "image/png": "[encoded data removed]"
     },
     "metadata": {
      "image/png": {
       "width": 868,
       "height": 395
      }
     },
     "output_type": "display_data"
    }
   ],
   "execution_count": null
  },
  {
   "cell_type": "markdown",
   "source": "### Total de personas de acuerdo al género",
   "metadata": {
    "cell_id": "9b813d938ec746fda4f31edebf537cd1",
    "tags": [],
    "deepnote_cell_type": "markdown",
    "deepnote_cell_height": 62
   }
  },
  {
   "cell_type": "code",
   "metadata": {
    "cell_id": "c3309c3452094e44977c81265c4f4f3c",
    "tags": [],
    "deepnote_to_be_reexecuted": false,
    "source_hash": "29aa5a3e",
    "execution_start": 1649596754922,
    "execution_millis": 293,
    "deepnote_cell_type": "code",
    "deepnote_cell_height": 474,
    "deepnote_output_heights": [
     323,
     304
    ]
   },
   "source": "df_2020.groupby(by = 'SEXO').sum()['TOTAL'].plot(kind = 'bar')\nplt.title('Cantidad de personas de acuerdo al sexo con estudios mínimos PREGRADO - 2020')\nplt.ylabel('Cantidad')\nplt.show()",
   "outputs": [
    {
     "data": {
      "text/plain": "<Figure size 432x288 with 1 Axes>",
      "image/png": "[encoded data removed]"
     },
     "metadata": {
      "needs_background": "light",
      "image/png": {
       "width": 512,
       "height": 321
      }
     },
     "output_type": "display_data"
    }
   ],
   "execution_count": null
  },
  {
   "cell_type": "markdown",
   "source": "### Total Hombres y Mujeres de acuerdo al Grado académido y la EDAD",
   "metadata": {
    "cell_id": "501fe7ba608c4d6bb53a12d50fb25b90",
    "tags": [],
    "deepnote_cell_type": "markdown",
    "deepnote_cell_height": 62
   }
  },
  {
   "cell_type": "code",
   "source": "plt.figure(figsize=(17,10))\nsns.barplot(x = 'NOM_GRADO_ESTUDIOS', y = 'EDAD', hue = 'SEXO', data = df_2020)\nplt.title('Promedio de edad de hombres y mujeres de acuerdo al Grado de Estudios - 2020')\nplt.xlabel('Grado de Estudios')\nplt.show()",
   "metadata": {
    "cell_id": "23a208a602c041838829147410099af2",
    "tags": [],
    "deepnote_to_be_reexecuted": false,
    "source_hash": "484bfe5f",
    "execution_start": 1649596747053,
    "execution_millis": 998,
    "deepnote_cell_type": "code",
    "deepnote_cell_height": 735.34375,
    "deepnote_output_heights": [
     566.359375
    ]
   },
   "outputs": [
    {
     "data": {
      "text/plain": "<Figure size 1224x720 with 1 Axes>",
      "image/png": "[encoded data removed]"
     },
     "metadata": {
      "needs_background": "light",
      "image/png": {
       "width": 1007,
       "height": 614
      }
     },
     "output_type": "display_data"
    }
   ],
   "execution_count": null
  },
  {
   "cell_type": "markdown",
   "source": "### En regiones hay más estudiantes",
   "metadata": {
    "cell_id": "3d028ed5e1f24259892fbada6eecfd98",
    "tags": [],
    "deepnote_cell_type": "markdown",
    "deepnote_cell_height": 62
   }
  },
  {
   "cell_type": "code",
   "source": "df_total_regiones = df_2020.groupby(by = 'NOM_DEPARTAMENTO').sum()['TOTAL'].to_frame().sort_values(by = 'TOTAL', ascending=False)\ndf_total_regiones",
   "metadata": {
    "cell_id": "0ccca2579e6045cfb5884bfa1635d401",
    "tags": [],
    "deepnote_to_be_reexecuted": false,
    "source_hash": "6716d8e8",
    "execution_start": 1649597686275,
    "execution_millis": 19,
    "deepnote_cell_type": "code",
    "deepnote_cell_height": 618
   },
   "outputs": [
    {
     "output_type": "execute_result",
     "execution_count": 72,
     "data": {
      "application/vnd.deepnote.dataframe.v3+json": {
       "column_count": 1,
       "row_count": 24,
       "columns": [
        {
         "name": "TOTAL",
         "dtype": "int64",
         "stats": {
          "unique_count": 24,
          "nan_count": 0,
          "min": "34",
          "max": "2220",
          "histogram": [
           {
            "bin_start": 34,
            "bin_end": 252.6,
            "count": 16
           },
           {
            "bin_start": 252.6,
            "bin_end": 471.2,
            "count": 6
           },
           {
            "bin_start": 471.2,
            "bin_end": 689.8,
            "count": 0
           },
           {
            "bin_start": 689.8,
            "bin_end": 908.4,
            "count": 1
           },
           {
            "bin_start": 908.4,
            "bin_end": 1127,
            "count": 0
           },
           {
            "bin_start": 1127,
            "bin_end": 1345.6,
            "count": 0
           },
           {
            "bin_start": 1345.6,
            "bin_end": 1564.2,
            "count": 0
           },
           {
            "bin_start": 1564.2,
            "bin_end": 1782.8,
            "count": 0
           },
           {
            "bin_start": 1782.8,
            "bin_end": 2001.3999999999999,
            "count": 0
           },
           {
            "bin_start": 2001.3999999999999,
            "bin_end": 2220,
            "count": 1
           }
          ]
         }
        },
        {
         "name": "_deepnote_index_column",
         "dtype": "object"
        }
       ],
       "rows": [
        {
         "TOTAL": 2220,
         "_deepnote_index_column": "Lima"
        },
        {
         "TOTAL": 742,
         "_deepnote_index_column": "La Libertad"
        },
        {
         "TOTAL": 449,
         "_deepnote_index_column": "Arequipa"
        },
        {
         "TOTAL": 369,
         "_deepnote_index_column": "Lambayeque"
        },
        {
         "TOTAL": 342,
         "_deepnote_index_column": "Ancash"
        },
        {
         "TOTAL": 313,
         "_deepnote_index_column": "Tacna"
        },
        {
         "TOTAL": 310,
         "_deepnote_index_column": "Junín"
        },
        {
         "TOTAL": 267,
         "_deepnote_index_column": "Ica"
        },
        {
         "TOTAL": 224,
         "_deepnote_index_column": "Loreto"
        },
        {
         "TOTAL": 207,
         "_deepnote_index_column": "Huánuco"
        }
       ]
      },
      "text/plain": "                  TOTAL\nNOM_DEPARTAMENTO       \nLima               2220\nLa Libertad         742\nArequipa            449\nLambayeque          369\nAncash              342\nTacna               313\nJunín               310\nIca                 267\nLoreto              224\nHuánuco             207\nCusco               195\nPasco               175\nPuno                167\nPiura               161\nMoquegua            139\nUcayali              95\nApurímac             90\nAyacucho             89\nCajamarca            88\nTumbes               75\nSan Martín           59\nAmazonas             42\nHuancavelica         37\nMadre de Dios        34",
      "text/html": "<div>\n<style scoped>\n    .dataframe tbody tr th:only-of-type {\n        vertical-align: middle;\n    }\n\n    .dataframe tbody tr th {\n        vertical-align: top;\n    }\n\n    .dataframe thead th {\n        text-align: right;\n    }\n</style>\n<table border=\"1\" class=\"dataframe\">\n  <thead>\n    <tr style=\"text-align: right;\">\n      <th></th>\n      <th>TOTAL</th>\n    </tr>\n    <tr>\n      <th>NOM_DEPARTAMENTO</th>\n      <th></th>\n    </tr>\n  </thead>\n  <tbody>\n    <tr>\n      <th>Lima</th>\n      <td>2220</td>\n    </tr>\n    <tr>\n      <th>La Libertad</th>\n      <td>742</td>\n    </tr>\n    <tr>\n      <th>Arequipa</th>\n      <td>449</td>\n    </tr>\n    <tr>\n      <th>Lambayeque</th>\n      <td>369</td>\n    </tr>\n    <tr>\n      <th>Ancash</th>\n      <td>342</td>\n    </tr>\n    <tr>\n      <th>Tacna</th>\n      <td>313</td>\n    </tr>\n    <tr>\n      <th>Junín</th>\n      <td>310</td>\n    </tr>\n    <tr>\n      <th>Ica</th>\n      <td>267</td>\n    </tr>\n    <tr>\n      <th>Loreto</th>\n      <td>224</td>\n    </tr>\n    <tr>\n      <th>Huánuco</th>\n      <td>207</td>\n    </tr>\n    <tr>\n      <th>Cusco</th>\n      <td>195</td>\n    </tr>\n    <tr>\n      <th>Pasco</th>\n      <td>175</td>\n    </tr>\n    <tr>\n      <th>Puno</th>\n      <td>167</td>\n    </tr>\n    <tr>\n      <th>Piura</th>\n      <td>161</td>\n    </tr>\n    <tr>\n      <th>Moquegua</th>\n      <td>139</td>\n    </tr>\n    <tr>\n      <th>Ucayali</th>\n      <td>95</td>\n    </tr>\n    <tr>\n      <th>Apurímac</th>\n      <td>90</td>\n    </tr>\n    <tr>\n      <th>Ayacucho</th>\n      <td>89</td>\n    </tr>\n    <tr>\n      <th>Cajamarca</th>\n      <td>88</td>\n    </tr>\n    <tr>\n      <th>Tumbes</th>\n      <td>75</td>\n    </tr>\n    <tr>\n      <th>San Martín</th>\n      <td>59</td>\n    </tr>\n    <tr>\n      <th>Amazonas</th>\n      <td>42</td>\n    </tr>\n    <tr>\n      <th>Huancavelica</th>\n      <td>37</td>\n    </tr>\n    <tr>\n      <th>Madre de Dios</th>\n      <td>34</td>\n    </tr>\n  </tbody>\n</table>\n</div>"
     },
     "metadata": {}
    }
   ],
   "execution_count": null
  },
  {
   "cell_type": "markdown",
   "source": "> Los valores nan reemplazamos con vacío para poder concatenar",
   "metadata": {
    "cell_id": "1235c3f73fde41cb93dd6df14f297da6",
    "tags": [],
    "deepnote_cell_type": "markdown",
    "deepnote_cell_height": 66.390625
   }
  },
  {
   "cell_type": "code",
   "metadata": {
    "cell_id": "42863b7fa81c4e1c87ea4571f362348c",
    "tags": [],
    "deepnote_to_be_reexecuted": false,
    "source_hash": "c5242dd1",
    "execution_start": 1649596543397,
    "execution_millis": 5,
    "deepnote_cell_type": "code",
    "deepnote_cell_height": 117,
    "deepnote_output_heights": [
     21.1875
    ]
   },
   "source": "text = ''\n# sacamos que departamentos están más personas con más de pregrado\ntexts = ','.join(df_2020['NOM_DEPARTAMENTO'].replace([np.nan, ' '], ''))",
   "outputs": [],
   "execution_count": null
  },
  {
   "cell_type": "code",
   "metadata": {
    "cell_id": "71b21a6930234a9486676e8faea44a95",
    "tags": [],
    "deepnote_to_be_reexecuted": false,
    "source_hash": "56ff035",
    "execution_start": 1649596578916,
    "execution_millis": 438,
    "deepnote_cell_type": "code",
    "deepnote_cell_height": 835,
    "deepnote_output_heights": [
     450
    ]
   },
   "source": "plt.figure(figsize=(15,12), facecolor=None)\n\nstopwords = STOPWORDS\n\nregiones_wc = WordCloud(\n    background_color='white',\n    stopwords=stopwords,\n    max_words=25,\n    max_font_size=42,\n    random_state=42\n)\nregiones_wc.generate(texts)\n\nplt.imshow(regiones_wc, interpolation='bilinear')\nplt.axis('off')\nplt.title('Departamentos con más estudiantes')\nplt.show()",
   "outputs": [
    {
     "data": {
      "text/plain": "<Figure size 1080x864 with 1 Axes>",
      "image/png": "[encoded data removed]"
     },
     "metadata": {
      "needs_background": "light",
      "image/png": {
       "width": 851,
       "height": 448
      }
     },
     "output_type": "display_data"
    }
   ],
   "execution_count": null
  },
  {
   "cell_type": "markdown",
   "source": "",
   "metadata": {
    "cell_id": "b85185dc1cd644008811a70d7eb3c60f",
    "tags": [],
    "deepnote_cell_type": "markdown",
    "deepnote_cell_height": 46
   }
  },
  {
   "cell_type": "markdown",
   "source": "### PSICOLOGÍA - PREGRADO",
   "metadata": {
    "cell_id": "cfb9b93d48f94b8dbfac46af80b6d994",
    "tags": [],
    "deepnote_cell_type": "markdown",
    "deepnote_cell_height": 62
   }
  },
  {
   "cell_type": "markdown",
   "source": "> Filtramos nuestro data set",
   "metadata": {
    "cell_id": "50d188f059e143c9830e5a57c93f7bac",
    "tags": [],
    "deepnote_cell_type": "markdown",
    "deepnote_cell_height": 66.390625
   }
  },
  {
   "cell_type": "code",
   "metadata": {
    "cell_id": "ea2dd9058b00407cb8a57e9b4b10ce3f",
    "tags": [],
    "deepnote_to_be_reexecuted": false,
    "source_hash": "e4a828cf",
    "execution_start": 1649596890607,
    "execution_millis": 20,
    "deepnote_cell_type": "code",
    "deepnote_cell_height": 631.59375
   },
   "source": "data_psicologia = df_2020[(df_2020['NOM_CARRERA_UNI'] == \"Psicología\") & (df_2020['COD_GRADO_ESTUDIOS'] == 9)]\ndata_psicologia",
   "outputs": [
    {
     "output_type": "execute_result",
     "execution_count": 55,
     "data": {
      "application/vnd.deepnote.dataframe.v3+json": {
       "column_count": 20,
       "row_count": 120,
       "columns": [
        {
         "name": "ANIO",
         "dtype": "int64",
         "stats": {
          "unique_count": 1,
          "nan_count": 0,
          "min": "2020",
          "max": "2020",
          "histogram": [
           {
            "bin_start": 2019.5,
            "bin_end": 2019.6,
            "count": 0
           },
           {
            "bin_start": 2019.6,
            "bin_end": 2019.7,
            "count": 0
           },
           {
            "bin_start": 2019.7,
            "bin_end": 2019.8,
            "count": 0
           },
           {
            "bin_start": 2019.8,
            "bin_end": 2019.9,
            "count": 0
           },
           {
            "bin_start": 2019.9,
            "bin_end": 2020,
            "count": 0
           },
           {
            "bin_start": 2020,
            "bin_end": 2020.1,
            "count": 120
           },
           {
            "bin_start": 2020.1,
            "bin_end": 2020.2,
            "count": 0
           },
           {
            "bin_start": 2020.2,
            "bin_end": 2020.3,
            "count": 0
           },
           {
            "bin_start": 2020.3,
            "bin_end": 2020.4,
            "count": 0
           },
           {
            "bin_start": 2020.4,
            "bin_end": 2020.5,
            "count": 0
           }
          ]
         }
        },
        {
         "name": "UBIGEO",
         "dtype": "int64",
         "stats": {
          "unique_count": 88,
          "nan_count": 0,
          "min": "10202",
          "max": "250105",
          "histogram": [
           {
            "bin_start": 10202,
            "bin_end": 34192.3,
            "count": 8
           },
           {
            "bin_start": 34192.3,
            "bin_end": 58182.6,
            "count": 7
           },
           {
            "bin_start": 58182.6,
            "bin_end": 82172.9,
            "count": 12
           },
           {
            "bin_start": 82172.9,
            "bin_end": 106163.2,
            "count": 3
           },
           {
            "bin_start": 106163.2,
            "bin_end": 130153.5,
            "count": 14
           },
           {
            "bin_start": 130153.5,
            "bin_end": 154143.8,
            "count": 36
           },
           {
            "bin_start": 154143.8,
            "bin_end": 178134.1,
            "count": 3
           },
           {
            "bin_start": 178134.1,
            "bin_end": 202124.4,
            "count": 17
           },
           {
            "bin_start": 202124.4,
            "bin_end": 226114.69999999998,
            "count": 6
           },
           {
            "bin_start": 226114.69999999998,
            "bin_end": 250105,
            "count": 14
           }
          ]
         }
        },
        {
         "name": "DOMINIO_G",
         "dtype": "int64",
         "stats": {
          "unique_count": 8,
          "nan_count": 0,
          "min": "1",
          "max": "8",
          "histogram": [
           {
            "bin_start": 1,
            "bin_end": 1.7,
            "count": 19
           },
           {
            "bin_start": 1.7,
            "bin_end": 2.4,
            "count": 12
           },
           {
            "bin_start": 2.4,
            "bin_end": 3.0999999999999996,
            "count": 15
           },
           {
            "bin_start": 3.0999999999999996,
            "bin_end": 3.8,
            "count": 0
           },
           {
            "bin_start": 3.8,
            "bin_end": 4.5,
            "count": 6
           },
           {
            "bin_start": 4.5,
            "bin_end": 5.199999999999999,
            "count": 15
           },
           {
            "bin_start": 5.199999999999999,
            "bin_end": 5.8999999999999995,
            "count": 0
           },
           {
            "bin_start": 5.8999999999999995,
            "bin_end": 6.6,
            "count": 12
           },
           {
            "bin_start": 6.6,
            "bin_end": 7.3,
            "count": 16
           },
           {
            "bin_start": 7.3,
            "bin_end": 8,
            "count": 25
           }
          ]
         }
        },
        {
         "name": "ID_SEXO",
         "dtype": "int64",
         "stats": {
          "unique_count": 2,
          "nan_count": 0,
          "min": "1",
          "max": "2",
          "histogram": [
           {
            "bin_start": 1,
            "bin_end": 1.1,
            "count": 37
           },
           {
            "bin_start": 1.1,
            "bin_end": 1.2,
            "count": 0
           },
           {
            "bin_start": 1.2,
            "bin_end": 1.3,
            "count": 0
           },
           {
            "bin_start": 1.3,
            "bin_end": 1.4,
            "count": 0
           },
           {
            "bin_start": 1.4,
            "bin_end": 1.5,
            "count": 0
           },
           {
            "bin_start": 1.5,
            "bin_end": 1.6,
            "count": 0
           },
           {
            "bin_start": 1.6,
            "bin_end": 1.7000000000000002,
            "count": 0
           },
           {
            "bin_start": 1.7000000000000002,
            "bin_end": 1.8,
            "count": 0
           },
           {
            "bin_start": 1.8,
            "bin_end": 1.9,
            "count": 0
           },
           {
            "bin_start": 1.9,
            "bin_end": 2,
            "count": 83
           }
          ]
         }
        },
        {
         "name": "EDAD",
         "dtype": "int64",
         "stats": {
          "unique_count": 29,
          "nan_count": 0,
          "min": "17",
          "max": "76",
          "histogram": [
           {
            "bin_start": 17,
            "bin_end": 22.9,
            "count": 63
           },
           {
            "bin_start": 22.9,
            "bin_end": 28.8,
            "count": 36
           },
           {
            "bin_start": 28.8,
            "bin_end": 34.7,
            "count": 7
           },
           {
            "bin_start": 34.7,
            "bin_end": 40.6,
            "count": 4
           },
           {
            "bin_start": 40.6,
            "bin_end": 46.5,
            "count": 2
           },
           {
            "bin_start": 46.5,
            "bin_end": 52.400000000000006,
            "count": 2
           },
           {
            "bin_start": 52.400000000000006,
            "bin_end": 58.300000000000004,
            "count": 1
           },
           {
            "bin_start": 58.300000000000004,
            "bin_end": 64.2,
            "count": 3
           },
           {
            "bin_start": 64.2,
            "bin_end": 70.1,
            "count": 1
           },
           {
            "bin_start": 70.1,
            "bin_end": 76,
            "count": 1
           }
          ]
         }
        },
        {
         "name": "ID_ESTADO_CIVIL",
         "dtype": "int64",
         "stats": {
          "unique_count": 5,
          "nan_count": 0,
          "min": "1",
          "max": "6",
          "histogram": [
           {
            "bin_start": 1,
            "bin_end": 1.5,
            "count": 9
           },
           {
            "bin_start": 1.5,
            "bin_end": 2,
            "count": 0
           },
           {
            "bin_start": 2,
            "bin_end": 2.5,
            "count": 7
           },
           {
            "bin_start": 2.5,
            "bin_end": 3,
            "count": 0
           },
           {
            "bin_start": 3,
            "bin_end": 3.5,
            "count": 0
           },
           {
            "bin_start": 3.5,
            "bin_end": 4,
            "count": 0
           },
           {
            "bin_start": 4,
            "bin_end": 4.5,
            "count": 1
           },
           {
            "bin_start": 4.5,
            "bin_end": 5,
            "count": 0
           },
           {
            "bin_start": 5,
            "bin_end": 5.5,
            "count": 7
           },
           {
            "bin_start": 5.5,
            "bin_end": 6,
            "count": 96
           }
          ]
         }
        },
        {
         "name": "COD_IDIOMA",
         "dtype": "int64",
         "stats": {
          "unique_count": 2,
          "nan_count": 0,
          "min": "1",
          "max": "4",
          "histogram": [
           {
            "bin_start": 1,
            "bin_end": 1.3,
            "count": 8
           },
           {
            "bin_start": 1.3,
            "bin_end": 1.6,
            "count": 0
           },
           {
            "bin_start": 1.6,
            "bin_end": 1.9,
            "count": 0
           },
           {
            "bin_start": 1.9,
            "bin_end": 2.2,
            "count": 0
           },
           {
            "bin_start": 2.2,
            "bin_end": 2.5,
            "count": 0
           },
           {
            "bin_start": 2.5,
            "bin_end": 2.8,
            "count": 0
           },
           {
            "bin_start": 2.8,
            "bin_end": 3.1,
            "count": 0
           },
           {
            "bin_start": 3.1,
            "bin_end": 3.4,
            "count": 0
           },
           {
            "bin_start": 3.4,
            "bin_end": 3.6999999999999997,
            "count": 0
           },
           {
            "bin_start": 3.6999999999999997,
            "bin_end": 4,
            "count": 112
           }
          ]
         }
        },
        {
         "name": "COD_GRADO_ESTUDIOS",
         "dtype": "int64",
         "stats": {
          "unique_count": 1,
          "nan_count": 0,
          "min": "9",
          "max": "9",
          "histogram": [
           {
            "bin_start": 8.5,
            "bin_end": 8.6,
            "count": 0
           },
           {
            "bin_start": 8.6,
            "bin_end": 8.7,
            "count": 0
           },
           {
            "bin_start": 8.7,
            "bin_end": 8.8,
            "count": 0
           },
           {
            "bin_start": 8.8,
            "bin_end": 8.9,
            "count": 0
           },
           {
            "bin_start": 8.9,
            "bin_end": 9,
            "count": 0
           },
           {
            "bin_start": 9,
            "bin_end": 9.1,
            "count": 120
           },
           {
            "bin_start": 9.1,
            "bin_end": 9.2,
            "count": 0
           },
           {
            "bin_start": 9.2,
            "bin_end": 9.3,
            "count": 0
           },
           {
            "bin_start": 9.3,
            "bin_end": 9.4,
            "count": 0
           },
           {
            "bin_start": 9.4,
            "bin_end": 9.5,
            "count": 0
           }
          ]
         }
        },
        {
         "name": "COD_CARRERA_UNI",
         "dtype": "int64",
         "stats": {
          "unique_count": 1,
          "nan_count": 0,
          "min": "313016",
          "max": "313016",
          "histogram": [
           {
            "bin_start": 313015.5,
            "bin_end": 313015.6,
            "count": 0
           },
           {
            "bin_start": 313015.6,
            "bin_end": 313015.7,
            "count": 0
           },
           {
            "bin_start": 313015.7,
            "bin_end": 313015.8,
            "count": 0
           },
           {
            "bin_start": 313015.8,
            "bin_end": 313015.9,
            "count": 0
           },
           {
            "bin_start": 313015.9,
            "bin_end": 313016,
            "count": 0
           },
           {
            "bin_start": 313016,
            "bin_end": 313016.1,
            "count": 120
           },
           {
            "bin_start": 313016.1,
            "bin_end": 313016.2,
            "count": 0
           },
           {
            "bin_start": 313016.2,
            "bin_end": 313016.3,
            "count": 0
           },
           {
            "bin_start": 313016.3,
            "bin_end": 313016.4,
            "count": 0
           },
           {
            "bin_start": 313016.4,
            "bin_end": 313016.5,
            "count": 0
           }
          ]
         }
        },
        {
         "name": "COD_CENTRO_ESTUDIOS",
         "dtype": "int64",
         "stats": {
          "unique_count": 42,
          "nan_count": 0,
          "min": "160000001",
          "max": "260000099",
          "histogram": [
           {
            "bin_start": 160000001,
            "bin_end": 170000010.8,
            "count": 19
           },
           {
            "bin_start": 170000010.8,
            "bin_end": 180000020.6,
            "count": 0
           },
           {
            "bin_start": 180000020.6,
            "bin_end": 190000030.4,
            "count": 0
           },
           {
            "bin_start": 190000030.4,
            "bin_end": 200000040.2,
            "count": 0
           },
           {
            "bin_start": 200000040.2,
            "bin_end": 210000050,
            "count": 0
           },
           {
            "bin_start": 210000050,
            "bin_end": 220000059.8,
            "count": 0
           },
           {
            "bin_start": 220000059.8,
            "bin_end": 230000069.60000002,
            "count": 0
           },
           {
            "bin_start": 230000069.60000002,
            "bin_end": 240000079.4,
            "count": 0
           },
           {
            "bin_start": 240000079.4,
            "bin_end": 250000089.2,
            "count": 0
           },
           {
            "bin_start": 250000089.2,
            "bin_end": 260000099,
            "count": 101
           }
          ]
         }
        },
        {
         "name": "COD_DEPARTAMENTO",
         "dtype": "int64",
         "stats": {
          "unique_count": 16,
          "nan_count": 0,
          "min": "1",
          "max": "25",
          "histogram": [
           {
            "bin_start": 1,
            "bin_end": 3.4,
            "count": 14
           },
           {
            "bin_start": 3.4,
            "bin_end": 5.8,
            "count": 4
           },
           {
            "bin_start": 5.8,
            "bin_end": 8.2,
            "count": 6
           },
           {
            "bin_start": 8.2,
            "bin_end": 10.6,
            "count": 3
           },
           {
            "bin_start": 10.6,
            "bin_end": 13,
            "count": 6
           },
           {
            "bin_start": 13,
            "bin_end": 15.399999999999999,
            "count": 70
           },
           {
            "bin_start": 15.399999999999999,
            "bin_end": 17.8,
            "count": 0
           },
           {
            "bin_start": 17.8,
            "bin_end": 20.2,
            "count": 6
           },
           {
            "bin_start": 20.2,
            "bin_end": 22.599999999999998,
            "count": 1
           },
           {
            "bin_start": 22.599999999999998,
            "bin_end": 25,
            "count": 10
           }
          ]
         }
        },
        {
         "name": "NOM_DOMINIO_G",
         "dtype": "object",
         "stats": {
          "unique_count": 8,
          "nan_count": 0,
          "categories": [
           {
            "name": "Lima Metropolitana",
            "count": 25
           },
           {
            "name": "Costa Norte",
            "count": 19
           },
           {
            "name": "6 others",
            "count": 76
           }
          ]
         }
        },
        {
         "name": "NOM_ESTADO_CIVIL",
         "dtype": "object",
         "stats": {
          "unique_count": 5,
          "nan_count": 0,
          "categories": [
           {
            "name": "Soltero",
            "count": 96
           },
           {
            "name": "Conviviente",
            "count": 9
           },
           {
            "name": "3 others",
            "count": 15
           }
          ]
         }
        },
        {
         "name": "NOM_IDIOMA",
         "dtype": "object",
         "stats": {
          "unique_count": 2,
          "nan_count": 0,
          "categories": [
           {
            "name": "Castellano",
            "count": 112
           },
           {
            "name": "Quechua",
            "count": 8
           }
          ]
         }
        },
        {
         "name": "NOM_GRADO_ESTUDIOS",
         "dtype": "object",
         "stats": {
          "unique_count": 1,
          "nan_count": 0,
          "categories": [
           {
            "name": "Superior Universitaria Incompleta",
            "count": 120
           }
          ]
         }
        },
        {
         "name": "NOM_CARRERA_UNI",
         "dtype": "object",
         "stats": {
          "unique_count": 1,
          "nan_count": 0,
          "categories": [
           {
            "name": "Psicología",
            "count": 120
           }
          ]
         }
        },
        {
         "name": "NOM_CENTRO_ESTUDIOS",
         "dtype": "object",
         "stats": {
          "unique_count": 42,
          "nan_count": 0,
          "categories": [
           {
            "name": "Universidad Particular César Vallejo",
            "count": 16
           },
           {
            "name": "Universidad Alas Peruanas",
            "count": 9
           },
           {
            "name": "40 others",
            "count": 95
           }
          ]
         }
        },
        {
         "name": "NOM_DEPARTAMENTO",
         "dtype": "object",
         "stats": {
          "unique_count": 16,
          "nan_count": 0,
          "categories": [
           {
            "name": "Lima",
            "count": 44
           },
           {
            "name": "La Libertad",
            "count": 23
           },
           {
            "name": "14 others",
            "count": 53
           }
          ]
         }
        },
        {
         "name": "SEXO",
         "dtype": "object",
         "stats": {
          "unique_count": 2,
          "nan_count": 0,
          "categories": [
           {
            "name": "Mujer",
            "count": 83
           },
           {
            "name": "Hombre",
            "count": 37
           }
          ]
         }
        },
        {
         "name": "TOTAL",
         "dtype": "int64",
         "stats": {
          "unique_count": 1,
          "nan_count": 0,
          "min": "1",
          "max": "1",
          "histogram": [
           {
            "bin_start": 0.5,
            "bin_end": 0.6,
            "count": 0
           },
           {
            "bin_start": 0.6,
            "bin_end": 0.7,
            "count": 0
           },
           {
            "bin_start": 0.7,
            "bin_end": 0.8,
            "count": 0
           },
           {
            "bin_start": 0.8,
            "bin_end": 0.9,
            "count": 0
           },
           {
            "bin_start": 0.9,
            "bin_end": 1,
            "count": 0
           },
           {
            "bin_start": 1,
            "bin_end": 1.1,
            "count": 120
           },
           {
            "bin_start": 1.1,
            "bin_end": 1.2000000000000002,
            "count": 0
           },
           {
            "bin_start": 1.2000000000000002,
            "bin_end": 1.3,
            "count": 0
           },
           {
            "bin_start": 1.3,
            "bin_end": 1.4,
            "count": 0
           },
           {
            "bin_start": 1.4,
            "bin_end": 1.5,
            "count": 0
           }
          ]
         }
        },
        {
         "name": "_deepnote_index_column",
         "dtype": "int64"
        }
       ],
       "rows": [
        {
         "ANIO": 2020,
         "UBIGEO": 10306,
         "DOMINIO_G": 4,
         "ID_SEXO": 2,
         "EDAD": 22,
         "ID_ESTADO_CIVIL": 6,
         "COD_IDIOMA": 4,
         "COD_GRADO_ESTUDIOS": 9,
         "COD_CARRERA_UNI": 313016,
         "COD_CENTRO_ESTUDIOS": 160000076,
         "COD_DEPARTAMENTO": 1,
         "NOM_DOMINIO_G": "Sierra Norte",
         "NOM_ESTADO_CIVIL": "Soltero",
         "NOM_IDIOMA": "Castellano",
         "NOM_GRADO_ESTUDIOS": "Superior Universitaria Incompleta",
         "NOM_CARRERA_UNI": "Psicología",
         "NOM_CENTRO_ESTUDIOS": "Universidad Nacional Toribio Rodríguez de Mendoza de Amazonas",
         "NOM_DEPARTAMENTO": "Amazonas",
         "SEXO": "Mujer",
         "TOTAL": 1,
         "_deepnote_index_column": 13
        },
        {
         "ANIO": 2020,
         "UBIGEO": 22008,
         "DOMINIO_G": 5,
         "ID_SEXO": 2,
         "EDAD": 20,
         "ID_ESTADO_CIVIL": 6,
         "COD_IDIOMA": 4,
         "COD_GRADO_ESTUDIOS": 9,
         "COD_CARRERA_UNI": 313016,
         "COD_CENTRO_ESTUDIOS": 260000053,
         "COD_DEPARTAMENTO": 2,
         "NOM_DOMINIO_G": "Sierra Centro",
         "NOM_ESTADO_CIVIL": "Soltero",
         "NOM_IDIOMA": "Castellano",
         "NOM_GRADO_ESTUDIOS": "Superior Universitaria Incompleta",
         "NOM_CARRERA_UNI": "Psicología",
         "NOM_CENTRO_ESTUDIOS": "Universidad Católica Los Ángeles de Chimbote",
         "NOM_DEPARTAMENTO": "Ancash",
         "SEXO": "Mujer",
         "TOTAL": 1,
         "_deepnote_index_column": 40
        },
        {
         "ANIO": 2020,
         "UBIGEO": 40110,
         "DOMINIO_G": 6,
         "ID_SEXO": 2,
         "EDAD": 19,
         "ID_ESTADO_CIVIL": 6,
         "COD_IDIOMA": 4,
         "COD_GRADO_ESTUDIOS": 9,
         "COD_CARRERA_UNI": 313016,
         "COD_CENTRO_ESTUDIOS": 260000059,
         "COD_DEPARTAMENTO": 15,
         "NOM_DOMINIO_G": "Sierra Sur",
         "NOM_ESTADO_CIVIL": "Soltero",
         "NOM_IDIOMA": "Castellano",
         "NOM_GRADO_ESTUDIOS": "Superior Universitaria Incompleta",
         "NOM_CARRERA_UNI": "Psicología",
         "NOM_CENTRO_ESTUDIOS": "Universidad Alas Peruanas",
         "NOM_DEPARTAMENTO": "Lima",
         "SEXO": "Mujer",
         "TOTAL": 1,
         "_deepnote_index_column": 105
        },
        {
         "ANIO": 2020,
         "UBIGEO": 50103,
         "DOMINIO_G": 5,
         "ID_SEXO": 2,
         "EDAD": 21,
         "ID_ESTADO_CIVIL": 6,
         "COD_IDIOMA": 1,
         "COD_GRADO_ESTUDIOS": 9,
         "COD_CARRERA_UNI": 313016,
         "COD_CENTRO_ESTUDIOS": 260000053,
         "COD_DEPARTAMENTO": 2,
         "NOM_DOMINIO_G": "Sierra Centro",
         "NOM_ESTADO_CIVIL": "Soltero",
         "NOM_IDIOMA": "Quechua",
         "NOM_GRADO_ESTUDIOS": "Superior Universitaria Incompleta",
         "NOM_CARRERA_UNI": "Psicología",
         "NOM_CENTRO_ESTUDIOS": "Universidad Católica Los Ángeles de Chimbote",
         "NOM_DEPARTAMENTO": "Ancash",
         "SEXO": "Mujer",
         "TOTAL": 1,
         "_deepnote_index_column": 168
        },
        {
         "ANIO": 2020,
         "UBIGEO": 80106,
         "DOMINIO_G": 6,
         "ID_SEXO": 2,
         "EDAD": 18,
         "ID_ESTADO_CIVIL": 6,
         "COD_IDIOMA": 4,
         "COD_GRADO_ESTUDIOS": 9,
         "COD_CARRERA_UNI": 313016,
         "COD_CENTRO_ESTUDIOS": 160000003,
         "COD_DEPARTAMENTO": 8,
         "NOM_DOMINIO_G": "Sierra Sur",
         "NOM_ESTADO_CIVIL": "Soltero",
         "NOM_IDIOMA": "Castellano",
         "NOM_GRADO_ESTUDIOS": "Superior Universitaria Incompleta",
         "NOM_CARRERA_UNI": "Psicología",
         "NOM_CENTRO_ESTUDIOS": "Universidad Nacional de San Antonio Abad del Cusco",
         "NOM_DEPARTAMENTO": "Cusco",
         "SEXO": "Mujer",
         "TOTAL": 1,
         "_deepnote_index_column": 253
        },
        {
         "ANIO": 2020,
         "UBIGEO": 80701,
         "DOMINIO_G": 6,
         "ID_SEXO": 2,
         "EDAD": 28,
         "ID_ESTADO_CIVIL": 6,
         "COD_IDIOMA": 4,
         "COD_GRADO_ESTUDIOS": 9,
         "COD_CARRERA_UNI": 313016,
         "COD_CENTRO_ESTUDIOS": 260000059,
         "COD_DEPARTAMENTO": 15,
         "NOM_DOMINIO_G": "Sierra Sur",
         "NOM_ESTADO_CIVIL": "Soltero",
         "NOM_IDIOMA": "Castellano",
         "NOM_GRADO_ESTUDIOS": "Superior Universitaria Incompleta",
         "NOM_CARRERA_UNI": "Psicología",
         "NOM_CENTRO_ESTUDIOS": "Universidad Alas Peruanas",
         "NOM_DEPARTAMENTO": "Lima",
         "SEXO": "Mujer",
         "TOTAL": 1,
         "_deepnote_index_column": 259
        },
        {
         "ANIO": 2020,
         "UBIGEO": 90101,
         "DOMINIO_G": 5,
         "ID_SEXO": 2,
         "EDAD": 25,
         "ID_ESTADO_CIVIL": 6,
         "COD_IDIOMA": 4,
         "COD_GRADO_ESTUDIOS": 9,
         "COD_CARRERA_UNI": 313016,
         "COD_CENTRO_ESTUDIOS": 260000059,
         "COD_DEPARTAMENTO": 15,
         "NOM_DOMINIO_G": "Sierra Centro",
         "NOM_ESTADO_CIVIL": "Soltero",
         "NOM_IDIOMA": "Castellano",
         "NOM_GRADO_ESTUDIOS": "Superior Universitaria Incompleta",
         "NOM_CARRERA_UNI": "Psicología",
         "NOM_CENTRO_ESTUDIOS": "Universidad Alas Peruanas",
         "NOM_DEPARTAMENTO": "Lima",
         "SEXO": "Mujer",
         "TOTAL": 1,
         "_deepnote_index_column": 273
        },
        {
         "ANIO": 2020,
         "UBIGEO": 100207,
         "DOMINIO_G": 5,
         "ID_SEXO": 2,
         "EDAD": 21,
         "ID_ESTADO_CIVIL": 1,
         "COD_IDIOMA": 4,
         "COD_GRADO_ESTUDIOS": 9,
         "COD_CARRERA_UNI": 313016,
         "COD_CENTRO_ESTUDIOS": 160000023,
         "COD_DEPARTAMENTO": 10,
         "NOM_DOMINIO_G": "Sierra Centro",
         "NOM_ESTADO_CIVIL": "Conviviente",
         "NOM_IDIOMA": "Castellano",
         "NOM_GRADO_ESTUDIOS": "Superior Universitaria Incompleta",
         "NOM_CARRERA_UNI": "Psicología",
         "NOM_CENTRO_ESTUDIOS": "Universidad Nacional Hermilio Valdizán",
         "NOM_DEPARTAMENTO": "Huánuco",
         "SEXO": "Mujer",
         "TOTAL": 1,
         "_deepnote_index_column": 310
        },
        {
         "ANIO": 2020,
         "UBIGEO": 110101,
         "DOMINIO_G": 2,
         "ID_SEXO": 1,
         "EDAD": 20,
         "ID_ESTADO_CIVIL": 6,
         "COD_IDIOMA": 4,
         "COD_GRADO_ESTUDIOS": 9,
         "COD_CARRERA_UNI": 313016,
         "COD_CENTRO_ESTUDIOS": 260000064,
         "COD_DEPARTAMENTO": 15,
         "NOM_DOMINIO_G": "Costa Centro",
         "NOM_ESTADO_CIVIL": "Soltero",
         "NOM_IDIOMA": "Castellano",
         "NOM_GRADO_ESTUDIOS": "Superior Universitaria Incompleta",
         "NOM_CARRERA_UNI": "Psicología",
         "NOM_CENTRO_ESTUDIOS": "Asociación Universidad Privada \"San Juan Bautista\"",
         "NOM_DEPARTAMENTO": "Lima",
         "SEXO": "Hombre",
         "TOTAL": 1,
         "_deepnote_index_column": 354
        },
        {
         "ANIO": 2020,
         "UBIGEO": 110101,
         "DOMINIO_G": 2,
         "ID_SEXO": 2,
         "EDAD": 18,
         "ID_ESTADO_CIVIL": 6,
         "COD_IDIOMA": 4,
         "COD_GRADO_ESTUDIOS": 9,
         "COD_CARRERA_UNI": 313016,
         "COD_CENTRO_ESTUDIOS": 260000064,
         "COD_DEPARTAMENTO": 15,
         "NOM_DOMINIO_G": "Costa Centro",
         "NOM_ESTADO_CIVIL": "Soltero",
         "NOM_IDIOMA": "Castellano",
         "NOM_GRADO_ESTUDIOS": "Superior Universitaria Incompleta",
         "NOM_CARRERA_UNI": "Psicología",
         "NOM_CENTRO_ESTUDIOS": "Asociación Universidad Privada \"San Juan Bautista\"",
         "NOM_DEPARTAMENTO": "Lima",
         "SEXO": "Mujer",
         "TOTAL": 1,
         "_deepnote_index_column": 355
        }
       ]
      },
      "text/plain": "       ANIO  UBIGEO  DOMINIO_G  ID_SEXO  EDAD  ID_ESTADO_CIVIL  COD_IDIOMA  \\\n13     2020   10306          4        2    22                6           4   \n40     2020   22008          5        2    20                6           4   \n105    2020   40110          6        2    19                6           4   \n168    2020   50103          5        2    21                6           1   \n253    2020   80106          6        2    18                6           4   \n...     ...     ...        ...      ...   ...              ...         ...   \n13728  2020   60601          4        2    19                6           4   \n13830  2020  130102          1        2    24                5           4   \n13861  2020  150116          8        2    24                6           4   \n13883  2020  150121          8        1    20                6           4   \n13984  2020  180101          3        1    25                6           4   \n\n       COD_GRADO_ESTUDIOS  COD_CARRERA_UNI  COD_CENTRO_ESTUDIOS  \\\n13                      9           313016            160000076   \n40                      9           313016            260000053   \n105                     9           313016            260000059   \n168                     9           313016            260000053   \n253                     9           313016            160000003   \n...                   ...              ...                  ...   \n13728                   9           313016            260000055   \n13830                   9           313016            260000053   \n13861                   9           313016            260000054   \n13883                   9           313016            260000080   \n13984                   9           313016            260000048   \n\n       COD_DEPARTAMENTO       NOM_DOMINIO_G NOM_ESTADO_CIVIL  NOM_IDIOMA  \\\n13                    1        Sierra Norte          Soltero  Castellano   \n40                    2       Sierra Centro          Soltero  Castellano   \n105                  15          Sierra Sur          Soltero  Castellano   \n168                   2       Sierra Centro          Soltero     Quechua   \n253                   8          Sierra Sur          Soltero  Castellano   \n...                 ...                 ...              ...         ...   \n13728                13        Sierra Norte          Soltero  Castellano   \n13830                 2         Costa Norte         Separado  Castellano   \n13861                15  Lima Metropolitana          Soltero  Castellano   \n13883                15  Lima Metropolitana          Soltero  Castellano   \n13984                18           Costa Sur          Soltero  Castellano   \n\n                      NOM_GRADO_ESTUDIOS NOM_CARRERA_UNI  \\\n13     Superior Universitaria Incompleta      Psicología   \n40     Superior Universitaria Incompleta      Psicología   \n105    Superior Universitaria Incompleta      Psicología   \n168    Superior Universitaria Incompleta      Psicología   \n253    Superior Universitaria Incompleta      Psicología   \n...                                  ...             ...   \n13728  Superior Universitaria Incompleta      Psicología   \n13830  Superior Universitaria Incompleta      Psicología   \n13861  Superior Universitaria Incompleta      Psicología   \n13883  Superior Universitaria Incompleta      Psicología   \n13984  Superior Universitaria Incompleta      Psicología   \n\n                                     NOM_CENTRO_ESTUDIOS NOM_DEPARTAMENTO  \\\n13     Universidad Nacional Toribio Rodríguez de Mend...         Amazonas   \n40          Universidad Católica Los Ángeles de Chimbote           Ancash   \n105                            Universidad Alas Peruanas             Lima   \n168         Universidad Católica Los Ángeles de Chimbote           Ancash   \n253    Universidad Nacional de San Antonio Abad del C...            Cusco   \n...                                                  ...              ...   \n13728                   Universidad Particular del Norte      La Libertad   \n13830       Universidad Católica Los Ángeles de Chimbote           Ancash   \n13861          Universidad Peruana de Ciencias Aplicadas             Lima   \n13883                Universidad Antonio Ruíz de Montoya             Lima   \n13984                 Universidad José Carlos Mariátegui         Moquegua   \n\n         SEXO  TOTAL  \n13      Mujer      1  \n40      Mujer      1  \n105     Mujer      1  \n168     Mujer      1  \n253     Mujer      1  \n...       ...    ...  \n13728   Mujer      1  \n13830   Mujer      1  \n13861   Mujer      1  \n13883  Hombre      1  \n13984  Hombre      1  \n\n[120 rows x 20 columns]",
      "text/html": "<div>\n<style scoped>\n    .dataframe tbody tr th:only-of-type {\n        vertical-align: middle;\n    }\n\n    .dataframe tbody tr th {\n        vertical-align: top;\n    }\n\n    .dataframe thead th {\n        text-align: right;\n    }\n</style>\n<table border=\"1\" class=\"dataframe\">\n  <thead>\n    <tr style=\"text-align: right;\">\n      <th></th>\n      <th>ANIO</th>\n      <th>UBIGEO</th>\n      <th>DOMINIO_G</th>\n      <th>ID_SEXO</th>\n      <th>EDAD</th>\n      <th>ID_ESTADO_CIVIL</th>\n      <th>COD_IDIOMA</th>\n      <th>COD_GRADO_ESTUDIOS</th>\n      <th>COD_CARRERA_UNI</th>\n      <th>COD_CENTRO_ESTUDIOS</th>\n      <th>COD_DEPARTAMENTO</th>\n      <th>NOM_DOMINIO_G</th>\n      <th>NOM_ESTADO_CIVIL</th>\n      <th>NOM_IDIOMA</th>\n      <th>NOM_GRADO_ESTUDIOS</th>\n      <th>NOM_CARRERA_UNI</th>\n      <th>NOM_CENTRO_ESTUDIOS</th>\n      <th>NOM_DEPARTAMENTO</th>\n      <th>SEXO</th>\n      <th>TOTAL</th>\n    </tr>\n  </thead>\n  <tbody>\n    <tr>\n      <th>13</th>\n      <td>2020</td>\n      <td>10306</td>\n      <td>4</td>\n      <td>2</td>\n      <td>22</td>\n      <td>6</td>\n      <td>4</td>\n      <td>9</td>\n      <td>313016</td>\n      <td>160000076</td>\n      <td>1</td>\n      <td>Sierra Norte</td>\n      <td>Soltero</td>\n      <td>Castellano</td>\n      <td>Superior Universitaria Incompleta</td>\n      <td>Psicología</td>\n      <td>Universidad Nacional Toribio Rodríguez de Mend...</td>\n      <td>Amazonas</td>\n      <td>Mujer</td>\n      <td>1</td>\n    </tr>\n    <tr>\n      <th>40</th>\n      <td>2020</td>\n      <td>22008</td>\n      <td>5</td>\n      <td>2</td>\n      <td>20</td>\n      <td>6</td>\n      <td>4</td>\n      <td>9</td>\n      <td>313016</td>\n      <td>260000053</td>\n      <td>2</td>\n      <td>Sierra Centro</td>\n      <td>Soltero</td>\n      <td>Castellano</td>\n      <td>Superior Universitaria Incompleta</td>\n      <td>Psicología</td>\n      <td>Universidad Católica Los Ángeles de Chimbote</td>\n      <td>Ancash</td>\n      <td>Mujer</td>\n      <td>1</td>\n    </tr>\n    <tr>\n      <th>105</th>\n      <td>2020</td>\n      <td>40110</td>\n      <td>6</td>\n      <td>2</td>\n      <td>19</td>\n      <td>6</td>\n      <td>4</td>\n      <td>9</td>\n      <td>313016</td>\n      <td>260000059</td>\n      <td>15</td>\n      <td>Sierra Sur</td>\n      <td>Soltero</td>\n      <td>Castellano</td>\n      <td>Superior Universitaria Incompleta</td>\n      <td>Psicología</td>\n      <td>Universidad Alas Peruanas</td>\n      <td>Lima</td>\n      <td>Mujer</td>\n      <td>1</td>\n    </tr>\n    <tr>\n      <th>168</th>\n      <td>2020</td>\n      <td>50103</td>\n      <td>5</td>\n      <td>2</td>\n      <td>21</td>\n      <td>6</td>\n      <td>1</td>\n      <td>9</td>\n      <td>313016</td>\n      <td>260000053</td>\n      <td>2</td>\n      <td>Sierra Centro</td>\n      <td>Soltero</td>\n      <td>Quechua</td>\n      <td>Superior Universitaria Incompleta</td>\n      <td>Psicología</td>\n      <td>Universidad Católica Los Ángeles de Chimbote</td>\n      <td>Ancash</td>\n      <td>Mujer</td>\n      <td>1</td>\n    </tr>\n    <tr>\n      <th>253</th>\n      <td>2020</td>\n      <td>80106</td>\n      <td>6</td>\n      <td>2</td>\n      <td>18</td>\n      <td>6</td>\n      <td>4</td>\n      <td>9</td>\n      <td>313016</td>\n      <td>160000003</td>\n      <td>8</td>\n      <td>Sierra Sur</td>\n      <td>Soltero</td>\n      <td>Castellano</td>\n      <td>Superior Universitaria Incompleta</td>\n      <td>Psicología</td>\n      <td>Universidad Nacional de San Antonio Abad del C...</td>\n      <td>Cusco</td>\n      <td>Mujer</td>\n      <td>1</td>\n    </tr>\n    <tr>\n      <th>...</th>\n      <td>...</td>\n      <td>...</td>\n      <td>...</td>\n      <td>...</td>\n      <td>...</td>\n      <td>...</td>\n      <td>...</td>\n      <td>...</td>\n      <td>...</td>\n      <td>...</td>\n      <td>...</td>\n      <td>...</td>\n      <td>...</td>\n      <td>...</td>\n      <td>...</td>\n      <td>...</td>\n      <td>...</td>\n      <td>...</td>\n      <td>...</td>\n      <td>...</td>\n    </tr>\n    <tr>\n      <th>13728</th>\n      <td>2020</td>\n      <td>60601</td>\n      <td>4</td>\n      <td>2</td>\n      <td>19</td>\n      <td>6</td>\n      <td>4</td>\n      <td>9</td>\n      <td>313016</td>\n      <td>260000055</td>\n      <td>13</td>\n      <td>Sierra Norte</td>\n      <td>Soltero</td>\n      <td>Castellano</td>\n      <td>Superior Universitaria Incompleta</td>\n      <td>Psicología</td>\n      <td>Universidad Particular del Norte</td>\n      <td>La Libertad</td>\n      <td>Mujer</td>\n      <td>1</td>\n    </tr>\n    <tr>\n      <th>13830</th>\n      <td>2020</td>\n      <td>130102</td>\n      <td>1</td>\n      <td>2</td>\n      <td>24</td>\n      <td>5</td>\n      <td>4</td>\n      <td>9</td>\n      <td>313016</td>\n      <td>260000053</td>\n      <td>2</td>\n      <td>Costa Norte</td>\n      <td>Separado</td>\n      <td>Castellano</td>\n      <td>Superior Universitaria Incompleta</td>\n      <td>Psicología</td>\n      <td>Universidad Católica Los Ángeles de Chimbote</td>\n      <td>Ancash</td>\n      <td>Mujer</td>\n      <td>1</td>\n    </tr>\n    <tr>\n      <th>13861</th>\n      <td>2020</td>\n      <td>150116</td>\n      <td>8</td>\n      <td>2</td>\n      <td>24</td>\n      <td>6</td>\n      <td>4</td>\n      <td>9</td>\n      <td>313016</td>\n      <td>260000054</td>\n      <td>15</td>\n      <td>Lima Metropolitana</td>\n      <td>Soltero</td>\n      <td>Castellano</td>\n      <td>Superior Universitaria Incompleta</td>\n      <td>Psicología</td>\n      <td>Universidad Peruana de Ciencias Aplicadas</td>\n      <td>Lima</td>\n      <td>Mujer</td>\n      <td>1</td>\n    </tr>\n    <tr>\n      <th>13883</th>\n      <td>2020</td>\n      <td>150121</td>\n      <td>8</td>\n      <td>1</td>\n      <td>20</td>\n      <td>6</td>\n      <td>4</td>\n      <td>9</td>\n      <td>313016</td>\n      <td>260000080</td>\n      <td>15</td>\n      <td>Lima Metropolitana</td>\n      <td>Soltero</td>\n      <td>Castellano</td>\n      <td>Superior Universitaria Incompleta</td>\n      <td>Psicología</td>\n      <td>Universidad Antonio Ruíz de Montoya</td>\n      <td>Lima</td>\n      <td>Hombre</td>\n      <td>1</td>\n    </tr>\n    <tr>\n      <th>13984</th>\n      <td>2020</td>\n      <td>180101</td>\n      <td>3</td>\n      <td>1</td>\n      <td>25</td>\n      <td>6</td>\n      <td>4</td>\n      <td>9</td>\n      <td>313016</td>\n      <td>260000048</td>\n      <td>18</td>\n      <td>Costa Sur</td>\n      <td>Soltero</td>\n      <td>Castellano</td>\n      <td>Superior Universitaria Incompleta</td>\n      <td>Psicología</td>\n      <td>Universidad José Carlos Mariátegui</td>\n      <td>Moquegua</td>\n      <td>Hombre</td>\n      <td>1</td>\n    </tr>\n  </tbody>\n</table>\n<p>120 rows × 20 columns</p>\n</div>"
     },
     "metadata": {}
    }
   ],
   "execution_count": null
  },
  {
   "cell_type": "code",
   "source": "# Cantidad de personas que estudían Psicología PREGRADO",
   "metadata": {
    "cell_id": "dd066213199340148f63d3d2ae50725b",
    "tags": [],
    "deepnote_to_be_reexecuted": false,
    "source_hash": "fc1b3bd1",
    "execution_start": 1649596915805,
    "execution_millis": 2,
    "deepnote_cell_type": "code",
    "deepnote_cell_height": 81
   },
   "outputs": [],
   "execution_count": null
  },
  {
   "cell_type": "code",
   "metadata": {
    "cell_id": "2c8f2b6df9c5407aa2f17223a76c27d9",
    "tags": [],
    "deepnote_to_be_reexecuted": false,
    "source_hash": "229ec08a",
    "execution_start": 1649596938265,
    "execution_millis": 6,
    "deepnote_cell_type": "code",
    "deepnote_cell_height": 112,
    "deepnote_output_heights": [
     21.1875
    ]
   },
   "source": "print(f'Número de personas PREGRADO que estudían PSICOLOGÍA: {data_psicologia.shape[0]}')",
   "outputs": [
    {
     "name": "stdout",
     "text": "Número de personas PREGRADO que estudían PSICOLOGÍA: 120\n",
     "output_type": "stream"
    }
   ],
   "execution_count": null
  },
  {
   "cell_type": "markdown",
   "source": "#### Número de Varones y Mujeres",
   "metadata": {
    "cell_id": "fc98d08f934e4e49a63fa42429102404",
    "tags": [],
    "deepnote_cell_type": "markdown",
    "deepnote_cell_height": 54
   }
  },
  {
   "cell_type": "code",
   "metadata": {
    "cell_id": "626c55ecc1fa4ff59f4be21cb5df7bd1",
    "tags": [],
    "deepnote_to_be_reexecuted": false,
    "source_hash": "56c7774b",
    "execution_start": 1649596978252,
    "execution_millis": 577,
    "deepnote_cell_type": "code",
    "deepnote_cell_height": 674,
    "deepnote_output_heights": [
     487
    ]
   },
   "source": "plt.figure(figsize=(8,7))\ndata_psicologia.groupby(by = 'SEXO').sum()['TOTAL'].plot(kind = 'bar', color = 'purple')\nplt.title('Cantidad de Varones y Mujeres PREGRADO Psicología - 2020')\nplt.xlabel('Sexo')\nplt.ylabel('Cantidad')\nplt.show()",
   "outputs": [
    {
     "data": {
      "text/plain": "<Figure size 576x504 with 1 Axes>",
      "image/png": "[encoded data removed]"
     },
     "metadata": {
      "needs_background": "light",
      "image/png": {
       "width": 504,
       "height": 485
      }
     },
     "output_type": "display_data"
    }
   ],
   "execution_count": null
  },
  {
   "cell_type": "markdown",
   "source": "### PREGRADO",
   "metadata": {
    "cell_id": "503605e0811f4516ba860439094a3090",
    "tags": [],
    "deepnote_cell_type": "markdown",
    "deepnote_cell_height": 62
   }
  },
  {
   "cell_type": "markdown",
   "source": "> Filtramos a todas las personas con grado de estudios PREGRADO",
   "metadata": {
    "cell_id": "479cf116f3c245b79e41ec9f36db2544",
    "tags": [],
    "deepnote_cell_type": "markdown",
    "deepnote_cell_height": 66.390625
   }
  },
  {
   "cell_type": "code",
   "metadata": {
    "cell_id": "f7426a4ac89440c2b315a3f8fab43134",
    "tags": [],
    "deepnote_to_be_reexecuted": false,
    "source_hash": "c1bd2f86",
    "execution_start": 1649597056965,
    "execution_millis": 80,
    "deepnote_cell_type": "code",
    "deepnote_cell_height": 649.59375
   },
   "source": "# personas que estudiaron alguna carrera de pregrado\ndf_pregrado = df_2020[df_2020['COD_GRADO_ESTUDIOS']==9]\ndf_pregrado",
   "outputs": [
    {
     "output_type": "execute_result",
     "execution_count": 59,
     "data": {
      "application/vnd.deepnote.dataframe.v3+json": {
       "column_count": 20,
       "row_count": 5779,
       "columns": [
        {
         "name": "ANIO",
         "dtype": "int64",
         "stats": {
          "unique_count": 1,
          "nan_count": 0,
          "min": "2020",
          "max": "2020",
          "histogram": [
           {
            "bin_start": 2019.5,
            "bin_end": 2019.6,
            "count": 0
           },
           {
            "bin_start": 2019.6,
            "bin_end": 2019.7,
            "count": 0
           },
           {
            "bin_start": 2019.7,
            "bin_end": 2019.8,
            "count": 0
           },
           {
            "bin_start": 2019.8,
            "bin_end": 2019.9,
            "count": 0
           },
           {
            "bin_start": 2019.9,
            "bin_end": 2020,
            "count": 0
           },
           {
            "bin_start": 2020,
            "bin_end": 2020.1,
            "count": 5779
           },
           {
            "bin_start": 2020.1,
            "bin_end": 2020.2,
            "count": 0
           },
           {
            "bin_start": 2020.2,
            "bin_end": 2020.3,
            "count": 0
           },
           {
            "bin_start": 2020.3,
            "bin_end": 2020.4,
            "count": 0
           },
           {
            "bin_start": 2020.4,
            "bin_end": 2020.5,
            "count": 0
           }
          ]
         }
        },
        {
         "name": "UBIGEO",
         "dtype": "int64",
         "stats": {
          "unique_count": 718,
          "nan_count": 0,
          "min": "10101",
          "max": "250305",
          "histogram": [
           {
            "bin_start": 10101,
            "bin_end": 34121.4,
            "count": 518
           },
           {
            "bin_start": 34121.4,
            "bin_end": 58141.8,
            "count": 459
           },
           {
            "bin_start": 58141.8,
            "bin_end": 82162.20000000001,
            "count": 537
           },
           {
            "bin_start": 82162.20000000001,
            "bin_end": 106182.6,
            "count": 275
           },
           {
            "bin_start": 106182.6,
            "bin_end": 130203,
            "count": 757
           },
           {
            "bin_start": 130203,
            "bin_end": 154223.40000000002,
            "count": 1373
           },
           {
            "bin_start": 154223.40000000002,
            "bin_end": 178243.80000000002,
            "count": 312
           },
           {
            "bin_start": 178243.80000000002,
            "bin_end": 202264.2,
            "count": 594
           },
           {
            "bin_start": 202264.2,
            "bin_end": 226284.6,
            "count": 309
           },
           {
            "bin_start": 226284.6,
            "bin_end": 250305,
            "count": 645
           }
          ]
         }
        },
        {
         "name": "DOMINIO_G",
         "dtype": "int64",
         "stats": {
          "unique_count": 8,
          "nan_count": 0,
          "min": "1",
          "max": "8",
          "histogram": [
           {
            "bin_start": 1,
            "bin_end": 1.7,
            "count": 861
           },
           {
            "bin_start": 1.7,
            "bin_end": 2.4,
            "count": 624
           },
           {
            "bin_start": 2.4,
            "bin_end": 3.0999999999999996,
            "count": 514
           },
           {
            "bin_start": 3.0999999999999996,
            "bin_end": 3.8,
            "count": 0
           },
           {
            "bin_start": 3.8,
            "bin_end": 4.5,
            "count": 195
           },
           {
            "bin_start": 4.5,
            "bin_end": 5.199999999999999,
            "count": 830
           },
           {
            "bin_start": 5.199999999999999,
            "bin_end": 5.8999999999999995,
            "count": 0
           },
           {
            "bin_start": 5.8999999999999995,
            "bin_end": 6.6,
            "count": 791
           },
           {
            "bin_start": 6.6,
            "bin_end": 7.3,
            "count": 893
           },
           {
            "bin_start": 7.3,
            "bin_end": 8,
            "count": 1071
           }
          ]
         }
        },
        {
         "name": "ID_SEXO",
         "dtype": "int64",
         "stats": {
          "unique_count": 2,
          "nan_count": 0,
          "min": "1",
          "max": "2",
          "histogram": [
           {
            "bin_start": 1,
            "bin_end": 1.1,
            "count": 3008
           },
           {
            "bin_start": 1.1,
            "bin_end": 1.2,
            "count": 0
           },
           {
            "bin_start": 1.2,
            "bin_end": 1.3,
            "count": 0
           },
           {
            "bin_start": 1.3,
            "bin_end": 1.4,
            "count": 0
           },
           {
            "bin_start": 1.4,
            "bin_end": 1.5,
            "count": 0
           },
           {
            "bin_start": 1.5,
            "bin_end": 1.6,
            "count": 0
           },
           {
            "bin_start": 1.6,
            "bin_end": 1.7000000000000002,
            "count": 0
           },
           {
            "bin_start": 1.7000000000000002,
            "bin_end": 1.8,
            "count": 0
           },
           {
            "bin_start": 1.8,
            "bin_end": 1.9,
            "count": 0
           },
           {
            "bin_start": 1.9,
            "bin_end": 2,
            "count": 2771
           }
          ]
         }
        },
        {
         "name": "EDAD",
         "dtype": "int64",
         "stats": {
          "unique_count": 71,
          "nan_count": 0,
          "min": "16",
          "max": "92",
          "histogram": [
           {
            "bin_start": 16,
            "bin_end": 23.6,
            "count": 2934
           },
           {
            "bin_start": 23.6,
            "bin_end": 31.2,
            "count": 1338
           },
           {
            "bin_start": 31.2,
            "bin_end": 38.8,
            "count": 435
           },
           {
            "bin_start": 38.8,
            "bin_end": 46.4,
            "count": 304
           },
           {
            "bin_start": 46.4,
            "bin_end": 54,
            "count": 244
           },
           {
            "bin_start": 54,
            "bin_end": 61.599999999999994,
            "count": 258
           },
           {
            "bin_start": 61.599999999999994,
            "bin_end": 69.19999999999999,
            "count": 180
           },
           {
            "bin_start": 69.19999999999999,
            "bin_end": 76.8,
            "count": 70
           },
           {
            "bin_start": 76.8,
            "bin_end": 84.39999999999999,
            "count": 12
           },
           {
            "bin_start": 84.39999999999999,
            "bin_end": 92,
            "count": 4
           }
          ]
         }
        },
        {
         "name": "ID_ESTADO_CIVIL",
         "dtype": "int64",
         "stats": {
          "unique_count": 6,
          "nan_count": 0,
          "min": "1",
          "max": "6",
          "histogram": [
           {
            "bin_start": 1,
            "bin_end": 1.5,
            "count": 700
           },
           {
            "bin_start": 1.5,
            "bin_end": 2,
            "count": 0
           },
           {
            "bin_start": 2,
            "bin_end": 2.5,
            "count": 614
           },
           {
            "bin_start": 2.5,
            "bin_end": 3,
            "count": 0
           },
           {
            "bin_start": 3,
            "bin_end": 3.5,
            "count": 38
           },
           {
            "bin_start": 3.5,
            "bin_end": 4,
            "count": 0
           },
           {
            "bin_start": 4,
            "bin_end": 4.5,
            "count": 39
           },
           {
            "bin_start": 4.5,
            "bin_end": 5,
            "count": 0
           },
           {
            "bin_start": 5,
            "bin_end": 5.5,
            "count": 348
           },
           {
            "bin_start": 5.5,
            "bin_end": 6,
            "count": 4040
           }
          ]
         }
        },
        {
         "name": "COD_IDIOMA",
         "dtype": "int64",
         "stats": {
          "unique_count": 12,
          "nan_count": 0,
          "min": "1",
          "max": "15",
          "histogram": [
           {
            "bin_start": 1,
            "bin_end": 2.4,
            "count": 381
           },
           {
            "bin_start": 2.4,
            "bin_end": 3.8,
            "count": 13
           },
           {
            "bin_start": 3.8,
            "bin_end": 5.199999999999999,
            "count": 5358
           },
           {
            "bin_start": 5.199999999999999,
            "bin_end": 6.6,
            "count": 3
           },
           {
            "bin_start": 6.6,
            "bin_end": 8,
            "count": 3
           },
           {
            "bin_start": 8,
            "bin_end": 9.399999999999999,
            "count": 1
           },
           {
            "bin_start": 9.399999999999999,
            "bin_end": 10.799999999999999,
            "count": 2
           },
           {
            "bin_start": 10.799999999999999,
            "bin_end": 12.2,
            "count": 15
           },
           {
            "bin_start": 12.2,
            "bin_end": 13.6,
            "count": 0
           },
           {
            "bin_start": 13.6,
            "bin_end": 15,
            "count": 3
           }
          ]
         }
        },
        {
         "name": "COD_GRADO_ESTUDIOS",
         "dtype": "int64",
         "stats": {
          "unique_count": 1,
          "nan_count": 0,
          "min": "9",
          "max": "9",
          "histogram": [
           {
            "bin_start": 8.5,
            "bin_end": 8.6,
            "count": 0
           },
           {
            "bin_start": 8.6,
            "bin_end": 8.7,
            "count": 0
           },
           {
            "bin_start": 8.7,
            "bin_end": 8.8,
            "count": 0
           },
           {
            "bin_start": 8.8,
            "bin_end": 8.9,
            "count": 0
           },
           {
            "bin_start": 8.9,
            "bin_end": 9,
            "count": 0
           },
           {
            "bin_start": 9,
            "bin_end": 9.1,
            "count": 5779
           },
           {
            "bin_start": 9.1,
            "bin_end": 9.2,
            "count": 0
           },
           {
            "bin_start": 9.2,
            "bin_end": 9.3,
            "count": 0
           },
           {
            "bin_start": 9.3,
            "bin_end": 9.4,
            "count": 0
           },
           {
            "bin_start": 9.4,
            "bin_end": 9.5,
            "count": 0
           }
          ]
         }
        },
        {
         "name": "COD_CARRERA_UNI",
         "dtype": "int64",
         "stats": {
          "unique_count": 253,
          "nan_count": 0,
          "min": "-1",
          "max": "999999",
          "histogram": [
           {
            "bin_start": -1,
            "bin_end": 99999,
            "count": 2868
           },
           {
            "bin_start": 99999,
            "bin_end": 199999,
            "count": 248
           },
           {
            "bin_start": 199999,
            "bin_end": 299999,
            "count": 41
           },
           {
            "bin_start": 299999,
            "bin_end": 399999,
            "count": 1291
           },
           {
            "bin_start": 399999,
            "bin_end": 499999,
            "count": 77
           },
           {
            "bin_start": 499999,
            "bin_end": 599999,
            "count": 783
           },
           {
            "bin_start": 599999,
            "bin_end": 699999,
            "count": 113
           },
           {
            "bin_start": 699999,
            "bin_end": 799999,
            "count": 354
           },
           {
            "bin_start": 799999,
            "bin_end": 899999,
            "count": 0
           },
           {
            "bin_start": 899999,
            "bin_end": 999999,
            "count": 4
           }
          ]
         }
        },
        {
         "name": "COD_CENTRO_ESTUDIOS",
         "dtype": "int64",
         "stats": {
          "unique_count": 122,
          "nan_count": 0,
          "min": "-1",
          "max": "999999999",
          "histogram": [
           {
            "bin_start": -1,
            "bin_end": 99999999,
            "count": 2881
           },
           {
            "bin_start": 99999999,
            "bin_end": 199999999,
            "count": 1121
           },
           {
            "bin_start": 199999999,
            "bin_end": 299999999,
            "count": 1731
           },
           {
            "bin_start": 299999999,
            "bin_end": 399999999,
            "count": 0
           },
           {
            "bin_start": 399999999,
            "bin_end": 499999999,
            "count": 0
           },
           {
            "bin_start": 499999999,
            "bin_end": 599999999,
            "count": 0
           },
           {
            "bin_start": 599999999,
            "bin_end": 699999999,
            "count": 0
           },
           {
            "bin_start": 699999999,
            "bin_end": 799999999,
            "count": 0
           },
           {
            "bin_start": 799999999,
            "bin_end": 899999999,
            "count": 0
           },
           {
            "bin_start": 899999999,
            "bin_end": 999999999,
            "count": 46
           }
          ]
         }
        },
        {
         "name": "COD_DEPARTAMENTO",
         "dtype": "int64",
         "stats": {
          "unique_count": 27,
          "nan_count": 0,
          "min": "-1",
          "max": "99",
          "histogram": [
           {
            "bin_start": -1,
            "bin_end": 9,
            "count": 3391
           },
           {
            "bin_start": 9,
            "bin_end": 19,
            "count": 1907
           },
           {
            "bin_start": 19,
            "bin_end": 29,
            "count": 424
           },
           {
            "bin_start": 29,
            "bin_end": 39,
            "count": 0
           },
           {
            "bin_start": 39,
            "bin_end": 49,
            "count": 0
           },
           {
            "bin_start": 49,
            "bin_end": 59,
            "count": 0
           },
           {
            "bin_start": 59,
            "bin_end": 69,
            "count": 0
           },
           {
            "bin_start": 69,
            "bin_end": 79,
            "count": 0
           },
           {
            "bin_start": 79,
            "bin_end": 89,
            "count": 0
           },
           {
            "bin_start": 89,
            "bin_end": 99,
            "count": 57
           }
          ]
         }
        },
        {
         "name": "NOM_DOMINIO_G",
         "dtype": "object",
         "stats": {
          "unique_count": 8,
          "nan_count": 0,
          "categories": [
           {
            "name": "Lima Metropolitana",
            "count": 1071
           },
           {
            "name": "Selva",
            "count": 893
           },
           {
            "name": "6 others",
            "count": 3815
           }
          ]
         }
        },
        {
         "name": "NOM_ESTADO_CIVIL",
         "dtype": "object",
         "stats": {
          "unique_count": 6,
          "nan_count": 0,
          "categories": [
           {
            "name": "Soltero",
            "count": 4040
           },
           {
            "name": "Conviviente",
            "count": 700
           },
           {
            "name": "4 others",
            "count": 1039
           }
          ]
         }
        },
        {
         "name": "NOM_IDIOMA",
         "dtype": "object",
         "stats": {
          "unique_count": 12,
          "nan_count": 0,
          "categories": [
           {
            "name": "Castellano",
            "count": 5358
           },
           {
            "name": "Quechua",
            "count": 334
           },
           {
            "name": "10 others",
            "count": 87
           }
          ]
         }
        },
        {
         "name": "NOM_GRADO_ESTUDIOS",
         "dtype": "object",
         "stats": {
          "unique_count": 1,
          "nan_count": 0,
          "categories": [
           {
            "name": "Superior Universitaria Incompleta",
            "count": 5779
           }
          ]
         }
        },
        {
         "name": "NOM_CARRERA_UNI",
         "dtype": "object",
         "stats": {
          "unique_count": 250,
          "nan_count": 2869,
          "categories": [
           {
            "name": "Derecho",
            "count": 216
           },
           {
            "name": "249 others",
            "count": 2694
           },
           {
            "name": "Missing",
            "count": 2869
           }
          ]
         }
        },
        {
         "name": "NOM_CENTRO_ESTUDIOS",
         "dtype": "object",
         "stats": {
          "unique_count": 120,
          "nan_count": 2927,
          "categories": [
           {
            "name": "Universidad Particular César Vallejo",
            "count": 171
           },
           {
            "name": "119 others",
            "count": 2681
           },
           {
            "name": "Missing",
            "count": 2927
           }
          ]
         }
        },
        {
         "name": "NOM_DEPARTAMENTO",
         "dtype": "object"
        },
        {
         "name": "SEXO",
         "dtype": "object"
        },
        {
         "name": "TOTAL",
         "dtype": "int64"
        },
        {
         "name": "_deepnote_index_column",
         "dtype": "int64"
        }
       ],
       "rows": [
        {
         "ANIO": 2020,
         "UBIGEO": 10101,
         "DOMINIO_G": 4,
         "ID_SEXO": 1,
         "EDAD": 18,
         "ID_ESTADO_CIVIL": 6,
         "COD_IDIOMA": 4,
         "COD_GRADO_ESTUDIOS": 9,
         "COD_CARRERA_UNI": 321026,
         "COD_CENTRO_ESTUDIOS": 160000076,
         "COD_DEPARTAMENTO": 1,
         "NOM_DOMINIO_G": "Sierra Norte",
         "NOM_ESTADO_CIVIL": "Soltero",
         "NOM_IDIOMA": "Castellano",
         "NOM_GRADO_ESTUDIOS": "Superior Universitaria Incompleta",
         "NOM_CARRERA_UNI": "Ciencias de la Comunicación",
         "NOM_CENTRO_ESTUDIOS": "Universidad Nacional Toribio Rodríguez de Mendoza de Amazonas",
         "NOM_DEPARTAMENTO": "Amazonas",
         "SEXO": "Hombre",
         "TOTAL": 1,
         "_deepnote_index_column": 1
        },
        {
         "ANIO": 2020,
         "UBIGEO": 10203,
         "DOMINIO_G": 7,
         "ID_SEXO": 2,
         "EDAD": 19,
         "ID_ESTADO_CIVIL": 6,
         "COD_IDIOMA": 4,
         "COD_GRADO_ESTUDIOS": 9,
         "COD_CARRERA_UNI": 714016,
         "COD_CENTRO_ESTUDIOS": 260000072,
         "COD_DEPARTAMENTO": 14,
         "NOM_DOMINIO_G": "Selva",
         "NOM_ESTADO_CIVIL": "Soltero",
         "NOM_IDIOMA": "Castellano",
         "NOM_GRADO_ESTUDIOS": "Superior Universitaria Incompleta",
         "NOM_CARRERA_UNI": "Enfermería",
         "NOM_CENTRO_ESTUDIOS": "Universidad Particular Señor de Sipán S.A.C.",
         "NOM_DEPARTAMENTO": "Lambayeque",
         "SEXO": "Mujer",
         "TOTAL": 1,
         "_deepnote_index_column": 11
        },
        {
         "ANIO": 2020,
         "UBIGEO": 10306,
         "DOMINIO_G": 4,
         "ID_SEXO": 2,
         "EDAD": 22,
         "ID_ESTADO_CIVIL": 6,
         "COD_IDIOMA": 4,
         "COD_GRADO_ESTUDIOS": 9,
         "COD_CARRERA_UNI": 313016,
         "COD_CENTRO_ESTUDIOS": 160000076,
         "COD_DEPARTAMENTO": 1,
         "NOM_DOMINIO_G": "Sierra Norte",
         "NOM_ESTADO_CIVIL": "Soltero",
         "NOM_IDIOMA": "Castellano",
         "NOM_GRADO_ESTUDIOS": "Superior Universitaria Incompleta",
         "NOM_CARRERA_UNI": "Psicología",
         "NOM_CENTRO_ESTUDIOS": "Universidad Nacional Toribio Rodríguez de Mendoza de Amazonas",
         "NOM_DEPARTAMENTO": "Amazonas",
         "SEXO": "Mujer",
         "TOTAL": 1,
         "_deepnote_index_column": 13
        },
        {
         "ANIO": 2020,
         "UBIGEO": 10306,
         "DOMINIO_G": 4,
         "ID_SEXO": 2,
         "EDAD": 22,
         "ID_ESTADO_CIVIL": 6,
         "COD_IDIOMA": 4,
         "COD_GRADO_ESTUDIOS": 9,
         "COD_CARRERA_UNI": 341116,
         "COD_CENTRO_ESTUDIOS": 260000072,
         "COD_DEPARTAMENTO": 14,
         "NOM_DOMINIO_G": "Sierra Norte",
         "NOM_ESTADO_CIVIL": "Soltero",
         "NOM_IDIOMA": "Castellano",
         "NOM_GRADO_ESTUDIOS": "Superior Universitaria Incompleta",
         "NOM_CARRERA_UNI": "Ingeniería Económica",
         "NOM_CENTRO_ESTUDIOS": "Universidad Particular Señor de Sipán S.A.C.",
         "NOM_DEPARTAMENTO": "Lambayeque",
         "SEXO": "Mujer",
         "TOTAL": 1,
         "_deepnote_index_column": 14
        },
        {
         "ANIO": 2020,
         "UBIGEO": 10306,
         "DOMINIO_G": 4,
         "ID_SEXO": 1,
         "EDAD": 19,
         "ID_ESTADO_CIVIL": 6,
         "COD_IDIOMA": 4,
         "COD_GRADO_ESTUDIOS": 9,
         "COD_CARRERA_UNI": 531016,
         "COD_CENTRO_ESTUDIOS": 160000031,
         "COD_DEPARTAMENTO": 14,
         "NOM_DOMINIO_G": "Sierra Norte",
         "NOM_ESTADO_CIVIL": "Soltero",
         "NOM_IDIOMA": "Castellano",
         "NOM_GRADO_ESTUDIOS": "Superior Universitaria Incompleta",
         "NOM_CARRERA_UNI": "Ingeniería Civil",
         "NOM_CENTRO_ESTUDIOS": "Universidad Nacional Pedro Ruíz Gallo",
         "NOM_DEPARTAMENTO": "Lambayeque",
         "SEXO": "Hombre",
         "TOTAL": 1,
         "_deepnote_index_column": 16
        },
        {
         "ANIO": 2020,
         "UBIGEO": 10306,
         "DOMINIO_G": 4,
         "ID_SEXO": 2,
         "EDAD": 22,
         "ID_ESTADO_CIVIL": 6,
         "COD_IDIOMA": 4,
         "COD_GRADO_ESTUDIOS": 9,
         "COD_CARRERA_UNI": 523026,
         "COD_CENTRO_ESTUDIOS": 160000076,
         "COD_DEPARTAMENTO": 1,
         "NOM_DOMINIO_G": "Sierra Norte",
         "NOM_ESTADO_CIVIL": "Soltero",
         "NOM_IDIOMA": "Castellano",
         "NOM_GRADO_ESTUDIOS": "Superior Universitaria Incompleta",
         "NOM_CARRERA_UNI": "Ingeniería Agroindustrial",
         "NOM_CENTRO_ESTUDIOS": "Universidad Nacional Toribio Rodríguez de Mendoza de Amazonas",
         "NOM_DEPARTAMENTO": "Amazonas",
         "SEXO": "Mujer",
         "TOTAL": 1,
         "_deepnote_index_column": 17
        },
        {
         "ANIO": 2020,
         "UBIGEO": 10306,
         "DOMINIO_G": 4,
         "ID_SEXO": 2,
         "EDAD": 23,
         "ID_ESTADO_CIVIL": 6,
         "COD_IDIOMA": 4,
         "COD_GRADO_ESTUDIOS": 9,
         "COD_CARRERA_UNI": 714016,
         "COD_CENTRO_ESTUDIOS": 160000076,
         "COD_DEPARTAMENTO": 1,
         "NOM_DOMINIO_G": "Sierra Norte",
         "NOM_ESTADO_CIVIL": "Soltero",
         "NOM_IDIOMA": "Castellano",
         "NOM_GRADO_ESTUDIOS": "Superior Universitaria Incompleta",
         "NOM_CARRERA_UNI": "Enfermería",
         "NOM_CENTRO_ESTUDIOS": "Universidad Nacional Toribio Rodríguez de Mendoza de Amazonas",
         "NOM_DEPARTAMENTO": "Amazonas",
         "SEXO": "Mujer",
         "TOTAL": 1,
         "_deepnote_index_column": 18
        },
        {
         "ANIO": 2020,
         "UBIGEO": 21801,
         "DOMINIO_G": 2,
         "ID_SEXO": 1,
         "EDAD": 22,
         "ID_ESTADO_CIVIL": 6,
         "COD_IDIOMA": 4,
         "COD_GRADO_ESTUDIOS": 9,
         "COD_CARRERA_UNI": 351016,
         "COD_CENTRO_ESTUDIOS": 260000053,
         "COD_DEPARTAMENTO": 2,
         "NOM_DOMINIO_G": "Costa Centro",
         "NOM_ESTADO_CIVIL": "Soltero",
         "NOM_IDIOMA": "Castellano",
         "NOM_GRADO_ESTUDIOS": "Superior Universitaria Incompleta",
         "NOM_CARRERA_UNI": "Derecho",
         "NOM_CENTRO_ESTUDIOS": "Universidad Católica Los Ángeles de Chimbote",
         "NOM_DEPARTAMENTO": "Ancash",
         "SEXO": "Hombre",
         "TOTAL": 1,
         "_deepnote_index_column": 21
        },
        {
         "ANIO": 2020,
         "UBIGEO": 21809,
         "DOMINIO_G": 2,
         "ID_SEXO": 2,
         "EDAD": 27,
         "ID_ESTADO_CIVIL": 6,
         "COD_IDIOMA": 4,
         "COD_GRADO_ESTUDIOS": 9,
         "COD_CARRERA_UNI": 717016,
         "COD_CENTRO_ESTUDIOS": 260000053,
         "COD_DEPARTAMENTO": 2,
         "NOM_DOMINIO_G": "Costa Centro",
         "NOM_ESTADO_CIVIL": "Soltero",
         "NOM_IDIOMA": "Castellano",
         "NOM_GRADO_ESTUDIOS": "Superior Universitaria Incompleta",
         "NOM_CARRERA_UNI": "Obstetricia",
         "NOM_CENTRO_ESTUDIOS": "Universidad Católica Los Ángeles de Chimbote",
         "NOM_DEPARTAMENTO": "Ancash",
         "SEXO": "Mujer",
         "TOTAL": 1,
         "_deepnote_index_column": 24
        },
        {
         "ANIO": 2020,
         "UBIGEO": 20105,
         "DOMINIO_G": 5,
         "ID_SEXO": 1,
         "EDAD": 20,
         "ID_ESTADO_CIVIL": 6,
         "COD_IDIOMA": 4,
         "COD_GRADO_ESTUDIOS": 9,
         "COD_CARRERA_UNI": 511026,
         "COD_CENTRO_ESTUDIOS": 160000033,
         "COD_DEPARTAMENTO": 2,
         "NOM_DOMINIO_G": "Sierra Centro",
         "NOM_ESTADO_CIVIL": "Soltero",
         "NOM_IDIOMA": "Castellano",
         "NOM_GRADO_ESTUDIOS": "Superior Universitaria Incompleta",
         "NOM_CARRERA_UNI": "Ingeniería de Sistemas",
         "NOM_CENTRO_ESTUDIOS": "Universidad Nacional Santiago Antúnez de Mayolo",
         "NOM_DEPARTAMENTO": "Ancash",
         "SEXO": "Hombre",
         "TOTAL": 1,
         "_deepnote_index_column": 31
        }
       ]
      },
      "text/plain": "       ANIO  UBIGEO  DOMINIO_G  ID_SEXO  EDAD  ID_ESTADO_CIVIL  COD_IDIOMA  \\\n1      2020   10101          4        1    18                6           4   \n11     2020   10203          7        2    19                6           4   \n13     2020   10306          4        2    22                6           4   \n14     2020   10306          4        2    22                6           4   \n16     2020   10306          4        1    19                6           4   \n...     ...     ...        ...      ...   ...              ...         ...   \n14048  2020  240301          1        1    19                6           4   \n14050  2020  240105          1        2    20                6           4   \n14053  2020  250105          7        2    36                6           4   \n14054  2020  250105          7        2    28                6           4   \n14057  2020  250101          7        2    66                2           4   \n\n       COD_GRADO_ESTUDIOS  COD_CARRERA_UNI  COD_CENTRO_ESTUDIOS  \\\n1                       9           321026            160000076   \n11                      9           714016            260000072   \n13                      9           313016            160000076   \n14                      9           341116            260000072   \n16                      9           531016            160000031   \n...                   ...              ...                  ...   \n14048                   9           531016            260000046   \n14050                   9           111026            160000041   \n14053                   9           531016            260000053   \n14054                   9           111026            160000084   \n14057                   9           522016            160000022   \n\n       COD_DEPARTAMENTO NOM_DOMINIO_G NOM_ESTADO_CIVIL  NOM_IDIOMA  \\\n1                     1  Sierra Norte          Soltero  Castellano   \n11                   14         Selva          Soltero  Castellano   \n13                    1  Sierra Norte          Soltero  Castellano   \n14                   14  Sierra Norte          Soltero  Castellano   \n16                   14  Sierra Norte          Soltero  Castellano   \n...                 ...           ...              ...         ...   \n14048                13   Costa Norte          Soltero  Castellano   \n14050                24   Costa Norte          Soltero  Castellano   \n14053                 2         Selva          Soltero  Castellano   \n14054                25         Selva          Soltero  Castellano   \n14057                99         Selva           Casado  Castellano   \n\n                      NOM_GRADO_ESTUDIOS              NOM_CARRERA_UNI  \\\n1      Superior Universitaria Incompleta  Ciencias de la Comunicación   \n11     Superior Universitaria Incompleta                   Enfermería   \n13     Superior Universitaria Incompleta                   Psicología   \n14     Superior Universitaria Incompleta         Ingeniería Económica   \n16     Superior Universitaria Incompleta             Ingeniería Civil   \n...                                  ...                          ...   \n14048  Superior Universitaria Incompleta             Ingeniería Civil   \n14050  Superior Universitaria Incompleta            Educación Inicial   \n14053  Superior Universitaria Incompleta             Ingeniería Civil   \n14054  Superior Universitaria Incompleta            Educación Inicial   \n14057  Superior Universitaria Incompleta      Industrias Alimentarias   \n\n                                     NOM_CENTRO_ESTUDIOS NOM_DEPARTAMENTO  \\\n1      Universidad Nacional Toribio Rodríguez de Mend...         Amazonas   \n11          Universidad Particular Señor de Sipán S.A.C.       Lambayeque   \n13     Universidad Nacional Toribio Rodríguez de Mend...         Amazonas   \n14          Universidad Particular Señor de Sipán S.A.C.       Lambayeque   \n16                 Universidad Nacional Pedro Ruíz Gallo       Lambayeque   \n...                                                  ...              ...   \n14048                      Universidad P. Antenor Orrego      La Libertad   \n14050                     Universidad Nacional de Tumbes           Tumbes   \n14053       Universidad Católica Los Ángeles de Chimbote           Ancash   \n14054  Universidad Nacional Intercultural de la Amazonía          Ucayali   \n14057           Universidad Nacional Agraria de la Selva              NaN   \n\n         SEXO  TOTAL  \n1      Hombre      1  \n11      Mujer      1  \n13      Mujer      1  \n14      Mujer      1  \n16     Hombre      1  \n...       ...    ...  \n14048  Hombre      1  \n14050   Mujer      1  \n14053   Mujer      1  \n14054   Mujer      1  \n14057   Mujer      1  \n\n[5779 rows x 20 columns]",
      "text/html": "<div>\n<style scoped>\n    .dataframe tbody tr th:only-of-type {\n        vertical-align: middle;\n    }\n\n    .dataframe tbody tr th {\n        vertical-align: top;\n    }\n\n    .dataframe thead th {\n        text-align: right;\n    }\n</style>\n<table border=\"1\" class=\"dataframe\">\n  <thead>\n    <tr style=\"text-align: right;\">\n      <th></th>\n      <th>ANIO</th>\n      <th>UBIGEO</th>\n      <th>DOMINIO_G</th>\n      <th>ID_SEXO</th>\n      <th>EDAD</th>\n      <th>ID_ESTADO_CIVIL</th>\n      <th>COD_IDIOMA</th>\n      <th>COD_GRADO_ESTUDIOS</th>\n      <th>COD_CARRERA_UNI</th>\n      <th>COD_CENTRO_ESTUDIOS</th>\n      <th>COD_DEPARTAMENTO</th>\n      <th>NOM_DOMINIO_G</th>\n      <th>NOM_ESTADO_CIVIL</th>\n      <th>NOM_IDIOMA</th>\n      <th>NOM_GRADO_ESTUDIOS</th>\n      <th>NOM_CARRERA_UNI</th>\n      <th>NOM_CENTRO_ESTUDIOS</th>\n      <th>NOM_DEPARTAMENTO</th>\n      <th>SEXO</th>\n      <th>TOTAL</th>\n    </tr>\n  </thead>\n  <tbody>\n    <tr>\n      <th>1</th>\n      <td>2020</td>\n      <td>10101</td>\n      <td>4</td>\n      <td>1</td>\n      <td>18</td>\n      <td>6</td>\n      <td>4</td>\n      <td>9</td>\n      <td>321026</td>\n      <td>160000076</td>\n      <td>1</td>\n      <td>Sierra Norte</td>\n      <td>Soltero</td>\n      <td>Castellano</td>\n      <td>Superior Universitaria Incompleta</td>\n      <td>Ciencias de la Comunicación</td>\n      <td>Universidad Nacional Toribio Rodríguez de Mend...</td>\n      <td>Amazonas</td>\n      <td>Hombre</td>\n      <td>1</td>\n    </tr>\n    <tr>\n      <th>11</th>\n      <td>2020</td>\n      <td>10203</td>\n      <td>7</td>\n      <td>2</td>\n      <td>19</td>\n      <td>6</td>\n      <td>4</td>\n      <td>9</td>\n      <td>714016</td>\n      <td>260000072</td>\n      <td>14</td>\n      <td>Selva</td>\n      <td>Soltero</td>\n      <td>Castellano</td>\n      <td>Superior Universitaria Incompleta</td>\n      <td>Enfermería</td>\n      <td>Universidad Particular Señor de Sipán S.A.C.</td>\n      <td>Lambayeque</td>\n      <td>Mujer</td>\n      <td>1</td>\n    </tr>\n    <tr>\n      <th>13</th>\n      <td>2020</td>\n      <td>10306</td>\n      <td>4</td>\n      <td>2</td>\n      <td>22</td>\n      <td>6</td>\n      <td>4</td>\n      <td>9</td>\n      <td>313016</td>\n      <td>160000076</td>\n      <td>1</td>\n      <td>Sierra Norte</td>\n      <td>Soltero</td>\n      <td>Castellano</td>\n      <td>Superior Universitaria Incompleta</td>\n      <td>Psicología</td>\n      <td>Universidad Nacional Toribio Rodríguez de Mend...</td>\n      <td>Amazonas</td>\n      <td>Mujer</td>\n      <td>1</td>\n    </tr>\n    <tr>\n      <th>14</th>\n      <td>2020</td>\n      <td>10306</td>\n      <td>4</td>\n      <td>2</td>\n      <td>22</td>\n      <td>6</td>\n      <td>4</td>\n      <td>9</td>\n      <td>341116</td>\n      <td>260000072</td>\n      <td>14</td>\n      <td>Sierra Norte</td>\n      <td>Soltero</td>\n      <td>Castellano</td>\n      <td>Superior Universitaria Incompleta</td>\n      <td>Ingeniería Económica</td>\n      <td>Universidad Particular Señor de Sipán S.A.C.</td>\n      <td>Lambayeque</td>\n      <td>Mujer</td>\n      <td>1</td>\n    </tr>\n    <tr>\n      <th>16</th>\n      <td>2020</td>\n      <td>10306</td>\n      <td>4</td>\n      <td>1</td>\n      <td>19</td>\n      <td>6</td>\n      <td>4</td>\n      <td>9</td>\n      <td>531016</td>\n      <td>160000031</td>\n      <td>14</td>\n      <td>Sierra Norte</td>\n      <td>Soltero</td>\n      <td>Castellano</td>\n      <td>Superior Universitaria Incompleta</td>\n      <td>Ingeniería Civil</td>\n      <td>Universidad Nacional Pedro Ruíz Gallo</td>\n      <td>Lambayeque</td>\n      <td>Hombre</td>\n      <td>1</td>\n    </tr>\n    <tr>\n      <th>...</th>\n      <td>...</td>\n      <td>...</td>\n      <td>...</td>\n      <td>...</td>\n      <td>...</td>\n      <td>...</td>\n      <td>...</td>\n      <td>...</td>\n      <td>...</td>\n      <td>...</td>\n      <td>...</td>\n      <td>...</td>\n      <td>...</td>\n      <td>...</td>\n      <td>...</td>\n      <td>...</td>\n      <td>...</td>\n      <td>...</td>\n      <td>...</td>\n      <td>...</td>\n    </tr>\n    <tr>\n      <th>14048</th>\n      <td>2020</td>\n      <td>240301</td>\n      <td>1</td>\n      <td>1</td>\n      <td>19</td>\n      <td>6</td>\n      <td>4</td>\n      <td>9</td>\n      <td>531016</td>\n      <td>260000046</td>\n      <td>13</td>\n      <td>Costa Norte</td>\n      <td>Soltero</td>\n      <td>Castellano</td>\n      <td>Superior Universitaria Incompleta</td>\n      <td>Ingeniería Civil</td>\n      <td>Universidad P. Antenor Orrego</td>\n      <td>La Libertad</td>\n      <td>Hombre</td>\n      <td>1</td>\n    </tr>\n    <tr>\n      <th>14050</th>\n      <td>2020</td>\n      <td>240105</td>\n      <td>1</td>\n      <td>2</td>\n      <td>20</td>\n      <td>6</td>\n      <td>4</td>\n      <td>9</td>\n      <td>111026</td>\n      <td>160000041</td>\n      <td>24</td>\n      <td>Costa Norte</td>\n      <td>Soltero</td>\n      <td>Castellano</td>\n      <td>Superior Universitaria Incompleta</td>\n      <td>Educación Inicial</td>\n      <td>Universidad Nacional de Tumbes</td>\n      <td>Tumbes</td>\n      <td>Mujer</td>\n      <td>1</td>\n    </tr>\n    <tr>\n      <th>14053</th>\n      <td>2020</td>\n      <td>250105</td>\n      <td>7</td>\n      <td>2</td>\n      <td>36</td>\n      <td>6</td>\n      <td>4</td>\n      <td>9</td>\n      <td>531016</td>\n      <td>260000053</td>\n      <td>2</td>\n      <td>Selva</td>\n      <td>Soltero</td>\n      <td>Castellano</td>\n      <td>Superior Universitaria Incompleta</td>\n      <td>Ingeniería Civil</td>\n      <td>Universidad Católica Los Ángeles de Chimbote</td>\n      <td>Ancash</td>\n      <td>Mujer</td>\n      <td>1</td>\n    </tr>\n    <tr>\n      <th>14054</th>\n      <td>2020</td>\n      <td>250105</td>\n      <td>7</td>\n      <td>2</td>\n      <td>28</td>\n      <td>6</td>\n      <td>4</td>\n      <td>9</td>\n      <td>111026</td>\n      <td>160000084</td>\n      <td>25</td>\n      <td>Selva</td>\n      <td>Soltero</td>\n      <td>Castellano</td>\n      <td>Superior Universitaria Incompleta</td>\n      <td>Educación Inicial</td>\n      <td>Universidad Nacional Intercultural de la Amazonía</td>\n      <td>Ucayali</td>\n      <td>Mujer</td>\n      <td>1</td>\n    </tr>\n    <tr>\n      <th>14057</th>\n      <td>2020</td>\n      <td>250101</td>\n      <td>7</td>\n      <td>2</td>\n      <td>66</td>\n      <td>2</td>\n      <td>4</td>\n      <td>9</td>\n      <td>522016</td>\n      <td>160000022</td>\n      <td>99</td>\n      <td>Selva</td>\n      <td>Casado</td>\n      <td>Castellano</td>\n      <td>Superior Universitaria Incompleta</td>\n      <td>Industrias Alimentarias</td>\n      <td>Universidad Nacional Agraria de la Selva</td>\n      <td>NaN</td>\n      <td>Mujer</td>\n      <td>1</td>\n    </tr>\n  </tbody>\n</table>\n<p>5779 rows × 20 columns</p>\n</div>"
     },
     "metadata": {}
    }
   ],
   "execution_count": null
  },
  {
   "cell_type": "markdown",
   "source": "#### 5 carrerás universitarias más estudiadas en 2020",
   "metadata": {
    "cell_id": "dd2df267a56a421a9f020dbc63802b91",
    "tags": [],
    "deepnote_cell_type": "markdown",
    "deepnote_cell_height": 54
   }
  },
  {
   "cell_type": "code",
   "metadata": {
    "cell_id": "c317e4679482455f9ebb6c6f39f8b984",
    "tags": [],
    "deepnote_to_be_reexecuted": false,
    "source_hash": "5515345b",
    "execution_start": 1649597085085,
    "execution_millis": 39,
    "deepnote_cell_type": "code",
    "deepnote_cell_height": 462.59375
   },
   "source": "# 5 carreras más estudiadas en pregrado 2020\ndf_pregrado_top_5_carreras = df_pregrado.groupby(by = 'NOM_CARRERA_UNI', as_index = False).sum().sort_values(by = 'TOTAL', ascending = False)\ndf_pregrado_top_5_carreras.reset_index(drop = True, inplace = True)\ndf_pregrado_top_5_carreras.head()",
   "outputs": [
    {
     "output_type": "execute_result",
     "execution_count": 60,
     "data": {
      "application/vnd.deepnote.dataframe.v3+json": {
       "column_count": 13,
       "row_count": 5,
       "columns": [
        {
         "name": "NOM_CARRERA_UNI",
         "dtype": "object",
         "stats": {
          "unique_count": 5,
          "nan_count": 0,
          "categories": [
           {
            "name": "Derecho",
            "count": 1
           },
           {
            "name": "Ingeniería Civil",
            "count": 1
           },
           {
            "name": "3 others",
            "count": 3
           }
          ]
         }
        },
        {
         "name": "ANIO",
         "dtype": "int64",
         "stats": {
          "unique_count": 5,
          "nan_count": 0,
          "min": "242400",
          "max": "436320",
          "histogram": [
           {
            "bin_start": 242400,
            "bin_end": 261792,
            "count": 1
           },
           {
            "bin_start": 261792,
            "bin_end": 281184,
            "count": 1
           },
           {
            "bin_start": 281184,
            "bin_end": 300576,
            "count": 0
           },
           {
            "bin_start": 300576,
            "bin_end": 319968,
            "count": 0
           },
           {
            "bin_start": 319968,
            "bin_end": 339360,
            "count": 0
           },
           {
            "bin_start": 339360,
            "bin_end": 358752,
            "count": 1
           },
           {
            "bin_start": 358752,
            "bin_end": 378144,
            "count": 0
           },
           {
            "bin_start": 378144,
            "bin_end": 397536,
            "count": 0
           },
           {
            "bin_start": 397536,
            "bin_end": 416928,
            "count": 1
           },
           {
            "bin_start": 416928,
            "bin_end": 436320,
            "count": 1
           }
          ]
         }
        },
        {
         "name": "UBIGEO",
         "dtype": "int64",
         "stats": {
          "unique_count": 5,
          "nan_count": 0,
          "min": "16963368",
          "max": "30171793",
          "histogram": [
           {
            "bin_start": 16963368,
            "bin_end": 18284210.5,
            "count": 1
           },
           {
            "bin_start": 18284210.5,
            "bin_end": 19605053,
            "count": 1
           },
           {
            "bin_start": 19605053,
            "bin_end": 20925895.5,
            "count": 0
           },
           {
            "bin_start": 20925895.5,
            "bin_end": 22246738,
            "count": 0
           },
           {
            "bin_start": 22246738,
            "bin_end": 23567580.5,
            "count": 1
           },
           {
            "bin_start": 23567580.5,
            "bin_end": 24888423,
            "count": 0
           },
           {
            "bin_start": 24888423,
            "bin_end": 26209265.5,
            "count": 0
           },
           {
            "bin_start": 26209265.5,
            "bin_end": 27530108,
            "count": 0
           },
           {
            "bin_start": 27530108,
            "bin_end": 28850950.5,
            "count": 1
           },
           {
            "bin_start": 28850950.5,
            "bin_end": 30171793,
            "count": 1
           }
          ]
         }
        },
        {
         "name": "DOMINIO_G",
         "dtype": "int64",
         "stats": {
          "unique_count": 5,
          "nan_count": 0,
          "min": "571",
          "max": "999",
          "histogram": [
           {
            "bin_start": 571,
            "bin_end": 613.8,
            "count": 1
           },
           {
            "bin_start": 613.8,
            "bin_end": 656.6,
            "count": 0
           },
           {
            "bin_start": 656.6,
            "bin_end": 699.4,
            "count": 0
           },
           {
            "bin_start": 699.4,
            "bin_end": 742.2,
            "count": 1
           },
           {
            "bin_start": 742.2,
            "bin_end": 785,
            "count": 0
           },
           {
            "bin_start": 785,
            "bin_end": 827.8,
            "count": 0
           },
           {
            "bin_start": 827.8,
            "bin_end": 870.5999999999999,
            "count": 1
           },
           {
            "bin_start": 870.5999999999999,
            "bin_end": 913.4,
            "count": 0
           },
           {
            "bin_start": 913.4,
            "bin_end": 956.2,
            "count": 0
           },
           {
            "bin_start": 956.2,
            "bin_end": 999,
            "count": 2
           }
          ]
         }
        },
        {
         "name": "ID_SEXO",
         "dtype": "int64",
         "stats": {
          "unique_count": 5,
          "nan_count": 0,
          "min": "203",
          "max": "333",
          "histogram": [
           {
            "bin_start": 203,
            "bin_end": 216,
            "count": 2
           },
           {
            "bin_start": 216,
            "bin_end": 229,
            "count": 0
           },
           {
            "bin_start": 229,
            "bin_end": 242,
            "count": 1
           },
           {
            "bin_start": 242,
            "bin_end": 255,
            "count": 0
           },
           {
            "bin_start": 255,
            "bin_end": 268,
            "count": 1
           },
           {
            "bin_start": 268,
            "bin_end": 281,
            "count": 0
           },
           {
            "bin_start": 281,
            "bin_end": 294,
            "count": 0
           },
           {
            "bin_start": 294,
            "bin_end": 307,
            "count": 0
           },
           {
            "bin_start": 307,
            "bin_end": 320,
            "count": 0
           },
           {
            "bin_start": 320,
            "bin_end": 333,
            "count": 1
           }
          ]
         }
        },
        {
         "name": "EDAD",
         "dtype": "int64",
         "stats": {
          "unique_count": 5,
          "nan_count": 0,
          "min": "3083",
          "max": "6309",
          "histogram": [
           {
            "bin_start": 3083,
            "bin_end": 3405.6,
            "count": 1
           },
           {
            "bin_start": 3405.6,
            "bin_end": 3728.2,
            "count": 0
           },
           {
            "bin_start": 3728.2,
            "bin_end": 4050.8,
            "count": 0
           },
           {
            "bin_start": 4050.8,
            "bin_end": 4373.4,
            "count": 0
           },
           {
            "bin_start": 4373.4,
            "bin_end": 4696,
            "count": 1
           },
           {
            "bin_start": 4696,
            "bin_end": 5018.6,
            "count": 0
           },
           {
            "bin_start": 5018.6,
            "bin_end": 5341.200000000001,
            "count": 1
           },
           {
            "bin_start": 5341.200000000001,
            "bin_end": 5663.8,
            "count": 0
           },
           {
            "bin_start": 5663.8,
            "bin_end": 5986.4,
            "count": 1
           },
           {
            "bin_start": 5986.4,
            "bin_end": 6309,
            "count": 1
           }
          ]
         }
        },
        {
         "name": "ID_ESTADO_CIVIL",
         "dtype": "int64",
         "stats": {
          "unique_count": 5,
          "nan_count": 0,
          "min": "614",
          "max": "1068",
          "histogram": [
           {
            "bin_start": 614,
            "bin_end": 659.4,
            "count": 2
           },
           {
            "bin_start": 659.4,
            "bin_end": 704.8,
            "count": 0
           },
           {
            "bin_start": 704.8,
            "bin_end": 750.2,
            "count": 0
           },
           {
            "bin_start": 750.2,
            "bin_end": 795.6,
            "count": 1
           },
           {
            "bin_start": 795.6,
            "bin_end": 841,
            "count": 0
           },
           {
            "bin_start": 841,
            "bin_end": 886.4,
            "count": 0
           },
           {
            "bin_start": 886.4,
            "bin_end": 931.8,
            "count": 0
           },
           {
            "bin_start": 931.8,
            "bin_end": 977.2,
            "count": 0
           },
           {
            "bin_start": 977.2,
            "bin_end": 1022.5999999999999,
            "count": 0
           },
           {
            "bin_start": 1022.5999999999999,
            "bin_end": 1068,
            "count": 2
           }
          ]
         }
        },
        {
         "name": "COD_IDIOMA",
         "dtype": "int64",
         "stats": {
          "unique_count": 5,
          "nan_count": 0,
          "min": "456",
          "max": "847",
          "histogram": [
           {
            "bin_start": 456,
            "bin_end": 495.1,
            "count": 1
           },
           {
            "bin_start": 495.1,
            "bin_end": 534.2,
            "count": 0
           },
           {
            "bin_start": 534.2,
            "bin_end": 573.3,
            "count": 1
           },
           {
            "bin_start": 573.3,
            "bin_end": 612.4,
            "count": 0
           },
           {
            "bin_start": 612.4,
            "bin_end": 651.5,
            "count": 0
           },
           {
            "bin_start": 651.5,
            "bin_end": 690.6,
            "count": 1
           },
           {
            "bin_start": 690.6,
            "bin_end": 729.7,
            "count": 0
           },
           {
            "bin_start": 729.7,
            "bin_end": 768.8,
            "count": 0
           },
           {
            "bin_start": 768.8,
            "bin_end": 807.9000000000001,
            "count": 1
           },
           {
            "bin_start": 807.9000000000001,
            "bin_end": 847,
            "count": 1
           }
          ]
         }
        },
        {
         "name": "COD_GRADO_ESTUDIOS",
         "dtype": "int64",
         "stats": {
          "unique_count": 5,
          "nan_count": 0,
          "min": "1080",
          "max": "1944",
          "histogram": [
           {
            "bin_start": 1080,
            "bin_end": 1166.4,
            "count": 1
           },
           {
            "bin_start": 1166.4,
            "bin_end": 1252.8,
            "count": 1
           },
           {
            "bin_start": 1252.8,
            "bin_end": 1339.2,
            "count": 0
           },
           {
            "bin_start": 1339.2,
            "bin_end": 1425.6,
            "count": 0
           },
           {
            "bin_start": 1425.6,
            "bin_end": 1512,
            "count": 0
           },
           {
            "bin_start": 1512,
            "bin_end": 1598.4,
            "count": 1
           },
           {
            "bin_start": 1598.4,
            "bin_end": 1684.8000000000002,
            "count": 0
           },
           {
            "bin_start": 1684.8000000000002,
            "bin_end": 1771.2,
            "count": 0
           },
           {
            "bin_start": 1771.2,
            "bin_end": 1857.6,
            "count": 1
           },
           {
            "bin_start": 1857.6,
            "bin_end": 1944,
            "count": 1
           }
          ]
         }
        },
        {
         "name": "COD_CARRERA_UNI",
         "dtype": "int64",
         "stats": {
          "unique_count": 5,
          "nan_count": 0,
          "min": "37561920",
          "max": "108858280",
          "histogram": [
           {
            "bin_start": 37561920,
            "bin_end": 44691556,
            "count": 1
           },
           {
            "bin_start": 44691556,
            "bin_end": 51821192,
            "count": 1
           },
           {
            "bin_start": 51821192,
            "bin_end": 58950828,
            "count": 0
           },
           {
            "bin_start": 58950828,
            "bin_end": 66080464,
            "count": 1
           },
           {
            "bin_start": 66080464,
            "bin_end": 73210100,
            "count": 0
           },
           {
            "bin_start": 73210100,
            "bin_end": 80339736,
            "count": 1
           },
           {
            "bin_start": 80339736,
            "bin_end": 87469372,
            "count": 0
           },
           {
            "bin_start": 87469372,
            "bin_end": 94599008,
            "count": 0
           },
           {
            "bin_start": 94599008,
            "bin_end": 101728644,
            "count": 0
           },
           {
            "bin_start": 101728644,
            "bin_end": 108858280,
            "count": 1
           }
          ]
         }
        },
        {
         "name": "COD_CENTRO_ESTUDIOS",
         "dtype": "int64",
         "stats": {
          "unique_count": 5,
          "nan_count": 0,
          "min": "29300005748",
          "max": "54880009824",
          "histogram": [
           {
            "bin_start": 29300005748,
            "bin_end": 31858006155.6,
            "count": 1
           },
           {
            "bin_start": 31858006155.6,
            "bin_end": 34416006563.2,
            "count": 1
           },
           {
            "bin_start": 34416006563.2,
            "bin_end": 36974006970.8,
            "count": 0
           },
           {
            "bin_start": 36974006970.8,
            "bin_end": 39532007378.4,
            "count": 1
           },
           {
            "bin_start": 39532007378.4,
            "bin_end": 42090007786,
            "count": 0
           },
           {
            "bin_start": 42090007786,
            "bin_end": 44648008193.6,
            "count": 0
           },
           {
            "bin_start": 44648008193.6,
            "bin_end": 47206008601.2,
            "count": 0
           },
           {
            "bin_start": 47206008601.2,
            "bin_end": 49764009008.8,
            "count": 0
           },
           {
            "bin_start": 49764009008.8,
            "bin_end": 52322009416.399994,
            "count": 1
           },
           {
            "bin_start": 52322009416.399994,
            "bin_end": 54880009824,
            "count": 1
           }
          ]
         }
        },
        {
         "name": "COD_DEPARTAMENTO",
         "dtype": "int64",
         "stats": {
          "unique_count": 5,
          "nan_count": 0,
          "min": "1557",
          "max": "3101",
          "histogram": [
           {
            "bin_start": 1557,
            "bin_end": 1711.4,
            "count": 1
           },
           {
            "bin_start": 1711.4,
            "bin_end": 1865.8,
            "count": 1
           },
           {
            "bin_start": 1865.8,
            "bin_end": 2020.2,
            "count": 0
           },
           {
            "bin_start": 2020.2,
            "bin_end": 2174.6,
            "count": 0
           },
           {
            "bin_start": 2174.6,
            "bin_end": 2329,
            "count": 0
           },
           {
            "bin_start": 2329,
            "bin_end": 2483.4,
            "count": 1
           },
           {
            "bin_start": 2483.4,
            "bin_end": 2637.8,
            "count": 0
           },
           {
            "bin_start": 2637.8,
            "bin_end": 2792.2,
            "count": 0
           },
           {
            "bin_start": 2792.2,
            "bin_end": 2946.6000000000004,
            "count": 0
           },
           {
            "bin_start": 2946.6000000000004,
            "bin_end": 3101,
            "count": 2
           }
          ]
         }
        },
        {
         "name": "TOTAL",
         "dtype": "int64",
         "stats": {
          "unique_count": 5,
          "nan_count": 0,
          "min": "120",
          "max": "216",
          "histogram": [
           {
            "bin_start": 120,
            "bin_end": 129.6,
            "count": 1
           },
           {
            "bin_start": 129.6,
            "bin_end": 139.2,
            "count": 1
           },
           {
            "bin_start": 139.2,
            "bin_end": 148.8,
            "count": 0
           },
           {
            "bin_start": 148.8,
            "bin_end": 158.4,
            "count": 0
           },
           {
            "bin_start": 158.4,
            "bin_end": 168,
            "count": 0
           },
           {
            "bin_start": 168,
            "bin_end": 177.6,
            "count": 1
           },
           {
            "bin_start": 177.6,
            "bin_end": 187.2,
            "count": 0
           },
           {
            "bin_start": 187.2,
            "bin_end": 196.8,
            "count": 0
           },
           {
            "bin_start": 196.8,
            "bin_end": 206.39999999999998,
            "count": 1
           },
           {
            "bin_start": 206.39999999999998,
            "bin_end": 216,
            "count": 1
           }
          ]
         }
        },
        {
         "name": "_deepnote_index_column",
         "dtype": "int64"
        }
       ],
       "rows": [
        {
         "NOM_CARRERA_UNI": "Derecho",
         "ANIO": 436320,
         "UBIGEO": 30171793,
         "DOMINIO_G": 999,
         "ID_SEXO": 333,
         "EDAD": 6309,
         "ID_ESTADO_CIVIL": 1028,
         "COD_IDIOMA": 847,
         "COD_GRADO_ESTUDIOS": 1944,
         "COD_CARRERA_UNI": 75819456,
         "COD_CENTRO_ESTUDIOS": 54880009824,
         "COD_DEPARTAMENTO": 3101,
         "TOTAL": 216,
         "_deepnote_index_column": 0
        },
        {
         "NOM_CARRERA_UNI": "Ingeniería Civil",
         "ANIO": 414100,
         "UBIGEO": 28273251,
         "DOMINIO_G": 967,
         "ID_SEXO": 239,
         "EDAD": 5176,
         "ID_ESTADO_CIVIL": 1068,
         "COD_IDIOMA": 793,
         "COD_GRADO_ESTUDIOS": 1845,
         "COD_CARRERA_UNI": 108858280,
         "COD_CENTRO_ESTUDIOS": 50120009076,
         "COD_DEPARTAMENTO": 3089,
         "TOTAL": 205,
         "_deepnote_index_column": 1
        },
        {
         "NOM_CARRERA_UNI": "Contabilidad",
         "ANIO": 351480,
         "UBIGEO": 22279531,
         "DOMINIO_G": 845,
         "ID_SEXO": 260,
         "EDAD": 5852,
         "ID_ESTADO_CIVIL": 777,
         "COD_IDIOMA": 654,
         "COD_GRADO_ESTUDIOS": 1566,
         "COD_CARRERA_UNI": 59517744,
         "COD_CENTRO_ESTUDIOS": 39380007396,
         "COD_DEPARTAMENTO": 2457,
         "TOTAL": 174,
         "_deepnote_index_column": 2
        },
        {
         "NOM_CARRERA_UNI": "Administración de Empresas",
         "ANIO": 280780,
         "UBIGEO": 19421716,
         "DOMINIO_G": 713,
         "ID_SEXO": 206,
         "EDAD": 4516,
         "ID_ESTADO_CIVIL": 614,
         "COD_IDIOMA": 538,
         "COD_GRADO_ESTUDIOS": 1251,
         "COD_CARRERA_UNI": 46014004,
         "COD_CENTRO_ESTUDIOS": 32080006170,
         "COD_DEPARTAMENTO": 1750,
         "TOTAL": 139,
         "_deepnote_index_column": 3
        },
        {
         "NOM_CARRERA_UNI": "Psicología",
         "ANIO": 242400,
         "UBIGEO": 16963368,
         "DOMINIO_G": 571,
         "ID_SEXO": 203,
         "EDAD": 3083,
         "ID_ESTADO_CIVIL": 638,
         "COD_IDIOMA": 456,
         "COD_GRADO_ESTUDIOS": 1080,
         "COD_CARRERA_UNI": 37561920,
         "COD_CENTRO_ESTUDIOS": 29300005748,
         "COD_DEPARTAMENTO": 1557,
         "TOTAL": 120,
         "_deepnote_index_column": 4
        }
       ]
      },
      "text/plain": "              NOM_CARRERA_UNI    ANIO    UBIGEO  DOMINIO_G  ID_SEXO  EDAD  \\\n0                     Derecho  436320  30171793        999      333  6309   \n1            Ingeniería Civil  414100  28273251        967      239  5176   \n2                Contabilidad  351480  22279531        845      260  5852   \n3  Administración de Empresas  280780  19421716        713      206  4516   \n4                  Psicología  242400  16963368        571      203  3083   \n\n   ID_ESTADO_CIVIL  COD_IDIOMA  COD_GRADO_ESTUDIOS  COD_CARRERA_UNI  \\\n0             1028         847                1944         75819456   \n1             1068         793                1845        108858280   \n2              777         654                1566         59517744   \n3              614         538                1251         46014004   \n4              638         456                1080         37561920   \n\n   COD_CENTRO_ESTUDIOS  COD_DEPARTAMENTO  TOTAL  \n0          54880009824              3101    216  \n1          50120009076              3089    205  \n2          39380007396              2457    174  \n3          32080006170              1750    139  \n4          29300005748              1557    120  ",
      "text/html": "<div>\n<style scoped>\n    .dataframe tbody tr th:only-of-type {\n        vertical-align: middle;\n    }\n\n    .dataframe tbody tr th {\n        vertical-align: top;\n    }\n\n    .dataframe thead th {\n        text-align: right;\n    }\n</style>\n<table border=\"1\" class=\"dataframe\">\n  <thead>\n    <tr style=\"text-align: right;\">\n      <th></th>\n      <th>NOM_CARRERA_UNI</th>\n      <th>ANIO</th>\n      <th>UBIGEO</th>\n      <th>DOMINIO_G</th>\n      <th>ID_SEXO</th>\n      <th>EDAD</th>\n      <th>ID_ESTADO_CIVIL</th>\n      <th>COD_IDIOMA</th>\n      <th>COD_GRADO_ESTUDIOS</th>\n      <th>COD_CARRERA_UNI</th>\n      <th>COD_CENTRO_ESTUDIOS</th>\n      <th>COD_DEPARTAMENTO</th>\n      <th>TOTAL</th>\n    </tr>\n  </thead>\n  <tbody>\n    <tr>\n      <th>0</th>\n      <td>Derecho</td>\n      <td>436320</td>\n      <td>30171793</td>\n      <td>999</td>\n      <td>333</td>\n      <td>6309</td>\n      <td>1028</td>\n      <td>847</td>\n      <td>1944</td>\n      <td>75819456</td>\n      <td>54880009824</td>\n      <td>3101</td>\n      <td>216</td>\n    </tr>\n    <tr>\n      <th>1</th>\n      <td>Ingeniería Civil</td>\n      <td>414100</td>\n      <td>28273251</td>\n      <td>967</td>\n      <td>239</td>\n      <td>5176</td>\n      <td>1068</td>\n      <td>793</td>\n      <td>1845</td>\n      <td>108858280</td>\n      <td>50120009076</td>\n      <td>3089</td>\n      <td>205</td>\n    </tr>\n    <tr>\n      <th>2</th>\n      <td>Contabilidad</td>\n      <td>351480</td>\n      <td>22279531</td>\n      <td>845</td>\n      <td>260</td>\n      <td>5852</td>\n      <td>777</td>\n      <td>654</td>\n      <td>1566</td>\n      <td>59517744</td>\n      <td>39380007396</td>\n      <td>2457</td>\n      <td>174</td>\n    </tr>\n    <tr>\n      <th>3</th>\n      <td>Administración de Empresas</td>\n      <td>280780</td>\n      <td>19421716</td>\n      <td>713</td>\n      <td>206</td>\n      <td>4516</td>\n      <td>614</td>\n      <td>538</td>\n      <td>1251</td>\n      <td>46014004</td>\n      <td>32080006170</td>\n      <td>1750</td>\n      <td>139</td>\n    </tr>\n    <tr>\n      <th>4</th>\n      <td>Psicología</td>\n      <td>242400</td>\n      <td>16963368</td>\n      <td>571</td>\n      <td>203</td>\n      <td>3083</td>\n      <td>638</td>\n      <td>456</td>\n      <td>1080</td>\n      <td>37561920</td>\n      <td>29300005748</td>\n      <td>1557</td>\n      <td>120</td>\n    </tr>\n  </tbody>\n</table>\n</div>"
     },
     "metadata": {}
    }
   ],
   "execution_count": null
  },
  {
   "cell_type": "code",
   "metadata": {
    "cell_id": "4cd8f3c7f8da4ad58c1f221f34757b79",
    "tags": [],
    "deepnote_to_be_reexecuted": false,
    "source_hash": "c489b62c",
    "execution_start": 1649597112187,
    "execution_millis": 235,
    "deepnote_cell_type": "code",
    "deepnote_cell_height": 621,
    "deepnote_output_heights": [
     452
    ]
   },
   "source": "plt.figure(figsize=(10,7))\nsns.barplot(y = 'NOM_CARRERA_UNI', x = 'TOTAL', data = df_pregrado_top_5_carreras.head())\nplt.title('5 Carreras Profesionales más estudiadas en PREGRADO - 2020')\nplt.ylabel('Carreras Profesionales')\nplt.show()",
   "outputs": [
    {
     "data": {
      "text/plain": "<Figure size 720x504 with 1 Axes>",
      "image/png": "[encoded data removed]"
     },
     "metadata": {
      "needs_background": "light",
      "image/png": {
       "width": 760,
       "height": 450
      }
     },
     "output_type": "display_data"
    }
   ],
   "execution_count": null
  },
  {
   "cell_type": "markdown",
   "source": "## Obtenemos información relevante para guardar en un solo Dataset",
   "metadata": {
    "cell_id": "f43467618a0a4498903a18d0a1e7617d",
    "tags": [],
    "deepnote_cell_type": "markdown",
    "deepnote_cell_height": 110
   },
   "outputs": [],
   "execution_count": null
  },
  {
   "cell_type": "markdown",
   "source": "- df_grado_total",
   "metadata": {
    "cell_id": "519dfcaae1ab47a2974056b4d02edaa9",
    "tags": [],
    "deepnote_cell_type": "markdown",
    "deepnote_cell_height": 69.390625
   }
  },
  {
   "cell_type": "code",
   "source": "df_grado_total",
   "metadata": {
    "cell_id": "80a27720e3f6422c9d012b2910cc2017",
    "tags": [],
    "deepnote_to_be_reexecuted": false,
    "source_hash": "79ad8c69",
    "execution_start": 1649597840794,
    "execution_millis": 5,
    "deepnote_cell_type": "code",
    "deepnote_cell_height": 354
   },
   "outputs": [
    {
     "output_type": "execute_result",
     "execution_count": 77,
     "data": {
      "application/vnd.deepnote.dataframe.v3+json": {
       "column_count": 1,
       "row_count": 4,
       "columns": [
        {
         "name": "TOTAL",
         "dtype": "int64",
         "stats": {
          "unique_count": 4,
          "nan_count": 0,
          "min": "130",
          "max": "6930",
          "histogram": [
           {
            "bin_start": 130,
            "bin_end": 810,
            "count": 1
           },
           {
            "bin_start": 810,
            "bin_end": 1490,
            "count": 1
           },
           {
            "bin_start": 1490,
            "bin_end": 2170,
            "count": 0
           },
           {
            "bin_start": 2170,
            "bin_end": 2850,
            "count": 0
           },
           {
            "bin_start": 2850,
            "bin_end": 3530,
            "count": 0
           },
           {
            "bin_start": 3530,
            "bin_end": 4210,
            "count": 0
           },
           {
            "bin_start": 4210,
            "bin_end": 4890,
            "count": 0
           },
           {
            "bin_start": 4890,
            "bin_end": 5570,
            "count": 0
           },
           {
            "bin_start": 5570,
            "bin_end": 6250,
            "count": 1
           },
           {
            "bin_start": 6250,
            "bin_end": 6930,
            "count": 1
           }
          ]
         }
        },
        {
         "name": "_deepnote_index_column",
         "dtype": "object"
        }
       ],
       "rows": [
        {
         "TOTAL": 130,
         "_deepnote_index_column": "Básica especial"
        },
        {
         "TOTAL": 1219,
         "_deepnote_index_column": "Maestria/doctorado"
        },
        {
         "TOTAL": 6930,
         "_deepnote_index_column": "Superior Universitaria Completa"
        },
        {
         "TOTAL": 5779,
         "_deepnote_index_column": "Superior Universitaria Incompleta"
        }
       ]
      },
      "text/plain": "                                   TOTAL\nNOM_GRADO_ESTUDIOS                      \nBásica especial                      130\nMaestria/doctorado                  1219\nSuperior Universitaria Completa     6930\nSuperior Universitaria Incompleta   5779",
      "text/html": "<div>\n<style scoped>\n    .dataframe tbody tr th:only-of-type {\n        vertical-align: middle;\n    }\n\n    .dataframe tbody tr th {\n        vertical-align: top;\n    }\n\n    .dataframe thead th {\n        text-align: right;\n    }\n</style>\n<table border=\"1\" class=\"dataframe\">\n  <thead>\n    <tr style=\"text-align: right;\">\n      <th></th>\n      <th>TOTAL</th>\n    </tr>\n    <tr>\n      <th>NOM_GRADO_ESTUDIOS</th>\n      <th></th>\n    </tr>\n  </thead>\n  <tbody>\n    <tr>\n      <th>Básica especial</th>\n      <td>130</td>\n    </tr>\n    <tr>\n      <th>Maestria/doctorado</th>\n      <td>1219</td>\n    </tr>\n    <tr>\n      <th>Superior Universitaria Completa</th>\n      <td>6930</td>\n    </tr>\n    <tr>\n      <th>Superior Universitaria Incompleta</th>\n      <td>5779</td>\n    </tr>\n  </tbody>\n</table>\n</div>"
     },
     "metadata": {}
    }
   ],
   "execution_count": null
  },
  {
   "cell_type": "code",
   "source": "data_psicologia",
   "metadata": {
    "cell_id": "ab9fed27065e45d7b761d4c96e1ccf6b",
    "tags": [],
    "deepnote_to_be_reexecuted": false,
    "source_hash": "2d3f77b7",
    "execution_start": 1649597231437,
    "execution_millis": 50,
    "deepnote_cell_type": "code",
    "deepnote_cell_height": 613.59375
   },
   "outputs": [
    {
     "output_type": "execute_result",
     "execution_count": 63,
     "data": {
      "application/vnd.deepnote.dataframe.v3+json": {
       "column_count": 20,
       "row_count": 120,
       "columns": [
        {
         "name": "ANIO",
         "dtype": "int64",
         "stats": {
          "unique_count": 1,
          "nan_count": 0,
          "min": "2020",
          "max": "2020",
          "histogram": [
           {
            "bin_start": 2019.5,
            "bin_end": 2019.6,
            "count": 0
           },
           {
            "bin_start": 2019.6,
            "bin_end": 2019.7,
            "count": 0
           },
           {
            "bin_start": 2019.7,
            "bin_end": 2019.8,
            "count": 0
           },
           {
            "bin_start": 2019.8,
            "bin_end": 2019.9,
            "count": 0
           },
           {
            "bin_start": 2019.9,
            "bin_end": 2020,
            "count": 0
           },
           {
            "bin_start": 2020,
            "bin_end": 2020.1,
            "count": 120
           },
           {
            "bin_start": 2020.1,
            "bin_end": 2020.2,
            "count": 0
           },
           {
            "bin_start": 2020.2,
            "bin_end": 2020.3,
            "count": 0
           },
           {
            "bin_start": 2020.3,
            "bin_end": 2020.4,
            "count": 0
           },
           {
            "bin_start": 2020.4,
            "bin_end": 2020.5,
            "count": 0
           }
          ]
         }
        },
        {
         "name": "UBIGEO",
         "dtype": "int64",
         "stats": {
          "unique_count": 88,
          "nan_count": 0,
          "min": "10202",
          "max": "250105",
          "histogram": [
           {
            "bin_start": 10202,
            "bin_end": 34192.3,
            "count": 8
           },
           {
            "bin_start": 34192.3,
            "bin_end": 58182.6,
            "count": 7
           },
           {
            "bin_start": 58182.6,
            "bin_end": 82172.9,
            "count": 12
           },
           {
            "bin_start": 82172.9,
            "bin_end": 106163.2,
            "count": 3
           },
           {
            "bin_start": 106163.2,
            "bin_end": 130153.5,
            "count": 14
           },
           {
            "bin_start": 130153.5,
            "bin_end": 154143.8,
            "count": 36
           },
           {
            "bin_start": 154143.8,
            "bin_end": 178134.1,
            "count": 3
           },
           {
            "bin_start": 178134.1,
            "bin_end": 202124.4,
            "count": 17
           },
           {
            "bin_start": 202124.4,
            "bin_end": 226114.69999999998,
            "count": 6
           },
           {
            "bin_start": 226114.69999999998,
            "bin_end": 250105,
            "count": 14
           }
          ]
         }
        },
        {
         "name": "DOMINIO_G",
         "dtype": "int64",
         "stats": {
          "unique_count": 8,
          "nan_count": 0,
          "min": "1",
          "max": "8",
          "histogram": [
           {
            "bin_start": 1,
            "bin_end": 1.7,
            "count": 19
           },
           {
            "bin_start": 1.7,
            "bin_end": 2.4,
            "count": 12
           },
           {
            "bin_start": 2.4,
            "bin_end": 3.0999999999999996,
            "count": 15
           },
           {
            "bin_start": 3.0999999999999996,
            "bin_end": 3.8,
            "count": 0
           },
           {
            "bin_start": 3.8,
            "bin_end": 4.5,
            "count": 6
           },
           {
            "bin_start": 4.5,
            "bin_end": 5.199999999999999,
            "count": 15
           },
           {
            "bin_start": 5.199999999999999,
            "bin_end": 5.8999999999999995,
            "count": 0
           },
           {
            "bin_start": 5.8999999999999995,
            "bin_end": 6.6,
            "count": 12
           },
           {
            "bin_start": 6.6,
            "bin_end": 7.3,
            "count": 16
           },
           {
            "bin_start": 7.3,
            "bin_end": 8,
            "count": 25
           }
          ]
         }
        },
        {
         "name": "ID_SEXO",
         "dtype": "int64",
         "stats": {
          "unique_count": 2,
          "nan_count": 0,
          "min": "1",
          "max": "2",
          "histogram": [
           {
            "bin_start": 1,
            "bin_end": 1.1,
            "count": 37
           },
           {
            "bin_start": 1.1,
            "bin_end": 1.2,
            "count": 0
           },
           {
            "bin_start": 1.2,
            "bin_end": 1.3,
            "count": 0
           },
           {
            "bin_start": 1.3,
            "bin_end": 1.4,
            "count": 0
           },
           {
            "bin_start": 1.4,
            "bin_end": 1.5,
            "count": 0
           },
           {
            "bin_start": 1.5,
            "bin_end": 1.6,
            "count": 0
           },
           {
            "bin_start": 1.6,
            "bin_end": 1.7000000000000002,
            "count": 0
           },
           {
            "bin_start": 1.7000000000000002,
            "bin_end": 1.8,
            "count": 0
           },
           {
            "bin_start": 1.8,
            "bin_end": 1.9,
            "count": 0
           },
           {
            "bin_start": 1.9,
            "bin_end": 2,
            "count": 83
           }
          ]
         }
        },
        {
         "name": "EDAD",
         "dtype": "int64",
         "stats": {
          "unique_count": 29,
          "nan_count": 0,
          "min": "17",
          "max": "76",
          "histogram": [
           {
            "bin_start": 17,
            "bin_end": 22.9,
            "count": 63
           },
           {
            "bin_start": 22.9,
            "bin_end": 28.8,
            "count": 36
           },
           {
            "bin_start": 28.8,
            "bin_end": 34.7,
            "count": 7
           },
           {
            "bin_start": 34.7,
            "bin_end": 40.6,
            "count": 4
           },
           {
            "bin_start": 40.6,
            "bin_end": 46.5,
            "count": 2
           },
           {
            "bin_start": 46.5,
            "bin_end": 52.400000000000006,
            "count": 2
           },
           {
            "bin_start": 52.400000000000006,
            "bin_end": 58.300000000000004,
            "count": 1
           },
           {
            "bin_start": 58.300000000000004,
            "bin_end": 64.2,
            "count": 3
           },
           {
            "bin_start": 64.2,
            "bin_end": 70.1,
            "count": 1
           },
           {
            "bin_start": 70.1,
            "bin_end": 76,
            "count": 1
           }
          ]
         }
        },
        {
         "name": "ID_ESTADO_CIVIL",
         "dtype": "int64",
         "stats": {
          "unique_count": 5,
          "nan_count": 0,
          "min": "1",
          "max": "6",
          "histogram": [
           {
            "bin_start": 1,
            "bin_end": 1.5,
            "count": 9
           },
           {
            "bin_start": 1.5,
            "bin_end": 2,
            "count": 0
           },
           {
            "bin_start": 2,
            "bin_end": 2.5,
            "count": 7
           },
           {
            "bin_start": 2.5,
            "bin_end": 3,
            "count": 0
           },
           {
            "bin_start": 3,
            "bin_end": 3.5,
            "count": 0
           },
           {
            "bin_start": 3.5,
            "bin_end": 4,
            "count": 0
           },
           {
            "bin_start": 4,
            "bin_end": 4.5,
            "count": 1
           },
           {
            "bin_start": 4.5,
            "bin_end": 5,
            "count": 0
           },
           {
            "bin_start": 5,
            "bin_end": 5.5,
            "count": 7
           },
           {
            "bin_start": 5.5,
            "bin_end": 6,
            "count": 96
           }
          ]
         }
        },
        {
         "name": "COD_IDIOMA",
         "dtype": "int64",
         "stats": {
          "unique_count": 2,
          "nan_count": 0,
          "min": "1",
          "max": "4",
          "histogram": [
           {
            "bin_start": 1,
            "bin_end": 1.3,
            "count": 8
           },
           {
            "bin_start": 1.3,
            "bin_end": 1.6,
            "count": 0
           },
           {
            "bin_start": 1.6,
            "bin_end": 1.9,
            "count": 0
           },
           {
            "bin_start": 1.9,
            "bin_end": 2.2,
            "count": 0
           },
           {
            "bin_start": 2.2,
            "bin_end": 2.5,
            "count": 0
           },
           {
            "bin_start": 2.5,
            "bin_end": 2.8,
            "count": 0
           },
           {
            "bin_start": 2.8,
            "bin_end": 3.1,
            "count": 0
           },
           {
            "bin_start": 3.1,
            "bin_end": 3.4,
            "count": 0
           },
           {
            "bin_start": 3.4,
            "bin_end": 3.6999999999999997,
            "count": 0
           },
           {
            "bin_start": 3.6999999999999997,
            "bin_end": 4,
            "count": 112
           }
          ]
         }
        },
        {
         "name": "COD_GRADO_ESTUDIOS",
         "dtype": "int64",
         "stats": {
          "unique_count": 1,
          "nan_count": 0,
          "min": "9",
          "max": "9",
          "histogram": [
           {
            "bin_start": 8.5,
            "bin_end": 8.6,
            "count": 0
           },
           {
            "bin_start": 8.6,
            "bin_end": 8.7,
            "count": 0
           },
           {
            "bin_start": 8.7,
            "bin_end": 8.8,
            "count": 0
           },
           {
            "bin_start": 8.8,
            "bin_end": 8.9,
            "count": 0
           },
           {
            "bin_start": 8.9,
            "bin_end": 9,
            "count": 0
           },
           {
            "bin_start": 9,
            "bin_end": 9.1,
            "count": 120
           },
           {
            "bin_start": 9.1,
            "bin_end": 9.2,
            "count": 0
           },
           {
            "bin_start": 9.2,
            "bin_end": 9.3,
            "count": 0
           },
           {
            "bin_start": 9.3,
            "bin_end": 9.4,
            "count": 0
           },
           {
            "bin_start": 9.4,
            "bin_end": 9.5,
            "count": 0
           }
          ]
         }
        },
        {
         "name": "COD_CARRERA_UNI",
         "dtype": "int64",
         "stats": {
          "unique_count": 1,
          "nan_count": 0,
          "min": "313016",
          "max": "313016",
          "histogram": [
           {
            "bin_start": 313015.5,
            "bin_end": 313015.6,
            "count": 0
           },
           {
            "bin_start": 313015.6,
            "bin_end": 313015.7,
            "count": 0
           },
           {
            "bin_start": 313015.7,
            "bin_end": 313015.8,
            "count": 0
           },
           {
            "bin_start": 313015.8,
            "bin_end": 313015.9,
            "count": 0
           },
           {
            "bin_start": 313015.9,
            "bin_end": 313016,
            "count": 0
           },
           {
            "bin_start": 313016,
            "bin_end": 313016.1,
            "count": 120
           },
           {
            "bin_start": 313016.1,
            "bin_end": 313016.2,
            "count": 0
           },
           {
            "bin_start": 313016.2,
            "bin_end": 313016.3,
            "count": 0
           },
           {
            "bin_start": 313016.3,
            "bin_end": 313016.4,
            "count": 0
           },
           {
            "bin_start": 313016.4,
            "bin_end": 313016.5,
            "count": 0
           }
          ]
         }
        },
        {
         "name": "COD_CENTRO_ESTUDIOS",
         "dtype": "int64",
         "stats": {
          "unique_count": 42,
          "nan_count": 0,
          "min": "160000001",
          "max": "260000099",
          "histogram": [
           {
            "bin_start": 160000001,
            "bin_end": 170000010.8,
            "count": 19
           },
           {
            "bin_start": 170000010.8,
            "bin_end": 180000020.6,
            "count": 0
           },
           {
            "bin_start": 180000020.6,
            "bin_end": 190000030.4,
            "count": 0
           },
           {
            "bin_start": 190000030.4,
            "bin_end": 200000040.2,
            "count": 0
           },
           {
            "bin_start": 200000040.2,
            "bin_end": 210000050,
            "count": 0
           },
           {
            "bin_start": 210000050,
            "bin_end": 220000059.8,
            "count": 0
           },
           {
            "bin_start": 220000059.8,
            "bin_end": 230000069.60000002,
            "count": 0
           },
           {
            "bin_start": 230000069.60000002,
            "bin_end": 240000079.4,
            "count": 0
           },
           {
            "bin_start": 240000079.4,
            "bin_end": 250000089.2,
            "count": 0
           },
           {
            "bin_start": 250000089.2,
            "bin_end": 260000099,
            "count": 101
           }
          ]
         }
        },
        {
         "name": "COD_DEPARTAMENTO",
         "dtype": "int64",
         "stats": {
          "unique_count": 16,
          "nan_count": 0,
          "min": "1",
          "max": "25",
          "histogram": [
           {
            "bin_start": 1,
            "bin_end": 3.4,
            "count": 14
           },
           {
            "bin_start": 3.4,
            "bin_end": 5.8,
            "count": 4
           },
           {
            "bin_start": 5.8,
            "bin_end": 8.2,
            "count": 6
           },
           {
            "bin_start": 8.2,
            "bin_end": 10.6,
            "count": 3
           },
           {
            "bin_start": 10.6,
            "bin_end": 13,
            "count": 6
           },
           {
            "bin_start": 13,
            "bin_end": 15.399999999999999,
            "count": 70
           },
           {
            "bin_start": 15.399999999999999,
            "bin_end": 17.8,
            "count": 0
           },
           {
            "bin_start": 17.8,
            "bin_end": 20.2,
            "count": 6
           },
           {
            "bin_start": 20.2,
            "bin_end": 22.599999999999998,
            "count": 1
           },
           {
            "bin_start": 22.599999999999998,
            "bin_end": 25,
            "count": 10
           }
          ]
         }
        },
        {
         "name": "NOM_DOMINIO_G",
         "dtype": "object",
         "stats": {
          "unique_count": 8,
          "nan_count": 0,
          "categories": [
           {
            "name": "Lima Metropolitana",
            "count": 25
           },
           {
            "name": "Costa Norte",
            "count": 19
           },
           {
            "name": "6 others",
            "count": 76
           }
          ]
         }
        },
        {
         "name": "NOM_ESTADO_CIVIL",
         "dtype": "object",
         "stats": {
          "unique_count": 5,
          "nan_count": 0,
          "categories": [
           {
            "name": "Soltero",
            "count": 96
           },
           {
            "name": "Conviviente",
            "count": 9
           },
           {
            "name": "3 others",
            "count": 15
           }
          ]
         }
        },
        {
         "name": "NOM_IDIOMA",
         "dtype": "object",
         "stats": {
          "unique_count": 2,
          "nan_count": 0,
          "categories": [
           {
            "name": "Castellano",
            "count": 112
           },
           {
            "name": "Quechua",
            "count": 8
           }
          ]
         }
        },
        {
         "name": "NOM_GRADO_ESTUDIOS",
         "dtype": "object",
         "stats": {
          "unique_count": 1,
          "nan_count": 0,
          "categories": [
           {
            "name": "Superior Universitaria Incompleta",
            "count": 120
           }
          ]
         }
        },
        {
         "name": "NOM_CARRERA_UNI",
         "dtype": "object",
         "stats": {
          "unique_count": 1,
          "nan_count": 0,
          "categories": [
           {
            "name": "Psicología",
            "count": 120
           }
          ]
         }
        },
        {
         "name": "NOM_CENTRO_ESTUDIOS",
         "dtype": "object",
         "stats": {
          "unique_count": 42,
          "nan_count": 0,
          "categories": [
           {
            "name": "Universidad Particular César Vallejo",
            "count": 16
           },
           {
            "name": "Universidad Alas Peruanas",
            "count": 9
           },
           {
            "name": "40 others",
            "count": 95
           }
          ]
         }
        },
        {
         "name": "NOM_DEPARTAMENTO",
         "dtype": "object",
         "stats": {
          "unique_count": 16,
          "nan_count": 0,
          "categories": [
           {
            "name": "Lima",
            "count": 44
           },
           {
            "name": "La Libertad",
            "count": 23
           },
           {
            "name": "14 others",
            "count": 53
           }
          ]
         }
        },
        {
         "name": "SEXO",
         "dtype": "object",
         "stats": {
          "unique_count": 2,
          "nan_count": 0,
          "categories": [
           {
            "name": "Mujer",
            "count": 83
           },
           {
            "name": "Hombre",
            "count": 37
           }
          ]
         }
        },
        {
         "name": "TOTAL",
         "dtype": "int64",
         "stats": {
          "unique_count": 1,
          "nan_count": 0,
          "min": "1",
          "max": "1",
          "histogram": [
           {
            "bin_start": 0.5,
            "bin_end": 0.6,
            "count": 0
           },
           {
            "bin_start": 0.6,
            "bin_end": 0.7,
            "count": 0
           },
           {
            "bin_start": 0.7,
            "bin_end": 0.8,
            "count": 0
           },
           {
            "bin_start": 0.8,
            "bin_end": 0.9,
            "count": 0
           },
           {
            "bin_start": 0.9,
            "bin_end": 1,
            "count": 0
           },
           {
            "bin_start": 1,
            "bin_end": 1.1,
            "count": 120
           },
           {
            "bin_start": 1.1,
            "bin_end": 1.2000000000000002,
            "count": 0
           },
           {
            "bin_start": 1.2000000000000002,
            "bin_end": 1.3,
            "count": 0
           },
           {
            "bin_start": 1.3,
            "bin_end": 1.4,
            "count": 0
           },
           {
            "bin_start": 1.4,
            "bin_end": 1.5,
            "count": 0
           }
          ]
         }
        },
        {
         "name": "_deepnote_index_column",
         "dtype": "int64"
        }
       ],
       "rows": [
        {
         "ANIO": 2020,
         "UBIGEO": 10306,
         "DOMINIO_G": 4,
         "ID_SEXO": 2,
         "EDAD": 22,
         "ID_ESTADO_CIVIL": 6,
         "COD_IDIOMA": 4,
         "COD_GRADO_ESTUDIOS": 9,
         "COD_CARRERA_UNI": 313016,
         "COD_CENTRO_ESTUDIOS": 160000076,
         "COD_DEPARTAMENTO": 1,
         "NOM_DOMINIO_G": "Sierra Norte",
         "NOM_ESTADO_CIVIL": "Soltero",
         "NOM_IDIOMA": "Castellano",
         "NOM_GRADO_ESTUDIOS": "Superior Universitaria Incompleta",
         "NOM_CARRERA_UNI": "Psicología",
         "NOM_CENTRO_ESTUDIOS": "Universidad Nacional Toribio Rodríguez de Mendoza de Amazonas",
         "NOM_DEPARTAMENTO": "Amazonas",
         "SEXO": "Mujer",
         "TOTAL": 1,
         "_deepnote_index_column": 13
        },
        {
         "ANIO": 2020,
         "UBIGEO": 22008,
         "DOMINIO_G": 5,
         "ID_SEXO": 2,
         "EDAD": 20,
         "ID_ESTADO_CIVIL": 6,
         "COD_IDIOMA": 4,
         "COD_GRADO_ESTUDIOS": 9,
         "COD_CARRERA_UNI": 313016,
         "COD_CENTRO_ESTUDIOS": 260000053,
         "COD_DEPARTAMENTO": 2,
         "NOM_DOMINIO_G": "Sierra Centro",
         "NOM_ESTADO_CIVIL": "Soltero",
         "NOM_IDIOMA": "Castellano",
         "NOM_GRADO_ESTUDIOS": "Superior Universitaria Incompleta",
         "NOM_CARRERA_UNI": "Psicología",
         "NOM_CENTRO_ESTUDIOS": "Universidad Católica Los Ángeles de Chimbote",
         "NOM_DEPARTAMENTO": "Ancash",
         "SEXO": "Mujer",
         "TOTAL": 1,
         "_deepnote_index_column": 40
        },
        {
         "ANIO": 2020,
         "UBIGEO": 40110,
         "DOMINIO_G": 6,
         "ID_SEXO": 2,
         "EDAD": 19,
         "ID_ESTADO_CIVIL": 6,
         "COD_IDIOMA": 4,
         "COD_GRADO_ESTUDIOS": 9,
         "COD_CARRERA_UNI": 313016,
         "COD_CENTRO_ESTUDIOS": 260000059,
         "COD_DEPARTAMENTO": 15,
         "NOM_DOMINIO_G": "Sierra Sur",
         "NOM_ESTADO_CIVIL": "Soltero",
         "NOM_IDIOMA": "Castellano",
         "NOM_GRADO_ESTUDIOS": "Superior Universitaria Incompleta",
         "NOM_CARRERA_UNI": "Psicología",
         "NOM_CENTRO_ESTUDIOS": "Universidad Alas Peruanas",
         "NOM_DEPARTAMENTO": "Lima",
         "SEXO": "Mujer",
         "TOTAL": 1,
         "_deepnote_index_column": 105
        },
        {
         "ANIO": 2020,
         "UBIGEO": 50103,
         "DOMINIO_G": 5,
         "ID_SEXO": 2,
         "EDAD": 21,
         "ID_ESTADO_CIVIL": 6,
         "COD_IDIOMA": 1,
         "COD_GRADO_ESTUDIOS": 9,
         "COD_CARRERA_UNI": 313016,
         "COD_CENTRO_ESTUDIOS": 260000053,
         "COD_DEPARTAMENTO": 2,
         "NOM_DOMINIO_G": "Sierra Centro",
         "NOM_ESTADO_CIVIL": "Soltero",
         "NOM_IDIOMA": "Quechua",
         "NOM_GRADO_ESTUDIOS": "Superior Universitaria Incompleta",
         "NOM_CARRERA_UNI": "Psicología",
         "NOM_CENTRO_ESTUDIOS": "Universidad Católica Los Ángeles de Chimbote",
         "NOM_DEPARTAMENTO": "Ancash",
         "SEXO": "Mujer",
         "TOTAL": 1,
         "_deepnote_index_column": 168
        },
        {
         "ANIO": 2020,
         "UBIGEO": 80106,
         "DOMINIO_G": 6,
         "ID_SEXO": 2,
         "EDAD": 18,
         "ID_ESTADO_CIVIL": 6,
         "COD_IDIOMA": 4,
         "COD_GRADO_ESTUDIOS": 9,
         "COD_CARRERA_UNI": 313016,
         "COD_CENTRO_ESTUDIOS": 160000003,
         "COD_DEPARTAMENTO": 8,
         "NOM_DOMINIO_G": "Sierra Sur",
         "NOM_ESTADO_CIVIL": "Soltero",
         "NOM_IDIOMA": "Castellano",
         "NOM_GRADO_ESTUDIOS": "Superior Universitaria Incompleta",
         "NOM_CARRERA_UNI": "Psicología",
         "NOM_CENTRO_ESTUDIOS": "Universidad Nacional de San Antonio Abad del Cusco",
         "NOM_DEPARTAMENTO": "Cusco",
         "SEXO": "Mujer",
         "TOTAL": 1,
         "_deepnote_index_column": 253
        },
        {
         "ANIO": 2020,
         "UBIGEO": 80701,
         "DOMINIO_G": 6,
         "ID_SEXO": 2,
         "EDAD": 28,
         "ID_ESTADO_CIVIL": 6,
         "COD_IDIOMA": 4,
         "COD_GRADO_ESTUDIOS": 9,
         "COD_CARRERA_UNI": 313016,
         "COD_CENTRO_ESTUDIOS": 260000059,
         "COD_DEPARTAMENTO": 15,
         "NOM_DOMINIO_G": "Sierra Sur",
         "NOM_ESTADO_CIVIL": "Soltero",
         "NOM_IDIOMA": "Castellano",
         "NOM_GRADO_ESTUDIOS": "Superior Universitaria Incompleta",
         "NOM_CARRERA_UNI": "Psicología",
         "NOM_CENTRO_ESTUDIOS": "Universidad Alas Peruanas",
         "NOM_DEPARTAMENTO": "Lima",
         "SEXO": "Mujer",
         "TOTAL": 1,
         "_deepnote_index_column": 259
        },
        {
         "ANIO": 2020,
         "UBIGEO": 90101,
         "DOMINIO_G": 5,
         "ID_SEXO": 2,
         "EDAD": 25,
         "ID_ESTADO_CIVIL": 6,
         "COD_IDIOMA": 4,
         "COD_GRADO_ESTUDIOS": 9,
         "COD_CARRERA_UNI": 313016,
         "COD_CENTRO_ESTUDIOS": 260000059,
         "COD_DEPARTAMENTO": 15,
         "NOM_DOMINIO_G": "Sierra Centro",
         "NOM_ESTADO_CIVIL": "Soltero",
         "NOM_IDIOMA": "Castellano",
         "NOM_GRADO_ESTUDIOS": "Superior Universitaria Incompleta",
         "NOM_CARRERA_UNI": "Psicología",
         "NOM_CENTRO_ESTUDIOS": "Universidad Alas Peruanas",
         "NOM_DEPARTAMENTO": "Lima",
         "SEXO": "Mujer",
         "TOTAL": 1,
         "_deepnote_index_column": 273
        },
        {
         "ANIO": 2020,
         "UBIGEO": 100207,
         "DOMINIO_G": 5,
         "ID_SEXO": 2,
         "EDAD": 21,
         "ID_ESTADO_CIVIL": 1,
         "COD_IDIOMA": 4,
         "COD_GRADO_ESTUDIOS": 9,
         "COD_CARRERA_UNI": 313016,
         "COD_CENTRO_ESTUDIOS": 160000023,
         "COD_DEPARTAMENTO": 10,
         "NOM_DOMINIO_G": "Sierra Centro",
         "NOM_ESTADO_CIVIL": "Conviviente",
         "NOM_IDIOMA": "Castellano",
         "NOM_GRADO_ESTUDIOS": "Superior Universitaria Incompleta",
         "NOM_CARRERA_UNI": "Psicología",
         "NOM_CENTRO_ESTUDIOS": "Universidad Nacional Hermilio Valdizán",
         "NOM_DEPARTAMENTO": "Huánuco",
         "SEXO": "Mujer",
         "TOTAL": 1,
         "_deepnote_index_column": 310
        },
        {
         "ANIO": 2020,
         "UBIGEO": 110101,
         "DOMINIO_G": 2,
         "ID_SEXO": 1,
         "EDAD": 20,
         "ID_ESTADO_CIVIL": 6,
         "COD_IDIOMA": 4,
         "COD_GRADO_ESTUDIOS": 9,
         "COD_CARRERA_UNI": 313016,
         "COD_CENTRO_ESTUDIOS": 260000064,
         "COD_DEPARTAMENTO": 15,
         "NOM_DOMINIO_G": "Costa Centro",
         "NOM_ESTADO_CIVIL": "Soltero",
         "NOM_IDIOMA": "Castellano",
         "NOM_GRADO_ESTUDIOS": "Superior Universitaria Incompleta",
         "NOM_CARRERA_UNI": "Psicología",
         "NOM_CENTRO_ESTUDIOS": "Asociación Universidad Privada \"San Juan Bautista\"",
         "NOM_DEPARTAMENTO": "Lima",
         "SEXO": "Hombre",
         "TOTAL": 1,
         "_deepnote_index_column": 354
        },
        {
         "ANIO": 2020,
         "UBIGEO": 110101,
         "DOMINIO_G": 2,
         "ID_SEXO": 2,
         "EDAD": 18,
         "ID_ESTADO_CIVIL": 6,
         "COD_IDIOMA": 4,
         "COD_GRADO_ESTUDIOS": 9,
         "COD_CARRERA_UNI": 313016,
         "COD_CENTRO_ESTUDIOS": 260000064,
         "COD_DEPARTAMENTO": 15,
         "NOM_DOMINIO_G": "Costa Centro",
         "NOM_ESTADO_CIVIL": "Soltero",
         "NOM_IDIOMA": "Castellano",
         "NOM_GRADO_ESTUDIOS": "Superior Universitaria Incompleta",
         "NOM_CARRERA_UNI": "Psicología",
         "NOM_CENTRO_ESTUDIOS": "Asociación Universidad Privada \"San Juan Bautista\"",
         "NOM_DEPARTAMENTO": "Lima",
         "SEXO": "Mujer",
         "TOTAL": 1,
         "_deepnote_index_column": 355
        }
       ]
      },
      "text/plain": "       ANIO  UBIGEO  DOMINIO_G  ID_SEXO  EDAD  ID_ESTADO_CIVIL  COD_IDIOMA  \\\n13     2020   10306          4        2    22                6           4   \n40     2020   22008          5        2    20                6           4   \n105    2020   40110          6        2    19                6           4   \n168    2020   50103          5        2    21                6           1   \n253    2020   80106          6        2    18                6           4   \n...     ...     ...        ...      ...   ...              ...         ...   \n13728  2020   60601          4        2    19                6           4   \n13830  2020  130102          1        2    24                5           4   \n13861  2020  150116          8        2    24                6           4   \n13883  2020  150121          8        1    20                6           4   \n13984  2020  180101          3        1    25                6           4   \n\n       COD_GRADO_ESTUDIOS  COD_CARRERA_UNI  COD_CENTRO_ESTUDIOS  \\\n13                      9           313016            160000076   \n40                      9           313016            260000053   \n105                     9           313016            260000059   \n168                     9           313016            260000053   \n253                     9           313016            160000003   \n...                   ...              ...                  ...   \n13728                   9           313016            260000055   \n13830                   9           313016            260000053   \n13861                   9           313016            260000054   \n13883                   9           313016            260000080   \n13984                   9           313016            260000048   \n\n       COD_DEPARTAMENTO       NOM_DOMINIO_G NOM_ESTADO_CIVIL  NOM_IDIOMA  \\\n13                    1        Sierra Norte          Soltero  Castellano   \n40                    2       Sierra Centro          Soltero  Castellano   \n105                  15          Sierra Sur          Soltero  Castellano   \n168                   2       Sierra Centro          Soltero     Quechua   \n253                   8          Sierra Sur          Soltero  Castellano   \n...                 ...                 ...              ...         ...   \n13728                13        Sierra Norte          Soltero  Castellano   \n13830                 2         Costa Norte         Separado  Castellano   \n13861                15  Lima Metropolitana          Soltero  Castellano   \n13883                15  Lima Metropolitana          Soltero  Castellano   \n13984                18           Costa Sur          Soltero  Castellano   \n\n                      NOM_GRADO_ESTUDIOS NOM_CARRERA_UNI  \\\n13     Superior Universitaria Incompleta      Psicología   \n40     Superior Universitaria Incompleta      Psicología   \n105    Superior Universitaria Incompleta      Psicología   \n168    Superior Universitaria Incompleta      Psicología   \n253    Superior Universitaria Incompleta      Psicología   \n...                                  ...             ...   \n13728  Superior Universitaria Incompleta      Psicología   \n13830  Superior Universitaria Incompleta      Psicología   \n13861  Superior Universitaria Incompleta      Psicología   \n13883  Superior Universitaria Incompleta      Psicología   \n13984  Superior Universitaria Incompleta      Psicología   \n\n                                     NOM_CENTRO_ESTUDIOS NOM_DEPARTAMENTO  \\\n13     Universidad Nacional Toribio Rodríguez de Mend...         Amazonas   \n40          Universidad Católica Los Ángeles de Chimbote           Ancash   \n105                            Universidad Alas Peruanas             Lima   \n168         Universidad Católica Los Ángeles de Chimbote           Ancash   \n253    Universidad Nacional de San Antonio Abad del C...            Cusco   \n...                                                  ...              ...   \n13728                   Universidad Particular del Norte      La Libertad   \n13830       Universidad Católica Los Ángeles de Chimbote           Ancash   \n13861          Universidad Peruana de Ciencias Aplicadas             Lima   \n13883                Universidad Antonio Ruíz de Montoya             Lima   \n13984                 Universidad José Carlos Mariátegui         Moquegua   \n\n         SEXO  TOTAL  \n13      Mujer      1  \n40      Mujer      1  \n105     Mujer      1  \n168     Mujer      1  \n253     Mujer      1  \n...       ...    ...  \n13728   Mujer      1  \n13830   Mujer      1  \n13861   Mujer      1  \n13883  Hombre      1  \n13984  Hombre      1  \n\n[120 rows x 20 columns]",
      "text/html": "<div>\n<style scoped>\n    .dataframe tbody tr th:only-of-type {\n        vertical-align: middle;\n    }\n\n    .dataframe tbody tr th {\n        vertical-align: top;\n    }\n\n    .dataframe thead th {\n        text-align: right;\n    }\n</style>\n<table border=\"1\" class=\"dataframe\">\n  <thead>\n    <tr style=\"text-align: right;\">\n      <th></th>\n      <th>ANIO</th>\n      <th>UBIGEO</th>\n      <th>DOMINIO_G</th>\n      <th>ID_SEXO</th>\n      <th>EDAD</th>\n      <th>ID_ESTADO_CIVIL</th>\n      <th>COD_IDIOMA</th>\n      <th>COD_GRADO_ESTUDIOS</th>\n      <th>COD_CARRERA_UNI</th>\n      <th>COD_CENTRO_ESTUDIOS</th>\n      <th>COD_DEPARTAMENTO</th>\n      <th>NOM_DOMINIO_G</th>\n      <th>NOM_ESTADO_CIVIL</th>\n      <th>NOM_IDIOMA</th>\n      <th>NOM_GRADO_ESTUDIOS</th>\n      <th>NOM_CARRERA_UNI</th>\n      <th>NOM_CENTRO_ESTUDIOS</th>\n      <th>NOM_DEPARTAMENTO</th>\n      <th>SEXO</th>\n      <th>TOTAL</th>\n    </tr>\n  </thead>\n  <tbody>\n    <tr>\n      <th>13</th>\n      <td>2020</td>\n      <td>10306</td>\n      <td>4</td>\n      <td>2</td>\n      <td>22</td>\n      <td>6</td>\n      <td>4</td>\n      <td>9</td>\n      <td>313016</td>\n      <td>160000076</td>\n      <td>1</td>\n      <td>Sierra Norte</td>\n      <td>Soltero</td>\n      <td>Castellano</td>\n      <td>Superior Universitaria Incompleta</td>\n      <td>Psicología</td>\n      <td>Universidad Nacional Toribio Rodríguez de Mend...</td>\n      <td>Amazonas</td>\n      <td>Mujer</td>\n      <td>1</td>\n    </tr>\n    <tr>\n      <th>40</th>\n      <td>2020</td>\n      <td>22008</td>\n      <td>5</td>\n      <td>2</td>\n      <td>20</td>\n      <td>6</td>\n      <td>4</td>\n      <td>9</td>\n      <td>313016</td>\n      <td>260000053</td>\n      <td>2</td>\n      <td>Sierra Centro</td>\n      <td>Soltero</td>\n      <td>Castellano</td>\n      <td>Superior Universitaria Incompleta</td>\n      <td>Psicología</td>\n      <td>Universidad Católica Los Ángeles de Chimbote</td>\n      <td>Ancash</td>\n      <td>Mujer</td>\n      <td>1</td>\n    </tr>\n    <tr>\n      <th>105</th>\n      <td>2020</td>\n      <td>40110</td>\n      <td>6</td>\n      <td>2</td>\n      <td>19</td>\n      <td>6</td>\n      <td>4</td>\n      <td>9</td>\n      <td>313016</td>\n      <td>260000059</td>\n      <td>15</td>\n      <td>Sierra Sur</td>\n      <td>Soltero</td>\n      <td>Castellano</td>\n      <td>Superior Universitaria Incompleta</td>\n      <td>Psicología</td>\n      <td>Universidad Alas Peruanas</td>\n      <td>Lima</td>\n      <td>Mujer</td>\n      <td>1</td>\n    </tr>\n    <tr>\n      <th>168</th>\n      <td>2020</td>\n      <td>50103</td>\n      <td>5</td>\n      <td>2</td>\n      <td>21</td>\n      <td>6</td>\n      <td>1</td>\n      <td>9</td>\n      <td>313016</td>\n      <td>260000053</td>\n      <td>2</td>\n      <td>Sierra Centro</td>\n      <td>Soltero</td>\n      <td>Quechua</td>\n      <td>Superior Universitaria Incompleta</td>\n      <td>Psicología</td>\n      <td>Universidad Católica Los Ángeles de Chimbote</td>\n      <td>Ancash</td>\n      <td>Mujer</td>\n      <td>1</td>\n    </tr>\n    <tr>\n      <th>253</th>\n      <td>2020</td>\n      <td>80106</td>\n      <td>6</td>\n      <td>2</td>\n      <td>18</td>\n      <td>6</td>\n      <td>4</td>\n      <td>9</td>\n      <td>313016</td>\n      <td>160000003</td>\n      <td>8</td>\n      <td>Sierra Sur</td>\n      <td>Soltero</td>\n      <td>Castellano</td>\n      <td>Superior Universitaria Incompleta</td>\n      <td>Psicología</td>\n      <td>Universidad Nacional de San Antonio Abad del C...</td>\n      <td>Cusco</td>\n      <td>Mujer</td>\n      <td>1</td>\n    </tr>\n    <tr>\n      <th>...</th>\n      <td>...</td>\n      <td>...</td>\n      <td>...</td>\n      <td>...</td>\n      <td>...</td>\n      <td>...</td>\n      <td>...</td>\n      <td>...</td>\n      <td>...</td>\n      <td>...</td>\n      <td>...</td>\n      <td>...</td>\n      <td>...</td>\n      <td>...</td>\n      <td>...</td>\n      <td>...</td>\n      <td>...</td>\n      <td>...</td>\n      <td>...</td>\n      <td>...</td>\n    </tr>\n    <tr>\n      <th>13728</th>\n      <td>2020</td>\n      <td>60601</td>\n      <td>4</td>\n      <td>2</td>\n      <td>19</td>\n      <td>6</td>\n      <td>4</td>\n      <td>9</td>\n      <td>313016</td>\n      <td>260000055</td>\n      <td>13</td>\n      <td>Sierra Norte</td>\n      <td>Soltero</td>\n      <td>Castellano</td>\n      <td>Superior Universitaria Incompleta</td>\n      <td>Psicología</td>\n      <td>Universidad Particular del Norte</td>\n      <td>La Libertad</td>\n      <td>Mujer</td>\n      <td>1</td>\n    </tr>\n    <tr>\n      <th>13830</th>\n      <td>2020</td>\n      <td>130102</td>\n      <td>1</td>\n      <td>2</td>\n      <td>24</td>\n      <td>5</td>\n      <td>4</td>\n      <td>9</td>\n      <td>313016</td>\n      <td>260000053</td>\n      <td>2</td>\n      <td>Costa Norte</td>\n      <td>Separado</td>\n      <td>Castellano</td>\n      <td>Superior Universitaria Incompleta</td>\n      <td>Psicología</td>\n      <td>Universidad Católica Los Ángeles de Chimbote</td>\n      <td>Ancash</td>\n      <td>Mujer</td>\n      <td>1</td>\n    </tr>\n    <tr>\n      <th>13861</th>\n      <td>2020</td>\n      <td>150116</td>\n      <td>8</td>\n      <td>2</td>\n      <td>24</td>\n      <td>6</td>\n      <td>4</td>\n      <td>9</td>\n      <td>313016</td>\n      <td>260000054</td>\n      <td>15</td>\n      <td>Lima Metropolitana</td>\n      <td>Soltero</td>\n      <td>Castellano</td>\n      <td>Superior Universitaria Incompleta</td>\n      <td>Psicología</td>\n      <td>Universidad Peruana de Ciencias Aplicadas</td>\n      <td>Lima</td>\n      <td>Mujer</td>\n      <td>1</td>\n    </tr>\n    <tr>\n      <th>13883</th>\n      <td>2020</td>\n      <td>150121</td>\n      <td>8</td>\n      <td>1</td>\n      <td>20</td>\n      <td>6</td>\n      <td>4</td>\n      <td>9</td>\n      <td>313016</td>\n      <td>260000080</td>\n      <td>15</td>\n      <td>Lima Metropolitana</td>\n      <td>Soltero</td>\n      <td>Castellano</td>\n      <td>Superior Universitaria Incompleta</td>\n      <td>Psicología</td>\n      <td>Universidad Antonio Ruíz de Montoya</td>\n      <td>Lima</td>\n      <td>Hombre</td>\n      <td>1</td>\n    </tr>\n    <tr>\n      <th>13984</th>\n      <td>2020</td>\n      <td>180101</td>\n      <td>3</td>\n      <td>1</td>\n      <td>25</td>\n      <td>6</td>\n      <td>4</td>\n      <td>9</td>\n      <td>313016</td>\n      <td>260000048</td>\n      <td>18</td>\n      <td>Costa Sur</td>\n      <td>Soltero</td>\n      <td>Castellano</td>\n      <td>Superior Universitaria Incompleta</td>\n      <td>Psicología</td>\n      <td>Universidad José Carlos Mariátegui</td>\n      <td>Moquegua</td>\n      <td>Hombre</td>\n      <td>1</td>\n    </tr>\n  </tbody>\n</table>\n<p>120 rows × 20 columns</p>\n</div>"
     },
     "metadata": {}
    }
   ],
   "execution_count": null
  },
  {
   "cell_type": "code",
   "source": "df_total_regiones",
   "metadata": {
    "cell_id": "fd13556ac2b34ffea0c0edd691d728f7",
    "tags": [],
    "deepnote_to_be_reexecuted": false,
    "source_hash": "c69d41f0",
    "execution_start": 1649597877684,
    "execution_millis": 5,
    "deepnote_cell_type": "code",
    "deepnote_cell_height": 600
   },
   "outputs": [
    {
     "output_type": "execute_result",
     "execution_count": 78,
     "data": {
      "application/vnd.deepnote.dataframe.v3+json": {
       "column_count": 1,
       "row_count": 24,
       "columns": [
        {
         "name": "TOTAL",
         "dtype": "int64",
         "stats": {
          "unique_count": 24,
          "nan_count": 0,
          "min": "34",
          "max": "2220",
          "histogram": [
           {
            "bin_start": 34,
            "bin_end": 252.6,
            "count": 16
           },
           {
            "bin_start": 252.6,
            "bin_end": 471.2,
            "count": 6
           },
           {
            "bin_start": 471.2,
            "bin_end": 689.8,
            "count": 0
           },
           {
            "bin_start": 689.8,
            "bin_end": 908.4,
            "count": 1
           },
           {
            "bin_start": 908.4,
            "bin_end": 1127,
            "count": 0
           },
           {
            "bin_start": 1127,
            "bin_end": 1345.6,
            "count": 0
           },
           {
            "bin_start": 1345.6,
            "bin_end": 1564.2,
            "count": 0
           },
           {
            "bin_start": 1564.2,
            "bin_end": 1782.8,
            "count": 0
           },
           {
            "bin_start": 1782.8,
            "bin_end": 2001.3999999999999,
            "count": 0
           },
           {
            "bin_start": 2001.3999999999999,
            "bin_end": 2220,
            "count": 1
           }
          ]
         }
        },
        {
         "name": "_deepnote_index_column",
         "dtype": "object"
        }
       ],
       "rows": [
        {
         "TOTAL": 2220,
         "_deepnote_index_column": "Lima"
        },
        {
         "TOTAL": 742,
         "_deepnote_index_column": "La Libertad"
        },
        {
         "TOTAL": 449,
         "_deepnote_index_column": "Arequipa"
        },
        {
         "TOTAL": 369,
         "_deepnote_index_column": "Lambayeque"
        },
        {
         "TOTAL": 342,
         "_deepnote_index_column": "Ancash"
        },
        {
         "TOTAL": 313,
         "_deepnote_index_column": "Tacna"
        },
        {
         "TOTAL": 310,
         "_deepnote_index_column": "Junín"
        },
        {
         "TOTAL": 267,
         "_deepnote_index_column": "Ica"
        },
        {
         "TOTAL": 224,
         "_deepnote_index_column": "Loreto"
        },
        {
         "TOTAL": 207,
         "_deepnote_index_column": "Huánuco"
        }
       ]
      },
      "text/plain": "                  TOTAL\nNOM_DEPARTAMENTO       \nLima               2220\nLa Libertad         742\nArequipa            449\nLambayeque          369\nAncash              342\nTacna               313\nJunín               310\nIca                 267\nLoreto              224\nHuánuco             207\nCusco               195\nPasco               175\nPuno                167\nPiura               161\nMoquegua            139\nUcayali              95\nApurímac             90\nAyacucho             89\nCajamarca            88\nTumbes               75\nSan Martín           59\nAmazonas             42\nHuancavelica         37\nMadre de Dios        34",
      "text/html": "<div>\n<style scoped>\n    .dataframe tbody tr th:only-of-type {\n        vertical-align: middle;\n    }\n\n    .dataframe tbody tr th {\n        vertical-align: top;\n    }\n\n    .dataframe thead th {\n        text-align: right;\n    }\n</style>\n<table border=\"1\" class=\"dataframe\">\n  <thead>\n    <tr style=\"text-align: right;\">\n      <th></th>\n      <th>TOTAL</th>\n    </tr>\n    <tr>\n      <th>NOM_DEPARTAMENTO</th>\n      <th></th>\n    </tr>\n  </thead>\n  <tbody>\n    <tr>\n      <th>Lima</th>\n      <td>2220</td>\n    </tr>\n    <tr>\n      <th>La Libertad</th>\n      <td>742</td>\n    </tr>\n    <tr>\n      <th>Arequipa</th>\n      <td>449</td>\n    </tr>\n    <tr>\n      <th>Lambayeque</th>\n      <td>369</td>\n    </tr>\n    <tr>\n      <th>Ancash</th>\n      <td>342</td>\n    </tr>\n    <tr>\n      <th>Tacna</th>\n      <td>313</td>\n    </tr>\n    <tr>\n      <th>Junín</th>\n      <td>310</td>\n    </tr>\n    <tr>\n      <th>Ica</th>\n      <td>267</td>\n    </tr>\n    <tr>\n      <th>Loreto</th>\n      <td>224</td>\n    </tr>\n    <tr>\n      <th>Huánuco</th>\n      <td>207</td>\n    </tr>\n    <tr>\n      <th>Cusco</th>\n      <td>195</td>\n    </tr>\n    <tr>\n      <th>Pasco</th>\n      <td>175</td>\n    </tr>\n    <tr>\n      <th>Puno</th>\n      <td>167</td>\n    </tr>\n    <tr>\n      <th>Piura</th>\n      <td>161</td>\n    </tr>\n    <tr>\n      <th>Moquegua</th>\n      <td>139</td>\n    </tr>\n    <tr>\n      <th>Ucayali</th>\n      <td>95</td>\n    </tr>\n    <tr>\n      <th>Apurímac</th>\n      <td>90</td>\n    </tr>\n    <tr>\n      <th>Ayacucho</th>\n      <td>89</td>\n    </tr>\n    <tr>\n      <th>Cajamarca</th>\n      <td>88</td>\n    </tr>\n    <tr>\n      <th>Tumbes</th>\n      <td>75</td>\n    </tr>\n    <tr>\n      <th>San Martín</th>\n      <td>59</td>\n    </tr>\n    <tr>\n      <th>Amazonas</th>\n      <td>42</td>\n    </tr>\n    <tr>\n      <th>Huancavelica</th>\n      <td>37</td>\n    </tr>\n    <tr>\n      <th>Madre de Dios</th>\n      <td>34</td>\n    </tr>\n  </tbody>\n</table>\n</div>"
     },
     "metadata": {}
    }
   ],
   "execution_count": null
  },
  {
   "cell_type": "markdown",
   "source": "<a style='text-decoration:none;line-height:16px;display:flex;color:#5B5B62;padding:10px;justify-content:end;' href='https://deepnote.com?utm_source=created-in-deepnote-cell&projectId=61180446-cfea-4338-ac0e-81e50a732b69' target=\"_blank\">\n<img alt='Created in deepnote.com' style='display:inline;max-height:16px;margin:0px;margin-right:7.5px;' src='data:image/svg+xml;base64,PD94bWwgdmVyc2lvbj0iMS4wIiBlbmNvZGluZz0iVVRGLTgiPz4KPHN2ZyB3aWR0aD0iODBweCIgaGVpZ2h0PSI4MHB4IiB2aWV3Qm94PSIwIDAgODAgODAiIHZlcnNpb249IjEuMSIgeG1sbnM9Imh0dHA6Ly93d3cudzMub3JnLzIwMDAvc3ZnIiB4bWxuczp4bGluaz0iaHR0cDovL3d3dy53My5vcmcvMTk5OS94bGluayI+CiAgICA8IS0tIEdlbmVyYXRvcjogU2tldGNoIDU0LjEgKDc2NDkwKSAtIGh0dHBzOi8vc2tldGNoYXBwLmNvbSAtLT4KICAgIDx0aXRsZT5Hcm91cCAzPC90aXRsZT4KICAgIDxkZXNjPkNyZWF0ZWQgd2l0aCBTa2V0Y2guPC9kZXNjPgogICAgPGcgaWQ9IkxhbmRpbmciIHN0cm9rZT0ibm9uZSIgc3Ryb2tlLXdpZHRoPSIxIiBmaWxsPSJub25lIiBmaWxsLXJ1bGU9ImV2ZW5vZGQiPgogICAgICAgIDxnIGlkPSJBcnRib2FyZCIgdHJhbnNmb3JtPSJ0cmFuc2xhdGUoLTEyMzUuMDAwMDAwLCAtNzkuMDAwMDAwKSI+CiAgICAgICAgICAgIDxnIGlkPSJHcm91cC0zIiB0cmFuc2Zvcm09InRyYW5zbGF0ZSgxMjM1LjAwMDAwMCwgNzkuMDAwMDAwKSI+CiAgICAgICAgICAgICAgICA8cG9seWdvbiBpZD0iUGF0aC0yMCIgZmlsbD0iIzAyNjVCNCIgcG9pbnRzPSIyLjM3NjIzNzYyIDgwIDM4LjA0NzY2NjcgODAgNTcuODIxNzgyMiA3My44MDU3NTkyIDU3LjgyMTc4MjIgMzIuNzU5MjczOSAzOS4xNDAyMjc4IDMxLjY4MzE2ODMiPjwvcG9seWdvbj4KICAgICAgICAgICAgICAgIDxwYXRoIGQ9Ik0zNS4wMDc3MTgsODAgQzQyLjkwNjIwMDcsNzYuNDU0OTM1OCA0Ny41NjQ5MTY3LDcxLjU0MjI2NzEgNDguOTgzODY2LDY1LjI2MTk5MzkgQzUxLjExMjI4OTksNTUuODQxNTg0MiA0MS42NzcxNzk1LDQ5LjIxMjIyODQgMjUuNjIzOTg0Niw0OS4yMTIyMjg0IEMyNS40ODQ5Mjg5LDQ5LjEyNjg0NDggMjkuODI2MTI5Niw0My4yODM4MjQ4IDM4LjY0NzU4NjksMzEuNjgzMTY4MyBMNzIuODcxMjg3MSwzMi41NTQ0MjUgTDY1LjI4MDk3Myw2Ny42NzYzNDIxIEw1MS4xMTIyODk5LDc3LjM3NjE0NCBMMzUuMDA3NzE4LDgwIFoiIGlkPSJQYXRoLTIyIiBmaWxsPSIjMDAyODY4Ij48L3BhdGg+CiAgICAgICAgICAgICAgICA8cGF0aCBkPSJNMCwzNy43MzA0NDA1IEwyNy4xMTQ1MzcsMC4yNTcxMTE0MzYgQzYyLjM3MTUxMjMsLTEuOTkwNzE3MDEgODAsMTAuNTAwMzkyNyA4MCwzNy43MzA0NDA1IEM4MCw2NC45NjA0ODgyIDY0Ljc3NjUwMzgsNzkuMDUwMzQxNCAzNC4zMjk1MTEzLDgwIEM0Ny4wNTUzNDg5LDc3LjU2NzA4MDggNTMuNDE4MjY3Nyw3MC4zMTM2MTAzIDUzLjQxODI2NzcsNTguMjM5NTg4NSBDNTMuNDE4MjY3Nyw0MC4xMjg1NTU3IDM2LjMwMzk1NDQsMzcuNzMwNDQwNSAyNS4yMjc0MTcsMzcuNzMwNDQwNSBDMTcuODQzMDU4NiwzNy43MzA0NDA1IDkuNDMzOTE5NjYsMzcuNzMwNDQwNSAwLDM3LjczMDQ0MDUgWiIgaWQ9IlBhdGgtMTkiIGZpbGw9IiMzNzkzRUYiPjwvcGF0aD4KICAgICAgICAgICAgPC9nPgogICAgICAgIDwvZz4KICAgIDwvZz4KPC9zdmc+' > </img>\nCreated in <span style='font-weight:600;margin-left:4px;'>Deepnote</span></a>",
   "metadata": {
    "tags": [],
    "created_in_deepnote_cell": true,
    "deepnote_cell_type": "markdown"
   }
  }
 ],
 "nbformat": 4,
 "nbformat_minor": 2,
 "metadata": {
  "orig_nbformat": 2,
  "deepnote": {
   "is_reactive": false
  },
  "deepnote_notebook_id": "ee6dd0d9-713b-4cda-a809-15a2e0e3a2b7",
  "deepnote_execution_queue": []
 }
}